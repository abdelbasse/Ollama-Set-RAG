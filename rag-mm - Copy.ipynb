{
 "cells": [
  {
   "cell_type": "markdown",
   "metadata": {},
   "source": [
    "To build a RAG (Retrieval-Augmented Generation) system with ChromaDB for storing and searching vectorized data, we can adapt your example to handle the `.csv` file containing Java snippets. Here's a step-by-step explanation and an example in Python:\n",
    "\n",
    "### Steps:\n",
    "\n",
    "1. **Load the Dataset**: Read the `javaSnippets.csv` file.\n",
    "2. **Embed Text**: Use a language model to embed the Java snippets into vector representations.\n",
    "3. **Store in ChromaDB**: Save the embeddings into ChromaDB for retrieval.\n",
    "4. **Search for Snippets**: Perform similarity searches on the database using vectorized queries.\n",
    "\n",
    "### 1. **Install Required Libraries**\n",
    "\n",
    "Before starting, install the necessary libraries:"
   ]
  },
  {
   "cell_type": "code",
   "execution_count": 23,
   "metadata": {},
   "outputs": [],
   "source": [
    "# pip install pandas sentence-transformers chromadb"
   ]
  },
  {
   "cell_type": "markdown",
   "metadata": {},
   "source": [
    "\n",
    "---\n",
    "\n",
    "### 2. **Load and Inspect Data**"
   ]
  },
  {
   "cell_type": "code",
   "execution_count": 1,
   "metadata": {},
   "outputs": [
    {
     "name": "stdout",
     "output_type": "stream",
     "text": [
      "Dataset Preview:\n",
      "      id                                            snippet language  \\\n",
      "0  88608  /*\\r\\n * Copyright 2014 The Netty Project\\r\\n ...     Java   \n",
      "1  88609   * with the License. You may obtain a copy of ...     Java   \n",
      "2  88610   * distributed under the License is distribute...     Java   \n",
      "3  88611  \\r\\npackage io.netty.resolver.dns;\\r\\n\\r\\nimpo...     Java   \n",
      "4  88612  \\r\\nimport java.net.InetSocketAddress;\\r\\nimpo...     Java   \n",
      "\n",
      "                                      repo_file_name  \\\n",
      "0  netty/netty/resolver-dns/src/test/java/io/nett...   \n",
      "1  netty/netty/resolver-dns/src/test/java/io/nett...   \n",
      "2  netty/netty/resolver-dns/src/test/java/io/nett...   \n",
      "3  netty/netty/resolver-dns/src/test/java/io/nett...   \n",
      "4  netty/netty/resolver-dns/src/test/java/io/nett...   \n",
      "\n",
      "                  github_repo_url     license  \\\n",
      "0  https://github.com/netty/netty  Apache-2.0   \n",
      "1  https://github.com/netty/netty  Apache-2.0   \n",
      "2  https://github.com/netty/netty  Apache-2.0   \n",
      "3  https://github.com/netty/netty  Apache-2.0   \n",
      "4  https://github.com/netty/netty  Apache-2.0   \n",
      "\n",
      "                                    commit_hash  starting_line_number  \\\n",
      "0  a60825c3b425892af9be3e9284677aa8a58faa6b\\r\\n                     0   \n",
      "1  a60825c3b425892af9be3e9284677aa8a58faa6b\\r\\n                     5   \n",
      "2  a60825c3b425892af9be3e9284677aa8a58faa6b\\r\\n                    10   \n",
      "3  a60825c3b425892af9be3e9284677aa8a58faa6b\\r\\n                    15   \n",
      "4  a60825c3b425892af9be3e9284677aa8a58faa6b\\r\\n                    20   \n",
      "\n",
      "   chunk_size  \n",
      "0           5  \n",
      "1           5  \n",
      "2           5  \n",
      "3           5  \n",
      "4           5  \n",
      "Loaded 7541424 code snippets.\n"
     ]
    }
   ],
   "source": [
    "import pandas as pd\n",
    "\n",
    "# Step 1: Load the dataset\n",
    "file_path = './datasets/snippets/javaSnippets.csv'  # Update with your file path\n",
    "df = pd.read_csv(file_path)\n",
    "\n",
    "# Inspect the first few rows of the dataset\n",
    "print(\"Dataset Preview:\")\n",
    "print(df.head())\n",
    "\n",
    "# Ensure the column with code snippets is correctly identified\n",
    "column_name = 'snippet'\n",
    "assert column_name in df.columns, f\"Column '{column_name}' not found in the dataset.\"\n",
    "\n",
    "# Extract snippets\n",
    "snippets = df[column_name].tolist()\n",
    "print(f\"Loaded {len(snippets)} code snippets.\")"
   ]
  },
  {
   "cell_type": "markdown",
   "metadata": {},
   "source": [
    "---\n",
    "To clean your dataset (`javaSnippets.csv`), you can follow a structured process similar to the example you provided. Here's how you can clean the data:\n",
    "\n",
    "### Step-by-Step Data Cleaning\n",
    "1. **Check for Missing Values**:\n",
    "   Identify which columns have missing values and decide whether to drop rows or columns or fill missing values.\n",
    "\n",
    "2. **Remove Unnecessary Characters**:\n",
    "   Since the dataset includes code snippets, it’s essential to clean characters like extra whitespace or unnecessary escape sequences (`\\r\\n`).\n",
    "\n",
    "3. **Check for Duplicates**:\n",
    "   Remove duplicate rows to avoid redundant data.\n",
    "\n",
    "4. **Validate Data Types**:\n",
    "   Ensure columns have correct data types (e.g., `starting_line_number` and `chunk_size` should be integers).\n",
    "\n",
    "5. **Filter Invalid Data**:\n",
    "   Remove rows with invalid or irrelevant data (e.g., empty or overly short snippets).\n",
    "\n",
    "Here's the Python code for cleaning your dataset:"
   ]
  },
  {
   "cell_type": "code",
   "execution_count": null,
   "metadata": {},
   "outputs": [
    {
     "name": "stdout",
     "output_type": "stream",
     "text": [
      "Requirement already satisfied: dask[dataframe] in e:\\desktop\\schoole\\enset\\bdcc-2\\semester 3\\poo java\\@@project java llm\\test\\file pdf md test\\ollama-set-rag\\.venv\\lib\\site-packages (2024.12.1)\n",
      "Requirement already satisfied: click>=8.1 in e:\\desktop\\schoole\\enset\\bdcc-2\\semester 3\\poo java\\@@project java llm\\test\\file pdf md test\\ollama-set-rag\\.venv\\lib\\site-packages (from dask[dataframe]) (8.1.7)\n",
      "Requirement already satisfied: cloudpickle>=3.0.0 in e:\\desktop\\schoole\\enset\\bdcc-2\\semester 3\\poo java\\@@project java llm\\test\\file pdf md test\\ollama-set-rag\\.venv\\lib\\site-packages (from dask[dataframe]) (3.1.0)\n",
      "Requirement already satisfied: fsspec>=2021.09.0 in e:\\desktop\\schoole\\enset\\bdcc-2\\semester 3\\poo java\\@@project java llm\\test\\file pdf md test\\ollama-set-rag\\.venv\\lib\\site-packages (from dask[dataframe]) (2024.10.0)\n",
      "Requirement already satisfied: packaging>=20.0 in e:\\desktop\\schoole\\enset\\bdcc-2\\semester 3\\poo java\\@@project java llm\\test\\file pdf md test\\ollama-set-rag\\.venv\\lib\\site-packages (from dask[dataframe]) (24.2)\n",
      "Requirement already satisfied: partd>=1.4.0 in e:\\desktop\\schoole\\enset\\bdcc-2\\semester 3\\poo java\\@@project java llm\\test\\file pdf md test\\ollama-set-rag\\.venv\\lib\\site-packages (from dask[dataframe]) (1.4.2)\n",
      "Requirement already satisfied: pyyaml>=5.3.1 in e:\\desktop\\schoole\\enset\\bdcc-2\\semester 3\\poo java\\@@project java llm\\test\\file pdf md test\\ollama-set-rag\\.venv\\lib\\site-packages (from dask[dataframe]) (6.0.2)\n",
      "Requirement already satisfied: toolz>=0.10.0 in e:\\desktop\\schoole\\enset\\bdcc-2\\semester 3\\poo java\\@@project java llm\\test\\file pdf md test\\ollama-set-rag\\.venv\\lib\\site-packages (from dask[dataframe]) (1.0.0)\n",
      "Requirement already satisfied: pandas>=2.0 in e:\\desktop\\schoole\\enset\\bdcc-2\\semester 3\\poo java\\@@project java llm\\test\\file pdf md test\\ollama-set-rag\\.venv\\lib\\site-packages (from dask[dataframe]) (2.2.3)\n",
      "Collecting dask-expr<1.2,>=1.1 (from dask[dataframe])\n",
      "  Downloading dask_expr-1.1.21-py3-none-any.whl.metadata (2.6 kB)\n",
      "Requirement already satisfied: colorama in e:\\desktop\\schoole\\enset\\bdcc-2\\semester 3\\poo java\\@@project java llm\\test\\file pdf md test\\ollama-set-rag\\.venv\\lib\\site-packages (from click>=8.1->dask[dataframe]) (0.4.6)\n",
      "Collecting pyarrow>=14.0.1 (from dask-expr<1.2,>=1.1->dask[dataframe])\n",
      "  Using cached pyarrow-18.1.0-cp312-cp312-win_amd64.whl.metadata (3.4 kB)\n",
      "Requirement already satisfied: numpy>=1.26.0 in e:\\desktop\\schoole\\enset\\bdcc-2\\semester 3\\poo java\\@@project java llm\\test\\file pdf md test\\ollama-set-rag\\.venv\\lib\\site-packages (from pandas>=2.0->dask[dataframe]) (2.2.0)\n",
      "Requirement already satisfied: python-dateutil>=2.8.2 in e:\\desktop\\schoole\\enset\\bdcc-2\\semester 3\\poo java\\@@project java llm\\test\\file pdf md test\\ollama-set-rag\\.venv\\lib\\site-packages (from pandas>=2.0->dask[dataframe]) (2.9.0.post0)\n",
      "Requirement already satisfied: pytz>=2020.1 in e:\\desktop\\schoole\\enset\\bdcc-2\\semester 3\\poo java\\@@project java llm\\test\\file pdf md test\\ollama-set-rag\\.venv\\lib\\site-packages (from pandas>=2.0->dask[dataframe]) (2024.2)\n",
      "Requirement already satisfied: tzdata>=2022.7 in e:\\desktop\\schoole\\enset\\bdcc-2\\semester 3\\poo java\\@@project java llm\\test\\file pdf md test\\ollama-set-rag\\.venv\\lib\\site-packages (from pandas>=2.0->dask[dataframe]) (2024.2)\n",
      "Requirement already satisfied: locket in e:\\desktop\\schoole\\enset\\bdcc-2\\semester 3\\poo java\\@@project java llm\\test\\file pdf md test\\ollama-set-rag\\.venv\\lib\\site-packages (from partd>=1.4.0->dask[dataframe]) (1.0.0)\n",
      "Requirement already satisfied: six>=1.5 in e:\\desktop\\schoole\\enset\\bdcc-2\\semester 3\\poo java\\@@project java llm\\test\\file pdf md test\\ollama-set-rag\\.venv\\lib\\site-packages (from python-dateutil>=2.8.2->pandas>=2.0->dask[dataframe]) (1.17.0)\n",
      "Downloading dask_expr-1.1.21-py3-none-any.whl (244 kB)\n",
      "Using cached pyarrow-18.1.0-cp312-cp312-win_amd64.whl (25.1 MB)\n",
      "Installing collected packages: pyarrow, dask-expr\n",
      "Successfully installed dask-expr-1.1.21 pyarrow-18.1.0\n",
      "Note: you may need to restart the kernel to use updated packages.\n"
     ]
    }
   ],
   "source": [
    "# pip install dask[dataframe]"
   ]
  },
  {
   "cell_type": "code",
   "execution_count": 2,
   "metadata": {},
   "outputs": [
    {
     "data": {
      "text/plain": [
       "id                      0\n",
       "snippet                 0\n",
       "language                0\n",
       "repo_file_name          0\n",
       "github_repo_url         0\n",
       "license                 0\n",
       "commit_hash             0\n",
       "starting_line_number    0\n",
       "chunk_size              0\n",
       "dtype: int64"
      ]
     },
     "execution_count": 2,
     "metadata": {},
     "output_type": "execute_result"
    }
   ],
   "source": [
    "df.isna().sum()\n",
    "# Columns exp and topic_name contain missing values, we will drop rows with missing values in both columns\n",
    "df = df.dropna(subset=[\"snippet\"])\n",
    "df.isna().sum()\n",
    "df = df.dropna(subset=[\"repo_file_name\"])\n",
    "df.isna().sum()\n",
    "df = df.dropna(subset=[\"github_repo_url\"])\n",
    "df.isna().sum()"
   ]
  },
  {
   "cell_type": "markdown",
   "metadata": {},
   "source": [
    "### Explanation of the Code\n",
    "1. **Handling Missing Values**:\n",
    "   - Identifies columns with missing values and drops rows where critical columns (`snippet`, `repo_file_name`, etc.) are empty.\n",
    "   \n",
    "2. **Removing Unnecessary Characters**:\n",
    "   - Replaces `\\r\\n` with `\\n` for better readability of the code snippets.\n",
    "   - Trims leading/trailing whitespace.\n",
    "\n",
    "3. **Removing Duplicates**:\n",
    "   - Removes rows with identical values across all columns.\n",
    "\n",
    "4. **Validating Data Types**:\n",
    "   - Ensures numeric columns like `starting_line_number` and `chunk_size` are properly formatted.\n",
    "\n",
    "5. **Filtering Invalid Snippets**:\n",
    "   - Removes rows with overly short or invalid snippets (e.g., fewer than 10 characters).\n",
    "\n",
    "### Next Steps\n",
    "- Save the cleaned dataset for further processing:\n",
    "  "
   ]
  },
  {
   "cell_type": "code",
   "execution_count": 4,
   "metadata": {},
   "outputs": [
    {
     "name": "stdout",
     "output_type": "stream",
     "text": [
      "Collecting datasets\n",
      "  Using cached datasets-3.2.0-py3-none-any.whl.metadata (20 kB)\n",
      "Requirement already satisfied: filelock in e:\\desktop\\schoole\\enset\\bdcc-2\\semester 3\\poo java\\@@project java llm\\test\\file pdf md test\\ollama-set-rag\\.venv\\lib\\site-packages (from datasets) (3.16.1)\n",
      "Requirement already satisfied: numpy>=1.17 in e:\\desktop\\schoole\\enset\\bdcc-2\\semester 3\\poo java\\@@project java llm\\test\\file pdf md test\\ollama-set-rag\\.venv\\lib\\site-packages (from datasets) (2.2.0)\n",
      "Requirement already satisfied: pyarrow>=15.0.0 in e:\\desktop\\schoole\\enset\\bdcc-2\\semester 3\\poo java\\@@project java llm\\test\\file pdf md test\\ollama-set-rag\\.venv\\lib\\site-packages (from datasets) (18.1.0)\n",
      "Collecting dill<0.3.9,>=0.3.0 (from datasets)\n",
      "  Downloading dill-0.3.8-py3-none-any.whl.metadata (10 kB)\n",
      "Requirement already satisfied: pandas in e:\\desktop\\schoole\\enset\\bdcc-2\\semester 3\\poo java\\@@project java llm\\test\\file pdf md test\\ollama-set-rag\\.venv\\lib\\site-packages (from datasets) (2.2.3)\n",
      "Requirement already satisfied: requests>=2.32.2 in e:\\desktop\\schoole\\enset\\bdcc-2\\semester 3\\poo java\\@@project java llm\\test\\file pdf md test\\ollama-set-rag\\.venv\\lib\\site-packages (from datasets) (2.32.3)\n",
      "Requirement already satisfied: tqdm>=4.66.3 in e:\\desktop\\schoole\\enset\\bdcc-2\\semester 3\\poo java\\@@project java llm\\test\\file pdf md test\\ollama-set-rag\\.venv\\lib\\site-packages (from datasets) (4.67.1)\n",
      "Collecting xxhash (from datasets)\n",
      "  Using cached xxhash-3.5.0-cp312-cp312-win_amd64.whl.metadata (13 kB)\n",
      "Collecting multiprocess<0.70.17 (from datasets)\n",
      "  Using cached multiprocess-0.70.16-py312-none-any.whl.metadata (7.2 kB)\n",
      "Collecting fsspec<=2024.9.0,>=2023.1.0 (from fsspec[http]<=2024.9.0,>=2023.1.0->datasets)\n",
      "  Downloading fsspec-2024.9.0-py3-none-any.whl.metadata (11 kB)\n",
      "Collecting aiohttp (from datasets)\n",
      "  Downloading aiohttp-3.11.11-cp312-cp312-win_amd64.whl.metadata (8.0 kB)\n",
      "Requirement already satisfied: huggingface-hub>=0.23.0 in e:\\desktop\\schoole\\enset\\bdcc-2\\semester 3\\poo java\\@@project java llm\\test\\file pdf md test\\ollama-set-rag\\.venv\\lib\\site-packages (from datasets) (0.27.0)\n",
      "Requirement already satisfied: packaging in e:\\desktop\\schoole\\enset\\bdcc-2\\semester 3\\poo java\\@@project java llm\\test\\file pdf md test\\ollama-set-rag\\.venv\\lib\\site-packages (from datasets) (24.2)\n",
      "Requirement already satisfied: pyyaml>=5.1 in e:\\desktop\\schoole\\enset\\bdcc-2\\semester 3\\poo java\\@@project java llm\\test\\file pdf md test\\ollama-set-rag\\.venv\\lib\\site-packages (from datasets) (6.0.2)\n",
      "Collecting aiohappyeyeballs>=2.3.0 (from aiohttp->datasets)\n",
      "  Using cached aiohappyeyeballs-2.4.4-py3-none-any.whl.metadata (6.1 kB)\n",
      "Collecting aiosignal>=1.1.2 (from aiohttp->datasets)\n",
      "  Downloading aiosignal-1.3.2-py2.py3-none-any.whl.metadata (3.8 kB)\n",
      "Collecting attrs>=17.3.0 (from aiohttp->datasets)\n",
      "  Downloading attrs-24.3.0-py3-none-any.whl.metadata (11 kB)\n",
      "Collecting frozenlist>=1.1.1 (from aiohttp->datasets)\n",
      "  Using cached frozenlist-1.5.0-cp312-cp312-win_amd64.whl.metadata (14 kB)\n",
      "Collecting multidict<7.0,>=4.5 (from aiohttp->datasets)\n",
      "  Using cached multidict-6.1.0-cp312-cp312-win_amd64.whl.metadata (5.1 kB)\n",
      "Collecting propcache>=0.2.0 (from aiohttp->datasets)\n",
      "  Using cached propcache-0.2.1-cp312-cp312-win_amd64.whl.metadata (9.5 kB)\n",
      "Collecting yarl<2.0,>=1.17.0 (from aiohttp->datasets)\n",
      "  Using cached yarl-1.18.3-cp312-cp312-win_amd64.whl.metadata (71 kB)\n",
      "Requirement already satisfied: typing-extensions>=3.7.4.3 in e:\\desktop\\schoole\\enset\\bdcc-2\\semester 3\\poo java\\@@project java llm\\test\\file pdf md test\\ollama-set-rag\\.venv\\lib\\site-packages (from huggingface-hub>=0.23.0->datasets) (4.12.2)\n",
      "Requirement already satisfied: charset-normalizer<4,>=2 in e:\\desktop\\schoole\\enset\\bdcc-2\\semester 3\\poo java\\@@project java llm\\test\\file pdf md test\\ollama-set-rag\\.venv\\lib\\site-packages (from requests>=2.32.2->datasets) (3.4.0)\n",
      "Requirement already satisfied: idna<4,>=2.5 in e:\\desktop\\schoole\\enset\\bdcc-2\\semester 3\\poo java\\@@project java llm\\test\\file pdf md test\\ollama-set-rag\\.venv\\lib\\site-packages (from requests>=2.32.2->datasets) (3.10)\n",
      "Requirement already satisfied: urllib3<3,>=1.21.1 in e:\\desktop\\schoole\\enset\\bdcc-2\\semester 3\\poo java\\@@project java llm\\test\\file pdf md test\\ollama-set-rag\\.venv\\lib\\site-packages (from requests>=2.32.2->datasets) (2.2.3)\n",
      "Requirement already satisfied: certifi>=2017.4.17 in e:\\desktop\\schoole\\enset\\bdcc-2\\semester 3\\poo java\\@@project java llm\\test\\file pdf md test\\ollama-set-rag\\.venv\\lib\\site-packages (from requests>=2.32.2->datasets) (2024.12.14)\n",
      "Requirement already satisfied: colorama in e:\\desktop\\schoole\\enset\\bdcc-2\\semester 3\\poo java\\@@project java llm\\test\\file pdf md test\\ollama-set-rag\\.venv\\lib\\site-packages (from tqdm>=4.66.3->datasets) (0.4.6)\n",
      "Requirement already satisfied: python-dateutil>=2.8.2 in e:\\desktop\\schoole\\enset\\bdcc-2\\semester 3\\poo java\\@@project java llm\\test\\file pdf md test\\ollama-set-rag\\.venv\\lib\\site-packages (from pandas->datasets) (2.9.0.post0)\n",
      "Requirement already satisfied: pytz>=2020.1 in e:\\desktop\\schoole\\enset\\bdcc-2\\semester 3\\poo java\\@@project java llm\\test\\file pdf md test\\ollama-set-rag\\.venv\\lib\\site-packages (from pandas->datasets) (2024.2)\n",
      "Requirement already satisfied: tzdata>=2022.7 in e:\\desktop\\schoole\\enset\\bdcc-2\\semester 3\\poo java\\@@project java llm\\test\\file pdf md test\\ollama-set-rag\\.venv\\lib\\site-packages (from pandas->datasets) (2024.2)\n",
      "Requirement already satisfied: six>=1.5 in e:\\desktop\\schoole\\enset\\bdcc-2\\semester 3\\poo java\\@@project java llm\\test\\file pdf md test\\ollama-set-rag\\.venv\\lib\\site-packages (from python-dateutil>=2.8.2->pandas->datasets) (1.17.0)\n",
      "Using cached datasets-3.2.0-py3-none-any.whl (480 kB)\n",
      "Downloading dill-0.3.8-py3-none-any.whl (116 kB)\n",
      "Downloading fsspec-2024.9.0-py3-none-any.whl (179 kB)\n",
      "Downloading aiohttp-3.11.11-cp312-cp312-win_amd64.whl (437 kB)\n",
      "Using cached multiprocess-0.70.16-py312-none-any.whl (146 kB)\n",
      "Using cached xxhash-3.5.0-cp312-cp312-win_amd64.whl (30 kB)\n",
      "Using cached aiohappyeyeballs-2.4.4-py3-none-any.whl (14 kB)\n",
      "Downloading aiosignal-1.3.2-py2.py3-none-any.whl (7.6 kB)\n",
      "Downloading attrs-24.3.0-py3-none-any.whl (63 kB)\n",
      "Using cached frozenlist-1.5.0-cp312-cp312-win_amd64.whl (51 kB)\n",
      "Using cached multidict-6.1.0-cp312-cp312-win_amd64.whl (28 kB)\n",
      "Using cached propcache-0.2.1-cp312-cp312-win_amd64.whl (44 kB)\n",
      "Using cached yarl-1.18.3-cp312-cp312-win_amd64.whl (90 kB)\n",
      "Installing collected packages: xxhash, propcache, multidict, fsspec, frozenlist, dill, attrs, aiohappyeyeballs, yarl, multiprocess, aiosignal, aiohttp, datasets\n",
      "  Attempting uninstall: fsspec\n",
      "    Found existing installation: fsspec 2024.10.0\n",
      "    Uninstalling fsspec-2024.10.0:\n",
      "      Successfully uninstalled fsspec-2024.10.0\n",
      "Successfully installed aiohappyeyeballs-2.4.4 aiohttp-3.11.11 aiosignal-1.3.2 attrs-24.3.0 datasets-3.2.0 dill-0.3.8 frozenlist-1.5.0 fsspec-2024.9.0 multidict-6.1.0 multiprocess-0.70.16 propcache-0.2.1 xxhash-3.5.0 yarl-1.18.3\n",
      "Note: you may need to restart the kernel to use updated packages.\n"
     ]
    }
   ],
   "source": [
    "pip install datasets"
   ]
  },
  {
   "cell_type": "code",
   "execution_count": 9,
   "metadata": {},
   "outputs": [
    {
     "name": "stderr",
     "output_type": "stream",
     "text": [
      "Saving the dataset (1/1 shards): 100%|██████████| 10000/10000 [00:00<00:00, 35855.89 examples/s]\n",
      "Saving the dataset (1/1 shards): 100%|██████████| 10000/10000 [00:00<00:00, 429234.11 examples/s]\n",
      "Saving the dataset (1/1 shards): 100%|██████████| 10000/10000 [00:00<00:00, 488487.94 examples/s]\n",
      "Saving the dataset (1/1 shards): 100%|██████████| 10000/10000 [00:00<00:00, 528795.99 examples/s]\n",
      "Saving the dataset (1/1 shards): 100%|██████████| 10000/10000 [00:00<00:00, 448382.46 examples/s]\n",
      "Saving the dataset (1/1 shards): 100%|██████████| 10000/10000 [00:00<00:00, 515201.14 examples/s] \n",
      "Saving the dataset (1/1 shards): 100%|██████████| 10000/10000 [00:00<00:00, 282861.86 examples/s]\n",
      "Saving the dataset (1/1 shards): 100%|██████████| 10000/10000 [00:00<00:00, 420532.19 examples/s]\n",
      "Saving the dataset (1/1 shards): 100%|██████████| 10000/10000 [00:00<00:00, 435346.67 examples/s]\n",
      "Saving the dataset (1/1 shards): 100%|██████████| 10000/10000 [00:00<00:00, 923408.04 examples/s]\n",
      "Saving the dataset (1/1 shards): 100%|██████████| 10000/10000 [00:00<00:00, 445723.64 examples/s]\n",
      "Saving the dataset (1/1 shards): 100%|██████████| 10000/10000 [00:00<00:00, 363099.19 examples/s]\n",
      "Saving the dataset (1/1 shards): 100%|██████████| 10000/10000 [00:00<00:00, 442736.02 examples/s]\n",
      "Saving the dataset (1/1 shards): 100%|██████████| 10000/10000 [00:00<00:00, 491746.66 examples/s]\n",
      "Saving the dataset (1/1 shards): 100%|██████████| 10000/10000 [00:00<00:00, 211264.83 examples/s]\n",
      "Saving the dataset (1/1 shards): 100%|██████████| 10000/10000 [00:00<00:00, 307583.73 examples/s]\n",
      "Saving the dataset (1/1 shards): 100%|██████████| 10000/10000 [00:00<00:00, 389678.45 examples/s]\n",
      "Saving the dataset (1/1 shards): 100%|██████████| 10000/10000 [00:00<00:00, 278079.71 examples/s]\n",
      "Saving the dataset (1/1 shards): 100%|██████████| 10000/10000 [00:00<00:00, 151073.14 examples/s]\n",
      "Saving the dataset (1/1 shards): 100%|██████████| 10000/10000 [00:00<00:00, 340010.70 examples/s]\n",
      "Saving the dataset (1/1 shards): 100%|██████████| 10000/10000 [00:00<00:00, 901748.76 examples/s]\n",
      "Saving the dataset (1/1 shards): 100%|██████████| 10000/10000 [00:00<00:00, 447569.07 examples/s]\n",
      "Saving the dataset (1/1 shards): 100%|██████████| 10000/10000 [00:00<00:00, 362669.06 examples/s]\n",
      "Saving the dataset (1/1 shards): 100%|██████████| 10000/10000 [00:00<00:00, 281564.94 examples/s]\n",
      "Saving the dataset (1/1 shards): 100%|██████████| 10000/10000 [00:00<00:00, 260194.17 examples/s]\n",
      "Saving the dataset (1/1 shards): 100%|██████████| 10000/10000 [00:00<00:00, 518493.83 examples/s]\n",
      "Saving the dataset (1/1 shards): 100%|██████████| 10000/10000 [00:00<00:00, 447101.51 examples/s] \n",
      "Saving the dataset (1/1 shards): 100%|██████████| 10000/10000 [00:00<00:00, 296030.21 examples/s]\n",
      "Saving the dataset (1/1 shards): 100%|██████████| 10000/10000 [00:00<00:00, 707147.51 examples/s]\n",
      "Saving the dataset (1/1 shards): 100%|██████████| 10000/10000 [00:00<00:00, 223557.91 examples/s]\n",
      "Saving the dataset (1/1 shards): 100%|██████████| 10000/10000 [00:00<00:00, 307439.44 examples/s]\n",
      "Saving the dataset (1/1 shards): 100%|██████████| 10000/10000 [00:00<00:00, 153510.99 examples/s]\n",
      "Saving the dataset (1/1 shards): 100%|██████████| 10000/10000 [00:00<00:00, 350304.76 examples/s]\n",
      "Saving the dataset (1/1 shards): 100%|██████████| 10000/10000 [00:00<00:00, 203425.29 examples/s]\n",
      "Saving the dataset (1/1 shards): 100%|██████████| 10000/10000 [00:00<00:00, 250201.57 examples/s]\n",
      "Saving the dataset (1/1 shards): 100%|██████████| 10000/10000 [00:00<00:00, 278465.56 examples/s]\n",
      "Saving the dataset (1/1 shards): 100%|██████████| 10000/10000 [00:00<00:00, 162317.64 examples/s]\n",
      "Saving the dataset (1/1 shards): 100%|██████████| 10000/10000 [00:00<00:00, 241147.58 examples/s]\n",
      "Saving the dataset (1/1 shards): 100%|██████████| 10000/10000 [00:00<00:00, 243400.63 examples/s]\n",
      "Saving the dataset (1/1 shards): 100%|██████████| 10000/10000 [00:00<00:00, 137800.99 examples/s]\n",
      "Saving the dataset (1/1 shards): 100%|██████████| 10000/10000 [00:00<00:00, 35283.14 examples/s]\n",
      "Saving the dataset (1/1 shards): 100%|██████████| 10000/10000 [00:00<00:00, 350263.81 examples/s] \n",
      "Saving the dataset (1/1 shards): 100%|██████████| 10000/10000 [00:00<00:00, 550238.63 examples/s]\n",
      "Saving the dataset (1/1 shards): 100%|██████████| 10000/10000 [00:00<00:00, 264659.92 examples/s]\n",
      "Saving the dataset (1/1 shards): 100%|██████████| 10000/10000 [00:00<00:00, 387028.38 examples/s]\n",
      "Saving the dataset (1/1 shards): 100%|██████████| 10000/10000 [00:00<00:00, 216102.10 examples/s]\n",
      "Saving the dataset (1/1 shards): 100%|██████████| 10000/10000 [00:00<00:00, 273356.75 examples/s]\n",
      "Saving the dataset (1/1 shards): 100%|██████████| 10000/10000 [00:00<00:00, 35333.04 examples/s]\n",
      "Saving the dataset (1/1 shards): 100%|██████████| 10000/10000 [00:00<00:00, 296782.19 examples/s]\n",
      "Saving the dataset (1/1 shards): 100%|██████████| 10000/10000 [00:00<00:00, 285072.76 examples/s]\n",
      "Saving the dataset (1/1 shards): 100%|██████████| 10000/10000 [00:00<00:00, 389703.79 examples/s]\n",
      "Saving the dataset (1/1 shards): 100%|██████████| 10000/10000 [00:00<00:00, 333768.67 examples/s]\n",
      "Saving the dataset (1/1 shards): 100%|██████████| 10000/10000 [00:00<00:00, 285055.32 examples/s]\n",
      "Saving the dataset (1/1 shards): 100%|██████████| 10000/10000 [00:00<00:00, 638363.57 examples/s]\n",
      "Saving the dataset (1/1 shards): 100%|██████████| 10000/10000 [00:00<00:00, 635173.40 examples/s]\n",
      "Saving the dataset (1/1 shards): 100%|██████████| 10000/10000 [00:00<00:00, 255926.58 examples/s]\n",
      "Saving the dataset (1/1 shards): 100%|██████████| 10000/10000 [00:00<00:00, 224937.87 examples/s]\n",
      "Saving the dataset (1/1 shards): 100%|██████████| 10000/10000 [00:00<00:00, 102657.65 examples/s]\n",
      "Saving the dataset (1/1 shards): 100%|██████████| 10000/10000 [00:00<00:00, 40156.52 examples/s]\n",
      "Saving the dataset (1/1 shards): 100%|██████████| 10000/10000 [00:00<00:00, 110907.02 examples/s]\n",
      "Saving the dataset (1/1 shards): 100%|██████████| 10000/10000 [00:00<00:00, 74211.43 examples/s]\n",
      "Saving the dataset (1/1 shards): 100%|██████████| 10000/10000 [00:00<00:00, 83114.45 examples/s]\n",
      "Saving the dataset (1/1 shards): 100%|██████████| 10000/10000 [00:00<00:00, 44952.86 examples/s]\n",
      "Saving the dataset (1/1 shards): 100%|██████████| 10000/10000 [00:00<00:00, 70594.18 examples/s]\n",
      "Saving the dataset (1/1 shards): 100%|██████████| 10000/10000 [00:00<00:00, 48632.83 examples/s]\n",
      "Saving the dataset (1/1 shards): 100%|██████████| 10000/10000 [00:00<00:00, 16554.23 examples/s]\n",
      "Saving the dataset (1/1 shards): 100%|██████████| 10000/10000 [00:00<00:00, 63242.57 examples/s]\n",
      "Saving the dataset (1/1 shards): 100%|██████████| 10000/10000 [00:00<00:00, 55930.77 examples/s]\n",
      "Saving the dataset (1/1 shards): 100%|██████████| 10000/10000 [00:00<00:00, 216009.72 examples/s]\n",
      "Saving the dataset (1/1 shards): 100%|██████████| 10000/10000 [00:00<00:00, 237958.49 examples/s]\n",
      "Saving the dataset (1/1 shards): 100%|██████████| 10000/10000 [00:00<00:00, 325240.69 examples/s]\n",
      "Saving the dataset (1/1 shards): 100%|██████████| 10000/10000 [00:00<00:00, 159751.36 examples/s]\n",
      "Saving the dataset (1/1 shards): 100%|██████████| 10000/10000 [00:00<00:00, 568649.79 examples/s]\n",
      "Saving the dataset (1/1 shards): 100%|██████████| 10000/10000 [00:00<00:00, 385275.71 examples/s]\n",
      "Saving the dataset (1/1 shards): 100%|██████████| 10000/10000 [00:00<00:00, 261254.10 examples/s]\n",
      "Saving the dataset (1/1 shards): 100%|██████████| 10000/10000 [00:00<00:00, 147444.31 examples/s]\n",
      "Saving the dataset (1/1 shards): 100%|██████████| 10000/10000 [00:00<00:00, 291651.88 examples/s]\n",
      "Saving the dataset (1/1 shards): 100%|██████████| 10000/10000 [00:00<00:00, 100501.37 examples/s]\n",
      "Saving the dataset (1/1 shards): 100%|██████████| 10000/10000 [00:00<00:00, 40599.99 examples/s]\n",
      "Saving the dataset (1/1 shards): 100%|██████████| 10000/10000 [00:00<00:00, 66245.03 examples/s]\n",
      "Saving the dataset (1/1 shards): 100%|██████████| 10000/10000 [00:00<00:00, 170417.72 examples/s]\n",
      "Saving the dataset (1/1 shards): 100%|██████████| 10000/10000 [00:00<00:00, 799234.74 examples/s]\n",
      "Saving the dataset (1/1 shards): 100%|██████████| 10000/10000 [00:00<00:00, 711514.02 examples/s]\n",
      "Saving the dataset (1/1 shards): 100%|██████████| 10000/10000 [00:00<00:00, 453600.10 examples/s]\n",
      "Saving the dataset (1/1 shards): 100%|██████████| 10000/10000 [00:00<00:00, 274937.17 examples/s]\n",
      "Saving the dataset (1/1 shards): 100%|██████████| 10000/10000 [00:00<00:00, 60703.53 examples/s]\n",
      "Saving the dataset (1/1 shards): 100%|██████████| 10000/10000 [00:00<00:00, 375262.06 examples/s]\n",
      "Saving the dataset (1/1 shards): 100%|██████████| 10000/10000 [00:00<00:00, 268972.54 examples/s]\n",
      "Saving the dataset (1/1 shards): 100%|██████████| 10000/10000 [00:00<00:00, 313522.50 examples/s]\n",
      "Saving the dataset (1/1 shards): 100%|██████████| 10000/10000 [00:00<00:00, 339760.06 examples/s]\n",
      "Saving the dataset (1/1 shards): 100%|██████████| 10000/10000 [00:00<00:00, 289284.29 examples/s]\n",
      "Saving the dataset (1/1 shards): 100%|██████████| 10000/10000 [00:00<00:00, 314691.60 examples/s]\n",
      "Saving the dataset (1/1 shards): 100%|██████████| 10000/10000 [00:00<00:00, 268776.05 examples/s]\n",
      "Saving the dataset (1/1 shards): 100%|██████████| 10000/10000 [00:00<00:00, 84542.13 examples/s]\n",
      "Saving the dataset (1/1 shards): 100%|██████████| 10000/10000 [00:00<00:00, 86091.57 examples/s]\n",
      "Saving the dataset (1/1 shards): 100%|██████████| 10000/10000 [00:00<00:00, 106766.31 examples/s]\n",
      "Saving the dataset (1/1 shards): 100%|██████████| 10000/10000 [00:00<00:00, 97085.65 examples/s]\n",
      "Saving the dataset (1/1 shards): 100%|██████████| 10000/10000 [00:00<00:00, 32243.94 examples/s]\n",
      "Saving the dataset (1/1 shards): 100%|██████████| 10000/10000 [00:00<00:00, 146950.97 examples/s]\n",
      "Saving the dataset (1/1 shards): 100%|██████████| 10000/10000 [00:00<00:00, 18848.56 examples/s]\n",
      "Saving the dataset (1/1 shards): 100%|██████████| 10000/10000 [00:00<00:00, 348407.53 examples/s]\n",
      "Saving the dataset (1/1 shards): 100%|██████████| 10000/10000 [00:00<00:00, 265606.85 examples/s]\n",
      "Saving the dataset (1/1 shards): 100%|██████████| 10000/10000 [00:00<00:00, 172856.92 examples/s]\n",
      "Saving the dataset (1/1 shards): 100%|██████████| 10000/10000 [00:00<00:00, 252583.71 examples/s]\n",
      "Saving the dataset (1/1 shards): 100%|██████████| 10000/10000 [00:00<00:00, 368697.61 examples/s]\n",
      "Saving the dataset (1/1 shards): 100%|██████████| 10000/10000 [00:00<00:00, 308162.25 examples/s]\n",
      "Saving the dataset (1/1 shards): 100%|██████████| 10000/10000 [00:00<00:00, 354410.29 examples/s]\n",
      "Saving the dataset (1/1 shards): 100%|██████████| 10000/10000 [00:00<00:00, 317950.23 examples/s]\n",
      "Saving the dataset (1/1 shards): 100%|██████████| 10000/10000 [00:00<00:00, 101249.33 examples/s]\n",
      "Saving the dataset (1/1 shards): 100%|██████████| 10000/10000 [00:00<00:00, 111189.57 examples/s]\n",
      "Saving the dataset (1/1 shards): 100%|██████████| 10000/10000 [00:00<00:00, 59801.93 examples/s]\n",
      "Saving the dataset (1/1 shards): 100%|██████████| 10000/10000 [00:00<00:00, 112068.96 examples/s]\n",
      "Saving the dataset (1/1 shards): 100%|██████████| 10000/10000 [00:00<00:00, 253570.16 examples/s]\n",
      "Saving the dataset (1/1 shards): 100%|██████████| 10000/10000 [00:00<00:00, 291489.73 examples/s]\n",
      "Saving the dataset (1/1 shards): 100%|██████████| 10000/10000 [00:00<00:00, 296582.83 examples/s]\n",
      "Saving the dataset (1/1 shards): 100%|██████████| 10000/10000 [00:00<00:00, 112036.63 examples/s]\n",
      "Saving the dataset (1/1 shards): 100%|██████████| 10000/10000 [00:00<00:00, 156870.89 examples/s]\n",
      "Saving the dataset (1/1 shards): 100%|██████████| 10000/10000 [00:00<00:00, 278164.54 examples/s]\n",
      "Saving the dataset (1/1 shards): 100%|██████████| 10000/10000 [00:00<00:00, 417518.17 examples/s]\n",
      "Saving the dataset (1/1 shards): 100%|██████████| 10000/10000 [00:00<00:00, 244382.01 examples/s]\n",
      "Saving the dataset (1/1 shards): 100%|██████████| 10000/10000 [00:00<00:00, 267929.60 examples/s]\n",
      "Saving the dataset (1/1 shards): 100%|██████████| 10000/10000 [00:00<00:00, 315626.99 examples/s]\n",
      "Saving the dataset (1/1 shards): 100%|██████████| 10000/10000 [00:00<00:00, 405180.21 examples/s]\n",
      "Saving the dataset (1/1 shards): 100%|██████████| 10000/10000 [00:00<00:00, 189065.47 examples/s]\n",
      "Saving the dataset (1/1 shards): 100%|██████████| 10000/10000 [00:00<00:00, 89139.42 examples/s]\n",
      "Saving the dataset (1/1 shards): 100%|██████████| 10000/10000 [00:00<00:00, 113817.30 examples/s]\n",
      "Saving the dataset (1/1 shards): 100%|██████████| 10000/10000 [00:00<00:00, 105709.09 examples/s]\n",
      "Saving the dataset (1/1 shards): 100%|██████████| 10000/10000 [00:00<00:00, 23440.02 examples/s]\n",
      "Saving the dataset (1/1 shards): 100%|██████████| 10000/10000 [00:00<00:00, 361531.18 examples/s]\n",
      "Saving the dataset (1/1 shards): 100%|██████████| 10000/10000 [00:00<00:00, 235151.54 examples/s]\n",
      "Saving the dataset (1/1 shards): 100%|██████████| 10000/10000 [00:00<00:00, 59737.11 examples/s]\n",
      "Saving the dataset (1/1 shards): 100%|██████████| 10000/10000 [00:00<00:00, 366593.31 examples/s]\n",
      "Saving the dataset (1/1 shards): 100%|██████████| 10000/10000 [00:00<00:00, 506729.81 examples/s]\n",
      "Saving the dataset (1/1 shards): 100%|██████████| 10000/10000 [00:00<00:00, 265054.63 examples/s]\n",
      "Saving the dataset (1/1 shards): 100%|██████████| 10000/10000 [00:00<00:00, 225841.41 examples/s]\n",
      "Saving the dataset (1/1 shards): 100%|██████████| 10000/10000 [00:00<00:00, 433667.71 examples/s]\n",
      "Saving the dataset (1/1 shards): 100%|██████████| 10000/10000 [00:00<00:00, 268246.61 examples/s]\n",
      "Saving the dataset (1/1 shards): 100%|██████████| 10000/10000 [00:00<00:00, 303532.56 examples/s]\n",
      "Saving the dataset (1/1 shards): 100%|██████████| 10000/10000 [00:00<00:00, 291390.50 examples/s]\n",
      "Saving the dataset (1/1 shards): 100%|██████████| 10000/10000 [00:00<00:00, 268741.61 examples/s]\n",
      "Saving the dataset (1/1 shards): 100%|██████████| 10000/10000 [00:00<00:00, 93586.93 examples/s]\n",
      "Saving the dataset (1/1 shards): 100%|██████████| 10000/10000 [00:00<00:00, 26625.90 examples/s]\n",
      "Saving the dataset (1/1 shards): 100%|██████████| 10000/10000 [00:00<00:00, 36310.26 examples/s]\n",
      "Saving the dataset (1/1 shards): 100%|██████████| 10000/10000 [00:00<00:00, 62678.64 examples/s]\n",
      "Saving the dataset (1/1 shards): 100%|██████████| 10000/10000 [00:00<00:00, 81870.59 examples/s]\n",
      "Saving the dataset (1/1 shards): 100%|██████████| 10000/10000 [00:00<00:00, 47458.31 examples/s]\n",
      "Saving the dataset (1/1 shards): 100%|██████████| 10000/10000 [00:00<00:00, 63609.33 examples/s]\n",
      "Saving the dataset (1/1 shards): 100%|██████████| 10000/10000 [00:00<00:00, 317092.10 examples/s]\n",
      "Saving the dataset (1/1 shards): 100%|██████████| 10000/10000 [00:00<00:00, 379115.28 examples/s]\n",
      "Saving the dataset (1/1 shards): 100%|██████████| 10000/10000 [00:00<00:00, 326168.92 examples/s]\n",
      "Saving the dataset (1/1 shards): 100%|██████████| 10000/10000 [00:00<00:00, 216753.18 examples/s]\n",
      "Saving the dataset (1/1 shards): 100%|██████████| 10000/10000 [00:00<00:00, 249417.47 examples/s]\n",
      "Saving the dataset (1/1 shards): 100%|██████████| 10000/10000 [00:00<00:00, 637509.73 examples/s]\n",
      "Saving the dataset (1/1 shards): 100%|██████████| 10000/10000 [00:00<00:00, 108413.00 examples/s]\n",
      "Saving the dataset (1/1 shards): 100%|██████████| 10000/10000 [00:00<00:00, 72202.92 examples/s]\n",
      "Saving the dataset (1/1 shards): 100%|██████████| 10000/10000 [00:00<00:00, 66864.19 examples/s]\n",
      "Saving the dataset (1/1 shards): 100%|██████████| 10000/10000 [00:00<00:00, 61089.18 examples/s]\n",
      "Saving the dataset (1/1 shards): 100%|██████████| 10000/10000 [00:00<00:00, 81439.79 examples/s]\n",
      "Saving the dataset (1/1 shards): 100%|██████████| 10000/10000 [00:00<00:00, 84005.70 examples/s]\n",
      "Saving the dataset (1/1 shards): 100%|██████████| 10000/10000 [00:00<00:00, 188746.42 examples/s]\n",
      "Saving the dataset (1/1 shards): 100%|██████████| 10000/10000 [00:00<00:00, 192085.59 examples/s]\n",
      "Saving the dataset (1/1 shards): 100%|██████████| 10000/10000 [00:00<00:00, 114359.75 examples/s]\n",
      "Saving the dataset (1/1 shards): 100%|██████████| 10000/10000 [00:00<00:00, 188462.31 examples/s]\n",
      "Saving the dataset (1/1 shards): 100%|██████████| 10000/10000 [00:00<00:00, 142615.86 examples/s]\n",
      "Saving the dataset (1/1 shards): 100%|██████████| 10000/10000 [00:00<00:00, 98820.18 examples/s] \n",
      "Saving the dataset (1/1 shards): 100%|██████████| 10000/10000 [00:00<00:00, 49171.67 examples/s]\n",
      "Saving the dataset (1/1 shards): 100%|██████████| 10000/10000 [00:00<00:00, 193788.68 examples/s]\n",
      "Saving the dataset (1/1 shards): 100%|██████████| 10000/10000 [00:00<00:00, 268068.31 examples/s]\n",
      "Saving the dataset (1/1 shards): 100%|██████████| 10000/10000 [00:00<00:00, 233535.86 examples/s]\n",
      "Saving the dataset (1/1 shards): 100%|██████████| 10000/10000 [00:00<00:00, 281824.13 examples/s]\n",
      "Saving the dataset (1/1 shards): 100%|██████████| 10000/10000 [00:00<00:00, 351308.22 examples/s]\n",
      "Saving the dataset (1/1 shards): 100%|██████████| 10000/10000 [00:00<00:00, 118524.35 examples/s]\n",
      "Saving the dataset (1/1 shards): 100%|██████████| 10000/10000 [00:00<00:00, 60098.67 examples/s]\n",
      "Saving the dataset (1/1 shards): 100%|██████████| 10000/10000 [00:00<00:00, 31922.79 examples/s]\n",
      "Saving the dataset (1/1 shards): 100%|██████████| 10000/10000 [00:00<00:00, 21597.39 examples/s]\n",
      "Saving the dataset (1/1 shards): 100%|██████████| 10000/10000 [00:00<00:00, 78296.20 examples/s]\n",
      "Saving the dataset (1/1 shards): 100%|██████████| 10000/10000 [00:00<00:00, 39007.17 examples/s]\n",
      "Saving the dataset (1/1 shards): 100%|██████████| 10000/10000 [00:00<00:00, 229021.73 examples/s]\n",
      "Saving the dataset (1/1 shards): 100%|██████████| 10000/10000 [00:00<00:00, 249533.22 examples/s]\n",
      "Saving the dataset (1/1 shards): 100%|██████████| 10000/10000 [00:00<00:00, 265701.07 examples/s]\n",
      "Saving the dataset (1/1 shards): 100%|██████████| 10000/10000 [00:00<00:00, 231978.14 examples/s]\n",
      "Saving the dataset (1/1 shards): 100%|██████████| 10000/10000 [00:00<00:00, 392280.66 examples/s]\n",
      "Saving the dataset (1/1 shards): 100%|██████████| 10000/10000 [00:00<00:00, 284716.70 examples/s]\n",
      "Saving the dataset (1/1 shards): 100%|██████████| 10000/10000 [00:00<00:00, 304400.50 examples/s]\n",
      "Saving the dataset (1/1 shards): 100%|██████████| 10000/10000 [00:00<00:00, 84887.24 examples/s]\n",
      "Saving the dataset (1/1 shards): 100%|██████████| 10000/10000 [00:00<00:00, 78042.42 examples/s]\n",
      "Saving the dataset (1/1 shards): 100%|██████████| 10000/10000 [00:00<00:00, 52474.06 examples/s]\n",
      "Saving the dataset (1/1 shards): 100%|██████████| 10000/10000 [00:00<00:00, 14228.10 examples/s]\n",
      "Saving the dataset (1/1 shards): 100%|██████████| 10000/10000 [00:00<00:00, 147891.93 examples/s]\n",
      "Saving the dataset (1/1 shards): 100%|██████████| 10000/10000 [00:00<00:00, 258749.53 examples/s]\n",
      "Saving the dataset (1/1 shards): 100%|██████████| 10000/10000 [00:00<00:00, 300932.29 examples/s]\n",
      "Saving the dataset (1/1 shards): 100%|██████████| 10000/10000 [00:00<00:00, 275814.03 examples/s]\n",
      "Saving the dataset (1/1 shards): 100%|██████████| 10000/10000 [00:00<00:00, 376076.32 examples/s]\n",
      "Saving the dataset (1/1 shards): 100%|██████████| 10000/10000 [00:00<00:00, 259206.86 examples/s]\n",
      "Saving the dataset (1/1 shards): 100%|██████████| 10000/10000 [00:00<00:00, 366798.49 examples/s]\n",
      "Saving the dataset (1/1 shards): 100%|██████████| 10000/10000 [00:00<00:00, 293465.99 examples/s]\n",
      "Saving the dataset (1/1 shards): 100%|██████████| 10000/10000 [00:00<00:00, 83818.52 examples/s]\n",
      "Saving the dataset (1/1 shards): 100%|██████████| 10000/10000 [00:00<00:00, 160328.43 examples/s]\n",
      "Saving the dataset (1/1 shards): 100%|██████████| 10000/10000 [00:00<00:00, 64991.19 examples/s]\n",
      "Saving the dataset (1/1 shards): 100%|██████████| 10000/10000 [00:00<00:00, 36217.15 examples/s]\n",
      "Saving the dataset (1/1 shards): 100%|██████████| 10000/10000 [00:00<00:00, 193147.94 examples/s]\n",
      "Saving the dataset (1/1 shards): 100%|██████████| 10000/10000 [00:00<00:00, 286214.65 examples/s]\n",
      "Saving the dataset (1/1 shards): 100%|██████████| 10000/10000 [00:00<00:00, 135330.69 examples/s]\n",
      "Saving the dataset (1/1 shards): 100%|██████████| 10000/10000 [00:00<00:00, 59282.95 examples/s]\n",
      "Saving the dataset (1/1 shards): 100%|██████████| 10000/10000 [00:00<00:00, 566086.40 examples/s]\n",
      "Saving the dataset (1/1 shards): 100%|██████████| 10000/10000 [00:00<00:00, 247991.44 examples/s]\n",
      "Saving the dataset (1/1 shards): 100%|██████████| 10000/10000 [00:00<00:00, 263033.38 examples/s]\n",
      "Saving the dataset (1/1 shards): 100%|██████████| 10000/10000 [00:00<00:00, 240258.00 examples/s]\n",
      "Saving the dataset (1/1 shards): 100%|██████████| 10000/10000 [00:00<00:00, 231079.67 examples/s]\n",
      "Saving the dataset (1/1 shards): 100%|██████████| 10000/10000 [00:00<00:00, 246638.17 examples/s]\n",
      "Saving the dataset (1/1 shards): 100%|██████████| 10000/10000 [00:00<00:00, 328398.37 examples/s]\n",
      "Saving the dataset (1/1 shards): 100%|██████████| 10000/10000 [00:00<00:00, 273338.94 examples/s]\n",
      "Saving the dataset (1/1 shards): 100%|██████████| 10000/10000 [00:00<00:00, 117948.73 examples/s]\n",
      "Saving the dataset (1/1 shards): 100%|██████████| 10000/10000 [00:00<00:00, 101034.94 examples/s]\n",
      "Saving the dataset (1/1 shards): 100%|██████████| 10000/10000 [00:00<00:00, 183463.42 examples/s]\n",
      "Saving the dataset (1/1 shards): 100%|██████████| 10000/10000 [00:00<00:00, 21133.10 examples/s]\n",
      "Saving the dataset (1/1 shards): 100%|██████████| 10000/10000 [00:00<00:00, 67262.33 examples/s]\n",
      "Saving the dataset (1/1 shards): 100%|██████████| 10000/10000 [00:00<00:00, 56692.81 examples/s]\n",
      "Saving the dataset (1/1 shards): 100%|██████████| 10000/10000 [00:00<00:00, 10581.74 examples/s]\n",
      "Saving the dataset (1/1 shards): 100%|██████████| 10000/10000 [00:00<00:00, 26077.48 examples/s]\n",
      "Saving the dataset (1/1 shards): 100%|██████████| 10000/10000 [00:00<00:00, 135872.55 examples/s]\n",
      "Saving the dataset (1/1 shards): 100%|██████████| 10000/10000 [00:00<00:00, 319895.05 examples/s]\n",
      "Saving the dataset (1/1 shards): 100%|██████████| 10000/10000 [00:00<00:00, 240790.41 examples/s]\n",
      "Saving the dataset (1/1 shards): 100%|██████████| 10000/10000 [00:00<00:00, 261942.63 examples/s]\n",
      "Saving the dataset (1/1 shards): 100%|██████████| 10000/10000 [00:00<00:00, 324152.31 examples/s]\n",
      "Saving the dataset (1/1 shards): 100%|██████████| 10000/10000 [00:00<00:00, 199063.32 examples/s]\n",
      "Saving the dataset (1/1 shards): 100%|██████████| 10000/10000 [00:00<00:00, 287135.56 examples/s]\n",
      "Saving the dataset (1/1 shards): 100%|██████████| 10000/10000 [00:00<00:00, 246428.05 examples/s]\n",
      "Saving the dataset (1/1 shards): 100%|██████████| 10000/10000 [00:00<00:00, 80894.60 examples/s]\n",
      "Saving the dataset (1/1 shards): 100%|██████████| 10000/10000 [00:00<00:00, 118826.55 examples/s]\n",
      "Saving the dataset (1/1 shards): 100%|██████████| 10000/10000 [00:00<00:00, 234530.92 examples/s]\n",
      "Saving the dataset (1/1 shards): 100%|██████████| 10000/10000 [00:00<00:00, 285167.73 examples/s]\n",
      "Saving the dataset (1/1 shards): 100%|██████████| 10000/10000 [00:00<00:00, 421711.86 examples/s]\n",
      "Saving the dataset (1/1 shards): 100%|██████████| 10000/10000 [00:00<00:00, 277492.82 examples/s]\n",
      "Saving the dataset (1/1 shards): 100%|██████████| 10000/10000 [00:00<00:00, 271993.57 examples/s]\n",
      "Saving the dataset (1/1 shards): 100%|██████████| 10000/10000 [00:00<00:00, 370233.74 examples/s]\n",
      "Saving the dataset (1/1 shards): 100%|██████████| 10000/10000 [00:00<00:00, 247887.38 examples/s]\n",
      "Saving the dataset (1/1 shards): 100%|██████████| 10000/10000 [00:00<00:00, 222371.47 examples/s]\n",
      "Saving the dataset (1/1 shards): 100%|██████████| 10000/10000 [00:00<00:00, 52611.23 examples/s]\n",
      "Saving the dataset (1/1 shards): 100%|██████████| 10000/10000 [00:00<00:00, 127348.26 examples/s]\n",
      "Saving the dataset (1/1 shards): 100%|██████████| 10000/10000 [00:00<00:00, 52940.07 examples/s]\n",
      "Saving the dataset (1/1 shards): 100%|██████████| 10000/10000 [00:00<00:00, 23742.08 examples/s]\n",
      "Saving the dataset (1/1 shards): 100%|██████████| 10000/10000 [00:00<00:00, 36982.73 examples/s]\n",
      "Saving the dataset (1/1 shards): 100%|██████████| 10000/10000 [00:00<00:00, 21074.05 examples/s]\n",
      "Saving the dataset (1/1 shards): 100%|██████████| 10000/10000 [00:00<00:00, 194069.33 examples/s]\n",
      "Saving the dataset (1/1 shards): 100%|██████████| 10000/10000 [00:00<00:00, 203449.96 examples/s]\n",
      "Saving the dataset (1/1 shards): 100%|██████████| 10000/10000 [00:00<00:00, 391409.40 examples/s]\n",
      "Saving the dataset (1/1 shards): 100%|██████████| 10000/10000 [00:00<00:00, 227555.56 examples/s]\n",
      "Saving the dataset (1/1 shards): 100%|██████████| 10000/10000 [00:00<00:00, 472336.85 examples/s]\n",
      "Saving the dataset (1/1 shards): 100%|██████████| 10000/10000 [00:00<00:00, 351187.62 examples/s]\n",
      "Saving the dataset (1/1 shards): 100%|██████████| 10000/10000 [00:00<00:00, 524261.79 examples/s]\n",
      "Saving the dataset (1/1 shards): 100%|██████████| 10000/10000 [00:00<00:00, 574278.99 examples/s]\n",
      "Saving the dataset (1/1 shards): 100%|██████████| 10000/10000 [00:00<00:00, 163735.11 examples/s]\n",
      "Saving the dataset (1/1 shards): 100%|██████████| 10000/10000 [00:00<00:00, 176936.78 examples/s]\n",
      "Saving the dataset (1/1 shards): 100%|██████████| 10000/10000 [00:00<00:00, 59473.60 examples/s]\n",
      "Saving the dataset (1/1 shards): 100%|██████████| 10000/10000 [00:00<00:00, 518179.95 examples/s]\n",
      "Saving the dataset (1/1 shards): 100%|██████████| 10000/10000 [00:00<00:00, 587923.35 examples/s]\n",
      "Saving the dataset (1/1 shards): 100%|██████████| 10000/10000 [00:00<00:00, 384847.96 examples/s]\n",
      "Saving the dataset (1/1 shards): 100%|██████████| 10000/10000 [00:00<00:00, 289631.88 examples/s]\n",
      "Saving the dataset (1/1 shards): 100%|██████████| 10000/10000 [00:00<00:00, 304741.09 examples/s]\n",
      "Saving the dataset (1/1 shards): 100%|██████████| 10000/10000 [00:00<00:00, 372817.08 examples/s]\n",
      "Saving the dataset (1/1 shards): 100%|██████████| 10000/10000 [00:00<00:00, 277406.56 examples/s]\n",
      "Saving the dataset (1/1 shards): 100%|██████████| 10000/10000 [00:00<00:00, 105319.43 examples/s]\n",
      "Saving the dataset (1/1 shards): 100%|██████████| 10000/10000 [00:00<00:00, 47155.99 examples/s]\n",
      "Saving the dataset (1/1 shards): 100%|██████████| 10000/10000 [00:00<00:00, 29613.32 examples/s]\n",
      "Saving the dataset (1/1 shards): 100%|██████████| 10000/10000 [00:00<00:00, 45718.52 examples/s]\n",
      "Saving the dataset (1/1 shards): 100%|██████████| 10000/10000 [00:00<00:00, 163125.05 examples/s]\n",
      "Saving the dataset (1/1 shards): 100%|██████████| 10000/10000 [00:00<00:00, 71473.19 examples/s]\n",
      "Saving the dataset (1/1 shards): 100%|██████████| 10000/10000 [00:00<00:00, 37286.88 examples/s]\n",
      "Saving the dataset (1/1 shards): 100%|██████████| 10000/10000 [00:00<00:00, 46254.01 examples/s]\n",
      "Saving the dataset (1/1 shards): 100%|██████████| 10000/10000 [00:00<00:00, 301659.51 examples/s]\n",
      "Saving the dataset (1/1 shards): 100%|██████████| 10000/10000 [00:00<00:00, 260115.10 examples/s]\n",
      "Saving the dataset (1/1 shards): 100%|██████████| 10000/10000 [00:00<00:00, 249186.31 examples/s]\n",
      "Saving the dataset (1/1 shards): 100%|██████████| 10000/10000 [00:00<00:00, 250491.45 examples/s]\n",
      "Saving the dataset (1/1 shards): 100%|██████████| 10000/10000 [00:00<00:00, 233813.15 examples/s]\n",
      "Saving the dataset (1/1 shards): 100%|██████████| 10000/10000 [00:00<00:00, 763072.44 examples/s]\n",
      "Saving the dataset (1/1 shards): 100%|██████████| 10000/10000 [00:00<00:00, 401660.92 examples/s]\n",
      "Saving the dataset (1/1 shards): 100%|██████████| 10000/10000 [00:00<00:00, 121096.66 examples/s]\n",
      "Saving the dataset (1/1 shards): 100%|██████████| 10000/10000 [00:00<00:00, 78939.57 examples/s]\n",
      "Saving the dataset (1/1 shards): 100%|██████████| 10000/10000 [00:00<00:00, 99595.24 examples/s] \n",
      "Saving the dataset (1/1 shards): 100%|██████████| 10000/10000 [00:00<00:00, 155419.42 examples/s]\n",
      "Saving the dataset (1/1 shards): 100%|██████████| 10000/10000 [00:00<00:00, 24387.97 examples/s]\n",
      "Saving the dataset (1/1 shards): 100%|██████████| 10000/10000 [00:00<00:00, 121711.97 examples/s]\n",
      "Saving the dataset (1/1 shards): 100%|██████████| 10000/10000 [00:00<00:00, 77960.17 examples/s]\n",
      "Saving the dataset (1/1 shards): 100%|██████████| 10000/10000 [00:00<00:00, 59008.47 examples/s]\n",
      "Saving the dataset (1/1 shards): 100%|██████████| 10000/10000 [00:00<00:00, 224701.68 examples/s]\n",
      "Saving the dataset (1/1 shards): 100%|██████████| 10000/10000 [00:00<00:00, 243546.20 examples/s]\n",
      "Saving the dataset (1/1 shards): 100%|██████████| 10000/10000 [00:00<00:00, 239795.10 examples/s]\n",
      "Saving the dataset (1/1 shards): 100%|██████████| 10000/10000 [00:00<00:00, 287746.22 examples/s]\n",
      "Saving the dataset (1/1 shards): 100%|██████████| 10000/10000 [00:00<00:00, 231965.31 examples/s]\n",
      "Saving the dataset (1/1 shards): 100%|██████████| 10000/10000 [00:00<00:00, 180963.69 examples/s]\n",
      "Saving the dataset (1/1 shards): 100%|██████████| 10000/10000 [00:00<00:00, 129360.40 examples/s]\n",
      "Saving the dataset (1/1 shards): 100%|██████████| 10000/10000 [00:00<00:00, 163239.33 examples/s]\n",
      "Saving the dataset (1/1 shards): 100%|██████████| 10000/10000 [00:00<00:00, 257717.70 examples/s]\n",
      "Saving the dataset (1/1 shards): 100%|██████████| 10000/10000 [00:00<00:00, 382618.66 examples/s]\n",
      "Saving the dataset (1/1 shards): 100%|██████████| 10000/10000 [00:00<00:00, 254453.15 examples/s]\n",
      "Saving the dataset (1/1 shards): 100%|██████████| 10000/10000 [00:00<00:00, 303253.85 examples/s]\n",
      "Saving the dataset (1/1 shards): 100%|██████████| 10000/10000 [00:00<00:00, 139330.37 examples/s]\n",
      "Saving the dataset (1/1 shards): 100%|██████████| 10000/10000 [00:00<00:00, 76095.57 examples/s]\n",
      "Saving the dataset (1/1 shards): 100%|██████████| 10000/10000 [00:00<00:00, 80971.12 examples/s]\n",
      "Saving the dataset (1/1 shards): 100%|██████████| 10000/10000 [00:00<00:00, 168650.49 examples/s]\n",
      "Saving the dataset (1/1 shards): 100%|██████████| 10000/10000 [00:00<00:00, 15713.39 examples/s]\n",
      "Saving the dataset (1/1 shards): 100%|██████████| 10000/10000 [00:00<00:00, 157881.22 examples/s]\n",
      "Saving the dataset (1/1 shards): 100%|██████████| 10000/10000 [00:00<00:00, 268085.44 examples/s]\n",
      "Saving the dataset (1/1 shards): 100%|██████████| 10000/10000 [00:00<00:00, 175248.25 examples/s]\n",
      "Saving the dataset (1/1 shards): 100%|██████████| 10000/10000 [00:00<00:00, 164322.05 examples/s]\n",
      "Saving the dataset (1/1 shards): 100%|██████████| 10000/10000 [00:00<00:00, 174650.60 examples/s]\n",
      "Saving the dataset (1/1 shards): 100%|██████████| 10000/10000 [00:00<00:00, 91813.44 examples/s]\n",
      "Saving the dataset (1/1 shards): 100%|██████████| 10000/10000 [00:00<00:00, 209795.97 examples/s]\n",
      "Saving the dataset (1/1 shards): 100%|██████████| 10000/10000 [00:00<00:00, 114666.46 examples/s]\n",
      "Saving the dataset (1/1 shards): 100%|██████████| 10000/10000 [00:00<00:00, 284643.27 examples/s]\n",
      "Saving the dataset (1/1 shards): 100%|██████████| 10000/10000 [00:00<00:00, 212509.70 examples/s]\n",
      "Saving the dataset (1/1 shards): 100%|██████████| 10000/10000 [00:00<00:00, 386329.67 examples/s]\n",
      "Saving the dataset (1/1 shards): 100%|██████████| 10000/10000 [00:00<00:00, 239647.13 examples/s]\n",
      "Saving the dataset (1/1 shards): 100%|██████████| 10000/10000 [00:00<00:00, 266129.29 examples/s]\n",
      "Saving the dataset (1/1 shards): 100%|██████████| 10000/10000 [00:00<00:00, 230699.64 examples/s]\n",
      "Saving the dataset (1/1 shards): 100%|██████████| 10000/10000 [00:00<00:00, 88438.54 examples/s]\n",
      "Saving the dataset (1/1 shards): 100%|██████████| 10000/10000 [00:00<00:00, 24269.95 examples/s]\n",
      "Saving the dataset (1/1 shards): 100%|██████████| 10000/10000 [00:00<00:00, 39217.14 examples/s]\n",
      "Saving the dataset (1/1 shards): 100%|██████████| 10000/10000 [00:00<00:00, 54772.23 examples/s]\n",
      "Saving the dataset (1/1 shards): 100%|██████████| 10000/10000 [00:00<00:00, 68977.78 examples/s]\n",
      "Saving the dataset (1/1 shards): 100%|██████████| 10000/10000 [00:00<00:00, 211900.96 examples/s]\n",
      "Saving the dataset (1/1 shards): 100%|██████████| 10000/10000 [00:00<00:00, 144663.60 examples/s]\n",
      "Saving the dataset (1/1 shards): 100%|██████████| 10000/10000 [00:00<00:00, 148868.80 examples/s]\n",
      "Saving the dataset (1/1 shards): 100%|██████████| 10000/10000 [00:00<00:00, 155352.07 examples/s]\n",
      "Saving the dataset (1/1 shards): 100%|██████████| 10000/10000 [00:00<00:00, 233200.86 examples/s]\n",
      "Saving the dataset (1/1 shards): 100%|██████████| 10000/10000 [00:00<00:00, 214592.90 examples/s]\n",
      "Saving the dataset (1/1 shards): 100%|██████████| 10000/10000 [00:00<00:00, 82712.06 examples/s]\n",
      "Saving the dataset (1/1 shards): 100%|██████████| 10000/10000 [00:00<00:00, 144246.18 examples/s]\n",
      "Saving the dataset (1/1 shards): 100%|██████████| 10000/10000 [00:00<00:00, 161092.00 examples/s]\n",
      "Saving the dataset (1/1 shards): 100%|██████████| 10000/10000 [00:00<00:00, 116657.51 examples/s]\n",
      "Saving the dataset (1/1 shards): 100%|██████████| 10000/10000 [00:00<00:00, 291728.96 examples/s]\n",
      "Saving the dataset (1/1 shards): 100%|██████████| 10000/10000 [00:00<00:00, 163439.06 examples/s]\n",
      "Saving the dataset (1/1 shards): 100%|██████████| 10000/10000 [00:00<00:00, 51451.42 examples/s]\n",
      "Saving the dataset (1/1 shards): 100%|██████████| 10000/10000 [00:00<00:00, 29551.90 examples/s]\n",
      "Saving the dataset (1/1 shards): 100%|██████████| 10000/10000 [00:00<00:00, 163576.11 examples/s]\n",
      "Saving the dataset (1/1 shards): 100%|██████████| 10000/10000 [00:00<00:00, 32247.93 examples/s]\n",
      "Saving the dataset (1/1 shards): 100%|██████████| 10000/10000 [00:00<00:00, 156543.02 examples/s]\n",
      "Saving the dataset (1/1 shards): 100%|██████████| 10000/10000 [00:00<00:00, 208962.93 examples/s]\n",
      "Saving the dataset (1/1 shards): 100%|██████████| 10000/10000 [00:00<00:00, 158976.32 examples/s]\n",
      "Saving the dataset (1/1 shards): 100%|██████████| 10000/10000 [00:00<00:00, 124723.57 examples/s]\n",
      "Saving the dataset (1/1 shards): 100%|██████████| 10000/10000 [00:00<00:00, 80036.79 examples/s]\n",
      "Saving the dataset (1/1 shards): 100%|██████████| 10000/10000 [00:00<00:00, 162974.20 examples/s]\n",
      "Saving the dataset (1/1 shards): 100%|██████████| 10000/10000 [00:00<00:00, 150813.49 examples/s]\n",
      "Saving the dataset (1/1 shards): 100%|██████████| 10000/10000 [00:00<00:00, 175132.63 examples/s]\n",
      "Saving the dataset (1/1 shards): 100%|██████████| 10000/10000 [00:00<00:00, 112959.93 examples/s]\n",
      "Saving the dataset (1/1 shards): 100%|██████████| 10000/10000 [00:00<00:00, 146526.42 examples/s]\n",
      "Saving the dataset (1/1 shards): 100%|██████████| 10000/10000 [00:00<00:00, 196449.00 examples/s]\n",
      "Saving the dataset (1/1 shards): 100%|██████████| 10000/10000 [00:00<00:00, 198927.37 examples/s]\n",
      "Saving the dataset (1/1 shards): 100%|██████████| 10000/10000 [00:00<00:00, 188418.28 examples/s]\n",
      "Saving the dataset (1/1 shards): 100%|██████████| 10000/10000 [00:00<00:00, 105990.10 examples/s]\n",
      "Saving the dataset (1/1 shards): 100%|██████████| 10000/10000 [00:00<00:00, 269385.42 examples/s]\n",
      "Saving the dataset (1/1 shards): 100%|██████████| 10000/10000 [00:00<00:00, 35845.11 examples/s]\n",
      "Saving the dataset (1/1 shards): 100%|██████████| 10000/10000 [00:00<00:00, 30148.71 examples/s]\n",
      "Saving the dataset (1/1 shards): 100%|██████████| 10000/10000 [00:00<00:00, 63659.54 examples/s]\n",
      "Saving the dataset (1/1 shards): 100%|██████████| 10000/10000 [00:00<00:00, 136402.35 examples/s]\n",
      "Saving the dataset (1/1 shards): 100%|██████████| 10000/10000 [00:00<00:00, 103561.78 examples/s]\n",
      "Saving the dataset (1/1 shards): 100%|██████████| 10000/10000 [00:00<00:00, 222362.04 examples/s]\n",
      "Saving the dataset (1/1 shards): 100%|██████████| 10000/10000 [00:00<00:00, 230826.60 examples/s]\n",
      "Saving the dataset (1/1 shards): 100%|██████████| 10000/10000 [00:00<00:00, 223271.11 examples/s]\n",
      "Saving the dataset (1/1 shards): 100%|██████████| 10000/10000 [00:00<00:00, 183251.81 examples/s]\n",
      "Saving the dataset (1/1 shards): 100%|██████████| 10000/10000 [00:00<00:00, 291097.26 examples/s]\n",
      "Saving the dataset (1/1 shards): 100%|██████████| 10000/10000 [00:00<00:00, 246995.46 examples/s]\n",
      "Saving the dataset (1/1 shards): 100%|██████████| 10000/10000 [00:00<00:00, 89614.03 examples/s] \n",
      "Saving the dataset (1/1 shards): 100%|██████████| 10000/10000 [00:00<00:00, 20382.69 examples/s]\n",
      "Saving the dataset (1/1 shards): 100%|██████████| 10000/10000 [00:00<00:00, 21132.45 examples/s]\n",
      "Saving the dataset (1/1 shards): 100%|██████████| 10000/10000 [00:00<00:00, 109106.48 examples/s]\n",
      "Saving the dataset (1/1 shards): 100%|██████████| 10000/10000 [00:00<00:00, 295225.91 examples/s]\n",
      "Saving the dataset (1/1 shards): 100%|██████████| 10000/10000 [00:00<00:00, 216944.89 examples/s]\n",
      "Saving the dataset (1/1 shards): 100%|██████████| 10000/10000 [00:00<00:00, 269889.84 examples/s]\n",
      "Saving the dataset (1/1 shards): 100%|██████████| 10000/10000 [00:00<00:00, 235909.40 examples/s]\n",
      "Saving the dataset (1/1 shards): 100%|██████████| 10000/10000 [00:00<00:00, 203841.51 examples/s]\n",
      "Saving the dataset (1/1 shards): 100%|██████████| 10000/10000 [00:00<00:00, 58795.30 examples/s]\n",
      "Saving the dataset (1/1 shards): 100%|██████████| 10000/10000 [00:00<00:00, 201419.73 examples/s]\n",
      "Saving the dataset (1/1 shards): 100%|██████████| 10000/10000 [00:00<00:00, 160412.44 examples/s]\n",
      "Saving the dataset (1/1 shards): 100%|██████████| 10000/10000 [00:00<00:00, 149755.39 examples/s]\n",
      "Saving the dataset (1/1 shards): 100%|██████████| 10000/10000 [00:00<00:00, 265472.36 examples/s]\n",
      "Saving the dataset (1/1 shards): 100%|██████████| 10000/10000 [00:00<00:00, 31084.39 examples/s]\n",
      "Saving the dataset (1/1 shards): 100%|██████████| 10000/10000 [00:00<00:00, 199850.58 examples/s]\n",
      "Saving the dataset (1/1 shards): 100%|██████████| 10000/10000 [00:00<00:00, 189851.08 examples/s]\n",
      "Saving the dataset (1/1 shards): 100%|██████████| 10000/10000 [00:00<00:00, 252969.13 examples/s]\n",
      "Saving the dataset (1/1 shards): 100%|██████████| 10000/10000 [00:00<00:00, 241674.20 examples/s]\n",
      "Saving the dataset (1/1 shards): 100%|██████████| 10000/10000 [00:00<00:00, 237263.91 examples/s]\n",
      "Saving the dataset (1/1 shards): 100%|██████████| 10000/10000 [00:00<00:00, 234827.67 examples/s]\n",
      "Saving the dataset (1/1 shards): 100%|██████████| 10000/10000 [00:00<00:00, 76196.34 examples/s]\n",
      "Saving the dataset (1/1 shards): 100%|██████████| 10000/10000 [00:00<00:00, 92268.49 examples/s]\n",
      "Saving the dataset (1/1 shards): 100%|██████████| 10000/10000 [00:00<00:00, 79605.23 examples/s]\n",
      "Saving the dataset (1/1 shards): 100%|██████████| 10000/10000 [00:00<00:00, 303580.89 examples/s]\n",
      "Saving the dataset (1/1 shards): 100%|██████████| 10000/10000 [00:00<00:00, 276722.06 examples/s]\n",
      "Saving the dataset (1/1 shards): 100%|██████████| 10000/10000 [00:00<00:00, 376867.04 examples/s]\n",
      "Saving the dataset (1/1 shards): 100%|██████████| 10000/10000 [00:00<00:00, 141583.71 examples/s]\n",
      "Saving the dataset (1/1 shards): 100%|██████████| 10000/10000 [00:00<00:00, 114701.89 examples/s]\n",
      "Saving the dataset (1/1 shards): 100%|██████████| 10000/10000 [00:00<00:00, 158313.86 examples/s]\n",
      "Saving the dataset (1/1 shards): 100%|██████████| 10000/10000 [00:00<00:00, 121218.81 examples/s]\n",
      "Saving the dataset (1/1 shards): 100%|██████████| 10000/10000 [00:00<00:00, 145401.30 examples/s]\n",
      "Saving the dataset (1/1 shards): 100%|██████████| 10000/10000 [00:00<00:00, 395204.37 examples/s]\n",
      "Saving the dataset (1/1 shards): 100%|██████████| 10000/10000 [00:00<00:00, 287348.01 examples/s]\n",
      "Saving the dataset (1/1 shards): 100%|██████████| 10000/10000 [00:00<00:00, 202800.71 examples/s]\n",
      "Saving the dataset (1/1 shards): 100%|██████████| 10000/10000 [00:00<00:00, 242827.10 examples/s]\n",
      "Saving the dataset (1/1 shards): 100%|██████████| 10000/10000 [00:00<00:00, 179736.11 examples/s]\n",
      "Saving the dataset (1/1 shards): 100%|██████████| 10000/10000 [00:00<00:00, 13454.90 examples/s]\n",
      "Saving the dataset (1/1 shards): 100%|██████████| 10000/10000 [00:00<00:00, 283632.72 examples/s]\n",
      "Saving the dataset (1/1 shards): 100%|██████████| 10000/10000 [00:00<00:00, 158149.70 examples/s]\n",
      "Saving the dataset (1/1 shards): 100%|██████████| 10000/10000 [00:00<00:00, 143788.28 examples/s]\n",
      "Saving the dataset (1/1 shards): 100%|██████████| 10000/10000 [00:00<00:00, 618628.91 examples/s]\n",
      "Saving the dataset (1/1 shards): 100%|██████████| 10000/10000 [00:00<00:00, 318624.11 examples/s]\n",
      "Saving the dataset (1/1 shards): 100%|██████████| 10000/10000 [00:00<00:00, 575310.88 examples/s]\n",
      "Saving the dataset (1/1 shards): 100%|██████████| 10000/10000 [00:00<00:00, 454844.60 examples/s]\n",
      "Saving the dataset (1/1 shards): 100%|██████████| 10000/10000 [00:00<00:00, 346714.06 examples/s]\n",
      "Saving the dataset (1/1 shards): 100%|██████████| 10000/10000 [00:00<00:00, 274811.07 examples/s]\n",
      "Saving the dataset (1/1 shards): 100%|██████████| 10000/10000 [00:00<00:00, 218264.63 examples/s]\n",
      "Saving the dataset (1/1 shards): 100%|██████████| 10000/10000 [00:00<00:00, 282562.69 examples/s]\n",
      "Saving the dataset (1/1 shards): 100%|██████████| 10000/10000 [00:00<00:00, 238693.82 examples/s]\n",
      "Saving the dataset (1/1 shards): 100%|██████████| 10000/10000 [00:00<00:00, 131838.72 examples/s]\n",
      "Saving the dataset (1/1 shards): 100%|██████████| 10000/10000 [00:00<00:00, 83752.41 examples/s]\n",
      "Saving the dataset (1/1 shards): 100%|██████████| 10000/10000 [00:00<00:00, 139980.44 examples/s]\n",
      "Saving the dataset (1/1 shards): 100%|██████████| 10000/10000 [00:00<00:00, 51517.58 examples/s]\n",
      "Saving the dataset (1/1 shards): 100%|██████████| 10000/10000 [00:00<00:00, 69322.41 examples/s]\n",
      "Saving the dataset (1/1 shards): 100%|██████████| 10000/10000 [00:00<00:00, 207721.08 examples/s]\n",
      "Saving the dataset (1/1 shards): 100%|██████████| 10000/10000 [00:00<00:00, 31419.89 examples/s]\n",
      "Saving the dataset (1/1 shards): 100%|██████████| 10000/10000 [00:00<00:00, 38458.51 examples/s]\n",
      "Saving the dataset (1/1 shards): 100%|██████████| 10000/10000 [00:00<00:00, 36120.24 examples/s]\n",
      "Saving the dataset (1/1 shards): 100%|██████████| 10000/10000 [00:00<00:00, 127218.47 examples/s]\n",
      "Saving the dataset (1/1 shards): 100%|██████████| 10000/10000 [00:00<00:00, 293205.45 examples/s]\n",
      "Saving the dataset (1/1 shards): 100%|██████████| 10000/10000 [00:00<00:00, 245588.28 examples/s]\n",
      "Saving the dataset (1/1 shards): 100%|██████████| 10000/10000 [00:00<00:00, 213231.39 examples/s]\n",
      "Saving the dataset (1/1 shards): 100%|██████████| 10000/10000 [00:00<00:00, 127462.42 examples/s]\n",
      "Saving the dataset (1/1 shards): 100%|██████████| 10000/10000 [00:00<00:00, 38589.39 examples/s]\n",
      "Saving the dataset (1/1 shards): 100%|██████████| 10000/10000 [00:00<00:00, 201951.19 examples/s]\n",
      "Saving the dataset (1/1 shards): 100%|██████████| 10000/10000 [00:00<00:00, 134752.43 examples/s]\n",
      "Saving the dataset (1/1 shards): 100%|██████████| 10000/10000 [00:00<00:00, 213399.54 examples/s]\n",
      "Saving the dataset (1/1 shards): 100%|██████████| 10000/10000 [00:00<00:00, 269525.63 examples/s]\n",
      "Saving the dataset (1/1 shards): 100%|██████████| 10000/10000 [00:00<00:00, 283832.34 examples/s]\n",
      "Saving the dataset (1/1 shards): 100%|██████████| 10000/10000 [00:00<00:00, 120758.82 examples/s]\n",
      "Saving the dataset (1/1 shards): 100%|██████████| 10000/10000 [00:00<00:00, 109399.03 examples/s]\n",
      "Saving the dataset (1/1 shards): 100%|██████████| 10000/10000 [00:00<00:00, 140915.38 examples/s]\n",
      "Saving the dataset (1/1 shards): 100%|██████████| 10000/10000 [00:00<00:00, 51793.10 examples/s]\n",
      "Saving the dataset (1/1 shards): 100%|██████████| 10000/10000 [00:00<00:00, 239358.56 examples/s]\n",
      "Saving the dataset (1/1 shards): 100%|██████████| 10000/10000 [00:00<00:00, 639912.12 examples/s]\n",
      "Saving the dataset (1/1 shards): 100%|██████████| 10000/10000 [00:00<00:00, 258010.99 examples/s]\n",
      "Saving the dataset (1/1 shards): 100%|██████████| 10000/10000 [00:00<00:00, 347619.22 examples/s]\n",
      "Saving the dataset (1/1 shards): 100%|██████████| 10000/10000 [00:00<00:00, 259514.79 examples/s]\n",
      "Saving the dataset (1/1 shards): 100%|██████████| 10000/10000 [00:00<00:00, 46954.13 examples/s]\n",
      "Saving the dataset (1/1 shards): 100%|██████████| 10000/10000 [00:00<00:00, 62168.60 examples/s]\n",
      "Saving the dataset (1/1 shards): 100%|██████████| 10000/10000 [00:00<00:00, 61650.93 examples/s]\n",
      "Saving the dataset (1/1 shards): 100%|██████████| 10000/10000 [00:00<00:00, 157303.31 examples/s]\n",
      "Saving the dataset (1/1 shards): 100%|██████████| 10000/10000 [00:00<00:00, 261757.91 examples/s]\n",
      "Saving the dataset (1/1 shards): 100%|██████████| 10000/10000 [00:00<00:00, 348141.47 examples/s]\n",
      "Saving the dataset (1/1 shards): 100%|██████████| 10000/10000 [00:00<00:00, 69781.21 examples/s]\n",
      "Saving the dataset (1/1 shards): 100%|██████████| 10000/10000 [00:00<00:00, 142181.24 examples/s]\n",
      "Saving the dataset (1/1 shards): 100%|██████████| 10000/10000 [00:00<00:00, 429352.74 examples/s]\n",
      "Saving the dataset (1/1 shards): 100%|██████████| 10000/10000 [00:00<00:00, 85896.75 examples/s]\n",
      "Saving the dataset (1/1 shards): 100%|██████████| 10000/10000 [00:00<00:00, 165908.67 examples/s]\n",
      "Saving the dataset (1/1 shards): 100%|██████████| 10000/10000 [00:00<00:00, 294031.74 examples/s]\n",
      "Saving the dataset (1/1 shards): 100%|██████████| 10000/10000 [00:00<00:00, 84252.41 examples/s]\n",
      "Saving the dataset (1/1 shards): 100%|██████████| 10000/10000 [00:00<00:00, 72159.32 examples/s]\n",
      "Saving the dataset (1/1 shards): 100%|██████████| 10000/10000 [00:00<00:00, 21721.81 examples/s]\n",
      "Saving the dataset (1/1 shards): 100%|██████████| 10000/10000 [00:00<00:00, 26930.74 examples/s]\n",
      "Saving the dataset (1/1 shards): 100%|██████████| 10000/10000 [00:00<00:00, 95646.59 examples/s] \n",
      "Saving the dataset (1/1 shards): 100%|██████████| 10000/10000 [00:00<00:00, 199410.65 examples/s]\n",
      "Saving the dataset (1/1 shards): 100%|██████████| 10000/10000 [00:00<00:00, 358172.21 examples/s]\n",
      "Saving the dataset (1/1 shards): 100%|██████████| 10000/10000 [00:00<00:00, 402733.09 examples/s] \n",
      "Saving the dataset (1/1 shards): 100%|██████████| 10000/10000 [00:00<00:00, 279866.55 examples/s]\n",
      "Saving the dataset (1/1 shards): 100%|██████████| 10000/10000 [00:00<00:00, 200914.16 examples/s]\n",
      "Saving the dataset (1/1 shards): 100%|██████████| 10000/10000 [00:00<00:00, 104741.34 examples/s]\n",
      "Saving the dataset (1/1 shards): 100%|██████████| 10000/10000 [00:00<00:00, 237215.61 examples/s]\n",
      "Saving the dataset (1/1 shards): 100%|██████████| 10000/10000 [00:00<00:00, 158407.13 examples/s]\n",
      "Saving the dataset (1/1 shards): 100%|██████████| 10000/10000 [00:00<00:00, 194327.39 examples/s]\n",
      "Saving the dataset (1/1 shards): 100%|██████████| 10000/10000 [00:00<00:00, 316186.14 examples/s]\n",
      "Saving the dataset (1/1 shards): 100%|██████████| 10000/10000 [00:00<00:00, 104404.22 examples/s]\n",
      "Saving the dataset (1/1 shards): 100%|██████████| 10000/10000 [00:00<00:00, 136331.85 examples/s]\n",
      "Saving the dataset (1/1 shards): 100%|██████████| 10000/10000 [00:00<00:00, 86991.50 examples/s]\n",
      "Saving the dataset (1/1 shards): 100%|██████████| 10000/10000 [00:00<00:00, 96228.32 examples/s]\n",
      "Saving the dataset (1/1 shards): 100%|██████████| 10000/10000 [00:00<00:00, 103960.16 examples/s]\n",
      "Saving the dataset (1/1 shards): 100%|██████████| 10000/10000 [00:00<00:00, 304517.63 examples/s]\n",
      "Saving the dataset (1/1 shards): 100%|██████████| 10000/10000 [00:00<00:00, 214421.76 examples/s]\n",
      "Saving the dataset (1/1 shards): 100%|██████████| 10000/10000 [00:00<00:00, 239054.34 examples/s]\n",
      "Saving the dataset (1/1 shards): 100%|██████████| 10000/10000 [00:00<00:00, 111313.51 examples/s]\n",
      "Saving the dataset (1/1 shards): 100%|██████████| 10000/10000 [00:00<00:00, 131840.38 examples/s]\n",
      "Saving the dataset (1/1 shards): 100%|██████████| 10000/10000 [00:00<00:00, 112607.23 examples/s]\n",
      "Saving the dataset (1/1 shards): 100%|██████████| 10000/10000 [00:00<00:00, 595325.18 examples/s]\n",
      "Saving the dataset (1/1 shards): 100%|██████████| 10000/10000 [00:00<00:00, 235166.05 examples/s]\n",
      "Saving the dataset (1/1 shards): 100%|██████████| 10000/10000 [00:00<00:00, 403441.99 examples/s]\n",
      "Saving the dataset (1/1 shards): 100%|██████████| 10000/10000 [00:00<00:00, 275843.06 examples/s]\n",
      "Saving the dataset (1/1 shards): 100%|██████████| 10000/10000 [00:00<00:00, 352166.58 examples/s]\n",
      "Saving the dataset (1/1 shards): 100%|██████████| 10000/10000 [00:00<00:00, 61154.47 examples/s]\n",
      "Saving the dataset (1/1 shards): 100%|██████████| 10000/10000 [00:00<00:00, 116076.38 examples/s]\n",
      "Saving the dataset (1/1 shards): 100%|██████████| 10000/10000 [00:00<00:00, 41675.32 examples/s]\n",
      "Saving the dataset (1/1 shards): 100%|██████████| 10000/10000 [00:00<00:00, 45790.69 examples/s]\n",
      "Saving the dataset (1/1 shards): 100%|██████████| 10000/10000 [00:00<00:00, 61425.39 examples/s]\n",
      "Saving the dataset (1/1 shards): 100%|██████████| 10000/10000 [00:00<00:00, 43234.32 examples/s]\n",
      "Saving the dataset (1/1 shards): 100%|██████████| 10000/10000 [00:00<00:00, 207979.61 examples/s]\n",
      "Saving the dataset (1/1 shards): 100%|██████████| 10000/10000 [00:00<00:00, 279162.44 examples/s]\n",
      "Saving the dataset (1/1 shards): 100%|██████████| 10000/10000 [00:00<00:00, 287868.66 examples/s]\n",
      "Saving the dataset (1/1 shards): 100%|██████████| 10000/10000 [00:00<00:00, 201688.02 examples/s]\n",
      "Saving the dataset (1/1 shards): 100%|██████████| 10000/10000 [00:00<00:00, 222126.52 examples/s]\n",
      "Saving the dataset (1/1 shards): 100%|██████████| 10000/10000 [00:00<00:00, 304254.76 examples/s]\n",
      "Saving the dataset (1/1 shards): 100%|██████████| 10000/10000 [00:00<00:00, 174701.52 examples/s]\n",
      "Saving the dataset (1/1 shards): 100%|██████████| 10000/10000 [00:00<00:00, 109902.68 examples/s]\n",
      "Saving the dataset (1/1 shards): 100%|██████████| 10000/10000 [00:00<00:00, 45714.98 examples/s]\n",
      "Saving the dataset (1/1 shards): 100%|██████████| 10000/10000 [00:00<00:00, 189685.37 examples/s]\n",
      "Saving the dataset (1/1 shards): 100%|██████████| 10000/10000 [00:00<00:00, 297869.75 examples/s]\n",
      "Saving the dataset (1/1 shards): 100%|██████████| 10000/10000 [00:00<00:00, 122157.55 examples/s]\n",
      "Saving the dataset (1/1 shards): 100%|██████████| 10000/10000 [00:00<00:00, 249946.61 examples/s]\n",
      "Saving the dataset (1/1 shards): 100%|██████████| 10000/10000 [00:00<00:00, 129300.18 examples/s]\n",
      "Saving the dataset (1/1 shards): 100%|██████████| 10000/10000 [00:00<00:00, 122714.02 examples/s]\n",
      "Saving the dataset (1/1 shards): 100%|██████████| 10000/10000 [00:00<00:00, 120695.58 examples/s]\n",
      "Saving the dataset (1/1 shards): 100%|██████████| 10000/10000 [00:00<00:00, 51381.96 examples/s]\n",
      "Saving the dataset (1/1 shards): 100%|██████████| 10000/10000 [00:00<00:00, 340446.75 examples/s]\n",
      "Saving the dataset (1/1 shards): 100%|██████████| 10000/10000 [00:00<00:00, 636648.50 examples/s]\n",
      "Saving the dataset (1/1 shards): 100%|██████████| 10000/10000 [00:00<00:00, 140977.90 examples/s]\n",
      "Saving the dataset (1/1 shards): 100%|██████████| 10000/10000 [00:00<00:00, 72021.04 examples/s]\n",
      "Saving the dataset (1/1 shards): 100%|██████████| 10000/10000 [00:00<00:00, 36437.61 examples/s]\n",
      "Saving the dataset (1/1 shards): 100%|██████████| 10000/10000 [00:00<00:00, 313681.94 examples/s]\n",
      "Saving the dataset (1/1 shards): 100%|██████████| 10000/10000 [00:00<00:00, 157332.22 examples/s]\n",
      "Saving the dataset (1/1 shards): 100%|██████████| 10000/10000 [00:00<00:00, 247765.84 examples/s]\n",
      "Saving the dataset (1/1 shards): 100%|██████████| 10000/10000 [00:00<00:00, 165597.53 examples/s]\n",
      "Saving the dataset (1/1 shards): 100%|██████████| 10000/10000 [00:00<00:00, 186819.53 examples/s]\n",
      "Saving the dataset (1/1 shards): 100%|██████████| 10000/10000 [00:00<00:00, 199807.73 examples/s]\n",
      "Saving the dataset (1/1 shards): 100%|██████████| 10000/10000 [00:00<00:00, 633150.28 examples/s]\n",
      "Saving the dataset (1/1 shards): 100%|██████████| 10000/10000 [00:00<00:00, 173586.62 examples/s]\n",
      "Saving the dataset (1/1 shards): 100%|██████████| 10000/10000 [00:00<00:00, 252940.14 examples/s]\n",
      "Saving the dataset (1/1 shards): 100%|██████████| 10000/10000 [00:00<00:00, 315912.27 examples/s]\n",
      "Saving the dataset (1/1 shards): 100%|██████████| 10000/10000 [00:00<00:00, 290353.67 examples/s]\n",
      "Saving the dataset (1/1 shards): 100%|██████████| 10000/10000 [00:00<00:00, 260331.44 examples/s]\n",
      "Saving the dataset (1/1 shards): 100%|██████████| 10000/10000 [00:00<00:00, 293105.05 examples/s]\n",
      "Saving the dataset (1/1 shards): 100%|██████████| 10000/10000 [00:00<00:00, 42137.80 examples/s]\n",
      "Saving the dataset (1/1 shards): 100%|██████████| 10000/10000 [00:00<00:00, 167325.73 examples/s]\n",
      "Saving the dataset (1/1 shards): 100%|██████████| 10000/10000 [00:00<00:00, 119406.03 examples/s]\n",
      "Saving the dataset (1/1 shards): 100%|██████████| 10000/10000 [00:00<00:00, 16296.96 examples/s]\n",
      "Saving the dataset (1/1 shards): 100%|██████████| 10000/10000 [00:00<00:00, 30917.31 examples/s]\n",
      "Saving the dataset (1/1 shards): 100%|██████████| 10000/10000 [00:00<00:00, 13224.58 examples/s]\n",
      "Saving the dataset (1/1 shards): 100%|██████████| 10000/10000 [00:00<00:00, 60301.46 examples/s]\n",
      "Saving the dataset (1/1 shards): 100%|██████████| 10000/10000 [00:00<00:00, 245745.12 examples/s]\n",
      "Saving the dataset (1/1 shards): 100%|██████████| 10000/10000 [00:00<00:00, 335606.07 examples/s]\n",
      "Saving the dataset (1/1 shards): 100%|██████████| 10000/10000 [00:00<00:00, 217719.66 examples/s]\n",
      "Saving the dataset (1/1 shards): 100%|██████████| 10000/10000 [00:00<00:00, 392273.32 examples/s]\n",
      "Saving the dataset (1/1 shards): 100%|██████████| 10000/10000 [00:00<00:00, 302951.58 examples/s]\n",
      "Saving the dataset (1/1 shards): 100%|██████████| 10000/10000 [00:00<00:00, 305162.36 examples/s]\n",
      "Saving the dataset (1/1 shards): 100%|██████████| 10000/10000 [00:00<00:00, 375433.36 examples/s]\n",
      "Saving the dataset (1/1 shards): 100%|██████████| 10000/10000 [00:00<00:00, 226831.94 examples/s]\n",
      "Saving the dataset (1/1 shards): 100%|██████████| 10000/10000 [00:00<00:00, 345505.95 examples/s]\n",
      "Saving the dataset (1/1 shards): 100%|██████████| 10000/10000 [00:00<00:00, 382489.56 examples/s]\n",
      "Saving the dataset (1/1 shards): 100%|██████████| 10000/10000 [00:00<00:00, 187998.55 examples/s]\n",
      "Saving the dataset (1/1 shards): 100%|██████████| 10000/10000 [00:00<00:00, 310046.13 examples/s]\n",
      "Saving the dataset (1/1 shards): 100%|██████████| 10000/10000 [00:00<00:00, 228989.22 examples/s]\n",
      "Saving the dataset (1/1 shards): 100%|██████████| 10000/10000 [00:00<00:00, 295034.85 examples/s]\n",
      "Saving the dataset (1/1 shards): 100%|██████████| 10000/10000 [00:00<00:00, 129522.19 examples/s]\n",
      "Saving the dataset (1/1 shards): 100%|██████████| 10000/10000 [00:00<00:00, 102162.80 examples/s]\n",
      "Saving the dataset (1/1 shards): 100%|██████████| 10000/10000 [00:00<00:00, 16393.14 examples/s]\n",
      "Saving the dataset (1/1 shards): 100%|██████████| 10000/10000 [00:00<00:00, 18479.51 examples/s]\n",
      "Saving the dataset (1/1 shards): 100%|██████████| 10000/10000 [00:00<00:00, 54826.64 examples/s]\n",
      "Saving the dataset (1/1 shards): 100%|██████████| 10000/10000 [00:00<00:00, 23060.58 examples/s]\n",
      "Saving the dataset (1/1 shards): 100%|██████████| 10000/10000 [00:00<00:00, 235995.68 examples/s]\n",
      "Saving the dataset (1/1 shards): 100%|██████████| 10000/10000 [00:00<00:00, 119957.90 examples/s]\n",
      "Saving the dataset (1/1 shards): 100%|██████████| 10000/10000 [00:00<00:00, 226656.65 examples/s]\n",
      "Saving the dataset (1/1 shards): 100%|██████████| 10000/10000 [00:00<00:00, 140552.25 examples/s]\n",
      "Saving the dataset (1/1 shards): 100%|██████████| 10000/10000 [00:00<00:00, 175055.89 examples/s]\n",
      "Saving the dataset (1/1 shards): 100%|██████████| 10000/10000 [00:00<00:00, 233031.13 examples/s]\n",
      "Saving the dataset (1/1 shards): 100%|██████████| 10000/10000 [00:00<00:00, 144044.07 examples/s]\n",
      "Saving the dataset (1/1 shards): 100%|██████████| 10000/10000 [00:00<00:00, 96627.14 examples/s] \n",
      "Saving the dataset (1/1 shards): 100%|██████████| 10000/10000 [00:00<00:00, 67086.00 examples/s]\n",
      "Saving the dataset (1/1 shards): 100%|██████████| 10000/10000 [00:00<00:00, 126738.34 examples/s]\n",
      "Saving the dataset (1/1 shards): 100%|██████████| 10000/10000 [00:00<00:00, 155269.83 examples/s]\n",
      "Saving the dataset (1/1 shards): 100%|██████████| 10000/10000 [00:00<00:00, 214644.51 examples/s]\n",
      "Saving the dataset (1/1 shards): 100%|██████████| 10000/10000 [00:00<00:00, 198832.12 examples/s]\n",
      "Saving the dataset (1/1 shards): 100%|██████████| 10000/10000 [00:00<00:00, 205445.03 examples/s]\n",
      "Saving the dataset (1/1 shards): 100%|██████████| 10000/10000 [00:00<00:00, 361868.05 examples/s]\n",
      "Saving the dataset (1/1 shards): 100%|██████████| 10000/10000 [00:00<00:00, 355380.22 examples/s]\n",
      "Saving the dataset (1/1 shards): 100%|██████████| 10000/10000 [00:00<00:00, 57071.42 examples/s]\n",
      "Saving the dataset (1/1 shards): 100%|██████████| 10000/10000 [00:00<00:00, 73494.15 examples/s]\n",
      "Saving the dataset (1/1 shards): 100%|██████████| 10000/10000 [00:00<00:00, 165581.84 examples/s]\n",
      "Saving the dataset (1/1 shards): 100%|██████████| 10000/10000 [00:00<00:00, 349301.20 examples/s]\n",
      "Saving the dataset (1/1 shards): 100%|██████████| 10000/10000 [00:00<00:00, 168025.54 examples/s]\n",
      "Saving the dataset (1/1 shards): 100%|██████████| 10000/10000 [00:00<00:00, 307122.02 examples/s]\n",
      "Saving the dataset (1/1 shards): 100%|██████████| 10000/10000 [00:00<00:00, 14859.47 examples/s]\n",
      "Saving the dataset (1/1 shards): 100%|██████████| 10000/10000 [00:00<00:00, 190534.13 examples/s]\n",
      "Saving the dataset (1/1 shards): 100%|██████████| 10000/10000 [00:00<00:00, 192491.10 examples/s]\n",
      "Saving the dataset (1/1 shards): 100%|██████████| 10000/10000 [00:00<00:00, 236472.01 examples/s]\n",
      "Saving the dataset (1/1 shards): 100%|██████████| 10000/10000 [00:00<00:00, 324380.44 examples/s]\n",
      "Saving the dataset (1/1 shards): 100%|██████████| 10000/10000 [00:00<00:00, 42245.01 examples/s]\n",
      "Saving the dataset (1/1 shards): 100%|██████████| 10000/10000 [00:00<00:00, 129387.54 examples/s]\n",
      "Saving the dataset (1/1 shards): 100%|██████████| 10000/10000 [00:00<00:00, 637587.26 examples/s]\n",
      "Saving the dataset (1/1 shards): 100%|██████████| 10000/10000 [00:00<00:00, 284226.63 examples/s]\n",
      "Saving the dataset (1/1 shards): 100%|██████████| 10000/10000 [00:00<00:00, 244145.87 examples/s]\n",
      "Saving the dataset (1/1 shards): 100%|██████████| 10000/10000 [00:00<00:00, 346350.45 examples/s]\n",
      "Saving the dataset (1/1 shards): 100%|██████████| 10000/10000 [00:00<00:00, 340474.39 examples/s]\n",
      "Saving the dataset (1/1 shards): 100%|██████████| 10000/10000 [00:00<00:00, 245848.83 examples/s]\n",
      "Saving the dataset (1/1 shards): 100%|██████████| 10000/10000 [00:00<00:00, 155116.51 examples/s]\n",
      "Saving the dataset (1/1 shards): 100%|██████████| 10000/10000 [00:00<00:00, 51546.20 examples/s]\n",
      "Saving the dataset (1/1 shards): 100%|██████████| 10000/10000 [00:00<00:00, 31214.84 examples/s]\n",
      "Saving the dataset (1/1 shards): 100%|██████████| 10000/10000 [00:00<00:00, 81938.24 examples/s]\n",
      "Saving the dataset (1/1 shards): 100%|██████████| 10000/10000 [00:00<00:00, 221591.39 examples/s]\n",
      "Saving the dataset (1/1 shards): 100%|██████████| 10000/10000 [00:00<00:00, 118578.96 examples/s]\n",
      "Saving the dataset (1/1 shards): 100%|██████████| 10000/10000 [00:00<00:00, 143377.36 examples/s]\n",
      "Saving the dataset (1/1 shards): 100%|██████████| 10000/10000 [00:00<00:00, 267051.06 examples/s]\n",
      "Saving the dataset (1/1 shards): 100%|██████████| 10000/10000 [00:00<00:00, 287489.82 examples/s]\n",
      "Saving the dataset (1/1 shards): 100%|██████████| 10000/10000 [00:00<00:00, 439138.96 examples/s]\n",
      "Saving the dataset (1/1 shards): 100%|██████████| 10000/10000 [00:00<00:00, 267577.50 examples/s]\n",
      "Saving the dataset (1/1 shards): 100%|██████████| 10000/10000 [00:00<00:00, 245421.59 examples/s]\n",
      "Saving the dataset (1/1 shards): 100%|██████████| 10000/10000 [00:00<00:00, 234969.75 examples/s]\n",
      "Saving the dataset (1/1 shards): 100%|██████████| 10000/10000 [00:00<00:00, 277597.51 examples/s]\n",
      "Saving the dataset (1/1 shards): 100%|██████████| 10000/10000 [00:00<00:00, 187013.62 examples/s]\n",
      "Saving the dataset (1/1 shards): 100%|██████████| 10000/10000 [00:00<00:00, 115528.06 examples/s]\n",
      "Saving the dataset (1/1 shards): 100%|██████████| 10000/10000 [00:00<00:00, 109738.49 examples/s]\n",
      "Saving the dataset (1/1 shards): 100%|██████████| 10000/10000 [00:00<00:00, 64634.35 examples/s]\n",
      "Saving the dataset (1/1 shards): 100%|██████████| 10000/10000 [00:00<00:00, 48583.59 examples/s]\n",
      "Saving the dataset (1/1 shards): 100%|██████████| 10000/10000 [00:00<00:00, 79000.98 examples/s]\n",
      "Saving the dataset (1/1 shards): 100%|██████████| 10000/10000 [00:00<00:00, 153482.34 examples/s]\n",
      "Saving the dataset (1/1 shards): 100%|██████████| 10000/10000 [00:00<00:00, 196673.76 examples/s]\n",
      "Saving the dataset (1/1 shards): 100%|██████████| 10000/10000 [00:00<00:00, 219131.27 examples/s]\n",
      "Saving the dataset (1/1 shards): 100%|██████████| 10000/10000 [00:00<00:00, 252574.58 examples/s]\n",
      "Saving the dataset (1/1 shards): 100%|██████████| 10000/10000 [00:00<00:00, 267064.67 examples/s]\n",
      "Saving the dataset (1/1 shards): 100%|██████████| 10000/10000 [00:00<00:00, 387017.67 examples/s]\n",
      "Saving the dataset (1/1 shards): 100%|██████████| 10000/10000 [00:00<00:00, 308101.14 examples/s]\n",
      "Saving the dataset (1/1 shards): 100%|██████████| 10000/10000 [00:00<00:00, 295696.29 examples/s]\n",
      "Saving the dataset (1/1 shards): 100%|██████████| 10000/10000 [00:00<00:00, 255458.96 examples/s]\n",
      "Saving the dataset (1/1 shards): 100%|██████████| 10000/10000 [00:00<00:00, 347645.15 examples/s]\n",
      "Saving the dataset (1/1 shards): 100%|██████████| 10000/10000 [00:00<00:00, 116352.66 examples/s]\n",
      "Saving the dataset (1/1 shards): 100%|██████████| 10000/10000 [00:00<00:00, 191380.91 examples/s]\n",
      "Saving the dataset (1/1 shards): 100%|██████████| 10000/10000 [00:00<00:00, 54886.34 examples/s]\n",
      "Saving the dataset (1/1 shards): 100%|██████████| 10000/10000 [00:00<00:00, 98140.38 examples/s] \n",
      "Saving the dataset (1/1 shards): 100%|██████████| 10000/10000 [00:00<00:00, 128683.71 examples/s]\n",
      "Saving the dataset (1/1 shards): 100%|██████████| 10000/10000 [00:00<00:00, 51270.28 examples/s]\n",
      "Saving the dataset (1/1 shards): 100%|██████████| 10000/10000 [00:00<00:00, 138544.76 examples/s]\n",
      "Saving the dataset (1/1 shards): 100%|██████████| 10000/10000 [00:00<00:00, 60921.48 examples/s]\n",
      "Saving the dataset (1/1 shards): 100%|██████████| 10000/10000 [00:00<00:00, 16286.11 examples/s]\n",
      "Saving the dataset (1/1 shards): 100%|██████████| 10000/10000 [00:00<00:00, 26934.23 examples/s]\n",
      "Saving the dataset (1/1 shards): 100%|██████████| 10000/10000 [00:00<00:00, 53287.87 examples/s]\n",
      "Saving the dataset (1/1 shards): 100%|██████████| 10000/10000 [00:00<00:00, 181529.17 examples/s]\n",
      "Saving the dataset (1/1 shards): 100%|██████████| 10000/10000 [00:00<00:00, 274108.85 examples/s]\n",
      "Saving the dataset (1/1 shards): 100%|██████████| 10000/10000 [00:00<00:00, 377514.92 examples/s]\n",
      "Saving the dataset (1/1 shards): 100%|██████████| 10000/10000 [00:00<00:00, 290130.74 examples/s]\n",
      "Saving the dataset (1/1 shards): 100%|██████████| 10000/10000 [00:00<00:00, 280289.22 examples/s]\n",
      "Saving the dataset (1/1 shards): 100%|██████████| 10000/10000 [00:00<00:00, 636851.50 examples/s]\n",
      "Saving the dataset (1/1 shards): 100%|██████████| 10000/10000 [00:00<00:00, 74658.98 examples/s]\n",
      "Saving the dataset (1/1 shards): 100%|██████████| 10000/10000 [00:00<00:00, 88706.01 examples/s]\n",
      "Saving the dataset (1/1 shards): 100%|██████████| 10000/10000 [00:00<00:00, 17911.52 examples/s]\n",
      "Saving the dataset (1/1 shards): 100%|██████████| 10000/10000 [00:00<00:00, 19801.11 examples/s]\n",
      "Saving the dataset (1/1 shards): 100%|██████████| 10000/10000 [00:00<00:00, 356062.04 examples/s]\n",
      "Saving the dataset (1/1 shards): 100%|██████████| 10000/10000 [00:00<00:00, 366276.37 examples/s]\n",
      "Saving the dataset (1/1 shards): 100%|██████████| 10000/10000 [00:00<00:00, 210655.78 examples/s]\n",
      "Saving the dataset (1/1 shards): 100%|██████████| 10000/10000 [00:00<00:00, 419296.23 examples/s]\n",
      "Saving the dataset (1/1 shards): 100%|██████████| 10000/10000 [00:00<00:00, 149189.16 examples/s]\n",
      "Saving the dataset (1/1 shards): 100%|██████████| 10000/10000 [00:00<00:00, 153048.86 examples/s]\n",
      "Saving the dataset (1/1 shards): 100%|██████████| 10000/10000 [00:00<00:00, 265856.01 examples/s]\n",
      "Saving the dataset (1/1 shards): 100%|██████████| 10000/10000 [00:00<00:00, 235496.14 examples/s]\n",
      "Saving the dataset (1/1 shards): 100%|██████████| 10000/10000 [00:00<00:00, 421212.13 examples/s]\n",
      "Saving the dataset (1/1 shards): 100%|██████████| 10000/10000 [00:00<00:00, 254359.02 examples/s]\n",
      "Saving the dataset (1/1 shards): 100%|██████████| 10000/10000 [00:00<00:00, 265239.01 examples/s]\n",
      "Saving the dataset (1/1 shards): 100%|██████████| 10000/10000 [00:00<00:00, 251408.84 examples/s]\n",
      "Saving the dataset (1/1 shards): 100%|██████████| 10000/10000 [00:00<00:00, 222468.19 examples/s]\n",
      "Saving the dataset (1/1 shards): 100%|██████████| 10000/10000 [00:00<00:00, 184706.82 examples/s]\n",
      "Saving the dataset (1/1 shards): 100%|██████████| 10000/10000 [00:00<00:00, 164530.26 examples/s]\n",
      "Saving the dataset (1/1 shards): 100%|██████████| 10000/10000 [00:00<00:00, 134790.10 examples/s]\n",
      "Saving the dataset (1/1 shards): 100%|██████████| 10000/10000 [00:00<00:00, 104205.79 examples/s]\n",
      "Saving the dataset (1/1 shards): 100%|██████████| 10000/10000 [00:00<00:00, 106666.67 examples/s]\n",
      "Saving the dataset (1/1 shards): 100%|██████████| 10000/10000 [00:00<00:00, 139003.45 examples/s]\n",
      "Saving the dataset (1/1 shards): 100%|██████████| 10000/10000 [00:00<00:00, 66753.20 examples/s]\n",
      "Saving the dataset (1/1 shards): 100%|██████████| 10000/10000 [00:00<00:00, 80695.38 examples/s]\n",
      "Saving the dataset (1/1 shards): 100%|██████████| 10000/10000 [00:00<00:00, 38733.00 examples/s]\n",
      "Saving the dataset (1/1 shards): 100%|██████████| 10000/10000 [00:00<00:00, 38544.21 examples/s]\n",
      "Saving the dataset (1/1 shards): 100%|██████████| 10000/10000 [00:00<00:00, 41394.97 examples/s]\n",
      "Saving the dataset (1/1 shards): 100%|██████████| 10000/10000 [00:00<00:00, 65306.41 examples/s]\n",
      "Saving the dataset (1/1 shards): 100%|██████████| 10000/10000 [00:00<00:00, 105326.04 examples/s]\n",
      "Saving the dataset (1/1 shards): 100%|██████████| 10000/10000 [00:00<00:00, 639648.63 examples/s]\n",
      "Saving the dataset (1/1 shards): 100%|██████████| 10000/10000 [00:00<00:00, 221276.92 examples/s]\n",
      "Saving the dataset (1/1 shards): 100%|██████████| 10000/10000 [00:00<00:00, 239182.48 examples/s]\n",
      "Saving the dataset (1/1 shards): 100%|██████████| 10000/10000 [00:00<00:00, 246464.25 examples/s]\n",
      "Saving the dataset (1/1 shards): 100%|██████████| 10000/10000 [00:00<00:00, 245412.97 examples/s]\n",
      "Saving the dataset (1/1 shards): 100%|██████████| 10000/10000 [00:00<00:00, 747474.56 examples/s]\n",
      "Saving the dataset (1/1 shards): 100%|██████████| 10000/10000 [00:00<00:00, 201115.50 examples/s]\n",
      "Saving the dataset (1/1 shards): 100%|██████████| 10000/10000 [00:00<00:00, 138388.42 examples/s]\n",
      "Saving the dataset (1/1 shards): 100%|██████████| 10000/10000 [00:00<00:00, 90620.64 examples/s]\n",
      "Saving the dataset (1/1 shards): 100%|██████████| 10000/10000 [00:00<00:00, 99167.14 examples/s]\n",
      "Saving the dataset (1/1 shards): 100%|██████████| 10000/10000 [00:00<00:00, 200335.49 examples/s]\n",
      "Saving the dataset (1/1 shards): 100%|██████████| 10000/10000 [00:00<00:00, 327357.76 examples/s]\n",
      "Saving the dataset (1/1 shards): 100%|██████████| 10000/10000 [00:00<00:00, 249368.54 examples/s]\n",
      "Saving the dataset (1/1 shards): 100%|██████████| 10000/10000 [00:00<00:00, 226338.64 examples/s]\n",
      "Saving the dataset (1/1 shards): 100%|██████████| 10000/10000 [00:00<00:00, 229832.43 examples/s]\n",
      "Saving the dataset (1/1 shards): 100%|██████████| 10000/10000 [00:00<00:00, 71756.14 examples/s]\n",
      "Saving the dataset (1/1 shards): 100%|██████████| 10000/10000 [00:00<00:00, 137993.68 examples/s]\n",
      "Saving the dataset (1/1 shards): 100%|██████████| 10000/10000 [00:00<00:00, 44316.73 examples/s]\n",
      "Saving the dataset (1/1 shards): 100%|██████████| 10000/10000 [00:00<00:00, 379832.83 examples/s]\n",
      "Saving the dataset (1/1 shards): 100%|██████████| 10000/10000 [00:00<00:00, 260575.66 examples/s]\n",
      "Saving the dataset (1/1 shards): 100%|██████████| 10000/10000 [00:00<00:00, 240194.71 examples/s]\n",
      "Saving the dataset (1/1 shards): 100%|██████████| 10000/10000 [00:00<00:00, 246853.00 examples/s]\n",
      "Saving the dataset (1/1 shards): 100%|██████████| 10000/10000 [00:00<00:00, 223587.70 examples/s]\n",
      "Saving the dataset (1/1 shards): 100%|██████████| 10000/10000 [00:00<00:00, 183025.51 examples/s]\n",
      "Saving the dataset (1/1 shards): 100%|██████████| 10000/10000 [00:00<00:00, 148779.03 examples/s]\n",
      "Saving the dataset (1/1 shards): 100%|██████████| 10000/10000 [00:00<00:00, 299103.89 examples/s]\n",
      "Saving the dataset (1/1 shards): 100%|██████████| 10000/10000 [00:00<00:00, 121001.99 examples/s]\n",
      "Saving the dataset (1/1 shards): 100%|██████████| 10000/10000 [00:00<00:00, 890794.10 examples/s]\n",
      "Saving the dataset (1/1 shards): 100%|██████████| 10000/10000 [00:00<00:00, 344608.91 examples/s]\n",
      "Saving the dataset (1/1 shards): 100%|██████████| 10000/10000 [00:00<00:00, 209782.33 examples/s]\n",
      "Saving the dataset (1/1 shards): 100%|██████████| 10000/10000 [00:00<00:00, 105581.63 examples/s]\n",
      "Saving the dataset (1/1 shards): 100%|██████████| 10000/10000 [00:00<00:00, 24111.49 examples/s]\n",
      "Saving the dataset (1/1 shards): 100%|██████████| 10000/10000 [00:00<00:00, 57249.02 examples/s]\n",
      "Saving the dataset (1/1 shards): 100%|██████████| 10000/10000 [00:00<00:00, 51544.17 examples/s]\n",
      "Saving the dataset (1/1 shards): 100%|██████████| 10000/10000 [00:00<00:00, 73309.43 examples/s]\n",
      "Saving the dataset (1/1 shards): 100%|██████████| 10000/10000 [00:00<00:00, 93195.16 examples/s]\n",
      "Saving the dataset (1/1 shards): 100%|██████████| 10000/10000 [00:00<00:00, 105936.56 examples/s]\n",
      "Saving the dataset (1/1 shards): 100%|██████████| 10000/10000 [00:00<00:00, 146390.38 examples/s]\n",
      "Saving the dataset (1/1 shards): 100%|██████████| 10000/10000 [00:00<00:00, 131643.83 examples/s]\n",
      "Saving the dataset (1/1 shards): 100%|██████████| 10000/10000 [00:00<00:00, 297230.16 examples/s]\n",
      "Saving the dataset (1/1 shards): 100%|██████████| 10000/10000 [00:00<00:00, 153389.16 examples/s]\n",
      "Saving the dataset (1/1 shards): 100%|██████████| 10000/10000 [00:00<00:00, 234106.79 examples/s]\n",
      "Saving the dataset (1/1 shards): 100%|██████████| 10000/10000 [00:00<00:00, 233076.45 examples/s]\n",
      "Saving the dataset (1/1 shards): 100%|██████████| 10000/10000 [00:00<00:00, 247965.05 examples/s]\n",
      "Saving the dataset (1/1 shards): 100%|██████████| 10000/10000 [00:00<00:00, 65645.34 examples/s]\n",
      "Saving the dataset (1/1 shards): 100%|██████████| 10000/10000 [00:00<00:00, 176406.18 examples/s]\n",
      "Saving the dataset (1/1 shards): 100%|██████████| 10000/10000 [00:00<00:00, 235345.50 examples/s]\n",
      "Saving the dataset (1/1 shards): 100%|██████████| 10000/10000 [00:00<00:00, 636204.29 examples/s]\n",
      "Saving the dataset (1/1 shards): 100%|██████████| 10000/10000 [00:00<00:00, 273749.26 examples/s]\n",
      "Saving the dataset (1/1 shards): 100%|██████████| 10000/10000 [00:00<00:00, 216412.07 examples/s]\n",
      "Saving the dataset (1/1 shards): 100%|██████████| 10000/10000 [00:00<00:00, 270862.38 examples/s]\n",
      "Saving the dataset (1/1 shards): 100%|██████████| 10000/10000 [00:00<00:00, 313119.92 examples/s]\n",
      "Saving the dataset (1/1 shards): 100%|██████████| 10000/10000 [00:00<00:00, 318849.37 examples/s]\n",
      "Saving the dataset (1/1 shards): 100%|██████████| 10000/10000 [00:00<00:00, 176591.86 examples/s]\n",
      "Saving the dataset (1/1 shards): 100%|██████████| 10000/10000 [00:00<00:00, 192472.55 examples/s]\n",
      "Saving the dataset (1/1 shards): 100%|██████████| 10000/10000 [00:00<00:00, 46783.60 examples/s]\n",
      "Saving the dataset (1/1 shards): 100%|██████████| 10000/10000 [00:00<00:00, 78188.19 examples/s]\n",
      "Saving the dataset (1/1 shards): 100%|██████████| 10000/10000 [00:00<00:00, 53310.22 examples/s]\n",
      "Saving the dataset (1/1 shards): 100%|██████████| 10000/10000 [00:00<00:00, 24063.72 examples/s]\n",
      "Saving the dataset (1/1 shards): 100%|██████████| 10000/10000 [00:00<00:00, 73972.31 examples/s]\n",
      "Saving the dataset (1/1 shards): 100%|██████████| 10000/10000 [00:00<00:00, 107447.90 examples/s]\n",
      "Saving the dataset (1/1 shards): 100%|██████████| 10000/10000 [00:00<00:00, 231992.26 examples/s]\n",
      "Saving the dataset (1/1 shards): 100%|██████████| 10000/10000 [00:00<00:00, 234512.56 examples/s]\n",
      "Saving the dataset (1/1 shards): 100%|██████████| 10000/10000 [00:00<00:00, 390953.36 examples/s]\n",
      "Saving the dataset (1/1 shards): 100%|██████████| 10000/10000 [00:00<00:00, 245446.00 examples/s]\n",
      "Saving the dataset (1/1 shards): 100%|██████████| 10000/10000 [00:00<00:00, 239166.12 examples/s]\n",
      "Saving the dataset (1/1 shards): 100%|██████████| 10000/10000 [00:00<00:00, 308643.00 examples/s]\n",
      "Saving the dataset (1/1 shards): 100%|██████████| 10000/10000 [00:00<00:00, 223376.93 examples/s]\n",
      "Saving the dataset (1/1 shards): 100%|██████████| 10000/10000 [00:00<00:00, 273663.52 examples/s]\n",
      "Saving the dataset (1/1 shards): 100%|██████████| 10000/10000 [00:00<00:00, 70313.47 examples/s]\n",
      "Saving the dataset (1/1 shards): 100%|██████████| 10000/10000 [00:00<00:00, 109371.07 examples/s]\n",
      "Saving the dataset (1/1 shards): 100%|██████████| 10000/10000 [00:00<00:00, 76337.80 examples/s]\n",
      "Saving the dataset (1/1 shards): 100%|██████████| 10000/10000 [00:00<00:00, 175901.63 examples/s]\n",
      "Saving the dataset (1/1 shards): 100%|██████████| 10000/10000 [00:00<00:00, 148244.77 examples/s]\n",
      "Saving the dataset (1/1 shards): 100%|██████████| 10000/10000 [00:00<00:00, 194087.29 examples/s]\n",
      "Saving the dataset (1/1 shards): 100%|██████████| 10000/10000 [00:00<00:00, 288716.77 examples/s]\n",
      "Saving the dataset (1/1 shards): 100%|██████████| 10000/10000 [00:00<00:00, 256070.33 examples/s]\n",
      "Saving the dataset (1/1 shards): 100%|██████████| 10000/10000 [00:00<00:00, 436188.77 examples/s]\n",
      "Saving the dataset (1/1 shards): 100%|██████████| 10000/10000 [00:00<00:00, 287608.10 examples/s]\n",
      "Saving the dataset (1/1 shards): 100%|██████████| 10000/10000 [00:00<00:00, 363174.65 examples/s]\n",
      "Saving the dataset (1/1 shards): 100%|██████████| 10000/10000 [00:00<00:00, 273180.49 examples/s]\n",
      "Saving the dataset (1/1 shards): 100%|██████████| 10000/10000 [00:00<00:00, 353848.18 examples/s]\n",
      "Saving the dataset (1/1 shards): 100%|██████████| 10000/10000 [00:00<00:00, 255286.37 examples/s]\n",
      "Saving the dataset (1/1 shards): 100%|██████████| 10000/10000 [00:00<00:00, 183549.33 examples/s]\n",
      "Saving the dataset (1/1 shards): 100%|██████████| 10000/10000 [00:00<00:00, 121040.40 examples/s]\n",
      "Saving the dataset (1/1 shards): 100%|██████████| 10000/10000 [00:00<00:00, 60576.93 examples/s]\n",
      "Saving the dataset (1/1 shards): 100%|██████████| 10000/10000 [00:00<00:00, 32979.97 examples/s]\n",
      "Saving the dataset (1/1 shards): 100%|██████████| 10000/10000 [00:00<00:00, 32206.94 examples/s]\n",
      "Saving the dataset (1/1 shards): 100%|██████████| 10000/10000 [00:00<00:00, 75886.98 examples/s]\n",
      "Saving the dataset (1/1 shards): 100%|██████████| 1424/1424 [00:00<00:00, 4545.83 examples/s]\n"
     ]
    }
   ],
   "source": [
    "from datasets import Dataset\n",
    "\n",
    "# Define a function to split the dataframe into smaller chunks\n",
    "def process_in_chunks(df, chunk_size):\n",
    "    num_chunks = len(df) // chunk_size + 1\n",
    "    for i in range(num_chunks):\n",
    "        chunk = df[i * chunk_size:(i + 1) * chunk_size]\n",
    "        dataset = Dataset.from_pandas(chunk)\n",
    "        dataset.save_to_disk(f\"./datasets/snippets/cleaned_chunk_{i}\")\n",
    "\n",
    "# Process the dataframe in chunks (adjust the chunk size as needed)\n",
    "process_in_chunks(df, chunk_size=10000)  # For example, 10,000 rows per chunk\n"
   ]
  },
  {
   "cell_type": "code",
   "execution_count": 14,
   "metadata": {},
   "outputs": [
    {
     "data": {
      "text/plain": [
       "{'id': 88608,\n",
       " 'snippet': '/*\\r\\n * Copyright 2014 The Netty Project\\r\\n *\\r\\n * The Netty Project licenses this file to you under the Apache License,\\r\\n * version 2.0 (the \"License\"); you may not use this file except in compliance\\r\\n',\n",
       " 'language': 'Java',\n",
       " 'repo_file_name': 'netty/netty/resolver-dns/src/test/java/io/netty/resolver/dns/DnsServerAddressesTest.java',\n",
       " 'github_repo_url': 'https://github.com/netty/netty',\n",
       " 'license': 'Apache-2.0',\n",
       " 'commit_hash': 'a60825c3b425892af9be3e9284677aa8a58faa6b\\r\\n',\n",
       " 'starting_line_number': 0,\n",
       " 'chunk_size': 5}"
      ]
     },
     "execution_count": 14,
     "metadata": {},
     "output_type": "execute_result"
    }
   ],
   "source": [
    "dataset_chunk_0 = Dataset.load_from_disk(\"./datasets/snippets/cleaned_chunk_0\")\n",
    "\n",
    "dataset_chunk_0[0]"
   ]
  },
  {
   "cell_type": "markdown",
   "metadata": {},
   "source": [
    "---\n",
    "Now that you have embeddings working fine, it's time to store those embeddings in a vector database like ChromaDB. ChromaDB is a vector database that can store embeddings efficiently and support similarity search, which is useful for tasks like semantic search.\n",
    "\n",
    "Here’s how you can modify your code to store and retrieve embeddings using ChromaDB:\n",
    "\n",
    "### Step 1: Install Required Libraries\n",
    "\n",
    "Make sure you have the required libraries installed:\n",
    "\n",
    "- `chromadb`\n",
    "- `pandas`\n",
    "- `numpy`\n",
    "\n",
    "You can install ChromaDB using pip:"
   ]
  },
  {
   "cell_type": "code",
   "execution_count": 10,
   "metadata": {},
   "outputs": [],
   "source": [
    "# pip install chromadb pandas numpy"
   ]
  },
  {
   "cell_type": "markdown",
   "metadata": {},
   "source": [
    "\n",
    "---\n",
    "\n",
    "### **Step 3: Create Collection**\n",
    "You can now insert documents into the collection."
   ]
  },
  {
   "cell_type": "code",
   "execution_count": 2,
   "metadata": {},
   "outputs": [],
   "source": [
    "import chromadb\n",
    "import numpy as np\n",
    "import pandas as pd\n",
    "\n",
    "\n",
    "# Initialize ChromaDB client\n",
    "chroma_client = chromadb.Client()\n",
    "\n",
    "# Create or connect to collection\n",
    "collection_name = 'JavaCodeSnippetsDB'\n",
    "if collection_name not in chroma_client.list_collections():\n",
    "    chroma_client.create_collection(collection_name)\n",
    "\n",
    "collection = chroma_client.get_collection(collection_name)\n"
   ]
  },
  {
   "cell_type": "code",
   "execution_count": 3,
   "metadata": {},
   "outputs": [],
   "source": [
    "# ------------------------------------------------------------------------------\n",
    "# ------------------------------------------------------------------------------\n",
    "# ------------------------------------------------------------------------------\n",
    "chroma_client.delete_collection(collection_name) # Deletes the collection\n",
    "# ------------------------------------------------------------------------------\n",
    "# ------------------------------------------------------------------------------\n",
    "# ------------------------------------------------------------------------------"
   ]
  },
  {
   "cell_type": "code",
   "execution_count": 3,
   "metadata": {},
   "outputs": [
    {
     "name": "stdout",
     "output_type": "stream",
     "text": [
      "ChromaDB is working! Collections found: Collection(name=JavaCodeSnippetsDB)\n"
     ]
    }
   ],
   "source": [
    "if collection:\n",
    "    print(\"ChromaDB is working! Collections found:\", collection)\n",
    "else:\n",
    "    print(\"No collections found. Creating a new collection...\")"
   ]
  },
  {
   "cell_type": "markdown",
   "metadata": {},
   "source": [
    "\n",
    "---\n",
    "\n",
    "### **Step 4: Add Data to the Collection**\n",
    "You can now insert documents into the collection."
   ]
  },
  {
   "cell_type": "code",
   "execution_count": 6,
   "metadata": {},
   "outputs": [
    {
     "name": "stderr",
     "output_type": "stream",
     "text": [
      "e:\\Desktop\\Schoole\\ENSET\\BDCC-2\\Semester 3\\POO Java\\@@Project JAVA LLM\\TEST\\File PDF MD TEST\\Ollama-Set-RAG\\.venv\\Lib\\site-packages\\tqdm\\auto.py:21: TqdmWarning: IProgress not found. Please update jupyter and ipywidgets. See https://ipywidgets.readthedocs.io/en/stable/user_install.html\n",
      "  from .autonotebook import tqdm as notebook_tqdm\n"
     ]
    }
   ],
   "source": [
    "import os\n",
    "import json\n",
    "from datasets import Dataset\n",
    "from tqdm import tqdm\n"
   ]
  },
  {
   "cell_type": "code",
   "execution_count": 8,
   "metadata": {},
   "outputs": [
    {
     "name": "stdout",
     "output_type": "stream",
     "text": [
      "Found directories: ['cleaned_chunk_0', 'cleaned_chunk_1', 'cleaned_chunk_10', 'cleaned_chunk_100', 'cleaned_chunk_101', 'cleaned_chunk_102', 'cleaned_chunk_103', 'cleaned_chunk_104', 'cleaned_chunk_105', 'cleaned_chunk_106', 'cleaned_chunk_107', 'cleaned_chunk_108', 'cleaned_chunk_109', 'cleaned_chunk_11', 'cleaned_chunk_110', 'cleaned_chunk_111', 'cleaned_chunk_112', 'cleaned_chunk_113', 'cleaned_chunk_114', 'cleaned_chunk_115', 'cleaned_chunk_116', 'cleaned_chunk_117', 'cleaned_chunk_118', 'cleaned_chunk_119', 'cleaned_chunk_12', 'cleaned_chunk_120', 'cleaned_chunk_121', 'cleaned_chunk_122', 'cleaned_chunk_123', 'cleaned_chunk_124', 'cleaned_chunk_125', 'cleaned_chunk_126', 'cleaned_chunk_127', 'cleaned_chunk_128', 'cleaned_chunk_129', 'cleaned_chunk_13', 'cleaned_chunk_130', 'cleaned_chunk_131', 'cleaned_chunk_132', 'cleaned_chunk_133', 'cleaned_chunk_134', 'cleaned_chunk_135', 'cleaned_chunk_136', 'cleaned_chunk_137', 'cleaned_chunk_138', 'cleaned_chunk_139', 'cleaned_chunk_14', 'cleaned_chunk_140', 'cleaned_chunk_141', 'cleaned_chunk_142', 'cleaned_chunk_143', 'cleaned_chunk_144', 'cleaned_chunk_145', 'cleaned_chunk_146', 'cleaned_chunk_147', 'cleaned_chunk_148', 'cleaned_chunk_149', 'cleaned_chunk_15', 'cleaned_chunk_150', 'cleaned_chunk_151', 'cleaned_chunk_152', 'cleaned_chunk_153', 'cleaned_chunk_154', 'cleaned_chunk_155', 'cleaned_chunk_156', 'cleaned_chunk_157', 'cleaned_chunk_158', 'cleaned_chunk_159', 'cleaned_chunk_16', 'cleaned_chunk_160', 'cleaned_chunk_161', 'cleaned_chunk_162', 'cleaned_chunk_163', 'cleaned_chunk_164', 'cleaned_chunk_165', 'cleaned_chunk_166', 'cleaned_chunk_167', 'cleaned_chunk_168', 'cleaned_chunk_169', 'cleaned_chunk_17', 'cleaned_chunk_170', 'cleaned_chunk_171', 'cleaned_chunk_172', 'cleaned_chunk_173', 'cleaned_chunk_174', 'cleaned_chunk_175', 'cleaned_chunk_176', 'cleaned_chunk_177', 'cleaned_chunk_178', 'cleaned_chunk_179', 'cleaned_chunk_18', 'cleaned_chunk_180', 'cleaned_chunk_181', 'cleaned_chunk_182', 'cleaned_chunk_183', 'cleaned_chunk_184', 'cleaned_chunk_185', 'cleaned_chunk_186', 'cleaned_chunk_187', 'cleaned_chunk_188', 'cleaned_chunk_189', 'cleaned_chunk_19', 'cleaned_chunk_190', 'cleaned_chunk_191', 'cleaned_chunk_192', 'cleaned_chunk_193', 'cleaned_chunk_194', 'cleaned_chunk_195', 'cleaned_chunk_196', 'cleaned_chunk_197', 'cleaned_chunk_198', 'cleaned_chunk_199', 'cleaned_chunk_2', 'cleaned_chunk_20', 'cleaned_chunk_200', 'cleaned_chunk_201', 'cleaned_chunk_202', 'cleaned_chunk_203', 'cleaned_chunk_204', 'cleaned_chunk_205', 'cleaned_chunk_206', 'cleaned_chunk_207', 'cleaned_chunk_208', 'cleaned_chunk_209', 'cleaned_chunk_21', 'cleaned_chunk_210', 'cleaned_chunk_211', 'cleaned_chunk_212', 'cleaned_chunk_213', 'cleaned_chunk_214', 'cleaned_chunk_215', 'cleaned_chunk_216', 'cleaned_chunk_217', 'cleaned_chunk_218', 'cleaned_chunk_219', 'cleaned_chunk_22', 'cleaned_chunk_220', 'cleaned_chunk_221', 'cleaned_chunk_222', 'cleaned_chunk_223', 'cleaned_chunk_224', 'cleaned_chunk_225', 'cleaned_chunk_226', 'cleaned_chunk_227', 'cleaned_chunk_228', 'cleaned_chunk_229', 'cleaned_chunk_23', 'cleaned_chunk_230', 'cleaned_chunk_231', 'cleaned_chunk_232', 'cleaned_chunk_233', 'cleaned_chunk_234', 'cleaned_chunk_235', 'cleaned_chunk_236', 'cleaned_chunk_237', 'cleaned_chunk_238', 'cleaned_chunk_239', 'cleaned_chunk_24', 'cleaned_chunk_240', 'cleaned_chunk_241', 'cleaned_chunk_242', 'cleaned_chunk_243', 'cleaned_chunk_244', 'cleaned_chunk_245', 'cleaned_chunk_246', 'cleaned_chunk_247', 'cleaned_chunk_248', 'cleaned_chunk_249', 'cleaned_chunk_25', 'cleaned_chunk_250', 'cleaned_chunk_251', 'cleaned_chunk_252', 'cleaned_chunk_253', 'cleaned_chunk_254', 'cleaned_chunk_255', 'cleaned_chunk_256', 'cleaned_chunk_257', 'cleaned_chunk_258', 'cleaned_chunk_259', 'cleaned_chunk_26', 'cleaned_chunk_260', 'cleaned_chunk_261', 'cleaned_chunk_262', 'cleaned_chunk_263', 'cleaned_chunk_264', 'cleaned_chunk_265', 'cleaned_chunk_266', 'cleaned_chunk_267', 'cleaned_chunk_268', 'cleaned_chunk_269', 'cleaned_chunk_27', 'cleaned_chunk_270', 'cleaned_chunk_271', 'cleaned_chunk_272', 'cleaned_chunk_273', 'cleaned_chunk_274', 'cleaned_chunk_275', 'cleaned_chunk_276', 'cleaned_chunk_277', 'cleaned_chunk_278', 'cleaned_chunk_279', 'cleaned_chunk_28', 'cleaned_chunk_280', 'cleaned_chunk_281', 'cleaned_chunk_282', 'cleaned_chunk_283', 'cleaned_chunk_284', 'cleaned_chunk_285', 'cleaned_chunk_286', 'cleaned_chunk_287', 'cleaned_chunk_288', 'cleaned_chunk_289', 'cleaned_chunk_29', 'cleaned_chunk_290', 'cleaned_chunk_291', 'cleaned_chunk_292', 'cleaned_chunk_293', 'cleaned_chunk_294', 'cleaned_chunk_295', 'cleaned_chunk_296', 'cleaned_chunk_297', 'cleaned_chunk_298', 'cleaned_chunk_299', 'cleaned_chunk_3', 'cleaned_chunk_30', 'cleaned_chunk_300', 'cleaned_chunk_301', 'cleaned_chunk_302', 'cleaned_chunk_303', 'cleaned_chunk_304', 'cleaned_chunk_305', 'cleaned_chunk_306', 'cleaned_chunk_307', 'cleaned_chunk_308', 'cleaned_chunk_309', 'cleaned_chunk_31', 'cleaned_chunk_310', 'cleaned_chunk_311', 'cleaned_chunk_312', 'cleaned_chunk_313', 'cleaned_chunk_314', 'cleaned_chunk_315', 'cleaned_chunk_316', 'cleaned_chunk_317', 'cleaned_chunk_318', 'cleaned_chunk_319', 'cleaned_chunk_32', 'cleaned_chunk_320', 'cleaned_chunk_321', 'cleaned_chunk_322', 'cleaned_chunk_323', 'cleaned_chunk_324', 'cleaned_chunk_325', 'cleaned_chunk_326', 'cleaned_chunk_327', 'cleaned_chunk_328', 'cleaned_chunk_329', 'cleaned_chunk_33', 'cleaned_chunk_330', 'cleaned_chunk_331', 'cleaned_chunk_332', 'cleaned_chunk_333', 'cleaned_chunk_334', 'cleaned_chunk_335', 'cleaned_chunk_336', 'cleaned_chunk_337', 'cleaned_chunk_338', 'cleaned_chunk_339', 'cleaned_chunk_34', 'cleaned_chunk_340', 'cleaned_chunk_341', 'cleaned_chunk_342', 'cleaned_chunk_343', 'cleaned_chunk_344', 'cleaned_chunk_345', 'cleaned_chunk_346', 'cleaned_chunk_347', 'cleaned_chunk_348', 'cleaned_chunk_349', 'cleaned_chunk_35', 'cleaned_chunk_350', 'cleaned_chunk_351', 'cleaned_chunk_352', 'cleaned_chunk_353', 'cleaned_chunk_354', 'cleaned_chunk_355', 'cleaned_chunk_356', 'cleaned_chunk_357', 'cleaned_chunk_358', 'cleaned_chunk_359', 'cleaned_chunk_36', 'cleaned_chunk_360', 'cleaned_chunk_361', 'cleaned_chunk_362', 'cleaned_chunk_363', 'cleaned_chunk_364', 'cleaned_chunk_365', 'cleaned_chunk_366', 'cleaned_chunk_367', 'cleaned_chunk_368', 'cleaned_chunk_369', 'cleaned_chunk_37', 'cleaned_chunk_370', 'cleaned_chunk_371', 'cleaned_chunk_372', 'cleaned_chunk_373', 'cleaned_chunk_374', 'cleaned_chunk_375', 'cleaned_chunk_376', 'cleaned_chunk_377', 'cleaned_chunk_378', 'cleaned_chunk_379', 'cleaned_chunk_38', 'cleaned_chunk_380', 'cleaned_chunk_381', 'cleaned_chunk_382', 'cleaned_chunk_383', 'cleaned_chunk_384', 'cleaned_chunk_385', 'cleaned_chunk_386', 'cleaned_chunk_387', 'cleaned_chunk_388', 'cleaned_chunk_389', 'cleaned_chunk_39', 'cleaned_chunk_390', 'cleaned_chunk_391', 'cleaned_chunk_392', 'cleaned_chunk_393', 'cleaned_chunk_394', 'cleaned_chunk_395', 'cleaned_chunk_396', 'cleaned_chunk_397', 'cleaned_chunk_398', 'cleaned_chunk_399', 'cleaned_chunk_4', 'cleaned_chunk_40', 'cleaned_chunk_400', 'cleaned_chunk_401', 'cleaned_chunk_402', 'cleaned_chunk_403', 'cleaned_chunk_404', 'cleaned_chunk_405', 'cleaned_chunk_406', 'cleaned_chunk_407', 'cleaned_chunk_408', 'cleaned_chunk_409', 'cleaned_chunk_41', 'cleaned_chunk_410', 'cleaned_chunk_411', 'cleaned_chunk_412', 'cleaned_chunk_413', 'cleaned_chunk_414', 'cleaned_chunk_415', 'cleaned_chunk_416', 'cleaned_chunk_417', 'cleaned_chunk_418', 'cleaned_chunk_419', 'cleaned_chunk_42', 'cleaned_chunk_420', 'cleaned_chunk_421', 'cleaned_chunk_422', 'cleaned_chunk_423', 'cleaned_chunk_424', 'cleaned_chunk_425', 'cleaned_chunk_426', 'cleaned_chunk_427', 'cleaned_chunk_428', 'cleaned_chunk_429', 'cleaned_chunk_43', 'cleaned_chunk_430', 'cleaned_chunk_431', 'cleaned_chunk_432', 'cleaned_chunk_433', 'cleaned_chunk_434', 'cleaned_chunk_435', 'cleaned_chunk_436', 'cleaned_chunk_437', 'cleaned_chunk_438', 'cleaned_chunk_439', 'cleaned_chunk_44', 'cleaned_chunk_440', 'cleaned_chunk_441', 'cleaned_chunk_442', 'cleaned_chunk_443', 'cleaned_chunk_444', 'cleaned_chunk_445', 'cleaned_chunk_446', 'cleaned_chunk_447', 'cleaned_chunk_448', 'cleaned_chunk_449', 'cleaned_chunk_45', 'cleaned_chunk_450', 'cleaned_chunk_451', 'cleaned_chunk_452', 'cleaned_chunk_453', 'cleaned_chunk_454', 'cleaned_chunk_455', 'cleaned_chunk_456', 'cleaned_chunk_457', 'cleaned_chunk_458', 'cleaned_chunk_459', 'cleaned_chunk_46', 'cleaned_chunk_460', 'cleaned_chunk_461', 'cleaned_chunk_462', 'cleaned_chunk_463', 'cleaned_chunk_464', 'cleaned_chunk_465', 'cleaned_chunk_466', 'cleaned_chunk_467', 'cleaned_chunk_468', 'cleaned_chunk_469', 'cleaned_chunk_47', 'cleaned_chunk_470', 'cleaned_chunk_471', 'cleaned_chunk_472', 'cleaned_chunk_473', 'cleaned_chunk_474', 'cleaned_chunk_475', 'cleaned_chunk_476', 'cleaned_chunk_477', 'cleaned_chunk_478', 'cleaned_chunk_479', 'cleaned_chunk_48', 'cleaned_chunk_480', 'cleaned_chunk_481', 'cleaned_chunk_482', 'cleaned_chunk_483', 'cleaned_chunk_484', 'cleaned_chunk_485', 'cleaned_chunk_486', 'cleaned_chunk_487', 'cleaned_chunk_488', 'cleaned_chunk_489', 'cleaned_chunk_49', 'cleaned_chunk_490', 'cleaned_chunk_491', 'cleaned_chunk_492', 'cleaned_chunk_493', 'cleaned_chunk_494', 'cleaned_chunk_495', 'cleaned_chunk_496', 'cleaned_chunk_497', 'cleaned_chunk_498', 'cleaned_chunk_499', 'cleaned_chunk_5', 'cleaned_chunk_50', 'cleaned_chunk_500', 'cleaned_chunk_501', 'cleaned_chunk_502', 'cleaned_chunk_503', 'cleaned_chunk_504', 'cleaned_chunk_505', 'cleaned_chunk_506', 'cleaned_chunk_507', 'cleaned_chunk_508', 'cleaned_chunk_509', 'cleaned_chunk_51', 'cleaned_chunk_510', 'cleaned_chunk_511', 'cleaned_chunk_512', 'cleaned_chunk_513', 'cleaned_chunk_514', 'cleaned_chunk_515', 'cleaned_chunk_516', 'cleaned_chunk_517', 'cleaned_chunk_518', 'cleaned_chunk_519', 'cleaned_chunk_52', 'cleaned_chunk_520', 'cleaned_chunk_521', 'cleaned_chunk_522', 'cleaned_chunk_523', 'cleaned_chunk_524', 'cleaned_chunk_525', 'cleaned_chunk_526', 'cleaned_chunk_527', 'cleaned_chunk_528', 'cleaned_chunk_529', 'cleaned_chunk_53', 'cleaned_chunk_530', 'cleaned_chunk_531', 'cleaned_chunk_532', 'cleaned_chunk_533', 'cleaned_chunk_534', 'cleaned_chunk_535', 'cleaned_chunk_536', 'cleaned_chunk_537', 'cleaned_chunk_538', 'cleaned_chunk_539', 'cleaned_chunk_54', 'cleaned_chunk_540', 'cleaned_chunk_541', 'cleaned_chunk_542', 'cleaned_chunk_543', 'cleaned_chunk_544', 'cleaned_chunk_545', 'cleaned_chunk_546', 'cleaned_chunk_547', 'cleaned_chunk_548', 'cleaned_chunk_549', 'cleaned_chunk_55', 'cleaned_chunk_550', 'cleaned_chunk_551', 'cleaned_chunk_552', 'cleaned_chunk_553', 'cleaned_chunk_554', 'cleaned_chunk_555', 'cleaned_chunk_556', 'cleaned_chunk_557', 'cleaned_chunk_558', 'cleaned_chunk_559', 'cleaned_chunk_56', 'cleaned_chunk_560', 'cleaned_chunk_561', 'cleaned_chunk_562', 'cleaned_chunk_563', 'cleaned_chunk_564', 'cleaned_chunk_565', 'cleaned_chunk_566', 'cleaned_chunk_567', 'cleaned_chunk_568', 'cleaned_chunk_569', 'cleaned_chunk_57', 'cleaned_chunk_570', 'cleaned_chunk_571', 'cleaned_chunk_572', 'cleaned_chunk_573', 'cleaned_chunk_574', 'cleaned_chunk_575', 'cleaned_chunk_576', 'cleaned_chunk_577', 'cleaned_chunk_578', 'cleaned_chunk_579', 'cleaned_chunk_58', 'cleaned_chunk_580', 'cleaned_chunk_581', 'cleaned_chunk_582', 'cleaned_chunk_583', 'cleaned_chunk_584', 'cleaned_chunk_585', 'cleaned_chunk_586', 'cleaned_chunk_587', 'cleaned_chunk_588', 'cleaned_chunk_589', 'cleaned_chunk_59', 'cleaned_chunk_590', 'cleaned_chunk_591', 'cleaned_chunk_592', 'cleaned_chunk_593', 'cleaned_chunk_594', 'cleaned_chunk_595', 'cleaned_chunk_596', 'cleaned_chunk_597', 'cleaned_chunk_598', 'cleaned_chunk_599', 'cleaned_chunk_6', 'cleaned_chunk_60', 'cleaned_chunk_600', 'cleaned_chunk_601', 'cleaned_chunk_602', 'cleaned_chunk_603', 'cleaned_chunk_604', 'cleaned_chunk_605', 'cleaned_chunk_606', 'cleaned_chunk_607', 'cleaned_chunk_608', 'cleaned_chunk_609', 'cleaned_chunk_61', 'cleaned_chunk_610', 'cleaned_chunk_611', 'cleaned_chunk_612', 'cleaned_chunk_613', 'cleaned_chunk_614', 'cleaned_chunk_615', 'cleaned_chunk_616', 'cleaned_chunk_617', 'cleaned_chunk_618', 'cleaned_chunk_619', 'cleaned_chunk_62', 'cleaned_chunk_620', 'cleaned_chunk_621', 'cleaned_chunk_622', 'cleaned_chunk_623', 'cleaned_chunk_624', 'cleaned_chunk_625', 'cleaned_chunk_626', 'cleaned_chunk_627', 'cleaned_chunk_628', 'cleaned_chunk_629', 'cleaned_chunk_63', 'cleaned_chunk_630', 'cleaned_chunk_631', 'cleaned_chunk_632', 'cleaned_chunk_633', 'cleaned_chunk_634', 'cleaned_chunk_635', 'cleaned_chunk_636', 'cleaned_chunk_637', 'cleaned_chunk_638', 'cleaned_chunk_639', 'cleaned_chunk_64', 'cleaned_chunk_640', 'cleaned_chunk_641', 'cleaned_chunk_642', 'cleaned_chunk_643', 'cleaned_chunk_644', 'cleaned_chunk_645', 'cleaned_chunk_646', 'cleaned_chunk_647', 'cleaned_chunk_648', 'cleaned_chunk_649', 'cleaned_chunk_65', 'cleaned_chunk_650', 'cleaned_chunk_651', 'cleaned_chunk_652', 'cleaned_chunk_653', 'cleaned_chunk_654', 'cleaned_chunk_655', 'cleaned_chunk_656', 'cleaned_chunk_657', 'cleaned_chunk_658', 'cleaned_chunk_659', 'cleaned_chunk_66', 'cleaned_chunk_660', 'cleaned_chunk_661', 'cleaned_chunk_662', 'cleaned_chunk_663', 'cleaned_chunk_664', 'cleaned_chunk_665', 'cleaned_chunk_666', 'cleaned_chunk_667', 'cleaned_chunk_668', 'cleaned_chunk_669', 'cleaned_chunk_67', 'cleaned_chunk_670', 'cleaned_chunk_671', 'cleaned_chunk_672', 'cleaned_chunk_673', 'cleaned_chunk_674', 'cleaned_chunk_675', 'cleaned_chunk_676', 'cleaned_chunk_677', 'cleaned_chunk_678', 'cleaned_chunk_679', 'cleaned_chunk_68', 'cleaned_chunk_680', 'cleaned_chunk_681', 'cleaned_chunk_682', 'cleaned_chunk_683', 'cleaned_chunk_684', 'cleaned_chunk_685', 'cleaned_chunk_686', 'cleaned_chunk_687', 'cleaned_chunk_688', 'cleaned_chunk_689', 'cleaned_chunk_69', 'cleaned_chunk_690', 'cleaned_chunk_691', 'cleaned_chunk_692', 'cleaned_chunk_693', 'cleaned_chunk_694', 'cleaned_chunk_695', 'cleaned_chunk_696', 'cleaned_chunk_697', 'cleaned_chunk_698', 'cleaned_chunk_699', 'cleaned_chunk_7', 'cleaned_chunk_70', 'cleaned_chunk_700', 'cleaned_chunk_701', 'cleaned_chunk_702', 'cleaned_chunk_703', 'cleaned_chunk_704', 'cleaned_chunk_705', 'cleaned_chunk_706', 'cleaned_chunk_707', 'cleaned_chunk_708', 'cleaned_chunk_709', 'cleaned_chunk_71', 'cleaned_chunk_710', 'cleaned_chunk_711', 'cleaned_chunk_712', 'cleaned_chunk_713', 'cleaned_chunk_714', 'cleaned_chunk_715', 'cleaned_chunk_716', 'cleaned_chunk_717', 'cleaned_chunk_718', 'cleaned_chunk_719', 'cleaned_chunk_72', 'cleaned_chunk_720', 'cleaned_chunk_721', 'cleaned_chunk_722', 'cleaned_chunk_723', 'cleaned_chunk_724', 'cleaned_chunk_725', 'cleaned_chunk_726', 'cleaned_chunk_727', 'cleaned_chunk_728', 'cleaned_chunk_729', 'cleaned_chunk_73', 'cleaned_chunk_730', 'cleaned_chunk_731', 'cleaned_chunk_732', 'cleaned_chunk_733', 'cleaned_chunk_734', 'cleaned_chunk_735', 'cleaned_chunk_736', 'cleaned_chunk_737', 'cleaned_chunk_738', 'cleaned_chunk_739', 'cleaned_chunk_74', 'cleaned_chunk_740', 'cleaned_chunk_741', 'cleaned_chunk_742', 'cleaned_chunk_743', 'cleaned_chunk_744', 'cleaned_chunk_745', 'cleaned_chunk_746', 'cleaned_chunk_747', 'cleaned_chunk_748', 'cleaned_chunk_749', 'cleaned_chunk_75', 'cleaned_chunk_750', 'cleaned_chunk_751', 'cleaned_chunk_752', 'cleaned_chunk_753', 'cleaned_chunk_754', 'cleaned_chunk_76', 'cleaned_chunk_77', 'cleaned_chunk_78', 'cleaned_chunk_79', 'cleaned_chunk_8', 'cleaned_chunk_80', 'cleaned_chunk_81', 'cleaned_chunk_82', 'cleaned_chunk_83', 'cleaned_chunk_84', 'cleaned_chunk_85', 'cleaned_chunk_86', 'cleaned_chunk_87', 'cleaned_chunk_88', 'cleaned_chunk_89', 'cleaned_chunk_9', 'cleaned_chunk_90', 'cleaned_chunk_91', 'cleaned_chunk_92', 'cleaned_chunk_93', 'cleaned_chunk_94', 'cleaned_chunk_95', 'cleaned_chunk_96', 'cleaned_chunk_97', 'cleaned_chunk_98', 'cleaned_chunk_99']\n",
      "Total chunks to process: 755\n"
     ]
    }
   ],
   "source": [
    "dataset_dir = \"./datasets/snippets/\"\n",
    "progress_file = \"./progress.json\" \n",
    "\n",
    "# Load progress from file, if it exists\n",
    "def load_progress():\n",
    "    if os.path.exists(progress_file):\n",
    "        with open(progress_file, 'r') as f:\n",
    "            progress = json.load(f)\n",
    "        return progress\n",
    "    return None\n",
    "\n",
    "# Save progress to file\n",
    "def save_progress(chunk_dir, row_idx):\n",
    "    progress = {\"chunk\": chunk_dir, \"last_row_idx\": row_idx}\n",
    "    with open(progress_file, 'w') as f:\n",
    "        json.dump(progress, f)\n",
    "    # Overwrite previous progress message\n",
    "    print(f\"Progress saved: {chunk_dir}, row {row_idx}\", end=\"\\r\")\n",
    "\n",
    "    \n",
    "# List all the subdirectories in the directory (folders that start with 'cleaned_chunk_')\n",
    "chunk_dirs = [f for f in os.listdir(dataset_dir) if os.path.isdir(os.path.join(dataset_dir, f)) and f.startswith('cleaned_chunk_')]\n",
    "\n",
    "print(\"Found directories:\", chunk_dirs)\n",
    "total_chunks = len(chunk_dirs)  # Total number of chunks\n",
    "print(f\"Total chunks to process: {total_chunks}\")"
   ]
  },
  {
   "cell_type": "code",
   "execution_count": 9,
   "metadata": {},
   "outputs": [
    {
     "name": "stdout",
     "output_type": "stream",
     "text": [
      "Starting from the beginning...\n",
      "Total chunks to process: 755\n"
     ]
    }
   ],
   "source": [
    "# Load the last progress (if any)\n",
    "progress = load_progress()\n",
    "\n",
    "if progress:\n",
    "    print(f\"Resuming from chunk: {progress['chunk']}, row {progress['last_row_idx']}\")\n",
    "    start_chunk = progress['chunk']\n",
    "    start_row_idx = progress['last_row_idx']\n",
    "else:\n",
    "    print(\"Starting from the beginning...\")\n",
    "    start_chunk = None\n",
    "    start_row_idx = None\n",
    "\n",
    "# Total number of chunks\n",
    "total_chunks = len(chunk_dirs)\n",
    "print(f\"Total chunks to process: {total_chunks}\")"
   ]
  },
  {
   "cell_type": "code",
   "execution_count": 10,
   "metadata": {},
   "outputs": [
    {
     "name": "stdout",
     "output_type": "stream",
     "text": [
      "Total chunks to process: 755\n"
     ]
    }
   ],
   "source": [
    "# Total number of chunks\n",
    "total_chunks = len(chunk_dirs)\n",
    "print(f\"Total chunks to process: {total_chunks}\")"
   ]
  },
  {
   "cell_type": "code",
   "execution_count": 11,
   "metadata": {},
   "outputs": [
    {
     "name": "stderr",
     "output_type": "stream",
     "text": [
      "Processing cleaned_chunk_0:   0%|                              | 1/10000 [00:01<4:06:23,  1.48s/row]"
     ]
    },
    {
     "name": "stdout",
     "output_type": "stream",
     "text": [
      "Progress saved: cleaned_chunk_0, row 1\r"
     ]
    },
    {
     "name": "stderr",
     "output_type": "stream",
     "text": [
      "Processing cleaned_chunk_0:   0%|                              | 2/10000 [00:01<2:16:31,  1.22row/s]"
     ]
    },
    {
     "name": "stdout",
     "output_type": "stream",
     "text": [
      "Progress saved: cleaned_chunk_0, row 2\r"
     ]
    },
    {
     "name": "stderr",
     "output_type": "stream",
     "text": [
      "Processing cleaned_chunk_0:   0%|                              | 3/10000 [00:02<1:46:39,  1.56row/s]"
     ]
    },
    {
     "name": "stdout",
     "output_type": "stream",
     "text": [
      "Progress saved: cleaned_chunk_0, row 4\r"
     ]
    },
    {
     "name": "stderr",
     "output_type": "stream",
     "text": [
      "Processing cleaned_chunk_0:   0%|                                | 5/10000 [00:02<56:32,  2.95row/s]"
     ]
    },
    {
     "name": "stdout",
     "output_type": "stream",
     "text": [
      "Progress saved: cleaned_chunk_0, row 7\r"
     ]
    },
    {
     "name": "stderr",
     "output_type": "stream",
     "text": [
      "Processing cleaned_chunk_0:   0%|                                | 9/10000 [00:02<27:38,  6.02row/s]"
     ]
    },
    {
     "name": "stdout",
     "output_type": "stream",
     "text": [
      "Progress saved: cleaned_chunk_0, row 9\r"
     ]
    },
    {
     "name": "stderr",
     "output_type": "stream",
     "text": [
      "Processing cleaned_chunk_0:   0%|                               | 10/10000 [00:03<25:13,  6.60row/s]"
     ]
    },
    {
     "name": "stdout",
     "output_type": "stream",
     "text": [
      "Progress saved: cleaned_chunk_0, row 10\r"
     ]
    },
    {
     "name": "stderr",
     "output_type": "stream",
     "text": [
      "Processing cleaned_chunk_0:   0%|                               | 11/10000 [00:03<30:46,  5.41row/s]"
     ]
    },
    {
     "name": "stdout",
     "output_type": "stream",
     "text": [
      "Progress saved: cleaned_chunk_0, row 12\r"
     ]
    },
    {
     "name": "stderr",
     "output_type": "stream",
     "text": [
      "Processing cleaned_chunk_0:   0%|                               | 14/10000 [00:03<29:09,  5.71row/s]"
     ]
    },
    {
     "name": "stdout",
     "output_type": "stream",
     "text": [
      "Progress saved: cleaned_chunk_0, row 14\r"
     ]
    },
    {
     "name": "stderr",
     "output_type": "stream",
     "text": [
      "Processing cleaned_chunk_0:   0%|                               | 16/10000 [00:04<27:50,  5.98row/s]"
     ]
    },
    {
     "name": "stdout",
     "output_type": "stream",
     "text": [
      "Progress saved: cleaned_chunk_0, row 16\r"
     ]
    },
    {
     "name": "stderr",
     "output_type": "stream",
     "text": [
      "Processing cleaned_chunk_0:   0%|                               | 17/10000 [00:04<26:01,  6.39row/s]"
     ]
    },
    {
     "name": "stdout",
     "output_type": "stream",
     "text": [
      "Progress saved: cleaned_chunk_0, row 17\r"
     ]
    },
    {
     "name": "stderr",
     "output_type": "stream",
     "text": [
      "Processing cleaned_chunk_0:   0%|                               | 18/10000 [00:04<34:17,  4.85row/s]"
     ]
    },
    {
     "name": "stdout",
     "output_type": "stream",
     "text": [
      "Progress saved: cleaned_chunk_0, row 18\r"
     ]
    },
    {
     "name": "stderr",
     "output_type": "stream",
     "text": [
      "Processing cleaned_chunk_0:   0%|                               | 20/10000 [00:05<45:52,  3.63row/s]"
     ]
    },
    {
     "name": "stdout",
     "output_type": "stream",
     "text": [
      "Progress saved: cleaned_chunk_0, row 20\r"
     ]
    },
    {
     "name": "stderr",
     "output_type": "stream",
     "text": [
      "Processing cleaned_chunk_0:   0%|                               | 22/10000 [00:05<31:55,  5.21row/s]"
     ]
    },
    {
     "name": "stdout",
     "output_type": "stream",
     "text": [
      "Progress saved: cleaned_chunk_0, row 23\r"
     ]
    },
    {
     "name": "stderr",
     "output_type": "stream",
     "text": [
      "Processing cleaned_chunk_0:   0%|                               | 25/10000 [00:06<25:25,  6.54row/s]"
     ]
    },
    {
     "name": "stdout",
     "output_type": "stream",
     "text": [
      "Progress saved: cleaned_chunk_0, row 25\r"
     ]
    },
    {
     "name": "stderr",
     "output_type": "stream",
     "text": [
      "Processing cleaned_chunk_0:   0%|                               | 26/10000 [00:06<26:02,  6.38row/s]"
     ]
    },
    {
     "name": "stdout",
     "output_type": "stream",
     "text": [
      "Progress saved: cleaned_chunk_0, row 26\r"
     ]
    },
    {
     "name": "stderr",
     "output_type": "stream",
     "text": [
      "Processing cleaned_chunk_0:   0%|                               | 27/10000 [00:06<36:00,  4.62row/s]"
     ]
    },
    {
     "name": "stdout",
     "output_type": "stream",
     "text": [
      "Progress saved: cleaned_chunk_0, row 27\r"
     ]
    },
    {
     "name": "stderr",
     "output_type": "stream",
     "text": [
      "Processing cleaned_chunk_0:   0%|                               | 28/10000 [00:06<43:41,  3.80row/s]"
     ]
    },
    {
     "name": "stdout",
     "output_type": "stream",
     "text": [
      "Progress saved: cleaned_chunk_0, row 28\r"
     ]
    },
    {
     "name": "stderr",
     "output_type": "stream",
     "text": [
      "Processing cleaned_chunk_0:   0%|                               | 29/10000 [00:07<46:15,  3.59row/s]"
     ]
    },
    {
     "name": "stdout",
     "output_type": "stream",
     "text": [
      "Progress saved: cleaned_chunk_0, row 29\r"
     ]
    },
    {
     "name": "stderr",
     "output_type": "stream",
     "text": [
      "Processing cleaned_chunk_0:   0%|                               | 30/10000 [00:07<48:55,  3.40row/s]"
     ]
    },
    {
     "name": "stdout",
     "output_type": "stream",
     "text": [
      "Progress saved: cleaned_chunk_0, row 30\r"
     ]
    },
    {
     "name": "stderr",
     "output_type": "stream",
     "text": [
      "Processing cleaned_chunk_0:   0%|                               | 31/10000 [00:07<48:50,  3.40row/s]"
     ]
    },
    {
     "name": "stdout",
     "output_type": "stream",
     "text": [
      "Progress saved: cleaned_chunk_0, row 31\r"
     ]
    },
    {
     "name": "stderr",
     "output_type": "stream",
     "text": [
      "Processing cleaned_chunk_0:   0%|                               | 32/10000 [00:08<49:05,  3.38row/s]"
     ]
    },
    {
     "name": "stdout",
     "output_type": "stream",
     "text": [
      "Progress saved: cleaned_chunk_0, row 32\r"
     ]
    },
    {
     "name": "stderr",
     "output_type": "stream",
     "text": [
      "Processing cleaned_chunk_0:   0%|                               | 33/10000 [00:08<57:05,  2.91row/s]"
     ]
    },
    {
     "name": "stdout",
     "output_type": "stream",
     "text": [
      "Progress saved: cleaned_chunk_0, row 33\r"
     ]
    },
    {
     "name": "stderr",
     "output_type": "stream",
     "text": [
      "Processing cleaned_chunk_0:   0%|                               | 35/10000 [00:09<52:01,  3.19row/s]"
     ]
    },
    {
     "name": "stdout",
     "output_type": "stream",
     "text": [
      "Progress saved: cleaned_chunk_0, row 35\r"
     ]
    },
    {
     "name": "stderr",
     "output_type": "stream",
     "text": [
      "Processing cleaned_chunk_0:   0%|                               | 37/10000 [00:09<36:00,  4.61row/s]"
     ]
    },
    {
     "name": "stdout",
     "output_type": "stream",
     "text": [
      "Progress saved: cleaned_chunk_0, row 37\r"
     ]
    },
    {
     "name": "stderr",
     "output_type": "stream",
     "text": [
      "Processing cleaned_chunk_0:   0%|                               | 39/10000 [00:09<29:25,  5.64row/s]"
     ]
    },
    {
     "name": "stdout",
     "output_type": "stream",
     "text": [
      "Progress saved: cleaned_chunk_0, row 39\r"
     ]
    },
    {
     "name": "stderr",
     "output_type": "stream",
     "text": [
      "Processing cleaned_chunk_0:   0%|▏                              | 41/10000 [00:09<24:08,  6.88row/s]"
     ]
    },
    {
     "name": "stdout",
     "output_type": "stream",
     "text": [
      "Progress saved: cleaned_chunk_0, row 41\r"
     ]
    },
    {
     "name": "stderr",
     "output_type": "stream",
     "text": [
      "Processing cleaned_chunk_0:   0%|▏                              | 42/10000 [00:10<25:54,  6.41row/s]"
     ]
    },
    {
     "name": "stdout",
     "output_type": "stream",
     "text": [
      "Progress saved: cleaned_chunk_0, row 42\r"
     ]
    },
    {
     "name": "stderr",
     "output_type": "stream",
     "text": [
      "Processing cleaned_chunk_0:   0%|▏                              | 44/10000 [00:10<29:49,  5.56row/s]"
     ]
    },
    {
     "name": "stdout",
     "output_type": "stream",
     "text": [
      "Progress saved: cleaned_chunk_0, row 44\r"
     ]
    },
    {
     "name": "stderr",
     "output_type": "stream",
     "text": [
      "Processing cleaned_chunk_0:   0%|▏                              | 46/10000 [00:10<25:25,  6.53row/s]"
     ]
    },
    {
     "name": "stdout",
     "output_type": "stream",
     "text": [
      "Progress saved: cleaned_chunk_0, row 46\r"
     ]
    },
    {
     "name": "stderr",
     "output_type": "stream",
     "text": [
      "Processing cleaned_chunk_0:   0%|▏                              | 48/10000 [00:11<23:38,  7.02row/s]"
     ]
    },
    {
     "name": "stdout",
     "output_type": "stream",
     "text": [
      "Progress saved: cleaned_chunk_0, row 48\r"
     ]
    },
    {
     "name": "stderr",
     "output_type": "stream",
     "text": [
      "Processing cleaned_chunk_0:   0%|▏                              | 50/10000 [00:11<42:01,  3.95row/s]"
     ]
    },
    {
     "name": "stdout",
     "output_type": "stream",
     "text": [
      "Progress saved: cleaned_chunk_0, row 50\r"
     ]
    },
    {
     "name": "stderr",
     "output_type": "stream",
     "text": [
      "Processing cleaned_chunk_0:   1%|▏                              | 52/10000 [00:12<32:05,  5.17row/s]"
     ]
    },
    {
     "name": "stdout",
     "output_type": "stream",
     "text": [
      "Progress saved: cleaned_chunk_0, row 52\r"
     ]
    },
    {
     "name": "stderr",
     "output_type": "stream",
     "text": [
      "Processing cleaned_chunk_0:   1%|▏                              | 54/10000 [00:12<29:31,  5.61row/s]"
     ]
    },
    {
     "name": "stdout",
     "output_type": "stream",
     "text": [
      "Progress saved: cleaned_chunk_0, row 54\r"
     ]
    },
    {
     "name": "stderr",
     "output_type": "stream",
     "text": [
      "Processing cleaned_chunk_0:   1%|▏                              | 55/10000 [00:12<35:58,  4.61row/s]"
     ]
    },
    {
     "name": "stdout",
     "output_type": "stream",
     "text": [
      "Progress saved: cleaned_chunk_0, row 55\r"
     ]
    },
    {
     "name": "stderr",
     "output_type": "stream",
     "text": [
      "Processing cleaned_chunk_0:   1%|▏                              | 56/10000 [00:13<46:07,  3.59row/s]"
     ]
    },
    {
     "name": "stdout",
     "output_type": "stream",
     "text": [
      "Progress saved: cleaned_chunk_0, row 56\r"
     ]
    },
    {
     "name": "stderr",
     "output_type": "stream",
     "text": [
      "Processing cleaned_chunk_0:   1%|▏                              | 58/10000 [00:13<37:11,  4.45row/s]"
     ]
    },
    {
     "name": "stdout",
     "output_type": "stream",
     "text": [
      "Progress saved: cleaned_chunk_0, row 58\r"
     ]
    },
    {
     "name": "stderr",
     "output_type": "stream",
     "text": [
      "Processing cleaned_chunk_0:   1%|▏                              | 60/10000 [00:13<29:12,  5.67row/s]"
     ]
    },
    {
     "name": "stdout",
     "output_type": "stream",
     "text": [
      "Progress saved: cleaned_chunk_0, row 60\r"
     ]
    },
    {
     "name": "stderr",
     "output_type": "stream",
     "text": [
      "Processing cleaned_chunk_0:   1%|▏                              | 62/10000 [00:14<28:00,  5.91row/s]"
     ]
    },
    {
     "name": "stdout",
     "output_type": "stream",
     "text": [
      "Progress saved: cleaned_chunk_0, row 62\r"
     ]
    },
    {
     "name": "stderr",
     "output_type": "stream",
     "text": [
      "Processing cleaned_chunk_0:   1%|▏                              | 64/10000 [00:14<25:48,  6.42row/s]"
     ]
    },
    {
     "name": "stdout",
     "output_type": "stream",
     "text": [
      "Progress saved: cleaned_chunk_0, row 64\r"
     ]
    },
    {
     "name": "stderr",
     "output_type": "stream",
     "text": [
      "Processing cleaned_chunk_0:   1%|▏                              | 66/10000 [00:14<23:28,  7.05row/s]"
     ]
    },
    {
     "name": "stdout",
     "output_type": "stream",
     "text": [
      "Progress saved: cleaned_chunk_0, row 66\r"
     ]
    },
    {
     "name": "stderr",
     "output_type": "stream",
     "text": [
      "Processing cleaned_chunk_0:   1%|▏                              | 67/10000 [00:14<27:54,  5.93row/s]"
     ]
    },
    {
     "name": "stdout",
     "output_type": "stream",
     "text": [
      "Progress saved: cleaned_chunk_0, row 68\r"
     ]
    },
    {
     "name": "stderr",
     "output_type": "stream",
     "text": [
      "Processing cleaned_chunk_0:   1%|▏                              | 69/10000 [00:15<26:13,  6.31row/s]"
     ]
    },
    {
     "name": "stdout",
     "output_type": "stream",
     "text": [
      "Progress saved: cleaned_chunk_0, row 71\r"
     ]
    },
    {
     "name": "stderr",
     "output_type": "stream",
     "text": [
      "Processing cleaned_chunk_0:   1%|▏                              | 73/10000 [00:15<19:49,  8.35row/s]"
     ]
    },
    {
     "name": "stdout",
     "output_type": "stream",
     "text": [
      "Progress saved: cleaned_chunk_0, row 74\r"
     ]
    },
    {
     "name": "stderr",
     "output_type": "stream",
     "text": [
      "Processing cleaned_chunk_0:   1%|▏                              | 76/10000 [00:16<18:17,  9.04row/s]"
     ]
    },
    {
     "name": "stdout",
     "output_type": "stream",
     "text": [
      "Progress saved: cleaned_chunk_0, row 76\r"
     ]
    },
    {
     "name": "stderr",
     "output_type": "stream",
     "text": [
      "Processing cleaned_chunk_0:   1%|▏                              | 78/10000 [00:16<17:39,  9.36row/s]"
     ]
    },
    {
     "name": "stdout",
     "output_type": "stream",
     "text": [
      "Progress saved: cleaned_chunk_0, row 78\r"
     ]
    },
    {
     "name": "stderr",
     "output_type": "stream",
     "text": [
      "Processing cleaned_chunk_0:   1%|▏                              | 80/10000 [00:16<20:09,  8.20row/s]"
     ]
    },
    {
     "name": "stdout",
     "output_type": "stream",
     "text": [
      "Progress saved: cleaned_chunk_0, row 80\r"
     ]
    },
    {
     "name": "stderr",
     "output_type": "stream",
     "text": [
      "Processing cleaned_chunk_0:   1%|▎                              | 82/10000 [00:16<21:26,  7.71row/s]"
     ]
    },
    {
     "name": "stdout",
     "output_type": "stream",
     "text": [
      "Progress saved: cleaned_chunk_0, row 82\r"
     ]
    },
    {
     "name": "stderr",
     "output_type": "stream",
     "text": [
      "Processing cleaned_chunk_0:   1%|▎                              | 84/10000 [00:17<22:16,  7.42row/s]"
     ]
    },
    {
     "name": "stdout",
     "output_type": "stream",
     "text": [
      "Progress saved: cleaned_chunk_0, row 84\r"
     ]
    },
    {
     "name": "stderr",
     "output_type": "stream",
     "text": [
      "Processing cleaned_chunk_0:   1%|▎                              | 86/10000 [00:17<20:43,  7.97row/s]"
     ]
    },
    {
     "name": "stdout",
     "output_type": "stream",
     "text": [
      "Progress saved: cleaned_chunk_0, row 86\r"
     ]
    },
    {
     "name": "stderr",
     "output_type": "stream",
     "text": [
      "Processing cleaned_chunk_0:   1%|▎                              | 88/10000 [00:17<19:42,  8.38row/s]"
     ]
    },
    {
     "name": "stdout",
     "output_type": "stream",
     "text": [
      "Progress saved: cleaned_chunk_0, row 88\r"
     ]
    },
    {
     "name": "stderr",
     "output_type": "stream",
     "text": [
      "Processing cleaned_chunk_0:   1%|▎                              | 90/10000 [00:17<21:50,  7.56row/s]"
     ]
    },
    {
     "name": "stdout",
     "output_type": "stream",
     "text": [
      "Progress saved: cleaned_chunk_0, row 90\r"
     ]
    },
    {
     "name": "stderr",
     "output_type": "stream",
     "text": [
      "Processing cleaned_chunk_0:   1%|▎                              | 92/10000 [00:18<19:37,  8.42row/s]"
     ]
    },
    {
     "name": "stdout",
     "output_type": "stream",
     "text": [
      "Progress saved: cleaned_chunk_0, row 93\r"
     ]
    },
    {
     "name": "stderr",
     "output_type": "stream",
     "text": [
      "Processing cleaned_chunk_0:   1%|▎                              | 96/10000 [00:18<20:07,  8.20row/s]"
     ]
    },
    {
     "name": "stdout",
     "output_type": "stream",
     "text": [
      "Progress saved: cleaned_chunk_0, row 97\r"
     ]
    },
    {
     "name": "stderr",
     "output_type": "stream",
     "text": [
      "Processing cleaned_chunk_0:   1%|▎                              | 98/10000 [00:18<23:03,  7.16row/s]"
     ]
    },
    {
     "name": "stdout",
     "output_type": "stream",
     "text": [
      "Progress saved: cleaned_chunk_0, row 98\r"
     ]
    },
    {
     "name": "stderr",
     "output_type": "stream",
     "text": [
      "Processing cleaned_chunk_0:   1%|▎                             | 100/10000 [00:19<28:44,  5.74row/s]"
     ]
    },
    {
     "name": "stdout",
     "output_type": "stream",
     "text": [
      "Progress saved: cleaned_chunk_0, row 101\r"
     ]
    },
    {
     "name": "stderr",
     "output_type": "stream",
     "text": [
      "Processing cleaned_chunk_0:   1%|▎                             | 102/10000 [00:19<33:19,  4.95row/s]"
     ]
    },
    {
     "name": "stdout",
     "output_type": "stream",
     "text": [
      "Progress saved: cleaned_chunk_0, row 102\r"
     ]
    },
    {
     "name": "stderr",
     "output_type": "stream",
     "text": [
      "Processing cleaned_chunk_0:   1%|▎                             | 103/10000 [00:20<44:00,  3.75row/s]"
     ]
    },
    {
     "name": "stdout",
     "output_type": "stream",
     "text": [
      "Progress saved: cleaned_chunk_0, row 103\r"
     ]
    },
    {
     "name": "stderr",
     "output_type": "stream",
     "text": [
      "Processing cleaned_chunk_0:   1%|▎                             | 104/10000 [00:20<49:04,  3.36row/s]"
     ]
    },
    {
     "name": "stdout",
     "output_type": "stream",
     "text": [
      "Progress saved: cleaned_chunk_0, row 104\r"
     ]
    },
    {
     "name": "stderr",
     "output_type": "stream",
     "text": [
      "Processing cleaned_chunk_0:   1%|▎                             | 105/10000 [00:21<51:13,  3.22row/s]"
     ]
    },
    {
     "name": "stdout",
     "output_type": "stream",
     "text": [
      "Progress saved: cleaned_chunk_0, row 105\r"
     ]
    },
    {
     "name": "stderr",
     "output_type": "stream",
     "text": [
      "Processing cleaned_chunk_0:   1%|▎                             | 106/10000 [00:21<54:54,  3.00row/s]"
     ]
    },
    {
     "name": "stdout",
     "output_type": "stream",
     "text": [
      "Progress saved: cleaned_chunk_0, row 106\r"
     ]
    },
    {
     "name": "stderr",
     "output_type": "stream",
     "text": [
      "Processing cleaned_chunk_0:   1%|▎                           | 107/10000 [00:22<1:03:17,  2.60row/s]"
     ]
    },
    {
     "name": "stdout",
     "output_type": "stream",
     "text": [
      "Progress saved: cleaned_chunk_0, row 107\r"
     ]
    },
    {
     "name": "stderr",
     "output_type": "stream",
     "text": [
      "Processing cleaned_chunk_0:   1%|▎                           | 108/10000 [00:22<1:01:43,  2.67row/s]"
     ]
    },
    {
     "name": "stdout",
     "output_type": "stream",
     "text": [
      "Progress saved: cleaned_chunk_0, row 109\r"
     ]
    },
    {
     "name": "stderr",
     "output_type": "stream",
     "text": [
      "Processing cleaned_chunk_0:   1%|▎                             | 111/10000 [00:22<35:34,  4.63row/s]"
     ]
    },
    {
     "name": "stdout",
     "output_type": "stream",
     "text": [
      "Progress saved: cleaned_chunk_0, row 111\r"
     ]
    },
    {
     "name": "stderr",
     "output_type": "stream",
     "text": [
      "Processing cleaned_chunk_0:   1%|▎                             | 113/10000 [00:23<27:37,  5.97row/s]"
     ]
    },
    {
     "name": "stdout",
     "output_type": "stream",
     "text": [
      "Progress saved: cleaned_chunk_0, row 113\r"
     ]
    },
    {
     "name": "stderr",
     "output_type": "stream",
     "text": [
      "Processing cleaned_chunk_0:   1%|▎                             | 115/10000 [00:23<29:33,  5.57row/s]"
     ]
    },
    {
     "name": "stdout",
     "output_type": "stream",
     "text": [
      "Progress saved: cleaned_chunk_0, row 115\r"
     ]
    },
    {
     "name": "stderr",
     "output_type": "stream",
     "text": [
      "Processing cleaned_chunk_0:   1%|▎                             | 117/10000 [00:23<26:52,  6.13row/s]"
     ]
    },
    {
     "name": "stdout",
     "output_type": "stream",
     "text": [
      "Progress saved: cleaned_chunk_0, row 117\r"
     ]
    },
    {
     "name": "stderr",
     "output_type": "stream",
     "text": [
      "Processing cleaned_chunk_0:   1%|▎                             | 119/10000 [00:24<24:44,  6.66row/s]"
     ]
    },
    {
     "name": "stdout",
     "output_type": "stream",
     "text": [
      "Progress saved: cleaned_chunk_0, row 119\r"
     ]
    },
    {
     "name": "stderr",
     "output_type": "stream",
     "text": [
      "Processing cleaned_chunk_0:   1%|▎                             | 121/10000 [00:24<24:14,  6.79row/s]"
     ]
    },
    {
     "name": "stdout",
     "output_type": "stream",
     "text": [
      "Progress saved: cleaned_chunk_0, row 121\r"
     ]
    },
    {
     "name": "stderr",
     "output_type": "stream",
     "text": [
      "Processing cleaned_chunk_0:   1%|▎                             | 122/10000 [00:24<24:35,  6.70row/s]"
     ]
    },
    {
     "name": "stdout",
     "output_type": "stream",
     "text": [
      "Progress saved: cleaned_chunk_0, row 122\r"
     ]
    },
    {
     "name": "stderr",
     "output_type": "stream",
     "text": [
      "Processing cleaned_chunk_0:   1%|▎                             | 123/10000 [00:24<29:59,  5.49row/s]"
     ]
    },
    {
     "name": "stdout",
     "output_type": "stream",
     "text": [
      "Progress saved: cleaned_chunk_0, row 123\r"
     ]
    },
    {
     "name": "stderr",
     "output_type": "stream",
     "text": [
      "Processing cleaned_chunk_0:   1%|▎                             | 124/10000 [00:25<50:04,  3.29row/s]"
     ]
    },
    {
     "name": "stdout",
     "output_type": "stream",
     "text": [
      "Progress saved: cleaned_chunk_0, row 124\r"
     ]
    },
    {
     "name": "stderr",
     "output_type": "stream",
     "text": [
      "Processing cleaned_chunk_0:   1%|▍                             | 125/10000 [00:25<55:41,  2.96row/s]"
     ]
    },
    {
     "name": "stdout",
     "output_type": "stream",
     "text": [
      "Progress saved: cleaned_chunk_0, row 125\r"
     ]
    },
    {
     "name": "stderr",
     "output_type": "stream",
     "text": [
      "Processing cleaned_chunk_0:   1%|▍                             | 126/10000 [00:26<59:35,  2.76row/s]"
     ]
    },
    {
     "name": "stdout",
     "output_type": "stream",
     "text": [
      "Progress saved: cleaned_chunk_0, row 126\r"
     ]
    },
    {
     "name": "stderr",
     "output_type": "stream",
     "text": [
      "Processing cleaned_chunk_0:   1%|▎                           | 127/10000 [00:26<1:01:44,  2.67row/s]"
     ]
    },
    {
     "name": "stdout",
     "output_type": "stream",
     "text": [
      "Progress saved: cleaned_chunk_0, row 127\r"
     ]
    },
    {
     "name": "stderr",
     "output_type": "stream",
     "text": [
      "Processing cleaned_chunk_0:   1%|▍                             | 128/10000 [00:26<59:40,  2.76row/s]"
     ]
    },
    {
     "name": "stdout",
     "output_type": "stream",
     "text": [
      "Progress saved: cleaned_chunk_0, row 128\r"
     ]
    },
    {
     "name": "stderr",
     "output_type": "stream",
     "text": [
      "Processing cleaned_chunk_0:   1%|▍                             | 129/10000 [00:27<52:11,  3.15row/s]"
     ]
    },
    {
     "name": "stdout",
     "output_type": "stream",
     "text": [
      "Progress saved: cleaned_chunk_0, row 129\r"
     ]
    },
    {
     "name": "stderr",
     "output_type": "stream",
     "text": [
      "Processing cleaned_chunk_0:   1%|▍                             | 131/10000 [00:27<41:16,  3.99row/s]"
     ]
    },
    {
     "name": "stdout",
     "output_type": "stream",
     "text": [
      "Progress saved: cleaned_chunk_0, row 131\r"
     ]
    },
    {
     "name": "stderr",
     "output_type": "stream",
     "text": [
      "Processing cleaned_chunk_0:   1%|▍                             | 133/10000 [00:27<32:48,  5.01row/s]"
     ]
    },
    {
     "name": "stdout",
     "output_type": "stream",
     "text": [
      "Progress saved: cleaned_chunk_0, row 133\r"
     ]
    },
    {
     "name": "stderr",
     "output_type": "stream",
     "text": [
      "Processing cleaned_chunk_0:   1%|▍                             | 134/10000 [00:28<37:32,  4.38row/s]"
     ]
    },
    {
     "name": "stdout",
     "output_type": "stream",
     "text": [
      "Progress saved: cleaned_chunk_0, row 134\r"
     ]
    },
    {
     "name": "stderr",
     "output_type": "stream",
     "text": [
      "Processing cleaned_chunk_0:   1%|▍                             | 135/10000 [00:28<40:19,  4.08row/s]"
     ]
    },
    {
     "name": "stdout",
     "output_type": "stream",
     "text": [
      "Progress saved: cleaned_chunk_0, row 136\r"
     ]
    },
    {
     "name": "stderr",
     "output_type": "stream",
     "text": [
      "Processing cleaned_chunk_0:   1%|▍                             | 137/10000 [00:28<41:38,  3.95row/s]"
     ]
    },
    {
     "name": "stdout",
     "output_type": "stream",
     "text": [
      "Progress saved: cleaned_chunk_0, row 137\r"
     ]
    },
    {
     "name": "stderr",
     "output_type": "stream",
     "text": [
      "Processing cleaned_chunk_0:   1%|▍                             | 138/10000 [00:29<42:36,  3.86row/s]"
     ]
    },
    {
     "name": "stdout",
     "output_type": "stream",
     "text": [
      "Progress saved: cleaned_chunk_0, row 139\r"
     ]
    },
    {
     "name": "stderr",
     "output_type": "stream",
     "text": [
      "Processing cleaned_chunk_0:   1%|▍                             | 140/10000 [00:29<43:33,  3.77row/s]"
     ]
    },
    {
     "name": "stdout",
     "output_type": "stream",
     "text": [
      "Progress saved: cleaned_chunk_0, row 141\r"
     ]
    },
    {
     "name": "stderr",
     "output_type": "stream",
     "text": [
      "Processing cleaned_chunk_0:   1%|▍                             | 142/10000 [00:30<44:56,  3.66row/s]"
     ]
    },
    {
     "name": "stdout",
     "output_type": "stream",
     "text": [
      "Progress saved: cleaned_chunk_0, row 142\r"
     ]
    },
    {
     "name": "stderr",
     "output_type": "stream",
     "text": [
      "Processing cleaned_chunk_0:   1%|▍                             | 143/10000 [00:30<48:38,  3.38row/s]"
     ]
    },
    {
     "name": "stdout",
     "output_type": "stream",
     "text": [
      "Progress saved: cleaned_chunk_0, row 143\r"
     ]
    },
    {
     "name": "stderr",
     "output_type": "stream",
     "text": [
      "Processing cleaned_chunk_0:   1%|▍                           | 144/10000 [00:31<1:07:43,  2.43row/s]"
     ]
    },
    {
     "name": "stdout",
     "output_type": "stream",
     "text": [
      "Progress saved: cleaned_chunk_0, row 144\r"
     ]
    },
    {
     "name": "stderr",
     "output_type": "stream",
     "text": [
      "Processing cleaned_chunk_0:   1%|▍                           | 145/10000 [00:31<1:07:16,  2.44row/s]"
     ]
    },
    {
     "name": "stdout",
     "output_type": "stream",
     "text": [
      "Progress saved: cleaned_chunk_0, row 145\r"
     ]
    },
    {
     "name": "stderr",
     "output_type": "stream",
     "text": [
      "Processing cleaned_chunk_0:   1%|▍                           | 146/10000 [00:31<1:03:35,  2.58row/s]"
     ]
    },
    {
     "name": "stdout",
     "output_type": "stream",
     "text": [
      "Progress saved: cleaned_chunk_0, row 146\r"
     ]
    },
    {
     "name": "stderr",
     "output_type": "stream",
     "text": [
      "Processing cleaned_chunk_0:   1%|▍                           | 147/10000 [00:32<1:02:31,  2.63row/s]"
     ]
    },
    {
     "name": "stdout",
     "output_type": "stream",
     "text": [
      "Progress saved: cleaned_chunk_0, row 147\r"
     ]
    },
    {
     "name": "stderr",
     "output_type": "stream",
     "text": [
      "Processing cleaned_chunk_0:   1%|▍                           | 148/10000 [00:32<1:01:30,  2.67row/s]"
     ]
    },
    {
     "name": "stdout",
     "output_type": "stream",
     "text": [
      "Progress saved: cleaned_chunk_0, row 148\r"
     ]
    },
    {
     "name": "stderr",
     "output_type": "stream",
     "text": [
      "Processing cleaned_chunk_0:   1%|▍                             | 149/10000 [00:33<58:40,  2.80row/s]"
     ]
    },
    {
     "name": "stdout",
     "output_type": "stream",
     "text": [
      "Progress saved: cleaned_chunk_0, row 149\r"
     ]
    },
    {
     "name": "stderr",
     "output_type": "stream",
     "text": [
      "Processing cleaned_chunk_0:   2%|▍                             | 150/10000 [00:33<54:21,  3.02row/s]"
     ]
    },
    {
     "name": "stdout",
     "output_type": "stream",
     "text": [
      "Progress saved: cleaned_chunk_0, row 150\r"
     ]
    },
    {
     "name": "stderr",
     "output_type": "stream",
     "text": [
      "Processing cleaned_chunk_0:   2%|▍                             | 151/10000 [00:33<48:39,  3.37row/s]"
     ]
    },
    {
     "name": "stdout",
     "output_type": "stream",
     "text": [
      "Progress saved: cleaned_chunk_0, row 152\r"
     ]
    },
    {
     "name": "stderr",
     "output_type": "stream",
     "text": [
      "Processing cleaned_chunk_0:   2%|▍                             | 153/10000 [00:33<43:40,  3.76row/s]"
     ]
    },
    {
     "name": "stdout",
     "output_type": "stream",
     "text": [
      "Progress saved: cleaned_chunk_0, row 153\r"
     ]
    },
    {
     "name": "stderr",
     "output_type": "stream",
     "text": [
      "Processing cleaned_chunk_0:   2%|▍                             | 155/10000 [00:34<42:52,  3.83row/s]"
     ]
    },
    {
     "name": "stdout",
     "output_type": "stream",
     "text": [
      "Progress saved: cleaned_chunk_0, row 155\r"
     ]
    },
    {
     "name": "stderr",
     "output_type": "stream",
     "text": [
      "Processing cleaned_chunk_0:   2%|▍                             | 157/10000 [00:34<35:45,  4.59row/s]"
     ]
    },
    {
     "name": "stdout",
     "output_type": "stream",
     "text": [
      "Progress saved: cleaned_chunk_0, row 157\r"
     ]
    },
    {
     "name": "stderr",
     "output_type": "stream",
     "text": [
      "Processing cleaned_chunk_0:   2%|▍                             | 159/10000 [00:35<29:08,  5.63row/s]"
     ]
    },
    {
     "name": "stdout",
     "output_type": "stream",
     "text": [
      "Progress saved: cleaned_chunk_0, row 159\r"
     ]
    },
    {
     "name": "stderr",
     "output_type": "stream",
     "text": [
      "Processing cleaned_chunk_0:   2%|▍                             | 161/10000 [00:35<31:28,  5.21row/s]"
     ]
    },
    {
     "name": "stdout",
     "output_type": "stream",
     "text": [
      "Progress saved: cleaned_chunk_0, row 161\r"
     ]
    },
    {
     "name": "stderr",
     "output_type": "stream",
     "text": [
      "Processing cleaned_chunk_0:   2%|▍                             | 163/10000 [00:35<26:30,  6.18row/s]"
     ]
    },
    {
     "name": "stdout",
     "output_type": "stream",
     "text": [
      "Progress saved: cleaned_chunk_0, row 163\r"
     ]
    },
    {
     "name": "stderr",
     "output_type": "stream",
     "text": [
      "Processing cleaned_chunk_0:   2%|▍                             | 164/10000 [00:36<25:11,  6.51row/s]"
     ]
    },
    {
     "name": "stdout",
     "output_type": "stream",
     "text": [
      "Progress saved: cleaned_chunk_0, row 164\r"
     ]
    },
    {
     "name": "stderr",
     "output_type": "stream",
     "text": [
      "Processing cleaned_chunk_0:   2%|▍                             | 166/10000 [00:36<38:32,  4.25row/s]"
     ]
    },
    {
     "name": "stdout",
     "output_type": "stream",
     "text": [
      "Progress saved: cleaned_chunk_0, row 166\r"
     ]
    },
    {
     "name": "stderr",
     "output_type": "stream",
     "text": [
      "Processing cleaned_chunk_0:   2%|▌                             | 168/10000 [00:37<30:46,  5.32row/s]"
     ]
    },
    {
     "name": "stdout",
     "output_type": "stream",
     "text": [
      "Progress saved: cleaned_chunk_0, row 168\r"
     ]
    },
    {
     "name": "stderr",
     "output_type": "stream",
     "text": [
      "Processing cleaned_chunk_0:   2%|▌                             | 170/10000 [00:37<28:59,  5.65row/s]"
     ]
    },
    {
     "name": "stdout",
     "output_type": "stream",
     "text": [
      "Progress saved: cleaned_chunk_0, row 170\r"
     ]
    },
    {
     "name": "stderr",
     "output_type": "stream",
     "text": [
      "Processing cleaned_chunk_0:   2%|▍                           | 171/10000 [00:38<1:07:00,  2.44row/s]"
     ]
    },
    {
     "name": "stdout",
     "output_type": "stream",
     "text": [
      "Progress saved: cleaned_chunk_0, row 171\r"
     ]
    },
    {
     "name": "stderr",
     "output_type": "stream",
     "text": [
      "Processing cleaned_chunk_0:   2%|▌                             | 173/10000 [00:38<54:15,  3.02row/s]"
     ]
    },
    {
     "name": "stdout",
     "output_type": "stream",
     "text": [
      "Progress saved: cleaned_chunk_0, row 173\r"
     ]
    },
    {
     "name": "stderr",
     "output_type": "stream",
     "text": [
      "Processing cleaned_chunk_0:   2%|▌                             | 175/10000 [00:39<38:09,  4.29row/s]"
     ]
    },
    {
     "name": "stdout",
     "output_type": "stream",
     "text": [
      "Progress saved: cleaned_chunk_0, row 175\r"
     ]
    },
    {
     "name": "stderr",
     "output_type": "stream",
     "text": [
      "Processing cleaned_chunk_0:   2%|▌                             | 177/10000 [00:39<30:19,  5.40row/s]"
     ]
    },
    {
     "name": "stdout",
     "output_type": "stream",
     "text": [
      "Progress saved: cleaned_chunk_0, row 177\r"
     ]
    },
    {
     "name": "stderr",
     "output_type": "stream",
     "text": [
      "Processing cleaned_chunk_0:   2%|▌                             | 179/10000 [00:39<27:14,  6.01row/s]"
     ]
    },
    {
     "name": "stdout",
     "output_type": "stream",
     "text": [
      "Progress saved: cleaned_chunk_0, row 179\r"
     ]
    },
    {
     "name": "stderr",
     "output_type": "stream",
     "text": [
      "Processing cleaned_chunk_0:   2%|▌                             | 181/10000 [00:39<24:23,  6.71row/s]"
     ]
    },
    {
     "name": "stdout",
     "output_type": "stream",
     "text": [
      "Progress saved: cleaned_chunk_0, row 181\r"
     ]
    },
    {
     "name": "stderr",
     "output_type": "stream",
     "text": [
      "Processing cleaned_chunk_0:   2%|▌                             | 183/10000 [00:40<28:54,  5.66row/s]"
     ]
    },
    {
     "name": "stdout",
     "output_type": "stream",
     "text": [
      "Progress saved: cleaned_chunk_0, row 183\r"
     ]
    },
    {
     "name": "stderr",
     "output_type": "stream",
     "text": [
      "Processing cleaned_chunk_0:   2%|▌                             | 185/10000 [00:40<27:09,  6.02row/s]"
     ]
    },
    {
     "name": "stdout",
     "output_type": "stream",
     "text": [
      "Progress saved: cleaned_chunk_0, row 185\r"
     ]
    },
    {
     "name": "stderr",
     "output_type": "stream",
     "text": [
      "Processing cleaned_chunk_0:   2%|▌                             | 186/10000 [00:40<25:28,  6.42row/s]"
     ]
    },
    {
     "name": "stdout",
     "output_type": "stream",
     "text": [
      "Progress saved: cleaned_chunk_0, row 187\r"
     ]
    },
    {
     "name": "stderr",
     "output_type": "stream",
     "text": [
      "Processing cleaned_chunk_0:   2%|▌                             | 189/10000 [00:41<24:41,  6.62row/s]"
     ]
    },
    {
     "name": "stdout",
     "output_type": "stream",
     "text": [
      "Progress saved: cleaned_chunk_0, row 189\r"
     ]
    },
    {
     "name": "stderr",
     "output_type": "stream",
     "text": [
      "Processing cleaned_chunk_0:   2%|▌                             | 191/10000 [00:41<23:41,  6.90row/s]"
     ]
    },
    {
     "name": "stdout",
     "output_type": "stream",
     "text": [
      "Progress saved: cleaned_chunk_0, row 191\r"
     ]
    },
    {
     "name": "stderr",
     "output_type": "stream",
     "text": [
      "Processing cleaned_chunk_0:   2%|▌                             | 193/10000 [00:41<24:30,  6.67row/s]"
     ]
    },
    {
     "name": "stdout",
     "output_type": "stream",
     "text": [
      "Progress saved: cleaned_chunk_0, row 193\r"
     ]
    },
    {
     "name": "stderr",
     "output_type": "stream",
     "text": [
      "Processing cleaned_chunk_0:   2%|▌                             | 195/10000 [00:42<23:25,  6.98row/s]"
     ]
    },
    {
     "name": "stdout",
     "output_type": "stream",
     "text": [
      "Progress saved: cleaned_chunk_0, row 195\r"
     ]
    },
    {
     "name": "stderr",
     "output_type": "stream",
     "text": [
      "Processing cleaned_chunk_0:   2%|▌                             | 197/10000 [00:42<24:04,  6.78row/s]"
     ]
    },
    {
     "name": "stdout",
     "output_type": "stream",
     "text": [
      "Progress saved: cleaned_chunk_0, row 197\r"
     ]
    },
    {
     "name": "stderr",
     "output_type": "stream",
     "text": [
      "Processing cleaned_chunk_0:   2%|▌                             | 199/10000 [00:42<23:16,  7.02row/s]"
     ]
    },
    {
     "name": "stdout",
     "output_type": "stream",
     "text": [
      "Progress saved: cleaned_chunk_0, row 199\r"
     ]
    },
    {
     "name": "stderr",
     "output_type": "stream",
     "text": [
      "Processing cleaned_chunk_0:   2%|▌                             | 200/10000 [00:42<23:36,  6.92row/s]"
     ]
    },
    {
     "name": "stdout",
     "output_type": "stream",
     "text": [
      "Progress saved: cleaned_chunk_0, row 200\r"
     ]
    },
    {
     "name": "stderr",
     "output_type": "stream",
     "text": [
      "Processing cleaned_chunk_0:   2%|▌                             | 201/10000 [00:43<36:27,  4.48row/s]"
     ]
    },
    {
     "name": "stdout",
     "output_type": "stream",
     "text": [
      "Progress saved: cleaned_chunk_0, row 201\r"
     ]
    },
    {
     "name": "stderr",
     "output_type": "stream",
     "text": [
      "Processing cleaned_chunk_0:   2%|▌                             | 202/10000 [00:43<39:22,  4.15row/s]"
     ]
    },
    {
     "name": "stdout",
     "output_type": "stream",
     "text": [
      "Progress saved: cleaned_chunk_0, row 202\r"
     ]
    },
    {
     "name": "stderr",
     "output_type": "stream",
     "text": [
      "Processing cleaned_chunk_0:   2%|▌                             | 204/10000 [00:44<37:22,  4.37row/s]"
     ]
    },
    {
     "name": "stdout",
     "output_type": "stream",
     "text": [
      "Progress saved: cleaned_chunk_0, row 204\r"
     ]
    },
    {
     "name": "stderr",
     "output_type": "stream",
     "text": [
      "Processing cleaned_chunk_0:   2%|▌                             | 206/10000 [00:44<29:58,  5.45row/s]"
     ]
    },
    {
     "name": "stdout",
     "output_type": "stream",
     "text": [
      "Progress saved: cleaned_chunk_0, row 206\r"
     ]
    },
    {
     "name": "stderr",
     "output_type": "stream",
     "text": [
      "Processing cleaned_chunk_0:   2%|▌                             | 208/10000 [00:44<28:21,  5.75row/s]"
     ]
    },
    {
     "name": "stdout",
     "output_type": "stream",
     "text": [
      "Progress saved: cleaned_chunk_0, row 208\r"
     ]
    },
    {
     "name": "stderr",
     "output_type": "stream",
     "text": [
      "Processing cleaned_chunk_0:   2%|▋                             | 210/10000 [00:44<25:39,  6.36row/s]"
     ]
    },
    {
     "name": "stdout",
     "output_type": "stream",
     "text": [
      "Progress saved: cleaned_chunk_0, row 210\r"
     ]
    },
    {
     "name": "stderr",
     "output_type": "stream",
     "text": [
      "Processing cleaned_chunk_0:   2%|▋                             | 212/10000 [00:45<24:11,  6.74row/s]"
     ]
    },
    {
     "name": "stdout",
     "output_type": "stream",
     "text": [
      "Progress saved: cleaned_chunk_0, row 212\r"
     ]
    },
    {
     "name": "stderr",
     "output_type": "stream",
     "text": [
      "Processing cleaned_chunk_0:   2%|▋                             | 214/10000 [00:45<23:16,  7.01row/s]"
     ]
    },
    {
     "name": "stdout",
     "output_type": "stream",
     "text": [
      "Progress saved: cleaned_chunk_0, row 215\r"
     ]
    },
    {
     "name": "stderr",
     "output_type": "stream",
     "text": [
      "Processing cleaned_chunk_0:   2%|▋                             | 216/10000 [00:45<23:20,  6.99row/s]"
     ]
    },
    {
     "name": "stdout",
     "output_type": "stream",
     "text": [
      "Progress saved: cleaned_chunk_0, row 218\r"
     ]
    },
    {
     "name": "stderr",
     "output_type": "stream",
     "text": [
      "Processing cleaned_chunk_0:   2%|▋                             | 220/10000 [00:46<22:40,  7.19row/s]"
     ]
    },
    {
     "name": "stdout",
     "output_type": "stream",
     "text": [
      "Progress saved: cleaned_chunk_0, row 220\r"
     ]
    },
    {
     "name": "stderr",
     "output_type": "stream",
     "text": [
      "Processing cleaned_chunk_0:   2%|▋                             | 221/10000 [00:46<24:51,  6.56row/s]"
     ]
    },
    {
     "name": "stdout",
     "output_type": "stream",
     "text": [
      "Progress saved: cleaned_chunk_0, row 221\r"
     ]
    },
    {
     "name": "stderr",
     "output_type": "stream",
     "text": [
      "Processing cleaned_chunk_0:   2%|▋                             | 222/10000 [00:47<43:01,  3.79row/s]"
     ]
    },
    {
     "name": "stdout",
     "output_type": "stream",
     "text": [
      "Progress saved: cleaned_chunk_0, row 222\r"
     ]
    },
    {
     "name": "stderr",
     "output_type": "stream",
     "text": [
      "Processing cleaned_chunk_0:   2%|▋                             | 224/10000 [00:47<41:49,  3.90row/s]"
     ]
    },
    {
     "name": "stdout",
     "output_type": "stream",
     "text": [
      "Progress saved: cleaned_chunk_0, row 224\r"
     ]
    },
    {
     "name": "stderr",
     "output_type": "stream",
     "text": [
      "Processing cleaned_chunk_0:   2%|▋                             | 225/10000 [00:47<43:03,  3.78row/s]"
     ]
    },
    {
     "name": "stdout",
     "output_type": "stream",
     "text": [
      "Progress saved: cleaned_chunk_0, row 225\r"
     ]
    },
    {
     "name": "stderr",
     "output_type": "stream",
     "text": [
      "Processing cleaned_chunk_0:   2%|▋                             | 226/10000 [00:48<44:45,  3.64row/s]"
     ]
    },
    {
     "name": "stdout",
     "output_type": "stream",
     "text": [
      "Progress saved: cleaned_chunk_0, row 226\r"
     ]
    },
    {
     "name": "stderr",
     "output_type": "stream",
     "text": [
      "Processing cleaned_chunk_0:   2%|▋                             | 227/10000 [00:48<50:18,  3.24row/s]"
     ]
    },
    {
     "name": "stdout",
     "output_type": "stream",
     "text": [
      "Progress saved: cleaned_chunk_0, row 227\r"
     ]
    },
    {
     "name": "stderr",
     "output_type": "stream",
     "text": [
      "Processing cleaned_chunk_0:   2%|▋                           | 228/10000 [00:49<1:05:31,  2.49row/s]"
     ]
    },
    {
     "name": "stdout",
     "output_type": "stream",
     "text": [
      "Progress saved: cleaned_chunk_0, row 228\r"
     ]
    },
    {
     "name": "stderr",
     "output_type": "stream",
     "text": [
      "Processing cleaned_chunk_0:   2%|▋                           | 229/10000 [00:49<1:12:09,  2.26row/s]"
     ]
    },
    {
     "name": "stdout",
     "output_type": "stream",
     "text": [
      "Progress saved: cleaned_chunk_0, row 229\r"
     ]
    },
    {
     "name": "stderr",
     "output_type": "stream",
     "text": [
      "Processing cleaned_chunk_0:   2%|▋                           | 231/10000 [00:50<1:00:55,  2.67row/s]"
     ]
    },
    {
     "name": "stdout",
     "output_type": "stream",
     "text": [
      "Progress saved: cleaned_chunk_0, row 231\r"
     ]
    },
    {
     "name": "stderr",
     "output_type": "stream",
     "text": [
      "Processing cleaned_chunk_0:   2%|▋                             | 233/10000 [00:50<42:17,  3.85row/s]"
     ]
    },
    {
     "name": "stdout",
     "output_type": "stream",
     "text": [
      "Progress saved: cleaned_chunk_0, row 233\r"
     ]
    },
    {
     "name": "stderr",
     "output_type": "stream",
     "text": [
      "Processing cleaned_chunk_0:   2%|▋                             | 235/10000 [00:51<33:12,  4.90row/s]"
     ]
    },
    {
     "name": "stdout",
     "output_type": "stream",
     "text": [
      "Progress saved: cleaned_chunk_0, row 235\r"
     ]
    },
    {
     "name": "stderr",
     "output_type": "stream",
     "text": [
      "Processing cleaned_chunk_0:   2%|▋                             | 237/10000 [00:51<28:15,  5.76row/s]"
     ]
    },
    {
     "name": "stdout",
     "output_type": "stream",
     "text": [
      "Progress saved: cleaned_chunk_0, row 237\r"
     ]
    },
    {
     "name": "stderr",
     "output_type": "stream",
     "text": [
      "Processing cleaned_chunk_0:   2%|▋                             | 239/10000 [00:51<25:38,  6.34row/s]"
     ]
    },
    {
     "name": "stdout",
     "output_type": "stream",
     "text": [
      "Progress saved: cleaned_chunk_0, row 239\r"
     ]
    },
    {
     "name": "stderr",
     "output_type": "stream",
     "text": [
      "Processing cleaned_chunk_0:   2%|▋                             | 241/10000 [00:51<24:51,  6.54row/s]"
     ]
    },
    {
     "name": "stdout",
     "output_type": "stream",
     "text": [
      "Progress saved: cleaned_chunk_0, row 241\r"
     ]
    },
    {
     "name": "stderr",
     "output_type": "stream",
     "text": [
      "Processing cleaned_chunk_0:   2%|▋                             | 242/10000 [00:52<24:18,  6.69row/s]"
     ]
    },
    {
     "name": "stdout",
     "output_type": "stream",
     "text": [
      "Progress saved: cleaned_chunk_0, row 242\r"
     ]
    },
    {
     "name": "stderr",
     "output_type": "stream",
     "text": [
      "Processing cleaned_chunk_0:   2%|▋                             | 243/10000 [00:52<33:18,  4.88row/s]"
     ]
    },
    {
     "name": "stdout",
     "output_type": "stream",
     "text": [
      "Progress saved: cleaned_chunk_0, row 244\r"
     ]
    },
    {
     "name": "stderr",
     "output_type": "stream",
     "text": [
      "Processing cleaned_chunk_0:   2%|▋                             | 246/10000 [00:53<34:36,  4.70row/s]"
     ]
    },
    {
     "name": "stdout",
     "output_type": "stream",
     "text": [
      "Progress saved: cleaned_chunk_0, row 246\r"
     ]
    },
    {
     "name": "stderr",
     "output_type": "stream",
     "text": [
      "Processing cleaned_chunk_0:   2%|▋                             | 247/10000 [00:53<31:31,  5.16row/s]"
     ]
    },
    {
     "name": "stdout",
     "output_type": "stream",
     "text": [
      "Progress saved: cleaned_chunk_0, row 247\r"
     ]
    },
    {
     "name": "stderr",
     "output_type": "stream",
     "text": [
      "Processing cleaned_chunk_0:   2%|▋                             | 248/10000 [00:53<38:17,  4.24row/s]"
     ]
    },
    {
     "name": "stdout",
     "output_type": "stream",
     "text": [
      "Progress saved: cleaned_chunk_0, row 248\r"
     ]
    },
    {
     "name": "stderr",
     "output_type": "stream",
     "text": [
      "Processing cleaned_chunk_0:   2%|▊                             | 250/10000 [00:54<41:22,  3.93row/s]"
     ]
    },
    {
     "name": "stdout",
     "output_type": "stream",
     "text": [
      "Progress saved: cleaned_chunk_0, row 250\r"
     ]
    },
    {
     "name": "stderr",
     "output_type": "stream",
     "text": [
      "Processing cleaned_chunk_0:   3%|▊                             | 251/10000 [00:54<35:21,  4.59row/s]"
     ]
    },
    {
     "name": "stdout",
     "output_type": "stream",
     "text": [
      "Progress saved: cleaned_chunk_0, row 251\r"
     ]
    },
    {
     "name": "stderr",
     "output_type": "stream",
     "text": [
      "Processing cleaned_chunk_0:   3%|▊                             | 252/10000 [00:54<44:22,  3.66row/s]"
     ]
    },
    {
     "name": "stdout",
     "output_type": "stream",
     "text": [
      "Progress saved: cleaned_chunk_0, row 252\r"
     ]
    },
    {
     "name": "stderr",
     "output_type": "stream",
     "text": [
      "Processing cleaned_chunk_0:   3%|▊                             | 253/10000 [00:54<42:53,  3.79row/s]"
     ]
    },
    {
     "name": "stdout",
     "output_type": "stream",
     "text": [
      "Progress saved: cleaned_chunk_0, row 253\r"
     ]
    },
    {
     "name": "stderr",
     "output_type": "stream",
     "text": [
      "Processing cleaned_chunk_0:   3%|▊                             | 254/10000 [00:55<48:30,  3.35row/s]"
     ]
    },
    {
     "name": "stdout",
     "output_type": "stream",
     "text": [
      "Progress saved: cleaned_chunk_0, row 254\r"
     ]
    },
    {
     "name": "stderr",
     "output_type": "stream",
     "text": [
      "Processing cleaned_chunk_0:   3%|▋                           | 255/10000 [00:55<1:04:10,  2.53row/s]"
     ]
    },
    {
     "name": "stdout",
     "output_type": "stream",
     "text": [
      "Progress saved: cleaned_chunk_0, row 255\r"
     ]
    },
    {
     "name": "stderr",
     "output_type": "stream",
     "text": [
      "Processing cleaned_chunk_0:   3%|▋                           | 256/10000 [00:56<1:11:54,  2.26row/s]"
     ]
    },
    {
     "name": "stdout",
     "output_type": "stream",
     "text": [
      "Progress saved: cleaned_chunk_0, row 256\r"
     ]
    },
    {
     "name": "stderr",
     "output_type": "stream",
     "text": [
      "Processing cleaned_chunk_0:   3%|▋                           | 257/10000 [00:56<1:05:20,  2.49row/s]"
     ]
    },
    {
     "name": "stdout",
     "output_type": "stream",
     "text": [
      "Progress saved: cleaned_chunk_0, row 257\r"
     ]
    },
    {
     "name": "stderr",
     "output_type": "stream",
     "text": [
      "Processing cleaned_chunk_0:   3%|▊                             | 258/10000 [00:57<59:02,  2.75row/s]"
     ]
    },
    {
     "name": "stdout",
     "output_type": "stream",
     "text": [
      "Progress saved: cleaned_chunk_0, row 258\r"
     ]
    },
    {
     "name": "stderr",
     "output_type": "stream",
     "text": [
      "Processing cleaned_chunk_0:   3%|▊                             | 259/10000 [00:57<51:32,  3.15row/s]"
     ]
    },
    {
     "name": "stdout",
     "output_type": "stream",
     "text": [
      "Progress saved: cleaned_chunk_0, row 260\r"
     ]
    },
    {
     "name": "stderr",
     "output_type": "stream",
     "text": [
      "Processing cleaned_chunk_0:   3%|▊                             | 262/10000 [00:57<36:10,  4.49row/s]"
     ]
    },
    {
     "name": "stdout",
     "output_type": "stream",
     "text": [
      "Progress saved: cleaned_chunk_0, row 262\r"
     ]
    },
    {
     "name": "stderr",
     "output_type": "stream",
     "text": [
      "Processing cleaned_chunk_0:   3%|▊                             | 263/10000 [00:58<37:20,  4.35row/s]"
     ]
    },
    {
     "name": "stdout",
     "output_type": "stream",
     "text": [
      "Progress saved: cleaned_chunk_0, row 263\r"
     ]
    },
    {
     "name": "stderr",
     "output_type": "stream",
     "text": [
      "Processing cleaned_chunk_0:   3%|▊                             | 265/10000 [00:58<33:58,  4.78row/s]"
     ]
    },
    {
     "name": "stdout",
     "output_type": "stream",
     "text": [
      "Progress saved: cleaned_chunk_0, row 265\r"
     ]
    },
    {
     "name": "stderr",
     "output_type": "stream",
     "text": [
      "Processing cleaned_chunk_0:   3%|▊                             | 267/10000 [00:58<30:07,  5.38row/s]"
     ]
    },
    {
     "name": "stdout",
     "output_type": "stream",
     "text": [
      "Progress saved: cleaned_chunk_0, row 267\r"
     ]
    },
    {
     "name": "stderr",
     "output_type": "stream",
     "text": [
      "Processing cleaned_chunk_0:   3%|▊                             | 268/10000 [00:58<30:17,  5.36row/s]"
     ]
    },
    {
     "name": "stdout",
     "output_type": "stream",
     "text": [
      "Progress saved: cleaned_chunk_0, row 269\r"
     ]
    },
    {
     "name": "stderr",
     "output_type": "stream",
     "text": [
      "Processing cleaned_chunk_0:   3%|▊                             | 271/10000 [00:59<28:05,  5.77row/s]"
     ]
    },
    {
     "name": "stdout",
     "output_type": "stream",
     "text": [
      "Progress saved: cleaned_chunk_0, row 271\r"
     ]
    },
    {
     "name": "stderr",
     "output_type": "stream",
     "text": [
      "Processing cleaned_chunk_0:   3%|▊                             | 273/10000 [00:59<26:32,  6.11row/s]"
     ]
    },
    {
     "name": "stdout",
     "output_type": "stream",
     "text": [
      "Progress saved: cleaned_chunk_0, row 273\r"
     ]
    },
    {
     "name": "stderr",
     "output_type": "stream",
     "text": [
      "Processing cleaned_chunk_0:   3%|▊                             | 275/10000 [01:00<26:30,  6.11row/s]"
     ]
    },
    {
     "name": "stdout",
     "output_type": "stream",
     "text": [
      "Progress saved: cleaned_chunk_0, row 275\r"
     ]
    },
    {
     "name": "stderr",
     "output_type": "stream",
     "text": [
      "Processing cleaned_chunk_0:   3%|▊                             | 277/10000 [01:00<28:16,  5.73row/s]"
     ]
    },
    {
     "name": "stdout",
     "output_type": "stream",
     "text": [
      "Progress saved: cleaned_chunk_0, row 277\r"
     ]
    },
    {
     "name": "stderr",
     "output_type": "stream",
     "text": [
      "Processing cleaned_chunk_0:   3%|▊                             | 279/10000 [01:00<25:52,  6.26row/s]"
     ]
    },
    {
     "name": "stdout",
     "output_type": "stream",
     "text": [
      "Progress saved: cleaned_chunk_0, row 279\r"
     ]
    },
    {
     "name": "stderr",
     "output_type": "stream",
     "text": [
      "Processing cleaned_chunk_0:   3%|▊                             | 281/10000 [01:01<24:56,  6.50row/s]"
     ]
    },
    {
     "name": "stdout",
     "output_type": "stream",
     "text": [
      "Progress saved: cleaned_chunk_0, row 281\r"
     ]
    },
    {
     "name": "stderr",
     "output_type": "stream",
     "text": [
      "Processing cleaned_chunk_0:   3%|▊                             | 282/10000 [01:01<31:21,  5.17row/s]"
     ]
    },
    {
     "name": "stdout",
     "output_type": "stream",
     "text": [
      "Progress saved: cleaned_chunk_0, row 282\r"
     ]
    },
    {
     "name": "stderr",
     "output_type": "stream",
     "text": [
      "Processing cleaned_chunk_0:   3%|▊                             | 283/10000 [01:01<32:00,  5.06row/s]"
     ]
    },
    {
     "name": "stdout",
     "output_type": "stream",
     "text": [
      "Progress saved: cleaned_chunk_0, row 283\r"
     ]
    },
    {
     "name": "stderr",
     "output_type": "stream",
     "text": [
      "Processing cleaned_chunk_0:   3%|▊                             | 285/10000 [01:01<31:05,  5.21row/s]"
     ]
    },
    {
     "name": "stdout",
     "output_type": "stream",
     "text": [
      "Progress saved: cleaned_chunk_0, row 285\r"
     ]
    },
    {
     "name": "stderr",
     "output_type": "stream",
     "text": [
      "Processing cleaned_chunk_0:   3%|▊                             | 287/10000 [01:02<27:28,  5.89row/s]"
     ]
    },
    {
     "name": "stdout",
     "output_type": "stream",
     "text": [
      "Progress saved: cleaned_chunk_0, row 287\r"
     ]
    },
    {
     "name": "stderr",
     "output_type": "stream",
     "text": [
      "Processing cleaned_chunk_0:   3%|▊                             | 289/10000 [01:02<25:45,  6.29row/s]"
     ]
    },
    {
     "name": "stdout",
     "output_type": "stream",
     "text": [
      "Progress saved: cleaned_chunk_0, row 289\r"
     ]
    },
    {
     "name": "stderr",
     "output_type": "stream",
     "text": [
      "Processing cleaned_chunk_0:   3%|▊                             | 291/10000 [01:02<24:56,  6.49row/s]"
     ]
    },
    {
     "name": "stdout",
     "output_type": "stream",
     "text": [
      "Progress saved: cleaned_chunk_0, row 291\r"
     ]
    },
    {
     "name": "stderr",
     "output_type": "stream",
     "text": [
      "Processing cleaned_chunk_0:   3%|▉                             | 293/10000 [01:03<25:07,  6.44row/s]"
     ]
    },
    {
     "name": "stdout",
     "output_type": "stream",
     "text": [
      "Progress saved: cleaned_chunk_0, row 293\r"
     ]
    },
    {
     "name": "stderr",
     "output_type": "stream",
     "text": [
      "Processing cleaned_chunk_0:   3%|▉                             | 295/10000 [01:03<23:39,  6.84row/s]"
     ]
    },
    {
     "name": "stdout",
     "output_type": "stream",
     "text": [
      "Progress saved: cleaned_chunk_0, row 295\r"
     ]
    },
    {
     "name": "stderr",
     "output_type": "stream",
     "text": [
      "Processing cleaned_chunk_0:   3%|▉                             | 296/10000 [01:03<21:37,  7.48row/s]"
     ]
    },
    {
     "name": "stdout",
     "output_type": "stream",
     "text": [
      "Progress saved: cleaned_chunk_0, row 297\r"
     ]
    },
    {
     "name": "stderr",
     "output_type": "stream",
     "text": [
      "Processing cleaned_chunk_0:   3%|▉                             | 298/10000 [01:03<24:32,  6.59row/s]"
     ]
    },
    {
     "name": "stdout",
     "output_type": "stream",
     "text": [
      "Progress saved: cleaned_chunk_0, row 300\r"
     ]
    },
    {
     "name": "stderr",
     "output_type": "stream",
     "text": [
      "Processing cleaned_chunk_0:   3%|▉                             | 302/10000 [01:04<28:22,  5.69row/s]"
     ]
    },
    {
     "name": "stdout",
     "output_type": "stream",
     "text": [
      "Progress saved: cleaned_chunk_0, row 302\r"
     ]
    },
    {
     "name": "stderr",
     "output_type": "stream",
     "text": [
      "Processing cleaned_chunk_0:   3%|▉                             | 303/10000 [01:04<26:25,  6.12row/s]"
     ]
    },
    {
     "name": "stdout",
     "output_type": "stream",
     "text": [
      "Progress saved: cleaned_chunk_0, row 304\r"
     ]
    },
    {
     "name": "stderr",
     "output_type": "stream",
     "text": [
      "Processing cleaned_chunk_0:   3%|▉                             | 305/10000 [01:05<28:16,  5.71row/s]"
     ]
    },
    {
     "name": "stdout",
     "output_type": "stream",
     "text": [
      "Progress saved: cleaned_chunk_0, row 307\r"
     ]
    },
    {
     "name": "stderr",
     "output_type": "stream",
     "text": [
      "Processing cleaned_chunk_0:   3%|▉                             | 309/10000 [01:05<22:44,  7.10row/s]"
     ]
    },
    {
     "name": "stdout",
     "output_type": "stream",
     "text": [
      "Progress saved: cleaned_chunk_0, row 309\r"
     ]
    },
    {
     "name": "stderr",
     "output_type": "stream",
     "text": [
      "Processing cleaned_chunk_0:   3%|▉                             | 310/10000 [01:05<21:03,  7.67row/s]"
     ]
    },
    {
     "name": "stdout",
     "output_type": "stream",
     "text": [
      "Progress saved: cleaned_chunk_0, row 311\r"
     ]
    },
    {
     "name": "stderr",
     "output_type": "stream",
     "text": [
      "Processing cleaned_chunk_0:   3%|▉                             | 313/10000 [01:06<22:29,  7.18row/s]"
     ]
    },
    {
     "name": "stdout",
     "output_type": "stream",
     "text": [
      "Progress saved: cleaned_chunk_0, row 313\r"
     ]
    },
    {
     "name": "stderr",
     "output_type": "stream",
     "text": [
      "Processing cleaned_chunk_0:   3%|▉                             | 314/10000 [01:06<20:48,  7.76row/s]"
     ]
    },
    {
     "name": "stdout",
     "output_type": "stream",
     "text": [
      "Progress saved: cleaned_chunk_0, row 315\r"
     ]
    },
    {
     "name": "stderr",
     "output_type": "stream",
     "text": [
      "Processing cleaned_chunk_0:   3%|▉                             | 317/10000 [01:06<24:01,  6.72row/s]"
     ]
    },
    {
     "name": "stdout",
     "output_type": "stream",
     "text": [
      "Progress saved: cleaned_chunk_0, row 317\r"
     ]
    },
    {
     "name": "stderr",
     "output_type": "stream",
     "text": [
      "Processing cleaned_chunk_0:   3%|▉                             | 319/10000 [01:07<25:32,  6.32row/s]"
     ]
    },
    {
     "name": "stdout",
     "output_type": "stream",
     "text": [
      "Progress saved: cleaned_chunk_0, row 319\r"
     ]
    },
    {
     "name": "stderr",
     "output_type": "stream",
     "text": [
      "Processing cleaned_chunk_0:   3%|▉                             | 320/10000 [01:07<25:31,  6.32row/s]"
     ]
    },
    {
     "name": "stdout",
     "output_type": "stream",
     "text": [
      "Progress saved: cleaned_chunk_0, row 321\r"
     ]
    },
    {
     "name": "stderr",
     "output_type": "stream",
     "text": [
      "Processing cleaned_chunk_0:   3%|▉                             | 324/10000 [01:07<24:51,  6.49row/s]"
     ]
    },
    {
     "name": "stdout",
     "output_type": "stream",
     "text": [
      "Progress saved: cleaned_chunk_0, row 324\r"
     ]
    },
    {
     "name": "stderr",
     "output_type": "stream",
     "text": [
      "Processing cleaned_chunk_0:   3%|▉                             | 326/10000 [01:08<23:57,  6.73row/s]"
     ]
    },
    {
     "name": "stdout",
     "output_type": "stream",
     "text": [
      "Progress saved: cleaned_chunk_0, row 326\r"
     ]
    },
    {
     "name": "stderr",
     "output_type": "stream",
     "text": [
      "Processing cleaned_chunk_0:   3%|▉                             | 328/10000 [01:08<23:38,  6.82row/s]"
     ]
    },
    {
     "name": "stdout",
     "output_type": "stream",
     "text": [
      "Progress saved: cleaned_chunk_0, row 328\r"
     ]
    },
    {
     "name": "stderr",
     "output_type": "stream",
     "text": [
      "Processing cleaned_chunk_0:   3%|▉                             | 330/10000 [01:08<23:42,  6.80row/s]"
     ]
    },
    {
     "name": "stdout",
     "output_type": "stream",
     "text": [
      "Progress saved: cleaned_chunk_0, row 330\r"
     ]
    },
    {
     "name": "stderr",
     "output_type": "stream",
     "text": [
      "Processing cleaned_chunk_0:   3%|▉                             | 331/10000 [01:08<22:12,  7.25row/s]"
     ]
    },
    {
     "name": "stdout",
     "output_type": "stream",
     "text": [
      "Progress saved: cleaned_chunk_0, row 331\r"
     ]
    },
    {
     "name": "stderr",
     "output_type": "stream",
     "text": [
      "Processing cleaned_chunk_0:   3%|▉                             | 332/10000 [01:09<28:31,  5.65row/s]"
     ]
    },
    {
     "name": "stdout",
     "output_type": "stream",
     "text": [
      "Progress saved: cleaned_chunk_0, row 333\r"
     ]
    },
    {
     "name": "stderr",
     "output_type": "stream",
     "text": [
      "Processing cleaned_chunk_0:   3%|█                             | 335/10000 [01:09<25:24,  6.34row/s]"
     ]
    },
    {
     "name": "stdout",
     "output_type": "stream",
     "text": [
      "Progress saved: cleaned_chunk_0, row 335\r"
     ]
    },
    {
     "name": "stderr",
     "output_type": "stream",
     "text": [
      "Processing cleaned_chunk_0:   3%|█                             | 336/10000 [01:09<22:50,  7.05row/s]"
     ]
    },
    {
     "name": "stdout",
     "output_type": "stream",
     "text": [
      "Progress saved: cleaned_chunk_0, row 337\r"
     ]
    },
    {
     "name": "stderr",
     "output_type": "stream",
     "text": [
      "Processing cleaned_chunk_0:   3%|█                             | 339/10000 [01:10<22:52,  7.04row/s]"
     ]
    },
    {
     "name": "stdout",
     "output_type": "stream",
     "text": [
      "Progress saved: cleaned_chunk_0, row 339\r"
     ]
    },
    {
     "name": "stderr",
     "output_type": "stream",
     "text": [
      "Processing cleaned_chunk_0:   3%|█                             | 341/10000 [01:10<22:42,  7.09row/s]"
     ]
    },
    {
     "name": "stdout",
     "output_type": "stream",
     "text": [
      "Progress saved: cleaned_chunk_0, row 341\r"
     ]
    },
    {
     "name": "stderr",
     "output_type": "stream",
     "text": [
      "Processing cleaned_chunk_0:   3%|█                             | 342/10000 [01:10<31:43,  5.07row/s]"
     ]
    },
    {
     "name": "stdout",
     "output_type": "stream",
     "text": [
      "Progress saved: cleaned_chunk_0, row 342\r"
     ]
    },
    {
     "name": "stderr",
     "output_type": "stream",
     "text": [
      "Processing cleaned_chunk_0:   3%|█                             | 343/10000 [01:11<32:37,  4.93row/s]"
     ]
    },
    {
     "name": "stdout",
     "output_type": "stream",
     "text": [
      "Progress saved: cleaned_chunk_0, row 344\r"
     ]
    },
    {
     "name": "stderr",
     "output_type": "stream",
     "text": [
      "Processing cleaned_chunk_0:   3%|█                             | 346/10000 [01:11<26:55,  5.97row/s]"
     ]
    },
    {
     "name": "stdout",
     "output_type": "stream",
     "text": [
      "Progress saved: cleaned_chunk_0, row 346\r"
     ]
    },
    {
     "name": "stderr",
     "output_type": "stream",
     "text": [
      "Processing cleaned_chunk_0:   3%|█                             | 348/10000 [01:11<27:43,  5.80row/s]"
     ]
    },
    {
     "name": "stdout",
     "output_type": "stream",
     "text": [
      "Progress saved: cleaned_chunk_0, row 348\r"
     ]
    },
    {
     "name": "stderr",
     "output_type": "stream",
     "text": [
      "Processing cleaned_chunk_0:   4%|█                             | 350/10000 [01:12<25:27,  6.32row/s]"
     ]
    },
    {
     "name": "stdout",
     "output_type": "stream",
     "text": [
      "Progress saved: cleaned_chunk_0, row 350\r"
     ]
    },
    {
     "name": "stderr",
     "output_type": "stream",
     "text": [
      "Processing cleaned_chunk_0:   4%|█                             | 352/10000 [01:12<24:07,  6.67row/s]"
     ]
    },
    {
     "name": "stdout",
     "output_type": "stream",
     "text": [
      "Progress saved: cleaned_chunk_0, row 352\r"
     ]
    },
    {
     "name": "stderr",
     "output_type": "stream",
     "text": [
      "Processing cleaned_chunk_0:   4%|█                             | 353/10000 [01:12<22:54,  7.02row/s]"
     ]
    },
    {
     "name": "stdout",
     "output_type": "stream",
     "text": [
      "Progress saved: cleaned_chunk_0, row 353\r"
     ]
    },
    {
     "name": "stderr",
     "output_type": "stream",
     "text": [
      "Processing cleaned_chunk_0:   4%|█                             | 355/10000 [01:13<27:02,  5.94row/s]"
     ]
    },
    {
     "name": "stdout",
     "output_type": "stream",
     "text": [
      "Progress saved: cleaned_chunk_0, row 355\r"
     ]
    },
    {
     "name": "stderr",
     "output_type": "stream",
     "text": [
      "Processing cleaned_chunk_0:   4%|█                             | 356/10000 [01:13<25:05,  6.40row/s]"
     ]
    },
    {
     "name": "stdout",
     "output_type": "stream",
     "text": [
      "Progress saved: cleaned_chunk_0, row 356\r"
     ]
    },
    {
     "name": "stderr",
     "output_type": "stream",
     "text": [
      "Processing cleaned_chunk_0:   4%|█                             | 357/10000 [01:13<26:43,  6.01row/s]"
     ]
    },
    {
     "name": "stdout",
     "output_type": "stream",
     "text": [
      "Progress saved: cleaned_chunk_0, row 358\r"
     ]
    },
    {
     "name": "stderr",
     "output_type": "stream",
     "text": [
      "Processing cleaned_chunk_0:   4%|█                             | 360/10000 [01:13<31:58,  5.03row/s]"
     ]
    },
    {
     "name": "stdout",
     "output_type": "stream",
     "text": [
      "Progress saved: cleaned_chunk_0, row 360\r"
     ]
    },
    {
     "name": "stderr",
     "output_type": "stream",
     "text": [
      "Processing cleaned_chunk_0:   4%|█                             | 361/10000 [01:14<32:08,  5.00row/s]"
     ]
    },
    {
     "name": "stdout",
     "output_type": "stream",
     "text": [
      "Progress saved: cleaned_chunk_0, row 361\r"
     ]
    },
    {
     "name": "stderr",
     "output_type": "stream",
     "text": [
      "Processing cleaned_chunk_0:   4%|█                             | 362/10000 [01:14<41:57,  3.83row/s]"
     ]
    },
    {
     "name": "stdout",
     "output_type": "stream",
     "text": [
      "Progress saved: cleaned_chunk_0, row 362\r"
     ]
    },
    {
     "name": "stderr",
     "output_type": "stream",
     "text": [
      "Processing cleaned_chunk_0:   4%|█                             | 363/10000 [01:15<55:00,  2.92row/s]"
     ]
    },
    {
     "name": "stdout",
     "output_type": "stream",
     "text": [
      "Progress saved: cleaned_chunk_0, row 363\r"
     ]
    },
    {
     "name": "stderr",
     "output_type": "stream",
     "text": [
      "Processing cleaned_chunk_0:   4%|█                             | 364/10000 [01:15<58:29,  2.75row/s]"
     ]
    },
    {
     "name": "stdout",
     "output_type": "stream",
     "text": [
      "Progress saved: cleaned_chunk_0, row 364\r"
     ]
    },
    {
     "name": "stderr",
     "output_type": "stream",
     "text": [
      "Processing cleaned_chunk_0:   4%|█                           | 365/10000 [01:15<1:00:57,  2.63row/s]"
     ]
    },
    {
     "name": "stdout",
     "output_type": "stream",
     "text": [
      "Progress saved: cleaned_chunk_0, row 365\r"
     ]
    },
    {
     "name": "stderr",
     "output_type": "stream",
     "text": [
      "Processing cleaned_chunk_0:   4%|█                           | 366/10000 [01:16<1:01:29,  2.61row/s]"
     ]
    },
    {
     "name": "stdout",
     "output_type": "stream",
     "text": [
      "Progress saved: cleaned_chunk_0, row 366\r"
     ]
    },
    {
     "name": "stderr",
     "output_type": "stream",
     "text": [
      "Processing cleaned_chunk_0:   4%|█                           | 367/10000 [01:16<1:05:19,  2.46row/s]"
     ]
    },
    {
     "name": "stdout",
     "output_type": "stream",
     "text": [
      "Progress saved: cleaned_chunk_0, row 367\r"
     ]
    },
    {
     "name": "stderr",
     "output_type": "stream",
     "text": [
      "Processing cleaned_chunk_0:   4%|█                           | 368/10000 [01:17<1:10:52,  2.26row/s]"
     ]
    },
    {
     "name": "stdout",
     "output_type": "stream",
     "text": [
      "Progress saved: cleaned_chunk_0, row 368\r"
     ]
    },
    {
     "name": "stderr",
     "output_type": "stream",
     "text": [
      "Processing cleaned_chunk_0:   4%|█                           | 369/10000 [01:17<1:19:37,  2.02row/s]"
     ]
    },
    {
     "name": "stdout",
     "output_type": "stream",
     "text": [
      "Progress saved: cleaned_chunk_0, row 369\r"
     ]
    },
    {
     "name": "stderr",
     "output_type": "stream",
     "text": [
      "Processing cleaned_chunk_0:   4%|█                           | 370/10000 [01:18<1:42:49,  1.56row/s]"
     ]
    },
    {
     "name": "stdout",
     "output_type": "stream",
     "text": [
      "Progress saved: cleaned_chunk_0, row 370\r"
     ]
    },
    {
     "name": "stderr",
     "output_type": "stream",
     "text": [
      "Processing cleaned_chunk_0:   4%|█                           | 371/10000 [01:19<1:24:14,  1.91row/s]"
     ]
    },
    {
     "name": "stdout",
     "output_type": "stream",
     "text": [
      "Progress saved: cleaned_chunk_0, row 371\r"
     ]
    },
    {
     "name": "stderr",
     "output_type": "stream",
     "text": [
      "Processing cleaned_chunk_0:   4%|█                           | 372/10000 [01:19<1:19:50,  2.01row/s]"
     ]
    },
    {
     "name": "stdout",
     "output_type": "stream",
     "text": [
      "Progress saved: cleaned_chunk_0, row 372\r"
     ]
    },
    {
     "name": "stderr",
     "output_type": "stream",
     "text": [
      "Processing cleaned_chunk_0:   4%|█                           | 373/10000 [01:19<1:13:21,  2.19row/s]"
     ]
    },
    {
     "name": "stdout",
     "output_type": "stream",
     "text": [
      "Progress saved: cleaned_chunk_0, row 373\r"
     ]
    },
    {
     "name": "stderr",
     "output_type": "stream",
     "text": [
      "Processing cleaned_chunk_0:   4%|█                           | 374/10000 [01:20<1:07:42,  2.37row/s]"
     ]
    },
    {
     "name": "stdout",
     "output_type": "stream",
     "text": [
      "Progress saved: cleaned_chunk_0, row 374\r"
     ]
    },
    {
     "name": "stderr",
     "output_type": "stream",
     "text": [
      "Processing cleaned_chunk_0:   4%|█▏                            | 376/10000 [01:20<56:00,  2.86row/s]"
     ]
    },
    {
     "name": "stdout",
     "output_type": "stream",
     "text": [
      "Progress saved: cleaned_chunk_0, row 376\r"
     ]
    },
    {
     "name": "stderr",
     "output_type": "stream",
     "text": [
      "Processing cleaned_chunk_0:   4%|█▏                            | 377/10000 [01:21<54:13,  2.96row/s]"
     ]
    },
    {
     "name": "stdout",
     "output_type": "stream",
     "text": [
      "Progress saved: cleaned_chunk_0, row 377\r"
     ]
    },
    {
     "name": "stderr",
     "output_type": "stream",
     "text": [
      "Processing cleaned_chunk_0:   4%|█                           | 378/10000 [01:21<1:00:02,  2.67row/s]"
     ]
    },
    {
     "name": "stdout",
     "output_type": "stream",
     "text": [
      "Progress saved: cleaned_chunk_0, row 379\r"
     ]
    },
    {
     "name": "stderr",
     "output_type": "stream",
     "text": [
      "Processing cleaned_chunk_0:   4%|█▏                            | 381/10000 [01:22<41:18,  3.88row/s]"
     ]
    },
    {
     "name": "stdout",
     "output_type": "stream",
     "text": [
      "Progress saved: cleaned_chunk_0, row 381\r"
     ]
    },
    {
     "name": "stderr",
     "output_type": "stream",
     "text": [
      "Processing cleaned_chunk_0:   4%|█▏                            | 382/10000 [01:22<36:45,  4.36row/s]"
     ]
    },
    {
     "name": "stdout",
     "output_type": "stream",
     "text": [
      "Progress saved: cleaned_chunk_0, row 382\r"
     ]
    },
    {
     "name": "stderr",
     "output_type": "stream",
     "text": [
      "Processing cleaned_chunk_0:   4%|█▏                            | 384/10000 [01:23<39:14,  4.08row/s]"
     ]
    },
    {
     "name": "stdout",
     "output_type": "stream",
     "text": [
      "Progress saved: cleaned_chunk_0, row 384\r"
     ]
    },
    {
     "name": "stderr",
     "output_type": "stream",
     "text": [
      "Processing cleaned_chunk_0:   4%|█▏                            | 386/10000 [01:23<31:09,  5.14row/s]"
     ]
    },
    {
     "name": "stdout",
     "output_type": "stream",
     "text": [
      "Progress saved: cleaned_chunk_0, row 386\r"
     ]
    },
    {
     "name": "stderr",
     "output_type": "stream",
     "text": [
      "Processing cleaned_chunk_0:   4%|█▏                            | 388/10000 [01:23<27:29,  5.83row/s]"
     ]
    },
    {
     "name": "stdout",
     "output_type": "stream",
     "text": [
      "Progress saved: cleaned_chunk_0, row 388\r"
     ]
    },
    {
     "name": "stderr",
     "output_type": "stream",
     "text": [
      "Processing cleaned_chunk_0:   4%|█▏                            | 390/10000 [01:23<26:59,  5.93row/s]"
     ]
    },
    {
     "name": "stdout",
     "output_type": "stream",
     "text": [
      "Progress saved: cleaned_chunk_0, row 390\r"
     ]
    },
    {
     "name": "stderr",
     "output_type": "stream",
     "text": [
      "Processing cleaned_chunk_0:   4%|█▏                            | 391/10000 [01:24<26:33,  6.03row/s]"
     ]
    },
    {
     "name": "stdout",
     "output_type": "stream",
     "text": [
      "Progress saved: cleaned_chunk_0, row 392\r"
     ]
    },
    {
     "name": "stderr",
     "output_type": "stream",
     "text": [
      "Processing cleaned_chunk_0:   4%|█▏                            | 394/10000 [01:24<25:25,  6.30row/s]"
     ]
    },
    {
     "name": "stdout",
     "output_type": "stream",
     "text": [
      "Progress saved: cleaned_chunk_0, row 394\r"
     ]
    },
    {
     "name": "stderr",
     "output_type": "stream",
     "text": [
      "Processing cleaned_chunk_0:   4%|█▏                            | 395/10000 [01:24<23:28,  6.82row/s]"
     ]
    },
    {
     "name": "stdout",
     "output_type": "stream",
     "text": [
      "Progress saved: cleaned_chunk_0, row 396\r"
     ]
    },
    {
     "name": "stderr",
     "output_type": "stream",
     "text": [
      "Processing cleaned_chunk_0:   4%|█▏                            | 398/10000 [01:25<24:26,  6.55row/s]"
     ]
    },
    {
     "name": "stdout",
     "output_type": "stream",
     "text": [
      "Progress saved: cleaned_chunk_0, row 398\r"
     ]
    },
    {
     "name": "stderr",
     "output_type": "stream",
     "text": [
      "Processing cleaned_chunk_0:   4%|█▏                            | 399/10000 [01:25<24:58,  6.41row/s]"
     ]
    },
    {
     "name": "stdout",
     "output_type": "stream",
     "text": [
      "Progress saved: cleaned_chunk_0, row 400\r"
     ]
    },
    {
     "name": "stderr",
     "output_type": "stream",
     "text": [
      "Processing cleaned_chunk_0:   4%|█▏                            | 402/10000 [01:26<30:11,  5.30row/s]"
     ]
    },
    {
     "name": "stdout",
     "output_type": "stream",
     "text": [
      "Progress saved: cleaned_chunk_0, row 402\r"
     ]
    },
    {
     "name": "stderr",
     "output_type": "stream",
     "text": [
      "Processing cleaned_chunk_0:   4%|█▏                            | 404/10000 [01:26<27:44,  5.76row/s]"
     ]
    },
    {
     "name": "stdout",
     "output_type": "stream",
     "text": [
      "Progress saved: cleaned_chunk_0, row 404\r"
     ]
    },
    {
     "name": "stderr",
     "output_type": "stream",
     "text": [
      "Processing cleaned_chunk_0:   4%|█▏                            | 406/10000 [01:26<27:07,  5.89row/s]"
     ]
    },
    {
     "name": "stdout",
     "output_type": "stream",
     "text": [
      "Progress saved: cleaned_chunk_0, row 406\r"
     ]
    },
    {
     "name": "stderr",
     "output_type": "stream",
     "text": [
      "Processing cleaned_chunk_0:   4%|█▏                            | 408/10000 [01:27<27:32,  5.80row/s]"
     ]
    },
    {
     "name": "stdout",
     "output_type": "stream",
     "text": [
      "Progress saved: cleaned_chunk_0, row 408\r"
     ]
    },
    {
     "name": "stderr",
     "output_type": "stream",
     "text": [
      "Processing cleaned_chunk_0:   4%|█▏                            | 409/10000 [01:27<28:19,  5.64row/s]"
     ]
    },
    {
     "name": "stdout",
     "output_type": "stream",
     "text": [
      "Progress saved: cleaned_chunk_0, row 410\r"
     ]
    },
    {
     "name": "stderr",
     "output_type": "stream",
     "text": [
      "Processing cleaned_chunk_0:   4%|█▏                            | 412/10000 [01:27<26:23,  6.05row/s]"
     ]
    },
    {
     "name": "stdout",
     "output_type": "stream",
     "text": [
      "Progress saved: cleaned_chunk_0, row 412\r"
     ]
    },
    {
     "name": "stderr",
     "output_type": "stream",
     "text": [
      "Processing cleaned_chunk_0:   4%|█▏                            | 413/10000 [01:27<26:58,  5.92row/s]"
     ]
    },
    {
     "name": "stdout",
     "output_type": "stream",
     "text": [
      "Progress saved: cleaned_chunk_0, row 413\r"
     ]
    },
    {
     "name": "stderr",
     "output_type": "stream",
     "text": [
      "Processing cleaned_chunk_0:   4%|█▏                            | 414/10000 [01:28<39:30,  4.04row/s]"
     ]
    },
    {
     "name": "stdout",
     "output_type": "stream",
     "text": [
      "Progress saved: cleaned_chunk_0, row 414\r"
     ]
    },
    {
     "name": "stderr",
     "output_type": "stream",
     "text": [
      "Processing cleaned_chunk_0:   4%|█▏                            | 415/10000 [01:28<41:53,  3.81row/s]"
     ]
    },
    {
     "name": "stdout",
     "output_type": "stream",
     "text": [
      "Progress saved: cleaned_chunk_0, row 415\r"
     ]
    },
    {
     "name": "stderr",
     "output_type": "stream",
     "text": [
      "Processing cleaned_chunk_0:   4%|█▏                            | 416/10000 [01:29<53:21,  2.99row/s]"
     ]
    },
    {
     "name": "stdout",
     "output_type": "stream",
     "text": [
      "Progress saved: cleaned_chunk_0, row 416\r"
     ]
    },
    {
     "name": "stderr",
     "output_type": "stream",
     "text": [
      "Processing cleaned_chunk_0:   4%|█▏                          | 417/10000 [01:29<1:09:58,  2.28row/s]"
     ]
    },
    {
     "name": "stdout",
     "output_type": "stream",
     "text": [
      "Progress saved: cleaned_chunk_0, row 417\r"
     ]
    },
    {
     "name": "stderr",
     "output_type": "stream",
     "text": [
      "Processing cleaned_chunk_0:   4%|█▎                            | 419/10000 [01:30<53:55,  2.96row/s]"
     ]
    },
    {
     "name": "stdout",
     "output_type": "stream",
     "text": [
      "Progress saved: cleaned_chunk_0, row 419\r"
     ]
    },
    {
     "name": "stderr",
     "output_type": "stream",
     "text": [
      "Processing cleaned_chunk_0:   4%|█▎                            | 421/10000 [01:30<37:33,  4.25row/s]"
     ]
    },
    {
     "name": "stdout",
     "output_type": "stream",
     "text": [
      "Progress saved: cleaned_chunk_0, row 422\r"
     ]
    },
    {
     "name": "stderr",
     "output_type": "stream",
     "text": [
      "Processing cleaned_chunk_0:   4%|█▎                            | 424/10000 [01:30<25:14,  6.32row/s]"
     ]
    },
    {
     "name": "stdout",
     "output_type": "stream",
     "text": [
      "Progress saved: cleaned_chunk_0, row 424\r"
     ]
    },
    {
     "name": "stderr",
     "output_type": "stream",
     "text": [
      "Processing cleaned_chunk_0:   4%|█▎                            | 426/10000 [01:31<21:25,  7.45row/s]"
     ]
    },
    {
     "name": "stdout",
     "output_type": "stream",
     "text": [
      "Progress saved: cleaned_chunk_0, row 426\r"
     ]
    },
    {
     "name": "stderr",
     "output_type": "stream",
     "text": [
      "Processing cleaned_chunk_0:   4%|█▎                            | 428/10000 [01:31<19:15,  8.28row/s]"
     ]
    },
    {
     "name": "stdout",
     "output_type": "stream",
     "text": [
      "Progress saved: cleaned_chunk_0, row 428\r"
     ]
    },
    {
     "name": "stderr",
     "output_type": "stream",
     "text": [
      "Processing cleaned_chunk_0:   4%|█▎                            | 430/10000 [01:31<17:57,  8.88row/s]"
     ]
    },
    {
     "name": "stdout",
     "output_type": "stream",
     "text": [
      "Progress saved: cleaned_chunk_0, row 430\r"
     ]
    },
    {
     "name": "stderr",
     "output_type": "stream",
     "text": [
      "Processing cleaned_chunk_0:   4%|█▎                            | 432/10000 [01:31<17:17,  9.23row/s]"
     ]
    },
    {
     "name": "stdout",
     "output_type": "stream",
     "text": [
      "Progress saved: cleaned_chunk_0, row 432\r"
     ]
    },
    {
     "name": "stderr",
     "output_type": "stream",
     "text": [
      "Processing cleaned_chunk_0:   4%|█▎                            | 434/10000 [01:32<17:39,  9.03row/s]"
     ]
    },
    {
     "name": "stdout",
     "output_type": "stream",
     "text": [
      "Progress saved: cleaned_chunk_0, row 434\r"
     ]
    },
    {
     "name": "stderr",
     "output_type": "stream",
     "text": [
      "Processing cleaned_chunk_0:   4%|█▎                            | 436/10000 [01:32<17:01,  9.37row/s]"
     ]
    },
    {
     "name": "stdout",
     "output_type": "stream",
     "text": [
      "Progress saved: cleaned_chunk_0, row 436\r"
     ]
    },
    {
     "name": "stderr",
     "output_type": "stream",
     "text": [
      "Processing cleaned_chunk_0:   4%|█▎                            | 438/10000 [01:32<19:13,  8.29row/s]"
     ]
    },
    {
     "name": "stdout",
     "output_type": "stream",
     "text": [
      "Progress saved: cleaned_chunk_0, row 438\r"
     ]
    },
    {
     "name": "stderr",
     "output_type": "stream",
     "text": [
      "Processing cleaned_chunk_0:   4%|█▎                            | 440/10000 [01:32<19:13,  8.29row/s]"
     ]
    },
    {
     "name": "stdout",
     "output_type": "stream",
     "text": [
      "Progress saved: cleaned_chunk_0, row 440\r"
     ]
    },
    {
     "name": "stderr",
     "output_type": "stream",
     "text": [
      "Processing cleaned_chunk_0:   4%|█▎                            | 442/10000 [01:33<24:04,  6.62row/s]"
     ]
    },
    {
     "name": "stdout",
     "output_type": "stream",
     "text": [
      "Progress saved: cleaned_chunk_0, row 442\r"
     ]
    },
    {
     "name": "stderr",
     "output_type": "stream",
     "text": [
      "Processing cleaned_chunk_0:   4%|█▎                            | 444/10000 [01:33<20:22,  7.81row/s]"
     ]
    },
    {
     "name": "stdout",
     "output_type": "stream",
     "text": [
      "Progress saved: cleaned_chunk_0, row 444\r"
     ]
    },
    {
     "name": "stderr",
     "output_type": "stream",
     "text": [
      "Processing cleaned_chunk_0:   4%|█▎                            | 446/10000 [01:33<20:05,  7.93row/s]"
     ]
    },
    {
     "name": "stdout",
     "output_type": "stream",
     "text": [
      "Progress saved: cleaned_chunk_0, row 446\r"
     ]
    },
    {
     "name": "stderr",
     "output_type": "stream",
     "text": [
      "Processing cleaned_chunk_0:   4%|█▎                            | 448/10000 [01:33<18:52,  8.44row/s]"
     ]
    },
    {
     "name": "stdout",
     "output_type": "stream",
     "text": [
      "Progress saved: cleaned_chunk_0, row 448\r"
     ]
    },
    {
     "name": "stderr",
     "output_type": "stream",
     "text": [
      "Processing cleaned_chunk_0:   4%|█▎                            | 450/10000 [01:33<17:31,  9.08row/s]"
     ]
    },
    {
     "name": "stdout",
     "output_type": "stream",
     "text": [
      "Progress saved: cleaned_chunk_0, row 450\r"
     ]
    },
    {
     "name": "stderr",
     "output_type": "stream",
     "text": [
      "Processing cleaned_chunk_0:   5%|█▎                            | 452/10000 [01:34<19:23,  8.20row/s]"
     ]
    },
    {
     "name": "stdout",
     "output_type": "stream",
     "text": [
      "Progress saved: cleaned_chunk_0, row 452\r"
     ]
    },
    {
     "name": "stderr",
     "output_type": "stream",
     "text": [
      "Processing cleaned_chunk_0:   5%|█▎                            | 454/10000 [01:34<18:37,  8.54row/s]"
     ]
    },
    {
     "name": "stdout",
     "output_type": "stream",
     "text": [
      "Progress saved: cleaned_chunk_0, row 455\r"
     ]
    },
    {
     "name": "stderr",
     "output_type": "stream",
     "text": [
      "Processing cleaned_chunk_0:   5%|█▎                            | 457/10000 [01:34<17:40,  8.99row/s]"
     ]
    },
    {
     "name": "stdout",
     "output_type": "stream",
     "text": [
      "Progress saved: cleaned_chunk_0, row 457\r"
     ]
    },
    {
     "name": "stderr",
     "output_type": "stream",
     "text": [
      "Processing cleaned_chunk_0:   5%|█▍                            | 459/10000 [01:35<18:56,  8.39row/s]"
     ]
    },
    {
     "name": "stdout",
     "output_type": "stream",
     "text": [
      "Progress saved: cleaned_chunk_0, row 459\r"
     ]
    },
    {
     "name": "stderr",
     "output_type": "stream",
     "text": [
      "Processing cleaned_chunk_0:   5%|█▍                            | 461/10000 [01:35<18:07,  8.77row/s]"
     ]
    },
    {
     "name": "stdout",
     "output_type": "stream",
     "text": [
      "Progress saved: cleaned_chunk_0, row 462\r"
     ]
    },
    {
     "name": "stderr",
     "output_type": "stream",
     "text": [
      "Processing cleaned_chunk_0:   5%|█▍                            | 463/10000 [01:35<17:39,  9.00row/s]"
     ]
    },
    {
     "name": "stdout",
     "output_type": "stream",
     "text": [
      "Progress saved: cleaned_chunk_0, row 465\r"
     ]
    },
    {
     "name": "stderr",
     "output_type": "stream",
     "text": [
      "Processing cleaned_chunk_0:   5%|█▍                            | 467/10000 [01:36<20:53,  7.61row/s]"
     ]
    },
    {
     "name": "stdout",
     "output_type": "stream",
     "text": [
      "Progress saved: cleaned_chunk_0, row 468\r"
     ]
    },
    {
     "name": "stderr",
     "output_type": "stream",
     "text": [
      "Processing cleaned_chunk_0:   5%|█▍                            | 470/10000 [01:36<19:00,  8.36row/s]"
     ]
    },
    {
     "name": "stdout",
     "output_type": "stream",
     "text": [
      "Progress saved: cleaned_chunk_0, row 470\r"
     ]
    },
    {
     "name": "stderr",
     "output_type": "stream",
     "text": [
      "Processing cleaned_chunk_0:   5%|█▍                            | 472/10000 [01:36<18:29,  8.59row/s]"
     ]
    },
    {
     "name": "stdout",
     "output_type": "stream",
     "text": [
      "Progress saved: cleaned_chunk_0, row 472\r"
     ]
    },
    {
     "name": "stderr",
     "output_type": "stream",
     "text": [
      "Processing cleaned_chunk_0:   5%|█▍                            | 474/10000 [01:36<17:48,  8.92row/s]"
     ]
    },
    {
     "name": "stdout",
     "output_type": "stream",
     "text": [
      "Progress saved: cleaned_chunk_0, row 474\r"
     ]
    },
    {
     "name": "stderr",
     "output_type": "stream",
     "text": [
      "Processing cleaned_chunk_0:   5%|█▍                            | 476/10000 [01:36<17:25,  9.11row/s]"
     ]
    },
    {
     "name": "stdout",
     "output_type": "stream",
     "text": [
      "Progress saved: cleaned_chunk_0, row 476\r"
     ]
    },
    {
     "name": "stderr",
     "output_type": "stream",
     "text": [
      "Processing cleaned_chunk_0:   5%|█▍                            | 478/10000 [01:37<18:41,  8.49row/s]"
     ]
    },
    {
     "name": "stdout",
     "output_type": "stream",
     "text": [
      "Progress saved: cleaned_chunk_0, row 478\r"
     ]
    },
    {
     "name": "stderr",
     "output_type": "stream",
     "text": [
      "Processing cleaned_chunk_0:   5%|█▍                            | 479/10000 [01:37<24:10,  6.56row/s]"
     ]
    },
    {
     "name": "stdout",
     "output_type": "stream",
     "text": [
      "Progress saved: cleaned_chunk_0, row 481\r"
     ]
    },
    {
     "name": "stderr",
     "output_type": "stream",
     "text": [
      "Processing cleaned_chunk_0:   5%|█▍                            | 482/10000 [01:37<19:25,  8.17row/s]"
     ]
    },
    {
     "name": "stdout",
     "output_type": "stream",
     "text": [
      "Progress saved: cleaned_chunk_0, row 484\r"
     ]
    },
    {
     "name": "stderr",
     "output_type": "stream",
     "text": [
      "Processing cleaned_chunk_0:   5%|█▍                            | 486/10000 [01:38<19:31,  8.12row/s]"
     ]
    },
    {
     "name": "stdout",
     "output_type": "stream",
     "text": [
      "Progress saved: cleaned_chunk_0, row 486\r"
     ]
    },
    {
     "name": "stderr",
     "output_type": "stream",
     "text": [
      "Processing cleaned_chunk_0:   5%|█▍                            | 488/10000 [01:38<24:20,  6.52row/s]"
     ]
    },
    {
     "name": "stdout",
     "output_type": "stream",
     "text": [
      "Progress saved: cleaned_chunk_0, row 488\r"
     ]
    },
    {
     "name": "stderr",
     "output_type": "stream",
     "text": [
      "Processing cleaned_chunk_0:   5%|█▍                            | 490/10000 [01:38<22:19,  7.10row/s]"
     ]
    },
    {
     "name": "stdout",
     "output_type": "stream",
     "text": [
      "Progress saved: cleaned_chunk_0, row 490\r"
     ]
    },
    {
     "name": "stderr",
     "output_type": "stream",
     "text": [
      "Processing cleaned_chunk_0:   5%|█▍                            | 492/10000 [01:39<20:40,  7.67row/s]"
     ]
    },
    {
     "name": "stdout",
     "output_type": "stream",
     "text": [
      "Progress saved: cleaned_chunk_0, row 492\r"
     ]
    },
    {
     "name": "stderr",
     "output_type": "stream",
     "text": [
      "Processing cleaned_chunk_0:   5%|█▍                            | 494/10000 [01:39<19:04,  8.30row/s]"
     ]
    },
    {
     "name": "stdout",
     "output_type": "stream",
     "text": [
      "Progress saved: cleaned_chunk_0, row 494\r"
     ]
    },
    {
     "name": "stderr",
     "output_type": "stream",
     "text": [
      "Processing cleaned_chunk_0:   5%|█▍                            | 495/10000 [01:39<28:29,  5.56row/s]"
     ]
    },
    {
     "name": "stdout",
     "output_type": "stream",
     "text": [
      "Progress saved: cleaned_chunk_0, row 496\r"
     ]
    },
    {
     "name": "stderr",
     "output_type": "stream",
     "text": [
      "Processing cleaned_chunk_0:   5%|█▍                            | 497/10000 [01:40<26:34,  5.96row/s]"
     ]
    },
    {
     "name": "stdout",
     "output_type": "stream",
     "text": [
      "Progress saved: cleaned_chunk_0, row 498\r"
     ]
    },
    {
     "name": "stderr",
     "output_type": "stream",
     "text": [
      "Processing cleaned_chunk_0:   5%|█▌                            | 500/10000 [01:40<21:56,  7.22row/s]"
     ]
    },
    {
     "name": "stdout",
     "output_type": "stream",
     "text": [
      "Progress saved: cleaned_chunk_0, row 500\r"
     ]
    },
    {
     "name": "stderr",
     "output_type": "stream",
     "text": [
      "Processing cleaned_chunk_0:   5%|█▌                            | 502/10000 [01:40<21:47,  7.26row/s]"
     ]
    },
    {
     "name": "stdout",
     "output_type": "stream",
     "text": [
      "Progress saved: cleaned_chunk_0, row 502\r"
     ]
    },
    {
     "name": "stderr",
     "output_type": "stream",
     "text": [
      "Processing cleaned_chunk_0:   5%|█▌                            | 503/10000 [01:40<23:43,  6.67row/s]"
     ]
    },
    {
     "name": "stdout",
     "output_type": "stream",
     "text": [
      "Progress saved: cleaned_chunk_0, row 503\r"
     ]
    },
    {
     "name": "stderr",
     "output_type": "stream",
     "text": [
      "Processing cleaned_chunk_0:   5%|█▌                            | 504/10000 [01:41<26:42,  5.93row/s]"
     ]
    },
    {
     "name": "stdout",
     "output_type": "stream",
     "text": [
      "Progress saved: cleaned_chunk_0, row 504\r"
     ]
    },
    {
     "name": "stderr",
     "output_type": "stream",
     "text": [
      "Processing cleaned_chunk_0:   5%|█▌                            | 505/10000 [01:41<35:29,  4.46row/s]"
     ]
    },
    {
     "name": "stdout",
     "output_type": "stream",
     "text": [
      "Progress saved: cleaned_chunk_0, row 505\r"
     ]
    },
    {
     "name": "stderr",
     "output_type": "stream",
     "text": [
      "Processing cleaned_chunk_0:   5%|█▌                            | 506/10000 [01:41<38:53,  4.07row/s]"
     ]
    },
    {
     "name": "stdout",
     "output_type": "stream",
     "text": [
      "Progress saved: cleaned_chunk_0, row 506\r"
     ]
    },
    {
     "name": "stderr",
     "output_type": "stream",
     "text": [
      "Processing cleaned_chunk_0:   5%|█▌                            | 507/10000 [01:41<37:18,  4.24row/s]"
     ]
    },
    {
     "name": "stdout",
     "output_type": "stream",
     "text": [
      "Progress saved: cleaned_chunk_0, row 507\r"
     ]
    },
    {
     "name": "stderr",
     "output_type": "stream",
     "text": [
      "Processing cleaned_chunk_0:   5%|█▌                            | 508/10000 [01:42<41:54,  3.77row/s]"
     ]
    },
    {
     "name": "stdout",
     "output_type": "stream",
     "text": [
      "Progress saved: cleaned_chunk_0, row 508\r"
     ]
    },
    {
     "name": "stderr",
     "output_type": "stream",
     "text": [
      "Processing cleaned_chunk_0:   5%|█▌                            | 509/10000 [01:42<46:31,  3.40row/s]"
     ]
    },
    {
     "name": "stdout",
     "output_type": "stream",
     "text": [
      "Progress saved: cleaned_chunk_0, row 509\r"
     ]
    },
    {
     "name": "stderr",
     "output_type": "stream",
     "text": [
      "Processing cleaned_chunk_0:   5%|█▌                            | 510/10000 [01:42<44:57,  3.52row/s]"
     ]
    },
    {
     "name": "stdout",
     "output_type": "stream",
     "text": [
      "Progress saved: cleaned_chunk_0, row 510\r"
     ]
    },
    {
     "name": "stderr",
     "output_type": "stream",
     "text": [
      "Processing cleaned_chunk_0:   5%|█▌                            | 511/10000 [01:43<48:47,  3.24row/s]"
     ]
    },
    {
     "name": "stdout",
     "output_type": "stream",
     "text": [
      "Progress saved: cleaned_chunk_0, row 511\r"
     ]
    },
    {
     "name": "stderr",
     "output_type": "stream",
     "text": [
      "Processing cleaned_chunk_0:   5%|█▌                            | 513/10000 [01:43<38:17,  4.13row/s]"
     ]
    },
    {
     "name": "stdout",
     "output_type": "stream",
     "text": [
      "Progress saved: cleaned_chunk_0, row 513\r"
     ]
    },
    {
     "name": "stderr",
     "output_type": "stream",
     "text": [
      "Processing cleaned_chunk_0:   5%|█▌                            | 514/10000 [01:44<47:19,  3.34row/s]"
     ]
    },
    {
     "name": "stdout",
     "output_type": "stream",
     "text": [
      "Progress saved: cleaned_chunk_0, row 514\r"
     ]
    },
    {
     "name": "stderr",
     "output_type": "stream",
     "text": [
      "Processing cleaned_chunk_0:   5%|█▌                            | 515/10000 [01:44<57:09,  2.77row/s]"
     ]
    },
    {
     "name": "stdout",
     "output_type": "stream",
     "text": [
      "Progress saved: cleaned_chunk_0, row 515\r"
     ]
    },
    {
     "name": "stderr",
     "output_type": "stream",
     "text": [
      "Processing cleaned_chunk_0:   5%|█▌                            | 517/10000 [01:44<42:36,  3.71row/s]"
     ]
    },
    {
     "name": "stdout",
     "output_type": "stream",
     "text": [
      "Progress saved: cleaned_chunk_0, row 517\r"
     ]
    },
    {
     "name": "stderr",
     "output_type": "stream",
     "text": [
      "Processing cleaned_chunk_0:   5%|█▌                            | 519/10000 [01:45<32:44,  4.83row/s]"
     ]
    },
    {
     "name": "stdout",
     "output_type": "stream",
     "text": [
      "Progress saved: cleaned_chunk_0, row 519\r"
     ]
    },
    {
     "name": "stderr",
     "output_type": "stream",
     "text": [
      "Processing cleaned_chunk_0:   5%|█▌                            | 521/10000 [01:45<28:09,  5.61row/s]"
     ]
    },
    {
     "name": "stdout",
     "output_type": "stream",
     "text": [
      "Progress saved: cleaned_chunk_0, row 521\r"
     ]
    },
    {
     "name": "stderr",
     "output_type": "stream",
     "text": [
      "Processing cleaned_chunk_0:   5%|█▌                            | 522/10000 [01:45<37:00,  4.27row/s]"
     ]
    },
    {
     "name": "stdout",
     "output_type": "stream",
     "text": [
      "Progress saved: cleaned_chunk_0, row 522\r"
     ]
    },
    {
     "name": "stderr",
     "output_type": "stream",
     "text": [
      "Processing cleaned_chunk_0:   5%|█▌                            | 523/10000 [01:46<38:56,  4.06row/s]"
     ]
    },
    {
     "name": "stdout",
     "output_type": "stream",
     "text": [
      "Progress saved: cleaned_chunk_0, row 523\r"
     ]
    },
    {
     "name": "stderr",
     "output_type": "stream",
     "text": [
      "Processing cleaned_chunk_0:   5%|█▌                            | 524/10000 [01:46<41:42,  3.79row/s]"
     ]
    },
    {
     "name": "stdout",
     "output_type": "stream",
     "text": [
      "Progress saved: cleaned_chunk_0, row 524\r"
     ]
    },
    {
     "name": "stderr",
     "output_type": "stream",
     "text": [
      "Processing cleaned_chunk_0:   5%|█▌                            | 525/10000 [01:46<40:22,  3.91row/s]"
     ]
    },
    {
     "name": "stdout",
     "output_type": "stream",
     "text": [
      "Progress saved: cleaned_chunk_0, row 525\r"
     ]
    },
    {
     "name": "stderr",
     "output_type": "stream",
     "text": [
      "Processing cleaned_chunk_0:   5%|█▌                            | 526/10000 [01:46<40:07,  3.94row/s]"
     ]
    },
    {
     "name": "stdout",
     "output_type": "stream",
     "text": [
      "Progress saved: cleaned_chunk_0, row 526\r"
     ]
    },
    {
     "name": "stderr",
     "output_type": "stream",
     "text": [
      "Processing cleaned_chunk_0:   5%|█▌                            | 527/10000 [01:47<38:09,  4.14row/s]"
     ]
    },
    {
     "name": "stdout",
     "output_type": "stream",
     "text": [
      "Progress saved: cleaned_chunk_0, row 527\r"
     ]
    },
    {
     "name": "stderr",
     "output_type": "stream",
     "text": [
      "Processing cleaned_chunk_0:   5%|█▌                            | 528/10000 [01:47<38:13,  4.13row/s]"
     ]
    },
    {
     "name": "stdout",
     "output_type": "stream",
     "text": [
      "Progress saved: cleaned_chunk_0, row 528\r"
     ]
    },
    {
     "name": "stderr",
     "output_type": "stream",
     "text": [
      "Processing cleaned_chunk_0:   5%|█▌                            | 529/10000 [01:47<38:03,  4.15row/s]"
     ]
    },
    {
     "name": "stdout",
     "output_type": "stream",
     "text": [
      "Progress saved: cleaned_chunk_0, row 529\r"
     ]
    },
    {
     "name": "stderr",
     "output_type": "stream",
     "text": [
      "Processing cleaned_chunk_0:   5%|█▌                            | 530/10000 [01:48<44:34,  3.54row/s]"
     ]
    },
    {
     "name": "stdout",
     "output_type": "stream",
     "text": [
      "Progress saved: cleaned_chunk_0, row 530\r"
     ]
    },
    {
     "name": "stderr",
     "output_type": "stream",
     "text": [
      "Processing cleaned_chunk_0:   5%|█▌                            | 531/10000 [01:48<52:07,  3.03row/s]"
     ]
    },
    {
     "name": "stdout",
     "output_type": "stream",
     "text": [
      "Progress saved: cleaned_chunk_0, row 531\r"
     ]
    },
    {
     "name": "stderr",
     "output_type": "stream",
     "text": [
      "Processing cleaned_chunk_0:   5%|█▌                            | 533/10000 [01:48<44:21,  3.56row/s]"
     ]
    },
    {
     "name": "stdout",
     "output_type": "stream",
     "text": [
      "Progress saved: cleaned_chunk_0, row 533\r"
     ]
    },
    {
     "name": "stderr",
     "output_type": "stream",
     "text": [
      "Processing cleaned_chunk_0:   5%|█▌                            | 535/10000 [01:49<31:59,  4.93row/s]"
     ]
    },
    {
     "name": "stdout",
     "output_type": "stream",
     "text": [
      "Progress saved: cleaned_chunk_0, row 535\r"
     ]
    },
    {
     "name": "stderr",
     "output_type": "stream",
     "text": [
      "Processing cleaned_chunk_0:   5%|█▌                            | 536/10000 [01:49<31:24,  5.02row/s]"
     ]
    },
    {
     "name": "stdout",
     "output_type": "stream",
     "text": [
      "Progress saved: cleaned_chunk_0, row 538\r"
     ]
    },
    {
     "name": "stderr",
     "output_type": "stream",
     "text": [
      "Processing cleaned_chunk_0:   5%|█▌                            | 540/10000 [01:49<24:23,  6.46row/s]"
     ]
    },
    {
     "name": "stdout",
     "output_type": "stream",
     "text": [
      "Progress saved: cleaned_chunk_0, row 540\r"
     ]
    },
    {
     "name": "stderr",
     "output_type": "stream",
     "text": [
      "Processing cleaned_chunk_0:   5%|█▋                            | 542/10000 [01:50<23:03,  6.84row/s]"
     ]
    },
    {
     "name": "stdout",
     "output_type": "stream",
     "text": [
      "Progress saved: cleaned_chunk_0, row 542\r"
     ]
    },
    {
     "name": "stderr",
     "output_type": "stream",
     "text": [
      "Processing cleaned_chunk_0:   5%|█▋                            | 544/10000 [01:50<22:35,  6.98row/s]"
     ]
    },
    {
     "name": "stdout",
     "output_type": "stream",
     "text": [
      "Progress saved: cleaned_chunk_0, row 544\r"
     ]
    },
    {
     "name": "stderr",
     "output_type": "stream",
     "text": [
      "Processing cleaned_chunk_0:   5%|█▋                            | 547/10000 [01:50<17:36,  8.95row/s]"
     ]
    },
    {
     "name": "stdout",
     "output_type": "stream",
     "text": [
      "Progress saved: cleaned_chunk_0, row 547\r"
     ]
    },
    {
     "name": "stderr",
     "output_type": "stream",
     "text": [
      "Processing cleaned_chunk_0:   5%|█▋                            | 549/10000 [01:50<17:05,  9.21row/s]"
     ]
    },
    {
     "name": "stdout",
     "output_type": "stream",
     "text": [
      "Progress saved: cleaned_chunk_0, row 549\r"
     ]
    },
    {
     "name": "stderr",
     "output_type": "stream",
     "text": [
      "Processing cleaned_chunk_0:   6%|█▋                            | 551/10000 [01:51<18:30,  8.51row/s]"
     ]
    },
    {
     "name": "stdout",
     "output_type": "stream",
     "text": [
      "Progress saved: cleaned_chunk_0, row 551\r"
     ]
    },
    {
     "name": "stderr",
     "output_type": "stream",
     "text": [
      "Processing cleaned_chunk_0:   6%|█▋                            | 553/10000 [01:51<16:56,  9.29row/s]"
     ]
    },
    {
     "name": "stdout",
     "output_type": "stream",
     "text": [
      "Progress saved: cleaned_chunk_0, row 554\r"
     ]
    },
    {
     "name": "stderr",
     "output_type": "stream",
     "text": [
      "Processing cleaned_chunk_0:   6%|█▋                            | 557/10000 [01:51<15:08, 10.40row/s]"
     ]
    },
    {
     "name": "stdout",
     "output_type": "stream",
     "text": [
      "Progress saved: cleaned_chunk_0, row 557\r"
     ]
    },
    {
     "name": "stderr",
     "output_type": "stream",
     "text": [
      "Processing cleaned_chunk_0:   6%|█▋                            | 559/10000 [01:51<16:57,  9.28row/s]"
     ]
    },
    {
     "name": "stdout",
     "output_type": "stream",
     "text": [
      "Progress saved: cleaned_chunk_0, row 559\r"
     ]
    },
    {
     "name": "stderr",
     "output_type": "stream",
     "text": [
      "Processing cleaned_chunk_0:   6%|█▋                            | 561/10000 [01:52<17:39,  8.91row/s]"
     ]
    },
    {
     "name": "stdout",
     "output_type": "stream",
     "text": [
      "Progress saved: cleaned_chunk_0, row 562\r"
     ]
    },
    {
     "name": "stderr",
     "output_type": "stream",
     "text": [
      "Processing cleaned_chunk_0:   6%|█▋                            | 564/10000 [01:52<17:47,  8.84row/s]"
     ]
    },
    {
     "name": "stdout",
     "output_type": "stream",
     "text": [
      "Progress saved: cleaned_chunk_0, row 564\r"
     ]
    },
    {
     "name": "stderr",
     "output_type": "stream",
     "text": [
      "Processing cleaned_chunk_0:   6%|█▋                            | 565/10000 [01:52<18:45,  8.38row/s]"
     ]
    },
    {
     "name": "stdout",
     "output_type": "stream",
     "text": [
      "Progress saved: cleaned_chunk_0, row 567\r"
     ]
    },
    {
     "name": "stderr",
     "output_type": "stream",
     "text": [
      "Processing cleaned_chunk_0:   6%|█▋                            | 569/10000 [01:53<15:57,  9.85row/s]"
     ]
    },
    {
     "name": "stdout",
     "output_type": "stream",
     "text": [
      "Progress saved: cleaned_chunk_0, row 570\r"
     ]
    },
    {
     "name": "stderr",
     "output_type": "stream",
     "text": [
      "Processing cleaned_chunk_0:   6%|█▋                            | 571/10000 [01:53<15:27, 10.17row/s]"
     ]
    },
    {
     "name": "stdout",
     "output_type": "stream",
     "text": [
      "Progress saved: cleaned_chunk_0, row 572\r"
     ]
    },
    {
     "name": "stderr",
     "output_type": "stream",
     "text": [
      "Processing cleaned_chunk_0:   6%|█▋                            | 574/10000 [01:53<16:58,  9.26row/s]"
     ]
    },
    {
     "name": "stdout",
     "output_type": "stream",
     "text": [
      "Progress saved: cleaned_chunk_0, row 575\r"
     ]
    },
    {
     "name": "stderr",
     "output_type": "stream",
     "text": [
      "Processing cleaned_chunk_0:   6%|█▋                            | 578/10000 [01:54<15:09, 10.36row/s]"
     ]
    },
    {
     "name": "stdout",
     "output_type": "stream",
     "text": [
      "Progress saved: cleaned_chunk_0, row 578\r"
     ]
    },
    {
     "name": "stderr",
     "output_type": "stream",
     "text": [
      "Processing cleaned_chunk_0:   6%|█▋                            | 580/10000 [01:54<14:38, 10.73row/s]"
     ]
    },
    {
     "name": "stdout",
     "output_type": "stream",
     "text": [
      "Progress saved: cleaned_chunk_0, row 581\r"
     ]
    },
    {
     "name": "stderr",
     "output_type": "stream",
     "text": [
      "Processing cleaned_chunk_0:   6%|█▊                            | 584/10000 [01:54<14:34, 10.77row/s]"
     ]
    },
    {
     "name": "stdout",
     "output_type": "stream",
     "text": [
      "Progress saved: cleaned_chunk_0, row 584\r"
     ]
    },
    {
     "name": "stderr",
     "output_type": "stream",
     "text": [
      "Processing cleaned_chunk_0:   6%|█▊                            | 586/10000 [01:54<14:20, 10.94row/s]"
     ]
    },
    {
     "name": "stdout",
     "output_type": "stream",
     "text": [
      "Progress saved: cleaned_chunk_0, row 587\r"
     ]
    },
    {
     "name": "stderr",
     "output_type": "stream",
     "text": [
      "Processing cleaned_chunk_0:   6%|█▊                            | 588/10000 [01:54<14:35, 10.75row/s]"
     ]
    },
    {
     "name": "stdout",
     "output_type": "stream",
     "text": [
      "Progress saved: cleaned_chunk_0, row 589\r"
     ]
    },
    {
     "name": "stderr",
     "output_type": "stream",
     "text": [
      "Processing cleaned_chunk_0:   6%|█▊                            | 592/10000 [01:55<14:51, 10.55row/s]"
     ]
    },
    {
     "name": "stdout",
     "output_type": "stream",
     "text": [
      "Progress saved: cleaned_chunk_0, row 592\r"
     ]
    },
    {
     "name": "stderr",
     "output_type": "stream",
     "text": [
      "Processing cleaned_chunk_0:   6%|█▊                            | 594/10000 [01:55<14:29, 10.81row/s]"
     ]
    },
    {
     "name": "stdout",
     "output_type": "stream",
     "text": [
      "Progress saved: cleaned_chunk_0, row 595\r"
     ]
    },
    {
     "name": "stderr",
     "output_type": "stream",
     "text": [
      "Processing cleaned_chunk_0:   6%|█▊                            | 596/10000 [01:55<14:43, 10.65row/s]"
     ]
    },
    {
     "name": "stdout",
     "output_type": "stream",
     "text": [
      "Progress saved: cleaned_chunk_0, row 597\r"
     ]
    },
    {
     "name": "stderr",
     "output_type": "stream",
     "text": [
      "Processing cleaned_chunk_0:   6%|█▊                            | 599/10000 [01:56<16:25,  9.54row/s]"
     ]
    },
    {
     "name": "stdout",
     "output_type": "stream",
     "text": [
      "Progress saved: cleaned_chunk_0, row 600\r"
     ]
    },
    {
     "name": "stderr",
     "output_type": "stream",
     "text": [
      "Processing cleaned_chunk_0:   6%|█▊                            | 601/10000 [01:56<15:53,  9.85row/s]"
     ]
    },
    {
     "name": "stdout",
     "output_type": "stream",
     "text": [
      "Progress saved: cleaned_chunk_0, row 601\r"
     ]
    },
    {
     "name": "stderr",
     "output_type": "stream",
     "text": [
      "Processing cleaned_chunk_0:   6%|█▊                            | 603/10000 [01:56<20:22,  7.69row/s]"
     ]
    },
    {
     "name": "stdout",
     "output_type": "stream",
     "text": [
      "Progress saved: cleaned_chunk_0, row 603\r"
     ]
    },
    {
     "name": "stderr",
     "output_type": "stream",
     "text": [
      "Processing cleaned_chunk_0:   6%|█▊                            | 605/10000 [01:56<18:16,  8.57row/s]"
     ]
    },
    {
     "name": "stdout",
     "output_type": "stream",
     "text": [
      "Progress saved: cleaned_chunk_0, row 606\r"
     ]
    },
    {
     "name": "stderr",
     "output_type": "stream",
     "text": [
      "Processing cleaned_chunk_0:   6%|█▊                            | 608/10000 [01:57<17:19,  9.04row/s]"
     ]
    },
    {
     "name": "stdout",
     "output_type": "stream",
     "text": [
      "Progress saved: cleaned_chunk_0, row 609\r"
     ]
    },
    {
     "name": "stderr",
     "output_type": "stream",
     "text": [
      "Processing cleaned_chunk_0:   6%|█▊                            | 610/10000 [01:57<16:25,  9.53row/s]"
     ]
    },
    {
     "name": "stdout",
     "output_type": "stream",
     "text": [
      "Progress saved: cleaned_chunk_0, row 611\r"
     ]
    },
    {
     "name": "stderr",
     "output_type": "stream",
     "text": [
      "Processing cleaned_chunk_0:   6%|█▊                            | 613/10000 [01:57<16:46,  9.32row/s]"
     ]
    },
    {
     "name": "stdout",
     "output_type": "stream",
     "text": [
      "Progress saved: cleaned_chunk_0, row 613\r"
     ]
    },
    {
     "name": "stderr",
     "output_type": "stream",
     "text": [
      "Processing cleaned_chunk_0:   6%|█▊                            | 615/10000 [01:57<16:15,  9.62row/s]"
     ]
    },
    {
     "name": "stdout",
     "output_type": "stream",
     "text": [
      "Progress saved: cleaned_chunk_0, row 616\r"
     ]
    },
    {
     "name": "stderr",
     "output_type": "stream",
     "text": [
      "Processing cleaned_chunk_0:   6%|█▊                            | 617/10000 [01:58<15:36, 10.02row/s]"
     ]
    },
    {
     "name": "stdout",
     "output_type": "stream",
     "text": [
      "Progress saved: cleaned_chunk_0, row 618\r"
     ]
    },
    {
     "name": "stderr",
     "output_type": "stream",
     "text": [
      "Processing cleaned_chunk_0:   6%|█▊                            | 620/10000 [01:58<16:15,  9.61row/s]"
     ]
    },
    {
     "name": "stdout",
     "output_type": "stream",
     "text": [
      "Progress saved: cleaned_chunk_0, row 620\r"
     ]
    },
    {
     "name": "stderr",
     "output_type": "stream",
     "text": [
      "Processing cleaned_chunk_0:   6%|█▊                            | 623/10000 [01:58<15:12, 10.28row/s]"
     ]
    },
    {
     "name": "stdout",
     "output_type": "stream",
     "text": [
      "Progress saved: cleaned_chunk_0, row 623\r"
     ]
    },
    {
     "name": "stderr",
     "output_type": "stream",
     "text": [
      "Processing cleaned_chunk_0:   6%|█▉                            | 625/10000 [01:58<14:48, 10.56row/s]"
     ]
    },
    {
     "name": "stdout",
     "output_type": "stream",
     "text": [
      "Progress saved: cleaned_chunk_0, row 626\r"
     ]
    },
    {
     "name": "stderr",
     "output_type": "stream",
     "text": [
      "Processing cleaned_chunk_0:   6%|█▉                            | 629/10000 [01:59<14:53, 10.49row/s]"
     ]
    },
    {
     "name": "stdout",
     "output_type": "stream",
     "text": [
      "Progress saved: cleaned_chunk_0, row 629\r"
     ]
    },
    {
     "name": "stderr",
     "output_type": "stream",
     "text": [
      "Processing cleaned_chunk_0:   6%|█▉                            | 631/10000 [01:59<14:46, 10.57row/s]"
     ]
    },
    {
     "name": "stdout",
     "output_type": "stream",
     "text": [
      "Progress saved: cleaned_chunk_0, row 632\r"
     ]
    },
    {
     "name": "stderr",
     "output_type": "stream",
     "text": [
      "Processing cleaned_chunk_0:   6%|█▉                            | 633/10000 [01:59<15:11, 10.28row/s]"
     ]
    },
    {
     "name": "stdout",
     "output_type": "stream",
     "text": [
      "Progress saved: cleaned_chunk_0, row 635\r"
     ]
    },
    {
     "name": "stderr",
     "output_type": "stream",
     "text": [
      "Processing cleaned_chunk_0:   6%|█▉                            | 637/10000 [01:59<14:28, 10.78row/s]"
     ]
    },
    {
     "name": "stdout",
     "output_type": "stream",
     "text": [
      "Progress saved: cleaned_chunk_0, row 638\r"
     ]
    },
    {
     "name": "stderr",
     "output_type": "stream",
     "text": [
      "Processing cleaned_chunk_0:   6%|█▉                            | 641/10000 [02:00<14:27, 10.79row/s]"
     ]
    },
    {
     "name": "stdout",
     "output_type": "stream",
     "text": [
      "Progress saved: cleaned_chunk_0, row 641\r"
     ]
    },
    {
     "name": "stderr",
     "output_type": "stream",
     "text": [
      "Processing cleaned_chunk_0:   6%|█▉                            | 643/10000 [02:00<14:41, 10.62row/s]"
     ]
    },
    {
     "name": "stdout",
     "output_type": "stream",
     "text": [
      "Progress saved: cleaned_chunk_0, row 643\r"
     ]
    },
    {
     "name": "stderr",
     "output_type": "stream",
     "text": [
      "Processing cleaned_chunk_0:   6%|█▉                            | 645/10000 [02:00<15:56,  9.78row/s]"
     ]
    },
    {
     "name": "stdout",
     "output_type": "stream",
     "text": [
      "Progress saved: cleaned_chunk_0, row 645\r"
     ]
    },
    {
     "name": "stderr",
     "output_type": "stream",
     "text": [
      "Processing cleaned_chunk_0:   6%|█▉                            | 648/10000 [02:01<18:43,  8.32row/s]"
     ]
    },
    {
     "name": "stdout",
     "output_type": "stream",
     "text": [
      "Progress saved: cleaned_chunk_0, row 648\r"
     ]
    },
    {
     "name": "stderr",
     "output_type": "stream",
     "text": [
      "Processing cleaned_chunk_0:   6%|█▉                            | 650/10000 [02:01<17:27,  8.93row/s]"
     ]
    },
    {
     "name": "stdout",
     "output_type": "stream",
     "text": [
      "Progress saved: cleaned_chunk_0, row 650\r"
     ]
    },
    {
     "name": "stderr",
     "output_type": "stream",
     "text": [
      "Processing cleaned_chunk_0:   7%|█▉                            | 651/10000 [02:01<19:00,  8.20row/s]"
     ]
    },
    {
     "name": "stdout",
     "output_type": "stream",
     "text": [
      "Progress saved: cleaned_chunk_0, row 651\r"
     ]
    },
    {
     "name": "stderr",
     "output_type": "stream",
     "text": [
      "Processing cleaned_chunk_0:   7%|█▉                            | 652/10000 [02:01<23:24,  6.66row/s]"
     ]
    },
    {
     "name": "stdout",
     "output_type": "stream",
     "text": [
      "Progress saved: cleaned_chunk_0, row 652\r"
     ]
    },
    {
     "name": "stderr",
     "output_type": "stream",
     "text": [
      "Processing cleaned_chunk_0:   7%|█▉                            | 653/10000 [02:02<27:37,  5.64row/s]"
     ]
    },
    {
     "name": "stdout",
     "output_type": "stream",
     "text": [
      "Progress saved: cleaned_chunk_0, row 653\r"
     ]
    },
    {
     "name": "stderr",
     "output_type": "stream",
     "text": [
      "Processing cleaned_chunk_0:   7%|█▉                            | 654/10000 [02:02<28:01,  5.56row/s]"
     ]
    },
    {
     "name": "stdout",
     "output_type": "stream",
     "text": [
      "Progress saved: cleaned_chunk_0, row 654\r"
     ]
    },
    {
     "name": "stderr",
     "output_type": "stream",
     "text": [
      "Processing cleaned_chunk_0:   7%|█▉                            | 655/10000 [02:02<30:59,  5.03row/s]"
     ]
    },
    {
     "name": "stdout",
     "output_type": "stream",
     "text": [
      "Progress saved: cleaned_chunk_0, row 655\r"
     ]
    },
    {
     "name": "stderr",
     "output_type": "stream",
     "text": [
      "Processing cleaned_chunk_0:   7%|█▉                            | 656/10000 [02:02<32:19,  4.82row/s]"
     ]
    },
    {
     "name": "stdout",
     "output_type": "stream",
     "text": [
      "Progress saved: cleaned_chunk_0, row 656\r"
     ]
    },
    {
     "name": "stderr",
     "output_type": "stream",
     "text": [
      "Processing cleaned_chunk_0:   7%|█▉                            | 657/10000 [02:03<45:43,  3.41row/s]"
     ]
    },
    {
     "name": "stdout",
     "output_type": "stream",
     "text": [
      "Progress saved: cleaned_chunk_0, row 657\r"
     ]
    },
    {
     "name": "stderr",
     "output_type": "stream",
     "text": [
      "Processing cleaned_chunk_0:   7%|█▉                            | 658/10000 [02:03<49:28,  3.15row/s]"
     ]
    },
    {
     "name": "stdout",
     "output_type": "stream",
     "text": [
      "Progress saved: cleaned_chunk_0, row 658\r"
     ]
    },
    {
     "name": "stderr",
     "output_type": "stream",
     "text": [
      "Processing cleaned_chunk_0:   7%|█▊                          | 659/10000 [02:04<1:01:44,  2.52row/s]"
     ]
    },
    {
     "name": "stdout",
     "output_type": "stream",
     "text": [
      "Progress saved: cleaned_chunk_0, row 659\r"
     ]
    },
    {
     "name": "stderr",
     "output_type": "stream",
     "text": [
      "Processing cleaned_chunk_0:   7%|█▉                            | 660/10000 [02:04<57:40,  2.70row/s]"
     ]
    },
    {
     "name": "stdout",
     "output_type": "stream",
     "text": [
      "Progress saved: cleaned_chunk_0, row 660\r"
     ]
    },
    {
     "name": "stderr",
     "output_type": "stream",
     "text": [
      "Processing cleaned_chunk_0:   7%|█▉                            | 662/10000 [02:05<54:20,  2.86row/s]"
     ]
    },
    {
     "name": "stdout",
     "output_type": "stream",
     "text": [
      "Progress saved: cleaned_chunk_0, row 662\r"
     ]
    },
    {
     "name": "stderr",
     "output_type": "stream",
     "text": [
      "Processing cleaned_chunk_0:   7%|█▉                            | 664/10000 [02:05<40:14,  3.87row/s]"
     ]
    },
    {
     "name": "stdout",
     "output_type": "stream",
     "text": [
      "Progress saved: cleaned_chunk_0, row 664\r"
     ]
    },
    {
     "name": "stderr",
     "output_type": "stream",
     "text": [
      "Processing cleaned_chunk_0:   7%|█▉                            | 666/10000 [02:05<31:52,  4.88row/s]"
     ]
    },
    {
     "name": "stdout",
     "output_type": "stream",
     "text": [
      "Progress saved: cleaned_chunk_0, row 666\r"
     ]
    },
    {
     "name": "stderr",
     "output_type": "stream",
     "text": [
      "Processing cleaned_chunk_0:   7%|██                            | 668/10000 [02:06<26:54,  5.78row/s]"
     ]
    },
    {
     "name": "stdout",
     "output_type": "stream",
     "text": [
      "Progress saved: cleaned_chunk_0, row 668\r"
     ]
    },
    {
     "name": "stderr",
     "output_type": "stream",
     "text": [
      "Processing cleaned_chunk_0:   7%|██                            | 670/10000 [02:06<24:53,  6.25row/s]"
     ]
    },
    {
     "name": "stdout",
     "output_type": "stream",
     "text": [
      "Progress saved: cleaned_chunk_0, row 670\r"
     ]
    },
    {
     "name": "stderr",
     "output_type": "stream",
     "text": [
      "Processing cleaned_chunk_0:   7%|██                            | 671/10000 [02:06<24:39,  6.31row/s]"
     ]
    },
    {
     "name": "stdout",
     "output_type": "stream",
     "text": [
      "Progress saved: cleaned_chunk_0, row 671\r"
     ]
    },
    {
     "name": "stderr",
     "output_type": "stream",
     "text": [
      "Processing cleaned_chunk_0:   7%|██                            | 672/10000 [02:06<27:40,  5.62row/s]"
     ]
    },
    {
     "name": "stdout",
     "output_type": "stream",
     "text": [
      "Progress saved: cleaned_chunk_0, row 672\r"
     ]
    },
    {
     "name": "stderr",
     "output_type": "stream",
     "text": [
      "Processing cleaned_chunk_0:   7%|██                            | 674/10000 [02:07<31:06,  5.00row/s]"
     ]
    },
    {
     "name": "stdout",
     "output_type": "stream",
     "text": [
      "Progress saved: cleaned_chunk_0, row 674\r"
     ]
    },
    {
     "name": "stderr",
     "output_type": "stream",
     "text": [
      "Processing cleaned_chunk_0:   7%|██                            | 676/10000 [02:07<27:59,  5.55row/s]"
     ]
    },
    {
     "name": "stdout",
     "output_type": "stream",
     "text": [
      "Progress saved: cleaned_chunk_0, row 676\r"
     ]
    },
    {
     "name": "stderr",
     "output_type": "stream",
     "text": [
      "Processing cleaned_chunk_0:   7%|██                            | 678/10000 [02:07<23:44,  6.54row/s]"
     ]
    },
    {
     "name": "stdout",
     "output_type": "stream",
     "text": [
      "Progress saved: cleaned_chunk_0, row 678\r"
     ]
    },
    {
     "name": "stderr",
     "output_type": "stream",
     "text": [
      "Processing cleaned_chunk_0:   7%|██                            | 680/10000 [02:08<22:47,  6.81row/s]"
     ]
    },
    {
     "name": "stdout",
     "output_type": "stream",
     "text": [
      "Progress saved: cleaned_chunk_0, row 680\r"
     ]
    },
    {
     "name": "stderr",
     "output_type": "stream",
     "text": [
      "Processing cleaned_chunk_0:   7%|██                            | 682/10000 [02:08<21:11,  7.33row/s]"
     ]
    },
    {
     "name": "stdout",
     "output_type": "stream",
     "text": [
      "Progress saved: cleaned_chunk_0, row 682\r"
     ]
    },
    {
     "name": "stderr",
     "output_type": "stream",
     "text": [
      "Processing cleaned_chunk_0:   7%|██                            | 684/10000 [02:08<22:01,  7.05row/s]"
     ]
    },
    {
     "name": "stdout",
     "output_type": "stream",
     "text": [
      "Progress saved: cleaned_chunk_0, row 684\r"
     ]
    },
    {
     "name": "stderr",
     "output_type": "stream",
     "text": [
      "Processing cleaned_chunk_0:   7%|██                            | 686/10000 [02:09<21:14,  7.31row/s]"
     ]
    },
    {
     "name": "stdout",
     "output_type": "stream",
     "text": [
      "Progress saved: cleaned_chunk_0, row 686\r"
     ]
    },
    {
     "name": "stderr",
     "output_type": "stream",
     "text": [
      "Processing cleaned_chunk_0:   7%|██                            | 688/10000 [02:09<21:37,  7.17row/s]"
     ]
    },
    {
     "name": "stdout",
     "output_type": "stream",
     "text": [
      "Progress saved: cleaned_chunk_0, row 688\r"
     ]
    },
    {
     "name": "stderr",
     "output_type": "stream",
     "text": [
      "Processing cleaned_chunk_0:   7%|██                            | 689/10000 [02:09<22:05,  7.03row/s]"
     ]
    },
    {
     "name": "stdout",
     "output_type": "stream",
     "text": [
      "Progress saved: cleaned_chunk_0, row 690\r"
     ]
    },
    {
     "name": "stderr",
     "output_type": "stream",
     "text": [
      "Processing cleaned_chunk_0:   7%|██                            | 692/10000 [02:10<26:11,  5.92row/s]"
     ]
    },
    {
     "name": "stdout",
     "output_type": "stream",
     "text": [
      "Progress saved: cleaned_chunk_0, row 692\r"
     ]
    },
    {
     "name": "stderr",
     "output_type": "stream",
     "text": [
      "Processing cleaned_chunk_0:   7%|██                            | 694/10000 [02:10<24:32,  6.32row/s]"
     ]
    },
    {
     "name": "stdout",
     "output_type": "stream",
     "text": [
      "Progress saved: cleaned_chunk_0, row 694\r"
     ]
    },
    {
     "name": "stderr",
     "output_type": "stream",
     "text": [
      "Processing cleaned_chunk_0:   7%|██                            | 696/10000 [02:10<24:08,  6.42row/s]"
     ]
    },
    {
     "name": "stdout",
     "output_type": "stream",
     "text": [
      "Progress saved: cleaned_chunk_0, row 696\r"
     ]
    },
    {
     "name": "stderr",
     "output_type": "stream",
     "text": [
      "Processing cleaned_chunk_0:   7%|██                            | 698/10000 [02:10<22:24,  6.92row/s]"
     ]
    },
    {
     "name": "stdout",
     "output_type": "stream",
     "text": [
      "Progress saved: cleaned_chunk_0, row 698\r"
     ]
    },
    {
     "name": "stderr",
     "output_type": "stream",
     "text": [
      "Processing cleaned_chunk_0:   7%|██                            | 700/10000 [02:11<21:36,  7.17row/s]"
     ]
    },
    {
     "name": "stdout",
     "output_type": "stream",
     "text": [
      "Progress saved: cleaned_chunk_0, row 700\r"
     ]
    },
    {
     "name": "stderr",
     "output_type": "stream",
     "text": [
      "Processing cleaned_chunk_0:   7%|██                            | 702/10000 [02:11<20:13,  7.66row/s]"
     ]
    },
    {
     "name": "stdout",
     "output_type": "stream",
     "text": [
      "Progress saved: cleaned_chunk_0, row 702\r"
     ]
    },
    {
     "name": "stderr",
     "output_type": "stream",
     "text": [
      "Processing cleaned_chunk_0:   7%|██                            | 703/10000 [02:11<19:39,  7.88row/s]"
     ]
    },
    {
     "name": "stdout",
     "output_type": "stream",
     "text": [
      "Progress saved: cleaned_chunk_0, row 704\r"
     ]
    },
    {
     "name": "stderr",
     "output_type": "stream",
     "text": [
      "Processing cleaned_chunk_0:   7%|██                            | 705/10000 [02:11<21:02,  7.36row/s]"
     ]
    },
    {
     "name": "stdout",
     "output_type": "stream",
     "text": [
      "Progress saved: cleaned_chunk_0, row 706\r"
     ]
    },
    {
     "name": "stderr",
     "output_type": "stream",
     "text": [
      "Processing cleaned_chunk_0:   7%|██                            | 707/10000 [02:12<20:28,  7.56row/s]"
     ]
    },
    {
     "name": "stdout",
     "output_type": "stream",
     "text": [
      "Progress saved: cleaned_chunk_0, row 708\r"
     ]
    },
    {
     "name": "stderr",
     "output_type": "stream",
     "text": [
      "Processing cleaned_chunk_0:   7%|██▏                           | 709/10000 [02:12<23:22,  6.62row/s]"
     ]
    },
    {
     "name": "stdout",
     "output_type": "stream",
     "text": [
      "Progress saved: cleaned_chunk_0, row 709\r"
     ]
    },
    {
     "name": "stderr",
     "output_type": "stream",
     "text": [
      "Processing cleaned_chunk_0:   7%|██▏                           | 711/10000 [02:12<28:13,  5.49row/s]"
     ]
    },
    {
     "name": "stdout",
     "output_type": "stream",
     "text": [
      "Progress saved: cleaned_chunk_0, row 711\r"
     ]
    },
    {
     "name": "stderr",
     "output_type": "stream",
     "text": [
      "Processing cleaned_chunk_0:   7%|██▏                           | 713/10000 [02:13<25:16,  6.13row/s]"
     ]
    },
    {
     "name": "stdout",
     "output_type": "stream",
     "text": [
      "Progress saved: cleaned_chunk_0, row 713\r"
     ]
    },
    {
     "name": "stderr",
     "output_type": "stream",
     "text": [
      "Processing cleaned_chunk_0:   7%|██▏                           | 715/10000 [02:13<22:47,  6.79row/s]"
     ]
    },
    {
     "name": "stdout",
     "output_type": "stream",
     "text": [
      "Progress saved: cleaned_chunk_0, row 715\r"
     ]
    },
    {
     "name": "stderr",
     "output_type": "stream",
     "text": [
      "Processing cleaned_chunk_0:   7%|██▏                           | 716/10000 [02:13<23:22,  6.62row/s]"
     ]
    },
    {
     "name": "stdout",
     "output_type": "stream",
     "text": [
      "Progress saved: cleaned_chunk_0, row 718\r"
     ]
    },
    {
     "name": "stderr",
     "output_type": "stream",
     "text": [
      "Processing cleaned_chunk_0:   7%|██▏                           | 720/10000 [02:14<20:03,  7.71row/s]"
     ]
    },
    {
     "name": "stdout",
     "output_type": "stream",
     "text": [
      "Progress saved: cleaned_chunk_0, row 720\r"
     ]
    },
    {
     "name": "stderr",
     "output_type": "stream",
     "text": [
      "Processing cleaned_chunk_0:   7%|██▏                           | 722/10000 [02:14<20:56,  7.39row/s]"
     ]
    },
    {
     "name": "stdout",
     "output_type": "stream",
     "text": [
      "Progress saved: cleaned_chunk_0, row 722\r"
     ]
    },
    {
     "name": "stderr",
     "output_type": "stream",
     "text": [
      "Processing cleaned_chunk_0:   7%|██▏                           | 724/10000 [02:14<21:12,  7.29row/s]"
     ]
    },
    {
     "name": "stdout",
     "output_type": "stream",
     "text": [
      "Progress saved: cleaned_chunk_0, row 724\r"
     ]
    },
    {
     "name": "stderr",
     "output_type": "stream",
     "text": [
      "Processing cleaned_chunk_0:   7%|██▏                           | 725/10000 [02:14<21:12,  7.29row/s]"
     ]
    },
    {
     "name": "stdout",
     "output_type": "stream",
     "text": [
      "Progress saved: cleaned_chunk_0, row 725\r"
     ]
    },
    {
     "name": "stderr",
     "output_type": "stream",
     "text": [
      "Processing cleaned_chunk_0:   7%|██▏                           | 727/10000 [02:15<24:20,  6.35row/s]"
     ]
    },
    {
     "name": "stdout",
     "output_type": "stream",
     "text": [
      "Progress saved: cleaned_chunk_0, row 727\r"
     ]
    },
    {
     "name": "stderr",
     "output_type": "stream",
     "text": [
      "Processing cleaned_chunk_0:   7%|██▏                           | 728/10000 [02:15<27:25,  5.64row/s]"
     ]
    },
    {
     "name": "stdout",
     "output_type": "stream",
     "text": [
      "Progress saved: cleaned_chunk_0, row 728\r"
     ]
    },
    {
     "name": "stderr",
     "output_type": "stream",
     "text": [
      "Processing cleaned_chunk_0:   7%|██▏                           | 730/10000 [02:15<27:04,  5.71row/s]"
     ]
    },
    {
     "name": "stdout",
     "output_type": "stream",
     "text": [
      "Progress saved: cleaned_chunk_0, row 730\r"
     ]
    },
    {
     "name": "stderr",
     "output_type": "stream",
     "text": [
      "Processing cleaned_chunk_0:   7%|██▏                           | 732/10000 [02:16<23:55,  6.46row/s]"
     ]
    },
    {
     "name": "stdout",
     "output_type": "stream",
     "text": [
      "Progress saved: cleaned_chunk_0, row 732\r"
     ]
    },
    {
     "name": "stderr",
     "output_type": "stream",
     "text": [
      "Processing cleaned_chunk_0:   7%|██▏                           | 734/10000 [02:16<23:19,  6.62row/s]"
     ]
    },
    {
     "name": "stdout",
     "output_type": "stream",
     "text": [
      "Progress saved: cleaned_chunk_0, row 734\r"
     ]
    },
    {
     "name": "stderr",
     "output_type": "stream",
     "text": [
      "Processing cleaned_chunk_0:   7%|██▏                           | 736/10000 [02:16<22:36,  6.83row/s]"
     ]
    },
    {
     "name": "stdout",
     "output_type": "stream",
     "text": [
      "Progress saved: cleaned_chunk_0, row 736\r"
     ]
    },
    {
     "name": "stderr",
     "output_type": "stream",
     "text": [
      "Processing cleaned_chunk_0:   7%|██▏                           | 738/10000 [02:16<22:00,  7.01row/s]"
     ]
    },
    {
     "name": "stdout",
     "output_type": "stream",
     "text": [
      "Progress saved: cleaned_chunk_0, row 738\r"
     ]
    },
    {
     "name": "stderr",
     "output_type": "stream",
     "text": [
      "Processing cleaned_chunk_0:   7%|██▏                           | 740/10000 [02:17<21:45,  7.09row/s]"
     ]
    },
    {
     "name": "stdout",
     "output_type": "stream",
     "text": [
      "Progress saved: cleaned_chunk_0, row 740\r"
     ]
    },
    {
     "name": "stderr",
     "output_type": "stream",
     "text": [
      "Processing cleaned_chunk_0:   7%|██▏                           | 742/10000 [02:17<22:29,  6.86row/s]"
     ]
    },
    {
     "name": "stdout",
     "output_type": "stream",
     "text": [
      "Progress saved: cleaned_chunk_0, row 742\r"
     ]
    },
    {
     "name": "stderr",
     "output_type": "stream",
     "text": [
      "Processing cleaned_chunk_0:   7%|██▏                           | 744/10000 [02:17<22:56,  6.72row/s]"
     ]
    },
    {
     "name": "stdout",
     "output_type": "stream",
     "text": [
      "Progress saved: cleaned_chunk_0, row 744\r"
     ]
    },
    {
     "name": "stderr",
     "output_type": "stream",
     "text": [
      "Processing cleaned_chunk_0:   7%|██▏                           | 746/10000 [02:18<22:04,  6.98row/s]"
     ]
    },
    {
     "name": "stdout",
     "output_type": "stream",
     "text": [
      "Progress saved: cleaned_chunk_0, row 746\r"
     ]
    },
    {
     "name": "stderr",
     "output_type": "stream",
     "text": [
      "Processing cleaned_chunk_0:   7%|██▏                           | 747/10000 [02:18<27:32,  5.60row/s]"
     ]
    },
    {
     "name": "stdout",
     "output_type": "stream",
     "text": [
      "Progress saved: cleaned_chunk_0, row 747\r"
     ]
    },
    {
     "name": "stderr",
     "output_type": "stream",
     "text": [
      "Processing cleaned_chunk_0:   7%|██▏                           | 749/10000 [02:18<26:07,  5.90row/s]"
     ]
    },
    {
     "name": "stdout",
     "output_type": "stream",
     "text": [
      "Progress saved: cleaned_chunk_0, row 749\r"
     ]
    },
    {
     "name": "stderr",
     "output_type": "stream",
     "text": [
      "Processing cleaned_chunk_0:   8%|██▎                           | 751/10000 [02:18<23:37,  6.53row/s]"
     ]
    },
    {
     "name": "stdout",
     "output_type": "stream",
     "text": [
      "Progress saved: cleaned_chunk_0, row 751\r"
     ]
    },
    {
     "name": "stderr",
     "output_type": "stream",
     "text": [
      "Processing cleaned_chunk_0:   8%|██▎                           | 753/10000 [02:19<22:55,  6.72row/s]"
     ]
    },
    {
     "name": "stdout",
     "output_type": "stream",
     "text": [
      "Progress saved: cleaned_chunk_0, row 753\r"
     ]
    },
    {
     "name": "stderr",
     "output_type": "stream",
     "text": [
      "Processing cleaned_chunk_0:   8%|██▎                           | 755/10000 [02:19<22:08,  6.96row/s]"
     ]
    },
    {
     "name": "stdout",
     "output_type": "stream",
     "text": [
      "Progress saved: cleaned_chunk_0, row 755\r"
     ]
    },
    {
     "name": "stderr",
     "output_type": "stream",
     "text": [
      "Processing cleaned_chunk_0:   8%|██▎                           | 757/10000 [02:19<20:16,  7.59row/s]"
     ]
    },
    {
     "name": "stdout",
     "output_type": "stream",
     "text": [
      "Progress saved: cleaned_chunk_0, row 757\r"
     ]
    },
    {
     "name": "stderr",
     "output_type": "stream",
     "text": [
      "Processing cleaned_chunk_0:   8%|██▎                           | 759/10000 [02:20<22:17,  6.91row/s]"
     ]
    },
    {
     "name": "stdout",
     "output_type": "stream",
     "text": [
      "Progress saved: cleaned_chunk_0, row 759\r"
     ]
    },
    {
     "name": "stderr",
     "output_type": "stream",
     "text": [
      "Processing cleaned_chunk_0:   8%|██▎                           | 761/10000 [02:20<22:15,  6.92row/s]"
     ]
    },
    {
     "name": "stdout",
     "output_type": "stream",
     "text": [
      "Progress saved: cleaned_chunk_0, row 761\r"
     ]
    },
    {
     "name": "stderr",
     "output_type": "stream",
     "text": [
      "Processing cleaned_chunk_0:   8%|██▎                           | 763/10000 [02:20<20:36,  7.47row/s]"
     ]
    },
    {
     "name": "stdout",
     "output_type": "stream",
     "text": [
      "Progress saved: cleaned_chunk_0, row 763\r"
     ]
    },
    {
     "name": "stderr",
     "output_type": "stream",
     "text": [
      "Processing cleaned_chunk_0:   8%|██▎                           | 765/10000 [02:20<21:52,  7.03row/s]"
     ]
    },
    {
     "name": "stdout",
     "output_type": "stream",
     "text": [
      "Progress saved: cleaned_chunk_0, row 765\r"
     ]
    },
    {
     "name": "stderr",
     "output_type": "stream",
     "text": [
      "Processing cleaned_chunk_0:   8%|██▎                           | 767/10000 [02:21<25:39,  6.00row/s]"
     ]
    },
    {
     "name": "stdout",
     "output_type": "stream",
     "text": [
      "Progress saved: cleaned_chunk_0, row 767\r"
     ]
    },
    {
     "name": "stderr",
     "output_type": "stream",
     "text": [
      "Processing cleaned_chunk_0:   8%|██▎                           | 769/10000 [02:21<23:09,  6.64row/s]"
     ]
    },
    {
     "name": "stdout",
     "output_type": "stream",
     "text": [
      "Progress saved: cleaned_chunk_0, row 769\r"
     ]
    },
    {
     "name": "stderr",
     "output_type": "stream",
     "text": [
      "Processing cleaned_chunk_0:   8%|██▎                           | 771/10000 [02:21<25:29,  6.03row/s]"
     ]
    },
    {
     "name": "stdout",
     "output_type": "stream",
     "text": [
      "Progress saved: cleaned_chunk_0, row 771\r"
     ]
    },
    {
     "name": "stderr",
     "output_type": "stream",
     "text": [
      "Processing cleaned_chunk_0:   8%|██▎                           | 773/10000 [02:22<23:37,  6.51row/s]"
     ]
    },
    {
     "name": "stdout",
     "output_type": "stream",
     "text": [
      "Progress saved: cleaned_chunk_0, row 773\r"
     ]
    },
    {
     "name": "stderr",
     "output_type": "stream",
     "text": [
      "Processing cleaned_chunk_0:   8%|██▎                           | 775/10000 [02:22<25:22,  6.06row/s]"
     ]
    },
    {
     "name": "stdout",
     "output_type": "stream",
     "text": [
      "Progress saved: cleaned_chunk_0, row 775\r"
     ]
    },
    {
     "name": "stderr",
     "output_type": "stream",
     "text": [
      "Processing cleaned_chunk_0:   8%|██▎                           | 776/10000 [02:22<25:38,  6.00row/s]"
     ]
    },
    {
     "name": "stdout",
     "output_type": "stream",
     "text": [
      "Progress saved: cleaned_chunk_0, row 777\r"
     ]
    },
    {
     "name": "stderr",
     "output_type": "stream",
     "text": [
      "Processing cleaned_chunk_0:   8%|██▎                           | 779/10000 [02:23<25:26,  6.04row/s]"
     ]
    },
    {
     "name": "stdout",
     "output_type": "stream",
     "text": [
      "Progress saved: cleaned_chunk_0, row 779\r"
     ]
    },
    {
     "name": "stderr",
     "output_type": "stream",
     "text": [
      "Processing cleaned_chunk_0:   8%|██▎                           | 781/10000 [02:23<25:12,  6.09row/s]"
     ]
    },
    {
     "name": "stdout",
     "output_type": "stream",
     "text": [
      "Progress saved: cleaned_chunk_0, row 781\r"
     ]
    },
    {
     "name": "stderr",
     "output_type": "stream",
     "text": [
      "Processing cleaned_chunk_0:   8%|██▎                           | 783/10000 [02:23<25:03,  6.13row/s]"
     ]
    },
    {
     "name": "stdout",
     "output_type": "stream",
     "text": [
      "Progress saved: cleaned_chunk_0, row 783\r"
     ]
    },
    {
     "name": "stderr",
     "output_type": "stream",
     "text": [
      "Processing cleaned_chunk_0:   8%|██▎                           | 784/10000 [02:24<27:52,  5.51row/s]"
     ]
    },
    {
     "name": "stdout",
     "output_type": "stream",
     "text": [
      "Progress saved: cleaned_chunk_0, row 785\r"
     ]
    },
    {
     "name": "stderr",
     "output_type": "stream",
     "text": [
      "Processing cleaned_chunk_0:   8%|██▎                           | 787/10000 [02:24<26:44,  5.74row/s]"
     ]
    },
    {
     "name": "stdout",
     "output_type": "stream",
     "text": [
      "Progress saved: cleaned_chunk_0, row 787\r"
     ]
    },
    {
     "name": "stderr",
     "output_type": "stream",
     "text": [
      "Processing cleaned_chunk_0:   8%|██▎                           | 789/10000 [02:24<25:01,  6.14row/s]"
     ]
    },
    {
     "name": "stdout",
     "output_type": "stream",
     "text": [
      "Progress saved: cleaned_chunk_0, row 789\r"
     ]
    },
    {
     "name": "stderr",
     "output_type": "stream",
     "text": [
      "Processing cleaned_chunk_0:   8%|██▎                           | 791/10000 [02:25<25:56,  5.92row/s]"
     ]
    },
    {
     "name": "stdout",
     "output_type": "stream",
     "text": [
      "Progress saved: cleaned_chunk_0, row 791\r"
     ]
    },
    {
     "name": "stderr",
     "output_type": "stream",
     "text": [
      "Processing cleaned_chunk_0:   8%|██▍                           | 792/10000 [02:25<27:24,  5.60row/s]"
     ]
    },
    {
     "name": "stdout",
     "output_type": "stream",
     "text": [
      "Progress saved: cleaned_chunk_0, row 792\r"
     ]
    },
    {
     "name": "stderr",
     "output_type": "stream",
     "text": [
      "Processing cleaned_chunk_0:   8%|██▍                           | 793/10000 [02:25<34:38,  4.43row/s]"
     ]
    },
    {
     "name": "stdout",
     "output_type": "stream",
     "text": [
      "Progress saved: cleaned_chunk_0, row 794\r"
     ]
    },
    {
     "name": "stderr",
     "output_type": "stream",
     "text": [
      "Processing cleaned_chunk_0:   8%|██▍                           | 795/10000 [02:26<32:56,  4.66row/s]"
     ]
    },
    {
     "name": "stdout",
     "output_type": "stream",
     "text": [
      "Progress saved: cleaned_chunk_0, row 795\r"
     ]
    },
    {
     "name": "stderr",
     "output_type": "stream",
     "text": [
      "Processing cleaned_chunk_0:   8%|██▍                           | 796/10000 [02:26<37:38,  4.08row/s]"
     ]
    },
    {
     "name": "stdout",
     "output_type": "stream",
     "text": [
      "Progress saved: cleaned_chunk_0, row 796\r"
     ]
    },
    {
     "name": "stderr",
     "output_type": "stream",
     "text": [
      "Processing cleaned_chunk_0:   8%|██▍                           | 797/10000 [02:26<40:56,  3.75row/s]"
     ]
    },
    {
     "name": "stdout",
     "output_type": "stream",
     "text": [
      "Progress saved: cleaned_chunk_0, row 797\r"
     ]
    },
    {
     "name": "stderr",
     "output_type": "stream",
     "text": [
      "Processing cleaned_chunk_0:   8%|██▍                           | 798/10000 [02:27<41:43,  3.67row/s]"
     ]
    },
    {
     "name": "stdout",
     "output_type": "stream",
     "text": [
      "Progress saved: cleaned_chunk_0, row 798\r"
     ]
    },
    {
     "name": "stderr",
     "output_type": "stream",
     "text": [
      "Processing cleaned_chunk_0:   8%|██▍                           | 799/10000 [02:27<48:05,  3.19row/s]"
     ]
    },
    {
     "name": "stdout",
     "output_type": "stream",
     "text": [
      "Progress saved: cleaned_chunk_0, row 799\r"
     ]
    },
    {
     "name": "stderr",
     "output_type": "stream",
     "text": [
      "Processing cleaned_chunk_0:   8%|██▍                           | 800/10000 [02:27<48:03,  3.19row/s]"
     ]
    },
    {
     "name": "stdout",
     "output_type": "stream",
     "text": [
      "Progress saved: cleaned_chunk_0, row 800\r"
     ]
    },
    {
     "name": "stderr",
     "output_type": "stream",
     "text": [
      "Processing cleaned_chunk_0:   8%|██▍                           | 801/10000 [02:28<46:13,  3.32row/s]"
     ]
    },
    {
     "name": "stdout",
     "output_type": "stream",
     "text": [
      "Progress saved: cleaned_chunk_0, row 801\r"
     ]
    },
    {
     "name": "stderr",
     "output_type": "stream",
     "text": [
      "Processing cleaned_chunk_0:   8%|██▍                           | 803/10000 [02:28<37:43,  4.06row/s]"
     ]
    },
    {
     "name": "stdout",
     "output_type": "stream",
     "text": [
      "Progress saved: cleaned_chunk_0, row 803\r"
     ]
    },
    {
     "name": "stderr",
     "output_type": "stream",
     "text": [
      "Processing cleaned_chunk_0:   8%|██▍                           | 805/10000 [02:28<30:01,  5.10row/s]"
     ]
    },
    {
     "name": "stdout",
     "output_type": "stream",
     "text": [
      "Progress saved: cleaned_chunk_0, row 805\r"
     ]
    },
    {
     "name": "stderr",
     "output_type": "stream",
     "text": [
      "Processing cleaned_chunk_0:   8%|██▍                           | 807/10000 [02:29<25:46,  5.94row/s]"
     ]
    },
    {
     "name": "stdout",
     "output_type": "stream",
     "text": [
      "Progress saved: cleaned_chunk_0, row 807\r"
     ]
    },
    {
     "name": "stderr",
     "output_type": "stream",
     "text": [
      "Processing cleaned_chunk_0:   8%|██▍                           | 809/10000 [02:29<23:40,  6.47row/s]"
     ]
    },
    {
     "name": "stdout",
     "output_type": "stream",
     "text": [
      "Progress saved: cleaned_chunk_0, row 809\r"
     ]
    },
    {
     "name": "stderr",
     "output_type": "stream",
     "text": [
      "Processing cleaned_chunk_0:   8%|██▍                           | 811/10000 [02:29<22:28,  6.82row/s]"
     ]
    },
    {
     "name": "stdout",
     "output_type": "stream",
     "text": [
      "Progress saved: cleaned_chunk_0, row 811\r"
     ]
    },
    {
     "name": "stderr",
     "output_type": "stream",
     "text": [
      "Processing cleaned_chunk_0:   8%|██▍                           | 813/10000 [02:30<22:28,  6.81row/s]"
     ]
    },
    {
     "name": "stdout",
     "output_type": "stream",
     "text": [
      "Progress saved: cleaned_chunk_0, row 813\r"
     ]
    },
    {
     "name": "stderr",
     "output_type": "stream",
     "text": [
      "Processing cleaned_chunk_0:   8%|██▍                           | 814/10000 [02:30<20:21,  7.52row/s]"
     ]
    },
    {
     "name": "stdout",
     "output_type": "stream",
     "text": [
      "Progress saved: cleaned_chunk_0, row 814\r"
     ]
    },
    {
     "name": "stderr",
     "output_type": "stream",
     "text": [
      "Processing cleaned_chunk_0:   8%|██▍                           | 815/10000 [02:30<27:43,  5.52row/s]"
     ]
    },
    {
     "name": "stdout",
     "output_type": "stream",
     "text": [
      "Progress saved: cleaned_chunk_0, row 815\r"
     ]
    },
    {
     "name": "stderr",
     "output_type": "stream",
     "text": [
      "Processing cleaned_chunk_0:   8%|██▍                           | 817/10000 [02:30<29:28,  5.19row/s]"
     ]
    },
    {
     "name": "stdout",
     "output_type": "stream",
     "text": [
      "Progress saved: cleaned_chunk_0, row 817\r"
     ]
    },
    {
     "name": "stderr",
     "output_type": "stream",
     "text": [
      "Processing cleaned_chunk_0:   8%|██▍                           | 819/10000 [02:31<24:55,  6.14row/s]"
     ]
    },
    {
     "name": "stdout",
     "output_type": "stream",
     "text": [
      "Progress saved: cleaned_chunk_0, row 819\r"
     ]
    },
    {
     "name": "stderr",
     "output_type": "stream",
     "text": [
      "Processing cleaned_chunk_0:   8%|██▍                           | 821/10000 [02:31<22:56,  6.67row/s]"
     ]
    },
    {
     "name": "stdout",
     "output_type": "stream",
     "text": [
      "Progress saved: cleaned_chunk_0, row 821\r"
     ]
    },
    {
     "name": "stderr",
     "output_type": "stream",
     "text": [
      "Processing cleaned_chunk_0:   8%|██▍                           | 823/10000 [02:31<23:13,  6.59row/s]"
     ]
    },
    {
     "name": "stdout",
     "output_type": "stream",
     "text": [
      "Progress saved: cleaned_chunk_0, row 823\r"
     ]
    },
    {
     "name": "stderr",
     "output_type": "stream",
     "text": [
      "Processing cleaned_chunk_0:   8%|██▍                           | 825/10000 [02:31<20:57,  7.29row/s]"
     ]
    },
    {
     "name": "stdout",
     "output_type": "stream",
     "text": [
      "Progress saved: cleaned_chunk_0, row 825\r"
     ]
    },
    {
     "name": "stderr",
     "output_type": "stream",
     "text": [
      "Processing cleaned_chunk_0:   8%|██▍                           | 827/10000 [02:32<21:45,  7.02row/s]"
     ]
    },
    {
     "name": "stdout",
     "output_type": "stream",
     "text": [
      "Progress saved: cleaned_chunk_0, row 827\r"
     ]
    },
    {
     "name": "stderr",
     "output_type": "stream",
     "text": [
      "Processing cleaned_chunk_0:   8%|██▍                           | 829/10000 [02:32<22:08,  6.91row/s]"
     ]
    },
    {
     "name": "stdout",
     "output_type": "stream",
     "text": [
      "Progress saved: cleaned_chunk_0, row 829\r"
     ]
    },
    {
     "name": "stderr",
     "output_type": "stream",
     "text": [
      "Processing cleaned_chunk_0:   8%|██▍                           | 831/10000 [02:32<21:46,  7.02row/s]"
     ]
    },
    {
     "name": "stdout",
     "output_type": "stream",
     "text": [
      "Progress saved: cleaned_chunk_0, row 831\r"
     ]
    },
    {
     "name": "stderr",
     "output_type": "stream",
     "text": [
      "Processing cleaned_chunk_0:   8%|██▍                           | 832/10000 [02:33<25:45,  5.93row/s]"
     ]
    },
    {
     "name": "stdout",
     "output_type": "stream",
     "text": [
      "Progress saved: cleaned_chunk_0, row 832\r"
     ]
    },
    {
     "name": "stderr",
     "output_type": "stream",
     "text": [
      "Processing cleaned_chunk_0:   8%|██▌                           | 834/10000 [02:33<30:07,  5.07row/s]"
     ]
    },
    {
     "name": "stdout",
     "output_type": "stream",
     "text": [
      "Progress saved: cleaned_chunk_0, row 834\r"
     ]
    },
    {
     "name": "stderr",
     "output_type": "stream",
     "text": [
      "Processing cleaned_chunk_0:   8%|██▌                           | 836/10000 [02:33<25:04,  6.09row/s]"
     ]
    },
    {
     "name": "stdout",
     "output_type": "stream",
     "text": [
      "Progress saved: cleaned_chunk_0, row 836\r"
     ]
    },
    {
     "name": "stderr",
     "output_type": "stream",
     "text": [
      "Processing cleaned_chunk_0:   8%|██▌                           | 838/10000 [02:34<23:26,  6.51row/s]"
     ]
    },
    {
     "name": "stdout",
     "output_type": "stream",
     "text": [
      "Progress saved: cleaned_chunk_0, row 838\r"
     ]
    },
    {
     "name": "stderr",
     "output_type": "stream",
     "text": [
      "Processing cleaned_chunk_0:   8%|██▌                           | 840/10000 [02:34<22:27,  6.80row/s]"
     ]
    },
    {
     "name": "stdout",
     "output_type": "stream",
     "text": [
      "Progress saved: cleaned_chunk_0, row 840\r"
     ]
    },
    {
     "name": "stderr",
     "output_type": "stream",
     "text": [
      "Processing cleaned_chunk_0:   8%|██▌                           | 842/10000 [02:34<23:04,  6.61row/s]"
     ]
    },
    {
     "name": "stdout",
     "output_type": "stream",
     "text": [
      "Progress saved: cleaned_chunk_0, row 842\r"
     ]
    },
    {
     "name": "stderr",
     "output_type": "stream",
     "text": [
      "Processing cleaned_chunk_0:   8%|██▌                           | 843/10000 [02:34<26:13,  5.82row/s]"
     ]
    },
    {
     "name": "stdout",
     "output_type": "stream",
     "text": [
      "Progress saved: cleaned_chunk_0, row 844\r"
     ]
    },
    {
     "name": "stderr",
     "output_type": "stream",
     "text": [
      "Processing cleaned_chunk_0:   8%|██▌                           | 846/10000 [02:35<25:01,  6.10row/s]"
     ]
    },
    {
     "name": "stdout",
     "output_type": "stream",
     "text": [
      "Progress saved: cleaned_chunk_0, row 846\r"
     ]
    },
    {
     "name": "stderr",
     "output_type": "stream",
     "text": [
      "Processing cleaned_chunk_0:   8%|██▌                           | 848/10000 [02:35<22:18,  6.84row/s]"
     ]
    },
    {
     "name": "stdout",
     "output_type": "stream",
     "text": [
      "Progress saved: cleaned_chunk_0, row 848\r"
     ]
    },
    {
     "name": "stderr",
     "output_type": "stream",
     "text": [
      "Processing cleaned_chunk_0:   8%|██▌                           | 849/10000 [02:35<25:30,  5.98row/s]"
     ]
    },
    {
     "name": "stdout",
     "output_type": "stream",
     "text": [
      "Progress saved: cleaned_chunk_0, row 849\r"
     ]
    },
    {
     "name": "stderr",
     "output_type": "stream",
     "text": [
      "Processing cleaned_chunk_0:   9%|██▌                           | 851/10000 [02:36<29:34,  5.15row/s]"
     ]
    },
    {
     "name": "stdout",
     "output_type": "stream",
     "text": [
      "Progress saved: cleaned_chunk_0, row 851\r"
     ]
    },
    {
     "name": "stderr",
     "output_type": "stream",
     "text": [
      "Processing cleaned_chunk_0:   9%|██▌                           | 853/10000 [02:36<25:20,  6.01row/s]"
     ]
    },
    {
     "name": "stdout",
     "output_type": "stream",
     "text": [
      "Progress saved: cleaned_chunk_0, row 853\r"
     ]
    },
    {
     "name": "stderr",
     "output_type": "stream",
     "text": [
      "Processing cleaned_chunk_0:   9%|██▌                           | 855/10000 [02:36<23:26,  6.50row/s]"
     ]
    },
    {
     "name": "stdout",
     "output_type": "stream",
     "text": [
      "Progress saved: cleaned_chunk_0, row 855\r"
     ]
    },
    {
     "name": "stderr",
     "output_type": "stream",
     "text": [
      "Processing cleaned_chunk_0:   9%|██▌                           | 857/10000 [02:37<21:33,  7.07row/s]"
     ]
    },
    {
     "name": "stdout",
     "output_type": "stream",
     "text": [
      "Progress saved: cleaned_chunk_0, row 857\r"
     ]
    },
    {
     "name": "stderr",
     "output_type": "stream",
     "text": [
      "Processing cleaned_chunk_0:   9%|██▌                           | 859/10000 [02:37<21:33,  7.07row/s]"
     ]
    },
    {
     "name": "stdout",
     "output_type": "stream",
     "text": [
      "Progress saved: cleaned_chunk_0, row 859\r"
     ]
    },
    {
     "name": "stderr",
     "output_type": "stream",
     "text": [
      "Processing cleaned_chunk_0:   9%|██▌                           | 861/10000 [02:37<23:49,  6.39row/s]"
     ]
    },
    {
     "name": "stdout",
     "output_type": "stream",
     "text": [
      "Progress saved: cleaned_chunk_0, row 861\r"
     ]
    },
    {
     "name": "stderr",
     "output_type": "stream",
     "text": [
      "Processing cleaned_chunk_0:   9%|██▌                           | 863/10000 [02:38<24:00,  6.34row/s]"
     ]
    },
    {
     "name": "stdout",
     "output_type": "stream",
     "text": [
      "Progress saved: cleaned_chunk_0, row 863\r"
     ]
    },
    {
     "name": "stderr",
     "output_type": "stream",
     "text": [
      "Processing cleaned_chunk_0:   9%|██▌                           | 865/10000 [02:38<21:34,  7.05row/s]"
     ]
    },
    {
     "name": "stdout",
     "output_type": "stream",
     "text": [
      "Progress saved: cleaned_chunk_0, row 865\r"
     ]
    },
    {
     "name": "stderr",
     "output_type": "stream",
     "text": [
      "Processing cleaned_chunk_0:   9%|██▌                           | 866/10000 [02:38<21:55,  6.94row/s]"
     ]
    },
    {
     "name": "stdout",
     "output_type": "stream",
     "text": [
      "Progress saved: cleaned_chunk_0, row 866\r"
     ]
    },
    {
     "name": "stderr",
     "output_type": "stream",
     "text": [
      "Processing cleaned_chunk_0:   9%|██▌                           | 867/10000 [02:38<26:44,  5.69row/s]"
     ]
    },
    {
     "name": "stdout",
     "output_type": "stream",
     "text": [
      "Progress saved: cleaned_chunk_0, row 867\r"
     ]
    },
    {
     "name": "stderr",
     "output_type": "stream",
     "text": [
      "Processing cleaned_chunk_0:   9%|██▌                           | 869/10000 [02:39<30:32,  4.98row/s]"
     ]
    },
    {
     "name": "stdout",
     "output_type": "stream",
     "text": [
      "Progress saved: cleaned_chunk_0, row 869\r"
     ]
    },
    {
     "name": "stderr",
     "output_type": "stream",
     "text": [
      "Processing cleaned_chunk_0:   9%|██▌                           | 871/10000 [02:39<26:24,  5.76row/s]"
     ]
    },
    {
     "name": "stdout",
     "output_type": "stream",
     "text": [
      "Progress saved: cleaned_chunk_0, row 871\r"
     ]
    },
    {
     "name": "stderr",
     "output_type": "stream",
     "text": [
      "Processing cleaned_chunk_0:   9%|██▌                           | 873/10000 [02:39<22:20,  6.81row/s]"
     ]
    },
    {
     "name": "stdout",
     "output_type": "stream",
     "text": [
      "Progress saved: cleaned_chunk_0, row 874\r"
     ]
    },
    {
     "name": "stderr",
     "output_type": "stream",
     "text": [
      "Processing cleaned_chunk_0:   9%|██▋                           | 876/10000 [02:40<21:12,  7.17row/s]"
     ]
    },
    {
     "name": "stdout",
     "output_type": "stream",
     "text": [
      "Progress saved: cleaned_chunk_0, row 876\r"
     ]
    },
    {
     "name": "stderr",
     "output_type": "stream",
     "text": [
      "Processing cleaned_chunk_0:   9%|██▋                           | 877/10000 [02:40<23:11,  6.56row/s]"
     ]
    },
    {
     "name": "stdout",
     "output_type": "stream",
     "text": [
      "Progress saved: cleaned_chunk_0, row 878\r"
     ]
    },
    {
     "name": "stderr",
     "output_type": "stream",
     "text": [
      "Processing cleaned_chunk_0:   9%|██▋                           | 880/10000 [02:40<25:25,  5.98row/s]"
     ]
    },
    {
     "name": "stdout",
     "output_type": "stream",
     "text": [
      "Progress saved: cleaned_chunk_0, row 880\r"
     ]
    },
    {
     "name": "stderr",
     "output_type": "stream",
     "text": [
      "Processing cleaned_chunk_0:   9%|██▋                           | 882/10000 [02:41<25:17,  6.01row/s]"
     ]
    },
    {
     "name": "stdout",
     "output_type": "stream",
     "text": [
      "Progress saved: cleaned_chunk_0, row 882\r"
     ]
    },
    {
     "name": "stderr",
     "output_type": "stream",
     "text": [
      "Processing cleaned_chunk_0:   9%|██▋                           | 883/10000 [02:41<28:11,  5.39row/s]"
     ]
    },
    {
     "name": "stdout",
     "output_type": "stream",
     "text": [
      "Progress saved: cleaned_chunk_0, row 884\r"
     ]
    },
    {
     "name": "stderr",
     "output_type": "stream",
     "text": [
      "Processing cleaned_chunk_0:   9%|██▋                           | 886/10000 [02:42<32:13,  4.71row/s]"
     ]
    },
    {
     "name": "stdout",
     "output_type": "stream",
     "text": [
      "Progress saved: cleaned_chunk_0, row 886\r"
     ]
    },
    {
     "name": "stderr",
     "output_type": "stream",
     "text": [
      "Processing cleaned_chunk_0:   9%|██▋                           | 888/10000 [02:42<26:45,  5.67row/s]"
     ]
    },
    {
     "name": "stdout",
     "output_type": "stream",
     "text": [
      "Progress saved: cleaned_chunk_0, row 888\r"
     ]
    },
    {
     "name": "stderr",
     "output_type": "stream",
     "text": [
      "Processing cleaned_chunk_0:   9%|██▋                           | 890/10000 [02:42<23:03,  6.58row/s]"
     ]
    },
    {
     "name": "stdout",
     "output_type": "stream",
     "text": [
      "Progress saved: cleaned_chunk_0, row 890\r"
     ]
    },
    {
     "name": "stderr",
     "output_type": "stream",
     "text": [
      "Processing cleaned_chunk_0:   9%|██▋                           | 891/10000 [02:42<21:37,  7.02row/s]"
     ]
    },
    {
     "name": "stdout",
     "output_type": "stream",
     "text": [
      "Progress saved: cleaned_chunk_0, row 892\r"
     ]
    },
    {
     "name": "stderr",
     "output_type": "stream",
     "text": [
      "Processing cleaned_chunk_0:   9%|██▋                           | 894/10000 [02:43<19:44,  7.69row/s]"
     ]
    },
    {
     "name": "stdout",
     "output_type": "stream",
     "text": [
      "Progress saved: cleaned_chunk_0, row 894\r"
     ]
    },
    {
     "name": "stderr",
     "output_type": "stream",
     "text": [
      "Processing cleaned_chunk_0:   9%|██▋                           | 896/10000 [02:43<19:48,  7.66row/s]"
     ]
    },
    {
     "name": "stdout",
     "output_type": "stream",
     "text": [
      "Progress saved: cleaned_chunk_0, row 896\r"
     ]
    },
    {
     "name": "stderr",
     "output_type": "stream",
     "text": [
      "Processing cleaned_chunk_0:   9%|██▋                           | 898/10000 [02:43<18:25,  8.23row/s]"
     ]
    },
    {
     "name": "stdout",
     "output_type": "stream",
     "text": [
      "Progress saved: cleaned_chunk_0, row 898\r"
     ]
    },
    {
     "name": "stderr",
     "output_type": "stream",
     "text": [
      "Processing cleaned_chunk_0:   9%|██▋                           | 900/10000 [02:44<19:50,  7.65row/s]"
     ]
    },
    {
     "name": "stdout",
     "output_type": "stream",
     "text": [
      "Progress saved: cleaned_chunk_0, row 900\r"
     ]
    },
    {
     "name": "stderr",
     "output_type": "stream",
     "text": [
      "Processing cleaned_chunk_0:   9%|██▋                           | 902/10000 [02:44<22:07,  6.86row/s]"
     ]
    },
    {
     "name": "stdout",
     "output_type": "stream",
     "text": [
      "Progress saved: cleaned_chunk_0, row 902\r"
     ]
    },
    {
     "name": "stderr",
     "output_type": "stream",
     "text": [
      "Processing cleaned_chunk_0:   9%|██▋                           | 903/10000 [02:44<27:09,  5.58row/s]"
     ]
    },
    {
     "name": "stdout",
     "output_type": "stream",
     "text": [
      "Progress saved: cleaned_chunk_0, row 903\r"
     ]
    },
    {
     "name": "stderr",
     "output_type": "stream",
     "text": [
      "Processing cleaned_chunk_0:   9%|██▋                           | 905/10000 [02:44<26:08,  5.80row/s]"
     ]
    },
    {
     "name": "stdout",
     "output_type": "stream",
     "text": [
      "Progress saved: cleaned_chunk_0, row 905\r"
     ]
    },
    {
     "name": "stderr",
     "output_type": "stream",
     "text": [
      "Processing cleaned_chunk_0:   9%|██▋                           | 907/10000 [02:45<23:59,  6.32row/s]"
     ]
    },
    {
     "name": "stdout",
     "output_type": "stream",
     "text": [
      "Progress saved: cleaned_chunk_0, row 907\r"
     ]
    },
    {
     "name": "stderr",
     "output_type": "stream",
     "text": [
      "Processing cleaned_chunk_0:   9%|██▋                           | 909/10000 [02:45<22:24,  6.76row/s]"
     ]
    },
    {
     "name": "stdout",
     "output_type": "stream",
     "text": [
      "Progress saved: cleaned_chunk_0, row 910\r"
     ]
    },
    {
     "name": "stderr",
     "output_type": "stream",
     "text": [
      "Processing cleaned_chunk_0:   9%|██▋                           | 912/10000 [02:45<19:35,  7.73row/s]"
     ]
    },
    {
     "name": "stdout",
     "output_type": "stream",
     "text": [
      "Progress saved: cleaned_chunk_0, row 912\r"
     ]
    },
    {
     "name": "stderr",
     "output_type": "stream",
     "text": [
      "Processing cleaned_chunk_0:   9%|██▋                           | 914/10000 [02:46<20:46,  7.29row/s]"
     ]
    },
    {
     "name": "stdout",
     "output_type": "stream",
     "text": [
      "Progress saved: cleaned_chunk_0, row 914\r"
     ]
    },
    {
     "name": "stderr",
     "output_type": "stream",
     "text": [
      "Processing cleaned_chunk_0:   9%|██▋                           | 916/10000 [02:46<21:19,  7.10row/s]"
     ]
    },
    {
     "name": "stdout",
     "output_type": "stream",
     "text": [
      "Progress saved: cleaned_chunk_0, row 916\r"
     ]
    },
    {
     "name": "stderr",
     "output_type": "stream",
     "text": [
      "Processing cleaned_chunk_0:   9%|██▊                           | 918/10000 [02:46<20:17,  7.46row/s]"
     ]
    },
    {
     "name": "stdout",
     "output_type": "stream",
     "text": [
      "Progress saved: cleaned_chunk_0, row 918\r"
     ]
    },
    {
     "name": "stderr",
     "output_type": "stream",
     "text": [
      "Processing cleaned_chunk_0:   9%|██▊                           | 920/10000 [02:47<21:02,  7.19row/s]"
     ]
    },
    {
     "name": "stdout",
     "output_type": "stream",
     "text": [
      "Progress saved: cleaned_chunk_0, row 920\r"
     ]
    },
    {
     "name": "stderr",
     "output_type": "stream",
     "text": [
      "Processing cleaned_chunk_0:   9%|██▊                           | 921/10000 [02:47<20:39,  7.32row/s]"
     ]
    },
    {
     "name": "stdout",
     "output_type": "stream",
     "text": [
      "Progress saved: cleaned_chunk_0, row 921\r"
     ]
    },
    {
     "name": "stderr",
     "output_type": "stream",
     "text": [
      "Processing cleaned_chunk_0:   9%|██▊                           | 923/10000 [02:47<28:13,  5.36row/s]"
     ]
    },
    {
     "name": "stdout",
     "output_type": "stream",
     "text": [
      "Progress saved: cleaned_chunk_0, row 923\r"
     ]
    },
    {
     "name": "stderr",
     "output_type": "stream",
     "text": [
      "Processing cleaned_chunk_0:   9%|██▊                           | 925/10000 [02:47<24:30,  6.17row/s]"
     ]
    },
    {
     "name": "stdout",
     "output_type": "stream",
     "text": [
      "Progress saved: cleaned_chunk_0, row 925\r"
     ]
    },
    {
     "name": "stderr",
     "output_type": "stream",
     "text": [
      "Processing cleaned_chunk_0:   9%|██▊                           | 927/10000 [02:48<20:28,  7.39row/s]"
     ]
    },
    {
     "name": "stdout",
     "output_type": "stream",
     "text": [
      "Progress saved: cleaned_chunk_0, row 927\r"
     ]
    },
    {
     "name": "stderr",
     "output_type": "stream",
     "text": [
      "Processing cleaned_chunk_0:   9%|██▊                           | 929/10000 [02:48<20:46,  7.28row/s]"
     ]
    },
    {
     "name": "stdout",
     "output_type": "stream",
     "text": [
      "Progress saved: cleaned_chunk_0, row 929\r"
     ]
    },
    {
     "name": "stderr",
     "output_type": "stream",
     "text": [
      "Processing cleaned_chunk_0:   9%|██▊                           | 931/10000 [02:48<21:11,  7.13row/s]"
     ]
    },
    {
     "name": "stdout",
     "output_type": "stream",
     "text": [
      "Progress saved: cleaned_chunk_0, row 931\r"
     ]
    },
    {
     "name": "stderr",
     "output_type": "stream",
     "text": [
      "Processing cleaned_chunk_0:   9%|██▊                           | 933/10000 [02:48<19:45,  7.65row/s]"
     ]
    },
    {
     "name": "stdout",
     "output_type": "stream",
     "text": [
      "Progress saved: cleaned_chunk_0, row 933\r"
     ]
    },
    {
     "name": "stderr",
     "output_type": "stream",
     "text": [
      "Processing cleaned_chunk_0:   9%|██▊                           | 934/10000 [02:49<18:41,  8.08row/s]"
     ]
    },
    {
     "name": "stdout",
     "output_type": "stream",
     "text": [
      "Progress saved: cleaned_chunk_0, row 935\r"
     ]
    },
    {
     "name": "stderr",
     "output_type": "stream",
     "text": [
      "Processing cleaned_chunk_0:   9%|██▊                           | 937/10000 [02:49<23:00,  6.56row/s]"
     ]
    },
    {
     "name": "stdout",
     "output_type": "stream",
     "text": [
      "Progress saved: cleaned_chunk_0, row 937\r"
     ]
    },
    {
     "name": "stderr",
     "output_type": "stream",
     "text": [
      "Processing cleaned_chunk_0:   9%|██▊                           | 938/10000 [02:49<21:01,  7.19row/s]"
     ]
    },
    {
     "name": "stdout",
     "output_type": "stream",
     "text": [
      "Progress saved: cleaned_chunk_0, row 938\r"
     ]
    },
    {
     "name": "stderr",
     "output_type": "stream",
     "text": [
      "Processing cleaned_chunk_0:   9%|██▊                           | 940/10000 [02:50<24:42,  6.11row/s]"
     ]
    },
    {
     "name": "stdout",
     "output_type": "stream",
     "text": [
      "Progress saved: cleaned_chunk_0, row 940\r"
     ]
    },
    {
     "name": "stderr",
     "output_type": "stream",
     "text": [
      "Processing cleaned_chunk_0:   9%|██▊                           | 942/10000 [02:50<21:56,  6.88row/s]"
     ]
    },
    {
     "name": "stdout",
     "output_type": "stream",
     "text": [
      "Progress saved: cleaned_chunk_0, row 942\r"
     ]
    },
    {
     "name": "stderr",
     "output_type": "stream",
     "text": [
      "Processing cleaned_chunk_0:   9%|██▊                           | 944/10000 [02:50<20:37,  7.32row/s]"
     ]
    },
    {
     "name": "stdout",
     "output_type": "stream",
     "text": [
      "Progress saved: cleaned_chunk_0, row 944\r"
     ]
    },
    {
     "name": "stderr",
     "output_type": "stream",
     "text": [
      "Processing cleaned_chunk_0:   9%|██▊                           | 946/10000 [02:50<21:55,  6.88row/s]"
     ]
    },
    {
     "name": "stdout",
     "output_type": "stream",
     "text": [
      "Progress saved: cleaned_chunk_0, row 946\r"
     ]
    },
    {
     "name": "stderr",
     "output_type": "stream",
     "text": [
      "Processing cleaned_chunk_0:   9%|██▊                           | 948/10000 [02:51<22:13,  6.79row/s]"
     ]
    },
    {
     "name": "stdout",
     "output_type": "stream",
     "text": [
      "Progress saved: cleaned_chunk_0, row 948\r"
     ]
    },
    {
     "name": "stderr",
     "output_type": "stream",
     "text": [
      "Processing cleaned_chunk_0:  10%|██▊                           | 950/10000 [02:51<23:33,  6.40row/s]"
     ]
    },
    {
     "name": "stdout",
     "output_type": "stream",
     "text": [
      "Progress saved: cleaned_chunk_0, row 950\r"
     ]
    },
    {
     "name": "stderr",
     "output_type": "stream",
     "text": [
      "Processing cleaned_chunk_0:  10%|██▊                           | 952/10000 [02:51<23:43,  6.36row/s]"
     ]
    },
    {
     "name": "stdout",
     "output_type": "stream",
     "text": [
      "Progress saved: cleaned_chunk_0, row 952\r"
     ]
    },
    {
     "name": "stderr",
     "output_type": "stream",
     "text": [
      "Processing cleaned_chunk_0:  10%|██▊                           | 954/10000 [02:52<23:07,  6.52row/s]"
     ]
    },
    {
     "name": "stdout",
     "output_type": "stream",
     "text": [
      "Progress saved: cleaned_chunk_0, row 954\r"
     ]
    },
    {
     "name": "stderr",
     "output_type": "stream",
     "text": [
      "Processing cleaned_chunk_0:  10%|██▊                           | 955/10000 [02:52<23:02,  6.54row/s]"
     ]
    },
    {
     "name": "stdout",
     "output_type": "stream",
     "text": [
      "Progress saved: cleaned_chunk_0, row 955\r"
     ]
    },
    {
     "name": "stderr",
     "output_type": "stream",
     "text": [
      "Processing cleaned_chunk_0:  10%|██▊                           | 956/10000 [02:52<26:44,  5.64row/s]"
     ]
    },
    {
     "name": "stdout",
     "output_type": "stream",
     "text": [
      "Progress saved: cleaned_chunk_0, row 956\r"
     ]
    },
    {
     "name": "stderr",
     "output_type": "stream",
     "text": [
      "Processing cleaned_chunk_0:  10%|██▊                           | 958/10000 [02:52<27:39,  5.45row/s]"
     ]
    },
    {
     "name": "stdout",
     "output_type": "stream",
     "text": [
      "Progress saved: cleaned_chunk_0, row 958\r"
     ]
    },
    {
     "name": "stderr",
     "output_type": "stream",
     "text": [
      "Processing cleaned_chunk_0:  10%|██▉                           | 959/10000 [02:53<25:38,  5.88row/s]"
     ]
    },
    {
     "name": "stdout",
     "output_type": "stream",
     "text": [
      "Progress saved: cleaned_chunk_0, row 960\r"
     ]
    },
    {
     "name": "stderr",
     "output_type": "stream",
     "text": [
      "Processing cleaned_chunk_0:  10%|██▉                           | 962/10000 [02:53<23:02,  6.54row/s]"
     ]
    },
    {
     "name": "stdout",
     "output_type": "stream",
     "text": [
      "Progress saved: cleaned_chunk_0, row 962\r"
     ]
    },
    {
     "name": "stderr",
     "output_type": "stream",
     "text": [
      "Processing cleaned_chunk_0:  10%|██▉                           | 963/10000 [02:53<21:28,  7.01row/s]"
     ]
    },
    {
     "name": "stdout",
     "output_type": "stream",
     "text": [
      "Progress saved: cleaned_chunk_0, row 964\r"
     ]
    },
    {
     "name": "stderr",
     "output_type": "stream",
     "text": [
      "Processing cleaned_chunk_0:  10%|██▉                           | 966/10000 [02:54<19:34,  7.69row/s]"
     ]
    },
    {
     "name": "stdout",
     "output_type": "stream",
     "text": [
      "Progress saved: cleaned_chunk_0, row 966\r"
     ]
    },
    {
     "name": "stderr",
     "output_type": "stream",
     "text": [
      "Processing cleaned_chunk_0:  10%|██▉                           | 967/10000 [02:54<19:27,  7.73row/s]"
     ]
    },
    {
     "name": "stdout",
     "output_type": "stream",
     "text": [
      "Progress saved: cleaned_chunk_0, row 968\r"
     ]
    },
    {
     "name": "stderr",
     "output_type": "stream",
     "text": [
      "Processing cleaned_chunk_0:  10%|██▉                           | 970/10000 [02:54<22:09,  6.79row/s]"
     ]
    },
    {
     "name": "stdout",
     "output_type": "stream",
     "text": [
      "Progress saved: cleaned_chunk_0, row 970\r"
     ]
    },
    {
     "name": "stderr",
     "output_type": "stream",
     "text": [
      "Processing cleaned_chunk_0:  10%|██▉                           | 972/10000 [02:54<20:10,  7.46row/s]"
     ]
    },
    {
     "name": "stdout",
     "output_type": "stream",
     "text": [
      "Progress saved: cleaned_chunk_0, row 972\r"
     ]
    },
    {
     "name": "stderr",
     "output_type": "stream",
     "text": [
      "Processing cleaned_chunk_0:  10%|██▉                           | 974/10000 [02:55<19:31,  7.70row/s]"
     ]
    },
    {
     "name": "stdout",
     "output_type": "stream",
     "text": [
      "Progress saved: cleaned_chunk_0, row 974\r"
     ]
    },
    {
     "name": "stderr",
     "output_type": "stream",
     "text": [
      "Processing cleaned_chunk_0:  10%|██▉                           | 975/10000 [02:55<24:23,  6.17row/s]"
     ]
    },
    {
     "name": "stdout",
     "output_type": "stream",
     "text": [
      "Progress saved: cleaned_chunk_0, row 975\r"
     ]
    },
    {
     "name": "stderr",
     "output_type": "stream",
     "text": [
      "Processing cleaned_chunk_0:  10%|██▉                           | 977/10000 [02:55<25:16,  5.95row/s]"
     ]
    },
    {
     "name": "stdout",
     "output_type": "stream",
     "text": [
      "Progress saved: cleaned_chunk_0, row 977\r"
     ]
    },
    {
     "name": "stderr",
     "output_type": "stream",
     "text": [
      "Processing cleaned_chunk_0:  10%|██▉                           | 979/10000 [02:56<22:27,  6.69row/s]"
     ]
    },
    {
     "name": "stdout",
     "output_type": "stream",
     "text": [
      "Progress saved: cleaned_chunk_0, row 979\r"
     ]
    },
    {
     "name": "stderr",
     "output_type": "stream",
     "text": [
      "Processing cleaned_chunk_0:  10%|██▉                           | 981/10000 [02:56<22:20,  6.73row/s]"
     ]
    },
    {
     "name": "stdout",
     "output_type": "stream",
     "text": [
      "Progress saved: cleaned_chunk_0, row 981\r"
     ]
    },
    {
     "name": "stderr",
     "output_type": "stream",
     "text": [
      "Processing cleaned_chunk_0:  10%|██▉                           | 983/10000 [02:56<22:27,  6.69row/s]"
     ]
    },
    {
     "name": "stdout",
     "output_type": "stream",
     "text": [
      "Progress saved: cleaned_chunk_0, row 983\r"
     ]
    },
    {
     "name": "stderr",
     "output_type": "stream",
     "text": [
      "Processing cleaned_chunk_0:  10%|██▉                           | 985/10000 [02:56<23:14,  6.47row/s]"
     ]
    },
    {
     "name": "stdout",
     "output_type": "stream",
     "text": [
      "Progress saved: cleaned_chunk_0, row 985\r"
     ]
    },
    {
     "name": "stderr",
     "output_type": "stream",
     "text": [
      "Processing cleaned_chunk_0:  10%|██▉                           | 987/10000 [02:57<22:24,  6.71row/s]"
     ]
    },
    {
     "name": "stdout",
     "output_type": "stream",
     "text": [
      "Progress saved: cleaned_chunk_0, row 987\r"
     ]
    },
    {
     "name": "stderr",
     "output_type": "stream",
     "text": [
      "Processing cleaned_chunk_0:  10%|██▉                           | 989/10000 [02:57<21:58,  6.83row/s]"
     ]
    },
    {
     "name": "stdout",
     "output_type": "stream",
     "text": [
      "Progress saved: cleaned_chunk_0, row 989\r"
     ]
    },
    {
     "name": "stderr",
     "output_type": "stream",
     "text": [
      "Processing cleaned_chunk_0:  10%|██▉                           | 991/10000 [02:57<22:26,  6.69row/s]"
     ]
    },
    {
     "name": "stdout",
     "output_type": "stream",
     "text": [
      "Progress saved: cleaned_chunk_0, row 991\r"
     ]
    },
    {
     "name": "stderr",
     "output_type": "stream",
     "text": [
      "Processing cleaned_chunk_0:  10%|██▉                           | 992/10000 [02:58<22:11,  6.77row/s]"
     ]
    },
    {
     "name": "stdout",
     "output_type": "stream",
     "text": [
      "Progress saved: cleaned_chunk_0, row 992\r"
     ]
    },
    {
     "name": "stderr",
     "output_type": "stream",
     "text": [
      "Processing cleaned_chunk_0:  10%|██▉                           | 994/10000 [02:58<27:52,  5.38row/s]"
     ]
    },
    {
     "name": "stdout",
     "output_type": "stream",
     "text": [
      "Progress saved: cleaned_chunk_0, row 994\r"
     ]
    },
    {
     "name": "stderr",
     "output_type": "stream",
     "text": [
      "Processing cleaned_chunk_0:  10%|██▉                           | 996/10000 [02:58<25:13,  5.95row/s]"
     ]
    },
    {
     "name": "stdout",
     "output_type": "stream",
     "text": [
      "Progress saved: cleaned_chunk_0, row 996\r"
     ]
    },
    {
     "name": "stderr",
     "output_type": "stream",
     "text": [
      "Processing cleaned_chunk_0:  10%|██▉                           | 998/10000 [02:59<22:52,  6.56row/s]"
     ]
    },
    {
     "name": "stdout",
     "output_type": "stream",
     "text": [
      "Progress saved: cleaned_chunk_0, row 998\r"
     ]
    },
    {
     "name": "stderr",
     "output_type": "stream",
     "text": [
      "Processing cleaned_chunk_0:  10%|██▉                           | 999/10000 [02:59<21:49,  6.88row/s]"
     ]
    },
    {
     "name": "stdout",
     "output_type": "stream",
     "text": [
      "Progress saved: cleaned_chunk_0, row 1000\r"
     ]
    },
    {
     "name": "stderr",
     "output_type": "stream",
     "text": [
      "Processing cleaned_chunk_0:  10%|██▉                          | 1002/10000 [02:59<22:10,  6.76row/s]"
     ]
    },
    {
     "name": "stdout",
     "output_type": "stream",
     "text": [
      "Progress saved: cleaned_chunk_0, row 1002\r"
     ]
    },
    {
     "name": "stderr",
     "output_type": "stream",
     "text": [
      "Processing cleaned_chunk_0:  10%|██▉                          | 1004/10000 [02:59<21:51,  6.86row/s]"
     ]
    },
    {
     "name": "stdout",
     "output_type": "stream",
     "text": [
      "Progress saved: cleaned_chunk_0, row 1004\r"
     ]
    },
    {
     "name": "stderr",
     "output_type": "stream",
     "text": [
      "Processing cleaned_chunk_0:  10%|██▉                          | 1006/10000 [03:00<21:17,  7.04row/s]"
     ]
    },
    {
     "name": "stdout",
     "output_type": "stream",
     "text": [
      "Progress saved: cleaned_chunk_0, row 1006\r"
     ]
    },
    {
     "name": "stderr",
     "output_type": "stream",
     "text": [
      "Processing cleaned_chunk_0:  10%|██▉                          | 1008/10000 [03:00<21:29,  6.97row/s]"
     ]
    },
    {
     "name": "stdout",
     "output_type": "stream",
     "text": [
      "Progress saved: cleaned_chunk_0, row 1008\r"
     ]
    },
    {
     "name": "stderr",
     "output_type": "stream",
     "text": [
      "Processing cleaned_chunk_0:  10%|██▉                          | 1009/10000 [03:00<20:33,  7.29row/s]"
     ]
    },
    {
     "name": "stdout",
     "output_type": "stream",
     "text": [
      "Progress saved: cleaned_chunk_0, row 1009\r"
     ]
    },
    {
     "name": "stderr",
     "output_type": "stream",
     "text": [
      "Processing cleaned_chunk_0:  10%|██▉                          | 1010/10000 [03:00<26:03,  5.75row/s]"
     ]
    },
    {
     "name": "stdout",
     "output_type": "stream",
     "text": [
      "Progress saved: cleaned_chunk_0, row 1010\r"
     ]
    },
    {
     "name": "stderr",
     "output_type": "stream",
     "text": [
      "Processing cleaned_chunk_0:  10%|██▉                          | 1012/10000 [03:01<28:06,  5.33row/s]"
     ]
    },
    {
     "name": "stdout",
     "output_type": "stream",
     "text": [
      "Progress saved: cleaned_chunk_0, row 1012\r"
     ]
    },
    {
     "name": "stderr",
     "output_type": "stream",
     "text": [
      "Processing cleaned_chunk_0:  10%|██▉                          | 1014/10000 [03:01<27:33,  5.43row/s]"
     ]
    },
    {
     "name": "stdout",
     "output_type": "stream",
     "text": [
      "Progress saved: cleaned_chunk_0, row 1014\r"
     ]
    },
    {
     "name": "stderr",
     "output_type": "stream",
     "text": [
      "Processing cleaned_chunk_0:  10%|██▉                          | 1016/10000 [03:02<26:32,  5.64row/s]"
     ]
    },
    {
     "name": "stdout",
     "output_type": "stream",
     "text": [
      "Progress saved: cleaned_chunk_0, row 1016\r"
     ]
    },
    {
     "name": "stderr",
     "output_type": "stream",
     "text": [
      "Processing cleaned_chunk_0:  10%|██▉                          | 1018/10000 [03:02<23:50,  6.28row/s]"
     ]
    },
    {
     "name": "stdout",
     "output_type": "stream",
     "text": [
      "Progress saved: cleaned_chunk_0, row 1018\r"
     ]
    },
    {
     "name": "stderr",
     "output_type": "stream",
     "text": [
      "Processing cleaned_chunk_0:  10%|██▉                          | 1020/10000 [03:02<22:36,  6.62row/s]"
     ]
    },
    {
     "name": "stdout",
     "output_type": "stream",
     "text": [
      "Progress saved: cleaned_chunk_0, row 1020\r"
     ]
    },
    {
     "name": "stderr",
     "output_type": "stream",
     "text": [
      "Processing cleaned_chunk_0:  10%|██▉                          | 1022/10000 [03:02<21:56,  6.82row/s]"
     ]
    },
    {
     "name": "stdout",
     "output_type": "stream",
     "text": [
      "Progress saved: cleaned_chunk_0, row 1022\r"
     ]
    },
    {
     "name": "stderr",
     "output_type": "stream",
     "text": [
      "Processing cleaned_chunk_0:  10%|██▉                          | 1023/10000 [03:03<22:06,  6.77row/s]"
     ]
    },
    {
     "name": "stdout",
     "output_type": "stream",
     "text": [
      "Progress saved: cleaned_chunk_0, row 1024\r"
     ]
    },
    {
     "name": "stderr",
     "output_type": "stream",
     "text": [
      "Processing cleaned_chunk_0:  10%|██▉                          | 1025/10000 [03:03<23:57,  6.24row/s]"
     ]
    },
    {
     "name": "stdout",
     "output_type": "stream",
     "text": [
      "Progress saved: cleaned_chunk_0, row 1026\r"
     ]
    },
    {
     "name": "stderr",
     "output_type": "stream",
     "text": [
      "Processing cleaned_chunk_0:  10%|██▉                          | 1028/10000 [03:04<30:32,  4.90row/s]"
     ]
    },
    {
     "name": "stdout",
     "output_type": "stream",
     "text": [
      "Progress saved: cleaned_chunk_0, row 1028\r"
     ]
    },
    {
     "name": "stderr",
     "output_type": "stream",
     "text": [
      "Processing cleaned_chunk_0:  10%|██▉                          | 1029/10000 [03:04<32:12,  4.64row/s]"
     ]
    },
    {
     "name": "stdout",
     "output_type": "stream",
     "text": [
      "Progress saved: cleaned_chunk_0, row 1030\r"
     ]
    },
    {
     "name": "stderr",
     "output_type": "stream",
     "text": [
      "Processing cleaned_chunk_0:  10%|██▉                          | 1032/10000 [03:04<28:26,  5.25row/s]"
     ]
    },
    {
     "name": "stdout",
     "output_type": "stream",
     "text": [
      "Progress saved: cleaned_chunk_0, row 1032\r"
     ]
    },
    {
     "name": "stderr",
     "output_type": "stream",
     "text": [
      "Processing cleaned_chunk_0:  10%|██▉                          | 1034/10000 [03:05<25:02,  5.97row/s]"
     ]
    },
    {
     "name": "stdout",
     "output_type": "stream",
     "text": [
      "Progress saved: cleaned_chunk_0, row 1034\r"
     ]
    },
    {
     "name": "stderr",
     "output_type": "stream",
     "text": [
      "Processing cleaned_chunk_0:  10%|███                          | 1036/10000 [03:05<24:43,  6.04row/s]"
     ]
    },
    {
     "name": "stdout",
     "output_type": "stream",
     "text": [
      "Progress saved: cleaned_chunk_0, row 1036\r"
     ]
    },
    {
     "name": "stderr",
     "output_type": "stream",
     "text": [
      "Processing cleaned_chunk_0:  10%|███                          | 1038/10000 [03:05<23:00,  6.49row/s]"
     ]
    },
    {
     "name": "stdout",
     "output_type": "stream",
     "text": [
      "Progress saved: cleaned_chunk_0, row 1038\r"
     ]
    },
    {
     "name": "stderr",
     "output_type": "stream",
     "text": [
      "Processing cleaned_chunk_0:  10%|███                          | 1040/10000 [03:06<21:03,  7.09row/s]"
     ]
    },
    {
     "name": "stdout",
     "output_type": "stream",
     "text": [
      "Progress saved: cleaned_chunk_0, row 1040\r"
     ]
    },
    {
     "name": "stderr",
     "output_type": "stream",
     "text": [
      "Processing cleaned_chunk_0:  10%|███                          | 1041/10000 [03:06<19:39,  7.60row/s]"
     ]
    },
    {
     "name": "stdout",
     "output_type": "stream",
     "text": [
      "Progress saved: cleaned_chunk_0, row 1042\r"
     ]
    },
    {
     "name": "stderr",
     "output_type": "stream",
     "text": [
      "Processing cleaned_chunk_0:  10%|███                          | 1043/10000 [03:06<20:44,  7.20row/s]"
     ]
    },
    {
     "name": "stdout",
     "output_type": "stream",
     "text": [
      "Progress saved: cleaned_chunk_0, row 1044\r"
     ]
    },
    {
     "name": "stderr",
     "output_type": "stream",
     "text": [
      "Processing cleaned_chunk_0:  10%|███                          | 1046/10000 [03:07<28:00,  5.33row/s]"
     ]
    },
    {
     "name": "stdout",
     "output_type": "stream",
     "text": [
      "Progress saved: cleaned_chunk_0, row 1046\r"
     ]
    },
    {
     "name": "stderr",
     "output_type": "stream",
     "text": [
      "Processing cleaned_chunk_0:  10%|███                          | 1048/10000 [03:07<26:20,  5.66row/s]"
     ]
    },
    {
     "name": "stdout",
     "output_type": "stream",
     "text": [
      "Progress saved: cleaned_chunk_0, row 1048\r"
     ]
    },
    {
     "name": "stderr",
     "output_type": "stream",
     "text": [
      "Processing cleaned_chunk_0:  10%|███                          | 1050/10000 [03:07<25:21,  5.88row/s]"
     ]
    },
    {
     "name": "stdout",
     "output_type": "stream",
     "text": [
      "Progress saved: cleaned_chunk_0, row 1050\r"
     ]
    },
    {
     "name": "stderr",
     "output_type": "stream",
     "text": [
      "Processing cleaned_chunk_0:  11%|███                          | 1051/10000 [03:07<26:52,  5.55row/s]"
     ]
    },
    {
     "name": "stdout",
     "output_type": "stream",
     "text": [
      "Progress saved: cleaned_chunk_0, row 1052\r"
     ]
    },
    {
     "name": "stderr",
     "output_type": "stream",
     "text": [
      "Processing cleaned_chunk_0:  11%|███                          | 1054/10000 [03:08<25:52,  5.76row/s]"
     ]
    },
    {
     "name": "stdout",
     "output_type": "stream",
     "text": [
      "Progress saved: cleaned_chunk_0, row 1054\r"
     ]
    },
    {
     "name": "stderr",
     "output_type": "stream",
     "text": [
      "Processing cleaned_chunk_0:  11%|███                          | 1056/10000 [03:08<25:14,  5.90row/s]"
     ]
    },
    {
     "name": "stdout",
     "output_type": "stream",
     "text": [
      "Progress saved: cleaned_chunk_0, row 1056\r"
     ]
    },
    {
     "name": "stderr",
     "output_type": "stream",
     "text": [
      "Processing cleaned_chunk_0:  11%|███                          | 1057/10000 [03:09<26:40,  5.59row/s]"
     ]
    },
    {
     "name": "stdout",
     "output_type": "stream",
     "text": [
      "Progress saved: cleaned_chunk_0, row 1058\r"
     ]
    },
    {
     "name": "stderr",
     "output_type": "stream",
     "text": [
      "Processing cleaned_chunk_0:  11%|███                          | 1060/10000 [03:09<26:59,  5.52row/s]"
     ]
    },
    {
     "name": "stdout",
     "output_type": "stream",
     "text": [
      "Progress saved: cleaned_chunk_0, row 1060\r"
     ]
    },
    {
     "name": "stderr",
     "output_type": "stream",
     "text": [
      "Processing cleaned_chunk_0:  11%|███                          | 1061/10000 [03:09<29:20,  5.08row/s]"
     ]
    },
    {
     "name": "stdout",
     "output_type": "stream",
     "text": [
      "Progress saved: cleaned_chunk_0, row 1061\r"
     ]
    },
    {
     "name": "stderr",
     "output_type": "stream",
     "text": [
      "Processing cleaned_chunk_0:  11%|███                          | 1063/10000 [03:10<32:43,  4.55row/s]"
     ]
    },
    {
     "name": "stdout",
     "output_type": "stream",
     "text": [
      "Progress saved: cleaned_chunk_0, row 1063\r"
     ]
    },
    {
     "name": "stderr",
     "output_type": "stream",
     "text": [
      "Processing cleaned_chunk_0:  11%|███                          | 1065/10000 [03:10<28:19,  5.26row/s]"
     ]
    },
    {
     "name": "stdout",
     "output_type": "stream",
     "text": [
      "Progress saved: cleaned_chunk_0, row 1065\r"
     ]
    },
    {
     "name": "stderr",
     "output_type": "stream",
     "text": [
      "Processing cleaned_chunk_0:  11%|███                          | 1067/10000 [03:11<26:44,  5.57row/s]"
     ]
    },
    {
     "name": "stdout",
     "output_type": "stream",
     "text": [
      "Progress saved: cleaned_chunk_0, row 1067\r"
     ]
    },
    {
     "name": "stderr",
     "output_type": "stream",
     "text": [
      "Processing cleaned_chunk_0:  11%|███                          | 1069/10000 [03:11<25:03,  5.94row/s]"
     ]
    },
    {
     "name": "stdout",
     "output_type": "stream",
     "text": [
      "Progress saved: cleaned_chunk_0, row 1069\r"
     ]
    },
    {
     "name": "stderr",
     "output_type": "stream",
     "text": [
      "Processing cleaned_chunk_0:  11%|███                          | 1070/10000 [03:11<25:59,  5.73row/s]"
     ]
    },
    {
     "name": "stdout",
     "output_type": "stream",
     "text": [
      "Progress saved: cleaned_chunk_0, row 1072\r"
     ]
    },
    {
     "name": "stderr",
     "output_type": "stream",
     "text": [
      "Processing cleaned_chunk_0:  11%|███                          | 1074/10000 [03:12<23:58,  6.21row/s]"
     ]
    },
    {
     "name": "stdout",
     "output_type": "stream",
     "text": [
      "Progress saved: cleaned_chunk_0, row 1074\r"
     ]
    },
    {
     "name": "stderr",
     "output_type": "stream",
     "text": [
      "Processing cleaned_chunk_0:  11%|███                          | 1075/10000 [03:12<25:40,  5.79row/s]"
     ]
    },
    {
     "name": "stdout",
     "output_type": "stream",
     "text": [
      "Progress saved: cleaned_chunk_0, row 1076\r"
     ]
    },
    {
     "name": "stderr",
     "output_type": "stream",
     "text": [
      "Processing cleaned_chunk_0:  11%|███                          | 1077/10000 [03:12<25:14,  5.89row/s]"
     ]
    },
    {
     "name": "stdout",
     "output_type": "stream",
     "text": [
      "Progress saved: cleaned_chunk_0, row 1078\r"
     ]
    },
    {
     "name": "stderr",
     "output_type": "stream",
     "text": [
      "Processing cleaned_chunk_0:  11%|███▏                         | 1079/10000 [03:12<23:12,  6.40row/s]"
     ]
    },
    {
     "name": "stdout",
     "output_type": "stream",
     "text": [
      "Progress saved: cleaned_chunk_0, row 1079\r"
     ]
    },
    {
     "name": "stderr",
     "output_type": "stream",
     "text": [
      "Processing cleaned_chunk_0:  11%|███▏                         | 1081/10000 [03:13<28:29,  5.22row/s]"
     ]
    },
    {
     "name": "stdout",
     "output_type": "stream",
     "text": [
      "Progress saved: cleaned_chunk_0, row 1081\r"
     ]
    },
    {
     "name": "stderr",
     "output_type": "stream",
     "text": [
      "Processing cleaned_chunk_0:  11%|███▏                         | 1082/10000 [03:13<26:39,  5.57row/s]"
     ]
    },
    {
     "name": "stdout",
     "output_type": "stream",
     "text": [
      "Progress saved: cleaned_chunk_0, row 1083\r"
     ]
    },
    {
     "name": "stderr",
     "output_type": "stream",
     "text": [
      "Processing cleaned_chunk_0:  11%|███▏                         | 1085/10000 [03:14<23:03,  6.45row/s]"
     ]
    },
    {
     "name": "stdout",
     "output_type": "stream",
     "text": [
      "Progress saved: cleaned_chunk_0, row 1085\r"
     ]
    },
    {
     "name": "stderr",
     "output_type": "stream",
     "text": [
      "Processing cleaned_chunk_0:  11%|███▏                         | 1087/10000 [03:14<22:21,  6.64row/s]"
     ]
    },
    {
     "name": "stdout",
     "output_type": "stream",
     "text": [
      "Progress saved: cleaned_chunk_0, row 1087\r"
     ]
    },
    {
     "name": "stderr",
     "output_type": "stream",
     "text": [
      "Processing cleaned_chunk_0:  11%|███▏                         | 1089/10000 [03:14<22:04,  6.73row/s]"
     ]
    },
    {
     "name": "stdout",
     "output_type": "stream",
     "text": [
      "Progress saved: cleaned_chunk_0, row 1089\r"
     ]
    },
    {
     "name": "stderr",
     "output_type": "stream",
     "text": [
      "Processing cleaned_chunk_0:  11%|███▏                         | 1091/10000 [03:14<23:50,  6.23row/s]"
     ]
    },
    {
     "name": "stdout",
     "output_type": "stream",
     "text": [
      "Progress saved: cleaned_chunk_0, row 1091\r"
     ]
    },
    {
     "name": "stderr",
     "output_type": "stream",
     "text": [
      "Processing cleaned_chunk_0:  11%|███▏                         | 1093/10000 [03:15<23:02,  6.44row/s]"
     ]
    },
    {
     "name": "stdout",
     "output_type": "stream",
     "text": [
      "Progress saved: cleaned_chunk_0, row 1093\r"
     ]
    },
    {
     "name": "stderr",
     "output_type": "stream",
     "text": [
      "Processing cleaned_chunk_0:  11%|███▏                         | 1094/10000 [03:15<23:00,  6.45row/s]"
     ]
    },
    {
     "name": "stdout",
     "output_type": "stream",
     "text": [
      "Progress saved: cleaned_chunk_0, row 1095\r"
     ]
    },
    {
     "name": "stderr",
     "output_type": "stream",
     "text": [
      "Processing cleaned_chunk_0:  11%|███▏                         | 1096/10000 [03:15<19:40,  7.54row/s]"
     ]
    },
    {
     "name": "stdout",
     "output_type": "stream",
     "text": [
      "Progress saved: cleaned_chunk_0, row 1096\r"
     ]
    },
    {
     "name": "stderr",
     "output_type": "stream",
     "text": [
      "Processing cleaned_chunk_0:  11%|███▏                         | 1098/10000 [03:16<26:12,  5.66row/s]"
     ]
    },
    {
     "name": "stdout",
     "output_type": "stream",
     "text": [
      "Progress saved: cleaned_chunk_0, row 1098\r"
     ]
    },
    {
     "name": "stderr",
     "output_type": "stream",
     "text": [
      "Processing cleaned_chunk_0:  11%|███▏                         | 1100/10000 [03:16<23:36,  6.28row/s]"
     ]
    },
    {
     "name": "stdout",
     "output_type": "stream",
     "text": [
      "Progress saved: cleaned_chunk_0, row 1100\r"
     ]
    },
    {
     "name": "stderr",
     "output_type": "stream",
     "text": [
      "Processing cleaned_chunk_0:  11%|███▏                         | 1102/10000 [03:16<23:19,  6.36row/s]"
     ]
    },
    {
     "name": "stdout",
     "output_type": "stream",
     "text": [
      "Progress saved: cleaned_chunk_0, row 1102\r"
     ]
    },
    {
     "name": "stderr",
     "output_type": "stream",
     "text": [
      "Processing cleaned_chunk_0:  11%|███▏                         | 1104/10000 [03:17<21:53,  6.77row/s]"
     ]
    },
    {
     "name": "stdout",
     "output_type": "stream",
     "text": [
      "Progress saved: cleaned_chunk_0, row 1104\r"
     ]
    },
    {
     "name": "stderr",
     "output_type": "stream",
     "text": [
      "Processing cleaned_chunk_0:  11%|███▏                         | 1106/10000 [03:17<23:20,  6.35row/s]"
     ]
    },
    {
     "name": "stdout",
     "output_type": "stream",
     "text": [
      "Progress saved: cleaned_chunk_0, row 1106\r"
     ]
    },
    {
     "name": "stderr",
     "output_type": "stream",
     "text": [
      "Processing cleaned_chunk_0:  11%|███▏                         | 1108/10000 [03:17<23:53,  6.20row/s]"
     ]
    },
    {
     "name": "stdout",
     "output_type": "stream",
     "text": [
      "Progress saved: cleaned_chunk_0, row 1108\r"
     ]
    },
    {
     "name": "stderr",
     "output_type": "stream",
     "text": [
      "Processing cleaned_chunk_0:  11%|███▏                         | 1110/10000 [03:17<22:25,  6.61row/s]"
     ]
    },
    {
     "name": "stdout",
     "output_type": "stream",
     "text": [
      "Progress saved: cleaned_chunk_0, row 1110\r"
     ]
    },
    {
     "name": "stderr",
     "output_type": "stream",
     "text": [
      "Processing cleaned_chunk_0:  11%|███▏                         | 1112/10000 [03:18<22:22,  6.62row/s]"
     ]
    },
    {
     "name": "stdout",
     "output_type": "stream",
     "text": [
      "Progress saved: cleaned_chunk_0, row 1112\r"
     ]
    },
    {
     "name": "stderr",
     "output_type": "stream",
     "text": [
      "Processing cleaned_chunk_0:  11%|███▏                         | 1113/10000 [03:18<26:47,  5.53row/s]"
     ]
    },
    {
     "name": "stdout",
     "output_type": "stream",
     "text": [
      "Progress saved: cleaned_chunk_0, row 1113\r"
     ]
    },
    {
     "name": "stderr",
     "output_type": "stream",
     "text": [
      "Processing cleaned_chunk_0:  11%|███▏                         | 1115/10000 [03:18<27:46,  5.33row/s]"
     ]
    },
    {
     "name": "stdout",
     "output_type": "stream",
     "text": [
      "Progress saved: cleaned_chunk_0, row 1115\r"
     ]
    },
    {
     "name": "stderr",
     "output_type": "stream",
     "text": [
      "Processing cleaned_chunk_0:  11%|███▏                         | 1117/10000 [03:19<24:10,  6.13row/s]"
     ]
    },
    {
     "name": "stdout",
     "output_type": "stream",
     "text": [
      "Progress saved: cleaned_chunk_0, row 1117\r"
     ]
    },
    {
     "name": "stderr",
     "output_type": "stream",
     "text": [
      "Processing cleaned_chunk_0:  11%|███▏                         | 1119/10000 [03:19<21:52,  6.76row/s]"
     ]
    },
    {
     "name": "stdout",
     "output_type": "stream",
     "text": [
      "Progress saved: cleaned_chunk_0, row 1119\r"
     ]
    },
    {
     "name": "stderr",
     "output_type": "stream",
     "text": [
      "Processing cleaned_chunk_0:  11%|███▏                         | 1120/10000 [03:19<21:48,  6.78row/s]"
     ]
    },
    {
     "name": "stdout",
     "output_type": "stream",
     "text": [
      "Progress saved: cleaned_chunk_0, row 1120\r"
     ]
    },
    {
     "name": "stderr",
     "output_type": "stream",
     "text": [
      "Processing cleaned_chunk_0:  11%|███▎                         | 1122/10000 [03:20<27:14,  5.43row/s]"
     ]
    },
    {
     "name": "stdout",
     "output_type": "stream",
     "text": [
      "Progress saved: cleaned_chunk_0, row 1122\r"
     ]
    },
    {
     "name": "stderr",
     "output_type": "stream",
     "text": [
      "Processing cleaned_chunk_0:  11%|███▎                         | 1124/10000 [03:20<25:03,  5.91row/s]"
     ]
    },
    {
     "name": "stdout",
     "output_type": "stream",
     "text": [
      "Progress saved: cleaned_chunk_0, row 1124\r"
     ]
    },
    {
     "name": "stderr",
     "output_type": "stream",
     "text": [
      "Processing cleaned_chunk_0:  11%|███▎                         | 1126/10000 [03:20<26:16,  5.63row/s]"
     ]
    },
    {
     "name": "stdout",
     "output_type": "stream",
     "text": [
      "Progress saved: cleaned_chunk_0, row 1126\r"
     ]
    },
    {
     "name": "stderr",
     "output_type": "stream",
     "text": [
      "Processing cleaned_chunk_0:  11%|███▎                         | 1127/10000 [03:21<37:56,  3.90row/s]"
     ]
    },
    {
     "name": "stdout",
     "output_type": "stream",
     "text": [
      "Progress saved: cleaned_chunk_0, row 1128\r"
     ]
    },
    {
     "name": "stderr",
     "output_type": "stream",
     "text": [
      "Processing cleaned_chunk_0:  11%|███▎                         | 1130/10000 [03:21<27:17,  5.42row/s]"
     ]
    },
    {
     "name": "stdout",
     "output_type": "stream",
     "text": [
      "Progress saved: cleaned_chunk_0, row 1130\r"
     ]
    },
    {
     "name": "stderr",
     "output_type": "stream",
     "text": [
      "Processing cleaned_chunk_0:  11%|███▎                         | 1132/10000 [03:21<22:29,  6.57row/s]"
     ]
    },
    {
     "name": "stdout",
     "output_type": "stream",
     "text": [
      "Progress saved: cleaned_chunk_0, row 1132\r"
     ]
    },
    {
     "name": "stderr",
     "output_type": "stream",
     "text": [
      "Processing cleaned_chunk_0:  11%|███▎                         | 1133/10000 [03:22<23:59,  6.16row/s]"
     ]
    },
    {
     "name": "stdout",
     "output_type": "stream",
     "text": [
      "Progress saved: cleaned_chunk_0, row 1133\r"
     ]
    },
    {
     "name": "stderr",
     "output_type": "stream",
     "text": [
      "Processing cleaned_chunk_0:  11%|███▎                         | 1135/10000 [03:22<25:44,  5.74row/s]"
     ]
    },
    {
     "name": "stdout",
     "output_type": "stream",
     "text": [
      "Progress saved: cleaned_chunk_0, row 1135\r"
     ]
    },
    {
     "name": "stderr",
     "output_type": "stream",
     "text": [
      "Processing cleaned_chunk_0:  11%|███▎                         | 1136/10000 [03:22<25:12,  5.86row/s]"
     ]
    },
    {
     "name": "stdout",
     "output_type": "stream",
     "text": [
      "Progress saved: cleaned_chunk_0, row 1138\r"
     ]
    },
    {
     "name": "stderr",
     "output_type": "stream",
     "text": [
      "Processing cleaned_chunk_0:  11%|███▎                         | 1139/10000 [03:23<19:59,  7.39row/s]"
     ]
    },
    {
     "name": "stdout",
     "output_type": "stream",
     "text": [
      "Progress saved: cleaned_chunk_0, row 1141\r"
     ]
    },
    {
     "name": "stderr",
     "output_type": "stream",
     "text": [
      "Processing cleaned_chunk_0:  11%|███▎                         | 1143/10000 [03:23<17:02,  8.66row/s]"
     ]
    },
    {
     "name": "stdout",
     "output_type": "stream",
     "text": [
      "Progress saved: cleaned_chunk_0, row 1144\r"
     ]
    },
    {
     "name": "stderr",
     "output_type": "stream",
     "text": [
      "Processing cleaned_chunk_0:  11%|███▎                         | 1146/10000 [03:23<17:17,  8.53row/s]"
     ]
    },
    {
     "name": "stdout",
     "output_type": "stream",
     "text": [
      "Progress saved: cleaned_chunk_0, row 1146\r"
     ]
    },
    {
     "name": "stderr",
     "output_type": "stream",
     "text": [
      "Processing cleaned_chunk_0:  11%|███▎                         | 1147/10000 [03:24<22:11,  6.65row/s]"
     ]
    },
    {
     "name": "stdout",
     "output_type": "stream",
     "text": [
      "Progress saved: cleaned_chunk_0, row 1147\r"
     ]
    },
    {
     "name": "stderr",
     "output_type": "stream",
     "text": [
      "Processing cleaned_chunk_0:  11%|███▎                         | 1148/10000 [03:24<24:44,  5.96row/s]"
     ]
    },
    {
     "name": "stdout",
     "output_type": "stream",
     "text": [
      "Progress saved: cleaned_chunk_0, row 1148\r"
     ]
    },
    {
     "name": "stderr",
     "output_type": "stream",
     "text": [
      "Processing cleaned_chunk_0:  11%|███▎                         | 1149/10000 [03:24<39:20,  3.75row/s]"
     ]
    },
    {
     "name": "stdout",
     "output_type": "stream",
     "text": [
      "Progress saved: cleaned_chunk_0, row 1149\r"
     ]
    },
    {
     "name": "stderr",
     "output_type": "stream",
     "text": [
      "Processing cleaned_chunk_0:  12%|███▎                         | 1150/10000 [03:25<49:12,  3.00row/s]"
     ]
    },
    {
     "name": "stdout",
     "output_type": "stream",
     "text": [
      "Progress saved: cleaned_chunk_0, row 1150\r"
     ]
    },
    {
     "name": "stderr",
     "output_type": "stream",
     "text": [
      "Processing cleaned_chunk_0:  12%|███▎                         | 1151/10000 [03:25<48:52,  3.02row/s]"
     ]
    },
    {
     "name": "stdout",
     "output_type": "stream",
     "text": [
      "Progress saved: cleaned_chunk_0, row 1151\r"
     ]
    },
    {
     "name": "stderr",
     "output_type": "stream",
     "text": [
      "Processing cleaned_chunk_0:  12%|███▎                         | 1152/10000 [03:26<51:39,  2.85row/s]"
     ]
    },
    {
     "name": "stdout",
     "output_type": "stream",
     "text": [
      "Progress saved: cleaned_chunk_0, row 1152\r"
     ]
    },
    {
     "name": "stderr",
     "output_type": "stream",
     "text": [
      "Processing cleaned_chunk_0:  12%|███▎                         | 1153/10000 [03:26<49:33,  2.98row/s]"
     ]
    },
    {
     "name": "stdout",
     "output_type": "stream",
     "text": [
      "Progress saved: cleaned_chunk_0, row 1153\r"
     ]
    },
    {
     "name": "stderr",
     "output_type": "stream",
     "text": [
      "Processing cleaned_chunk_0:  12%|███▎                         | 1154/10000 [03:26<48:55,  3.01row/s]"
     ]
    },
    {
     "name": "stdout",
     "output_type": "stream",
     "text": [
      "Progress saved: cleaned_chunk_0, row 1154\r"
     ]
    },
    {
     "name": "stderr",
     "output_type": "stream",
     "text": [
      "Processing cleaned_chunk_0:  12%|███▎                         | 1155/10000 [03:26<45:06,  3.27row/s]"
     ]
    },
    {
     "name": "stdout",
     "output_type": "stream",
     "text": [
      "Progress saved: cleaned_chunk_0, row 1155\r"
     ]
    },
    {
     "name": "stderr",
     "output_type": "stream",
     "text": [
      "Processing cleaned_chunk_0:  12%|███▎                         | 1156/10000 [03:27<44:06,  3.34row/s]"
     ]
    },
    {
     "name": "stdout",
     "output_type": "stream",
     "text": [
      "Progress saved: cleaned_chunk_0, row 1156\r"
     ]
    },
    {
     "name": "stderr",
     "output_type": "stream",
     "text": [
      "Processing cleaned_chunk_0:  12%|███▎                         | 1157/10000 [03:27<51:44,  2.85row/s]"
     ]
    },
    {
     "name": "stdout",
     "output_type": "stream",
     "text": [
      "Progress saved: cleaned_chunk_0, row 1157\r"
     ]
    },
    {
     "name": "stderr",
     "output_type": "stream",
     "text": [
      "Processing cleaned_chunk_0:  12%|███▏                       | 1158/10000 [03:28<1:00:07,  2.45row/s]"
     ]
    },
    {
     "name": "stdout",
     "output_type": "stream",
     "text": [
      "Progress saved: cleaned_chunk_0, row 1158\r"
     ]
    },
    {
     "name": "stderr",
     "output_type": "stream",
     "text": [
      "Processing cleaned_chunk_0:  12%|███▏                       | 1159/10000 [03:28<1:03:31,  2.32row/s]"
     ]
    },
    {
     "name": "stdout",
     "output_type": "stream",
     "text": [
      "Progress saved: cleaned_chunk_0, row 1159\r"
     ]
    },
    {
     "name": "stderr",
     "output_type": "stream",
     "text": [
      "Processing cleaned_chunk_0:  12%|███▏                       | 1160/10000 [03:29<1:06:40,  2.21row/s]"
     ]
    },
    {
     "name": "stdout",
     "output_type": "stream",
     "text": [
      "Progress saved: cleaned_chunk_0, row 1160\r"
     ]
    },
    {
     "name": "stderr",
     "output_type": "stream",
     "text": [
      "Processing cleaned_chunk_0:  12%|███▏                       | 1161/10000 [03:29<1:05:27,  2.25row/s]"
     ]
    },
    {
     "name": "stdout",
     "output_type": "stream",
     "text": [
      "Progress saved: cleaned_chunk_0, row 1161\r"
     ]
    },
    {
     "name": "stderr",
     "output_type": "stream",
     "text": [
      "Processing cleaned_chunk_0:  12%|███▏                       | 1162/10000 [03:29<1:00:43,  2.43row/s]"
     ]
    },
    {
     "name": "stdout",
     "output_type": "stream",
     "text": [
      "Progress saved: cleaned_chunk_0, row 1162\r"
     ]
    },
    {
     "name": "stderr",
     "output_type": "stream",
     "text": [
      "Processing cleaned_chunk_0:  12%|███▎                         | 1163/10000 [03:30<58:13,  2.53row/s]"
     ]
    },
    {
     "name": "stdout",
     "output_type": "stream",
     "text": [
      "Progress saved: cleaned_chunk_0, row 1163\r"
     ]
    },
    {
     "name": "stderr",
     "output_type": "stream",
     "text": [
      "Processing cleaned_chunk_0:  12%|███▍                         | 1164/10000 [03:30<57:43,  2.55row/s]"
     ]
    },
    {
     "name": "stdout",
     "output_type": "stream",
     "text": [
      "Progress saved: cleaned_chunk_0, row 1164\r"
     ]
    },
    {
     "name": "stderr",
     "output_type": "stream",
     "text": [
      "Processing cleaned_chunk_0:  12%|███▍                         | 1165/10000 [03:31<56:27,  2.61row/s]"
     ]
    },
    {
     "name": "stdout",
     "output_type": "stream",
     "text": [
      "Progress saved: cleaned_chunk_0, row 1165\r"
     ]
    },
    {
     "name": "stderr",
     "output_type": "stream",
     "text": [
      "Processing cleaned_chunk_0:  12%|███▍                         | 1166/10000 [03:31<49:26,  2.98row/s]"
     ]
    },
    {
     "name": "stdout",
     "output_type": "stream",
     "text": [
      "Progress saved: cleaned_chunk_0, row 1167\r"
     ]
    },
    {
     "name": "stderr",
     "output_type": "stream",
     "text": [
      "Processing cleaned_chunk_0:  12%|███▍                         | 1169/10000 [03:31<31:07,  4.73row/s]"
     ]
    },
    {
     "name": "stdout",
     "output_type": "stream",
     "text": [
      "Progress saved: cleaned_chunk_0, row 1169\r"
     ]
    },
    {
     "name": "stderr",
     "output_type": "stream",
     "text": [
      "Processing cleaned_chunk_0:  12%|███▍                         | 1171/10000 [03:32<27:08,  5.42row/s]"
     ]
    },
    {
     "name": "stdout",
     "output_type": "stream",
     "text": [
      "Progress saved: cleaned_chunk_0, row 1171\r"
     ]
    },
    {
     "name": "stderr",
     "output_type": "stream",
     "text": [
      "Processing cleaned_chunk_0:  12%|███▍                         | 1172/10000 [03:32<25:13,  5.83row/s]"
     ]
    },
    {
     "name": "stdout",
     "output_type": "stream",
     "text": [
      "Progress saved: cleaned_chunk_0, row 1172\r"
     ]
    },
    {
     "name": "stderr",
     "output_type": "stream",
     "text": [
      "Processing cleaned_chunk_0:  12%|███▍                         | 1173/10000 [03:32<33:16,  4.42row/s]"
     ]
    },
    {
     "name": "stdout",
     "output_type": "stream",
     "text": [
      "Progress saved: cleaned_chunk_0, row 1173\r"
     ]
    },
    {
     "name": "stderr",
     "output_type": "stream",
     "text": [
      "Processing cleaned_chunk_0:  12%|███▍                         | 1175/10000 [03:32<30:56,  4.75row/s]"
     ]
    },
    {
     "name": "stdout",
     "output_type": "stream",
     "text": [
      "Progress saved: cleaned_chunk_0, row 1175\r"
     ]
    },
    {
     "name": "stderr",
     "output_type": "stream",
     "text": [
      "Processing cleaned_chunk_0:  12%|███▍                         | 1176/10000 [03:33<26:23,  5.57row/s]"
     ]
    },
    {
     "name": "stdout",
     "output_type": "stream",
     "text": [
      "Progress saved: cleaned_chunk_0, row 1176\r"
     ]
    },
    {
     "name": "stderr",
     "output_type": "stream",
     "text": [
      "Processing cleaned_chunk_0:  12%|███▍                         | 1177/10000 [03:33<32:04,  4.58row/s]"
     ]
    },
    {
     "name": "stdout",
     "output_type": "stream",
     "text": [
      "Progress saved: cleaned_chunk_0, row 1177\r"
     ]
    },
    {
     "name": "stderr",
     "output_type": "stream",
     "text": [
      "Processing cleaned_chunk_0:  12%|███▍                         | 1178/10000 [03:33<36:18,  4.05row/s]"
     ]
    },
    {
     "name": "stdout",
     "output_type": "stream",
     "text": [
      "Progress saved: cleaned_chunk_0, row 1178\r"
     ]
    },
    {
     "name": "stderr",
     "output_type": "stream",
     "text": [
      "Processing cleaned_chunk_0:  12%|███▍                         | 1179/10000 [03:33<38:57,  3.77row/s]"
     ]
    },
    {
     "name": "stdout",
     "output_type": "stream",
     "text": [
      "Progress saved: cleaned_chunk_0, row 1179\r"
     ]
    },
    {
     "name": "stderr",
     "output_type": "stream",
     "text": [
      "Processing cleaned_chunk_0:  12%|███▍                         | 1180/10000 [03:34<40:54,  3.59row/s]"
     ]
    },
    {
     "name": "stdout",
     "output_type": "stream",
     "text": [
      "Progress saved: cleaned_chunk_0, row 1180\r"
     ]
    },
    {
     "name": "stderr",
     "output_type": "stream",
     "text": [
      "Processing cleaned_chunk_0:  12%|███▍                         | 1181/10000 [03:34<48:35,  3.03row/s]"
     ]
    },
    {
     "name": "stdout",
     "output_type": "stream",
     "text": [
      "Progress saved: cleaned_chunk_0, row 1181\r"
     ]
    },
    {
     "name": "stderr",
     "output_type": "stream",
     "text": [
      "Processing cleaned_chunk_0:  12%|███▍                         | 1182/10000 [03:35<46:13,  3.18row/s]"
     ]
    },
    {
     "name": "stdout",
     "output_type": "stream",
     "text": [
      "Progress saved: cleaned_chunk_0, row 1182\r"
     ]
    },
    {
     "name": "stderr",
     "output_type": "stream",
     "text": [
      "Processing cleaned_chunk_0:  12%|███▍                         | 1183/10000 [03:35<53:33,  2.74row/s]"
     ]
    },
    {
     "name": "stdout",
     "output_type": "stream",
     "text": [
      "Progress saved: cleaned_chunk_0, row 1183\r"
     ]
    },
    {
     "name": "stderr",
     "output_type": "stream",
     "text": [
      "Processing cleaned_chunk_0:  12%|███▍                         | 1184/10000 [03:35<51:28,  2.85row/s]"
     ]
    },
    {
     "name": "stdout",
     "output_type": "stream",
     "text": [
      "Progress saved: cleaned_chunk_0, row 1184\r"
     ]
    },
    {
     "name": "stderr",
     "output_type": "stream",
     "text": [
      "Processing cleaned_chunk_0:  12%|███▏                       | 1185/10000 [03:36<1:11:16,  2.06row/s]"
     ]
    },
    {
     "name": "stdout",
     "output_type": "stream",
     "text": [
      "Progress saved: cleaned_chunk_0, row 1185\r"
     ]
    },
    {
     "name": "stderr",
     "output_type": "stream",
     "text": [
      "Processing cleaned_chunk_0:  12%|███▏                       | 1186/10000 [03:36<1:03:56,  2.30row/s]"
     ]
    },
    {
     "name": "stdout",
     "output_type": "stream",
     "text": [
      "Progress saved: cleaned_chunk_0, row 1186\r"
     ]
    },
    {
     "name": "stderr",
     "output_type": "stream",
     "text": [
      "Processing cleaned_chunk_0:  12%|███▍                         | 1187/10000 [03:37<54:11,  2.71row/s]"
     ]
    },
    {
     "name": "stdout",
     "output_type": "stream",
     "text": [
      "Progress saved: cleaned_chunk_0, row 1187\r"
     ]
    },
    {
     "name": "stderr",
     "output_type": "stream",
     "text": [
      "Processing cleaned_chunk_0:  12%|███▍                         | 1188/10000 [03:37<48:34,  3.02row/s]"
     ]
    },
    {
     "name": "stdout",
     "output_type": "stream",
     "text": [
      "Progress saved: cleaned_chunk_0, row 1188\r"
     ]
    },
    {
     "name": "stderr",
     "output_type": "stream",
     "text": [
      "Processing cleaned_chunk_0:  12%|███▍                         | 1189/10000 [03:37<49:39,  2.96row/s]"
     ]
    },
    {
     "name": "stdout",
     "output_type": "stream",
     "text": [
      "Progress saved: cleaned_chunk_0, row 1189\r"
     ]
    },
    {
     "name": "stderr",
     "output_type": "stream",
     "text": [
      "Processing cleaned_chunk_0:  12%|███▍                         | 1190/10000 [03:38<54:34,  2.69row/s]"
     ]
    },
    {
     "name": "stdout",
     "output_type": "stream",
     "text": [
      "Progress saved: cleaned_chunk_0, row 1190\r"
     ]
    },
    {
     "name": "stderr",
     "output_type": "stream",
     "text": [
      "Processing cleaned_chunk_0:  12%|███▍                         | 1191/10000 [03:38<59:24,  2.47row/s]"
     ]
    },
    {
     "name": "stdout",
     "output_type": "stream",
     "text": [
      "Progress saved: cleaned_chunk_0, row 1191\r"
     ]
    },
    {
     "name": "stderr",
     "output_type": "stream",
     "text": [
      "Processing cleaned_chunk_0:  12%|███▍                         | 1192/10000 [03:39<59:16,  2.48row/s]"
     ]
    },
    {
     "name": "stdout",
     "output_type": "stream",
     "text": [
      "Progress saved: cleaned_chunk_0, row 1192\r"
     ]
    },
    {
     "name": "stderr",
     "output_type": "stream",
     "text": [
      "Processing cleaned_chunk_0:  12%|███▏                       | 1193/10000 [03:39<1:05:06,  2.25row/s]"
     ]
    },
    {
     "name": "stdout",
     "output_type": "stream",
     "text": [
      "Progress saved: cleaned_chunk_0, row 1193\r"
     ]
    },
    {
     "name": "stderr",
     "output_type": "stream",
     "text": [
      "Processing cleaned_chunk_0:  12%|███▍                         | 1195/10000 [03:40<49:02,  2.99row/s]"
     ]
    },
    {
     "name": "stdout",
     "output_type": "stream",
     "text": [
      "Progress saved: cleaned_chunk_0, row 1195\r"
     ]
    },
    {
     "name": "stderr",
     "output_type": "stream",
     "text": [
      "Processing cleaned_chunk_0:  12%|███▍                         | 1197/10000 [03:40<44:49,  3.27row/s]"
     ]
    },
    {
     "name": "stdout",
     "output_type": "stream",
     "text": [
      "Progress saved: cleaned_chunk_0, row 1197\r"
     ]
    },
    {
     "name": "stderr",
     "output_type": "stream",
     "text": [
      "Processing cleaned_chunk_0:  12%|███▍                         | 1199/10000 [03:40<31:21,  4.68row/s]"
     ]
    },
    {
     "name": "stdout",
     "output_type": "stream",
     "text": [
      "Progress saved: cleaned_chunk_0, row 1199\r"
     ]
    },
    {
     "name": "stderr",
     "output_type": "stream",
     "text": [
      "Processing cleaned_chunk_0:  12%|███▍                         | 1201/10000 [03:41<25:30,  5.75row/s]"
     ]
    },
    {
     "name": "stdout",
     "output_type": "stream",
     "text": [
      "Progress saved: cleaned_chunk_0, row 1201\r"
     ]
    },
    {
     "name": "stderr",
     "output_type": "stream",
     "text": [
      "Processing cleaned_chunk_0:  12%|███▍                         | 1203/10000 [03:41<21:25,  6.84row/s]"
     ]
    },
    {
     "name": "stdout",
     "output_type": "stream",
     "text": [
      "Progress saved: cleaned_chunk_0, row 1203\r"
     ]
    },
    {
     "name": "stderr",
     "output_type": "stream",
     "text": [
      "Processing cleaned_chunk_0:  12%|███▍                         | 1205/10000 [03:41<19:21,  7.57row/s]"
     ]
    },
    {
     "name": "stdout",
     "output_type": "stream",
     "text": [
      "Progress saved: cleaned_chunk_0, row 1205\r"
     ]
    },
    {
     "name": "stderr",
     "output_type": "stream",
     "text": [
      "Processing cleaned_chunk_0:  12%|███▌                         | 1207/10000 [03:41<19:34,  7.49row/s]"
     ]
    },
    {
     "name": "stdout",
     "output_type": "stream",
     "text": [
      "Progress saved: cleaned_chunk_0, row 1207\r"
     ]
    },
    {
     "name": "stderr",
     "output_type": "stream",
     "text": [
      "Processing cleaned_chunk_0:  12%|███▌                         | 1209/10000 [03:42<22:22,  6.55row/s]"
     ]
    },
    {
     "name": "stdout",
     "output_type": "stream",
     "text": [
      "Progress saved: cleaned_chunk_0, row 1209\r"
     ]
    },
    {
     "name": "stderr",
     "output_type": "stream",
     "text": [
      "Processing cleaned_chunk_0:  12%|███▌                         | 1211/10000 [03:42<22:04,  6.64row/s]"
     ]
    },
    {
     "name": "stdout",
     "output_type": "stream",
     "text": [
      "Progress saved: cleaned_chunk_0, row 1211\r"
     ]
    },
    {
     "name": "stderr",
     "output_type": "stream",
     "text": [
      "Processing cleaned_chunk_0:  12%|███▌                         | 1213/10000 [03:42<22:22,  6.55row/s]"
     ]
    },
    {
     "name": "stdout",
     "output_type": "stream",
     "text": [
      "Progress saved: cleaned_chunk_0, row 1213\r"
     ]
    },
    {
     "name": "stderr",
     "output_type": "stream",
     "text": [
      "Processing cleaned_chunk_0:  12%|███▌                         | 1214/10000 [03:43<25:17,  5.79row/s]"
     ]
    },
    {
     "name": "stdout",
     "output_type": "stream",
     "text": [
      "Progress saved: cleaned_chunk_0, row 1214\r"
     ]
    },
    {
     "name": "stderr",
     "output_type": "stream",
     "text": [
      "Processing cleaned_chunk_0:  12%|███▌                         | 1216/10000 [03:43<29:29,  4.97row/s]"
     ]
    },
    {
     "name": "stdout",
     "output_type": "stream",
     "text": [
      "Progress saved: cleaned_chunk_0, row 1216\r"
     ]
    },
    {
     "name": "stderr",
     "output_type": "stream",
     "text": [
      "Processing cleaned_chunk_0:  12%|███▌                         | 1218/10000 [03:44<30:08,  4.86row/s]"
     ]
    },
    {
     "name": "stdout",
     "output_type": "stream",
     "text": [
      "Progress saved: cleaned_chunk_0, row 1218\r"
     ]
    },
    {
     "name": "stderr",
     "output_type": "stream",
     "text": [
      "Processing cleaned_chunk_0:  12%|███▌                         | 1219/10000 [03:44<28:58,  5.05row/s]"
     ]
    },
    {
     "name": "stdout",
     "output_type": "stream",
     "text": [
      "Progress saved: cleaned_chunk_0, row 1219\r"
     ]
    },
    {
     "name": "stderr",
     "output_type": "stream",
     "text": [
      "Processing cleaned_chunk_0:  12%|███▌                         | 1221/10000 [03:44<34:42,  4.22row/s]"
     ]
    },
    {
     "name": "stdout",
     "output_type": "stream",
     "text": [
      "Progress saved: cleaned_chunk_0, row 1221\r"
     ]
    },
    {
     "name": "stderr",
     "output_type": "stream",
     "text": [
      "Processing cleaned_chunk_0:  12%|███▌                         | 1222/10000 [03:45<35:00,  4.18row/s]"
     ]
    },
    {
     "name": "stdout",
     "output_type": "stream",
     "text": [
      "Progress saved: cleaned_chunk_0, row 1222\r"
     ]
    },
    {
     "name": "stderr",
     "output_type": "stream",
     "text": [
      "Processing cleaned_chunk_0:  12%|███▌                         | 1224/10000 [03:45<32:39,  4.48row/s]"
     ]
    },
    {
     "name": "stdout",
     "output_type": "stream",
     "text": [
      "Progress saved: cleaned_chunk_0, row 1224\r"
     ]
    },
    {
     "name": "stderr",
     "output_type": "stream",
     "text": [
      "Processing cleaned_chunk_0:  12%|███▌                         | 1225/10000 [03:45<29:14,  5.00row/s]"
     ]
    },
    {
     "name": "stdout",
     "output_type": "stream",
     "text": [
      "Progress saved: cleaned_chunk_0, row 1225\r"
     ]
    },
    {
     "name": "stderr",
     "output_type": "stream",
     "text": [
      "Processing cleaned_chunk_0:  12%|███▌                         | 1226/10000 [03:45<32:01,  4.57row/s]"
     ]
    },
    {
     "name": "stdout",
     "output_type": "stream",
     "text": [
      "Progress saved: cleaned_chunk_0, row 1226\r"
     ]
    },
    {
     "name": "stderr",
     "output_type": "stream",
     "text": [
      "Processing cleaned_chunk_0:  12%|███▌                         | 1228/10000 [03:46<28:18,  5.17row/s]"
     ]
    },
    {
     "name": "stdout",
     "output_type": "stream",
     "text": [
      "Progress saved: cleaned_chunk_0, row 1228\r"
     ]
    },
    {
     "name": "stderr",
     "output_type": "stream",
     "text": [
      "Processing cleaned_chunk_0:  12%|███▌                         | 1229/10000 [03:46<25:23,  5.76row/s]"
     ]
    },
    {
     "name": "stdout",
     "output_type": "stream",
     "text": [
      "Progress saved: cleaned_chunk_0, row 1229\r"
     ]
    },
    {
     "name": "stderr",
     "output_type": "stream",
     "text": [
      "Processing cleaned_chunk_0:  12%|███▌                         | 1230/10000 [03:46<39:50,  3.67row/s]"
     ]
    },
    {
     "name": "stdout",
     "output_type": "stream",
     "text": [
      "Progress saved: cleaned_chunk_0, row 1230\r"
     ]
    },
    {
     "name": "stderr",
     "output_type": "stream",
     "text": [
      "Processing cleaned_chunk_0:  12%|███▌                         | 1231/10000 [03:47<46:05,  3.17row/s]"
     ]
    },
    {
     "name": "stdout",
     "output_type": "stream",
     "text": [
      "Progress saved: cleaned_chunk_0, row 1231\r"
     ]
    },
    {
     "name": "stderr",
     "output_type": "stream",
     "text": [
      "Processing cleaned_chunk_0:  12%|███▌                         | 1233/10000 [03:47<40:37,  3.60row/s]"
     ]
    },
    {
     "name": "stdout",
     "output_type": "stream",
     "text": [
      "Progress saved: cleaned_chunk_0, row 1233\r"
     ]
    },
    {
     "name": "stderr",
     "output_type": "stream",
     "text": [
      "Processing cleaned_chunk_0:  12%|███▌                         | 1234/10000 [03:48<36:39,  3.98row/s]"
     ]
    },
    {
     "name": "stdout",
     "output_type": "stream",
     "text": [
      "Progress saved: cleaned_chunk_0, row 1234\r"
     ]
    },
    {
     "name": "stderr",
     "output_type": "stream",
     "text": [
      "Processing cleaned_chunk_0:  12%|███▌                         | 1236/10000 [03:48<35:22,  4.13row/s]"
     ]
    },
    {
     "name": "stdout",
     "output_type": "stream",
     "text": [
      "Progress saved: cleaned_chunk_0, row 1236\r"
     ]
    },
    {
     "name": "stderr",
     "output_type": "stream",
     "text": [
      "Processing cleaned_chunk_0:  12%|███▌                         | 1237/10000 [03:48<42:09,  3.46row/s]"
     ]
    },
    {
     "name": "stdout",
     "output_type": "stream",
     "text": [
      "Progress saved: cleaned_chunk_0, row 1237\r"
     ]
    },
    {
     "name": "stderr",
     "output_type": "stream",
     "text": [
      "Processing cleaned_chunk_0:  12%|███▌                         | 1238/10000 [03:49<43:19,  3.37row/s]"
     ]
    },
    {
     "name": "stdout",
     "output_type": "stream",
     "text": [
      "Progress saved: cleaned_chunk_0, row 1239\r"
     ]
    },
    {
     "name": "stderr",
     "output_type": "stream",
     "text": [
      "Processing cleaned_chunk_0:  12%|███▌                         | 1240/10000 [03:49<35:51,  4.07row/s]"
     ]
    },
    {
     "name": "stdout",
     "output_type": "stream",
     "text": [
      "Progress saved: cleaned_chunk_0, row 1242\r"
     ]
    },
    {
     "name": "stderr",
     "output_type": "stream",
     "text": [
      "Processing cleaned_chunk_0:  12%|███▌                         | 1244/10000 [03:50<27:49,  5.25row/s]"
     ]
    },
    {
     "name": "stdout",
     "output_type": "stream",
     "text": [
      "Progress saved: cleaned_chunk_0, row 1244\r"
     ]
    },
    {
     "name": "stderr",
     "output_type": "stream",
     "text": [
      "Processing cleaned_chunk_0:  12%|███▌                         | 1245/10000 [03:50<25:05,  5.81row/s]"
     ]
    },
    {
     "name": "stdout",
     "output_type": "stream",
     "text": [
      "Progress saved: cleaned_chunk_0, row 1245\r"
     ]
    },
    {
     "name": "stderr",
     "output_type": "stream",
     "text": [
      "Processing cleaned_chunk_0:  12%|███▌                         | 1246/10000 [03:50<33:07,  4.40row/s]"
     ]
    },
    {
     "name": "stdout",
     "output_type": "stream",
     "text": [
      "Progress saved: cleaned_chunk_0, row 1246\r"
     ]
    },
    {
     "name": "stderr",
     "output_type": "stream",
     "text": [
      "Processing cleaned_chunk_0:  12%|███▌                         | 1248/10000 [03:51<29:41,  4.91row/s]"
     ]
    },
    {
     "name": "stdout",
     "output_type": "stream",
     "text": [
      "Progress saved: cleaned_chunk_0, row 1248\r"
     ]
    },
    {
     "name": "stderr",
     "output_type": "stream",
     "text": [
      "Processing cleaned_chunk_0:  12%|███▋                         | 1250/10000 [03:51<23:30,  6.20row/s]"
     ]
    },
    {
     "name": "stdout",
     "output_type": "stream",
     "text": [
      "Progress saved: cleaned_chunk_0, row 1250\r"
     ]
    },
    {
     "name": "stderr",
     "output_type": "stream",
     "text": [
      "Processing cleaned_chunk_0:  13%|███▋                         | 1251/10000 [03:51<20:55,  6.97row/s]"
     ]
    },
    {
     "name": "stdout",
     "output_type": "stream",
     "text": [
      "Progress saved: cleaned_chunk_0, row 1251\r"
     ]
    },
    {
     "name": "stderr",
     "output_type": "stream",
     "text": [
      "Processing cleaned_chunk_0:  13%|███▋                         | 1253/10000 [03:51<22:36,  6.45row/s]"
     ]
    },
    {
     "name": "stdout",
     "output_type": "stream",
     "text": [
      "Progress saved: cleaned_chunk_0, row 1253\r"
     ]
    },
    {
     "name": "stderr",
     "output_type": "stream",
     "text": [
      "Processing cleaned_chunk_0:  13%|███▋                         | 1255/10000 [03:52<19:34,  7.45row/s]"
     ]
    },
    {
     "name": "stdout",
     "output_type": "stream",
     "text": [
      "Progress saved: cleaned_chunk_0, row 1255\r"
     ]
    },
    {
     "name": "stderr",
     "output_type": "stream",
     "text": [
      "Processing cleaned_chunk_0:  13%|███▋                         | 1257/10000 [03:52<19:51,  7.34row/s]"
     ]
    },
    {
     "name": "stdout",
     "output_type": "stream",
     "text": [
      "Progress saved: cleaned_chunk_0, row 1257\r"
     ]
    },
    {
     "name": "stderr",
     "output_type": "stream",
     "text": [
      "Processing cleaned_chunk_0:  13%|███▋                         | 1259/10000 [03:52<19:08,  7.61row/s]"
     ]
    },
    {
     "name": "stdout",
     "output_type": "stream",
     "text": [
      "Progress saved: cleaned_chunk_0, row 1259\r"
     ]
    },
    {
     "name": "stderr",
     "output_type": "stream",
     "text": [
      "Processing cleaned_chunk_0:  13%|███▋                         | 1261/10000 [03:52<20:43,  7.03row/s]"
     ]
    },
    {
     "name": "stdout",
     "output_type": "stream",
     "text": [
      "Progress saved: cleaned_chunk_0, row 1261\r"
     ]
    },
    {
     "name": "stderr",
     "output_type": "stream",
     "text": [
      "Processing cleaned_chunk_0:  13%|███▋                         | 1262/10000 [03:53<22:29,  6.47row/s]"
     ]
    },
    {
     "name": "stdout",
     "output_type": "stream",
     "text": [
      "Progress saved: cleaned_chunk_0, row 1262\r"
     ]
    },
    {
     "name": "stderr",
     "output_type": "stream",
     "text": [
      "Processing cleaned_chunk_0:  13%|███▋                         | 1264/10000 [03:53<25:09,  5.79row/s]"
     ]
    },
    {
     "name": "stdout",
     "output_type": "stream",
     "text": [
      "Progress saved: cleaned_chunk_0, row 1264\r"
     ]
    },
    {
     "name": "stderr",
     "output_type": "stream",
     "text": [
      "Processing cleaned_chunk_0:  13%|███▋                         | 1266/10000 [03:53<21:46,  6.68row/s]"
     ]
    },
    {
     "name": "stdout",
     "output_type": "stream",
     "text": [
      "Progress saved: cleaned_chunk_0, row 1266\r"
     ]
    },
    {
     "name": "stderr",
     "output_type": "stream",
     "text": [
      "Processing cleaned_chunk_0:  13%|███▋                         | 1268/10000 [03:53<19:50,  7.33row/s]"
     ]
    },
    {
     "name": "stdout",
     "output_type": "stream",
     "text": [
      "Progress saved: cleaned_chunk_0, row 1268\r"
     ]
    },
    {
     "name": "stderr",
     "output_type": "stream",
     "text": [
      "Processing cleaned_chunk_0:  13%|███▋                         | 1270/10000 [03:54<17:47,  8.18row/s]"
     ]
    },
    {
     "name": "stdout",
     "output_type": "stream",
     "text": [
      "Progress saved: cleaned_chunk_0, row 1270\r"
     ]
    },
    {
     "name": "stderr",
     "output_type": "stream",
     "text": [
      "Processing cleaned_chunk_0:  13%|███▋                         | 1272/10000 [03:54<18:46,  7.75row/s]"
     ]
    },
    {
     "name": "stdout",
     "output_type": "stream",
     "text": [
      "Progress saved: cleaned_chunk_0, row 1272\r"
     ]
    },
    {
     "name": "stderr",
     "output_type": "stream",
     "text": [
      "Processing cleaned_chunk_0:  13%|███▋                         | 1274/10000 [03:54<17:26,  8.34row/s]"
     ]
    },
    {
     "name": "stdout",
     "output_type": "stream",
     "text": [
      "Progress saved: cleaned_chunk_0, row 1274\r"
     ]
    },
    {
     "name": "stderr",
     "output_type": "stream",
     "text": [
      "Processing cleaned_chunk_0:  13%|███▋                         | 1276/10000 [03:54<18:36,  7.81row/s]"
     ]
    },
    {
     "name": "stdout",
     "output_type": "stream",
     "text": [
      "Progress saved: cleaned_chunk_0, row 1276\r"
     ]
    },
    {
     "name": "stderr",
     "output_type": "stream",
     "text": [
      "Processing cleaned_chunk_0:  13%|███▋                         | 1278/10000 [03:55<18:06,  8.03row/s]"
     ]
    },
    {
     "name": "stdout",
     "output_type": "stream",
     "text": [
      "Progress saved: cleaned_chunk_0, row 1278\r"
     ]
    },
    {
     "name": "stderr",
     "output_type": "stream",
     "text": [
      "Processing cleaned_chunk_0:  13%|███▋                         | 1279/10000 [03:55<24:04,  6.04row/s]"
     ]
    },
    {
     "name": "stdout",
     "output_type": "stream",
     "text": [
      "Progress saved: cleaned_chunk_0, row 1279\r"
     ]
    },
    {
     "name": "stderr",
     "output_type": "stream",
     "text": [
      "Processing cleaned_chunk_0:  13%|███▋                         | 1281/10000 [03:55<25:37,  5.67row/s]"
     ]
    },
    {
     "name": "stdout",
     "output_type": "stream",
     "text": [
      "Progress saved: cleaned_chunk_0, row 1281\r"
     ]
    },
    {
     "name": "stderr",
     "output_type": "stream",
     "text": [
      "Processing cleaned_chunk_0:  13%|███▋                         | 1283/10000 [03:56<21:07,  6.88row/s]"
     ]
    },
    {
     "name": "stdout",
     "output_type": "stream",
     "text": [
      "Progress saved: cleaned_chunk_0, row 1283\r"
     ]
    },
    {
     "name": "stderr",
     "output_type": "stream",
     "text": [
      "Processing cleaned_chunk_0:  13%|███▋                         | 1285/10000 [03:56<20:31,  7.08row/s]"
     ]
    },
    {
     "name": "stdout",
     "output_type": "stream",
     "text": [
      "Progress saved: cleaned_chunk_0, row 1285\r"
     ]
    },
    {
     "name": "stderr",
     "output_type": "stream",
     "text": [
      "Processing cleaned_chunk_0:  13%|███▋                         | 1287/10000 [03:56<20:12,  7.18row/s]"
     ]
    },
    {
     "name": "stdout",
     "output_type": "stream",
     "text": [
      "Progress saved: cleaned_chunk_0, row 1287\r"
     ]
    },
    {
     "name": "stderr",
     "output_type": "stream",
     "text": [
      "Processing cleaned_chunk_0:  13%|███▋                         | 1289/10000 [03:56<18:47,  7.73row/s]"
     ]
    },
    {
     "name": "stdout",
     "output_type": "stream",
     "text": [
      "Progress saved: cleaned_chunk_0, row 1289\r"
     ]
    },
    {
     "name": "stderr",
     "output_type": "stream",
     "text": [
      "Processing cleaned_chunk_0:  13%|███▋                         | 1291/10000 [03:57<17:41,  8.21row/s]"
     ]
    },
    {
     "name": "stdout",
     "output_type": "stream",
     "text": [
      "Progress saved: cleaned_chunk_0, row 1291\r"
     ]
    },
    {
     "name": "stderr",
     "output_type": "stream",
     "text": [
      "Processing cleaned_chunk_0:  13%|███▋                         | 1293/10000 [03:57<18:50,  7.70row/s]"
     ]
    },
    {
     "name": "stdout",
     "output_type": "stream",
     "text": [
      "Progress saved: cleaned_chunk_0, row 1293\r"
     ]
    },
    {
     "name": "stderr",
     "output_type": "stream",
     "text": [
      "Processing cleaned_chunk_0:  13%|███▊                         | 1295/10000 [03:57<18:18,  7.93row/s]"
     ]
    },
    {
     "name": "stdout",
     "output_type": "stream",
     "text": [
      "Progress saved: cleaned_chunk_0, row 1295\r"
     ]
    },
    {
     "name": "stderr",
     "output_type": "stream",
     "text": [
      "Processing cleaned_chunk_0:  13%|███▊                         | 1297/10000 [03:58<23:53,  6.07row/s]"
     ]
    },
    {
     "name": "stdout",
     "output_type": "stream",
     "text": [
      "Progress saved: cleaned_chunk_0, row 1297\r"
     ]
    },
    {
     "name": "stderr",
     "output_type": "stream",
     "text": [
      "Processing cleaned_chunk_0:  13%|███▊                         | 1299/10000 [03:58<22:50,  6.35row/s]"
     ]
    },
    {
     "name": "stdout",
     "output_type": "stream",
     "text": [
      "Progress saved: cleaned_chunk_0, row 1299\r"
     ]
    },
    {
     "name": "stderr",
     "output_type": "stream",
     "text": [
      "Processing cleaned_chunk_0:  13%|███▊                         | 1301/10000 [03:58<21:17,  6.81row/s]"
     ]
    },
    {
     "name": "stdout",
     "output_type": "stream",
     "text": [
      "Progress saved: cleaned_chunk_0, row 1301\r"
     ]
    },
    {
     "name": "stderr",
     "output_type": "stream",
     "text": [
      "Processing cleaned_chunk_0:  13%|███▊                         | 1303/10000 [03:58<19:23,  7.48row/s]"
     ]
    },
    {
     "name": "stdout",
     "output_type": "stream",
     "text": [
      "Progress saved: cleaned_chunk_0, row 1303\r"
     ]
    },
    {
     "name": "stderr",
     "output_type": "stream",
     "text": [
      "Processing cleaned_chunk_0:  13%|███▊                         | 1305/10000 [03:59<19:37,  7.39row/s]"
     ]
    },
    {
     "name": "stdout",
     "output_type": "stream",
     "text": [
      "Progress saved: cleaned_chunk_0, row 1305\r"
     ]
    },
    {
     "name": "stderr",
     "output_type": "stream",
     "text": [
      "Processing cleaned_chunk_0:  13%|███▊                         | 1306/10000 [03:59<19:16,  7.52row/s]"
     ]
    },
    {
     "name": "stdout",
     "output_type": "stream",
     "text": [
      "Progress saved: cleaned_chunk_0, row 1307\r"
     ]
    },
    {
     "name": "stderr",
     "output_type": "stream",
     "text": [
      "Processing cleaned_chunk_0:  13%|███▊                         | 1309/10000 [03:59<24:29,  5.91row/s]"
     ]
    },
    {
     "name": "stdout",
     "output_type": "stream",
     "text": [
      "Progress saved: cleaned_chunk_0, row 1309\r"
     ]
    },
    {
     "name": "stderr",
     "output_type": "stream",
     "text": [
      "Processing cleaned_chunk_0:  13%|███▊                         | 1311/10000 [04:00<23:07,  6.26row/s]"
     ]
    },
    {
     "name": "stdout",
     "output_type": "stream",
     "text": [
      "Progress saved: cleaned_chunk_0, row 1311\r"
     ]
    },
    {
     "name": "stderr",
     "output_type": "stream",
     "text": [
      "Processing cleaned_chunk_0:  13%|███▊                         | 1313/10000 [04:00<21:47,  6.64row/s]"
     ]
    },
    {
     "name": "stdout",
     "output_type": "stream",
     "text": [
      "Progress saved: cleaned_chunk_0, row 1313\r"
     ]
    },
    {
     "name": "stderr",
     "output_type": "stream",
     "text": [
      "Processing cleaned_chunk_0:  13%|███▊                         | 1314/10000 [04:00<23:02,  6.28row/s]"
     ]
    },
    {
     "name": "stdout",
     "output_type": "stream",
     "text": [
      "Progress saved: cleaned_chunk_0, row 1314\r"
     ]
    },
    {
     "name": "stderr",
     "output_type": "stream",
     "text": [
      "Processing cleaned_chunk_0:  13%|███▊                         | 1316/10000 [04:01<28:45,  5.03row/s]"
     ]
    },
    {
     "name": "stdout",
     "output_type": "stream",
     "text": [
      "Progress saved: cleaned_chunk_0, row 1316\r"
     ]
    },
    {
     "name": "stderr",
     "output_type": "stream",
     "text": [
      "Processing cleaned_chunk_0:  13%|███▊                         | 1318/10000 [04:01<25:55,  5.58row/s]"
     ]
    },
    {
     "name": "stdout",
     "output_type": "stream",
     "text": [
      "Progress saved: cleaned_chunk_0, row 1318\r"
     ]
    },
    {
     "name": "stderr",
     "output_type": "stream",
     "text": [
      "Processing cleaned_chunk_0:  13%|███▊                         | 1320/10000 [04:01<24:17,  5.95row/s]"
     ]
    },
    {
     "name": "stdout",
     "output_type": "stream",
     "text": [
      "Progress saved: cleaned_chunk_0, row 1320\r"
     ]
    },
    {
     "name": "stderr",
     "output_type": "stream",
     "text": [
      "Processing cleaned_chunk_0:  13%|███▊                         | 1322/10000 [04:02<22:51,  6.33row/s]"
     ]
    },
    {
     "name": "stdout",
     "output_type": "stream",
     "text": [
      "Progress saved: cleaned_chunk_0, row 1322\r"
     ]
    },
    {
     "name": "stderr",
     "output_type": "stream",
     "text": [
      "Processing cleaned_chunk_0:  13%|███▊                         | 1324/10000 [04:02<22:10,  6.52row/s]"
     ]
    },
    {
     "name": "stdout",
     "output_type": "stream",
     "text": [
      "Progress saved: cleaned_chunk_0, row 1324\r"
     ]
    },
    {
     "name": "stderr",
     "output_type": "stream",
     "text": [
      "Processing cleaned_chunk_0:  13%|███▊                         | 1326/10000 [04:02<22:08,  6.53row/s]"
     ]
    },
    {
     "name": "stdout",
     "output_type": "stream",
     "text": [
      "Progress saved: cleaned_chunk_0, row 1326\r"
     ]
    },
    {
     "name": "stderr",
     "output_type": "stream",
     "text": [
      "Processing cleaned_chunk_0:  13%|███▊                         | 1328/10000 [04:02<22:40,  6.37row/s]"
     ]
    },
    {
     "name": "stdout",
     "output_type": "stream",
     "text": [
      "Progress saved: cleaned_chunk_0, row 1328\r"
     ]
    },
    {
     "name": "stderr",
     "output_type": "stream",
     "text": [
      "Processing cleaned_chunk_0:  13%|███▊                         | 1330/10000 [04:03<21:40,  6.67row/s]"
     ]
    },
    {
     "name": "stdout",
     "output_type": "stream",
     "text": [
      "Progress saved: cleaned_chunk_0, row 1330\r"
     ]
    },
    {
     "name": "stderr",
     "output_type": "stream",
     "text": [
      "Processing cleaned_chunk_0:  13%|███▊                         | 1331/10000 [04:03<23:26,  6.16row/s]"
     ]
    },
    {
     "name": "stdout",
     "output_type": "stream",
     "text": [
      "Progress saved: cleaned_chunk_0, row 1332\r"
     ]
    },
    {
     "name": "stderr",
     "output_type": "stream",
     "text": [
      "Processing cleaned_chunk_0:  13%|███▊                         | 1333/10000 [04:03<26:14,  5.50row/s]"
     ]
    },
    {
     "name": "stdout",
     "output_type": "stream",
     "text": [
      "Progress saved: cleaned_chunk_0, row 1333\r"
     ]
    },
    {
     "name": "stderr",
     "output_type": "stream",
     "text": [
      "Processing cleaned_chunk_0:  13%|███▊                         | 1334/10000 [04:04<27:34,  5.24row/s]"
     ]
    },
    {
     "name": "stdout",
     "output_type": "stream",
     "text": [
      "Progress saved: cleaned_chunk_0, row 1335\r"
     ]
    },
    {
     "name": "stderr",
     "output_type": "stream",
     "text": [
      "Processing cleaned_chunk_0:  13%|███▉                         | 1337/10000 [04:04<23:41,  6.10row/s]"
     ]
    },
    {
     "name": "stdout",
     "output_type": "stream",
     "text": [
      "Progress saved: cleaned_chunk_0, row 1337\r"
     ]
    },
    {
     "name": "stderr",
     "output_type": "stream",
     "text": [
      "Processing cleaned_chunk_0:  13%|███▉                         | 1339/10000 [04:04<23:08,  6.24row/s]"
     ]
    },
    {
     "name": "stdout",
     "output_type": "stream",
     "text": [
      "Progress saved: cleaned_chunk_0, row 1339\r"
     ]
    },
    {
     "name": "stderr",
     "output_type": "stream",
     "text": [
      "Processing cleaned_chunk_0:  13%|███▉                         | 1341/10000 [04:05<21:57,  6.57row/s]"
     ]
    },
    {
     "name": "stdout",
     "output_type": "stream",
     "text": [
      "Progress saved: cleaned_chunk_0, row 1341\r"
     ]
    },
    {
     "name": "stderr",
     "output_type": "stream",
     "text": [
      "Processing cleaned_chunk_0:  13%|███▉                         | 1342/10000 [04:05<21:13,  6.80row/s]"
     ]
    },
    {
     "name": "stdout",
     "output_type": "stream",
     "text": [
      "Progress saved: cleaned_chunk_0, row 1343\r"
     ]
    },
    {
     "name": "stderr",
     "output_type": "stream",
     "text": [
      "Processing cleaned_chunk_0:  13%|███▉                         | 1345/10000 [04:05<21:38,  6.67row/s]"
     ]
    },
    {
     "name": "stdout",
     "output_type": "stream",
     "text": [
      "Progress saved: cleaned_chunk_0, row 1345\r"
     ]
    },
    {
     "name": "stderr",
     "output_type": "stream",
     "text": [
      "Processing cleaned_chunk_0:  13%|███▉                         | 1347/10000 [04:06<23:04,  6.25row/s]"
     ]
    },
    {
     "name": "stdout",
     "output_type": "stream",
     "text": [
      "Progress saved: cleaned_chunk_0, row 1347\r"
     ]
    },
    {
     "name": "stderr",
     "output_type": "stream",
     "text": [
      "Processing cleaned_chunk_0:  13%|███▉                         | 1348/10000 [04:06<26:15,  5.49row/s]"
     ]
    },
    {
     "name": "stdout",
     "output_type": "stream",
     "text": [
      "Progress saved: cleaned_chunk_0, row 1349\r"
     ]
    },
    {
     "name": "stderr",
     "output_type": "stream",
     "text": [
      "Processing cleaned_chunk_0:  14%|███▉                         | 1351/10000 [04:06<22:57,  6.28row/s]"
     ]
    },
    {
     "name": "stdout",
     "output_type": "stream",
     "text": [
      "Progress saved: cleaned_chunk_0, row 1351\r"
     ]
    },
    {
     "name": "stderr",
     "output_type": "stream",
     "text": [
      "Processing cleaned_chunk_0:  14%|███▉                         | 1352/10000 [04:07<28:28,  5.06row/s]"
     ]
    },
    {
     "name": "stdout",
     "output_type": "stream",
     "text": [
      "Progress saved: cleaned_chunk_0, row 1352\r"
     ]
    },
    {
     "name": "stderr",
     "output_type": "stream",
     "text": [
      "Processing cleaned_chunk_0:  14%|███▉                         | 1354/10000 [04:07<31:22,  4.59row/s]"
     ]
    },
    {
     "name": "stdout",
     "output_type": "stream",
     "text": [
      "Progress saved: cleaned_chunk_0, row 1354\r"
     ]
    },
    {
     "name": "stderr",
     "output_type": "stream",
     "text": [
      "Processing cleaned_chunk_0:  14%|███▉                         | 1355/10000 [04:07<30:48,  4.68row/s]"
     ]
    },
    {
     "name": "stdout",
     "output_type": "stream",
     "text": [
      "Progress saved: cleaned_chunk_0, row 1355\r"
     ]
    },
    {
     "name": "stderr",
     "output_type": "stream",
     "text": [
      "Processing cleaned_chunk_0:  14%|███▉                         | 1357/10000 [04:08<32:00,  4.50row/s]"
     ]
    },
    {
     "name": "stdout",
     "output_type": "stream",
     "text": [
      "Progress saved: cleaned_chunk_0, row 1357\r"
     ]
    },
    {
     "name": "stderr",
     "output_type": "stream",
     "text": [
      "Processing cleaned_chunk_0:  14%|███▉                         | 1358/10000 [04:08<29:38,  4.86row/s]"
     ]
    },
    {
     "name": "stdout",
     "output_type": "stream",
     "text": [
      "Progress saved: cleaned_chunk_0, row 1359\r"
     ]
    },
    {
     "name": "stderr",
     "output_type": "stream",
     "text": [
      "Processing cleaned_chunk_0:  14%|███▉                         | 1361/10000 [04:08<24:09,  5.96row/s]"
     ]
    },
    {
     "name": "stdout",
     "output_type": "stream",
     "text": [
      "Progress saved: cleaned_chunk_0, row 1361\r"
     ]
    },
    {
     "name": "stderr",
     "output_type": "stream",
     "text": [
      "Processing cleaned_chunk_0:  14%|███▉                         | 1363/10000 [04:09<24:31,  5.87row/s]"
     ]
    },
    {
     "name": "stdout",
     "output_type": "stream",
     "text": [
      "Progress saved: cleaned_chunk_0, row 1363\r"
     ]
    },
    {
     "name": "stderr",
     "output_type": "stream",
     "text": [
      "Processing cleaned_chunk_0:  14%|███▉                         | 1365/10000 [04:09<23:31,  6.12row/s]"
     ]
    },
    {
     "name": "stdout",
     "output_type": "stream",
     "text": [
      "Progress saved: cleaned_chunk_0, row 1365\r"
     ]
    },
    {
     "name": "stderr",
     "output_type": "stream",
     "text": [
      "Processing cleaned_chunk_0:  14%|███▉                         | 1366/10000 [04:09<23:49,  6.04row/s]"
     ]
    },
    {
     "name": "stdout",
     "output_type": "stream",
     "text": [
      "Progress saved: cleaned_chunk_0, row 1366\r"
     ]
    },
    {
     "name": "stderr",
     "output_type": "stream",
     "text": [
      "Processing cleaned_chunk_0:  14%|███▉                         | 1367/10000 [04:10<33:23,  4.31row/s]"
     ]
    },
    {
     "name": "stdout",
     "output_type": "stream",
     "text": [
      "Progress saved: cleaned_chunk_0, row 1367\r"
     ]
    },
    {
     "name": "stderr",
     "output_type": "stream",
     "text": [
      "Processing cleaned_chunk_0:  14%|███▉                         | 1368/10000 [04:10<44:14,  3.25row/s]"
     ]
    },
    {
     "name": "stdout",
     "output_type": "stream",
     "text": [
      "Progress saved: cleaned_chunk_0, row 1368\r"
     ]
    },
    {
     "name": "stderr",
     "output_type": "stream",
     "text": [
      "Processing cleaned_chunk_0:  14%|███▉                         | 1370/10000 [04:11<40:30,  3.55row/s]"
     ]
    },
    {
     "name": "stdout",
     "output_type": "stream",
     "text": [
      "Progress saved: cleaned_chunk_0, row 1370\r"
     ]
    },
    {
     "name": "stderr",
     "output_type": "stream",
     "text": [
      "Processing cleaned_chunk_0:  14%|███▉                         | 1371/10000 [04:11<35:42,  4.03row/s]"
     ]
    },
    {
     "name": "stdout",
     "output_type": "stream",
     "text": [
      "Progress saved: cleaned_chunk_0, row 1372\r"
     ]
    },
    {
     "name": "stderr",
     "output_type": "stream",
     "text": [
      "Processing cleaned_chunk_0:  14%|███▉                         | 1373/10000 [04:12<48:00,  3.00row/s]"
     ]
    },
    {
     "name": "stdout",
     "output_type": "stream",
     "text": [
      "Progress saved: cleaned_chunk_0, row 1373\r"
     ]
    },
    {
     "name": "stderr",
     "output_type": "stream",
     "text": [
      "Processing cleaned_chunk_0:  14%|███▉                         | 1374/10000 [04:12<58:47,  2.45row/s]"
     ]
    },
    {
     "name": "stdout",
     "output_type": "stream",
     "text": [
      "Progress saved: cleaned_chunk_0, row 1374\r"
     ]
    },
    {
     "name": "stderr",
     "output_type": "stream",
     "text": [
      "Processing cleaned_chunk_0:  14%|███▉                         | 1375/10000 [04:13<57:37,  2.49row/s]"
     ]
    },
    {
     "name": "stdout",
     "output_type": "stream",
     "text": [
      "Progress saved: cleaned_chunk_0, row 1376\r"
     ]
    },
    {
     "name": "stderr",
     "output_type": "stream",
     "text": [
      "Processing cleaned_chunk_0:  14%|███▉                         | 1377/10000 [04:13<57:00,  2.52row/s]"
     ]
    },
    {
     "name": "stdout",
     "output_type": "stream",
     "text": [
      "Progress saved: cleaned_chunk_0, row 1377\r"
     ]
    },
    {
     "name": "stderr",
     "output_type": "stream",
     "text": [
      "Processing cleaned_chunk_0:  14%|███▉                         | 1378/10000 [04:14<59:05,  2.43row/s]"
     ]
    },
    {
     "name": "stdout",
     "output_type": "stream",
     "text": [
      "Progress saved: cleaned_chunk_0, row 1378\r"
     ]
    },
    {
     "name": "stderr",
     "output_type": "stream",
     "text": [
      "Processing cleaned_chunk_0:  14%|███▋                       | 1379/10000 [04:15<1:19:13,  1.81row/s]"
     ]
    },
    {
     "name": "stdout",
     "output_type": "stream",
     "text": [
      "Progress saved: cleaned_chunk_0, row 1379\r"
     ]
    },
    {
     "name": "stderr",
     "output_type": "stream",
     "text": [
      "Processing cleaned_chunk_0:  14%|████                         | 1381/10000 [04:15<55:05,  2.61row/s]"
     ]
    },
    {
     "name": "stdout",
     "output_type": "stream",
     "text": [
      "Progress saved: cleaned_chunk_0, row 1381\r"
     ]
    },
    {
     "name": "stderr",
     "output_type": "stream",
     "text": [
      "Processing cleaned_chunk_0:  14%|███▋                       | 1382/10000 [04:16<1:04:10,  2.24row/s]"
     ]
    },
    {
     "name": "stdout",
     "output_type": "stream",
     "text": [
      "Progress saved: cleaned_chunk_0, row 1382\r"
     ]
    },
    {
     "name": "stderr",
     "output_type": "stream",
     "text": [
      "Processing cleaned_chunk_0:  14%|████                         | 1384/10000 [04:17<57:39,  2.49row/s]"
     ]
    },
    {
     "name": "stdout",
     "output_type": "stream",
     "text": [
      "Progress saved: cleaned_chunk_0, row 1384\r"
     ]
    },
    {
     "name": "stderr",
     "output_type": "stream",
     "text": [
      "Processing cleaned_chunk_0:  14%|████                         | 1385/10000 [04:17<47:44,  3.01row/s]"
     ]
    },
    {
     "name": "stdout",
     "output_type": "stream",
     "text": [
      "Progress saved: cleaned_chunk_0, row 1386\r"
     ]
    },
    {
     "name": "stderr",
     "output_type": "stream",
     "text": [
      "Processing cleaned_chunk_0:  14%|████                         | 1388/10000 [04:17<29:29,  4.87row/s]"
     ]
    },
    {
     "name": "stdout",
     "output_type": "stream",
     "text": [
      "Progress saved: cleaned_chunk_0, row 1388\r"
     ]
    },
    {
     "name": "stderr",
     "output_type": "stream",
     "text": [
      "Processing cleaned_chunk_0:  14%|████                         | 1389/10000 [04:17<26:17,  5.46row/s]"
     ]
    },
    {
     "name": "stdout",
     "output_type": "stream",
     "text": [
      "Progress saved: cleaned_chunk_0, row 1389\r"
     ]
    },
    {
     "name": "stderr",
     "output_type": "stream",
     "text": [
      "Processing cleaned_chunk_0:  14%|████                         | 1390/10000 [04:18<38:01,  3.77row/s]"
     ]
    },
    {
     "name": "stdout",
     "output_type": "stream",
     "text": [
      "Progress saved: cleaned_chunk_0, row 1390\r"
     ]
    },
    {
     "name": "stderr",
     "output_type": "stream",
     "text": [
      "Processing cleaned_chunk_0:  14%|████                         | 1391/10000 [04:18<47:33,  3.02row/s]"
     ]
    },
    {
     "name": "stdout",
     "output_type": "stream",
     "text": [
      "Progress saved: cleaned_chunk_0, row 1391\r"
     ]
    },
    {
     "name": "stderr",
     "output_type": "stream",
     "text": [
      "Processing cleaned_chunk_0:  14%|████                         | 1393/10000 [04:19<36:18,  3.95row/s]"
     ]
    },
    {
     "name": "stdout",
     "output_type": "stream",
     "text": [
      "Progress saved: cleaned_chunk_0, row 1393\r"
     ]
    },
    {
     "name": "stderr",
     "output_type": "stream",
     "text": [
      "Processing cleaned_chunk_0:  14%|████                         | 1394/10000 [04:19<30:36,  4.69row/s]"
     ]
    },
    {
     "name": "stdout",
     "output_type": "stream",
     "text": [
      "Progress saved: cleaned_chunk_0, row 1394\r"
     ]
    },
    {
     "name": "stderr",
     "output_type": "stream",
     "text": [
      "Processing cleaned_chunk_0:  14%|████                         | 1395/10000 [04:19<40:36,  3.53row/s]"
     ]
    },
    {
     "name": "stdout",
     "output_type": "stream",
     "text": [
      "Progress saved: cleaned_chunk_0, row 1395\r"
     ]
    },
    {
     "name": "stderr",
     "output_type": "stream",
     "text": [
      "Processing cleaned_chunk_0:  14%|████                         | 1397/10000 [04:20<39:24,  3.64row/s]"
     ]
    },
    {
     "name": "stdout",
     "output_type": "stream",
     "text": [
      "Progress saved: cleaned_chunk_0, row 1397\r"
     ]
    },
    {
     "name": "stderr",
     "output_type": "stream",
     "text": [
      "Processing cleaned_chunk_0:  14%|████                         | 1399/10000 [04:20<29:23,  4.88row/s]"
     ]
    },
    {
     "name": "stdout",
     "output_type": "stream",
     "text": [
      "Progress saved: cleaned_chunk_0, row 1399\r"
     ]
    },
    {
     "name": "stderr",
     "output_type": "stream",
     "text": [
      "Processing cleaned_chunk_0:  14%|████                         | 1401/10000 [04:20<24:01,  5.96row/s]"
     ]
    },
    {
     "name": "stdout",
     "output_type": "stream",
     "text": [
      "Progress saved: cleaned_chunk_0, row 1401\r"
     ]
    },
    {
     "name": "stderr",
     "output_type": "stream",
     "text": [
      "Processing cleaned_chunk_0:  14%|████                         | 1402/10000 [04:20<21:38,  6.62row/s]"
     ]
    },
    {
     "name": "stdout",
     "output_type": "stream",
     "text": [
      "Progress saved: cleaned_chunk_0, row 1402\r"
     ]
    },
    {
     "name": "stderr",
     "output_type": "stream",
     "text": [
      "Processing cleaned_chunk_0:  14%|████                         | 1404/10000 [04:21<34:06,  4.20row/s]"
     ]
    },
    {
     "name": "stdout",
     "output_type": "stream",
     "text": [
      "Progress saved: cleaned_chunk_0, row 1404\r"
     ]
    },
    {
     "name": "stderr",
     "output_type": "stream",
     "text": [
      "Processing cleaned_chunk_0:  14%|████                         | 1405/10000 [04:21<35:59,  3.98row/s]"
     ]
    },
    {
     "name": "stdout",
     "output_type": "stream",
     "text": [
      "Progress saved: cleaned_chunk_0, row 1405\r"
     ]
    },
    {
     "name": "stderr",
     "output_type": "stream",
     "text": [
      "Processing cleaned_chunk_0:  14%|████                         | 1406/10000 [04:22<43:53,  3.26row/s]"
     ]
    },
    {
     "name": "stdout",
     "output_type": "stream",
     "text": [
      "Progress saved: cleaned_chunk_0, row 1406\r"
     ]
    },
    {
     "name": "stderr",
     "output_type": "stream",
     "text": [
      "Processing cleaned_chunk_0:  14%|████                         | 1407/10000 [04:22<51:39,  2.77row/s]"
     ]
    },
    {
     "name": "stdout",
     "output_type": "stream",
     "text": [
      "Progress saved: cleaned_chunk_0, row 1407\r"
     ]
    },
    {
     "name": "stderr",
     "output_type": "stream",
     "text": [
      "Processing cleaned_chunk_0:  14%|████                         | 1408/10000 [04:23<57:59,  2.47row/s]"
     ]
    },
    {
     "name": "stdout",
     "output_type": "stream",
     "text": [
      "Progress saved: cleaned_chunk_0, row 1408\r"
     ]
    },
    {
     "name": "stderr",
     "output_type": "stream",
     "text": [
      "Processing cleaned_chunk_0:  14%|████                         | 1409/10000 [04:23<58:41,  2.44row/s]"
     ]
    },
    {
     "name": "stdout",
     "output_type": "stream",
     "text": [
      "Progress saved: cleaned_chunk_0, row 1409\r"
     ]
    },
    {
     "name": "stderr",
     "output_type": "stream",
     "text": [
      "Processing cleaned_chunk_0:  14%|████                         | 1410/10000 [04:24<58:47,  2.43row/s]"
     ]
    },
    {
     "name": "stdout",
     "output_type": "stream",
     "text": [
      "Progress saved: cleaned_chunk_0, row 1410\r"
     ]
    },
    {
     "name": "stderr",
     "output_type": "stream",
     "text": [
      "Processing cleaned_chunk_0:  14%|███▊                       | 1411/10000 [04:24<1:02:16,  2.30row/s]"
     ]
    },
    {
     "name": "stdout",
     "output_type": "stream",
     "text": [
      "Progress saved: cleaned_chunk_0, row 1411\r"
     ]
    },
    {
     "name": "stderr",
     "output_type": "stream",
     "text": [
      "Processing cleaned_chunk_0:  14%|███▊                       | 1412/10000 [04:25<1:05:00,  2.20row/s]"
     ]
    },
    {
     "name": "stdout",
     "output_type": "stream",
     "text": [
      "Progress saved: cleaned_chunk_0, row 1412\r"
     ]
    },
    {
     "name": "stderr",
     "output_type": "stream",
     "text": [
      "Processing cleaned_chunk_0:  14%|████                         | 1414/10000 [04:25<53:17,  2.69row/s]"
     ]
    },
    {
     "name": "stdout",
     "output_type": "stream",
     "text": [
      "Progress saved: cleaned_chunk_0, row 1414\r"
     ]
    },
    {
     "name": "stderr",
     "output_type": "stream",
     "text": [
      "Processing cleaned_chunk_0:  14%|████                         | 1416/10000 [04:26<36:14,  3.95row/s]"
     ]
    },
    {
     "name": "stdout",
     "output_type": "stream",
     "text": [
      "Progress saved: cleaned_chunk_0, row 1416\r"
     ]
    },
    {
     "name": "stderr",
     "output_type": "stream",
     "text": [
      "Processing cleaned_chunk_0:  14%|████                         | 1418/10000 [04:26<28:55,  4.95row/s]"
     ]
    },
    {
     "name": "stdout",
     "output_type": "stream",
     "text": [
      "Progress saved: cleaned_chunk_0, row 1418\r"
     ]
    },
    {
     "name": "stderr",
     "output_type": "stream",
     "text": [
      "Processing cleaned_chunk_0:  14%|████                         | 1420/10000 [04:26<23:34,  6.07row/s]"
     ]
    },
    {
     "name": "stdout",
     "output_type": "stream",
     "text": [
      "Progress saved: cleaned_chunk_0, row 1420\r"
     ]
    },
    {
     "name": "stderr",
     "output_type": "stream",
     "text": [
      "Processing cleaned_chunk_0:  14%|████                         | 1421/10000 [04:27<39:28,  3.62row/s]"
     ]
    },
    {
     "name": "stdout",
     "output_type": "stream",
     "text": [
      "Progress saved: cleaned_chunk_0, row 1421\r"
     ]
    },
    {
     "name": "stderr",
     "output_type": "stream",
     "text": [
      "Processing cleaned_chunk_0:  14%|████                         | 1422/10000 [04:27<38:35,  3.70row/s]"
     ]
    },
    {
     "name": "stdout",
     "output_type": "stream",
     "text": [
      "Progress saved: cleaned_chunk_0, row 1422\r"
     ]
    },
    {
     "name": "stderr",
     "output_type": "stream",
     "text": [
      "Processing cleaned_chunk_0:  14%|████▏                        | 1424/10000 [04:27<33:32,  4.26row/s]"
     ]
    },
    {
     "name": "stdout",
     "output_type": "stream",
     "text": [
      "Progress saved: cleaned_chunk_0, row 1424\r"
     ]
    },
    {
     "name": "stderr",
     "output_type": "stream",
     "text": [
      "Processing cleaned_chunk_0:  14%|████▏                        | 1426/10000 [04:28<27:21,  5.22row/s]"
     ]
    },
    {
     "name": "stdout",
     "output_type": "stream",
     "text": [
      "Progress saved: cleaned_chunk_0, row 1426\r"
     ]
    },
    {
     "name": "stderr",
     "output_type": "stream",
     "text": [
      "Processing cleaned_chunk_0:  14%|████▏                        | 1427/10000 [04:28<45:35,  3.13row/s]"
     ]
    },
    {
     "name": "stdout",
     "output_type": "stream",
     "text": [
      "Progress saved: cleaned_chunk_0, row 1427\r"
     ]
    },
    {
     "name": "stderr",
     "output_type": "stream",
     "text": [
      "Processing cleaned_chunk_0:  14%|████▏                        | 1429/10000 [04:29<33:47,  4.23row/s]"
     ]
    },
    {
     "name": "stdout",
     "output_type": "stream",
     "text": [
      "Progress saved: cleaned_chunk_0, row 1429\r"
     ]
    },
    {
     "name": "stderr",
     "output_type": "stream",
     "text": [
      "Processing cleaned_chunk_0:  14%|████▏                        | 1431/10000 [04:29<27:18,  5.23row/s]"
     ]
    },
    {
     "name": "stdout",
     "output_type": "stream",
     "text": [
      "Progress saved: cleaned_chunk_0, row 1431\r"
     ]
    },
    {
     "name": "stderr",
     "output_type": "stream",
     "text": [
      "Processing cleaned_chunk_0:  14%|████▏                        | 1433/10000 [04:29<21:25,  6.66row/s]"
     ]
    },
    {
     "name": "stdout",
     "output_type": "stream",
     "text": [
      "Progress saved: cleaned_chunk_0, row 1433\r"
     ]
    },
    {
     "name": "stderr",
     "output_type": "stream",
     "text": [
      "Processing cleaned_chunk_0:  14%|████▏                        | 1435/10000 [04:30<28:23,  5.03row/s]"
     ]
    },
    {
     "name": "stdout",
     "output_type": "stream",
     "text": [
      "Progress saved: cleaned_chunk_0, row 1435\r"
     ]
    },
    {
     "name": "stderr",
     "output_type": "stream",
     "text": [
      "Processing cleaned_chunk_0:  14%|████▏                        | 1437/10000 [04:30<25:29,  5.60row/s]"
     ]
    },
    {
     "name": "stdout",
     "output_type": "stream",
     "text": [
      "Progress saved: cleaned_chunk_0, row 1437\r"
     ]
    },
    {
     "name": "stderr",
     "output_type": "stream",
     "text": [
      "Processing cleaned_chunk_0:  14%|████▏                        | 1439/10000 [04:30<24:16,  5.88row/s]"
     ]
    },
    {
     "name": "stdout",
     "output_type": "stream",
     "text": [
      "Progress saved: cleaned_chunk_0, row 1439\r"
     ]
    },
    {
     "name": "stderr",
     "output_type": "stream",
     "text": [
      "Processing cleaned_chunk_0:  14%|████▏                        | 1441/10000 [04:31<24:25,  5.84row/s]"
     ]
    },
    {
     "name": "stdout",
     "output_type": "stream",
     "text": [
      "Progress saved: cleaned_chunk_0, row 1441\r"
     ]
    },
    {
     "name": "stderr",
     "output_type": "stream",
     "text": [
      "Processing cleaned_chunk_0:  14%|████▏                        | 1443/10000 [04:31<23:05,  6.18row/s]"
     ]
    },
    {
     "name": "stdout",
     "output_type": "stream",
     "text": [
      "Progress saved: cleaned_chunk_0, row 1443\r"
     ]
    },
    {
     "name": "stderr",
     "output_type": "stream",
     "text": [
      "Processing cleaned_chunk_0:  14%|████▏                        | 1444/10000 [04:31<23:58,  5.95row/s]"
     ]
    },
    {
     "name": "stdout",
     "output_type": "stream",
     "text": [
      "Progress saved: cleaned_chunk_0, row 1444\r"
     ]
    },
    {
     "name": "stderr",
     "output_type": "stream",
     "text": [
      "Processing cleaned_chunk_0:  14%|████▏                        | 1446/10000 [04:32<29:16,  4.87row/s]"
     ]
    },
    {
     "name": "stdout",
     "output_type": "stream",
     "text": [
      "Progress saved: cleaned_chunk_0, row 1446\r"
     ]
    },
    {
     "name": "stderr",
     "output_type": "stream",
     "text": [
      "Processing cleaned_chunk_0:  14%|████▏                        | 1447/10000 [04:32<26:09,  5.45row/s]"
     ]
    },
    {
     "name": "stdout",
     "output_type": "stream",
     "text": [
      "Progress saved: cleaned_chunk_0, row 1448\r"
     ]
    },
    {
     "name": "stderr",
     "output_type": "stream",
     "text": [
      "Processing cleaned_chunk_0:  14%|████▏                        | 1449/10000 [04:32<25:31,  5.58row/s]"
     ]
    },
    {
     "name": "stdout",
     "output_type": "stream",
     "text": [
      "Progress saved: cleaned_chunk_0, row 1449\r"
     ]
    },
    {
     "name": "stderr",
     "output_type": "stream",
     "text": [
      "Processing cleaned_chunk_0:  15%|████▏                        | 1451/10000 [04:33<28:51,  4.94row/s]"
     ]
    },
    {
     "name": "stdout",
     "output_type": "stream",
     "text": [
      "Progress saved: cleaned_chunk_0, row 1451\r"
     ]
    },
    {
     "name": "stderr",
     "output_type": "stream",
     "text": [
      "Processing cleaned_chunk_0:  15%|████▏                        | 1453/10000 [04:33<23:16,  6.12row/s]"
     ]
    },
    {
     "name": "stdout",
     "output_type": "stream",
     "text": [
      "Progress saved: cleaned_chunk_0, row 1453\r"
     ]
    },
    {
     "name": "stderr",
     "output_type": "stream",
     "text": [
      "Processing cleaned_chunk_0:  15%|████▏                        | 1454/10000 [04:33<23:41,  6.01row/s]"
     ]
    },
    {
     "name": "stdout",
     "output_type": "stream",
     "text": [
      "Progress saved: cleaned_chunk_0, row 1454\r"
     ]
    },
    {
     "name": "stderr",
     "output_type": "stream",
     "text": [
      "Processing cleaned_chunk_0:  15%|████▏                        | 1455/10000 [04:33<26:07,  5.45row/s]"
     ]
    },
    {
     "name": "stdout",
     "output_type": "stream",
     "text": [
      "Progress saved: cleaned_chunk_0, row 1455\r"
     ]
    },
    {
     "name": "stderr",
     "output_type": "stream",
     "text": [
      "Processing cleaned_chunk_0:  15%|████▏                        | 1457/10000 [04:34<29:01,  4.91row/s]"
     ]
    },
    {
     "name": "stdout",
     "output_type": "stream",
     "text": [
      "Progress saved: cleaned_chunk_0, row 1457\r"
     ]
    },
    {
     "name": "stderr",
     "output_type": "stream",
     "text": [
      "Processing cleaned_chunk_0:  15%|████▏                        | 1458/10000 [04:34<26:08,  5.45row/s]"
     ]
    },
    {
     "name": "stdout",
     "output_type": "stream",
     "text": [
      "Progress saved: cleaned_chunk_0, row 1458\r"
     ]
    },
    {
     "name": "stderr",
     "output_type": "stream",
     "text": [
      "Processing cleaned_chunk_0:  15%|████▏                        | 1459/10000 [04:34<30:55,  4.60row/s]"
     ]
    },
    {
     "name": "stdout",
     "output_type": "stream",
     "text": [
      "Progress saved: cleaned_chunk_0, row 1459\r"
     ]
    },
    {
     "name": "stderr",
     "output_type": "stream",
     "text": [
      "Processing cleaned_chunk_0:  15%|████▏                        | 1460/10000 [04:34<31:33,  4.51row/s]"
     ]
    },
    {
     "name": "stdout",
     "output_type": "stream",
     "text": [
      "Progress saved: cleaned_chunk_0, row 1461\r"
     ]
    },
    {
     "name": "stderr",
     "output_type": "stream",
     "text": [
      "Processing cleaned_chunk_0:  15%|████▏                        | 1463/10000 [04:35<27:24,  5.19row/s]"
     ]
    },
    {
     "name": "stdout",
     "output_type": "stream",
     "text": [
      "Progress saved: cleaned_chunk_0, row 1463\r"
     ]
    },
    {
     "name": "stderr",
     "output_type": "stream",
     "text": [
      "Processing cleaned_chunk_0:  15%|████▏                        | 1465/10000 [04:35<26:36,  5.35row/s]"
     ]
    },
    {
     "name": "stdout",
     "output_type": "stream",
     "text": [
      "Progress saved: cleaned_chunk_0, row 1465\r"
     ]
    },
    {
     "name": "stderr",
     "output_type": "stream",
     "text": [
      "Processing cleaned_chunk_0:  15%|████▎                        | 1466/10000 [04:36<28:08,  5.05row/s]"
     ]
    },
    {
     "name": "stdout",
     "output_type": "stream",
     "text": [
      "Progress saved: cleaned_chunk_0, row 1466\r"
     ]
    },
    {
     "name": "stderr",
     "output_type": "stream",
     "text": [
      "Processing cleaned_chunk_0:  15%|████▎                        | 1468/10000 [04:36<34:40,  4.10row/s]"
     ]
    },
    {
     "name": "stdout",
     "output_type": "stream",
     "text": [
      "Progress saved: cleaned_chunk_0, row 1468\r"
     ]
    },
    {
     "name": "stderr",
     "output_type": "stream",
     "text": [
      "Processing cleaned_chunk_0:  15%|████▎                        | 1470/10000 [04:36<28:17,  5.03row/s]"
     ]
    },
    {
     "name": "stdout",
     "output_type": "stream",
     "text": [
      "Progress saved: cleaned_chunk_0, row 1470\r"
     ]
    },
    {
     "name": "stderr",
     "output_type": "stream",
     "text": [
      "Processing cleaned_chunk_0:  15%|████▎                        | 1471/10000 [04:37<27:08,  5.24row/s]"
     ]
    },
    {
     "name": "stdout",
     "output_type": "stream",
     "text": [
      "Progress saved: cleaned_chunk_0, row 1472\r"
     ]
    },
    {
     "name": "stderr",
     "output_type": "stream",
     "text": [
      "Processing cleaned_chunk_0:  15%|████▎                        | 1473/10000 [04:37<26:20,  5.40row/s]"
     ]
    },
    {
     "name": "stdout",
     "output_type": "stream",
     "text": [
      "Progress saved: cleaned_chunk_0, row 1473\r"
     ]
    },
    {
     "name": "stderr",
     "output_type": "stream",
     "text": [
      "Processing cleaned_chunk_0:  15%|████▎                        | 1474/10000 [04:38<49:55,  2.85row/s]"
     ]
    },
    {
     "name": "stdout",
     "output_type": "stream",
     "text": [
      "Progress saved: cleaned_chunk_0, row 1474\r"
     ]
    },
    {
     "name": "stderr",
     "output_type": "stream",
     "text": [
      "Processing cleaned_chunk_0:  15%|████▎                        | 1475/10000 [04:38<59:26,  2.39row/s]"
     ]
    },
    {
     "name": "stdout",
     "output_type": "stream",
     "text": [
      "Progress saved: cleaned_chunk_0, row 1475\r"
     ]
    },
    {
     "name": "stderr",
     "output_type": "stream",
     "text": [
      "Processing cleaned_chunk_0:  15%|███▉                       | 1476/10000 [04:39<1:11:43,  1.98row/s]"
     ]
    },
    {
     "name": "stdout",
     "output_type": "stream",
     "text": [
      "Progress saved: cleaned_chunk_0, row 1477\r"
     ]
    },
    {
     "name": "stderr",
     "output_type": "stream",
     "text": [
      "Processing cleaned_chunk_0:  15%|████▎                        | 1479/10000 [04:40<39:27,  3.60row/s]"
     ]
    },
    {
     "name": "stdout",
     "output_type": "stream",
     "text": [
      "Progress saved: cleaned_chunk_0, row 1479\r"
     ]
    },
    {
     "name": "stderr",
     "output_type": "stream",
     "text": [
      "Processing cleaned_chunk_0:  15%|████▎                        | 1480/10000 [04:40<33:09,  4.28row/s]"
     ]
    },
    {
     "name": "stdout",
     "output_type": "stream",
     "text": [
      "Progress saved: cleaned_chunk_0, row 1480\r"
     ]
    },
    {
     "name": "stderr",
     "output_type": "stream",
     "text": [
      "Processing cleaned_chunk_0:  15%|████▎                        | 1482/10000 [04:40<33:57,  4.18row/s]"
     ]
    },
    {
     "name": "stdout",
     "output_type": "stream",
     "text": [
      "Progress saved: cleaned_chunk_0, row 1482\r"
     ]
    },
    {
     "name": "stderr",
     "output_type": "stream",
     "text": [
      "Processing cleaned_chunk_0:  15%|████▎                        | 1483/10000 [04:40<31:33,  4.50row/s]"
     ]
    },
    {
     "name": "stdout",
     "output_type": "stream",
     "text": [
      "Progress saved: cleaned_chunk_0, row 1483\r"
     ]
    },
    {
     "name": "stderr",
     "output_type": "stream",
     "text": [
      "Processing cleaned_chunk_0:  15%|████▎                        | 1484/10000 [04:41<32:14,  4.40row/s]"
     ]
    },
    {
     "name": "stdout",
     "output_type": "stream",
     "text": [
      "Progress saved: cleaned_chunk_0, row 1485\r"
     ]
    },
    {
     "name": "stderr",
     "output_type": "stream",
     "text": [
      "Processing cleaned_chunk_0:  15%|████▎                        | 1486/10000 [04:41<30:17,  4.68row/s]"
     ]
    },
    {
     "name": "stdout",
     "output_type": "stream",
     "text": [
      "Progress saved: cleaned_chunk_0, row 1486\r"
     ]
    },
    {
     "name": "stderr",
     "output_type": "stream",
     "text": [
      "Processing cleaned_chunk_0:  15%|████▎                        | 1487/10000 [04:41<41:03,  3.46row/s]"
     ]
    },
    {
     "name": "stdout",
     "output_type": "stream",
     "text": [
      "Progress saved: cleaned_chunk_0, row 1487\r"
     ]
    },
    {
     "name": "stderr",
     "output_type": "stream",
     "text": [
      "Processing cleaned_chunk_0:  15%|████▎                        | 1488/10000 [04:42<41:44,  3.40row/s]"
     ]
    },
    {
     "name": "stdout",
     "output_type": "stream",
     "text": [
      "Progress saved: cleaned_chunk_0, row 1488\r"
     ]
    },
    {
     "name": "stderr",
     "output_type": "stream",
     "text": [
      "Processing cleaned_chunk_0:  15%|████▎                        | 1489/10000 [04:42<42:45,  3.32row/s]"
     ]
    },
    {
     "name": "stdout",
     "output_type": "stream",
     "text": [
      "Progress saved: cleaned_chunk_0, row 1489\r"
     ]
    },
    {
     "name": "stderr",
     "output_type": "stream",
     "text": [
      "Processing cleaned_chunk_0:  15%|████▎                        | 1491/10000 [04:43<38:33,  3.68row/s]"
     ]
    },
    {
     "name": "stdout",
     "output_type": "stream",
     "text": [
      "Progress saved: cleaned_chunk_0, row 1491\r"
     ]
    },
    {
     "name": "stderr",
     "output_type": "stream",
     "text": [
      "Processing cleaned_chunk_0:  15%|████▎                        | 1492/10000 [04:43<34:14,  4.14row/s]"
     ]
    },
    {
     "name": "stdout",
     "output_type": "stream",
     "text": [
      "Progress saved: cleaned_chunk_0, row 1492\r"
     ]
    },
    {
     "name": "stderr",
     "output_type": "stream",
     "text": [
      "Processing cleaned_chunk_0:  15%|████▎                        | 1493/10000 [04:43<35:38,  3.98row/s]"
     ]
    },
    {
     "name": "stdout",
     "output_type": "stream",
     "text": [
      "Progress saved: cleaned_chunk_0, row 1493\r"
     ]
    },
    {
     "name": "stderr",
     "output_type": "stream",
     "text": [
      "Processing cleaned_chunk_0:  15%|████▎                        | 1494/10000 [04:43<34:11,  4.15row/s]"
     ]
    },
    {
     "name": "stdout",
     "output_type": "stream",
     "text": [
      "Progress saved: cleaned_chunk_0, row 1495\r"
     ]
    },
    {
     "name": "stderr",
     "output_type": "stream",
     "text": [
      "Processing cleaned_chunk_0:  15%|████▎                        | 1496/10000 [04:44<29:30,  4.80row/s]"
     ]
    },
    {
     "name": "stdout",
     "output_type": "stream",
     "text": [
      "Progress saved: cleaned_chunk_0, row 1497\r"
     ]
    },
    {
     "name": "stderr",
     "output_type": "stream",
     "text": [
      "Processing cleaned_chunk_0:  15%|████▎                        | 1499/10000 [04:44<26:58,  5.25row/s]"
     ]
    },
    {
     "name": "stdout",
     "output_type": "stream",
     "text": [
      "Progress saved: cleaned_chunk_0, row 1499\r"
     ]
    },
    {
     "name": "stderr",
     "output_type": "stream",
     "text": [
      "Processing cleaned_chunk_0:  15%|████▎                        | 1500/10000 [04:44<31:50,  4.45row/s]"
     ]
    },
    {
     "name": "stdout",
     "output_type": "stream",
     "text": [
      "Progress saved: cleaned_chunk_0, row 1500\r"
     ]
    },
    {
     "name": "stderr",
     "output_type": "stream",
     "text": [
      "Processing cleaned_chunk_0:  15%|████▎                        | 1501/10000 [04:45<34:47,  4.07row/s]"
     ]
    },
    {
     "name": "stdout",
     "output_type": "stream",
     "text": [
      "Progress saved: cleaned_chunk_0, row 1501\r"
     ]
    },
    {
     "name": "stderr",
     "output_type": "stream",
     "text": [
      "Processing cleaned_chunk_0:  15%|████▎                        | 1503/10000 [04:45<32:30,  4.36row/s]"
     ]
    },
    {
     "name": "stdout",
     "output_type": "stream",
     "text": [
      "Progress saved: cleaned_chunk_0, row 1503\r"
     ]
    },
    {
     "name": "stderr",
     "output_type": "stream",
     "text": [
      "Processing cleaned_chunk_0:  15%|████▎                        | 1505/10000 [04:46<26:38,  5.31row/s]"
     ]
    },
    {
     "name": "stdout",
     "output_type": "stream",
     "text": [
      "Progress saved: cleaned_chunk_0, row 1505\r"
     ]
    },
    {
     "name": "stderr",
     "output_type": "stream",
     "text": [
      "Processing cleaned_chunk_0:  15%|████▎                        | 1507/10000 [04:46<23:49,  5.94row/s]"
     ]
    },
    {
     "name": "stdout",
     "output_type": "stream",
     "text": [
      "Progress saved: cleaned_chunk_0, row 1507\r"
     ]
    },
    {
     "name": "stderr",
     "output_type": "stream",
     "text": [
      "Processing cleaned_chunk_0:  15%|████▍                        | 1509/10000 [04:46<21:14,  6.66row/s]"
     ]
    },
    {
     "name": "stdout",
     "output_type": "stream",
     "text": [
      "Progress saved: cleaned_chunk_0, row 1509\r"
     ]
    },
    {
     "name": "stderr",
     "output_type": "stream",
     "text": [
      "Processing cleaned_chunk_0:  15%|████▍                        | 1511/10000 [04:46<18:56,  7.47row/s]"
     ]
    },
    {
     "name": "stdout",
     "output_type": "stream",
     "text": [
      "Progress saved: cleaned_chunk_0, row 1511\r"
     ]
    },
    {
     "name": "stderr",
     "output_type": "stream",
     "text": [
      "Processing cleaned_chunk_0:  15%|████▍                        | 1513/10000 [04:47<20:01,  7.06row/s]"
     ]
    },
    {
     "name": "stdout",
     "output_type": "stream",
     "text": [
      "Progress saved: cleaned_chunk_0, row 1513\r"
     ]
    },
    {
     "name": "stderr",
     "output_type": "stream",
     "text": [
      "Processing cleaned_chunk_0:  15%|████▍                        | 1514/10000 [04:47<18:33,  7.62row/s]"
     ]
    },
    {
     "name": "stdout",
     "output_type": "stream",
     "text": [
      "Progress saved: cleaned_chunk_0, row 1514\r"
     ]
    },
    {
     "name": "stderr",
     "output_type": "stream",
     "text": [
      "Processing cleaned_chunk_0:  15%|████▍                        | 1516/10000 [04:47<21:57,  6.44row/s]"
     ]
    },
    {
     "name": "stdout",
     "output_type": "stream",
     "text": [
      "Progress saved: cleaned_chunk_0, row 1516\r"
     ]
    },
    {
     "name": "stderr",
     "output_type": "stream",
     "text": [
      "Processing cleaned_chunk_0:  15%|████▍                        | 1517/10000 [04:47<30:32,  4.63row/s]"
     ]
    },
    {
     "name": "stdout",
     "output_type": "stream",
     "text": [
      "Progress saved: cleaned_chunk_0, row 1517\r"
     ]
    },
    {
     "name": "stderr",
     "output_type": "stream",
     "text": [
      "Processing cleaned_chunk_0:  15%|████▍                        | 1519/10000 [04:48<27:57,  5.05row/s]"
     ]
    },
    {
     "name": "stdout",
     "output_type": "stream",
     "text": [
      "Progress saved: cleaned_chunk_0, row 1519\r"
     ]
    },
    {
     "name": "stderr",
     "output_type": "stream",
     "text": [
      "Processing cleaned_chunk_0:  15%|████▍                        | 1521/10000 [04:48<23:46,  5.94row/s]"
     ]
    },
    {
     "name": "stdout",
     "output_type": "stream",
     "text": [
      "Progress saved: cleaned_chunk_0, row 1521\r"
     ]
    },
    {
     "name": "stderr",
     "output_type": "stream",
     "text": [
      "Processing cleaned_chunk_0:  15%|████▍                        | 1522/10000 [04:48<21:17,  6.63row/s]"
     ]
    },
    {
     "name": "stdout",
     "output_type": "stream",
     "text": [
      "Progress saved: cleaned_chunk_0, row 1523\r"
     ]
    },
    {
     "name": "stderr",
     "output_type": "stream",
     "text": [
      "Processing cleaned_chunk_0:  15%|████▍                        | 1525/10000 [04:49<20:09,  7.00row/s]"
     ]
    },
    {
     "name": "stdout",
     "output_type": "stream",
     "text": [
      "Progress saved: cleaned_chunk_0, row 1525\r"
     ]
    },
    {
     "name": "stderr",
     "output_type": "stream",
     "text": [
      "Processing cleaned_chunk_0:  15%|████▍                        | 1526/10000 [04:49<19:51,  7.11row/s]"
     ]
    },
    {
     "name": "stdout",
     "output_type": "stream",
     "text": [
      "Progress saved: cleaned_chunk_0, row 1527\r"
     ]
    },
    {
     "name": "stderr",
     "output_type": "stream",
     "text": [
      "Processing cleaned_chunk_0:  15%|████▍                        | 1529/10000 [04:49<20:34,  6.86row/s]"
     ]
    },
    {
     "name": "stdout",
     "output_type": "stream",
     "text": [
      "Progress saved: cleaned_chunk_0, row 1529\r"
     ]
    },
    {
     "name": "stderr",
     "output_type": "stream",
     "text": [
      "Processing cleaned_chunk_0:  15%|████▍                        | 1531/10000 [04:50<21:10,  6.67row/s]"
     ]
    },
    {
     "name": "stdout",
     "output_type": "stream",
     "text": [
      "Progress saved: cleaned_chunk_0, row 1531\r"
     ]
    },
    {
     "name": "stderr",
     "output_type": "stream",
     "text": [
      "Processing cleaned_chunk_0:  15%|████▍                        | 1533/10000 [04:50<20:55,  6.75row/s]"
     ]
    },
    {
     "name": "stdout",
     "output_type": "stream",
     "text": [
      "Progress saved: cleaned_chunk_0, row 1533\r"
     ]
    },
    {
     "name": "stderr",
     "output_type": "stream",
     "text": [
      "Processing cleaned_chunk_0:  15%|████▍                        | 1534/10000 [04:50<25:39,  5.50row/s]"
     ]
    },
    {
     "name": "stdout",
     "output_type": "stream",
     "text": [
      "Progress saved: cleaned_chunk_0, row 1534\r"
     ]
    },
    {
     "name": "stderr",
     "output_type": "stream",
     "text": [
      "Processing cleaned_chunk_0:  15%|████▍                        | 1535/10000 [04:50<30:06,  4.69row/s]"
     ]
    },
    {
     "name": "stdout",
     "output_type": "stream",
     "text": [
      "Progress saved: cleaned_chunk_0, row 1536\r"
     ]
    },
    {
     "name": "stderr",
     "output_type": "stream",
     "text": [
      "Processing cleaned_chunk_0:  15%|████▍                        | 1538/10000 [04:51<22:54,  6.16row/s]"
     ]
    },
    {
     "name": "stdout",
     "output_type": "stream",
     "text": [
      "Progress saved: cleaned_chunk_0, row 1538\r"
     ]
    },
    {
     "name": "stderr",
     "output_type": "stream",
     "text": [
      "Processing cleaned_chunk_0:  15%|████▍                        | 1540/10000 [04:51<22:02,  6.40row/s]"
     ]
    },
    {
     "name": "stdout",
     "output_type": "stream",
     "text": [
      "Progress saved: cleaned_chunk_0, row 1540\r"
     ]
    },
    {
     "name": "stderr",
     "output_type": "stream",
     "text": [
      "Processing cleaned_chunk_0:  15%|████▍                        | 1542/10000 [04:51<20:28,  6.89row/s]"
     ]
    },
    {
     "name": "stdout",
     "output_type": "stream",
     "text": [
      "Progress saved: cleaned_chunk_0, row 1542\r"
     ]
    },
    {
     "name": "stderr",
     "output_type": "stream",
     "text": [
      "Processing cleaned_chunk_0:  15%|████▍                        | 1544/10000 [04:52<20:13,  6.97row/s]"
     ]
    },
    {
     "name": "stdout",
     "output_type": "stream",
     "text": [
      "Progress saved: cleaned_chunk_0, row 1544\r"
     ]
    },
    {
     "name": "stderr",
     "output_type": "stream",
     "text": [
      "Processing cleaned_chunk_0:  15%|████▍                        | 1546/10000 [04:52<19:51,  7.10row/s]"
     ]
    },
    {
     "name": "stdout",
     "output_type": "stream",
     "text": [
      "Progress saved: cleaned_chunk_0, row 1546\r"
     ]
    },
    {
     "name": "stderr",
     "output_type": "stream",
     "text": [
      "Processing cleaned_chunk_0:  15%|████▍                        | 1548/10000 [04:52<19:51,  7.10row/s]"
     ]
    },
    {
     "name": "stdout",
     "output_type": "stream",
     "text": [
      "Progress saved: cleaned_chunk_0, row 1548\r"
     ]
    },
    {
     "name": "stderr",
     "output_type": "stream",
     "text": [
      "Processing cleaned_chunk_0:  15%|████▍                        | 1549/10000 [04:52<18:43,  7.52row/s]"
     ]
    },
    {
     "name": "stdout",
     "output_type": "stream",
     "text": [
      "Progress saved: cleaned_chunk_0, row 1549\r"
     ]
    },
    {
     "name": "stderr",
     "output_type": "stream",
     "text": [
      "Processing cleaned_chunk_0:  16%|████▍                        | 1550/10000 [04:53<26:23,  5.34row/s]"
     ]
    },
    {
     "name": "stdout",
     "output_type": "stream",
     "text": [
      "Progress saved: cleaned_chunk_0, row 1550\r"
     ]
    },
    {
     "name": "stderr",
     "output_type": "stream",
     "text": [
      "Processing cleaned_chunk_0:  16%|████▍                        | 1551/10000 [04:53<40:06,  3.51row/s]"
     ]
    },
    {
     "name": "stdout",
     "output_type": "stream",
     "text": [
      "Progress saved: cleaned_chunk_0, row 1551\r"
     ]
    },
    {
     "name": "stderr",
     "output_type": "stream",
     "text": [
      "Processing cleaned_chunk_0:  16%|████▌                        | 1552/10000 [04:53<38:00,  3.71row/s]"
     ]
    },
    {
     "name": "stdout",
     "output_type": "stream",
     "text": [
      "Progress saved: cleaned_chunk_0, row 1552\r"
     ]
    },
    {
     "name": "stderr",
     "output_type": "stream",
     "text": [
      "Processing cleaned_chunk_0:  16%|████▌                        | 1553/10000 [04:54<36:16,  3.88row/s]"
     ]
    },
    {
     "name": "stdout",
     "output_type": "stream",
     "text": [
      "Progress saved: cleaned_chunk_0, row 1553\r"
     ]
    },
    {
     "name": "stderr",
     "output_type": "stream",
     "text": [
      "Processing cleaned_chunk_0:  16%|████▌                        | 1555/10000 [04:54<33:01,  4.26row/s]"
     ]
    },
    {
     "name": "stdout",
     "output_type": "stream",
     "text": [
      "Progress saved: cleaned_chunk_0, row 1555\r"
     ]
    },
    {
     "name": "stderr",
     "output_type": "stream",
     "text": [
      "Processing cleaned_chunk_0:  16%|████▌                        | 1556/10000 [04:54<27:40,  5.08row/s]"
     ]
    },
    {
     "name": "stdout",
     "output_type": "stream",
     "text": [
      "Progress saved: cleaned_chunk_0, row 1556\r"
     ]
    },
    {
     "name": "stderr",
     "output_type": "stream",
     "text": [
      "Processing cleaned_chunk_0:  16%|████▌                        | 1557/10000 [04:54<31:03,  4.53row/s]"
     ]
    },
    {
     "name": "stdout",
     "output_type": "stream",
     "text": [
      "Progress saved: cleaned_chunk_0, row 1557\r"
     ]
    },
    {
     "name": "stderr",
     "output_type": "stream",
     "text": [
      "Processing cleaned_chunk_0:  16%|████▌                        | 1559/10000 [04:55<28:18,  4.97row/s]"
     ]
    },
    {
     "name": "stdout",
     "output_type": "stream",
     "text": [
      "Progress saved: cleaned_chunk_0, row 1559\r"
     ]
    },
    {
     "name": "stderr",
     "output_type": "stream",
     "text": [
      "Processing cleaned_chunk_0:  16%|████▌                        | 1561/10000 [04:55<24:06,  5.83row/s]"
     ]
    },
    {
     "name": "stdout",
     "output_type": "stream",
     "text": [
      "Progress saved: cleaned_chunk_0, row 1561\r"
     ]
    },
    {
     "name": "stderr",
     "output_type": "stream",
     "text": [
      "Processing cleaned_chunk_0:  16%|████▌                        | 1562/10000 [04:55<29:44,  4.73row/s]"
     ]
    },
    {
     "name": "stdout",
     "output_type": "stream",
     "text": [
      "Progress saved: cleaned_chunk_0, row 1562\r"
     ]
    },
    {
     "name": "stderr",
     "output_type": "stream",
     "text": [
      "Processing cleaned_chunk_0:  16%|████▌                        | 1563/10000 [04:56<39:45,  3.54row/s]"
     ]
    },
    {
     "name": "stdout",
     "output_type": "stream",
     "text": [
      "Progress saved: cleaned_chunk_0, row 1564\r"
     ]
    },
    {
     "name": "stderr",
     "output_type": "stream",
     "text": [
      "Processing cleaned_chunk_0:  16%|████▌                        | 1566/10000 [04:56<28:10,  4.99row/s]"
     ]
    },
    {
     "name": "stdout",
     "output_type": "stream",
     "text": [
      "Progress saved: cleaned_chunk_0, row 1566\r"
     ]
    },
    {
     "name": "stderr",
     "output_type": "stream",
     "text": [
      "Processing cleaned_chunk_0:  16%|████▌                        | 1567/10000 [04:57<24:51,  5.65row/s]"
     ]
    },
    {
     "name": "stdout",
     "output_type": "stream",
     "text": [
      "Progress saved: cleaned_chunk_0, row 1568\r"
     ]
    },
    {
     "name": "stderr",
     "output_type": "stream",
     "text": [
      "Processing cleaned_chunk_0:  16%|████▌                        | 1570/10000 [04:57<22:12,  6.33row/s]"
     ]
    },
    {
     "name": "stdout",
     "output_type": "stream",
     "text": [
      "Progress saved: cleaned_chunk_0, row 1570\r"
     ]
    },
    {
     "name": "stderr",
     "output_type": "stream",
     "text": [
      "Processing cleaned_chunk_0:  16%|████▌                        | 1572/10000 [04:57<21:40,  6.48row/s]"
     ]
    },
    {
     "name": "stdout",
     "output_type": "stream",
     "text": [
      "Progress saved: cleaned_chunk_0, row 1572\r"
     ]
    },
    {
     "name": "stderr",
     "output_type": "stream",
     "text": [
      "Processing cleaned_chunk_0:  16%|████▌                        | 1574/10000 [04:58<19:52,  7.06row/s]"
     ]
    },
    {
     "name": "stdout",
     "output_type": "stream",
     "text": [
      "Progress saved: cleaned_chunk_0, row 1574\r"
     ]
    },
    {
     "name": "stderr",
     "output_type": "stream",
     "text": [
      "Processing cleaned_chunk_0:  16%|████▌                        | 1576/10000 [04:58<19:36,  7.16row/s]"
     ]
    },
    {
     "name": "stdout",
     "output_type": "stream",
     "text": [
      "Progress saved: cleaned_chunk_0, row 1576\r"
     ]
    },
    {
     "name": "stderr",
     "output_type": "stream",
     "text": [
      "Processing cleaned_chunk_0:  16%|████▌                        | 1578/10000 [04:58<25:18,  5.54row/s]"
     ]
    },
    {
     "name": "stdout",
     "output_type": "stream",
     "text": [
      "Progress saved: cleaned_chunk_0, row 1578\r"
     ]
    },
    {
     "name": "stderr",
     "output_type": "stream",
     "text": [
      "Processing cleaned_chunk_0:  16%|████▌                        | 1579/10000 [04:59<33:48,  4.15row/s]"
     ]
    },
    {
     "name": "stdout",
     "output_type": "stream",
     "text": [
      "Progress saved: cleaned_chunk_0, row 1579\r"
     ]
    },
    {
     "name": "stderr",
     "output_type": "stream",
     "text": [
      "Processing cleaned_chunk_0:  16%|████▌                        | 1581/10000 [04:59<34:21,  4.08row/s]"
     ]
    },
    {
     "name": "stdout",
     "output_type": "stream",
     "text": [
      "Progress saved: cleaned_chunk_0, row 1581\r"
     ]
    },
    {
     "name": "stderr",
     "output_type": "stream",
     "text": [
      "Processing cleaned_chunk_0:  16%|████▌                        | 1583/10000 [04:59<28:06,  4.99row/s]"
     ]
    },
    {
     "name": "stdout",
     "output_type": "stream",
     "text": [
      "Progress saved: cleaned_chunk_0, row 1583\r"
     ]
    },
    {
     "name": "stderr",
     "output_type": "stream",
     "text": [
      "Processing cleaned_chunk_0:  16%|████▌                        | 1584/10000 [05:00<27:29,  5.10row/s]"
     ]
    },
    {
     "name": "stdout",
     "output_type": "stream",
     "text": [
      "Progress saved: cleaned_chunk_0, row 1585\r"
     ]
    },
    {
     "name": "stderr",
     "output_type": "stream",
     "text": [
      "Processing cleaned_chunk_0:  16%|████▌                        | 1587/10000 [05:00<24:21,  5.76row/s]"
     ]
    },
    {
     "name": "stdout",
     "output_type": "stream",
     "text": [
      "Progress saved: cleaned_chunk_0, row 1587\r"
     ]
    },
    {
     "name": "stderr",
     "output_type": "stream",
     "text": [
      "Processing cleaned_chunk_0:  16%|████▌                        | 1588/10000 [05:00<22:54,  6.12row/s]"
     ]
    },
    {
     "name": "stdout",
     "output_type": "stream",
     "text": [
      "Progress saved: cleaned_chunk_0, row 1588\r"
     ]
    },
    {
     "name": "stderr",
     "output_type": "stream",
     "text": [
      "Processing cleaned_chunk_0:  16%|████▌                        | 1589/10000 [05:01<25:15,  5.55row/s]"
     ]
    },
    {
     "name": "stdout",
     "output_type": "stream",
     "text": [
      "Progress saved: cleaned_chunk_0, row 1589\r"
     ]
    },
    {
     "name": "stderr",
     "output_type": "stream",
     "text": [
      "Processing cleaned_chunk_0:  16%|████▌                        | 1590/10000 [05:01<28:15,  4.96row/s]"
     ]
    },
    {
     "name": "stdout",
     "output_type": "stream",
     "text": [
      "Progress saved: cleaned_chunk_0, row 1590\r"
     ]
    },
    {
     "name": "stderr",
     "output_type": "stream",
     "text": [
      "Processing cleaned_chunk_0:  16%|████▌                        | 1591/10000 [05:01<43:22,  3.23row/s]"
     ]
    },
    {
     "name": "stdout",
     "output_type": "stream",
     "text": [
      "Progress saved: cleaned_chunk_0, row 1591\r"
     ]
    },
    {
     "name": "stderr",
     "output_type": "stream",
     "text": [
      "Processing cleaned_chunk_0:  16%|████▌                        | 1593/10000 [05:02<38:17,  3.66row/s]"
     ]
    },
    {
     "name": "stdout",
     "output_type": "stream",
     "text": [
      "Progress saved: cleaned_chunk_0, row 1593\r"
     ]
    },
    {
     "name": "stderr",
     "output_type": "stream",
     "text": [
      "Processing cleaned_chunk_0:  16%|████▌                        | 1594/10000 [05:02<39:17,  3.57row/s]"
     ]
    },
    {
     "name": "stdout",
     "output_type": "stream",
     "text": [
      "Progress saved: cleaned_chunk_0, row 1595\r"
     ]
    },
    {
     "name": "stderr",
     "output_type": "stream",
     "text": [
      "Processing cleaned_chunk_0:  16%|████▋                        | 1597/10000 [05:03<27:43,  5.05row/s]"
     ]
    },
    {
     "name": "stdout",
     "output_type": "stream",
     "text": [
      "Progress saved: cleaned_chunk_0, row 1597\r"
     ]
    },
    {
     "name": "stderr",
     "output_type": "stream",
     "text": [
      "Processing cleaned_chunk_0:  16%|████▋                        | 1599/10000 [05:03<26:54,  5.20row/s]"
     ]
    },
    {
     "name": "stdout",
     "output_type": "stream",
     "text": [
      "Progress saved: cleaned_chunk_0, row 1599\r"
     ]
    },
    {
     "name": "stderr",
     "output_type": "stream",
     "text": [
      "Processing cleaned_chunk_0:  16%|████▋                        | 1600/10000 [05:03<25:40,  5.45row/s]"
     ]
    },
    {
     "name": "stdout",
     "output_type": "stream",
     "text": [
      "Progress saved: cleaned_chunk_0, row 1601\r"
     ]
    },
    {
     "name": "stderr",
     "output_type": "stream",
     "text": [
      "Processing cleaned_chunk_0:  16%|████▋                        | 1603/10000 [05:04<24:52,  5.63row/s]"
     ]
    },
    {
     "name": "stdout",
     "output_type": "stream",
     "text": [
      "Progress saved: cleaned_chunk_0, row 1603\r"
     ]
    },
    {
     "name": "stderr",
     "output_type": "stream",
     "text": [
      "Processing cleaned_chunk_0:  16%|████▋                        | 1604/10000 [05:04<22:53,  6.11row/s]"
     ]
    },
    {
     "name": "stdout",
     "output_type": "stream",
     "text": [
      "Progress saved: cleaned_chunk_0, row 1605\r"
     ]
    },
    {
     "name": "stderr",
     "output_type": "stream",
     "text": [
      "Processing cleaned_chunk_0:  16%|████▋                        | 1606/10000 [05:05<35:38,  3.92row/s]"
     ]
    },
    {
     "name": "stdout",
     "output_type": "stream",
     "text": [
      "Progress saved: cleaned_chunk_0, row 1607\r"
     ]
    },
    {
     "name": "stderr",
     "output_type": "stream",
     "text": [
      "Processing cleaned_chunk_0:  16%|████▋                        | 1609/10000 [05:05<27:08,  5.15row/s]"
     ]
    },
    {
     "name": "stdout",
     "output_type": "stream",
     "text": [
      "Progress saved: cleaned_chunk_0, row 1609\r"
     ]
    },
    {
     "name": "stderr",
     "output_type": "stream",
     "text": [
      "Processing cleaned_chunk_0:  16%|████▋                        | 1610/10000 [05:05<25:28,  5.49row/s]"
     ]
    },
    {
     "name": "stdout",
     "output_type": "stream",
     "text": [
      "Progress saved: cleaned_chunk_0, row 1611\r"
     ]
    },
    {
     "name": "stderr",
     "output_type": "stream",
     "text": [
      "Processing cleaned_chunk_0:  16%|████▋                        | 1613/10000 [05:06<23:00,  6.07row/s]"
     ]
    },
    {
     "name": "stdout",
     "output_type": "stream",
     "text": [
      "Progress saved: cleaned_chunk_0, row 1613\r"
     ]
    },
    {
     "name": "stderr",
     "output_type": "stream",
     "text": [
      "Processing cleaned_chunk_0:  16%|████▋                        | 1615/10000 [05:06<22:11,  6.30row/s]"
     ]
    },
    {
     "name": "stdout",
     "output_type": "stream",
     "text": [
      "Progress saved: cleaned_chunk_0, row 1615\r"
     ]
    },
    {
     "name": "stderr",
     "output_type": "stream",
     "text": [
      "Processing cleaned_chunk_0:  16%|████▋                        | 1617/10000 [05:06<20:46,  6.73row/s]"
     ]
    },
    {
     "name": "stdout",
     "output_type": "stream",
     "text": [
      "Progress saved: cleaned_chunk_0, row 1617\r"
     ]
    },
    {
     "name": "stderr",
     "output_type": "stream",
     "text": [
      "Processing cleaned_chunk_0:  16%|████▋                        | 1619/10000 [05:07<21:07,  6.61row/s]"
     ]
    },
    {
     "name": "stdout",
     "output_type": "stream",
     "text": [
      "Progress saved: cleaned_chunk_0, row 1619\r"
     ]
    },
    {
     "name": "stderr",
     "output_type": "stream",
     "text": [
      "Processing cleaned_chunk_0:  16%|████▋                        | 1620/10000 [05:07<20:14,  6.90row/s]"
     ]
    },
    {
     "name": "stdout",
     "output_type": "stream",
     "text": [
      "Progress saved: cleaned_chunk_0, row 1621\r"
     ]
    },
    {
     "name": "stderr",
     "output_type": "stream",
     "text": [
      "Processing cleaned_chunk_0:  16%|████▋                        | 1623/10000 [05:07<22:04,  6.33row/s]"
     ]
    },
    {
     "name": "stdout",
     "output_type": "stream",
     "text": [
      "Progress saved: cleaned_chunk_0, row 1623\r"
     ]
    },
    {
     "name": "stderr",
     "output_type": "stream",
     "text": [
      "Processing cleaned_chunk_0:  16%|████▋                        | 1624/10000 [05:07<20:25,  6.84row/s]"
     ]
    },
    {
     "name": "stdout",
     "output_type": "stream",
     "text": [
      "Progress saved: cleaned_chunk_0, row 1624\r"
     ]
    },
    {
     "name": "stderr",
     "output_type": "stream",
     "text": [
      "Processing cleaned_chunk_0:  16%|████▋                        | 1625/10000 [05:08<30:53,  4.52row/s]"
     ]
    },
    {
     "name": "stdout",
     "output_type": "stream",
     "text": [
      "Progress saved: cleaned_chunk_0, row 1625\r"
     ]
    },
    {
     "name": "stderr",
     "output_type": "stream",
     "text": [
      "Processing cleaned_chunk_0:  16%|████▋                        | 1626/10000 [05:08<34:26,  4.05row/s]"
     ]
    },
    {
     "name": "stdout",
     "output_type": "stream",
     "text": [
      "Progress saved: cleaned_chunk_0, row 1626\r"
     ]
    },
    {
     "name": "stderr",
     "output_type": "stream",
     "text": [
      "Processing cleaned_chunk_0:  16%|████▋                        | 1628/10000 [05:09<36:13,  3.85row/s]"
     ]
    },
    {
     "name": "stdout",
     "output_type": "stream",
     "text": [
      "Progress saved: cleaned_chunk_0, row 1628\r"
     ]
    },
    {
     "name": "stderr",
     "output_type": "stream",
     "text": [
      "Processing cleaned_chunk_0:  16%|████▋                        | 1629/10000 [05:09<32:18,  4.32row/s]"
     ]
    },
    {
     "name": "stdout",
     "output_type": "stream",
     "text": [
      "Progress saved: cleaned_chunk_0, row 1629\r"
     ]
    },
    {
     "name": "stderr",
     "output_type": "stream",
     "text": [
      "Processing cleaned_chunk_0:  16%|████▋                        | 1630/10000 [05:09<33:03,  4.22row/s]"
     ]
    },
    {
     "name": "stdout",
     "output_type": "stream",
     "text": [
      "Progress saved: cleaned_chunk_0, row 1630\r"
     ]
    },
    {
     "name": "stderr",
     "output_type": "stream",
     "text": [
      "Processing cleaned_chunk_0:  16%|████▋                        | 1631/10000 [05:09<42:24,  3.29row/s]"
     ]
    },
    {
     "name": "stdout",
     "output_type": "stream",
     "text": [
      "Progress saved: cleaned_chunk_0, row 1631\r"
     ]
    },
    {
     "name": "stderr",
     "output_type": "stream",
     "text": [
      "Processing cleaned_chunk_0:  16%|████▋                        | 1632/10000 [05:10<45:21,  3.07row/s]"
     ]
    },
    {
     "name": "stdout",
     "output_type": "stream",
     "text": [
      "Progress saved: cleaned_chunk_0, row 1633\r"
     ]
    },
    {
     "name": "stderr",
     "output_type": "stream",
     "text": [
      "Processing cleaned_chunk_0:  16%|████▋                        | 1634/10000 [05:10<35:10,  3.96row/s]"
     ]
    },
    {
     "name": "stdout",
     "output_type": "stream",
     "text": [
      "Progress saved: cleaned_chunk_0, row 1634\r"
     ]
    },
    {
     "name": "stderr",
     "output_type": "stream",
     "text": [
      "Processing cleaned_chunk_0:  16%|████▋                        | 1635/10000 [05:11<43:06,  3.23row/s]"
     ]
    },
    {
     "name": "stdout",
     "output_type": "stream",
     "text": [
      "Progress saved: cleaned_chunk_0, row 1635\r"
     ]
    },
    {
     "name": "stderr",
     "output_type": "stream",
     "text": [
      "Processing cleaned_chunk_0:  16%|████▋                        | 1636/10000 [05:11<41:20,  3.37row/s]"
     ]
    },
    {
     "name": "stdout",
     "output_type": "stream",
     "text": [
      "Progress saved: cleaned_chunk_0, row 1636\r"
     ]
    },
    {
     "name": "stderr",
     "output_type": "stream",
     "text": [
      "Processing cleaned_chunk_0:  16%|████▋                        | 1637/10000 [05:11<39:11,  3.56row/s]"
     ]
    },
    {
     "name": "stdout",
     "output_type": "stream",
     "text": [
      "Progress saved: cleaned_chunk_0, row 1638\r"
     ]
    },
    {
     "name": "stderr",
     "output_type": "stream",
     "text": [
      "Processing cleaned_chunk_0:  16%|████▊                        | 1640/10000 [05:12<26:22,  5.28row/s]"
     ]
    },
    {
     "name": "stdout",
     "output_type": "stream",
     "text": [
      "Progress saved: cleaned_chunk_0, row 1640\r"
     ]
    },
    {
     "name": "stderr",
     "output_type": "stream",
     "text": [
      "Processing cleaned_chunk_0:  16%|████▊                        | 1641/10000 [05:12<23:53,  5.83row/s]"
     ]
    },
    {
     "name": "stdout",
     "output_type": "stream",
     "text": [
      "Progress saved: cleaned_chunk_0, row 1641\r"
     ]
    },
    {
     "name": "stderr",
     "output_type": "stream",
     "text": [
      "Processing cleaned_chunk_0:  16%|████▊                        | 1643/10000 [05:12<25:09,  5.54row/s]"
     ]
    },
    {
     "name": "stdout",
     "output_type": "stream",
     "text": [
      "Progress saved: cleaned_chunk_0, row 1643\r"
     ]
    },
    {
     "name": "stderr",
     "output_type": "stream",
     "text": [
      "Processing cleaned_chunk_0:  16%|████▊                        | 1645/10000 [05:12<23:17,  5.98row/s]"
     ]
    },
    {
     "name": "stdout",
     "output_type": "stream",
     "text": [
      "Progress saved: cleaned_chunk_0, row 1645\r"
     ]
    },
    {
     "name": "stderr",
     "output_type": "stream",
     "text": [
      "Processing cleaned_chunk_0:  16%|████▊                        | 1647/10000 [05:13<23:17,  5.98row/s]"
     ]
    },
    {
     "name": "stdout",
     "output_type": "stream",
     "text": [
      "Progress saved: cleaned_chunk_0, row 1647\r"
     ]
    },
    {
     "name": "stderr",
     "output_type": "stream",
     "text": [
      "Processing cleaned_chunk_0:  16%|████▊                        | 1648/10000 [05:13<24:26,  5.70row/s]"
     ]
    },
    {
     "name": "stdout",
     "output_type": "stream",
     "text": [
      "Progress saved: cleaned_chunk_0, row 1648\r"
     ]
    },
    {
     "name": "stderr",
     "output_type": "stream",
     "text": [
      "Processing cleaned_chunk_0:  16%|████▊                        | 1649/10000 [05:13<26:11,  5.31row/s]"
     ]
    },
    {
     "name": "stdout",
     "output_type": "stream",
     "text": [
      "Progress saved: cleaned_chunk_0, row 1649\r"
     ]
    },
    {
     "name": "stderr",
     "output_type": "stream",
     "text": [
      "Processing cleaned_chunk_0:  16%|████▊                        | 1650/10000 [05:14<32:40,  4.26row/s]"
     ]
    },
    {
     "name": "stdout",
     "output_type": "stream",
     "text": [
      "Progress saved: cleaned_chunk_0, row 1650\r"
     ]
    },
    {
     "name": "stderr",
     "output_type": "stream",
     "text": [
      "Processing cleaned_chunk_0:  17%|████▊                        | 1651/10000 [05:14<37:27,  3.72row/s]"
     ]
    },
    {
     "name": "stdout",
     "output_type": "stream",
     "text": [
      "Progress saved: cleaned_chunk_0, row 1652\r"
     ]
    },
    {
     "name": "stderr",
     "output_type": "stream",
     "text": [
      "Processing cleaned_chunk_0:  17%|████▊                        | 1654/10000 [05:15<30:07,  4.62row/s]"
     ]
    },
    {
     "name": "stdout",
     "output_type": "stream",
     "text": [
      "Progress saved: cleaned_chunk_0, row 1654\r"
     ]
    },
    {
     "name": "stderr",
     "output_type": "stream",
     "text": [
      "Processing cleaned_chunk_0:  17%|████▊                        | 1655/10000 [05:15<25:31,  5.45row/s]"
     ]
    },
    {
     "name": "stdout",
     "output_type": "stream",
     "text": [
      "Progress saved: cleaned_chunk_0, row 1656\r"
     ]
    },
    {
     "name": "stderr",
     "output_type": "stream",
     "text": [
      "Processing cleaned_chunk_0:  17%|████▊                        | 1658/10000 [05:15<22:57,  6.06row/s]"
     ]
    },
    {
     "name": "stdout",
     "output_type": "stream",
     "text": [
      "Progress saved: cleaned_chunk_0, row 1658\r"
     ]
    },
    {
     "name": "stderr",
     "output_type": "stream",
     "text": [
      "Processing cleaned_chunk_0:  17%|████▊                        | 1660/10000 [05:15<21:11,  6.56row/s]"
     ]
    },
    {
     "name": "stdout",
     "output_type": "stream",
     "text": [
      "Progress saved: cleaned_chunk_0, row 1660\r"
     ]
    },
    {
     "name": "stderr",
     "output_type": "stream",
     "text": [
      "Processing cleaned_chunk_0:  17%|████▊                        | 1662/10000 [05:16<21:03,  6.60row/s]"
     ]
    },
    {
     "name": "stdout",
     "output_type": "stream",
     "text": [
      "Progress saved: cleaned_chunk_0, row 1662\r"
     ]
    },
    {
     "name": "stderr",
     "output_type": "stream",
     "text": [
      "Processing cleaned_chunk_0:  17%|████▊                        | 1664/10000 [05:16<20:56,  6.63row/s]"
     ]
    },
    {
     "name": "stdout",
     "output_type": "stream",
     "text": [
      "Progress saved: cleaned_chunk_0, row 1664\r"
     ]
    },
    {
     "name": "stderr",
     "output_type": "stream",
     "text": [
      "Processing cleaned_chunk_0:  17%|████▊                        | 1665/10000 [05:16<25:11,  5.52row/s]"
     ]
    },
    {
     "name": "stdout",
     "output_type": "stream",
     "text": [
      "Progress saved: cleaned_chunk_0, row 1665\r"
     ]
    },
    {
     "name": "stderr",
     "output_type": "stream",
     "text": [
      "Processing cleaned_chunk_0:  17%|████▊                        | 1666/10000 [05:17<31:13,  4.45row/s]"
     ]
    },
    {
     "name": "stdout",
     "output_type": "stream",
     "text": [
      "Progress saved: cleaned_chunk_0, row 1667\r"
     ]
    },
    {
     "name": "stderr",
     "output_type": "stream",
     "text": [
      "Processing cleaned_chunk_0:  17%|████▊                        | 1669/10000 [05:17<24:39,  5.63row/s]"
     ]
    },
    {
     "name": "stdout",
     "output_type": "stream",
     "text": [
      "Progress saved: cleaned_chunk_0, row 1669\r"
     ]
    },
    {
     "name": "stderr",
     "output_type": "stream",
     "text": [
      "Processing cleaned_chunk_0:  17%|████▊                        | 1671/10000 [05:17<21:36,  6.42row/s]"
     ]
    },
    {
     "name": "stdout",
     "output_type": "stream",
     "text": [
      "Progress saved: cleaned_chunk_0, row 1671\r"
     ]
    },
    {
     "name": "stderr",
     "output_type": "stream",
     "text": [
      "Processing cleaned_chunk_0:  17%|████▊                        | 1673/10000 [05:18<18:42,  7.42row/s]"
     ]
    },
    {
     "name": "stdout",
     "output_type": "stream",
     "text": [
      "Progress saved: cleaned_chunk_0, row 1673\r"
     ]
    },
    {
     "name": "stderr",
     "output_type": "stream",
     "text": [
      "Processing cleaned_chunk_0:  17%|████▊                        | 1675/10000 [05:18<19:44,  7.03row/s]"
     ]
    },
    {
     "name": "stdout",
     "output_type": "stream",
     "text": [
      "Progress saved: cleaned_chunk_0, row 1675\r"
     ]
    },
    {
     "name": "stderr",
     "output_type": "stream",
     "text": [
      "Processing cleaned_chunk_0:  17%|████▊                        | 1676/10000 [05:18<19:10,  7.24row/s]"
     ]
    },
    {
     "name": "stdout",
     "output_type": "stream",
     "text": [
      "Progress saved: cleaned_chunk_0, row 1676\r"
     ]
    },
    {
     "name": "stderr",
     "output_type": "stream",
     "text": [
      "Processing cleaned_chunk_0:  17%|████▊                        | 1677/10000 [05:18<23:59,  5.78row/s]"
     ]
    },
    {
     "name": "stdout",
     "output_type": "stream",
     "text": [
      "Progress saved: cleaned_chunk_0, row 1677\r"
     ]
    },
    {
     "name": "stderr",
     "output_type": "stream",
     "text": [
      "Processing cleaned_chunk_0:  17%|████▊                        | 1679/10000 [05:19<25:46,  5.38row/s]"
     ]
    },
    {
     "name": "stdout",
     "output_type": "stream",
     "text": [
      "Progress saved: cleaned_chunk_0, row 1679\r"
     ]
    },
    {
     "name": "stderr",
     "output_type": "stream",
     "text": [
      "Processing cleaned_chunk_0:  17%|████▊                        | 1680/10000 [05:19<23:35,  5.88row/s]"
     ]
    },
    {
     "name": "stdout",
     "output_type": "stream",
     "text": [
      "Progress saved: cleaned_chunk_0, row 1680\r"
     ]
    },
    {
     "name": "stderr",
     "output_type": "stream",
     "text": [
      "Processing cleaned_chunk_0:  17%|████▊                        | 1681/10000 [05:19<30:00,  4.62row/s]"
     ]
    },
    {
     "name": "stdout",
     "output_type": "stream",
     "text": [
      "Progress saved: cleaned_chunk_0, row 1681\r"
     ]
    },
    {
     "name": "stderr",
     "output_type": "stream",
     "text": [
      "Processing cleaned_chunk_0:  17%|████▉                        | 1682/10000 [05:19<31:59,  4.33row/s]"
     ]
    },
    {
     "name": "stdout",
     "output_type": "stream",
     "text": [
      "Progress saved: cleaned_chunk_0, row 1682\r"
     ]
    },
    {
     "name": "stderr",
     "output_type": "stream",
     "text": [
      "Processing cleaned_chunk_0:  17%|████▉                        | 1683/10000 [05:20<31:51,  4.35row/s]"
     ]
    },
    {
     "name": "stdout",
     "output_type": "stream",
     "text": [
      "Progress saved: cleaned_chunk_0, row 1684\r"
     ]
    },
    {
     "name": "stderr",
     "output_type": "stream",
     "text": [
      "Processing cleaned_chunk_0:  17%|████▉                        | 1685/10000 [05:20<29:30,  4.70row/s]"
     ]
    },
    {
     "name": "stdout",
     "output_type": "stream",
     "text": [
      "Progress saved: cleaned_chunk_0, row 1686\r"
     ]
    },
    {
     "name": "stderr",
     "output_type": "stream",
     "text": [
      "Processing cleaned_chunk_0:  17%|████▉                        | 1687/10000 [05:20<23:08,  5.98row/s]"
     ]
    },
    {
     "name": "stdout",
     "output_type": "stream",
     "text": [
      "Progress saved: cleaned_chunk_0, row 1687\r"
     ]
    },
    {
     "name": "stderr",
     "output_type": "stream",
     "text": [
      "Processing cleaned_chunk_0:  17%|████▉                        | 1689/10000 [05:21<23:50,  5.81row/s]"
     ]
    },
    {
     "name": "stdout",
     "output_type": "stream",
     "text": [
      "Progress saved: cleaned_chunk_0, row 1689\r"
     ]
    },
    {
     "name": "stderr",
     "output_type": "stream",
     "text": [
      "Processing cleaned_chunk_0:  17%|████▉                        | 1691/10000 [05:21<24:07,  5.74row/s]"
     ]
    },
    {
     "name": "stdout",
     "output_type": "stream",
     "text": [
      "Progress saved: cleaned_chunk_0, row 1691\r"
     ]
    },
    {
     "name": "stderr",
     "output_type": "stream",
     "text": [
      "Processing cleaned_chunk_0:  17%|████▉                        | 1693/10000 [05:21<23:43,  5.84row/s]"
     ]
    },
    {
     "name": "stdout",
     "output_type": "stream",
     "text": [
      "Progress saved: cleaned_chunk_0, row 1693\r"
     ]
    },
    {
     "name": "stderr",
     "output_type": "stream",
     "text": [
      "Processing cleaned_chunk_0:  17%|████▉                        | 1694/10000 [05:21<23:04,  6.00row/s]"
     ]
    },
    {
     "name": "stdout",
     "output_type": "stream",
     "text": [
      "Progress saved: cleaned_chunk_0, row 1694\r"
     ]
    },
    {
     "name": "stderr",
     "output_type": "stream",
     "text": [
      "Processing cleaned_chunk_0:  17%|████▉                        | 1695/10000 [05:22<27:30,  5.03row/s]"
     ]
    },
    {
     "name": "stdout",
     "output_type": "stream",
     "text": [
      "Progress saved: cleaned_chunk_0, row 1695\r"
     ]
    },
    {
     "name": "stderr",
     "output_type": "stream",
     "text": [
      "Processing cleaned_chunk_0:  17%|████▉                        | 1696/10000 [05:22<37:32,  3.69row/s]"
     ]
    },
    {
     "name": "stdout",
     "output_type": "stream",
     "text": [
      "Progress saved: cleaned_chunk_0, row 1696\r"
     ]
    },
    {
     "name": "stderr",
     "output_type": "stream",
     "text": [
      "Processing cleaned_chunk_0:  17%|████▉                        | 1697/10000 [05:22<39:49,  3.47row/s]"
     ]
    },
    {
     "name": "stdout",
     "output_type": "stream",
     "text": [
      "Progress saved: cleaned_chunk_0, row 1698\r"
     ]
    },
    {
     "name": "stderr",
     "output_type": "stream",
     "text": [
      "Processing cleaned_chunk_0:  17%|████▉                        | 1700/10000 [05:23<28:06,  4.92row/s]"
     ]
    },
    {
     "name": "stdout",
     "output_type": "stream",
     "text": [
      "Progress saved: cleaned_chunk_0, row 1700\r"
     ]
    },
    {
     "name": "stderr",
     "output_type": "stream",
     "text": [
      "Processing cleaned_chunk_0:  17%|████▉                        | 1702/10000 [05:23<25:39,  5.39row/s]"
     ]
    },
    {
     "name": "stdout",
     "output_type": "stream",
     "text": [
      "Progress saved: cleaned_chunk_0, row 1702\r"
     ]
    },
    {
     "name": "stderr",
     "output_type": "stream",
     "text": [
      "Processing cleaned_chunk_0:  17%|████▉                        | 1704/10000 [05:24<22:54,  6.03row/s]"
     ]
    },
    {
     "name": "stdout",
     "output_type": "stream",
     "text": [
      "Progress saved: cleaned_chunk_0, row 1704\r"
     ]
    },
    {
     "name": "stderr",
     "output_type": "stream",
     "text": [
      "Processing cleaned_chunk_0:  17%|████▉                        | 1706/10000 [05:24<23:06,  5.98row/s]"
     ]
    },
    {
     "name": "stdout",
     "output_type": "stream",
     "text": [
      "Progress saved: cleaned_chunk_0, row 1706\r"
     ]
    },
    {
     "name": "stderr",
     "output_type": "stream",
     "text": [
      "Processing cleaned_chunk_0:  17%|████▉                        | 1707/10000 [05:24<23:23,  5.91row/s]"
     ]
    },
    {
     "name": "stdout",
     "output_type": "stream",
     "text": [
      "Progress saved: cleaned_chunk_0, row 1708\r"
     ]
    },
    {
     "name": "stderr",
     "output_type": "stream",
     "text": [
      "Processing cleaned_chunk_0:  17%|████▉                        | 1710/10000 [05:25<21:58,  6.29row/s]"
     ]
    },
    {
     "name": "stdout",
     "output_type": "stream",
     "text": [
      "Progress saved: cleaned_chunk_0, row 1710\r"
     ]
    },
    {
     "name": "stderr",
     "output_type": "stream",
     "text": [
      "Processing cleaned_chunk_0:  17%|████▉                        | 1711/10000 [05:25<21:15,  6.50row/s]"
     ]
    },
    {
     "name": "stdout",
     "output_type": "stream",
     "text": [
      "Progress saved: cleaned_chunk_0, row 1711\r"
     ]
    },
    {
     "name": "stderr",
     "output_type": "stream",
     "text": [
      "Processing cleaned_chunk_0:  17%|████▉                        | 1712/10000 [05:25<35:13,  3.92row/s]"
     ]
    },
    {
     "name": "stdout",
     "output_type": "stream",
     "text": [
      "Progress saved: cleaned_chunk_0, row 1712\r"
     ]
    },
    {
     "name": "stderr",
     "output_type": "stream",
     "text": [
      "Processing cleaned_chunk_0:  17%|████▉                        | 1714/10000 [05:26<30:16,  4.56row/s]"
     ]
    },
    {
     "name": "stdout",
     "output_type": "stream",
     "text": [
      "Progress saved: cleaned_chunk_0, row 1714\r"
     ]
    },
    {
     "name": "stderr",
     "output_type": "stream",
     "text": [
      "Processing cleaned_chunk_0:  17%|████▉                        | 1716/10000 [05:26<25:50,  5.34row/s]"
     ]
    },
    {
     "name": "stdout",
     "output_type": "stream",
     "text": [
      "Progress saved: cleaned_chunk_0, row 1716\r"
     ]
    },
    {
     "name": "stderr",
     "output_type": "stream",
     "text": [
      "Processing cleaned_chunk_0:  17%|████▉                        | 1718/10000 [05:26<22:40,  6.09row/s]"
     ]
    },
    {
     "name": "stdout",
     "output_type": "stream",
     "text": [
      "Progress saved: cleaned_chunk_0, row 1718\r"
     ]
    },
    {
     "name": "stderr",
     "output_type": "stream",
     "text": [
      "Processing cleaned_chunk_0:  17%|████▉                        | 1720/10000 [05:27<21:14,  6.50row/s]"
     ]
    },
    {
     "name": "stdout",
     "output_type": "stream",
     "text": [
      "Progress saved: cleaned_chunk_0, row 1722\r"
     ]
    },
    {
     "name": "stderr",
     "output_type": "stream",
     "text": [
      "Processing cleaned_chunk_0:  17%|████▉                        | 1724/10000 [05:27<18:07,  7.61row/s]"
     ]
    },
    {
     "name": "stdout",
     "output_type": "stream",
     "text": [
      "Progress saved: cleaned_chunk_0, row 1725\r"
     ]
    },
    {
     "name": "stderr",
     "output_type": "stream",
     "text": [
      "Processing cleaned_chunk_0:  17%|█████                        | 1727/10000 [05:27<18:53,  7.30row/s]"
     ]
    },
    {
     "name": "stdout",
     "output_type": "stream",
     "text": [
      "Progress saved: cleaned_chunk_0, row 1727\r"
     ]
    },
    {
     "name": "stderr",
     "output_type": "stream",
     "text": [
      "Processing cleaned_chunk_0:  17%|█████                        | 1728/10000 [05:28<18:53,  7.30row/s]"
     ]
    },
    {
     "name": "stdout",
     "output_type": "stream",
     "text": [
      "Progress saved: cleaned_chunk_0, row 1728\r"
     ]
    },
    {
     "name": "stderr",
     "output_type": "stream",
     "text": [
      "Processing cleaned_chunk_0:  17%|█████                        | 1729/10000 [05:28<30:11,  4.57row/s]"
     ]
    },
    {
     "name": "stdout",
     "output_type": "stream",
     "text": [
      "Progress saved: cleaned_chunk_0, row 1729\r"
     ]
    },
    {
     "name": "stderr",
     "output_type": "stream",
     "text": [
      "Processing cleaned_chunk_0:  17%|█████                        | 1730/10000 [05:28<32:24,  4.25row/s]"
     ]
    },
    {
     "name": "stdout",
     "output_type": "stream",
     "text": [
      "Progress saved: cleaned_chunk_0, row 1730\r"
     ]
    },
    {
     "name": "stderr",
     "output_type": "stream",
     "text": [
      "Processing cleaned_chunk_0:  17%|█████                        | 1732/10000 [05:29<28:44,  4.79row/s]"
     ]
    },
    {
     "name": "stdout",
     "output_type": "stream",
     "text": [
      "Progress saved: cleaned_chunk_0, row 1732\r"
     ]
    },
    {
     "name": "stderr",
     "output_type": "stream",
     "text": [
      "Processing cleaned_chunk_0:  17%|█████                        | 1733/10000 [05:29<25:41,  5.36row/s]"
     ]
    },
    {
     "name": "stdout",
     "output_type": "stream",
     "text": [
      "Progress saved: cleaned_chunk_0, row 1734\r"
     ]
    },
    {
     "name": "stderr",
     "output_type": "stream",
     "text": [
      "Processing cleaned_chunk_0:  17%|█████                        | 1736/10000 [05:29<21:32,  6.40row/s]"
     ]
    },
    {
     "name": "stdout",
     "output_type": "stream",
     "text": [
      "Progress saved: cleaned_chunk_0, row 1736\r"
     ]
    },
    {
     "name": "stderr",
     "output_type": "stream",
     "text": [
      "Processing cleaned_chunk_0:  17%|█████                        | 1738/10000 [05:29<21:15,  6.48row/s]"
     ]
    },
    {
     "name": "stdout",
     "output_type": "stream",
     "text": [
      "Progress saved: cleaned_chunk_0, row 1738\r"
     ]
    },
    {
     "name": "stderr",
     "output_type": "stream",
     "text": [
      "Processing cleaned_chunk_0:  17%|█████                        | 1740/10000 [05:30<18:03,  7.62row/s]"
     ]
    },
    {
     "name": "stdout",
     "output_type": "stream",
     "text": [
      "Progress saved: cleaned_chunk_0, row 1740\r"
     ]
    },
    {
     "name": "stderr",
     "output_type": "stream",
     "text": [
      "Processing cleaned_chunk_0:  17%|█████                        | 1742/10000 [05:30<20:02,  6.87row/s]"
     ]
    },
    {
     "name": "stdout",
     "output_type": "stream",
     "text": [
      "Progress saved: cleaned_chunk_0, row 1742\r"
     ]
    },
    {
     "name": "stderr",
     "output_type": "stream",
     "text": [
      "Processing cleaned_chunk_0:  17%|█████                        | 1744/10000 [05:30<19:43,  6.98row/s]"
     ]
    },
    {
     "name": "stdout",
     "output_type": "stream",
     "text": [
      "Progress saved: cleaned_chunk_0, row 1744\r"
     ]
    },
    {
     "name": "stderr",
     "output_type": "stream",
     "text": [
      "Processing cleaned_chunk_0:  17%|█████                        | 1745/10000 [05:31<28:01,  4.91row/s]"
     ]
    },
    {
     "name": "stdout",
     "output_type": "stream",
     "text": [
      "Progress saved: cleaned_chunk_0, row 1745\r"
     ]
    },
    {
     "name": "stderr",
     "output_type": "stream",
     "text": [
      "Processing cleaned_chunk_0:  17%|█████                        | 1746/10000 [05:31<28:32,  4.82row/s]"
     ]
    },
    {
     "name": "stdout",
     "output_type": "stream",
     "text": [
      "Progress saved: cleaned_chunk_0, row 1747\r"
     ]
    },
    {
     "name": "stderr",
     "output_type": "stream",
     "text": [
      "Processing cleaned_chunk_0:  17%|█████                        | 1749/10000 [05:31<21:58,  6.26row/s]"
     ]
    },
    {
     "name": "stdout",
     "output_type": "stream",
     "text": [
      "Progress saved: cleaned_chunk_0, row 1749\r"
     ]
    },
    {
     "name": "stderr",
     "output_type": "stream",
     "text": [
      "Processing cleaned_chunk_0:  18%|█████                        | 1750/10000 [05:31<19:57,  6.89row/s]"
     ]
    },
    {
     "name": "stdout",
     "output_type": "stream",
     "text": [
      "Progress saved: cleaned_chunk_0, row 1750\r"
     ]
    },
    {
     "name": "stderr",
     "output_type": "stream",
     "text": [
      "Processing cleaned_chunk_0:  18%|█████                        | 1752/10000 [05:32<21:33,  6.38row/s]"
     ]
    },
    {
     "name": "stdout",
     "output_type": "stream",
     "text": [
      "Progress saved: cleaned_chunk_0, row 1752\r"
     ]
    },
    {
     "name": "stderr",
     "output_type": "stream",
     "text": [
      "Processing cleaned_chunk_0:  18%|█████                        | 1753/10000 [05:32<20:21,  6.75row/s]"
     ]
    },
    {
     "name": "stdout",
     "output_type": "stream",
     "text": [
      "Progress saved: cleaned_chunk_0, row 1754\r"
     ]
    },
    {
     "name": "stderr",
     "output_type": "stream",
     "text": [
      "Processing cleaned_chunk_0:  18%|█████                        | 1756/10000 [05:32<19:40,  6.98row/s]"
     ]
    },
    {
     "name": "stdout",
     "output_type": "stream",
     "text": [
      "Progress saved: cleaned_chunk_0, row 1756\r"
     ]
    },
    {
     "name": "stderr",
     "output_type": "stream",
     "text": [
      "Processing cleaned_chunk_0:  18%|█████                        | 1757/10000 [05:32<19:54,  6.90row/s]"
     ]
    },
    {
     "name": "stdout",
     "output_type": "stream",
     "text": [
      "Progress saved: cleaned_chunk_0, row 1757\r"
     ]
    },
    {
     "name": "stderr",
     "output_type": "stream",
     "text": [
      "Processing cleaned_chunk_0:  18%|█████                        | 1758/10000 [05:33<23:58,  5.73row/s]"
     ]
    },
    {
     "name": "stdout",
     "output_type": "stream",
     "text": [
      "Progress saved: cleaned_chunk_0, row 1758\r"
     ]
    },
    {
     "name": "stderr",
     "output_type": "stream",
     "text": [
      "Processing cleaned_chunk_0:  18%|█████                        | 1759/10000 [05:33<27:01,  5.08row/s]"
     ]
    },
    {
     "name": "stdout",
     "output_type": "stream",
     "text": [
      "Progress saved: cleaned_chunk_0, row 1759\r"
     ]
    },
    {
     "name": "stderr",
     "output_type": "stream",
     "text": [
      "Processing cleaned_chunk_0:  18%|█████                        | 1760/10000 [05:33<33:34,  4.09row/s]"
     ]
    },
    {
     "name": "stdout",
     "output_type": "stream",
     "text": [
      "Progress saved: cleaned_chunk_0, row 1760\r"
     ]
    },
    {
     "name": "stderr",
     "output_type": "stream",
     "text": [
      "Processing cleaned_chunk_0:  18%|█████                        | 1761/10000 [05:34<35:17,  3.89row/s]"
     ]
    },
    {
     "name": "stdout",
     "output_type": "stream",
     "text": [
      "Progress saved: cleaned_chunk_0, row 1762\r"
     ]
    },
    {
     "name": "stderr",
     "output_type": "stream",
     "text": [
      "Processing cleaned_chunk_0:  18%|█████                        | 1764/10000 [05:34<24:56,  5.50row/s]"
     ]
    },
    {
     "name": "stdout",
     "output_type": "stream",
     "text": [
      "Progress saved: cleaned_chunk_0, row 1765\r"
     ]
    },
    {
     "name": "stderr",
     "output_type": "stream",
     "text": [
      "Processing cleaned_chunk_0:  18%|█████                        | 1767/10000 [05:34<20:11,  6.80row/s]"
     ]
    },
    {
     "name": "stdout",
     "output_type": "stream",
     "text": [
      "Progress saved: cleaned_chunk_0, row 1767\r"
     ]
    },
    {
     "name": "stderr",
     "output_type": "stream",
     "text": [
      "Processing cleaned_chunk_0:  18%|█████▏                       | 1768/10000 [05:35<18:41,  7.34row/s]"
     ]
    },
    {
     "name": "stdout",
     "output_type": "stream",
     "text": [
      "Progress saved: cleaned_chunk_0, row 1768\r"
     ]
    },
    {
     "name": "stderr",
     "output_type": "stream",
     "text": [
      "Processing cleaned_chunk_0:  18%|█████▏                       | 1770/10000 [05:35<20:48,  6.59row/s]"
     ]
    },
    {
     "name": "stdout",
     "output_type": "stream",
     "text": [
      "Progress saved: cleaned_chunk_0, row 1770\r"
     ]
    },
    {
     "name": "stderr",
     "output_type": "stream",
     "text": [
      "Processing cleaned_chunk_0:  18%|█████▏                       | 1772/10000 [05:35<21:01,  6.52row/s]"
     ]
    },
    {
     "name": "stdout",
     "output_type": "stream",
     "text": [
      "Progress saved: cleaned_chunk_0, row 1772\r"
     ]
    },
    {
     "name": "stderr",
     "output_type": "stream",
     "text": [
      "Processing cleaned_chunk_0:  18%|█████▏                       | 1774/10000 [05:36<20:09,  6.80row/s]"
     ]
    },
    {
     "name": "stdout",
     "output_type": "stream",
     "text": [
      "Progress saved: cleaned_chunk_0, row 1774\r"
     ]
    },
    {
     "name": "stderr",
     "output_type": "stream",
     "text": [
      "Processing cleaned_chunk_0:  18%|█████▏                       | 1775/10000 [05:36<18:53,  7.26row/s]"
     ]
    },
    {
     "name": "stdout",
     "output_type": "stream",
     "text": [
      "Progress saved: cleaned_chunk_0, row 1775\r"
     ]
    },
    {
     "name": "stderr",
     "output_type": "stream",
     "text": [
      "Processing cleaned_chunk_0:  18%|█████▏                       | 1777/10000 [05:36<28:19,  4.84row/s]"
     ]
    },
    {
     "name": "stdout",
     "output_type": "stream",
     "text": [
      "Progress saved: cleaned_chunk_0, row 1777\r"
     ]
    },
    {
     "name": "stderr",
     "output_type": "stream",
     "text": [
      "Processing cleaned_chunk_0:  18%|█████▏                       | 1779/10000 [05:37<26:05,  5.25row/s]"
     ]
    },
    {
     "name": "stdout",
     "output_type": "stream",
     "text": [
      "Progress saved: cleaned_chunk_0, row 1779\r"
     ]
    },
    {
     "name": "stderr",
     "output_type": "stream",
     "text": [
      "Processing cleaned_chunk_0:  18%|█████▏                       | 1781/10000 [05:37<23:04,  5.94row/s]"
     ]
    },
    {
     "name": "stdout",
     "output_type": "stream",
     "text": [
      "Progress saved: cleaned_chunk_0, row 1781\r"
     ]
    },
    {
     "name": "stderr",
     "output_type": "stream",
     "text": [
      "Processing cleaned_chunk_0:  18%|█████▏                       | 1783/10000 [05:37<21:41,  6.31row/s]"
     ]
    },
    {
     "name": "stdout",
     "output_type": "stream",
     "text": [
      "Progress saved: cleaned_chunk_0, row 1783\r"
     ]
    },
    {
     "name": "stderr",
     "output_type": "stream",
     "text": [
      "Processing cleaned_chunk_0:  18%|█████▏                       | 1785/10000 [05:37<20:48,  6.58row/s]"
     ]
    },
    {
     "name": "stdout",
     "output_type": "stream",
     "text": [
      "Progress saved: cleaned_chunk_0, row 1785\r"
     ]
    },
    {
     "name": "stderr",
     "output_type": "stream",
     "text": [
      "Processing cleaned_chunk_0:  18%|█████▏                       | 1786/10000 [05:38<18:50,  7.27row/s]"
     ]
    },
    {
     "name": "stdout",
     "output_type": "stream",
     "text": [
      "Progress saved: cleaned_chunk_0, row 1786\r"
     ]
    },
    {
     "name": "stderr",
     "output_type": "stream",
     "text": [
      "Processing cleaned_chunk_0:  18%|█████▏                       | 1787/10000 [05:38<25:28,  5.37row/s]"
     ]
    },
    {
     "name": "stdout",
     "output_type": "stream",
     "text": [
      "Progress saved: cleaned_chunk_0, row 1787\r"
     ]
    },
    {
     "name": "stderr",
     "output_type": "stream",
     "text": [
      "Processing cleaned_chunk_0:  18%|█████▏                       | 1788/10000 [05:38<34:05,  4.02row/s]"
     ]
    },
    {
     "name": "stdout",
     "output_type": "stream",
     "text": [
      "Progress saved: cleaned_chunk_0, row 1788\r"
     ]
    },
    {
     "name": "stderr",
     "output_type": "stream",
     "text": [
      "Processing cleaned_chunk_0:  18%|█████▏                       | 1789/10000 [05:39<57:40,  2.37row/s]"
     ]
    },
    {
     "name": "stdout",
     "output_type": "stream",
     "text": [
      "Progress saved: cleaned_chunk_0, row 1789\r"
     ]
    },
    {
     "name": "stderr",
     "output_type": "stream",
     "text": [
      "Processing cleaned_chunk_0:  18%|█████▏                       | 1790/10000 [05:39<55:17,  2.48row/s]"
     ]
    },
    {
     "name": "stdout",
     "output_type": "stream",
     "text": [
      "Progress saved: cleaned_chunk_0, row 1790\r"
     ]
    },
    {
     "name": "stderr",
     "output_type": "stream",
     "text": [
      "Processing cleaned_chunk_0:  18%|█████▏                       | 1791/10000 [05:40<50:19,  2.72row/s]"
     ]
    },
    {
     "name": "stdout",
     "output_type": "stream",
     "text": [
      "Progress saved: cleaned_chunk_0, row 1791\r"
     ]
    },
    {
     "name": "stderr",
     "output_type": "stream",
     "text": [
      "Processing cleaned_chunk_0:  18%|█████▏                       | 1792/10000 [05:40<46:01,  2.97row/s]"
     ]
    },
    {
     "name": "stdout",
     "output_type": "stream",
     "text": [
      "Progress saved: cleaned_chunk_0, row 1792\r"
     ]
    },
    {
     "name": "stderr",
     "output_type": "stream",
     "text": [
      "Processing cleaned_chunk_0:  18%|█████▏                       | 1793/10000 [05:40<49:55,  2.74row/s]"
     ]
    },
    {
     "name": "stdout",
     "output_type": "stream",
     "text": [
      "Progress saved: cleaned_chunk_0, row 1793\r"
     ]
    },
    {
     "name": "stderr",
     "output_type": "stream",
     "text": [
      "Processing cleaned_chunk_0:  18%|█████▏                       | 1794/10000 [05:41<44:28,  3.08row/s]"
     ]
    },
    {
     "name": "stdout",
     "output_type": "stream",
     "text": [
      "Progress saved: cleaned_chunk_0, row 1794\r"
     ]
    },
    {
     "name": "stderr",
     "output_type": "stream",
     "text": [
      "Processing cleaned_chunk_0:  18%|█████▏                       | 1795/10000 [05:41<50:33,  2.70row/s]"
     ]
    },
    {
     "name": "stdout",
     "output_type": "stream",
     "text": [
      "Progress saved: cleaned_chunk_0, row 1795\r"
     ]
    },
    {
     "name": "stderr",
     "output_type": "stream",
     "text": [
      "Processing cleaned_chunk_0:  18%|█████▏                       | 1796/10000 [05:41<44:14,  3.09row/s]"
     ]
    },
    {
     "name": "stdout",
     "output_type": "stream",
     "text": [
      "Progress saved: cleaned_chunk_0, row 1797\r"
     ]
    },
    {
     "name": "stderr",
     "output_type": "stream",
     "text": [
      "Processing cleaned_chunk_0:  18%|█████▏                       | 1799/10000 [05:42<30:58,  4.41row/s]"
     ]
    },
    {
     "name": "stdout",
     "output_type": "stream",
     "text": [
      "Progress saved: cleaned_chunk_0, row 1799\r"
     ]
    },
    {
     "name": "stderr",
     "output_type": "stream",
     "text": [
      "Processing cleaned_chunk_0:  18%|█████▏                       | 1801/10000 [05:42<28:03,  4.87row/s]"
     ]
    },
    {
     "name": "stdout",
     "output_type": "stream",
     "text": [
      "Progress saved: cleaned_chunk_0, row 1801\r"
     ]
    },
    {
     "name": "stderr",
     "output_type": "stream",
     "text": [
      "Processing cleaned_chunk_0:  18%|█████▏                       | 1802/10000 [05:42<27:48,  4.91row/s]"
     ]
    },
    {
     "name": "stdout",
     "output_type": "stream",
     "text": [
      "Progress saved: cleaned_chunk_0, row 1802\r"
     ]
    },
    {
     "name": "stderr",
     "output_type": "stream",
     "text": [
      "Processing cleaned_chunk_0:  18%|█████▏                       | 1803/10000 [05:43<28:26,  4.80row/s]"
     ]
    },
    {
     "name": "stdout",
     "output_type": "stream",
     "text": [
      "Progress saved: cleaned_chunk_0, row 1803\r"
     ]
    },
    {
     "name": "stderr",
     "output_type": "stream",
     "text": [
      "Processing cleaned_chunk_0:  18%|█████▏                       | 1804/10000 [05:43<29:09,  4.69row/s]"
     ]
    },
    {
     "name": "stdout",
     "output_type": "stream",
     "text": [
      "Progress saved: cleaned_chunk_0, row 1804\r"
     ]
    },
    {
     "name": "stderr",
     "output_type": "stream",
     "text": [
      "Processing cleaned_chunk_0:  18%|█████▏                       | 1805/10000 [05:43<30:46,  4.44row/s]"
     ]
    },
    {
     "name": "stdout",
     "output_type": "stream",
     "text": [
      "Progress saved: cleaned_chunk_0, row 1805\r"
     ]
    },
    {
     "name": "stderr",
     "output_type": "stream",
     "text": [
      "Processing cleaned_chunk_0:  18%|█████▏                       | 1806/10000 [05:43<34:21,  3.98row/s]"
     ]
    },
    {
     "name": "stdout",
     "output_type": "stream",
     "text": [
      "Progress saved: cleaned_chunk_0, row 1806\r"
     ]
    },
    {
     "name": "stderr",
     "output_type": "stream",
     "text": [
      "Processing cleaned_chunk_0:  18%|█████▏                       | 1807/10000 [05:44<40:38,  3.36row/s]"
     ]
    },
    {
     "name": "stdout",
     "output_type": "stream",
     "text": [
      "Progress saved: cleaned_chunk_0, row 1807\r"
     ]
    },
    {
     "name": "stderr",
     "output_type": "stream",
     "text": [
      "Processing cleaned_chunk_0:  18%|█████▏                       | 1808/10000 [05:44<39:25,  3.46row/s]"
     ]
    },
    {
     "name": "stdout",
     "output_type": "stream",
     "text": [
      "Progress saved: cleaned_chunk_0, row 1808\r"
     ]
    },
    {
     "name": "stderr",
     "output_type": "stream",
     "text": [
      "Processing cleaned_chunk_0:  18%|█████▏                       | 1809/10000 [05:44<37:07,  3.68row/s]"
     ]
    },
    {
     "name": "stdout",
     "output_type": "stream",
     "text": [
      "Progress saved: cleaned_chunk_0, row 1809\r"
     ]
    },
    {
     "name": "stderr",
     "output_type": "stream",
     "text": [
      "Processing cleaned_chunk_0:  18%|█████▏                       | 1810/10000 [05:45<37:28,  3.64row/s]"
     ]
    },
    {
     "name": "stdout",
     "output_type": "stream",
     "text": [
      "Progress saved: cleaned_chunk_0, row 1810\r"
     ]
    },
    {
     "name": "stderr",
     "output_type": "stream",
     "text": [
      "Processing cleaned_chunk_0:  18%|█████▎                       | 1811/10000 [05:45<36:15,  3.76row/s]"
     ]
    },
    {
     "name": "stdout",
     "output_type": "stream",
     "text": [
      "Progress saved: cleaned_chunk_0, row 1812\r"
     ]
    },
    {
     "name": "stderr",
     "output_type": "stream",
     "text": [
      "Processing cleaned_chunk_0:  18%|█████▎                       | 1813/10000 [05:45<30:46,  4.43row/s]"
     ]
    },
    {
     "name": "stdout",
     "output_type": "stream",
     "text": [
      "Progress saved: cleaned_chunk_0, row 1813\r"
     ]
    },
    {
     "name": "stderr",
     "output_type": "stream",
     "text": [
      "Processing cleaned_chunk_0:  18%|█████▎                       | 1814/10000 [05:46<32:52,  4.15row/s]"
     ]
    },
    {
     "name": "stdout",
     "output_type": "stream",
     "text": [
      "Progress saved: cleaned_chunk_0, row 1814\r"
     ]
    },
    {
     "name": "stderr",
     "output_type": "stream",
     "text": [
      "Processing cleaned_chunk_0:  18%|█████▎                       | 1815/10000 [05:46<32:21,  4.22row/s]"
     ]
    },
    {
     "name": "stdout",
     "output_type": "stream",
     "text": [
      "Progress saved: cleaned_chunk_0, row 1815\r"
     ]
    },
    {
     "name": "stderr",
     "output_type": "stream",
     "text": [
      "Processing cleaned_chunk_0:  18%|█████▎                       | 1816/10000 [05:46<42:05,  3.24row/s]"
     ]
    },
    {
     "name": "stdout",
     "output_type": "stream",
     "text": [
      "Progress saved: cleaned_chunk_0, row 1816\r"
     ]
    },
    {
     "name": "stderr",
     "output_type": "stream",
     "text": [
      "Processing cleaned_chunk_0:  18%|█████▎                       | 1817/10000 [05:46<38:13,  3.57row/s]"
     ]
    },
    {
     "name": "stdout",
     "output_type": "stream",
     "text": [
      "Progress saved: cleaned_chunk_0, row 1818\r"
     ]
    },
    {
     "name": "stderr",
     "output_type": "stream",
     "text": [
      "Processing cleaned_chunk_0:  18%|█████▎                       | 1820/10000 [05:47<26:35,  5.13row/s]"
     ]
    },
    {
     "name": "stdout",
     "output_type": "stream",
     "text": [
      "Progress saved: cleaned_chunk_0, row 1820\r"
     ]
    },
    {
     "name": "stderr",
     "output_type": "stream",
     "text": [
      "Processing cleaned_chunk_0:  18%|█████▎                       | 1822/10000 [05:47<24:00,  5.68row/s]"
     ]
    },
    {
     "name": "stdout",
     "output_type": "stream",
     "text": [
      "Progress saved: cleaned_chunk_0, row 1822\r"
     ]
    },
    {
     "name": "stderr",
     "output_type": "stream",
     "text": [
      "Processing cleaned_chunk_0:  18%|█████▎                       | 1824/10000 [05:48<22:02,  6.18row/s]"
     ]
    },
    {
     "name": "stdout",
     "output_type": "stream",
     "text": [
      "Progress saved: cleaned_chunk_0, row 1824\r"
     ]
    },
    {
     "name": "stderr",
     "output_type": "stream",
     "text": [
      "Processing cleaned_chunk_0:  18%|█████▎                       | 1825/10000 [05:48<20:51,  6.53row/s]"
     ]
    },
    {
     "name": "stdout",
     "output_type": "stream",
     "text": [
      "Progress saved: cleaned_chunk_0, row 1825\r"
     ]
    },
    {
     "name": "stderr",
     "output_type": "stream",
     "text": [
      "Processing cleaned_chunk_0:  18%|█████▎                       | 1826/10000 [05:48<29:09,  4.67row/s]"
     ]
    },
    {
     "name": "stdout",
     "output_type": "stream",
     "text": [
      "Progress saved: cleaned_chunk_0, row 1826\r"
     ]
    },
    {
     "name": "stderr",
     "output_type": "stream",
     "text": [
      "Processing cleaned_chunk_0:  18%|█████▎                       | 1827/10000 [05:48<29:31,  4.61row/s]"
     ]
    },
    {
     "name": "stdout",
     "output_type": "stream",
     "text": [
      "Progress saved: cleaned_chunk_0, row 1828\r"
     ]
    },
    {
     "name": "stderr",
     "output_type": "stream",
     "text": [
      "Processing cleaned_chunk_0:  18%|█████▎                       | 1830/10000 [05:49<29:51,  4.56row/s]"
     ]
    },
    {
     "name": "stdout",
     "output_type": "stream",
     "text": [
      "Progress saved: cleaned_chunk_0, row 1830\r"
     ]
    },
    {
     "name": "stderr",
     "output_type": "stream",
     "text": [
      "Processing cleaned_chunk_0:  18%|█████▎                       | 1831/10000 [05:50<43:55,  3.10row/s]"
     ]
    },
    {
     "name": "stdout",
     "output_type": "stream",
     "text": [
      "Progress saved: cleaned_chunk_0, row 1831\r"
     ]
    },
    {
     "name": "stderr",
     "output_type": "stream",
     "text": [
      "Processing cleaned_chunk_0:  18%|█████▎                       | 1832/10000 [05:50<59:15,  2.30row/s]"
     ]
    },
    {
     "name": "stdout",
     "output_type": "stream",
     "text": [
      "Progress saved: cleaned_chunk_0, row 1832\r"
     ]
    },
    {
     "name": "stderr",
     "output_type": "stream",
     "text": [
      "Processing cleaned_chunk_0:  18%|█████▎                       | 1833/10000 [05:50<51:44,  2.63row/s]"
     ]
    },
    {
     "name": "stdout",
     "output_type": "stream",
     "text": [
      "Progress saved: cleaned_chunk_0, row 1834\r"
     ]
    },
    {
     "name": "stderr",
     "output_type": "stream",
     "text": [
      "Processing cleaned_chunk_0:  18%|█████▎                       | 1836/10000 [05:51<38:53,  3.50row/s]"
     ]
    },
    {
     "name": "stdout",
     "output_type": "stream",
     "text": [
      "Progress saved: cleaned_chunk_0, row 1836\r"
     ]
    },
    {
     "name": "stderr",
     "output_type": "stream",
     "text": [
      "Processing cleaned_chunk_0:  18%|█████▎                       | 1837/10000 [05:51<33:51,  4.02row/s]"
     ]
    },
    {
     "name": "stdout",
     "output_type": "stream",
     "text": [
      "Progress saved: cleaned_chunk_0, row 1837\r"
     ]
    },
    {
     "name": "stderr",
     "output_type": "stream",
     "text": [
      "Processing cleaned_chunk_0:  18%|█████▎                       | 1839/10000 [05:52<28:30,  4.77row/s]"
     ]
    },
    {
     "name": "stdout",
     "output_type": "stream",
     "text": [
      "Progress saved: cleaned_chunk_0, row 1839\r"
     ]
    },
    {
     "name": "stderr",
     "output_type": "stream",
     "text": [
      "Processing cleaned_chunk_0:  18%|█████▎                       | 1841/10000 [05:52<25:00,  5.44row/s]"
     ]
    },
    {
     "name": "stdout",
     "output_type": "stream",
     "text": [
      "Progress saved: cleaned_chunk_0, row 1841\r"
     ]
    },
    {
     "name": "stderr",
     "output_type": "stream",
     "text": [
      "Processing cleaned_chunk_0:  18%|█████▎                       | 1842/10000 [05:52<22:52,  5.94row/s]"
     ]
    },
    {
     "name": "stdout",
     "output_type": "stream",
     "text": [
      "Progress saved: cleaned_chunk_0, row 1843\r"
     ]
    },
    {
     "name": "stderr",
     "output_type": "stream",
     "text": [
      "Processing cleaned_chunk_0:  18%|█████▎                       | 1845/10000 [05:53<22:31,  6.03row/s]"
     ]
    },
    {
     "name": "stdout",
     "output_type": "stream",
     "text": [
      "Progress saved: cleaned_chunk_0, row 1845\r"
     ]
    },
    {
     "name": "stderr",
     "output_type": "stream",
     "text": [
      "Processing cleaned_chunk_0:  18%|█████▎                       | 1846/10000 [05:53<20:05,  6.76row/s]"
     ]
    },
    {
     "name": "stdout",
     "output_type": "stream",
     "text": [
      "Progress saved: cleaned_chunk_0, row 1846\r"
     ]
    },
    {
     "name": "stderr",
     "output_type": "stream",
     "text": [
      "Processing cleaned_chunk_0:  18%|█████▎                       | 1847/10000 [05:53<25:08,  5.41row/s]"
     ]
    },
    {
     "name": "stdout",
     "output_type": "stream",
     "text": [
      "Progress saved: cleaned_chunk_0, row 1848\r"
     ]
    },
    {
     "name": "stderr",
     "output_type": "stream",
     "text": [
      "Processing cleaned_chunk_0:  18%|█████▎                       | 1849/10000 [05:53<24:13,  5.61row/s]"
     ]
    },
    {
     "name": "stdout",
     "output_type": "stream",
     "text": [
      "Progress saved: cleaned_chunk_0, row 1850\r"
     ]
    },
    {
     "name": "stderr",
     "output_type": "stream",
     "text": [
      "Processing cleaned_chunk_0:  19%|█████▎                       | 1852/10000 [05:54<25:30,  5.32row/s]"
     ]
    },
    {
     "name": "stdout",
     "output_type": "stream",
     "text": [
      "Progress saved: cleaned_chunk_0, row 1852\r"
     ]
    },
    {
     "name": "stderr",
     "output_type": "stream",
     "text": [
      "Processing cleaned_chunk_0:  19%|█████▎                       | 1853/10000 [05:54<32:13,  4.21row/s]"
     ]
    },
    {
     "name": "stdout",
     "output_type": "stream",
     "text": [
      "Progress saved: cleaned_chunk_0, row 1853\r"
     ]
    },
    {
     "name": "stderr",
     "output_type": "stream",
     "text": [
      "Processing cleaned_chunk_0:  19%|█████▍                       | 1854/10000 [05:55<35:52,  3.78row/s]"
     ]
    },
    {
     "name": "stdout",
     "output_type": "stream",
     "text": [
      "Progress saved: cleaned_chunk_0, row 1854\r"
     ]
    },
    {
     "name": "stderr",
     "output_type": "stream",
     "text": [
      "Processing cleaned_chunk_0:  19%|█████▍                       | 1855/10000 [05:55<36:57,  3.67row/s]"
     ]
    },
    {
     "name": "stdout",
     "output_type": "stream",
     "text": [
      "Progress saved: cleaned_chunk_0, row 1855\r"
     ]
    },
    {
     "name": "stderr",
     "output_type": "stream",
     "text": [
      "Processing cleaned_chunk_0:  19%|█████▍                       | 1857/10000 [05:56<37:07,  3.66row/s]"
     ]
    },
    {
     "name": "stdout",
     "output_type": "stream",
     "text": [
      "Progress saved: cleaned_chunk_0, row 1857\r"
     ]
    },
    {
     "name": "stderr",
     "output_type": "stream",
     "text": [
      "Processing cleaned_chunk_0:  19%|█████▍                       | 1859/10000 [05:56<30:40,  4.42row/s]"
     ]
    },
    {
     "name": "stdout",
     "output_type": "stream",
     "text": [
      "Progress saved: cleaned_chunk_0, row 1859\r"
     ]
    },
    {
     "name": "stderr",
     "output_type": "stream",
     "text": [
      "Processing cleaned_chunk_0:  19%|█████▍                       | 1861/10000 [05:56<26:35,  5.10row/s]"
     ]
    },
    {
     "name": "stdout",
     "output_type": "stream",
     "text": [
      "Progress saved: cleaned_chunk_0, row 1861\r"
     ]
    },
    {
     "name": "stderr",
     "output_type": "stream",
     "text": [
      "Processing cleaned_chunk_0:  19%|█████▍                       | 1863/10000 [05:57<26:57,  5.03row/s]"
     ]
    },
    {
     "name": "stdout",
     "output_type": "stream",
     "text": [
      "Progress saved: cleaned_chunk_0, row 1863\r"
     ]
    },
    {
     "name": "stderr",
     "output_type": "stream",
     "text": [
      "Processing cleaned_chunk_0:  19%|█████▍                       | 1864/10000 [05:57<23:12,  5.84row/s]"
     ]
    },
    {
     "name": "stdout",
     "output_type": "stream",
     "text": [
      "Progress saved: cleaned_chunk_0, row 1864\r"
     ]
    },
    {
     "name": "stderr",
     "output_type": "stream",
     "text": [
      "Processing cleaned_chunk_0:  19%|█████▍                       | 1866/10000 [05:57<22:24,  6.05row/s]"
     ]
    },
    {
     "name": "stdout",
     "output_type": "stream",
     "text": [
      "Progress saved: cleaned_chunk_0, row 1866\r"
     ]
    },
    {
     "name": "stderr",
     "output_type": "stream",
     "text": [
      "Processing cleaned_chunk_0:  19%|█████▍                       | 1868/10000 [05:57<19:32,  6.94row/s]"
     ]
    },
    {
     "name": "stdout",
     "output_type": "stream",
     "text": [
      "Progress saved: cleaned_chunk_0, row 1868\r"
     ]
    },
    {
     "name": "stderr",
     "output_type": "stream",
     "text": [
      "Processing cleaned_chunk_0:  19%|█████▍                       | 1870/10000 [05:58<20:47,  6.52row/s]"
     ]
    },
    {
     "name": "stdout",
     "output_type": "stream",
     "text": [
      "Progress saved: cleaned_chunk_0, row 1870\r"
     ]
    },
    {
     "name": "stderr",
     "output_type": "stream",
     "text": [
      "Processing cleaned_chunk_0:  19%|█████▍                       | 1871/10000 [05:58<19:54,  6.81row/s]"
     ]
    },
    {
     "name": "stdout",
     "output_type": "stream",
     "text": [
      "Progress saved: cleaned_chunk_0, row 1871\r"
     ]
    },
    {
     "name": "stderr",
     "output_type": "stream",
     "text": [
      "Processing cleaned_chunk_0:  19%|█████▍                       | 1872/10000 [05:58<31:15,  4.33row/s]"
     ]
    },
    {
     "name": "stdout",
     "output_type": "stream",
     "text": [
      "Progress saved: cleaned_chunk_0, row 1872\r"
     ]
    },
    {
     "name": "stderr",
     "output_type": "stream",
     "text": [
      "Processing cleaned_chunk_0:  19%|█████▍                       | 1873/10000 [05:59<30:46,  4.40row/s]"
     ]
    },
    {
     "name": "stdout",
     "output_type": "stream",
     "text": [
      "Progress saved: cleaned_chunk_0, row 1874\r"
     ]
    },
    {
     "name": "stderr",
     "output_type": "stream",
     "text": [
      "Processing cleaned_chunk_0:  19%|█████▍                       | 1876/10000 [05:59<24:56,  5.43row/s]"
     ]
    },
    {
     "name": "stdout",
     "output_type": "stream",
     "text": [
      "Progress saved: cleaned_chunk_0, row 1876\r"
     ]
    },
    {
     "name": "stderr",
     "output_type": "stream",
     "text": [
      "Processing cleaned_chunk_0:  19%|█████▍                       | 1877/10000 [05:59<23:32,  5.75row/s]"
     ]
    },
    {
     "name": "stdout",
     "output_type": "stream",
     "text": [
      "Progress saved: cleaned_chunk_0, row 1877\r"
     ]
    },
    {
     "name": "stderr",
     "output_type": "stream",
     "text": [
      "Processing cleaned_chunk_0:  19%|█████▍                       | 1878/10000 [05:59<25:12,  5.37row/s]"
     ]
    },
    {
     "name": "stdout",
     "output_type": "stream",
     "text": [
      "Progress saved: cleaned_chunk_0, row 1879\r"
     ]
    },
    {
     "name": "stderr",
     "output_type": "stream",
     "text": [
      "Processing cleaned_chunk_0:  19%|█████▍                       | 1881/10000 [06:00<23:39,  5.72row/s]"
     ]
    },
    {
     "name": "stdout",
     "output_type": "stream",
     "text": [
      "Progress saved: cleaned_chunk_0, row 1881\r"
     ]
    },
    {
     "name": "stderr",
     "output_type": "stream",
     "text": [
      "Processing cleaned_chunk_0:  19%|█████▍                       | 1882/10000 [06:00<22:13,  6.09row/s]"
     ]
    },
    {
     "name": "stdout",
     "output_type": "stream",
     "text": [
      "Progress saved: cleaned_chunk_0, row 1882\r"
     ]
    },
    {
     "name": "stderr",
     "output_type": "stream",
     "text": [
      "Processing cleaned_chunk_0:  19%|█████▍                       | 1883/10000 [06:00<27:55,  4.84row/s]"
     ]
    },
    {
     "name": "stdout",
     "output_type": "stream",
     "text": [
      "Progress saved: cleaned_chunk_0, row 1883\r"
     ]
    },
    {
     "name": "stderr",
     "output_type": "stream",
     "text": [
      "Processing cleaned_chunk_0:  19%|█████▍                       | 1884/10000 [06:01<31:19,  4.32row/s]"
     ]
    },
    {
     "name": "stdout",
     "output_type": "stream",
     "text": [
      "Progress saved: cleaned_chunk_0, row 1885\r"
     ]
    },
    {
     "name": "stderr",
     "output_type": "stream",
     "text": [
      "Processing cleaned_chunk_0:  19%|█████▍                       | 1887/10000 [06:01<26:43,  5.06row/s]"
     ]
    },
    {
     "name": "stdout",
     "output_type": "stream",
     "text": [
      "Progress saved: cleaned_chunk_0, row 1887\r"
     ]
    },
    {
     "name": "stderr",
     "output_type": "stream",
     "text": [
      "Processing cleaned_chunk_0:  19%|█████▍                       | 1888/10000 [06:01<24:04,  5.62row/s]"
     ]
    },
    {
     "name": "stdout",
     "output_type": "stream",
     "text": [
      "Progress saved: cleaned_chunk_0, row 1889\r"
     ]
    },
    {
     "name": "stderr",
     "output_type": "stream",
     "text": [
      "Processing cleaned_chunk_0:  19%|█████▍                       | 1891/10000 [06:02<20:10,  6.70row/s]"
     ]
    },
    {
     "name": "stdout",
     "output_type": "stream",
     "text": [
      "Progress saved: cleaned_chunk_0, row 1891\r"
     ]
    },
    {
     "name": "stderr",
     "output_type": "stream",
     "text": [
      "Processing cleaned_chunk_0:  19%|█████▍                       | 1893/10000 [06:02<19:58,  6.76row/s]"
     ]
    },
    {
     "name": "stdout",
     "output_type": "stream",
     "text": [
      "Progress saved: cleaned_chunk_0, row 1893\r"
     ]
    },
    {
     "name": "stderr",
     "output_type": "stream",
     "text": [
      "Processing cleaned_chunk_0:  19%|█████▍                       | 1895/10000 [06:02<19:35,  6.89row/s]"
     ]
    },
    {
     "name": "stdout",
     "output_type": "stream",
     "text": [
      "Progress saved: cleaned_chunk_0, row 1895\r"
     ]
    },
    {
     "name": "stderr",
     "output_type": "stream",
     "text": [
      "Processing cleaned_chunk_0:  19%|█████▍                       | 1896/10000 [06:02<18:02,  7.49row/s]"
     ]
    },
    {
     "name": "stdout",
     "output_type": "stream",
     "text": [
      "Progress saved: cleaned_chunk_0, row 1897\r"
     ]
    },
    {
     "name": "stderr",
     "output_type": "stream",
     "text": [
      "Processing cleaned_chunk_0:  19%|█████▌                       | 1899/10000 [06:03<18:56,  7.13row/s]"
     ]
    },
    {
     "name": "stdout",
     "output_type": "stream",
     "text": [
      "Progress saved: cleaned_chunk_0, row 1899\r"
     ]
    },
    {
     "name": "stderr",
     "output_type": "stream",
     "text": [
      "Processing cleaned_chunk_0:  19%|█████▌                       | 1900/10000 [06:03<17:55,  7.53row/s]"
     ]
    },
    {
     "name": "stdout",
     "output_type": "stream",
     "text": [
      "Progress saved: cleaned_chunk_0, row 1900\r"
     ]
    },
    {
     "name": "stderr",
     "output_type": "stream",
     "text": [
      "Processing cleaned_chunk_0:  19%|█████▌                       | 1901/10000 [06:03<24:05,  5.60row/s]"
     ]
    },
    {
     "name": "stdout",
     "output_type": "stream",
     "text": [
      "Progress saved: cleaned_chunk_0, row 1901\r"
     ]
    },
    {
     "name": "stderr",
     "output_type": "stream",
     "text": [
      "Processing cleaned_chunk_0:  19%|█████▌                       | 1902/10000 [06:04<31:11,  4.33row/s]"
     ]
    },
    {
     "name": "stdout",
     "output_type": "stream",
     "text": [
      "Progress saved: cleaned_chunk_0, row 1902\r"
     ]
    },
    {
     "name": "stderr",
     "output_type": "stream",
     "text": [
      "Processing cleaned_chunk_0:  19%|█████▌                       | 1904/10000 [06:04<27:23,  4.93row/s]"
     ]
    },
    {
     "name": "stdout",
     "output_type": "stream",
     "text": [
      "Progress saved: cleaned_chunk_0, row 1904\r"
     ]
    },
    {
     "name": "stderr",
     "output_type": "stream",
     "text": [
      "Processing cleaned_chunk_0:  19%|█████▌                       | 1906/10000 [06:04<24:17,  5.56row/s]"
     ]
    },
    {
     "name": "stdout",
     "output_type": "stream",
     "text": [
      "Progress saved: cleaned_chunk_0, row 1906\r"
     ]
    },
    {
     "name": "stderr",
     "output_type": "stream",
     "text": [
      "Processing cleaned_chunk_0:  19%|█████▌                       | 1908/10000 [06:05<22:05,  6.10row/s]"
     ]
    },
    {
     "name": "stdout",
     "output_type": "stream",
     "text": [
      "Progress saved: cleaned_chunk_0, row 1908\r"
     ]
    },
    {
     "name": "stderr",
     "output_type": "stream",
     "text": [
      "Processing cleaned_chunk_0:  19%|█████▌                       | 1909/10000 [06:05<20:13,  6.67row/s]"
     ]
    },
    {
     "name": "stdout",
     "output_type": "stream",
     "text": [
      "Progress saved: cleaned_chunk_0, row 1909\r"
     ]
    },
    {
     "name": "stderr",
     "output_type": "stream",
     "text": [
      "Processing cleaned_chunk_0:  19%|█████▌                       | 1911/10000 [06:05<21:31,  6.26row/s]"
     ]
    },
    {
     "name": "stdout",
     "output_type": "stream",
     "text": [
      "Progress saved: cleaned_chunk_0, row 1911\r"
     ]
    },
    {
     "name": "stderr",
     "output_type": "stream",
     "text": [
      "Processing cleaned_chunk_0:  19%|█████▌                       | 1913/10000 [06:05<20:48,  6.48row/s]"
     ]
    },
    {
     "name": "stdout",
     "output_type": "stream",
     "text": [
      "Progress saved: cleaned_chunk_0, row 1913\r"
     ]
    },
    {
     "name": "stderr",
     "output_type": "stream",
     "text": [
      "Processing cleaned_chunk_0:  19%|█████▌                       | 1914/10000 [06:06<19:39,  6.86row/s]"
     ]
    },
    {
     "name": "stdout",
     "output_type": "stream",
     "text": [
      "Progress saved: cleaned_chunk_0, row 1914\r"
     ]
    },
    {
     "name": "stderr",
     "output_type": "stream",
     "text": [
      "Processing cleaned_chunk_0:  19%|█████▌                       | 1915/10000 [06:06<26:53,  5.01row/s]"
     ]
    },
    {
     "name": "stdout",
     "output_type": "stream",
     "text": [
      "Progress saved: cleaned_chunk_0, row 1915\r"
     ]
    },
    {
     "name": "stderr",
     "output_type": "stream",
     "text": [
      "Processing cleaned_chunk_0:  19%|█████▌                       | 1916/10000 [06:06<30:17,  4.45row/s]"
     ]
    },
    {
     "name": "stdout",
     "output_type": "stream",
     "text": [
      "Progress saved: cleaned_chunk_0, row 1916\r"
     ]
    },
    {
     "name": "stderr",
     "output_type": "stream",
     "text": [
      "Processing cleaned_chunk_0:  19%|█████▌                       | 1917/10000 [06:06<30:43,  4.39row/s]"
     ]
    },
    {
     "name": "stdout",
     "output_type": "stream",
     "text": [
      "Progress saved: cleaned_chunk_0, row 1917\r"
     ]
    },
    {
     "name": "stderr",
     "output_type": "stream",
     "text": [
      "Processing cleaned_chunk_0:  19%|█████▌                       | 1918/10000 [06:07<36:54,  3.65row/s]"
     ]
    },
    {
     "name": "stdout",
     "output_type": "stream",
     "text": [
      "Progress saved: cleaned_chunk_0, row 1918\r"
     ]
    },
    {
     "name": "stderr",
     "output_type": "stream",
     "text": [
      "Processing cleaned_chunk_0:  19%|█████▌                       | 1919/10000 [06:07<36:22,  3.70row/s]"
     ]
    },
    {
     "name": "stdout",
     "output_type": "stream",
     "text": [
      "Progress saved: cleaned_chunk_0, row 1919\r"
     ]
    },
    {
     "name": "stderr",
     "output_type": "stream",
     "text": [
      "Processing cleaned_chunk_0:  19%|█████▌                       | 1920/10000 [06:07<36:37,  3.68row/s]"
     ]
    },
    {
     "name": "stdout",
     "output_type": "stream",
     "text": [
      "Progress saved: cleaned_chunk_0, row 1921\r"
     ]
    },
    {
     "name": "stderr",
     "output_type": "stream",
     "text": [
      "Processing cleaned_chunk_0:  19%|█████▌                       | 1923/10000 [06:08<25:39,  5.24row/s]"
     ]
    },
    {
     "name": "stdout",
     "output_type": "stream",
     "text": [
      "Progress saved: cleaned_chunk_0, row 1923\r"
     ]
    },
    {
     "name": "stderr",
     "output_type": "stream",
     "text": [
      "Processing cleaned_chunk_0:  19%|█████▌                       | 1925/10000 [06:08<21:45,  6.19row/s]"
     ]
    },
    {
     "name": "stdout",
     "output_type": "stream",
     "text": [
      "Progress saved: cleaned_chunk_0, row 1925\r"
     ]
    },
    {
     "name": "stderr",
     "output_type": "stream",
     "text": [
      "Processing cleaned_chunk_0:  19%|█████▌                       | 1927/10000 [06:08<18:35,  7.23row/s]"
     ]
    },
    {
     "name": "stdout",
     "output_type": "stream",
     "text": [
      "Progress saved: cleaned_chunk_0, row 1927\r"
     ]
    },
    {
     "name": "stderr",
     "output_type": "stream",
     "text": [
      "Processing cleaned_chunk_0:  19%|█████▌                       | 1928/10000 [06:08<19:05,  7.05row/s]"
     ]
    },
    {
     "name": "stdout",
     "output_type": "stream",
     "text": [
      "Progress saved: cleaned_chunk_0, row 1928\r"
     ]
    },
    {
     "name": "stderr",
     "output_type": "stream",
     "text": [
      "Processing cleaned_chunk_0:  19%|█████▌                       | 1929/10000 [06:09<27:31,  4.89row/s]"
     ]
    },
    {
     "name": "stdout",
     "output_type": "stream",
     "text": [
      "Progress saved: cleaned_chunk_0, row 1929\r"
     ]
    },
    {
     "name": "stderr",
     "output_type": "stream",
     "text": [
      "Processing cleaned_chunk_0:  19%|█████▌                       | 1930/10000 [06:09<33:07,  4.06row/s]"
     ]
    },
    {
     "name": "stdout",
     "output_type": "stream",
     "text": [
      "Progress saved: cleaned_chunk_0, row 1931\r"
     ]
    },
    {
     "name": "stderr",
     "output_type": "stream",
     "text": [
      "Processing cleaned_chunk_0:  19%|█████▌                       | 1932/10000 [06:10<31:16,  4.30row/s]"
     ]
    },
    {
     "name": "stdout",
     "output_type": "stream",
     "text": [
      "Progress saved: cleaned_chunk_0, row 1933\r"
     ]
    },
    {
     "name": "stderr",
     "output_type": "stream",
     "text": [
      "Processing cleaned_chunk_0:  19%|█████▌                       | 1934/10000 [06:10<28:24,  4.73row/s]"
     ]
    },
    {
     "name": "stdout",
     "output_type": "stream",
     "text": [
      "Progress saved: cleaned_chunk_0, row 1935\r"
     ]
    },
    {
     "name": "stderr",
     "output_type": "stream",
     "text": [
      "Processing cleaned_chunk_0:  19%|█████▌                       | 1937/10000 [06:10<21:34,  6.23row/s]"
     ]
    },
    {
     "name": "stdout",
     "output_type": "stream",
     "text": [
      "Progress saved: cleaned_chunk_0, row 1937\r"
     ]
    },
    {
     "name": "stderr",
     "output_type": "stream",
     "text": [
      "Processing cleaned_chunk_0:  19%|█████▌                       | 1938/10000 [06:10<20:06,  6.68row/s]"
     ]
    },
    {
     "name": "stdout",
     "output_type": "stream",
     "text": [
      "Progress saved: cleaned_chunk_0, row 1938\r"
     ]
    },
    {
     "name": "stderr",
     "output_type": "stream",
     "text": [
      "Processing cleaned_chunk_0:  19%|█████▌                       | 1939/10000 [06:11<24:50,  5.41row/s]"
     ]
    },
    {
     "name": "stdout",
     "output_type": "stream",
     "text": [
      "Progress saved: cleaned_chunk_0, row 1939\r"
     ]
    },
    {
     "name": "stderr",
     "output_type": "stream",
     "text": [
      "Processing cleaned_chunk_0:  19%|█████▋                       | 1941/10000 [06:11<29:58,  4.48row/s]"
     ]
    },
    {
     "name": "stdout",
     "output_type": "stream",
     "text": [
      "Progress saved: cleaned_chunk_0, row 1941\r"
     ]
    },
    {
     "name": "stderr",
     "output_type": "stream",
     "text": [
      "Processing cleaned_chunk_0:  19%|█████▋                       | 1942/10000 [06:11<28:35,  4.70row/s]"
     ]
    },
    {
     "name": "stdout",
     "output_type": "stream",
     "text": [
      "Progress saved: cleaned_chunk_0, row 1942\r"
     ]
    },
    {
     "name": "stderr",
     "output_type": "stream",
     "text": [
      "Processing cleaned_chunk_0:  19%|█████▋                       | 1943/10000 [06:12<46:03,  2.92row/s]"
     ]
    },
    {
     "name": "stdout",
     "output_type": "stream",
     "text": [
      "Progress saved: cleaned_chunk_0, row 1943\r"
     ]
    },
    {
     "name": "stderr",
     "output_type": "stream",
     "text": [
      "Processing cleaned_chunk_0:  19%|█████▋                       | 1944/10000 [06:13<49:25,  2.72row/s]"
     ]
    },
    {
     "name": "stdout",
     "output_type": "stream",
     "text": [
      "Progress saved: cleaned_chunk_0, row 1945\r"
     ]
    },
    {
     "name": "stderr",
     "output_type": "stream",
     "text": [
      "Processing cleaned_chunk_0:  19%|█████▋                       | 1947/10000 [06:13<30:38,  4.38row/s]"
     ]
    },
    {
     "name": "stdout",
     "output_type": "stream",
     "text": [
      "Progress saved: cleaned_chunk_0, row 1947\r"
     ]
    },
    {
     "name": "stderr",
     "output_type": "stream",
     "text": [
      "Processing cleaned_chunk_0:  19%|█████▋                       | 1949/10000 [06:13<25:14,  5.32row/s]"
     ]
    },
    {
     "name": "stdout",
     "output_type": "stream",
     "text": [
      "Progress saved: cleaned_chunk_0, row 1949\r"
     ]
    },
    {
     "name": "stderr",
     "output_type": "stream",
     "text": [
      "Processing cleaned_chunk_0:  20%|█████▋                       | 1951/10000 [06:14<22:02,  6.09row/s]"
     ]
    },
    {
     "name": "stdout",
     "output_type": "stream",
     "text": [
      "Progress saved: cleaned_chunk_0, row 1951\r"
     ]
    },
    {
     "name": "stderr",
     "output_type": "stream",
     "text": [
      "Processing cleaned_chunk_0:  20%|█████▋                       | 1952/10000 [06:14<19:43,  6.80row/s]"
     ]
    },
    {
     "name": "stdout",
     "output_type": "stream",
     "text": [
      "Progress saved: cleaned_chunk_0, row 1953\r"
     ]
    },
    {
     "name": "stderr",
     "output_type": "stream",
     "text": [
      "Processing cleaned_chunk_0:  20%|█████▋                       | 1955/10000 [06:14<21:32,  6.22row/s]"
     ]
    },
    {
     "name": "stdout",
     "output_type": "stream",
     "text": [
      "Progress saved: cleaned_chunk_0, row 1955\r"
     ]
    },
    {
     "name": "stderr",
     "output_type": "stream",
     "text": [
      "Processing cleaned_chunk_0:  20%|█████▋                       | 1957/10000 [06:14<18:49,  7.12row/s]"
     ]
    },
    {
     "name": "stdout",
     "output_type": "stream",
     "text": [
      "Progress saved: cleaned_chunk_0, row 1957\r"
     ]
    },
    {
     "name": "stderr",
     "output_type": "stream",
     "text": [
      "Processing cleaned_chunk_0:  20%|█████▋                       | 1958/10000 [06:15<24:21,  5.50row/s]"
     ]
    },
    {
     "name": "stdout",
     "output_type": "stream",
     "text": [
      "Progress saved: cleaned_chunk_0, row 1958\r"
     ]
    },
    {
     "name": "stderr",
     "output_type": "stream",
     "text": [
      "Processing cleaned_chunk_0:  20%|█████▋                       | 1959/10000 [06:15<41:30,  3.23row/s]"
     ]
    },
    {
     "name": "stdout",
     "output_type": "stream",
     "text": [
      "Progress saved: cleaned_chunk_0, row 1959\r"
     ]
    },
    {
     "name": "stderr",
     "output_type": "stream",
     "text": [
      "Processing cleaned_chunk_0:  20%|█████▋                       | 1960/10000 [06:16<42:12,  3.18row/s]"
     ]
    },
    {
     "name": "stdout",
     "output_type": "stream",
     "text": [
      "Progress saved: cleaned_chunk_0, row 1960\r"
     ]
    },
    {
     "name": "stderr",
     "output_type": "stream",
     "text": [
      "Processing cleaned_chunk_0:  20%|█████▋                       | 1961/10000 [06:16<39:28,  3.39row/s]"
     ]
    },
    {
     "name": "stdout",
     "output_type": "stream",
     "text": [
      "Progress saved: cleaned_chunk_0, row 1961\r"
     ]
    },
    {
     "name": "stderr",
     "output_type": "stream",
     "text": [
      "Processing cleaned_chunk_0:  20%|█████▋                       | 1962/10000 [06:16<37:13,  3.60row/s]"
     ]
    },
    {
     "name": "stdout",
     "output_type": "stream",
     "text": [
      "Progress saved: cleaned_chunk_0, row 1962\r"
     ]
    },
    {
     "name": "stderr",
     "output_type": "stream",
     "text": [
      "Processing cleaned_chunk_0:  20%|█████▋                       | 1963/10000 [06:17<43:14,  3.10row/s]"
     ]
    },
    {
     "name": "stdout",
     "output_type": "stream",
     "text": [
      "Progress saved: cleaned_chunk_0, row 1963\r"
     ]
    },
    {
     "name": "stderr",
     "output_type": "stream",
     "text": [
      "Processing cleaned_chunk_0:  20%|█████▋                       | 1964/10000 [06:17<40:17,  3.32row/s]"
     ]
    },
    {
     "name": "stdout",
     "output_type": "stream",
     "text": [
      "Progress saved: cleaned_chunk_0, row 1964\r"
     ]
    },
    {
     "name": "stderr",
     "output_type": "stream",
     "text": [
      "Processing cleaned_chunk_0:  20%|█████▋                       | 1965/10000 [06:17<39:23,  3.40row/s]"
     ]
    },
    {
     "name": "stdout",
     "output_type": "stream",
     "text": [
      "Progress saved: cleaned_chunk_0, row 1965\r"
     ]
    },
    {
     "name": "stderr",
     "output_type": "stream",
     "text": [
      "Processing cleaned_chunk_0:  20%|█████▋                       | 1966/10000 [06:17<38:48,  3.45row/s]"
     ]
    },
    {
     "name": "stdout",
     "output_type": "stream",
     "text": [
      "Progress saved: cleaned_chunk_0, row 1966\r"
     ]
    },
    {
     "name": "stderr",
     "output_type": "stream",
     "text": [
      "Processing cleaned_chunk_0:  20%|█████▋                       | 1967/10000 [06:18<46:11,  2.90row/s]"
     ]
    },
    {
     "name": "stdout",
     "output_type": "stream",
     "text": [
      "Progress saved: cleaned_chunk_0, row 1967\r"
     ]
    },
    {
     "name": "stderr",
     "output_type": "stream",
     "text": [
      "Processing cleaned_chunk_0:  20%|█████▋                       | 1968/10000 [06:18<41:50,  3.20row/s]"
     ]
    },
    {
     "name": "stdout",
     "output_type": "stream",
     "text": [
      "Progress saved: cleaned_chunk_0, row 1968\r"
     ]
    },
    {
     "name": "stderr",
     "output_type": "stream",
     "text": [
      "Processing cleaned_chunk_0:  20%|█████▋                       | 1969/10000 [06:18<41:01,  3.26row/s]"
     ]
    },
    {
     "name": "stdout",
     "output_type": "stream",
     "text": [
      "Progress saved: cleaned_chunk_0, row 1969\r"
     ]
    },
    {
     "name": "stderr",
     "output_type": "stream",
     "text": [
      "Processing cleaned_chunk_0:  20%|█████▋                       | 1970/10000 [06:19<38:29,  3.48row/s]"
     ]
    },
    {
     "name": "stdout",
     "output_type": "stream",
     "text": [
      "Progress saved: cleaned_chunk_0, row 1970\r"
     ]
    },
    {
     "name": "stderr",
     "output_type": "stream",
     "text": [
      "Processing cleaned_chunk_0:  20%|█████▋                       | 1971/10000 [06:19<38:42,  3.46row/s]"
     ]
    },
    {
     "name": "stdout",
     "output_type": "stream",
     "text": [
      "Progress saved: cleaned_chunk_0, row 1971\r"
     ]
    },
    {
     "name": "stderr",
     "output_type": "stream",
     "text": [
      "Processing cleaned_chunk_0:  20%|█████▋                       | 1972/10000 [06:19<37:07,  3.60row/s]"
     ]
    },
    {
     "name": "stdout",
     "output_type": "stream",
     "text": [
      "Progress saved: cleaned_chunk_0, row 1972\r"
     ]
    },
    {
     "name": "stderr",
     "output_type": "stream",
     "text": [
      "Processing cleaned_chunk_0:  20%|█████▋                       | 1973/10000 [06:20<36:32,  3.66row/s]"
     ]
    },
    {
     "name": "stdout",
     "output_type": "stream",
     "text": [
      "Progress saved: cleaned_chunk_0, row 1973\r"
     ]
    },
    {
     "name": "stderr",
     "output_type": "stream",
     "text": [
      "Processing cleaned_chunk_0:  20%|█████▋                       | 1974/10000 [06:20<48:28,  2.76row/s]"
     ]
    },
    {
     "name": "stdout",
     "output_type": "stream",
     "text": [
      "Progress saved: cleaned_chunk_0, row 1975\r"
     ]
    },
    {
     "name": "stderr",
     "output_type": "stream",
     "text": [
      "Processing cleaned_chunk_0:  20%|█████▋                       | 1977/10000 [06:21<30:51,  4.33row/s]"
     ]
    },
    {
     "name": "stdout",
     "output_type": "stream",
     "text": [
      "Progress saved: cleaned_chunk_0, row 1977\r"
     ]
    },
    {
     "name": "stderr",
     "output_type": "stream",
     "text": [
      "Processing cleaned_chunk_0:  20%|█████▋                       | 1978/10000 [06:21<30:32,  4.38row/s]"
     ]
    },
    {
     "name": "stdout",
     "output_type": "stream",
     "text": [
      "Progress saved: cleaned_chunk_0, row 1979\r"
     ]
    },
    {
     "name": "stderr",
     "output_type": "stream",
     "text": [
      "Processing cleaned_chunk_0:  20%|█████▋                       | 1981/10000 [06:21<25:20,  5.27row/s]"
     ]
    },
    {
     "name": "stdout",
     "output_type": "stream",
     "text": [
      "Progress saved: cleaned_chunk_0, row 1981\r"
     ]
    },
    {
     "name": "stderr",
     "output_type": "stream",
     "text": [
      "Processing cleaned_chunk_0:  20%|█████▋                       | 1982/10000 [06:22<25:11,  5.31row/s]"
     ]
    },
    {
     "name": "stdout",
     "output_type": "stream",
     "text": [
      "Progress saved: cleaned_chunk_0, row 1982\r"
     ]
    },
    {
     "name": "stderr",
     "output_type": "stream",
     "text": [
      "Processing cleaned_chunk_0:  20%|█████▊                       | 1984/10000 [06:22<26:03,  5.13row/s]"
     ]
    },
    {
     "name": "stdout",
     "output_type": "stream",
     "text": [
      "Progress saved: cleaned_chunk_0, row 1984\r"
     ]
    },
    {
     "name": "stderr",
     "output_type": "stream",
     "text": [
      "Processing cleaned_chunk_0:  20%|█████▊                       | 1985/10000 [06:22<26:18,  5.08row/s]"
     ]
    },
    {
     "name": "stdout",
     "output_type": "stream",
     "text": [
      "Progress saved: cleaned_chunk_0, row 1986\r"
     ]
    },
    {
     "name": "stderr",
     "output_type": "stream",
     "text": [
      "Processing cleaned_chunk_0:  20%|█████▊                       | 1988/10000 [06:23<22:55,  5.82row/s]"
     ]
    },
    {
     "name": "stdout",
     "output_type": "stream",
     "text": [
      "Progress saved: cleaned_chunk_0, row 1988\r"
     ]
    },
    {
     "name": "stderr",
     "output_type": "stream",
     "text": [
      "Processing cleaned_chunk_0:  20%|█████▊                       | 1989/10000 [06:23<23:31,  5.67row/s]"
     ]
    },
    {
     "name": "stdout",
     "output_type": "stream",
     "text": [
      "Progress saved: cleaned_chunk_0, row 1989\r"
     ]
    },
    {
     "name": "stderr",
     "output_type": "stream",
     "text": [
      "Processing cleaned_chunk_0:  20%|█████▊                       | 1991/10000 [06:23<28:38,  4.66row/s]"
     ]
    },
    {
     "name": "stdout",
     "output_type": "stream",
     "text": [
      "Progress saved: cleaned_chunk_0, row 1991\r"
     ]
    },
    {
     "name": "stderr",
     "output_type": "stream",
     "text": [
      "Processing cleaned_chunk_0:  20%|█████▊                       | 1993/10000 [06:24<25:42,  5.19row/s]"
     ]
    },
    {
     "name": "stdout",
     "output_type": "stream",
     "text": [
      "Progress saved: cleaned_chunk_0, row 1993\r"
     ]
    },
    {
     "name": "stderr",
     "output_type": "stream",
     "text": [
      "Processing cleaned_chunk_0:  20%|█████▊                       | 1995/10000 [06:24<23:54,  5.58row/s]"
     ]
    },
    {
     "name": "stdout",
     "output_type": "stream",
     "text": [
      "Progress saved: cleaned_chunk_0, row 1995\r"
     ]
    },
    {
     "name": "stderr",
     "output_type": "stream",
     "text": [
      "Processing cleaned_chunk_0:  20%|█████▊                       | 1996/10000 [06:24<21:57,  6.07row/s]"
     ]
    },
    {
     "name": "stdout",
     "output_type": "stream",
     "text": [
      "Progress saved: cleaned_chunk_0, row 1997\r"
     ]
    },
    {
     "name": "stderr",
     "output_type": "stream",
     "text": [
      "Processing cleaned_chunk_0:  20%|█████▊                       | 1999/10000 [06:25<21:30,  6.20row/s]"
     ]
    },
    {
     "name": "stdout",
     "output_type": "stream",
     "text": [
      "Progress saved: cleaned_chunk_0, row 1999\r"
     ]
    },
    {
     "name": "stderr",
     "output_type": "stream",
     "text": [
      "Processing cleaned_chunk_0:  20%|█████▊                       | 2000/10000 [06:25<21:05,  6.32row/s]"
     ]
    },
    {
     "name": "stdout",
     "output_type": "stream",
     "text": [
      "Progress saved: cleaned_chunk_0, row 2000\r"
     ]
    },
    {
     "name": "stderr",
     "output_type": "stream",
     "text": [
      "Processing cleaned_chunk_0:  20%|█████▊                       | 2001/10000 [06:25<23:55,  5.57row/s]"
     ]
    },
    {
     "name": "stdout",
     "output_type": "stream",
     "text": [
      "Progress saved: cleaned_chunk_0, row 2002\r"
     ]
    },
    {
     "name": "stderr",
     "output_type": "stream",
     "text": [
      "Processing cleaned_chunk_0:  20%|█████▊                       | 2003/10000 [06:25<26:02,  5.12row/s]"
     ]
    },
    {
     "name": "stdout",
     "output_type": "stream",
     "text": [
      "Progress saved: cleaned_chunk_0, row 2003\r"
     ]
    },
    {
     "name": "stderr",
     "output_type": "stream",
     "text": [
      "Processing cleaned_chunk_0:  20%|█████▊                       | 2004/10000 [06:26<42:41,  3.12row/s]"
     ]
    },
    {
     "name": "stdout",
     "output_type": "stream",
     "text": [
      "Progress saved: cleaned_chunk_0, row 2004\r"
     ]
    },
    {
     "name": "stderr",
     "output_type": "stream",
     "text": [
      "Processing cleaned_chunk_0:  20%|█████▊                       | 2005/10000 [06:27<48:22,  2.75row/s]"
     ]
    },
    {
     "name": "stdout",
     "output_type": "stream",
     "text": [
      "Progress saved: cleaned_chunk_0, row 2005\r"
     ]
    },
    {
     "name": "stderr",
     "output_type": "stream",
     "text": [
      "Processing cleaned_chunk_0:  20%|█████▊                       | 2006/10000 [06:27<51:14,  2.60row/s]"
     ]
    },
    {
     "name": "stdout",
     "output_type": "stream",
     "text": [
      "Progress saved: cleaned_chunk_0, row 2006\r"
     ]
    },
    {
     "name": "stderr",
     "output_type": "stream",
     "text": [
      "Processing cleaned_chunk_0:  20%|█████▊                       | 2007/10000 [06:28<57:20,  2.32row/s]"
     ]
    },
    {
     "name": "stdout",
     "output_type": "stream",
     "text": [
      "Progress saved: cleaned_chunk_0, row 2007\r"
     ]
    },
    {
     "name": "stderr",
     "output_type": "stream",
     "text": [
      "Processing cleaned_chunk_0:  20%|█████▊                       | 2008/10000 [06:28<58:09,  2.29row/s]"
     ]
    },
    {
     "name": "stdout",
     "output_type": "stream",
     "text": [
      "Progress saved: cleaned_chunk_0, row 2008\r"
     ]
    },
    {
     "name": "stderr",
     "output_type": "stream",
     "text": [
      "Processing cleaned_chunk_0:  20%|█████▍                     | 2009/10000 [06:29<1:10:44,  1.88row/s]"
     ]
    },
    {
     "name": "stdout",
     "output_type": "stream",
     "text": [
      "Progress saved: cleaned_chunk_0, row 2009\r"
     ]
    },
    {
     "name": "stderr",
     "output_type": "stream",
     "text": [
      "Processing cleaned_chunk_0:  20%|█████▍                     | 2010/10000 [06:29<1:06:47,  1.99row/s]"
     ]
    },
    {
     "name": "stdout",
     "output_type": "stream",
     "text": [
      "Progress saved: cleaned_chunk_0, row 2010\r"
     ]
    },
    {
     "name": "stderr",
     "output_type": "stream",
     "text": [
      "Processing cleaned_chunk_0:  20%|█████▊                       | 2011/10000 [06:29<56:29,  2.36row/s]"
     ]
    },
    {
     "name": "stdout",
     "output_type": "stream",
     "text": [
      "Progress saved: cleaned_chunk_0, row 2011\r"
     ]
    },
    {
     "name": "stderr",
     "output_type": "stream",
     "text": [
      "Processing cleaned_chunk_0:  20%|█████▍                     | 2012/10000 [06:30<1:04:57,  2.05row/s]"
     ]
    },
    {
     "name": "stdout",
     "output_type": "stream",
     "text": [
      "Progress saved: cleaned_chunk_0, row 2012\r"
     ]
    },
    {
     "name": "stderr",
     "output_type": "stream",
     "text": [
      "Processing cleaned_chunk_0:  20%|█████▊                       | 2013/10000 [06:30<55:06,  2.42row/s]"
     ]
    },
    {
     "name": "stdout",
     "output_type": "stream",
     "text": [
      "Progress saved: cleaned_chunk_0, row 2014\r"
     ]
    },
    {
     "name": "stderr",
     "output_type": "stream",
     "text": [
      "Processing cleaned_chunk_0:  20%|█████▊                       | 2016/10000 [06:31<32:59,  4.03row/s]"
     ]
    },
    {
     "name": "stdout",
     "output_type": "stream",
     "text": [
      "Progress saved: cleaned_chunk_0, row 2016\r"
     ]
    },
    {
     "name": "stderr",
     "output_type": "stream",
     "text": [
      "Processing cleaned_chunk_0:  20%|█████▊                       | 2017/10000 [06:31<36:58,  3.60row/s]"
     ]
    },
    {
     "name": "stdout",
     "output_type": "stream",
     "text": [
      "Progress saved: cleaned_chunk_0, row 2017\r"
     ]
    },
    {
     "name": "stderr",
     "output_type": "stream",
     "text": [
      "Processing cleaned_chunk_0:  20%|█████▊                       | 2018/10000 [06:32<49:14,  2.70row/s]"
     ]
    },
    {
     "name": "stdout",
     "output_type": "stream",
     "text": [
      "Progress saved: cleaned_chunk_0, row 2018\r"
     ]
    },
    {
     "name": "stderr",
     "output_type": "stream",
     "text": [
      "Processing cleaned_chunk_0:  20%|█████▊                       | 2019/10000 [06:32<50:10,  2.65row/s]"
     ]
    },
    {
     "name": "stdout",
     "output_type": "stream",
     "text": [
      "Progress saved: cleaned_chunk_0, row 2019\r"
     ]
    },
    {
     "name": "stderr",
     "output_type": "stream",
     "text": [
      "Processing cleaned_chunk_0:  20%|█████▊                       | 2020/10000 [06:32<44:00,  3.02row/s]"
     ]
    },
    {
     "name": "stdout",
     "output_type": "stream",
     "text": [
      "Progress saved: cleaned_chunk_0, row 2020\r"
     ]
    },
    {
     "name": "stderr",
     "output_type": "stream",
     "text": [
      "Processing cleaned_chunk_0:  20%|█████▊                       | 2021/10000 [06:33<42:13,  3.15row/s]"
     ]
    },
    {
     "name": "stdout",
     "output_type": "stream",
     "text": [
      "Progress saved: cleaned_chunk_0, row 2021\r"
     ]
    },
    {
     "name": "stderr",
     "output_type": "stream",
     "text": [
      "Processing cleaned_chunk_0:  20%|█████▊                       | 2022/10000 [06:33<40:50,  3.26row/s]"
     ]
    },
    {
     "name": "stdout",
     "output_type": "stream",
     "text": [
      "Progress saved: cleaned_chunk_0, row 2022\r"
     ]
    },
    {
     "name": "stderr",
     "output_type": "stream",
     "text": [
      "Processing cleaned_chunk_0:  20%|█████▊                       | 2023/10000 [06:33<43:56,  3.03row/s]"
     ]
    },
    {
     "name": "stdout",
     "output_type": "stream",
     "text": [
      "Progress saved: cleaned_chunk_0, row 2023\r"
     ]
    },
    {
     "name": "stderr",
     "output_type": "stream",
     "text": [
      "Processing cleaned_chunk_0:  20%|█████▊                       | 2024/10000 [06:34<41:57,  3.17row/s]"
     ]
    },
    {
     "name": "stdout",
     "output_type": "stream",
     "text": [
      "Progress saved: cleaned_chunk_0, row 2024\r"
     ]
    },
    {
     "name": "stderr",
     "output_type": "stream",
     "text": [
      "Processing cleaned_chunk_0:  20%|█████▊                       | 2025/10000 [06:34<39:20,  3.38row/s]"
     ]
    },
    {
     "name": "stdout",
     "output_type": "stream",
     "text": [
      "Progress saved: cleaned_chunk_0, row 2025\r"
     ]
    },
    {
     "name": "stderr",
     "output_type": "stream",
     "text": [
      "Processing cleaned_chunk_0:  20%|█████▉                       | 2026/10000 [06:34<36:54,  3.60row/s]"
     ]
    },
    {
     "name": "stdout",
     "output_type": "stream",
     "text": [
      "Progress saved: cleaned_chunk_0, row 2026\r"
     ]
    },
    {
     "name": "stderr",
     "output_type": "stream",
     "text": [
      "Processing cleaned_chunk_0:  20%|█████▉                       | 2028/10000 [06:35<33:59,  3.91row/s]"
     ]
    },
    {
     "name": "stdout",
     "output_type": "stream",
     "text": [
      "Progress saved: cleaned_chunk_0, row 2028\r"
     ]
    },
    {
     "name": "stderr",
     "output_type": "stream",
     "text": [
      "Processing cleaned_chunk_0:  20%|█████▉                       | 2030/10000 [06:35<28:47,  4.61row/s]"
     ]
    },
    {
     "name": "stdout",
     "output_type": "stream",
     "text": [
      "Progress saved: cleaned_chunk_0, row 2030\r"
     ]
    },
    {
     "name": "stderr",
     "output_type": "stream",
     "text": [
      "Processing cleaned_chunk_0:  20%|█████▉                       | 2031/10000 [06:35<34:34,  3.84row/s]"
     ]
    },
    {
     "name": "stdout",
     "output_type": "stream",
     "text": [
      "Progress saved: cleaned_chunk_0, row 2032\r"
     ]
    },
    {
     "name": "stderr",
     "output_type": "stream",
     "text": [
      "Processing cleaned_chunk_0:  20%|█████▉                       | 2034/10000 [06:36<27:38,  4.80row/s]"
     ]
    },
    {
     "name": "stdout",
     "output_type": "stream",
     "text": [
      "Progress saved: cleaned_chunk_0, row 2034\r"
     ]
    },
    {
     "name": "stderr",
     "output_type": "stream",
     "text": [
      "Processing cleaned_chunk_0:  20%|█████▉                       | 2035/10000 [06:36<27:39,  4.80row/s]"
     ]
    },
    {
     "name": "stdout",
     "output_type": "stream",
     "text": [
      "Progress saved: cleaned_chunk_0, row 2036\r"
     ]
    },
    {
     "name": "stderr",
     "output_type": "stream",
     "text": [
      "Processing cleaned_chunk_0:  20%|█████▉                       | 2038/10000 [06:37<23:02,  5.76row/s]"
     ]
    },
    {
     "name": "stdout",
     "output_type": "stream",
     "text": [
      "Progress saved: cleaned_chunk_0, row 2038\r"
     ]
    },
    {
     "name": "stderr",
     "output_type": "stream",
     "text": [
      "Processing cleaned_chunk_0:  20%|█████▉                       | 2039/10000 [06:37<21:46,  6.09row/s]"
     ]
    },
    {
     "name": "stdout",
     "output_type": "stream",
     "text": [
      "Progress saved: cleaned_chunk_0, row 2040\r"
     ]
    },
    {
     "name": "stderr",
     "output_type": "stream",
     "text": [
      "Processing cleaned_chunk_0:  20%|█████▉                       | 2042/10000 [06:37<20:32,  6.46row/s]"
     ]
    },
    {
     "name": "stdout",
     "output_type": "stream",
     "text": [
      "Progress saved: cleaned_chunk_0, row 2042\r"
     ]
    },
    {
     "name": "stderr",
     "output_type": "stream",
     "text": [
      "Processing cleaned_chunk_0:  20%|█████▉                       | 2044/10000 [06:37<21:17,  6.23row/s]"
     ]
    },
    {
     "name": "stdout",
     "output_type": "stream",
     "text": [
      "Progress saved: cleaned_chunk_0, row 2044\r"
     ]
    },
    {
     "name": "stderr",
     "output_type": "stream",
     "text": [
      "Processing cleaned_chunk_0:  20%|█████▉                       | 2045/10000 [06:38<20:10,  6.57row/s]"
     ]
    },
    {
     "name": "stdout",
     "output_type": "stream",
     "text": [
      "Progress saved: cleaned_chunk_0, row 2045\r"
     ]
    },
    {
     "name": "stderr",
     "output_type": "stream",
     "text": [
      "Processing cleaned_chunk_0:  20%|█████▉                       | 2047/10000 [06:38<22:08,  5.99row/s]"
     ]
    },
    {
     "name": "stdout",
     "output_type": "stream",
     "text": [
      "Progress saved: cleaned_chunk_0, row 2047\r"
     ]
    },
    {
     "name": "stderr",
     "output_type": "stream",
     "text": [
      "Processing cleaned_chunk_0:  20%|█████▉                       | 2048/10000 [06:38<22:56,  5.78row/s]"
     ]
    },
    {
     "name": "stdout",
     "output_type": "stream",
     "text": [
      "Progress saved: cleaned_chunk_0, row 2048\r"
     ]
    },
    {
     "name": "stderr",
     "output_type": "stream",
     "text": [
      "Processing cleaned_chunk_0:  20%|█████▉                       | 2049/10000 [06:38<27:58,  4.74row/s]"
     ]
    },
    {
     "name": "stdout",
     "output_type": "stream",
     "text": [
      "Progress saved: cleaned_chunk_0, row 2049\r"
     ]
    },
    {
     "name": "stderr",
     "output_type": "stream",
     "text": [
      "Processing cleaned_chunk_0:  21%|█████▉                       | 2051/10000 [06:39<34:24,  3.85row/s]"
     ]
    },
    {
     "name": "stdout",
     "output_type": "stream",
     "text": [
      "Progress saved: cleaned_chunk_0, row 2051\r"
     ]
    },
    {
     "name": "stderr",
     "output_type": "stream",
     "text": [
      "Processing cleaned_chunk_0:  21%|█████▉                       | 2052/10000 [06:39<30:32,  4.34row/s]"
     ]
    },
    {
     "name": "stdout",
     "output_type": "stream",
     "text": [
      "Progress saved: cleaned_chunk_0, row 2053\r"
     ]
    },
    {
     "name": "stderr",
     "output_type": "stream",
     "text": [
      "Processing cleaned_chunk_0:  21%|█████▉                       | 2055/10000 [06:40<24:43,  5.36row/s]"
     ]
    },
    {
     "name": "stdout",
     "output_type": "stream",
     "text": [
      "Progress saved: cleaned_chunk_0, row 2055\r"
     ]
    },
    {
     "name": "stderr",
     "output_type": "stream",
     "text": [
      "Processing cleaned_chunk_0:  21%|█████▉                       | 2056/10000 [06:40<22:49,  5.80row/s]"
     ]
    },
    {
     "name": "stdout",
     "output_type": "stream",
     "text": [
      "Progress saved: cleaned_chunk_0, row 2057\r"
     ]
    },
    {
     "name": "stderr",
     "output_type": "stream",
     "text": [
      "Processing cleaned_chunk_0:  21%|█████▉                       | 2059/10000 [06:40<20:07,  6.57row/s]"
     ]
    },
    {
     "name": "stdout",
     "output_type": "stream",
     "text": [
      "Progress saved: cleaned_chunk_0, row 2059\r"
     ]
    },
    {
     "name": "stderr",
     "output_type": "stream",
     "text": [
      "Processing cleaned_chunk_0:  21%|█████▉                       | 2060/10000 [06:41<19:42,  6.71row/s]"
     ]
    },
    {
     "name": "stdout",
     "output_type": "stream",
     "text": [
      "Progress saved: cleaned_chunk_0, row 2061\r"
     ]
    },
    {
     "name": "stderr",
     "output_type": "stream",
     "text": [
      "Processing cleaned_chunk_0:  21%|█████▉                       | 2063/10000 [06:41<17:37,  7.51row/s]"
     ]
    },
    {
     "name": "stdout",
     "output_type": "stream",
     "text": [
      "Progress saved: cleaned_chunk_0, row 2063\r"
     ]
    },
    {
     "name": "stderr",
     "output_type": "stream",
     "text": [
      "Processing cleaned_chunk_0:  21%|█████▉                       | 2064/10000 [06:41<16:40,  7.93row/s]"
     ]
    },
    {
     "name": "stdout",
     "output_type": "stream",
     "text": [
      "Progress saved: cleaned_chunk_0, row 2064\r"
     ]
    },
    {
     "name": "stderr",
     "output_type": "stream",
     "text": [
      "Processing cleaned_chunk_0:  21%|█████▉                       | 2065/10000 [06:41<21:26,  6.17row/s]"
     ]
    },
    {
     "name": "stdout",
     "output_type": "stream",
     "text": [
      "Progress saved: cleaned_chunk_0, row 2065\r"
     ]
    },
    {
     "name": "stderr",
     "output_type": "stream",
     "text": [
      "Processing cleaned_chunk_0:  21%|█████▉                       | 2066/10000 [06:42<28:20,  4.67row/s]"
     ]
    },
    {
     "name": "stdout",
     "output_type": "stream",
     "text": [
      "Progress saved: cleaned_chunk_0, row 2067\r"
     ]
    },
    {
     "name": "stderr",
     "output_type": "stream",
     "text": [
      "Processing cleaned_chunk_0:  21%|██████                       | 2069/10000 [06:42<24:28,  5.40row/s]"
     ]
    },
    {
     "name": "stdout",
     "output_type": "stream",
     "text": [
      "Progress saved: cleaned_chunk_0, row 2069\r"
     ]
    },
    {
     "name": "stderr",
     "output_type": "stream",
     "text": [
      "Processing cleaned_chunk_0:  21%|██████                       | 2070/10000 [06:42<21:49,  6.06row/s]"
     ]
    },
    {
     "name": "stdout",
     "output_type": "stream",
     "text": [
      "Progress saved: cleaned_chunk_0, row 2070\r"
     ]
    },
    {
     "name": "stderr",
     "output_type": "stream",
     "text": [
      "Processing cleaned_chunk_0:  21%|██████                       | 2072/10000 [06:43<22:32,  5.86row/s]"
     ]
    },
    {
     "name": "stdout",
     "output_type": "stream",
     "text": [
      "Progress saved: cleaned_chunk_0, row 2072\r"
     ]
    },
    {
     "name": "stderr",
     "output_type": "stream",
     "text": [
      "Processing cleaned_chunk_0:  21%|██████                       | 2073/10000 [06:43<21:05,  6.27row/s]"
     ]
    },
    {
     "name": "stdout",
     "output_type": "stream",
     "text": [
      "Progress saved: cleaned_chunk_0, row 2074\r"
     ]
    },
    {
     "name": "stderr",
     "output_type": "stream",
     "text": [
      "Processing cleaned_chunk_0:  21%|██████                       | 2076/10000 [06:43<20:06,  6.57row/s]"
     ]
    },
    {
     "name": "stdout",
     "output_type": "stream",
     "text": [
      "Progress saved: cleaned_chunk_0, row 2076\r"
     ]
    },
    {
     "name": "stderr",
     "output_type": "stream",
     "text": [
      "Processing cleaned_chunk_0:  21%|██████                       | 2078/10000 [06:44<18:55,  6.97row/s]"
     ]
    },
    {
     "name": "stdout",
     "output_type": "stream",
     "text": [
      "Progress saved: cleaned_chunk_0, row 2078\r"
     ]
    },
    {
     "name": "stderr",
     "output_type": "stream",
     "text": [
      "Processing cleaned_chunk_0:  21%|██████                       | 2079/10000 [06:44<21:33,  6.12row/s]"
     ]
    },
    {
     "name": "stdout",
     "output_type": "stream",
     "text": [
      "Progress saved: cleaned_chunk_0, row 2079\r"
     ]
    },
    {
     "name": "stderr",
     "output_type": "stream",
     "text": [
      "Processing cleaned_chunk_0:  21%|██████                       | 2080/10000 [06:44<23:55,  5.52row/s]"
     ]
    },
    {
     "name": "stdout",
     "output_type": "stream",
     "text": [
      "Progress saved: cleaned_chunk_0, row 2080\r"
     ]
    },
    {
     "name": "stderr",
     "output_type": "stream",
     "text": [
      "Processing cleaned_chunk_0:  21%|██████                       | 2081/10000 [06:44<27:44,  4.76row/s]"
     ]
    },
    {
     "name": "stdout",
     "output_type": "stream",
     "text": [
      "Progress saved: cleaned_chunk_0, row 2081\r"
     ]
    },
    {
     "name": "stderr",
     "output_type": "stream",
     "text": [
      "Processing cleaned_chunk_0:  21%|██████                       | 2082/10000 [06:44<29:19,  4.50row/s]"
     ]
    },
    {
     "name": "stdout",
     "output_type": "stream",
     "text": [
      "Progress saved: cleaned_chunk_0, row 2082\r"
     ]
    },
    {
     "name": "stderr",
     "output_type": "stream",
     "text": [
      "Processing cleaned_chunk_0:  21%|██████                       | 2084/10000 [06:45<27:02,  4.88row/s]"
     ]
    },
    {
     "name": "stdout",
     "output_type": "stream",
     "text": [
      "Progress saved: cleaned_chunk_0, row 2084\r"
     ]
    },
    {
     "name": "stderr",
     "output_type": "stream",
     "text": [
      "Processing cleaned_chunk_0:  21%|██████                       | 2085/10000 [06:45<26:27,  4.98row/s]"
     ]
    },
    {
     "name": "stdout",
     "output_type": "stream",
     "text": [
      "Progress saved: cleaned_chunk_0, row 2085\r"
     ]
    },
    {
     "name": "stderr",
     "output_type": "stream",
     "text": [
      "Processing cleaned_chunk_0:  21%|██████                       | 2087/10000 [06:45<24:01,  5.49row/s]"
     ]
    },
    {
     "name": "stdout",
     "output_type": "stream",
     "text": [
      "Progress saved: cleaned_chunk_0, row 2087\r"
     ]
    },
    {
     "name": "stderr",
     "output_type": "stream",
     "text": [
      "Processing cleaned_chunk_0:  21%|██████                       | 2088/10000 [06:46<22:09,  5.95row/s]"
     ]
    },
    {
     "name": "stdout",
     "output_type": "stream",
     "text": [
      "Progress saved: cleaned_chunk_0, row 2089\r"
     ]
    },
    {
     "name": "stderr",
     "output_type": "stream",
     "text": [
      "Processing cleaned_chunk_0:  21%|██████                       | 2091/10000 [06:46<21:16,  6.20row/s]"
     ]
    },
    {
     "name": "stdout",
     "output_type": "stream",
     "text": [
      "Progress saved: cleaned_chunk_0, row 2091\r"
     ]
    },
    {
     "name": "stderr",
     "output_type": "stream",
     "text": [
      "Processing cleaned_chunk_0:  21%|██████                       | 2092/10000 [06:46<20:04,  6.56row/s]"
     ]
    },
    {
     "name": "stdout",
     "output_type": "stream",
     "text": [
      "Progress saved: cleaned_chunk_0, row 2092\r"
     ]
    },
    {
     "name": "stderr",
     "output_type": "stream",
     "text": [
      "Processing cleaned_chunk_0:  21%|██████                       | 2093/10000 [06:47<31:47,  4.15row/s]"
     ]
    },
    {
     "name": "stdout",
     "output_type": "stream",
     "text": [
      "Progress saved: cleaned_chunk_0, row 2093\r"
     ]
    },
    {
     "name": "stderr",
     "output_type": "stream",
     "text": [
      "Processing cleaned_chunk_0:  21%|██████                       | 2094/10000 [06:47<31:21,  4.20row/s]"
     ]
    },
    {
     "name": "stdout",
     "output_type": "stream",
     "text": [
      "Progress saved: cleaned_chunk_0, row 2095\r"
     ]
    },
    {
     "name": "stderr",
     "output_type": "stream",
     "text": [
      "Processing cleaned_chunk_0:  21%|██████                       | 2097/10000 [06:47<27:34,  4.78row/s]"
     ]
    },
    {
     "name": "stdout",
     "output_type": "stream",
     "text": [
      "Progress saved: cleaned_chunk_0, row 2097\r"
     ]
    },
    {
     "name": "stderr",
     "output_type": "stream",
     "text": [
      "Processing cleaned_chunk_0:  21%|██████                       | 2098/10000 [06:48<26:41,  4.93row/s]"
     ]
    },
    {
     "name": "stdout",
     "output_type": "stream",
     "text": [
      "Progress saved: cleaned_chunk_0, row 2098\r"
     ]
    },
    {
     "name": "stderr",
     "output_type": "stream",
     "text": [
      "Processing cleaned_chunk_0:  21%|██████                       | 2099/10000 [06:48<27:38,  4.76row/s]"
     ]
    },
    {
     "name": "stdout",
     "output_type": "stream",
     "text": [
      "Progress saved: cleaned_chunk_0, row 2099\r"
     ]
    },
    {
     "name": "stderr",
     "output_type": "stream",
     "text": [
      "Processing cleaned_chunk_0:  21%|██████                       | 2101/10000 [06:48<26:04,  5.05row/s]"
     ]
    },
    {
     "name": "stdout",
     "output_type": "stream",
     "text": [
      "Progress saved: cleaned_chunk_0, row 2101\r"
     ]
    },
    {
     "name": "stderr",
     "output_type": "stream",
     "text": [
      "Processing cleaned_chunk_0:  21%|██████                       | 2103/10000 [06:49<22:58,  5.73row/s]"
     ]
    },
    {
     "name": "stdout",
     "output_type": "stream",
     "text": [
      "Progress saved: cleaned_chunk_0, row 2103\r"
     ]
    },
    {
     "name": "stderr",
     "output_type": "stream",
     "text": [
      "Processing cleaned_chunk_0:  21%|██████                       | 2105/10000 [06:49<21:42,  6.06row/s]"
     ]
    },
    {
     "name": "stdout",
     "output_type": "stream",
     "text": [
      "Progress saved: cleaned_chunk_0, row 2105\r"
     ]
    },
    {
     "name": "stderr",
     "output_type": "stream",
     "text": [
      "Processing cleaned_chunk_0:  21%|██████                       | 2106/10000 [06:49<27:23,  4.80row/s]"
     ]
    },
    {
     "name": "stdout",
     "output_type": "stream",
     "text": [
      "Progress saved: cleaned_chunk_0, row 2106\r"
     ]
    },
    {
     "name": "stderr",
     "output_type": "stream",
     "text": [
      "Processing cleaned_chunk_0:  21%|██████                       | 2107/10000 [06:49<28:05,  4.68row/s]"
     ]
    },
    {
     "name": "stdout",
     "output_type": "stream",
     "text": [
      "Progress saved: cleaned_chunk_0, row 2108\r"
     ]
    },
    {
     "name": "stderr",
     "output_type": "stream",
     "text": [
      "Processing cleaned_chunk_0:  21%|██████                       | 2110/10000 [06:50<23:35,  5.57row/s]"
     ]
    },
    {
     "name": "stdout",
     "output_type": "stream",
     "text": [
      "Progress saved: cleaned_chunk_0, row 2110\r"
     ]
    },
    {
     "name": "stderr",
     "output_type": "stream",
     "text": [
      "Processing cleaned_chunk_0:  21%|██████                       | 2111/10000 [06:50<22:13,  5.92row/s]"
     ]
    },
    {
     "name": "stdout",
     "output_type": "stream",
     "text": [
      "Progress saved: cleaned_chunk_0, row 2111\r"
     ]
    },
    {
     "name": "stderr",
     "output_type": "stream",
     "text": [
      "Processing cleaned_chunk_0:  21%|██████                       | 2112/10000 [06:50<25:28,  5.16row/s]"
     ]
    },
    {
     "name": "stdout",
     "output_type": "stream",
     "text": [
      "Progress saved: cleaned_chunk_0, row 2112\r"
     ]
    },
    {
     "name": "stderr",
     "output_type": "stream",
     "text": [
      "Processing cleaned_chunk_0:  21%|██████▏                      | 2113/10000 [06:51<29:38,  4.43row/s]"
     ]
    },
    {
     "name": "stdout",
     "output_type": "stream",
     "text": [
      "Progress saved: cleaned_chunk_0, row 2113\r"
     ]
    },
    {
     "name": "stderr",
     "output_type": "stream",
     "text": [
      "Processing cleaned_chunk_0:  21%|██████▏                      | 2114/10000 [06:51<35:01,  3.75row/s]"
     ]
    },
    {
     "name": "stdout",
     "output_type": "stream",
     "text": [
      "Progress saved: cleaned_chunk_0, row 2114\r"
     ]
    },
    {
     "name": "stderr",
     "output_type": "stream",
     "text": [
      "Processing cleaned_chunk_0:  21%|██████▏                      | 2115/10000 [06:51<42:52,  3.07row/s]"
     ]
    },
    {
     "name": "stdout",
     "output_type": "stream",
     "text": [
      "Progress saved: cleaned_chunk_0, row 2116\r"
     ]
    },
    {
     "name": "stderr",
     "output_type": "stream",
     "text": [
      "Processing cleaned_chunk_0:  21%|██████▏                      | 2118/10000 [06:52<28:46,  4.56row/s]"
     ]
    },
    {
     "name": "stdout",
     "output_type": "stream",
     "text": [
      "Progress saved: cleaned_chunk_0, row 2118\r"
     ]
    },
    {
     "name": "stderr",
     "output_type": "stream",
     "text": [
      "Processing cleaned_chunk_0:  21%|██████▏                      | 2119/10000 [06:52<25:02,  5.25row/s]"
     ]
    },
    {
     "name": "stdout",
     "output_type": "stream",
     "text": [
      "Progress saved: cleaned_chunk_0, row 2119\r"
     ]
    },
    {
     "name": "stderr",
     "output_type": "stream",
     "text": [
      "Processing cleaned_chunk_0:  21%|██████▏                      | 2121/10000 [06:52<23:31,  5.58row/s]"
     ]
    },
    {
     "name": "stdout",
     "output_type": "stream",
     "text": [
      "Progress saved: cleaned_chunk_0, row 2121\r"
     ]
    },
    {
     "name": "stderr",
     "output_type": "stream",
     "text": [
      "Processing cleaned_chunk_0:  21%|██████▏                      | 2122/10000 [06:53<21:54,  5.99row/s]"
     ]
    },
    {
     "name": "stdout",
     "output_type": "stream",
     "text": [
      "Progress saved: cleaned_chunk_0, row 2122\r"
     ]
    },
    {
     "name": "stderr",
     "output_type": "stream",
     "text": [
      "Processing cleaned_chunk_0:  21%|██████▏                      | 2123/10000 [06:53<28:21,  4.63row/s]"
     ]
    },
    {
     "name": "stdout",
     "output_type": "stream",
     "text": [
      "Progress saved: cleaned_chunk_0, row 2123\r"
     ]
    },
    {
     "name": "stderr",
     "output_type": "stream",
     "text": [
      "Processing cleaned_chunk_0:  21%|██████▏                      | 2125/10000 [06:53<27:49,  4.72row/s]"
     ]
    },
    {
     "name": "stdout",
     "output_type": "stream",
     "text": [
      "Progress saved: cleaned_chunk_0, row 2125\r"
     ]
    },
    {
     "name": "stderr",
     "output_type": "stream",
     "text": [
      "Processing cleaned_chunk_0:  21%|██████▏                      | 2126/10000 [06:53<25:51,  5.08row/s]"
     ]
    },
    {
     "name": "stdout",
     "output_type": "stream",
     "text": [
      "Progress saved: cleaned_chunk_0, row 2127\r"
     ]
    },
    {
     "name": "stderr",
     "output_type": "stream",
     "text": [
      "Processing cleaned_chunk_0:  21%|██████▏                      | 2129/10000 [06:54<21:16,  6.17row/s]"
     ]
    },
    {
     "name": "stdout",
     "output_type": "stream",
     "text": [
      "Progress saved: cleaned_chunk_0, row 2129\r"
     ]
    },
    {
     "name": "stderr",
     "output_type": "stream",
     "text": [
      "Processing cleaned_chunk_0:  21%|██████▏                      | 2131/10000 [06:54<19:39,  6.67row/s]"
     ]
    },
    {
     "name": "stdout",
     "output_type": "stream",
     "text": [
      "Progress saved: cleaned_chunk_0, row 2131\r"
     ]
    },
    {
     "name": "stderr",
     "output_type": "stream",
     "text": [
      "Processing cleaned_chunk_0:  21%|██████▏                      | 2133/10000 [06:55<20:12,  6.49row/s]"
     ]
    },
    {
     "name": "stdout",
     "output_type": "stream",
     "text": [
      "Progress saved: cleaned_chunk_0, row 2133\r"
     ]
    },
    {
     "name": "stderr",
     "output_type": "stream",
     "text": [
      "Processing cleaned_chunk_0:  21%|██████▏                      | 2134/10000 [06:55<18:49,  6.97row/s]"
     ]
    },
    {
     "name": "stdout",
     "output_type": "stream",
     "text": [
      "Progress saved: cleaned_chunk_0, row 2134\r"
     ]
    },
    {
     "name": "stderr",
     "output_type": "stream",
     "text": [
      "Processing cleaned_chunk_0:  21%|██████▏                      | 2136/10000 [06:55<19:58,  6.56row/s]"
     ]
    },
    {
     "name": "stdout",
     "output_type": "stream",
     "text": [
      "Progress saved: cleaned_chunk_0, row 2136\r"
     ]
    },
    {
     "name": "stderr",
     "output_type": "stream",
     "text": [
      "Processing cleaned_chunk_0:  21%|██████▏                      | 2137/10000 [06:55<18:34,  7.06row/s]"
     ]
    },
    {
     "name": "stdout",
     "output_type": "stream",
     "text": [
      "Progress saved: cleaned_chunk_0, row 2137\r"
     ]
    },
    {
     "name": "stderr",
     "output_type": "stream",
     "text": [
      "Processing cleaned_chunk_0:  21%|██████▏                      | 2138/10000 [06:55<23:55,  5.48row/s]"
     ]
    },
    {
     "name": "stdout",
     "output_type": "stream",
     "text": [
      "Progress saved: cleaned_chunk_0, row 2138\r"
     ]
    },
    {
     "name": "stderr",
     "output_type": "stream",
     "text": [
      "Processing cleaned_chunk_0:  21%|██████▏                      | 2140/10000 [06:56<28:01,  4.67row/s]"
     ]
    },
    {
     "name": "stdout",
     "output_type": "stream",
     "text": [
      "Progress saved: cleaned_chunk_0, row 2140\r"
     ]
    },
    {
     "name": "stderr",
     "output_type": "stream",
     "text": [
      "Processing cleaned_chunk_0:  21%|██████▏                      | 2142/10000 [06:56<24:54,  5.26row/s]"
     ]
    },
    {
     "name": "stdout",
     "output_type": "stream",
     "text": [
      "Progress saved: cleaned_chunk_0, row 2142\r"
     ]
    },
    {
     "name": "stderr",
     "output_type": "stream",
     "text": [
      "Processing cleaned_chunk_0:  21%|██████▏                      | 2144/10000 [06:57<23:50,  5.49row/s]"
     ]
    },
    {
     "name": "stdout",
     "output_type": "stream",
     "text": [
      "Progress saved: cleaned_chunk_0, row 2144\r"
     ]
    },
    {
     "name": "stderr",
     "output_type": "stream",
     "text": [
      "Processing cleaned_chunk_0:  21%|██████▏                      | 2146/10000 [06:57<22:02,  5.94row/s]"
     ]
    },
    {
     "name": "stdout",
     "output_type": "stream",
     "text": [
      "Progress saved: cleaned_chunk_0, row 2146\r"
     ]
    },
    {
     "name": "stderr",
     "output_type": "stream",
     "text": [
      "Processing cleaned_chunk_0:  21%|██████▏                      | 2147/10000 [06:57<22:58,  5.69row/s]"
     ]
    },
    {
     "name": "stdout",
     "output_type": "stream",
     "text": [
      "Progress saved: cleaned_chunk_0, row 2147\r"
     ]
    },
    {
     "name": "stderr",
     "output_type": "stream",
     "text": [
      "Processing cleaned_chunk_0:  21%|██████▏                      | 2149/10000 [06:58<26:03,  5.02row/s]"
     ]
    },
    {
     "name": "stdout",
     "output_type": "stream",
     "text": [
      "Progress saved: cleaned_chunk_0, row 2149\r"
     ]
    },
    {
     "name": "stderr",
     "output_type": "stream",
     "text": [
      "Processing cleaned_chunk_0:  22%|██████▏                      | 2151/10000 [06:58<24:00,  5.45row/s]"
     ]
    },
    {
     "name": "stdout",
     "output_type": "stream",
     "text": [
      "Progress saved: cleaned_chunk_0, row 2151\r"
     ]
    },
    {
     "name": "stderr",
     "output_type": "stream",
     "text": [
      "Processing cleaned_chunk_0:  22%|██████▏                      | 2153/10000 [06:58<21:49,  5.99row/s]"
     ]
    },
    {
     "name": "stdout",
     "output_type": "stream",
     "text": [
      "Progress saved: cleaned_chunk_0, row 2153\r"
     ]
    },
    {
     "name": "stderr",
     "output_type": "stream",
     "text": [
      "Processing cleaned_chunk_0:  22%|██████▏                      | 2154/10000 [06:58<20:16,  6.45row/s]"
     ]
    },
    {
     "name": "stdout",
     "output_type": "stream",
     "text": [
      "Progress saved: cleaned_chunk_0, row 2154\r"
     ]
    },
    {
     "name": "stderr",
     "output_type": "stream",
     "text": [
      "Processing cleaned_chunk_0:  22%|██████▏                      | 2155/10000 [06:59<28:12,  4.63row/s]"
     ]
    },
    {
     "name": "stdout",
     "output_type": "stream",
     "text": [
      "Progress saved: cleaned_chunk_0, row 2155\r"
     ]
    },
    {
     "name": "stderr",
     "output_type": "stream",
     "text": [
      "Processing cleaned_chunk_0:  22%|██████▎                      | 2156/10000 [06:59<42:02,  3.11row/s]"
     ]
    },
    {
     "name": "stdout",
     "output_type": "stream",
     "text": [
      "Progress saved: cleaned_chunk_0, row 2156\r"
     ]
    },
    {
     "name": "stderr",
     "output_type": "stream",
     "text": [
      "Processing cleaned_chunk_0:  22%|██████▎                      | 2157/10000 [07:00<41:47,  3.13row/s]"
     ]
    },
    {
     "name": "stdout",
     "output_type": "stream",
     "text": [
      "Progress saved: cleaned_chunk_0, row 2157\r"
     ]
    },
    {
     "name": "stderr",
     "output_type": "stream",
     "text": [
      "Processing cleaned_chunk_0:  22%|██████▎                      | 2158/10000 [07:00<38:00,  3.44row/s]"
     ]
    },
    {
     "name": "stdout",
     "output_type": "stream",
     "text": [
      "Progress saved: cleaned_chunk_0, row 2159\r"
     ]
    },
    {
     "name": "stderr",
     "output_type": "stream",
     "text": [
      "Processing cleaned_chunk_0:  22%|██████▎                      | 2160/10000 [07:00<31:39,  4.13row/s]"
     ]
    },
    {
     "name": "stdout",
     "output_type": "stream",
     "text": [
      "Progress saved: cleaned_chunk_0, row 2160\r"
     ]
    },
    {
     "name": "stderr",
     "output_type": "stream",
     "text": [
      "Processing cleaned_chunk_0:  22%|██████▎                      | 2161/10000 [07:01<36:32,  3.58row/s]"
     ]
    },
    {
     "name": "stdout",
     "output_type": "stream",
     "text": [
      "Progress saved: cleaned_chunk_0, row 2161\r"
     ]
    },
    {
     "name": "stderr",
     "output_type": "stream",
     "text": [
      "Processing cleaned_chunk_0:  22%|██████▎                      | 2162/10000 [07:01<35:28,  3.68row/s]"
     ]
    },
    {
     "name": "stdout",
     "output_type": "stream",
     "text": [
      "Progress saved: cleaned_chunk_0, row 2162\r"
     ]
    },
    {
     "name": "stderr",
     "output_type": "stream",
     "text": [
      "Processing cleaned_chunk_0:  22%|██████▎                      | 2163/10000 [07:01<37:26,  3.49row/s]"
     ]
    },
    {
     "name": "stdout",
     "output_type": "stream",
     "text": [
      "Progress saved: cleaned_chunk_0, row 2163\r"
     ]
    },
    {
     "name": "stderr",
     "output_type": "stream",
     "text": [
      "Processing cleaned_chunk_0:  22%|██████▎                      | 2164/10000 [07:01<34:51,  3.75row/s]"
     ]
    },
    {
     "name": "stdout",
     "output_type": "stream",
     "text": [
      "Progress saved: cleaned_chunk_0, row 2164\r"
     ]
    },
    {
     "name": "stderr",
     "output_type": "stream",
     "text": [
      "Processing cleaned_chunk_0:  22%|██████▎                      | 2166/10000 [07:02<29:13,  4.47row/s]"
     ]
    },
    {
     "name": "stdout",
     "output_type": "stream",
     "text": [
      "Progress saved: cleaned_chunk_0, row 2166\r"
     ]
    },
    {
     "name": "stderr",
     "output_type": "stream",
     "text": [
      "Processing cleaned_chunk_0:  22%|██████▎                      | 2167/10000 [07:02<27:35,  4.73row/s]"
     ]
    },
    {
     "name": "stdout",
     "output_type": "stream",
     "text": [
      "Progress saved: cleaned_chunk_0, row 2167\r"
     ]
    },
    {
     "name": "stderr",
     "output_type": "stream",
     "text": [
      "Processing cleaned_chunk_0:  22%|██████▎                      | 2168/10000 [07:02<27:38,  4.72row/s]"
     ]
    },
    {
     "name": "stdout",
     "output_type": "stream",
     "text": [
      "Progress saved: cleaned_chunk_0, row 2168\r"
     ]
    },
    {
     "name": "stderr",
     "output_type": "stream",
     "text": [
      "Processing cleaned_chunk_0:  22%|██████▎                      | 2169/10000 [07:02<28:54,  4.52row/s]"
     ]
    },
    {
     "name": "stdout",
     "output_type": "stream",
     "text": [
      "Progress saved: cleaned_chunk_0, row 2169\r"
     ]
    },
    {
     "name": "stderr",
     "output_type": "stream",
     "text": [
      "Processing cleaned_chunk_0:  22%|██████▎                      | 2170/10000 [07:03<31:13,  4.18row/s]"
     ]
    },
    {
     "name": "stdout",
     "output_type": "stream",
     "text": [
      "Progress saved: cleaned_chunk_0, row 2170\r"
     ]
    },
    {
     "name": "stderr",
     "output_type": "stream",
     "text": [
      "Processing cleaned_chunk_0:  22%|██████▎                      | 2172/10000 [07:03<39:14,  3.33row/s]"
     ]
    },
    {
     "name": "stdout",
     "output_type": "stream",
     "text": [
      "Progress saved: cleaned_chunk_0, row 2172\r"
     ]
    },
    {
     "name": "stderr",
     "output_type": "stream",
     "text": [
      "Processing cleaned_chunk_0:  22%|██████▎                      | 2173/10000 [07:04<33:19,  3.91row/s]"
     ]
    },
    {
     "name": "stdout",
     "output_type": "stream",
     "text": [
      "Progress saved: cleaned_chunk_0, row 2173\r"
     ]
    },
    {
     "name": "stderr",
     "output_type": "stream",
     "text": [
      "Processing cleaned_chunk_0:  22%|██████▎                      | 2174/10000 [07:04<33:02,  3.95row/s]"
     ]
    },
    {
     "name": "stdout",
     "output_type": "stream",
     "text": [
      "Progress saved: cleaned_chunk_0, row 2175\r"
     ]
    },
    {
     "name": "stderr",
     "output_type": "stream",
     "text": [
      "Processing cleaned_chunk_0:  22%|██████▎                      | 2176/10000 [07:04<28:32,  4.57row/s]"
     ]
    },
    {
     "name": "stdout",
     "output_type": "stream",
     "text": [
      "Progress saved: cleaned_chunk_0, row 2176\r"
     ]
    },
    {
     "name": "stderr",
     "output_type": "stream",
     "text": [
      "Processing cleaned_chunk_0:  22%|██████▎                      | 2177/10000 [07:04<29:44,  4.38row/s]"
     ]
    },
    {
     "name": "stdout",
     "output_type": "stream",
     "text": [
      "Progress saved: cleaned_chunk_0, row 2177\r"
     ]
    },
    {
     "name": "stderr",
     "output_type": "stream",
     "text": [
      "Processing cleaned_chunk_0:  22%|██████▎                      | 2178/10000 [07:05<29:41,  4.39row/s]"
     ]
    },
    {
     "name": "stdout",
     "output_type": "stream",
     "text": [
      "Progress saved: cleaned_chunk_0, row 2179\r"
     ]
    },
    {
     "name": "stderr",
     "output_type": "stream",
     "text": [
      "Processing cleaned_chunk_0:  22%|██████▎                      | 2180/10000 [07:05<27:21,  4.76row/s]"
     ]
    },
    {
     "name": "stdout",
     "output_type": "stream",
     "text": [
      "Progress saved: cleaned_chunk_0, row 2182\r"
     ]
    },
    {
     "name": "stderr",
     "output_type": "stream",
     "text": [
      "Processing cleaned_chunk_0:  22%|██████▎                      | 2184/10000 [07:06<22:33,  5.77row/s]"
     ]
    },
    {
     "name": "stdout",
     "output_type": "stream",
     "text": [
      "Progress saved: cleaned_chunk_0, row 2184\r"
     ]
    },
    {
     "name": "stderr",
     "output_type": "stream",
     "text": [
      "Processing cleaned_chunk_0:  22%|██████▎                      | 2185/10000 [07:06<23:05,  5.64row/s]"
     ]
    },
    {
     "name": "stdout",
     "output_type": "stream",
     "text": [
      "Progress saved: cleaned_chunk_0, row 2185\r"
     ]
    },
    {
     "name": "stderr",
     "output_type": "stream",
     "text": [
      "Processing cleaned_chunk_0:  22%|██████▎                      | 2186/10000 [07:06<25:56,  5.02row/s]"
     ]
    },
    {
     "name": "stdout",
     "output_type": "stream",
     "text": [
      "Progress saved: cleaned_chunk_0, row 2186\r"
     ]
    },
    {
     "name": "stderr",
     "output_type": "stream",
     "text": [
      "Processing cleaned_chunk_0:  22%|██████▎                      | 2187/10000 [07:07<34:15,  3.80row/s]"
     ]
    },
    {
     "name": "stdout",
     "output_type": "stream",
     "text": [
      "Progress saved: cleaned_chunk_0, row 2187\r"
     ]
    },
    {
     "name": "stderr",
     "output_type": "stream",
     "text": [
      "Processing cleaned_chunk_0:  22%|██████▎                      | 2188/10000 [07:07<38:25,  3.39row/s]"
     ]
    },
    {
     "name": "stdout",
     "output_type": "stream",
     "text": [
      "Progress saved: cleaned_chunk_0, row 2188\r"
     ]
    },
    {
     "name": "stderr",
     "output_type": "stream",
     "text": [
      "Processing cleaned_chunk_0:  22%|██████▎                      | 2189/10000 [07:07<47:03,  2.77row/s]"
     ]
    },
    {
     "name": "stdout",
     "output_type": "stream",
     "text": [
      "Progress saved: cleaned_chunk_0, row 2189\r"
     ]
    },
    {
     "name": "stderr",
     "output_type": "stream",
     "text": [
      "Processing cleaned_chunk_0:  22%|█████▉                     | 2190/10000 [07:08<1:01:57,  2.10row/s]"
     ]
    },
    {
     "name": "stdout",
     "output_type": "stream",
     "text": [
      "Progress saved: cleaned_chunk_0, row 2190\r"
     ]
    },
    {
     "name": "stderr",
     "output_type": "stream",
     "text": [
      "Processing cleaned_chunk_0:  22%|██████▎                      | 2191/10000 [07:08<55:26,  2.35row/s]"
     ]
    },
    {
     "name": "stdout",
     "output_type": "stream",
     "text": [
      "Progress saved: cleaned_chunk_0, row 2191\r"
     ]
    },
    {
     "name": "stderr",
     "output_type": "stream",
     "text": [
      "Processing cleaned_chunk_0:  22%|██████▎                      | 2192/10000 [07:09<57:44,  2.25row/s]"
     ]
    },
    {
     "name": "stdout",
     "output_type": "stream",
     "text": [
      "Progress saved: cleaned_chunk_0, row 2192\r"
     ]
    },
    {
     "name": "stderr",
     "output_type": "stream",
     "text": [
      "Processing cleaned_chunk_0:  22%|██████▎                      | 2193/10000 [07:09<53:38,  2.43row/s]"
     ]
    },
    {
     "name": "stdout",
     "output_type": "stream",
     "text": [
      "Progress saved: cleaned_chunk_0, row 2193\r"
     ]
    },
    {
     "name": "stderr",
     "output_type": "stream",
     "text": [
      "Processing cleaned_chunk_0:  22%|█████▉                     | 2194/10000 [07:10<1:06:01,  1.97row/s]"
     ]
    },
    {
     "name": "stdout",
     "output_type": "stream",
     "text": [
      "Progress saved: cleaned_chunk_0, row 2194\r"
     ]
    },
    {
     "name": "stderr",
     "output_type": "stream",
     "text": [
      "Processing cleaned_chunk_0:  22%|█████▉                     | 2195/10000 [07:10<1:01:23,  2.12row/s]"
     ]
    },
    {
     "name": "stdout",
     "output_type": "stream",
     "text": [
      "Progress saved: cleaned_chunk_0, row 2195\r"
     ]
    },
    {
     "name": "stderr",
     "output_type": "stream",
     "text": [
      "Processing cleaned_chunk_0:  22%|█████▉                     | 2196/10000 [07:11<1:02:15,  2.09row/s]"
     ]
    },
    {
     "name": "stdout",
     "output_type": "stream",
     "text": [
      "Progress saved: cleaned_chunk_0, row 2196\r"
     ]
    },
    {
     "name": "stderr",
     "output_type": "stream",
     "text": [
      "Processing cleaned_chunk_0:  22%|██████▎                      | 2197/10000 [07:11<58:05,  2.24row/s]"
     ]
    },
    {
     "name": "stdout",
     "output_type": "stream",
     "text": [
      "Progress saved: cleaned_chunk_0, row 2197\r"
     ]
    },
    {
     "name": "stderr",
     "output_type": "stream",
     "text": [
      "Processing cleaned_chunk_0:  22%|██████▎                      | 2198/10000 [07:12<50:11,  2.59row/s]"
     ]
    },
    {
     "name": "stdout",
     "output_type": "stream",
     "text": [
      "Progress saved: cleaned_chunk_0, row 2198\r"
     ]
    },
    {
     "name": "stderr",
     "output_type": "stream",
     "text": [
      "Processing cleaned_chunk_0:  22%|██████▍                      | 2199/10000 [07:12<53:57,  2.41row/s]"
     ]
    },
    {
     "name": "stdout",
     "output_type": "stream",
     "text": [
      "Progress saved: cleaned_chunk_0, row 2199\r"
     ]
    },
    {
     "name": "stderr",
     "output_type": "stream",
     "text": [
      "Processing cleaned_chunk_0:  22%|██████▍                      | 2200/10000 [07:12<48:44,  2.67row/s]"
     ]
    },
    {
     "name": "stdout",
     "output_type": "stream",
     "text": [
      "Progress saved: cleaned_chunk_0, row 2200\r"
     ]
    },
    {
     "name": "stderr",
     "output_type": "stream",
     "text": [
      "Processing cleaned_chunk_0:  22%|██████▍                      | 2201/10000 [07:13<56:20,  2.31row/s]"
     ]
    },
    {
     "name": "stdout",
     "output_type": "stream",
     "text": [
      "Progress saved: cleaned_chunk_0, row 2201\r"
     ]
    },
    {
     "name": "stderr",
     "output_type": "stream",
     "text": [
      "Processing cleaned_chunk_0:  22%|██████▍                      | 2202/10000 [07:13<54:19,  2.39row/s]"
     ]
    },
    {
     "name": "stdout",
     "output_type": "stream",
     "text": [
      "Progress saved: cleaned_chunk_0, row 2202\r"
     ]
    },
    {
     "name": "stderr",
     "output_type": "stream",
     "text": [
      "Processing cleaned_chunk_0:  22%|██████▍                      | 2203/10000 [07:14<57:32,  2.26row/s]"
     ]
    },
    {
     "name": "stdout",
     "output_type": "stream",
     "text": [
      "Progress saved: cleaned_chunk_0, row 2203\r"
     ]
    },
    {
     "name": "stderr",
     "output_type": "stream",
     "text": [
      "Processing cleaned_chunk_0:  22%|█████▉                     | 2204/10000 [07:15<1:09:45,  1.86row/s]"
     ]
    },
    {
     "name": "stdout",
     "output_type": "stream",
     "text": [
      "Progress saved: cleaned_chunk_0, row 2204\r"
     ]
    },
    {
     "name": "stderr",
     "output_type": "stream",
     "text": [
      "Processing cleaned_chunk_0:  22%|█████▉                     | 2205/10000 [07:15<1:05:24,  1.99row/s]"
     ]
    },
    {
     "name": "stdout",
     "output_type": "stream",
     "text": [
      "Progress saved: cleaned_chunk_0, row 2205\r"
     ]
    },
    {
     "name": "stderr",
     "output_type": "stream",
     "text": [
      "Processing cleaned_chunk_0:  22%|█████▉                     | 2206/10000 [07:16<1:10:23,  1.85row/s]"
     ]
    },
    {
     "name": "stdout",
     "output_type": "stream",
     "text": [
      "Progress saved: cleaned_chunk_0, row 2206\r"
     ]
    },
    {
     "name": "stderr",
     "output_type": "stream",
     "text": [
      "Processing cleaned_chunk_0:  22%|█████▉                     | 2207/10000 [07:16<1:07:00,  1.94row/s]"
     ]
    },
    {
     "name": "stdout",
     "output_type": "stream",
     "text": [
      "Progress saved: cleaned_chunk_0, row 2207\r"
     ]
    },
    {
     "name": "stderr",
     "output_type": "stream",
     "text": [
      "Processing cleaned_chunk_0:  22%|█████▉                     | 2208/10000 [07:16<1:02:13,  2.09row/s]"
     ]
    },
    {
     "name": "stdout",
     "output_type": "stream",
     "text": [
      "Progress saved: cleaned_chunk_0, row 2208\r"
     ]
    },
    {
     "name": "stderr",
     "output_type": "stream",
     "text": [
      "Processing cleaned_chunk_0:  22%|█████▉                     | 2209/10000 [07:17<1:06:48,  1.94row/s]"
     ]
    },
    {
     "name": "stdout",
     "output_type": "stream",
     "text": [
      "Progress saved: cleaned_chunk_0, row 2209\r"
     ]
    },
    {
     "name": "stderr",
     "output_type": "stream",
     "text": [
      "Processing cleaned_chunk_0:  22%|██████▍                      | 2211/10000 [07:18<49:36,  2.62row/s]"
     ]
    },
    {
     "name": "stdout",
     "output_type": "stream",
     "text": [
      "Progress saved: cleaned_chunk_0, row 2211\r"
     ]
    },
    {
     "name": "stderr",
     "output_type": "stream",
     "text": [
      "Processing cleaned_chunk_0:  22%|██████▍                      | 2213/10000 [07:18<36:50,  3.52row/s]"
     ]
    },
    {
     "name": "stdout",
     "output_type": "stream",
     "text": [
      "Progress saved: cleaned_chunk_0, row 2213\r"
     ]
    },
    {
     "name": "stderr",
     "output_type": "stream",
     "text": [
      "Processing cleaned_chunk_0:  22%|██████▍                      | 2214/10000 [07:18<30:26,  4.26row/s]"
     ]
    },
    {
     "name": "stdout",
     "output_type": "stream",
     "text": [
      "Progress saved: cleaned_chunk_0, row 2214\r"
     ]
    },
    {
     "name": "stderr",
     "output_type": "stream",
     "text": [
      "Processing cleaned_chunk_0:  22%|██████▍                      | 2216/10000 [07:18<26:16,  4.94row/s]"
     ]
    },
    {
     "name": "stdout",
     "output_type": "stream",
     "text": [
      "Progress saved: cleaned_chunk_0, row 2216\r"
     ]
    },
    {
     "name": "stderr",
     "output_type": "stream",
     "text": [
      "Processing cleaned_chunk_0:  22%|██████▍                      | 2218/10000 [07:19<28:20,  4.58row/s]"
     ]
    },
    {
     "name": "stdout",
     "output_type": "stream",
     "text": [
      "Progress saved: cleaned_chunk_0, row 2218\r"
     ]
    },
    {
     "name": "stderr",
     "output_type": "stream",
     "text": [
      "Processing cleaned_chunk_0:  22%|██████▍                      | 2220/10000 [07:19<24:06,  5.38row/s]"
     ]
    },
    {
     "name": "stdout",
     "output_type": "stream",
     "text": [
      "Progress saved: cleaned_chunk_0, row 2220\r"
     ]
    },
    {
     "name": "stderr",
     "output_type": "stream",
     "text": [
      "Processing cleaned_chunk_0:  22%|██████▍                      | 2221/10000 [07:19<21:30,  6.03row/s]"
     ]
    },
    {
     "name": "stdout",
     "output_type": "stream",
     "text": [
      "Progress saved: cleaned_chunk_0, row 2221\r"
     ]
    },
    {
     "name": "stderr",
     "output_type": "stream",
     "text": [
      "Processing cleaned_chunk_0:  22%|██████▍                      | 2223/10000 [07:20<22:09,  5.85row/s]"
     ]
    },
    {
     "name": "stdout",
     "output_type": "stream",
     "text": [
      "Progress saved: cleaned_chunk_0, row 2223\r"
     ]
    },
    {
     "name": "stderr",
     "output_type": "stream",
     "text": [
      "Processing cleaned_chunk_0:  22%|██████▍                      | 2224/10000 [07:20<20:34,  6.30row/s]"
     ]
    },
    {
     "name": "stdout",
     "output_type": "stream",
     "text": [
      "Progress saved: cleaned_chunk_0, row 2224\r"
     ]
    },
    {
     "name": "stderr",
     "output_type": "stream",
     "text": [
      "Processing cleaned_chunk_0:  22%|██████▍                      | 2225/10000 [07:20<23:29,  5.52row/s]"
     ]
    },
    {
     "name": "stdout",
     "output_type": "stream",
     "text": [
      "Progress saved: cleaned_chunk_0, row 2225\r"
     ]
    },
    {
     "name": "stderr",
     "output_type": "stream",
     "text": [
      "Processing cleaned_chunk_0:  22%|██████▍                      | 2226/10000 [07:20<29:02,  4.46row/s]"
     ]
    },
    {
     "name": "stdout",
     "output_type": "stream",
     "text": [
      "Progress saved: cleaned_chunk_0, row 2227\r"
     ]
    },
    {
     "name": "stderr",
     "output_type": "stream",
     "text": [
      "Processing cleaned_chunk_0:  22%|██████▍                      | 2229/10000 [07:21<24:24,  5.31row/s]"
     ]
    },
    {
     "name": "stdout",
     "output_type": "stream",
     "text": [
      "Progress saved: cleaned_chunk_0, row 2229\r"
     ]
    },
    {
     "name": "stderr",
     "output_type": "stream",
     "text": [
      "Processing cleaned_chunk_0:  22%|██████▍                      | 2230/10000 [07:21<22:16,  5.81row/s]"
     ]
    },
    {
     "name": "stdout",
     "output_type": "stream",
     "text": [
      "Progress saved: cleaned_chunk_0, row 2230\r"
     ]
    },
    {
     "name": "stderr",
     "output_type": "stream",
     "text": [
      "Processing cleaned_chunk_0:  22%|██████▍                      | 2232/10000 [07:21<22:30,  5.75row/s]"
     ]
    },
    {
     "name": "stdout",
     "output_type": "stream",
     "text": [
      "Progress saved: cleaned_chunk_0, row 2232\r"
     ]
    },
    {
     "name": "stderr",
     "output_type": "stream",
     "text": [
      "Processing cleaned_chunk_0:  22%|██████▍                      | 2233/10000 [07:22<20:53,  6.20row/s]"
     ]
    },
    {
     "name": "stdout",
     "output_type": "stream",
     "text": [
      "Progress saved: cleaned_chunk_0, row 2234\r"
     ]
    },
    {
     "name": "stderr",
     "output_type": "stream",
     "text": [
      "Processing cleaned_chunk_0:  22%|██████▍                      | 2236/10000 [07:22<18:51,  6.86row/s]"
     ]
    },
    {
     "name": "stdout",
     "output_type": "stream",
     "text": [
      "Progress saved: cleaned_chunk_0, row 2236\r"
     ]
    },
    {
     "name": "stderr",
     "output_type": "stream",
     "text": [
      "Processing cleaned_chunk_0:  22%|██████▍                      | 2238/10000 [07:22<18:41,  6.92row/s]"
     ]
    },
    {
     "name": "stdout",
     "output_type": "stream",
     "text": [
      "Progress saved: cleaned_chunk_0, row 2238\r"
     ]
    },
    {
     "name": "stderr",
     "output_type": "stream",
     "text": [
      "Processing cleaned_chunk_0:  22%|██████▍                      | 2240/10000 [07:23<24:29,  5.28row/s]"
     ]
    },
    {
     "name": "stdout",
     "output_type": "stream",
     "text": [
      "Progress saved: cleaned_chunk_0, row 2240\r"
     ]
    },
    {
     "name": "stderr",
     "output_type": "stream",
     "text": [
      "Processing cleaned_chunk_0:  22%|██████▌                      | 2242/10000 [07:23<21:37,  5.98row/s]"
     ]
    },
    {
     "name": "stdout",
     "output_type": "stream",
     "text": [
      "Progress saved: cleaned_chunk_0, row 2242\r"
     ]
    },
    {
     "name": "stderr",
     "output_type": "stream",
     "text": [
      "Processing cleaned_chunk_0:  22%|██████▌                      | 2244/10000 [07:24<25:34,  5.05row/s]"
     ]
    },
    {
     "name": "stdout",
     "output_type": "stream",
     "text": [
      "Progress saved: cleaned_chunk_0, row 2244\r"
     ]
    },
    {
     "name": "stderr",
     "output_type": "stream",
     "text": [
      "Processing cleaned_chunk_0:  22%|██████▌                      | 2246/10000 [07:24<21:56,  5.89row/s]"
     ]
    },
    {
     "name": "stdout",
     "output_type": "stream",
     "text": [
      "Progress saved: cleaned_chunk_0, row 2246\r"
     ]
    },
    {
     "name": "stderr",
     "output_type": "stream",
     "text": [
      "Processing cleaned_chunk_0:  22%|██████▌                      | 2247/10000 [07:24<21:26,  6.02row/s]"
     ]
    },
    {
     "name": "stdout",
     "output_type": "stream",
     "text": [
      "Progress saved: cleaned_chunk_0, row 2248\r"
     ]
    },
    {
     "name": "stderr",
     "output_type": "stream",
     "text": [
      "Processing cleaned_chunk_0:  22%|██████▌                      | 2250/10000 [07:25<20:17,  6.37row/s]"
     ]
    },
    {
     "name": "stdout",
     "output_type": "stream",
     "text": [
      "Progress saved: cleaned_chunk_0, row 2250\r"
     ]
    },
    {
     "name": "stderr",
     "output_type": "stream",
     "text": [
      "Processing cleaned_chunk_0:  23%|██████▌                      | 2251/10000 [07:25<18:58,  6.81row/s]"
     ]
    },
    {
     "name": "stdout",
     "output_type": "stream",
     "text": [
      "Progress saved: cleaned_chunk_0, row 2251\r"
     ]
    },
    {
     "name": "stderr",
     "output_type": "stream",
     "text": [
      "Processing cleaned_chunk_0:  23%|██████▌                      | 2252/10000 [07:25<22:46,  5.67row/s]"
     ]
    },
    {
     "name": "stdout",
     "output_type": "stream",
     "text": [
      "Progress saved: cleaned_chunk_0, row 2252\r"
     ]
    },
    {
     "name": "stderr",
     "output_type": "stream",
     "text": [
      "Processing cleaned_chunk_0:  23%|██████▌                      | 2254/10000 [07:25<24:21,  5.30row/s]"
     ]
    },
    {
     "name": "stdout",
     "output_type": "stream",
     "text": [
      "Progress saved: cleaned_chunk_0, row 2254\r"
     ]
    },
    {
     "name": "stderr",
     "output_type": "stream",
     "text": [
      "Processing cleaned_chunk_0:  23%|██████▌                      | 2256/10000 [07:26<23:52,  5.40row/s]"
     ]
    },
    {
     "name": "stdout",
     "output_type": "stream",
     "text": [
      "Progress saved: cleaned_chunk_0, row 2256\r"
     ]
    },
    {
     "name": "stderr",
     "output_type": "stream",
     "text": [
      "Processing cleaned_chunk_0:  23%|██████▌                      | 2257/10000 [07:26<22:45,  5.67row/s]"
     ]
    },
    {
     "name": "stdout",
     "output_type": "stream",
     "text": [
      "Progress saved: cleaned_chunk_0, row 2258\r"
     ]
    },
    {
     "name": "stderr",
     "output_type": "stream",
     "text": [
      "Processing cleaned_chunk_0:  23%|██████▌                      | 2259/10000 [07:26<23:48,  5.42row/s]"
     ]
    },
    {
     "name": "stdout",
     "output_type": "stream",
     "text": [
      "Progress saved: cleaned_chunk_0, row 2261\r"
     ]
    },
    {
     "name": "stderr",
     "output_type": "stream",
     "text": [
      "Processing cleaned_chunk_0:  23%|██████▌                      | 2263/10000 [07:27<18:13,  7.07row/s]"
     ]
    },
    {
     "name": "stdout",
     "output_type": "stream",
     "text": [
      "Progress saved: cleaned_chunk_0, row 2263\r"
     ]
    },
    {
     "name": "stderr",
     "output_type": "stream",
     "text": [
      "Processing cleaned_chunk_0:  23%|██████▌                      | 2264/10000 [07:27<18:21,  7.02row/s]"
     ]
    },
    {
     "name": "stdout",
     "output_type": "stream",
     "text": [
      "Progress saved: cleaned_chunk_0, row 2264\r"
     ]
    },
    {
     "name": "stderr",
     "output_type": "stream",
     "text": [
      "Processing cleaned_chunk_0:  23%|██████▌                      | 2265/10000 [07:27<23:15,  5.54row/s]"
     ]
    },
    {
     "name": "stdout",
     "output_type": "stream",
     "text": [
      "Progress saved: cleaned_chunk_0, row 2265\r"
     ]
    },
    {
     "name": "stderr",
     "output_type": "stream",
     "text": [
      "Processing cleaned_chunk_0:  23%|██████▌                      | 2266/10000 [07:28<31:17,  4.12row/s]"
     ]
    },
    {
     "name": "stdout",
     "output_type": "stream",
     "text": [
      "Progress saved: cleaned_chunk_0, row 2267\r"
     ]
    },
    {
     "name": "stderr",
     "output_type": "stream",
     "text": [
      "Processing cleaned_chunk_0:  23%|██████▌                      | 2269/10000 [07:28<24:34,  5.24row/s]"
     ]
    },
    {
     "name": "stdout",
     "output_type": "stream",
     "text": [
      "Progress saved: cleaned_chunk_0, row 2269\r"
     ]
    },
    {
     "name": "stderr",
     "output_type": "stream",
     "text": [
      "Processing cleaned_chunk_0:  23%|██████▌                      | 2271/10000 [07:28<21:48,  5.91row/s]"
     ]
    },
    {
     "name": "stdout",
     "output_type": "stream",
     "text": [
      "Progress saved: cleaned_chunk_0, row 2271\r"
     ]
    },
    {
     "name": "stderr",
     "output_type": "stream",
     "text": [
      "Processing cleaned_chunk_0:  23%|██████▌                      | 2272/10000 [07:29<23:30,  5.48row/s]"
     ]
    },
    {
     "name": "stdout",
     "output_type": "stream",
     "text": [
      "Progress saved: cleaned_chunk_0, row 2272\r"
     ]
    },
    {
     "name": "stderr",
     "output_type": "stream",
     "text": [
      "Processing cleaned_chunk_0:  23%|██████▌                      | 2273/10000 [07:29<32:06,  4.01row/s]"
     ]
    },
    {
     "name": "stdout",
     "output_type": "stream",
     "text": [
      "Progress saved: cleaned_chunk_0, row 2274\r"
     ]
    },
    {
     "name": "stderr",
     "output_type": "stream",
     "text": [
      "Processing cleaned_chunk_0:  23%|██████▌                      | 2276/10000 [07:30<31:55,  4.03row/s]"
     ]
    },
    {
     "name": "stdout",
     "output_type": "stream",
     "text": [
      "Progress saved: cleaned_chunk_0, row 2276\r"
     ]
    },
    {
     "name": "stderr",
     "output_type": "stream",
     "text": [
      "Processing cleaned_chunk_0:  23%|██████▌                      | 2277/10000 [07:30<29:17,  4.39row/s]"
     ]
    },
    {
     "name": "stdout",
     "output_type": "stream",
     "text": [
      "Progress saved: cleaned_chunk_0, row 2277\r"
     ]
    },
    {
     "name": "stderr",
     "output_type": "stream",
     "text": [
      "Processing cleaned_chunk_0:  23%|██████▌                      | 2279/10000 [07:31<33:33,  3.83row/s]"
     ]
    },
    {
     "name": "stdout",
     "output_type": "stream",
     "text": [
      "Progress saved: cleaned_chunk_0, row 2279\r"
     ]
    },
    {
     "name": "stderr",
     "output_type": "stream",
     "text": [
      "Processing cleaned_chunk_0:  23%|██████▌                      | 2280/10000 [07:31<31:50,  4.04row/s]"
     ]
    },
    {
     "name": "stdout",
     "output_type": "stream",
     "text": [
      "Progress saved: cleaned_chunk_0, row 2280\r"
     ]
    },
    {
     "name": "stderr",
     "output_type": "stream",
     "text": [
      "Processing cleaned_chunk_0:  23%|██████▌                      | 2281/10000 [07:31<31:25,  4.09row/s]"
     ]
    },
    {
     "name": "stdout",
     "output_type": "stream",
     "text": [
      "Progress saved: cleaned_chunk_0, row 2281\r"
     ]
    },
    {
     "name": "stderr",
     "output_type": "stream",
     "text": [
      "Processing cleaned_chunk_0:  23%|██████▌                      | 2282/10000 [07:31<32:46,  3.92row/s]"
     ]
    },
    {
     "name": "stdout",
     "output_type": "stream",
     "text": [
      "Progress saved: cleaned_chunk_0, row 2282\r"
     ]
    },
    {
     "name": "stderr",
     "output_type": "stream",
     "text": [
      "Processing cleaned_chunk_0:  23%|██████▌                      | 2283/10000 [07:32<39:24,  3.26row/s]"
     ]
    },
    {
     "name": "stdout",
     "output_type": "stream",
     "text": [
      "Progress saved: cleaned_chunk_0, row 2283\r"
     ]
    },
    {
     "name": "stderr",
     "output_type": "stream",
     "text": [
      "Processing cleaned_chunk_0:  23%|██████▌                      | 2284/10000 [07:32<35:59,  3.57row/s]"
     ]
    },
    {
     "name": "stdout",
     "output_type": "stream",
     "text": [
      "Progress saved: cleaned_chunk_0, row 2284\r"
     ]
    },
    {
     "name": "stderr",
     "output_type": "stream",
     "text": [
      "Processing cleaned_chunk_0:  23%|██████▋                      | 2285/10000 [07:32<35:58,  3.57row/s]"
     ]
    },
    {
     "name": "stdout",
     "output_type": "stream",
     "text": [
      "Progress saved: cleaned_chunk_0, row 2285\r"
     ]
    },
    {
     "name": "stderr",
     "output_type": "stream",
     "text": [
      "Processing cleaned_chunk_0:  23%|██████▋                      | 2286/10000 [07:33<38:13,  3.36row/s]"
     ]
    },
    {
     "name": "stdout",
     "output_type": "stream",
     "text": [
      "Progress saved: cleaned_chunk_0, row 2286\r"
     ]
    },
    {
     "name": "stderr",
     "output_type": "stream",
     "text": [
      "Processing cleaned_chunk_0:  23%|██████▋                      | 2287/10000 [07:33<46:22,  2.77row/s]"
     ]
    },
    {
     "name": "stdout",
     "output_type": "stream",
     "text": [
      "Progress saved: cleaned_chunk_0, row 2287\r"
     ]
    },
    {
     "name": "stderr",
     "output_type": "stream",
     "text": [
      "Processing cleaned_chunk_0:  23%|██████▋                      | 2288/10000 [07:33<43:28,  2.96row/s]"
     ]
    },
    {
     "name": "stdout",
     "output_type": "stream",
     "text": [
      "Progress saved: cleaned_chunk_0, row 2288\r"
     ]
    },
    {
     "name": "stderr",
     "output_type": "stream",
     "text": [
      "Processing cleaned_chunk_0:  23%|██████▋                      | 2289/10000 [07:34<42:27,  3.03row/s]"
     ]
    },
    {
     "name": "stdout",
     "output_type": "stream",
     "text": [
      "Progress saved: cleaned_chunk_0, row 2289\r"
     ]
    },
    {
     "name": "stderr",
     "output_type": "stream",
     "text": [
      "Processing cleaned_chunk_0:  23%|██████▋                      | 2290/10000 [07:34<39:33,  3.25row/s]"
     ]
    },
    {
     "name": "stdout",
     "output_type": "stream",
     "text": [
      "Progress saved: cleaned_chunk_0, row 2290\r"
     ]
    },
    {
     "name": "stderr",
     "output_type": "stream",
     "text": [
      "Processing cleaned_chunk_0:  23%|██████▋                      | 2291/10000 [07:34<36:57,  3.48row/s]"
     ]
    },
    {
     "name": "stdout",
     "output_type": "stream",
     "text": [
      "Progress saved: cleaned_chunk_0, row 2291\r"
     ]
    },
    {
     "name": "stderr",
     "output_type": "stream",
     "text": [
      "Processing cleaned_chunk_0:  23%|██████▋                      | 2292/10000 [07:34<37:19,  3.44row/s]"
     ]
    },
    {
     "name": "stdout",
     "output_type": "stream",
     "text": [
      "Progress saved: cleaned_chunk_0, row 2292\r"
     ]
    },
    {
     "name": "stderr",
     "output_type": "stream",
     "text": [
      "Processing cleaned_chunk_0:  23%|██████▋                      | 2293/10000 [07:35<35:43,  3.59row/s]"
     ]
    },
    {
     "name": "stdout",
     "output_type": "stream",
     "text": [
      "Progress saved: cleaned_chunk_0, row 2293\r"
     ]
    },
    {
     "name": "stderr",
     "output_type": "stream",
     "text": [
      "Processing cleaned_chunk_0:  23%|██████▋                      | 2294/10000 [07:35<36:28,  3.52row/s]"
     ]
    },
    {
     "name": "stdout",
     "output_type": "stream",
     "text": [
      "Progress saved: cleaned_chunk_0, row 2294\r"
     ]
    },
    {
     "name": "stderr",
     "output_type": "stream",
     "text": [
      "Processing cleaned_chunk_0:  23%|██████▋                      | 2295/10000 [07:36<49:22,  2.60row/s]"
     ]
    },
    {
     "name": "stdout",
     "output_type": "stream",
     "text": [
      "Progress saved: cleaned_chunk_0, row 2295\r"
     ]
    },
    {
     "name": "stderr",
     "output_type": "stream",
     "text": [
      "Processing cleaned_chunk_0:  23%|██████▋                      | 2296/10000 [07:36<42:16,  3.04row/s]"
     ]
    },
    {
     "name": "stdout",
     "output_type": "stream",
     "text": [
      "Progress saved: cleaned_chunk_0, row 2296\r"
     ]
    },
    {
     "name": "stderr",
     "output_type": "stream",
     "text": [
      "Processing cleaned_chunk_0:  23%|██████▋                      | 2297/10000 [07:36<39:21,  3.26row/s]"
     ]
    },
    {
     "name": "stdout",
     "output_type": "stream",
     "text": [
      "Progress saved: cleaned_chunk_0, row 2297\r"
     ]
    },
    {
     "name": "stderr",
     "output_type": "stream",
     "text": [
      "Processing cleaned_chunk_0:  23%|██████▋                      | 2298/10000 [07:36<36:13,  3.54row/s]"
     ]
    },
    {
     "name": "stdout",
     "output_type": "stream",
     "text": [
      "Progress saved: cleaned_chunk_0, row 2298\r"
     ]
    },
    {
     "name": "stderr",
     "output_type": "stream",
     "text": [
      "Processing cleaned_chunk_0:  23%|██████▋                      | 2299/10000 [07:37<35:39,  3.60row/s]"
     ]
    },
    {
     "name": "stdout",
     "output_type": "stream",
     "text": [
      "Progress saved: cleaned_chunk_0, row 2299\r"
     ]
    },
    {
     "name": "stderr",
     "output_type": "stream",
     "text": [
      "Processing cleaned_chunk_0:  23%|██████▋                      | 2300/10000 [07:37<34:16,  3.74row/s]"
     ]
    },
    {
     "name": "stdout",
     "output_type": "stream",
     "text": [
      "Progress saved: cleaned_chunk_0, row 2300\r"
     ]
    },
    {
     "name": "stderr",
     "output_type": "stream",
     "text": [
      "Processing cleaned_chunk_0:  23%|██████▋                      | 2301/10000 [07:37<34:16,  3.74row/s]"
     ]
    },
    {
     "name": "stdout",
     "output_type": "stream",
     "text": [
      "Progress saved: cleaned_chunk_0, row 2301\r"
     ]
    },
    {
     "name": "stderr",
     "output_type": "stream",
     "text": [
      "Processing cleaned_chunk_0:  23%|██████▋                      | 2302/10000 [07:38<43:28,  2.95row/s]"
     ]
    },
    {
     "name": "stdout",
     "output_type": "stream",
     "text": [
      "Progress saved: cleaned_chunk_0, row 2302\r"
     ]
    },
    {
     "name": "stderr",
     "output_type": "stream",
     "text": [
      "Processing cleaned_chunk_0:  23%|██████▋                      | 2303/10000 [07:38<40:03,  3.20row/s]"
     ]
    },
    {
     "name": "stdout",
     "output_type": "stream",
     "text": [
      "Progress saved: cleaned_chunk_0, row 2303\r"
     ]
    },
    {
     "name": "stderr",
     "output_type": "stream",
     "text": [
      "Processing cleaned_chunk_0:  23%|██████▋                      | 2304/10000 [07:38<36:29,  3.51row/s]"
     ]
    },
    {
     "name": "stdout",
     "output_type": "stream",
     "text": [
      "Progress saved: cleaned_chunk_0, row 2305\r"
     ]
    },
    {
     "name": "stderr",
     "output_type": "stream",
     "text": [
      "Processing cleaned_chunk_0:  23%|██████▋                      | 2306/10000 [07:39<38:05,  3.37row/s]"
     ]
    },
    {
     "name": "stdout",
     "output_type": "stream",
     "text": [
      "Progress saved: cleaned_chunk_0, row 2306\r"
     ]
    },
    {
     "name": "stderr",
     "output_type": "stream",
     "text": [
      "Processing cleaned_chunk_0:  23%|██████▋                      | 2307/10000 [07:39<36:50,  3.48row/s]"
     ]
    },
    {
     "name": "stdout",
     "output_type": "stream",
     "text": [
      "Progress saved: cleaned_chunk_0, row 2307\r"
     ]
    },
    {
     "name": "stderr",
     "output_type": "stream",
     "text": [
      "Processing cleaned_chunk_0:  23%|██████▋                      | 2308/10000 [07:39<48:40,  2.63row/s]"
     ]
    },
    {
     "name": "stdout",
     "output_type": "stream",
     "text": [
      "Progress saved: cleaned_chunk_0, row 2308\r"
     ]
    },
    {
     "name": "stderr",
     "output_type": "stream",
     "text": [
      "Processing cleaned_chunk_0:  23%|██████▋                      | 2309/10000 [07:40<44:51,  2.86row/s]"
     ]
    },
    {
     "name": "stdout",
     "output_type": "stream",
     "text": [
      "Progress saved: cleaned_chunk_0, row 2309\r"
     ]
    },
    {
     "name": "stderr",
     "output_type": "stream",
     "text": [
      "Processing cleaned_chunk_0:  23%|██████▋                      | 2310/10000 [07:40<41:51,  3.06row/s]"
     ]
    },
    {
     "name": "stdout",
     "output_type": "stream",
     "text": [
      "Progress saved: cleaned_chunk_0, row 2310\r"
     ]
    },
    {
     "name": "stderr",
     "output_type": "stream",
     "text": [
      "Processing cleaned_chunk_0:  23%|██████▋                      | 2311/10000 [07:40<37:37,  3.41row/s]"
     ]
    },
    {
     "name": "stdout",
     "output_type": "stream",
     "text": [
      "Progress saved: cleaned_chunk_0, row 2311\r"
     ]
    },
    {
     "name": "stderr",
     "output_type": "stream",
     "text": [
      "Processing cleaned_chunk_0:  23%|██████▋                      | 2312/10000 [07:41<35:59,  3.56row/s]"
     ]
    },
    {
     "name": "stdout",
     "output_type": "stream",
     "text": [
      "Progress saved: cleaned_chunk_0, row 2313\r"
     ]
    },
    {
     "name": "stderr",
     "output_type": "stream",
     "text": [
      "Processing cleaned_chunk_0:  23%|██████▋                      | 2315/10000 [07:41<27:48,  4.61row/s]"
     ]
    },
    {
     "name": "stdout",
     "output_type": "stream",
     "text": [
      "Progress saved: cleaned_chunk_0, row 2315\r"
     ]
    },
    {
     "name": "stderr",
     "output_type": "stream",
     "text": [
      "Processing cleaned_chunk_0:  23%|██████▋                      | 2317/10000 [07:41<24:06,  5.31row/s]"
     ]
    },
    {
     "name": "stdout",
     "output_type": "stream",
     "text": [
      "Progress saved: cleaned_chunk_0, row 2317\r"
     ]
    },
    {
     "name": "stderr",
     "output_type": "stream",
     "text": [
      "Processing cleaned_chunk_0:  23%|██████▋                      | 2318/10000 [07:42<23:19,  5.49row/s]"
     ]
    },
    {
     "name": "stdout",
     "output_type": "stream",
     "text": [
      "Progress saved: cleaned_chunk_0, row 2318\r"
     ]
    },
    {
     "name": "stderr",
     "output_type": "stream",
     "text": [
      "Processing cleaned_chunk_0:  23%|██████▋                      | 2319/10000 [07:42<31:37,  4.05row/s]"
     ]
    },
    {
     "name": "stdout",
     "output_type": "stream",
     "text": [
      "Progress saved: cleaned_chunk_0, row 2319\r"
     ]
    },
    {
     "name": "stderr",
     "output_type": "stream",
     "text": [
      "Processing cleaned_chunk_0:  23%|██████▋                      | 2320/10000 [07:42<32:08,  3.98row/s]"
     ]
    },
    {
     "name": "stdout",
     "output_type": "stream",
     "text": [
      "Progress saved: cleaned_chunk_0, row 2320\r"
     ]
    },
    {
     "name": "stderr",
     "output_type": "stream",
     "text": [
      "Processing cleaned_chunk_0:  23%|██████▋                      | 2321/10000 [07:42<30:23,  4.21row/s]"
     ]
    },
    {
     "name": "stdout",
     "output_type": "stream",
     "text": [
      "Progress saved: cleaned_chunk_0, row 2321\r"
     ]
    },
    {
     "name": "stderr",
     "output_type": "stream",
     "text": [
      "Processing cleaned_chunk_0:  23%|██████▋                      | 2322/10000 [07:43<30:42,  4.17row/s]"
     ]
    },
    {
     "name": "stdout",
     "output_type": "stream",
     "text": [
      "Progress saved: cleaned_chunk_0, row 2322\r"
     ]
    },
    {
     "name": "stderr",
     "output_type": "stream",
     "text": [
      "Processing cleaned_chunk_0:  23%|██████▋                      | 2323/10000 [07:43<29:15,  4.37row/s]"
     ]
    },
    {
     "name": "stdout",
     "output_type": "stream",
     "text": [
      "Progress saved: cleaned_chunk_0, row 2323\r"
     ]
    },
    {
     "name": "stderr",
     "output_type": "stream",
     "text": [
      "Processing cleaned_chunk_0:  23%|██████▋                      | 2324/10000 [07:43<28:50,  4.43row/s]"
     ]
    },
    {
     "name": "stdout",
     "output_type": "stream",
     "text": [
      "Progress saved: cleaned_chunk_0, row 2324\r"
     ]
    },
    {
     "name": "stderr",
     "output_type": "stream",
     "text": [
      "Processing cleaned_chunk_0:  23%|██████▋                      | 2325/10000 [07:43<28:27,  4.49row/s]"
     ]
    },
    {
     "name": "stdout",
     "output_type": "stream",
     "text": [
      "Progress saved: cleaned_chunk_0, row 2325\r"
     ]
    },
    {
     "name": "stderr",
     "output_type": "stream",
     "text": [
      "Processing cleaned_chunk_0:  23%|██████▋                      | 2326/10000 [07:44<27:59,  4.57row/s]"
     ]
    },
    {
     "name": "stdout",
     "output_type": "stream",
     "text": [
      "Progress saved: cleaned_chunk_0, row 2326\r"
     ]
    },
    {
     "name": "stderr",
     "output_type": "stream",
     "text": [
      "Processing cleaned_chunk_0:  23%|██████▋                      | 2327/10000 [07:44<31:57,  4.00row/s]"
     ]
    },
    {
     "name": "stdout",
     "output_type": "stream",
     "text": [
      "Progress saved: cleaned_chunk_0, row 2327\r"
     ]
    },
    {
     "name": "stderr",
     "output_type": "stream",
     "text": [
      "Processing cleaned_chunk_0:  23%|██████▊                      | 2328/10000 [07:44<38:17,  3.34row/s]"
     ]
    },
    {
     "name": "stdout",
     "output_type": "stream",
     "text": [
      "Progress saved: cleaned_chunk_0, row 2328\r"
     ]
    },
    {
     "name": "stderr",
     "output_type": "stream",
     "text": [
      "Processing cleaned_chunk_0:  23%|██████▊                      | 2329/10000 [07:45<43:51,  2.92row/s]"
     ]
    },
    {
     "name": "stdout",
     "output_type": "stream",
     "text": [
      "Progress saved: cleaned_chunk_0, row 2329\r"
     ]
    },
    {
     "name": "stderr",
     "output_type": "stream",
     "text": [
      "Processing cleaned_chunk_0:  23%|██████▊                      | 2330/10000 [07:45<52:16,  2.45row/s]"
     ]
    },
    {
     "name": "stdout",
     "output_type": "stream",
     "text": [
      "Progress saved: cleaned_chunk_0, row 2330\r"
     ]
    },
    {
     "name": "stderr",
     "output_type": "stream",
     "text": [
      "Processing cleaned_chunk_0:  23%|██████▊                      | 2331/10000 [07:46<54:02,  2.36row/s]"
     ]
    },
    {
     "name": "stdout",
     "output_type": "stream",
     "text": [
      "Progress saved: cleaned_chunk_0, row 2331\r"
     ]
    },
    {
     "name": "stderr",
     "output_type": "stream",
     "text": [
      "Processing cleaned_chunk_0:  23%|██████▊                      | 2332/10000 [07:46<55:34,  2.30row/s]"
     ]
    },
    {
     "name": "stdout",
     "output_type": "stream",
     "text": [
      "Progress saved: cleaned_chunk_0, row 2332\r"
     ]
    },
    {
     "name": "stderr",
     "output_type": "stream",
     "text": [
      "Processing cleaned_chunk_0:  23%|██████▊                      | 2333/10000 [07:47<53:06,  2.41row/s]"
     ]
    },
    {
     "name": "stdout",
     "output_type": "stream",
     "text": [
      "Progress saved: cleaned_chunk_0, row 2333\r"
     ]
    },
    {
     "name": "stderr",
     "output_type": "stream",
     "text": [
      "Processing cleaned_chunk_0:  23%|██████▊                      | 2334/10000 [07:47<48:01,  2.66row/s]"
     ]
    },
    {
     "name": "stdout",
     "output_type": "stream",
     "text": [
      "Progress saved: cleaned_chunk_0, row 2334\r"
     ]
    },
    {
     "name": "stderr",
     "output_type": "stream",
     "text": [
      "Processing cleaned_chunk_0:  23%|██████▎                    | 2335/10000 [07:48<1:02:49,  2.03row/s]"
     ]
    },
    {
     "name": "stdout",
     "output_type": "stream",
     "text": [
      "Progress saved: cleaned_chunk_0, row 2335\r"
     ]
    },
    {
     "name": "stderr",
     "output_type": "stream",
     "text": [
      "Processing cleaned_chunk_0:  23%|██████▊                      | 2336/10000 [07:48<59:50,  2.13row/s]"
     ]
    },
    {
     "name": "stdout",
     "output_type": "stream",
     "text": [
      "Progress saved: cleaned_chunk_0, row 2336\r"
     ]
    },
    {
     "name": "stderr",
     "output_type": "stream",
     "text": [
      "Processing cleaned_chunk_0:  23%|██████▊                      | 2337/10000 [07:48<58:02,  2.20row/s]"
     ]
    },
    {
     "name": "stdout",
     "output_type": "stream",
     "text": [
      "Progress saved: cleaned_chunk_0, row 2337\r"
     ]
    },
    {
     "name": "stderr",
     "output_type": "stream",
     "text": [
      "Processing cleaned_chunk_0:  23%|██████▊                      | 2338/10000 [07:49<56:45,  2.25row/s]"
     ]
    },
    {
     "name": "stdout",
     "output_type": "stream",
     "text": [
      "Progress saved: cleaned_chunk_0, row 2338\r"
     ]
    },
    {
     "name": "stderr",
     "output_type": "stream",
     "text": [
      "Processing cleaned_chunk_0:  23%|██████▊                      | 2340/10000 [07:49<44:59,  2.84row/s]"
     ]
    },
    {
     "name": "stdout",
     "output_type": "stream",
     "text": [
      "Progress saved: cleaned_chunk_0, row 2340\r"
     ]
    },
    {
     "name": "stderr",
     "output_type": "stream",
     "text": [
      "Processing cleaned_chunk_0:  23%|██████▊                      | 2341/10000 [07:50<43:21,  2.94row/s]"
     ]
    },
    {
     "name": "stdout",
     "output_type": "stream",
     "text": [
      "Progress saved: cleaned_chunk_0, row 2342\r"
     ]
    },
    {
     "name": "stderr",
     "output_type": "stream",
     "text": [
      "Processing cleaned_chunk_0:  23%|██████▊                      | 2343/10000 [07:50<39:58,  3.19row/s]"
     ]
    },
    {
     "name": "stdout",
     "output_type": "stream",
     "text": [
      "Progress saved: cleaned_chunk_0, row 2343\r"
     ]
    },
    {
     "name": "stderr",
     "output_type": "stream",
     "text": [
      "Processing cleaned_chunk_0:  23%|██████▊                      | 2344/10000 [07:51<38:46,  3.29row/s]"
     ]
    },
    {
     "name": "stdout",
     "output_type": "stream",
     "text": [
      "Progress saved: cleaned_chunk_0, row 2344\r"
     ]
    },
    {
     "name": "stderr",
     "output_type": "stream",
     "text": [
      "Processing cleaned_chunk_0:  23%|██████▊                      | 2345/10000 [07:51<37:58,  3.36row/s]"
     ]
    },
    {
     "name": "stdout",
     "output_type": "stream",
     "text": [
      "Progress saved: cleaned_chunk_0, row 2345\r"
     ]
    },
    {
     "name": "stderr",
     "output_type": "stream",
     "text": [
      "Processing cleaned_chunk_0:  23%|██████▊                      | 2346/10000 [07:51<36:24,  3.50row/s]"
     ]
    },
    {
     "name": "stdout",
     "output_type": "stream",
     "text": [
      "Progress saved: cleaned_chunk_0, row 2347\r"
     ]
    },
    {
     "name": "stderr",
     "output_type": "stream",
     "text": [
      "Processing cleaned_chunk_0:  23%|██████▊                      | 2349/10000 [07:52<30:27,  4.19row/s]"
     ]
    },
    {
     "name": "stdout",
     "output_type": "stream",
     "text": [
      "Progress saved: cleaned_chunk_0, row 2349\r"
     ]
    },
    {
     "name": "stderr",
     "output_type": "stream",
     "text": [
      "Processing cleaned_chunk_0:  24%|██████▊                      | 2350/10000 [07:52<30:40,  4.16row/s]"
     ]
    },
    {
     "name": "stdout",
     "output_type": "stream",
     "text": [
      "Progress saved: cleaned_chunk_0, row 2350\r"
     ]
    },
    {
     "name": "stderr",
     "output_type": "stream",
     "text": [
      "Processing cleaned_chunk_0:  24%|██████▊                      | 2351/10000 [07:52<31:10,  4.09row/s]"
     ]
    },
    {
     "name": "stdout",
     "output_type": "stream",
     "text": [
      "Progress saved: cleaned_chunk_0, row 2351\r"
     ]
    },
    {
     "name": "stderr",
     "output_type": "stream",
     "text": [
      "Processing cleaned_chunk_0:  24%|██████▊                      | 2352/10000 [07:53<34:29,  3.70row/s]"
     ]
    },
    {
     "name": "stdout",
     "output_type": "stream",
     "text": [
      "Progress saved: cleaned_chunk_0, row 2352\r"
     ]
    },
    {
     "name": "stderr",
     "output_type": "stream",
     "text": [
      "Processing cleaned_chunk_0:  24%|██████▊                      | 2353/10000 [07:53<35:15,  3.61row/s]"
     ]
    },
    {
     "name": "stdout",
     "output_type": "stream",
     "text": [
      "Progress saved: cleaned_chunk_0, row 2353\r"
     ]
    },
    {
     "name": "stderr",
     "output_type": "stream",
     "text": [
      "Processing cleaned_chunk_0:  24%|██████▊                      | 2354/10000 [07:53<35:46,  3.56row/s]"
     ]
    },
    {
     "name": "stdout",
     "output_type": "stream",
     "text": [
      "Progress saved: cleaned_chunk_0, row 2354\r"
     ]
    },
    {
     "name": "stderr",
     "output_type": "stream",
     "text": [
      "Processing cleaned_chunk_0:  24%|██████▊                      | 2355/10000 [07:54<39:28,  3.23row/s]"
     ]
    },
    {
     "name": "stdout",
     "output_type": "stream",
     "text": [
      "Progress saved: cleaned_chunk_0, row 2355\r"
     ]
    },
    {
     "name": "stderr",
     "output_type": "stream",
     "text": [
      "Processing cleaned_chunk_0:  24%|██████▊                      | 2356/10000 [07:54<41:46,  3.05row/s]"
     ]
    },
    {
     "name": "stdout",
     "output_type": "stream",
     "text": [
      "Progress saved: cleaned_chunk_0, row 2356\r"
     ]
    },
    {
     "name": "stderr",
     "output_type": "stream",
     "text": [
      "Processing cleaned_chunk_0:  24%|██████▊                      | 2357/10000 [07:54<39:22,  3.23row/s]"
     ]
    },
    {
     "name": "stdout",
     "output_type": "stream",
     "text": [
      "Progress saved: cleaned_chunk_0, row 2358\r"
     ]
    },
    {
     "name": "stderr",
     "output_type": "stream",
     "text": [
      "Processing cleaned_chunk_0:  24%|██████▊                      | 2360/10000 [07:55<27:22,  4.65row/s]"
     ]
    },
    {
     "name": "stdout",
     "output_type": "stream",
     "text": [
      "Progress saved: cleaned_chunk_0, row 2360\r"
     ]
    },
    {
     "name": "stderr",
     "output_type": "stream",
     "text": [
      "Processing cleaned_chunk_0:  24%|██████▊                      | 2361/10000 [07:55<24:36,  5.17row/s]"
     ]
    },
    {
     "name": "stdout",
     "output_type": "stream",
     "text": [
      "Progress saved: cleaned_chunk_0, row 2361\r"
     ]
    },
    {
     "name": "stderr",
     "output_type": "stream",
     "text": [
      "Processing cleaned_chunk_0:  24%|██████▊                      | 2362/10000 [07:55<40:13,  3.16row/s]"
     ]
    },
    {
     "name": "stdout",
     "output_type": "stream",
     "text": [
      "Progress saved: cleaned_chunk_0, row 2362\r"
     ]
    },
    {
     "name": "stderr",
     "output_type": "stream",
     "text": [
      "Processing cleaned_chunk_0:  24%|██████▊                      | 2363/10000 [07:56<44:43,  2.85row/s]"
     ]
    },
    {
     "name": "stdout",
     "output_type": "stream",
     "text": [
      "Progress saved: cleaned_chunk_0, row 2363\r"
     ]
    },
    {
     "name": "stderr",
     "output_type": "stream",
     "text": [
      "Processing cleaned_chunk_0:  24%|██████▊                      | 2364/10000 [07:56<47:54,  2.66row/s]"
     ]
    },
    {
     "name": "stdout",
     "output_type": "stream",
     "text": [
      "Progress saved: cleaned_chunk_0, row 2364\r"
     ]
    },
    {
     "name": "stderr",
     "output_type": "stream",
     "text": [
      "Processing cleaned_chunk_0:  24%|██████▊                      | 2365/10000 [07:57<47:35,  2.67row/s]"
     ]
    },
    {
     "name": "stdout",
     "output_type": "stream",
     "text": [
      "Progress saved: cleaned_chunk_0, row 2366\r"
     ]
    },
    {
     "name": "stderr",
     "output_type": "stream",
     "text": [
      "Processing cleaned_chunk_0:  24%|██████▊                      | 2368/10000 [07:57<32:29,  3.91row/s]"
     ]
    },
    {
     "name": "stdout",
     "output_type": "stream",
     "text": [
      "Progress saved: cleaned_chunk_0, row 2368\r"
     ]
    },
    {
     "name": "stderr",
     "output_type": "stream",
     "text": [
      "Processing cleaned_chunk_0:  24%|██████▊                      | 2369/10000 [07:57<27:45,  4.58row/s]"
     ]
    },
    {
     "name": "stdout",
     "output_type": "stream",
     "text": [
      "Progress saved: cleaned_chunk_0, row 2369\r"
     ]
    },
    {
     "name": "stderr",
     "output_type": "stream",
     "text": [
      "Processing cleaned_chunk_0:  24%|██████▊                      | 2370/10000 [07:58<35:35,  3.57row/s]"
     ]
    },
    {
     "name": "stdout",
     "output_type": "stream",
     "text": [
      "Progress saved: cleaned_chunk_0, row 2370\r"
     ]
    },
    {
     "name": "stderr",
     "output_type": "stream",
     "text": [
      "Processing cleaned_chunk_0:  24%|██████▉                      | 2371/10000 [07:58<41:36,  3.06row/s]"
     ]
    },
    {
     "name": "stdout",
     "output_type": "stream",
     "text": [
      "Progress saved: cleaned_chunk_0, row 2371\r"
     ]
    },
    {
     "name": "stderr",
     "output_type": "stream",
     "text": [
      "Processing cleaned_chunk_0:  24%|██████▉                      | 2373/10000 [07:59<32:43,  3.88row/s]"
     ]
    },
    {
     "name": "stdout",
     "output_type": "stream",
     "text": [
      "Progress saved: cleaned_chunk_0, row 2373\r"
     ]
    },
    {
     "name": "stderr",
     "output_type": "stream",
     "text": [
      "Processing cleaned_chunk_0:  24%|██████▉                      | 2375/10000 [07:59<29:02,  4.38row/s]"
     ]
    },
    {
     "name": "stdout",
     "output_type": "stream",
     "text": [
      "Progress saved: cleaned_chunk_0, row 2375\r"
     ]
    },
    {
     "name": "stderr",
     "output_type": "stream",
     "text": [
      "Processing cleaned_chunk_0:  24%|██████▉                      | 2376/10000 [07:59<26:19,  4.83row/s]"
     ]
    },
    {
     "name": "stdout",
     "output_type": "stream",
     "text": [
      "Progress saved: cleaned_chunk_0, row 2376\r"
     ]
    },
    {
     "name": "stderr",
     "output_type": "stream",
     "text": [
      "Processing cleaned_chunk_0:  24%|██████▉                      | 2377/10000 [08:00<29:22,  4.33row/s]"
     ]
    },
    {
     "name": "stdout",
     "output_type": "stream",
     "text": [
      "Progress saved: cleaned_chunk_0, row 2377\r"
     ]
    },
    {
     "name": "stderr",
     "output_type": "stream",
     "text": [
      "Processing cleaned_chunk_0:  24%|██████▉                      | 2378/10000 [08:00<30:04,  4.22row/s]"
     ]
    },
    {
     "name": "stdout",
     "output_type": "stream",
     "text": [
      "Progress saved: cleaned_chunk_0, row 2378\r"
     ]
    },
    {
     "name": "stderr",
     "output_type": "stream",
     "text": [
      "Processing cleaned_chunk_0:  24%|██████▉                      | 2379/10000 [08:00<40:44,  3.12row/s]"
     ]
    },
    {
     "name": "stdout",
     "output_type": "stream",
     "text": [
      "Progress saved: cleaned_chunk_0, row 2379\r"
     ]
    },
    {
     "name": "stderr",
     "output_type": "stream",
     "text": [
      "Processing cleaned_chunk_0:  24%|██████▉                      | 2380/10000 [08:01<42:28,  2.99row/s]"
     ]
    },
    {
     "name": "stdout",
     "output_type": "stream",
     "text": [
      "Progress saved: cleaned_chunk_0, row 2380\r"
     ]
    },
    {
     "name": "stderr",
     "output_type": "stream",
     "text": [
      "Processing cleaned_chunk_0:  24%|██████▉                      | 2381/10000 [08:01<42:11,  3.01row/s]"
     ]
    },
    {
     "name": "stdout",
     "output_type": "stream",
     "text": [
      "Progress saved: cleaned_chunk_0, row 2382\r"
     ]
    },
    {
     "name": "stderr",
     "output_type": "stream",
     "text": [
      "Processing cleaned_chunk_0:  24%|██████▉                      | 2384/10000 [08:01<26:36,  4.77row/s]"
     ]
    },
    {
     "name": "stdout",
     "output_type": "stream",
     "text": [
      "Progress saved: cleaned_chunk_0, row 2384\r"
     ]
    },
    {
     "name": "stderr",
     "output_type": "stream",
     "text": [
      "Processing cleaned_chunk_0:  24%|██████▉                      | 2385/10000 [08:02<23:07,  5.49row/s]"
     ]
    },
    {
     "name": "stdout",
     "output_type": "stream",
     "text": [
      "Progress saved: cleaned_chunk_0, row 2386\r"
     ]
    },
    {
     "name": "stderr",
     "output_type": "stream",
     "text": [
      "Processing cleaned_chunk_0:  24%|██████▉                      | 2387/10000 [08:02<21:34,  5.88row/s]"
     ]
    },
    {
     "name": "stdout",
     "output_type": "stream",
     "text": [
      "Progress saved: cleaned_chunk_0, row 2388\r"
     ]
    },
    {
     "name": "stderr",
     "output_type": "stream",
     "text": [
      "Processing cleaned_chunk_0:  24%|██████▉                      | 2389/10000 [08:02<23:23,  5.42row/s]"
     ]
    },
    {
     "name": "stdout",
     "output_type": "stream",
     "text": [
      "Progress saved: cleaned_chunk_0, row 2389\r"
     ]
    },
    {
     "name": "stderr",
     "output_type": "stream",
     "text": [
      "Processing cleaned_chunk_0:  24%|██████▉                      | 2390/10000 [08:03<26:52,  4.72row/s]"
     ]
    },
    {
     "name": "stdout",
     "output_type": "stream",
     "text": [
      "Progress saved: cleaned_chunk_0, row 2390\r"
     ]
    },
    {
     "name": "stderr",
     "output_type": "stream",
     "text": [
      "Processing cleaned_chunk_0:  24%|██████▉                      | 2391/10000 [08:03<38:11,  3.32row/s]"
     ]
    },
    {
     "name": "stdout",
     "output_type": "stream",
     "text": [
      "Progress saved: cleaned_chunk_0, row 2391\r"
     ]
    },
    {
     "name": "stderr",
     "output_type": "stream",
     "text": [
      "Processing cleaned_chunk_0:  24%|██████▉                      | 2392/10000 [08:03<35:10,  3.61row/s]"
     ]
    },
    {
     "name": "stdout",
     "output_type": "stream",
     "text": [
      "Progress saved: cleaned_chunk_0, row 2392\r"
     ]
    },
    {
     "name": "stderr",
     "output_type": "stream",
     "text": [
      "Processing cleaned_chunk_0:  24%|██████▉                      | 2393/10000 [08:04<37:29,  3.38row/s]"
     ]
    },
    {
     "name": "stdout",
     "output_type": "stream",
     "text": [
      "Progress saved: cleaned_chunk_0, row 2394\r"
     ]
    },
    {
     "name": "stderr",
     "output_type": "stream",
     "text": [
      "Processing cleaned_chunk_0:  24%|██████▉                      | 2396/10000 [08:04<25:52,  4.90row/s]"
     ]
    },
    {
     "name": "stdout",
     "output_type": "stream",
     "text": [
      "Progress saved: cleaned_chunk_0, row 2396\r"
     ]
    },
    {
     "name": "stderr",
     "output_type": "stream",
     "text": [
      "Processing cleaned_chunk_0:  24%|██████▉                      | 2397/10000 [08:04<23:21,  5.43row/s]"
     ]
    },
    {
     "name": "stdout",
     "output_type": "stream",
     "text": [
      "Progress saved: cleaned_chunk_0, row 2398\r"
     ]
    },
    {
     "name": "stderr",
     "output_type": "stream",
     "text": [
      "Processing cleaned_chunk_0:  24%|██████▉                      | 2400/10000 [08:05<21:23,  5.92row/s]"
     ]
    },
    {
     "name": "stdout",
     "output_type": "stream",
     "text": [
      "Progress saved: cleaned_chunk_0, row 2400\r"
     ]
    },
    {
     "name": "stderr",
     "output_type": "stream",
     "text": [
      "Processing cleaned_chunk_0:  24%|██████▉                      | 2401/10000 [08:05<19:57,  6.35row/s]"
     ]
    },
    {
     "name": "stdout",
     "output_type": "stream",
     "text": [
      "Progress saved: cleaned_chunk_0, row 2401\r"
     ]
    },
    {
     "name": "stderr",
     "output_type": "stream",
     "text": [
      "Processing cleaned_chunk_0:  24%|██████▉                      | 2402/10000 [08:05<29:23,  4.31row/s]"
     ]
    },
    {
     "name": "stdout",
     "output_type": "stream",
     "text": [
      "Progress saved: cleaned_chunk_0, row 2402\r"
     ]
    },
    {
     "name": "stderr",
     "output_type": "stream",
     "text": [
      "Processing cleaned_chunk_0:  24%|██████▉                      | 2403/10000 [08:06<33:41,  3.76row/s]"
     ]
    },
    {
     "name": "stdout",
     "output_type": "stream",
     "text": [
      "Progress saved: cleaned_chunk_0, row 2403\r"
     ]
    },
    {
     "name": "stderr",
     "output_type": "stream",
     "text": [
      "Processing cleaned_chunk_0:  24%|██████▉                      | 2404/10000 [08:06<32:06,  3.94row/s]"
     ]
    },
    {
     "name": "stdout",
     "output_type": "stream",
     "text": [
      "Progress saved: cleaned_chunk_0, row 2405\r"
     ]
    },
    {
     "name": "stderr",
     "output_type": "stream",
     "text": [
      "Processing cleaned_chunk_0:  24%|██████▉                      | 2407/10000 [08:06<25:40,  4.93row/s]"
     ]
    },
    {
     "name": "stdout",
     "output_type": "stream",
     "text": [
      "Progress saved: cleaned_chunk_0, row 2407\r"
     ]
    },
    {
     "name": "stderr",
     "output_type": "stream",
     "text": [
      "Processing cleaned_chunk_0:  24%|██████▉                      | 2408/10000 [08:07<26:49,  4.72row/s]"
     ]
    },
    {
     "name": "stdout",
     "output_type": "stream",
     "text": [
      "Progress saved: cleaned_chunk_0, row 2408\r"
     ]
    },
    {
     "name": "stderr",
     "output_type": "stream",
     "text": [
      "Processing cleaned_chunk_0:  24%|██████▉                      | 2410/10000 [08:07<25:38,  4.93row/s]"
     ]
    },
    {
     "name": "stdout",
     "output_type": "stream",
     "text": [
      "Progress saved: cleaned_chunk_0, row 2410\r"
     ]
    },
    {
     "name": "stderr",
     "output_type": "stream",
     "text": [
      "Processing cleaned_chunk_0:  24%|██████▉                      | 2412/10000 [08:07<22:50,  5.53row/s]"
     ]
    },
    {
     "name": "stdout",
     "output_type": "stream",
     "text": [
      "Progress saved: cleaned_chunk_0, row 2412\r"
     ]
    },
    {
     "name": "stderr",
     "output_type": "stream",
     "text": [
      "Processing cleaned_chunk_0:  24%|██████▉                      | 2413/10000 [08:08<32:51,  3.85row/s]"
     ]
    },
    {
     "name": "stdout",
     "output_type": "stream",
     "text": [
      "Progress saved: cleaned_chunk_0, row 2413\r"
     ]
    },
    {
     "name": "stderr",
     "output_type": "stream",
     "text": [
      "Processing cleaned_chunk_0:  24%|███████                      | 2414/10000 [08:08<43:21,  2.92row/s]"
     ]
    },
    {
     "name": "stdout",
     "output_type": "stream",
     "text": [
      "Progress saved: cleaned_chunk_0, row 2414\r"
     ]
    },
    {
     "name": "stderr",
     "output_type": "stream",
     "text": [
      "Processing cleaned_chunk_0:  24%|███████                      | 2415/10000 [08:09<49:00,  2.58row/s]"
     ]
    },
    {
     "name": "stdout",
     "output_type": "stream",
     "text": [
      "Progress saved: cleaned_chunk_0, row 2415\r"
     ]
    },
    {
     "name": "stderr",
     "output_type": "stream",
     "text": [
      "Processing cleaned_chunk_0:  24%|███████                      | 2416/10000 [08:09<52:12,  2.42row/s]"
     ]
    },
    {
     "name": "stdout",
     "output_type": "stream",
     "text": [
      "Progress saved: cleaned_chunk_0, row 2416\r"
     ]
    },
    {
     "name": "stderr",
     "output_type": "stream",
     "text": [
      "Processing cleaned_chunk_0:  24%|███████                      | 2417/10000 [08:10<49:32,  2.55row/s]"
     ]
    },
    {
     "name": "stdout",
     "output_type": "stream",
     "text": [
      "Progress saved: cleaned_chunk_0, row 2417\r"
     ]
    },
    {
     "name": "stderr",
     "output_type": "stream",
     "text": [
      "Processing cleaned_chunk_0:  24%|███████                      | 2418/10000 [08:10<47:35,  2.66row/s]"
     ]
    },
    {
     "name": "stdout",
     "output_type": "stream",
     "text": [
      "Progress saved: cleaned_chunk_0, row 2418\r"
     ]
    },
    {
     "name": "stderr",
     "output_type": "stream",
     "text": [
      "Processing cleaned_chunk_0:  24%|███████                      | 2419/10000 [08:10<43:21,  2.91row/s]"
     ]
    },
    {
     "name": "stdout",
     "output_type": "stream",
     "text": [
      "Progress saved: cleaned_chunk_0, row 2419\r"
     ]
    },
    {
     "name": "stderr",
     "output_type": "stream",
     "text": [
      "Processing cleaned_chunk_0:  24%|███████                      | 2420/10000 [08:11<40:17,  3.13row/s]"
     ]
    },
    {
     "name": "stdout",
     "output_type": "stream",
     "text": [
      "Progress saved: cleaned_chunk_0, row 2420\r"
     ]
    },
    {
     "name": "stderr",
     "output_type": "stream",
     "text": [
      "Processing cleaned_chunk_0:  24%|███████                      | 2421/10000 [08:11<36:32,  3.46row/s]"
     ]
    },
    {
     "name": "stdout",
     "output_type": "stream",
     "text": [
      "Progress saved: cleaned_chunk_0, row 2421\r"
     ]
    },
    {
     "name": "stderr",
     "output_type": "stream",
     "text": [
      "Processing cleaned_chunk_0:  24%|███████                      | 2422/10000 [08:11<40:38,  3.11row/s]"
     ]
    },
    {
     "name": "stdout",
     "output_type": "stream",
     "text": [
      "Progress saved: cleaned_chunk_0, row 2422\r"
     ]
    },
    {
     "name": "stderr",
     "output_type": "stream",
     "text": [
      "Processing cleaned_chunk_0:  24%|███████                      | 2424/10000 [08:12<35:12,  3.59row/s]"
     ]
    },
    {
     "name": "stdout",
     "output_type": "stream",
     "text": [
      "Progress saved: cleaned_chunk_0, row 2424\r"
     ]
    },
    {
     "name": "stderr",
     "output_type": "stream",
     "text": [
      "Processing cleaned_chunk_0:  24%|███████                      | 2425/10000 [08:12<30:18,  4.17row/s]"
     ]
    },
    {
     "name": "stdout",
     "output_type": "stream",
     "text": [
      "Progress saved: cleaned_chunk_0, row 2425\r"
     ]
    },
    {
     "name": "stderr",
     "output_type": "stream",
     "text": [
      "Processing cleaned_chunk_0:  24%|███████                      | 2426/10000 [08:12<36:09,  3.49row/s]"
     ]
    },
    {
     "name": "stdout",
     "output_type": "stream",
     "text": [
      "Progress saved: cleaned_chunk_0, row 2427\r"
     ]
    },
    {
     "name": "stderr",
     "output_type": "stream",
     "text": [
      "Processing cleaned_chunk_0:  24%|███████                      | 2428/10000 [08:13<33:10,  3.80row/s]"
     ]
    },
    {
     "name": "stdout",
     "output_type": "stream",
     "text": [
      "Progress saved: cleaned_chunk_0, row 2428\r"
     ]
    },
    {
     "name": "stderr",
     "output_type": "stream",
     "text": [
      "Processing cleaned_chunk_0:  24%|███████                      | 2429/10000 [08:13<31:43,  3.98row/s]"
     ]
    },
    {
     "name": "stdout",
     "output_type": "stream",
     "text": [
      "Progress saved: cleaned_chunk_0, row 2429\r"
     ]
    },
    {
     "name": "stderr",
     "output_type": "stream",
     "text": [
      "Processing cleaned_chunk_0:  24%|███████                      | 2430/10000 [08:13<32:52,  3.84row/s]"
     ]
    },
    {
     "name": "stdout",
     "output_type": "stream",
     "text": [
      "Progress saved: cleaned_chunk_0, row 2430\r"
     ]
    },
    {
     "name": "stderr",
     "output_type": "stream",
     "text": [
      "Processing cleaned_chunk_0:  24%|███████                      | 2431/10000 [08:14<37:29,  3.36row/s]"
     ]
    },
    {
     "name": "stdout",
     "output_type": "stream",
     "text": [
      "Progress saved: cleaned_chunk_0, row 2431\r"
     ]
    },
    {
     "name": "stderr",
     "output_type": "stream",
     "text": [
      "Processing cleaned_chunk_0:  24%|███████                      | 2432/10000 [08:14<49:24,  2.55row/s]"
     ]
    },
    {
     "name": "stdout",
     "output_type": "stream",
     "text": [
      "Progress saved: cleaned_chunk_0, row 2433\r"
     ]
    },
    {
     "name": "stderr",
     "output_type": "stream",
     "text": [
      "Processing cleaned_chunk_0:  24%|███████                      | 2435/10000 [08:15<31:31,  4.00row/s]"
     ]
    },
    {
     "name": "stdout",
     "output_type": "stream",
     "text": [
      "Progress saved: cleaned_chunk_0, row 2435\r"
     ]
    },
    {
     "name": "stderr",
     "output_type": "stream",
     "text": [
      "Processing cleaned_chunk_0:  24%|███████                      | 2436/10000 [08:15<28:31,  4.42row/s]"
     ]
    },
    {
     "name": "stdout",
     "output_type": "stream",
     "text": [
      "Progress saved: cleaned_chunk_0, row 2436\r"
     ]
    },
    {
     "name": "stderr",
     "output_type": "stream",
     "text": [
      "Processing cleaned_chunk_0:  24%|███████                      | 2437/10000 [08:15<32:40,  3.86row/s]"
     ]
    },
    {
     "name": "stdout",
     "output_type": "stream",
     "text": [
      "Progress saved: cleaned_chunk_0, row 2437\r"
     ]
    },
    {
     "name": "stderr",
     "output_type": "stream",
     "text": [
      "Processing cleaned_chunk_0:  24%|███████                      | 2438/10000 [08:16<39:13,  3.21row/s]"
     ]
    },
    {
     "name": "stdout",
     "output_type": "stream",
     "text": [
      "Progress saved: cleaned_chunk_0, row 2438\r"
     ]
    },
    {
     "name": "stderr",
     "output_type": "stream",
     "text": [
      "Processing cleaned_chunk_0:  24%|███████                      | 2439/10000 [08:16<39:20,  3.20row/s]"
     ]
    },
    {
     "name": "stdout",
     "output_type": "stream",
     "text": [
      "Progress saved: cleaned_chunk_0, row 2439\r"
     ]
    },
    {
     "name": "stderr",
     "output_type": "stream",
     "text": [
      "Processing cleaned_chunk_0:  24%|███████                      | 2440/10000 [08:17<46:23,  2.72row/s]"
     ]
    },
    {
     "name": "stdout",
     "output_type": "stream",
     "text": [
      "Progress saved: cleaned_chunk_0, row 2440\r"
     ]
    },
    {
     "name": "stderr",
     "output_type": "stream",
     "text": [
      "Processing cleaned_chunk_0:  24%|███████                      | 2441/10000 [08:17<50:54,  2.47row/s]"
     ]
    },
    {
     "name": "stdout",
     "output_type": "stream",
     "text": [
      "Progress saved: cleaned_chunk_0, row 2441\r"
     ]
    },
    {
     "name": "stderr",
     "output_type": "stream",
     "text": [
      "Processing cleaned_chunk_0:  24%|███████                      | 2442/10000 [08:17<43:44,  2.88row/s]"
     ]
    },
    {
     "name": "stdout",
     "output_type": "stream",
     "text": [
      "Progress saved: cleaned_chunk_0, row 2442\r"
     ]
    },
    {
     "name": "stderr",
     "output_type": "stream",
     "text": [
      "Processing cleaned_chunk_0:  24%|███████                      | 2443/10000 [08:17<39:43,  3.17row/s]"
     ]
    },
    {
     "name": "stdout",
     "output_type": "stream",
     "text": [
      "Progress saved: cleaned_chunk_0, row 2443\r"
     ]
    },
    {
     "name": "stderr",
     "output_type": "stream",
     "text": [
      "Processing cleaned_chunk_0:  24%|███████                      | 2444/10000 [08:18<35:44,  3.52row/s]"
     ]
    },
    {
     "name": "stdout",
     "output_type": "stream",
     "text": [
      "Progress saved: cleaned_chunk_0, row 2445\r"
     ]
    },
    {
     "name": "stderr",
     "output_type": "stream",
     "text": [
      "Processing cleaned_chunk_0:  24%|███████                      | 2447/10000 [08:18<27:25,  4.59row/s]"
     ]
    },
    {
     "name": "stdout",
     "output_type": "stream",
     "text": [
      "Progress saved: cleaned_chunk_0, row 2447\r"
     ]
    },
    {
     "name": "stderr",
     "output_type": "stream",
     "text": [
      "Processing cleaned_chunk_0:  24%|███████                      | 2448/10000 [08:18<25:03,  5.02row/s]"
     ]
    },
    {
     "name": "stdout",
     "output_type": "stream",
     "text": [
      "Progress saved: cleaned_chunk_0, row 2448\r"
     ]
    },
    {
     "name": "stderr",
     "output_type": "stream",
     "text": [
      "Processing cleaned_chunk_0:  24%|███████                      | 2449/10000 [08:19<29:20,  4.29row/s]"
     ]
    },
    {
     "name": "stdout",
     "output_type": "stream",
     "text": [
      "Progress saved: cleaned_chunk_0, row 2449\r"
     ]
    },
    {
     "name": "stderr",
     "output_type": "stream",
     "text": [
      "Processing cleaned_chunk_0:  24%|███████                      | 2450/10000 [08:19<38:38,  3.26row/s]"
     ]
    },
    {
     "name": "stdout",
     "output_type": "stream",
     "text": [
      "Progress saved: cleaned_chunk_0, row 2451\r"
     ]
    },
    {
     "name": "stderr",
     "output_type": "stream",
     "text": [
      "Processing cleaned_chunk_0:  25%|███████                      | 2453/10000 [08:20<31:04,  4.05row/s]"
     ]
    },
    {
     "name": "stdout",
     "output_type": "stream",
     "text": [
      "Progress saved: cleaned_chunk_0, row 2453\r"
     ]
    },
    {
     "name": "stderr",
     "output_type": "stream",
     "text": [
      "Processing cleaned_chunk_0:  25%|███████                      | 2454/10000 [08:20<31:56,  3.94row/s]"
     ]
    },
    {
     "name": "stdout",
     "output_type": "stream",
     "text": [
      "Progress saved: cleaned_chunk_0, row 2454\r"
     ]
    },
    {
     "name": "stderr",
     "output_type": "stream",
     "text": [
      "Processing cleaned_chunk_0:  25%|███████                      | 2455/10000 [08:21<40:32,  3.10row/s]"
     ]
    },
    {
     "name": "stdout",
     "output_type": "stream",
     "text": [
      "Progress saved: cleaned_chunk_0, row 2455\r"
     ]
    },
    {
     "name": "stderr",
     "output_type": "stream",
     "text": [
      "Processing cleaned_chunk_0:  25%|███████                      | 2456/10000 [08:21<41:58,  3.00row/s]"
     ]
    },
    {
     "name": "stdout",
     "output_type": "stream",
     "text": [
      "Progress saved: cleaned_chunk_0, row 2456\r"
     ]
    },
    {
     "name": "stderr",
     "output_type": "stream",
     "text": [
      "Processing cleaned_chunk_0:  25%|███████▏                     | 2458/10000 [08:21<32:45,  3.84row/s]"
     ]
    },
    {
     "name": "stdout",
     "output_type": "stream",
     "text": [
      "Progress saved: cleaned_chunk_0, row 2458\r"
     ]
    },
    {
     "name": "stderr",
     "output_type": "stream",
     "text": [
      "Processing cleaned_chunk_0:  25%|███████▏                     | 2459/10000 [08:21<28:14,  4.45row/s]"
     ]
    },
    {
     "name": "stdout",
     "output_type": "stream",
     "text": [
      "Progress saved: cleaned_chunk_0, row 2459\r"
     ]
    },
    {
     "name": "stderr",
     "output_type": "stream",
     "text": [
      "Processing cleaned_chunk_0:  25%|███████▏                     | 2461/10000 [08:22<31:05,  4.04row/s]"
     ]
    },
    {
     "name": "stdout",
     "output_type": "stream",
     "text": [
      "Progress saved: cleaned_chunk_0, row 2461\r"
     ]
    },
    {
     "name": "stderr",
     "output_type": "stream",
     "text": [
      "Processing cleaned_chunk_0:  25%|███████▏                     | 2463/10000 [08:22<24:16,  5.18row/s]"
     ]
    },
    {
     "name": "stdout",
     "output_type": "stream",
     "text": [
      "Progress saved: cleaned_chunk_0, row 2463\r"
     ]
    },
    {
     "name": "stderr",
     "output_type": "stream",
     "text": [
      "Processing cleaned_chunk_0:  25%|███████▏                     | 2465/10000 [08:23<20:27,  6.14row/s]"
     ]
    },
    {
     "name": "stdout",
     "output_type": "stream",
     "text": [
      "Progress saved: cleaned_chunk_0, row 2465\r"
     ]
    },
    {
     "name": "stderr",
     "output_type": "stream",
     "text": [
      "Processing cleaned_chunk_0:  25%|███████▏                     | 2466/10000 [08:23<19:17,  6.51row/s]"
     ]
    },
    {
     "name": "stdout",
     "output_type": "stream",
     "text": [
      "Progress saved: cleaned_chunk_0, row 2466\r"
     ]
    },
    {
     "name": "stderr",
     "output_type": "stream",
     "text": [
      "Processing cleaned_chunk_0:  25%|███████▏                     | 2467/10000 [08:23<23:50,  5.27row/s]"
     ]
    },
    {
     "name": "stdout",
     "output_type": "stream",
     "text": [
      "Progress saved: cleaned_chunk_0, row 2468\r"
     ]
    },
    {
     "name": "stderr",
     "output_type": "stream",
     "text": [
      "Processing cleaned_chunk_0:  25%|███████▏                     | 2469/10000 [08:23<25:16,  4.97row/s]"
     ]
    },
    {
     "name": "stdout",
     "output_type": "stream",
     "text": [
      "Progress saved: cleaned_chunk_0, row 2469\r"
     ]
    },
    {
     "name": "stderr",
     "output_type": "stream",
     "text": [
      "Processing cleaned_chunk_0:  25%|███████▏                     | 2471/10000 [08:24<24:36,  5.10row/s]"
     ]
    },
    {
     "name": "stdout",
     "output_type": "stream",
     "text": [
      "Progress saved: cleaned_chunk_0, row 2471\r"
     ]
    },
    {
     "name": "stderr",
     "output_type": "stream",
     "text": [
      "Processing cleaned_chunk_0:  25%|███████▏                     | 2473/10000 [08:24<21:57,  5.71row/s]"
     ]
    },
    {
     "name": "stdout",
     "output_type": "stream",
     "text": [
      "Progress saved: cleaned_chunk_0, row 2473\r"
     ]
    },
    {
     "name": "stderr",
     "output_type": "stream",
     "text": [
      "Processing cleaned_chunk_0:  25%|███████▏                     | 2475/10000 [08:24<19:28,  6.44row/s]"
     ]
    },
    {
     "name": "stdout",
     "output_type": "stream",
     "text": [
      "Progress saved: cleaned_chunk_0, row 2475\r"
     ]
    },
    {
     "name": "stderr",
     "output_type": "stream",
     "text": [
      "Processing cleaned_chunk_0:  25%|███████▏                     | 2477/10000 [08:25<18:06,  6.92row/s]"
     ]
    },
    {
     "name": "stdout",
     "output_type": "stream",
     "text": [
      "Progress saved: cleaned_chunk_0, row 2477\r"
     ]
    },
    {
     "name": "stderr",
     "output_type": "stream",
     "text": [
      "Processing cleaned_chunk_0:  25%|███████▏                     | 2478/10000 [08:25<18:11,  6.89row/s]"
     ]
    },
    {
     "name": "stdout",
     "output_type": "stream",
     "text": [
      "Progress saved: cleaned_chunk_0, row 2478\r"
     ]
    },
    {
     "name": "stderr",
     "output_type": "stream",
     "text": [
      "Processing cleaned_chunk_0:  25%|███████▏                     | 2479/10000 [08:25<24:19,  5.15row/s]"
     ]
    },
    {
     "name": "stdout",
     "output_type": "stream",
     "text": [
      "Progress saved: cleaned_chunk_0, row 2479\r"
     ]
    },
    {
     "name": "stderr",
     "output_type": "stream",
     "text": [
      "Processing cleaned_chunk_0:  25%|███████▏                     | 2481/10000 [08:26<23:40,  5.29row/s]"
     ]
    },
    {
     "name": "stdout",
     "output_type": "stream",
     "text": [
      "Progress saved: cleaned_chunk_0, row 2481\r"
     ]
    },
    {
     "name": "stderr",
     "output_type": "stream",
     "text": [
      "Processing cleaned_chunk_0:  25%|███████▏                     | 2483/10000 [08:26<21:39,  5.79row/s]"
     ]
    },
    {
     "name": "stdout",
     "output_type": "stream",
     "text": [
      "Progress saved: cleaned_chunk_0, row 2483\r"
     ]
    },
    {
     "name": "stderr",
     "output_type": "stream",
     "text": [
      "Processing cleaned_chunk_0:  25%|███████▏                     | 2484/10000 [08:26<20:21,  6.15row/s]"
     ]
    },
    {
     "name": "stdout",
     "output_type": "stream",
     "text": [
      "Progress saved: cleaned_chunk_0, row 2484\r"
     ]
    },
    {
     "name": "stderr",
     "output_type": "stream",
     "text": [
      "Processing cleaned_chunk_0:  25%|███████▏                     | 2485/10000 [08:26<33:16,  3.76row/s]"
     ]
    },
    {
     "name": "stdout",
     "output_type": "stream",
     "text": [
      "Progress saved: cleaned_chunk_0, row 2485\r"
     ]
    },
    {
     "name": "stderr",
     "output_type": "stream",
     "text": [
      "Processing cleaned_chunk_0:  25%|███████▏                     | 2486/10000 [08:27<39:32,  3.17row/s]"
     ]
    },
    {
     "name": "stdout",
     "output_type": "stream",
     "text": [
      "Progress saved: cleaned_chunk_0, row 2486\r"
     ]
    },
    {
     "name": "stderr",
     "output_type": "stream",
     "text": [
      "Processing cleaned_chunk_0:  25%|███████▏                     | 2487/10000 [08:27<36:53,  3.39row/s]"
     ]
    },
    {
     "name": "stdout",
     "output_type": "stream",
     "text": [
      "Progress saved: cleaned_chunk_0, row 2487\r"
     ]
    },
    {
     "name": "stderr",
     "output_type": "stream",
     "text": [
      "Processing cleaned_chunk_0:  25%|███████▏                     | 2488/10000 [08:28<39:21,  3.18row/s]"
     ]
    },
    {
     "name": "stdout",
     "output_type": "stream",
     "text": [
      "Progress saved: cleaned_chunk_0, row 2488\r"
     ]
    },
    {
     "name": "stderr",
     "output_type": "stream",
     "text": [
      "Processing cleaned_chunk_0:  25%|███████▏                     | 2489/10000 [08:28<42:20,  2.96row/s]"
     ]
    },
    {
     "name": "stdout",
     "output_type": "stream",
     "text": [
      "Progress saved: cleaned_chunk_0, row 2490\r"
     ]
    },
    {
     "name": "stderr",
     "output_type": "stream",
     "text": [
      "Processing cleaned_chunk_0:  25%|███████▏                     | 2492/10000 [08:28<26:12,  4.77row/s]"
     ]
    },
    {
     "name": "stdout",
     "output_type": "stream",
     "text": [
      "Progress saved: cleaned_chunk_0, row 2492\r"
     ]
    },
    {
     "name": "stderr",
     "output_type": "stream",
     "text": [
      "Processing cleaned_chunk_0:  25%|███████▏                     | 2494/10000 [08:29<22:38,  5.52row/s]"
     ]
    },
    {
     "name": "stdout",
     "output_type": "stream",
     "text": [
      "Progress saved: cleaned_chunk_0, row 2494\r"
     ]
    },
    {
     "name": "stderr",
     "output_type": "stream",
     "text": [
      "Processing cleaned_chunk_0:  25%|███████▏                     | 2496/10000 [08:29<20:04,  6.23row/s]"
     ]
    },
    {
     "name": "stdout",
     "output_type": "stream",
     "text": [
      "Progress saved: cleaned_chunk_0, row 2496\r"
     ]
    },
    {
     "name": "stderr",
     "output_type": "stream",
     "text": [
      "Processing cleaned_chunk_0:  25%|███████▏                     | 2497/10000 [08:29<25:19,  4.94row/s]"
     ]
    },
    {
     "name": "stdout",
     "output_type": "stream",
     "text": [
      "Progress saved: cleaned_chunk_0, row 2497\r"
     ]
    },
    {
     "name": "stderr",
     "output_type": "stream",
     "text": [
      "Processing cleaned_chunk_0:  25%|███████▏                     | 2499/10000 [08:30<25:57,  4.82row/s]"
     ]
    },
    {
     "name": "stdout",
     "output_type": "stream",
     "text": [
      "Progress saved: cleaned_chunk_0, row 2499\r"
     ]
    },
    {
     "name": "stderr",
     "output_type": "stream",
     "text": [
      "Processing cleaned_chunk_0:  25%|███████▎                     | 2500/10000 [08:30<23:11,  5.39row/s]"
     ]
    },
    {
     "name": "stdout",
     "output_type": "stream",
     "text": [
      "Progress saved: cleaned_chunk_0, row 2500\r"
     ]
    },
    {
     "name": "stderr",
     "output_type": "stream",
     "text": [
      "Processing cleaned_chunk_0:  25%|███████▎                     | 2502/10000 [08:30<23:06,  5.41row/s]"
     ]
    },
    {
     "name": "stdout",
     "output_type": "stream",
     "text": [
      "Progress saved: cleaned_chunk_0, row 2502\r"
     ]
    },
    {
     "name": "stderr",
     "output_type": "stream",
     "text": [
      "Processing cleaned_chunk_0:  25%|███████▎                     | 2503/10000 [08:30<21:33,  5.80row/s]"
     ]
    },
    {
     "name": "stdout",
     "output_type": "stream",
     "text": [
      "Progress saved: cleaned_chunk_0, row 2504\r"
     ]
    },
    {
     "name": "stderr",
     "output_type": "stream",
     "text": [
      "Processing cleaned_chunk_0:  25%|███████▎                     | 2506/10000 [08:31<20:15,  6.16row/s]"
     ]
    },
    {
     "name": "stdout",
     "output_type": "stream",
     "text": [
      "Progress saved: cleaned_chunk_0, row 2506\r"
     ]
    },
    {
     "name": "stderr",
     "output_type": "stream",
     "text": [
      "Processing cleaned_chunk_0:  25%|███████▎                     | 2507/10000 [08:31<18:58,  6.58row/s]"
     ]
    },
    {
     "name": "stdout",
     "output_type": "stream",
     "text": [
      "Progress saved: cleaned_chunk_0, row 2507\r"
     ]
    },
    {
     "name": "stderr",
     "output_type": "stream",
     "text": [
      "Processing cleaned_chunk_0:  25%|███████▎                     | 2509/10000 [08:32<29:38,  4.21row/s]"
     ]
    },
    {
     "name": "stdout",
     "output_type": "stream",
     "text": [
      "Progress saved: cleaned_chunk_0, row 2509\r"
     ]
    },
    {
     "name": "stderr",
     "output_type": "stream",
     "text": [
      "Processing cleaned_chunk_0:  25%|███████▎                     | 2510/10000 [08:32<27:45,  4.50row/s]"
     ]
    },
    {
     "name": "stdout",
     "output_type": "stream",
     "text": [
      "Progress saved: cleaned_chunk_0, row 2511\r"
     ]
    },
    {
     "name": "stderr",
     "output_type": "stream",
     "text": [
      "Processing cleaned_chunk_0:  25%|███████▎                     | 2513/10000 [08:32<21:51,  5.71row/s]"
     ]
    },
    {
     "name": "stdout",
     "output_type": "stream",
     "text": [
      "Progress saved: cleaned_chunk_0, row 2513\r"
     ]
    },
    {
     "name": "stderr",
     "output_type": "stream",
     "text": [
      "Processing cleaned_chunk_0:  25%|███████▎                     | 2514/10000 [08:32<20:12,  6.17row/s]"
     ]
    },
    {
     "name": "stdout",
     "output_type": "stream",
     "text": [
      "Progress saved: cleaned_chunk_0, row 2514\r"
     ]
    },
    {
     "name": "stderr",
     "output_type": "stream",
     "text": [
      "Processing cleaned_chunk_0:  25%|███████▎                     | 2515/10000 [08:33<23:16,  5.36row/s]"
     ]
    },
    {
     "name": "stdout",
     "output_type": "stream",
     "text": [
      "Progress saved: cleaned_chunk_0, row 2515\r"
     ]
    },
    {
     "name": "stderr",
     "output_type": "stream",
     "text": [
      "Processing cleaned_chunk_0:  25%|███████▎                     | 2516/10000 [08:33<24:17,  5.14row/s]"
     ]
    },
    {
     "name": "stdout",
     "output_type": "stream",
     "text": [
      "Progress saved: cleaned_chunk_0, row 2516\r"
     ]
    },
    {
     "name": "stderr",
     "output_type": "stream",
     "text": [
      "Processing cleaned_chunk_0:  25%|███████▎                     | 2517/10000 [08:33<25:01,  4.98row/s]"
     ]
    },
    {
     "name": "stdout",
     "output_type": "stream",
     "text": [
      "Progress saved: cleaned_chunk_0, row 2517\r"
     ]
    },
    {
     "name": "stderr",
     "output_type": "stream",
     "text": [
      "Processing cleaned_chunk_0:  25%|███████▎                     | 2518/10000 [08:33<27:33,  4.53row/s]"
     ]
    },
    {
     "name": "stdout",
     "output_type": "stream",
     "text": [
      "Progress saved: cleaned_chunk_0, row 2518\r"
     ]
    },
    {
     "name": "stderr",
     "output_type": "stream",
     "text": [
      "Processing cleaned_chunk_0:  25%|███████▎                     | 2520/10000 [08:34<27:49,  4.48row/s]"
     ]
    },
    {
     "name": "stdout",
     "output_type": "stream",
     "text": [
      "Progress saved: cleaned_chunk_0, row 2520\r"
     ]
    },
    {
     "name": "stderr",
     "output_type": "stream",
     "text": [
      "Processing cleaned_chunk_0:  25%|███████▎                     | 2522/10000 [08:34<24:08,  5.16row/s]"
     ]
    },
    {
     "name": "stdout",
     "output_type": "stream",
     "text": [
      "Progress saved: cleaned_chunk_0, row 2522\r"
     ]
    },
    {
     "name": "stderr",
     "output_type": "stream",
     "text": [
      "Processing cleaned_chunk_0:  25%|███████▎                     | 2524/10000 [08:35<21:55,  5.69row/s]"
     ]
    },
    {
     "name": "stdout",
     "output_type": "stream",
     "text": [
      "Progress saved: cleaned_chunk_0, row 2524\r"
     ]
    },
    {
     "name": "stderr",
     "output_type": "stream",
     "text": [
      "Processing cleaned_chunk_0:  25%|███████▎                     | 2525/10000 [08:35<20:06,  6.20row/s]"
     ]
    },
    {
     "name": "stdout",
     "output_type": "stream",
     "text": [
      "Progress saved: cleaned_chunk_0, row 2525\r"
     ]
    },
    {
     "name": "stderr",
     "output_type": "stream",
     "text": [
      "Processing cleaned_chunk_0:  25%|███████▎                     | 2526/10000 [08:35<22:07,  5.63row/s]"
     ]
    },
    {
     "name": "stdout",
     "output_type": "stream",
     "text": [
      "Progress saved: cleaned_chunk_0, row 2526\r"
     ]
    },
    {
     "name": "stderr",
     "output_type": "stream",
     "text": [
      "Processing cleaned_chunk_0:  25%|███████▎                     | 2527/10000 [08:35<27:42,  4.49row/s]"
     ]
    },
    {
     "name": "stdout",
     "output_type": "stream",
     "text": [
      "Progress saved: cleaned_chunk_0, row 2527\r"
     ]
    },
    {
     "name": "stderr",
     "output_type": "stream",
     "text": [
      "Processing cleaned_chunk_0:  25%|███████▎                     | 2528/10000 [08:36<38:56,  3.20row/s]"
     ]
    },
    {
     "name": "stdout",
     "output_type": "stream",
     "text": [
      "Progress saved: cleaned_chunk_0, row 2528\r"
     ]
    },
    {
     "name": "stderr",
     "output_type": "stream",
     "text": [
      "Processing cleaned_chunk_0:  25%|███████▎                     | 2529/10000 [08:36<38:04,  3.27row/s]"
     ]
    },
    {
     "name": "stdout",
     "output_type": "stream",
     "text": [
      "Progress saved: cleaned_chunk_0, row 2529\r"
     ]
    },
    {
     "name": "stderr",
     "output_type": "stream",
     "text": [
      "Processing cleaned_chunk_0:  25%|███████▎                     | 2530/10000 [08:36<36:26,  3.42row/s]"
     ]
    },
    {
     "name": "stdout",
     "output_type": "stream",
     "text": [
      "Progress saved: cleaned_chunk_0, row 2530\r"
     ]
    },
    {
     "name": "stderr",
     "output_type": "stream",
     "text": [
      "Processing cleaned_chunk_0:  25%|███████▎                     | 2531/10000 [08:37<41:09,  3.02row/s]"
     ]
    },
    {
     "name": "stdout",
     "output_type": "stream",
     "text": [
      "Progress saved: cleaned_chunk_0, row 2532\r"
     ]
    },
    {
     "name": "stderr",
     "output_type": "stream",
     "text": [
      "Processing cleaned_chunk_0:  25%|███████▎                     | 2534/10000 [08:37<25:25,  4.89row/s]"
     ]
    },
    {
     "name": "stdout",
     "output_type": "stream",
     "text": [
      "Progress saved: cleaned_chunk_0, row 2534\r"
     ]
    },
    {
     "name": "stderr",
     "output_type": "stream",
     "text": [
      "Processing cleaned_chunk_0:  25%|███████▎                     | 2535/10000 [08:37<22:16,  5.59row/s]"
     ]
    },
    {
     "name": "stdout",
     "output_type": "stream",
     "text": [
      "Progress saved: cleaned_chunk_0, row 2535\r"
     ]
    },
    {
     "name": "stderr",
     "output_type": "stream",
     "text": [
      "Processing cleaned_chunk_0:  25%|███████▎                     | 2536/10000 [08:37<24:43,  5.03row/s]"
     ]
    },
    {
     "name": "stdout",
     "output_type": "stream",
     "text": [
      "Progress saved: cleaned_chunk_0, row 2536\r"
     ]
    },
    {
     "name": "stderr",
     "output_type": "stream",
     "text": [
      "Processing cleaned_chunk_0:  25%|███████▎                     | 2538/10000 [08:38<23:40,  5.25row/s]"
     ]
    },
    {
     "name": "stdout",
     "output_type": "stream",
     "text": [
      "Progress saved: cleaned_chunk_0, row 2538\r"
     ]
    },
    {
     "name": "stderr",
     "output_type": "stream",
     "text": [
      "Processing cleaned_chunk_0:  25%|███████▎                     | 2539/10000 [08:38<22:06,  5.62row/s]"
     ]
    },
    {
     "name": "stdout",
     "output_type": "stream",
     "text": [
      "Progress saved: cleaned_chunk_0, row 2539\r"
     ]
    },
    {
     "name": "stderr",
     "output_type": "stream",
     "text": [
      "Processing cleaned_chunk_0:  25%|███████▎                     | 2540/10000 [08:38<26:45,  4.65row/s]"
     ]
    },
    {
     "name": "stdout",
     "output_type": "stream",
     "text": [
      "Progress saved: cleaned_chunk_0, row 2540\r"
     ]
    },
    {
     "name": "stderr",
     "output_type": "stream",
     "text": [
      "Processing cleaned_chunk_0:  25%|███████▎                     | 2542/10000 [08:39<25:46,  4.82row/s]"
     ]
    },
    {
     "name": "stdout",
     "output_type": "stream",
     "text": [
      "Progress saved: cleaned_chunk_0, row 2542\r"
     ]
    },
    {
     "name": "stderr",
     "output_type": "stream",
     "text": [
      "Processing cleaned_chunk_0:  25%|███████▎                     | 2543/10000 [08:39<23:00,  5.40row/s]"
     ]
    },
    {
     "name": "stdout",
     "output_type": "stream",
     "text": [
      "Progress saved: cleaned_chunk_0, row 2544\r"
     ]
    },
    {
     "name": "stderr",
     "output_type": "stream",
     "text": [
      "Processing cleaned_chunk_0:  25%|███████▍                     | 2546/10000 [08:39<21:21,  5.82row/s]"
     ]
    },
    {
     "name": "stdout",
     "output_type": "stream",
     "text": [
      "Progress saved: cleaned_chunk_0, row 2546\r"
     ]
    },
    {
     "name": "stderr",
     "output_type": "stream",
     "text": [
      "Processing cleaned_chunk_0:  25%|███████▍                     | 2548/10000 [08:40<19:08,  6.49row/s]"
     ]
    },
    {
     "name": "stdout",
     "output_type": "stream",
     "text": [
      "Progress saved: cleaned_chunk_0, row 2548\r"
     ]
    },
    {
     "name": "stderr",
     "output_type": "stream",
     "text": [
      "Processing cleaned_chunk_0:  25%|███████▍                     | 2549/10000 [08:40<21:55,  5.66row/s]"
     ]
    },
    {
     "name": "stdout",
     "output_type": "stream",
     "text": [
      "Progress saved: cleaned_chunk_0, row 2550\r"
     ]
    },
    {
     "name": "stderr",
     "output_type": "stream",
     "text": [
      "Processing cleaned_chunk_0:  26%|███████▍                     | 2551/10000 [08:41<37:43,  3.29row/s]"
     ]
    },
    {
     "name": "stdout",
     "output_type": "stream",
     "text": [
      "Progress saved: cleaned_chunk_0, row 2551\r"
     ]
    },
    {
     "name": "stderr",
     "output_type": "stream",
     "text": [
      "Processing cleaned_chunk_0:  26%|███████▍                     | 2552/10000 [08:41<34:37,  3.59row/s]"
     ]
    },
    {
     "name": "stdout",
     "output_type": "stream",
     "text": [
      "Progress saved: cleaned_chunk_0, row 2552\r"
     ]
    },
    {
     "name": "stderr",
     "output_type": "stream",
     "text": [
      "Processing cleaned_chunk_0:  26%|███████▍                     | 2553/10000 [08:41<33:13,  3.74row/s]"
     ]
    },
    {
     "name": "stdout",
     "output_type": "stream",
     "text": [
      "Progress saved: cleaned_chunk_0, row 2553\r"
     ]
    },
    {
     "name": "stderr",
     "output_type": "stream",
     "text": [
      "Processing cleaned_chunk_0:  26%|███████▍                     | 2554/10000 [08:41<31:20,  3.96row/s]"
     ]
    },
    {
     "name": "stdout",
     "output_type": "stream",
     "text": [
      "Progress saved: cleaned_chunk_0, row 2554\r"
     ]
    },
    {
     "name": "stderr",
     "output_type": "stream",
     "text": [
      "Processing cleaned_chunk_0:  26%|███████▍                     | 2555/10000 [08:42<36:15,  3.42row/s]"
     ]
    },
    {
     "name": "stdout",
     "output_type": "stream",
     "text": [
      "Progress saved: cleaned_chunk_0, row 2555\r"
     ]
    },
    {
     "name": "stderr",
     "output_type": "stream",
     "text": [
      "Processing cleaned_chunk_0:  26%|███████▍                     | 2556/10000 [08:42<41:55,  2.96row/s]"
     ]
    },
    {
     "name": "stdout",
     "output_type": "stream",
     "text": [
      "Progress saved: cleaned_chunk_0, row 2556\r"
     ]
    },
    {
     "name": "stderr",
     "output_type": "stream",
     "text": [
      "Processing cleaned_chunk_0:  26%|███████▍                     | 2557/10000 [08:42<38:49,  3.20row/s]"
     ]
    },
    {
     "name": "stdout",
     "output_type": "stream",
     "text": [
      "Progress saved: cleaned_chunk_0, row 2557\r"
     ]
    },
    {
     "name": "stderr",
     "output_type": "stream",
     "text": [
      "Processing cleaned_chunk_0:  26%|███████▍                     | 2558/10000 [08:43<41:22,  3.00row/s]"
     ]
    },
    {
     "name": "stdout",
     "output_type": "stream",
     "text": [
      "Progress saved: cleaned_chunk_0, row 2558\r"
     ]
    },
    {
     "name": "stderr",
     "output_type": "stream",
     "text": [
      "Processing cleaned_chunk_0:  26%|███████▍                     | 2559/10000 [08:43<43:50,  2.83row/s]"
     ]
    },
    {
     "name": "stdout",
     "output_type": "stream",
     "text": [
      "Progress saved: cleaned_chunk_0, row 2559\r"
     ]
    },
    {
     "name": "stderr",
     "output_type": "stream",
     "text": [
      "Processing cleaned_chunk_0:  26%|███████▍                     | 2560/10000 [08:44<41:54,  2.96row/s]"
     ]
    },
    {
     "name": "stdout",
     "output_type": "stream",
     "text": [
      "Progress saved: cleaned_chunk_0, row 2561\r"
     ]
    },
    {
     "name": "stderr",
     "output_type": "stream",
     "text": [
      "Processing cleaned_chunk_0:  26%|███████▍                     | 2562/10000 [08:44<33:05,  3.75row/s]"
     ]
    },
    {
     "name": "stdout",
     "output_type": "stream",
     "text": [
      "Progress saved: cleaned_chunk_0, row 2562\r"
     ]
    },
    {
     "name": "stderr",
     "output_type": "stream",
     "text": [
      "Processing cleaned_chunk_0:  26%|███████▍                     | 2563/10000 [08:44<32:21,  3.83row/s]"
     ]
    },
    {
     "name": "stdout",
     "output_type": "stream",
     "text": [
      "Progress saved: cleaned_chunk_0, row 2563\r"
     ]
    },
    {
     "name": "stderr",
     "output_type": "stream",
     "text": [
      "Processing cleaned_chunk_0:  26%|███████▍                     | 2564/10000 [08:45<36:17,  3.42row/s]"
     ]
    },
    {
     "name": "stdout",
     "output_type": "stream",
     "text": [
      "Progress saved: cleaned_chunk_0, row 2564\r"
     ]
    },
    {
     "name": "stderr",
     "output_type": "stream",
     "text": [
      "Processing cleaned_chunk_0:  26%|███████▍                     | 2565/10000 [08:45<35:32,  3.49row/s]"
     ]
    },
    {
     "name": "stdout",
     "output_type": "stream",
     "text": [
      "Progress saved: cleaned_chunk_0, row 2565\r"
     ]
    },
    {
     "name": "stderr",
     "output_type": "stream",
     "text": [
      "Processing cleaned_chunk_0:  26%|███████▍                     | 2566/10000 [08:45<40:34,  3.05row/s]"
     ]
    },
    {
     "name": "stdout",
     "output_type": "stream",
     "text": [
      "Progress saved: cleaned_chunk_0, row 2566\r"
     ]
    },
    {
     "name": "stderr",
     "output_type": "stream",
     "text": [
      "Processing cleaned_chunk_0:  26%|███████▍                     | 2567/10000 [08:46<52:08,  2.38row/s]"
     ]
    },
    {
     "name": "stdout",
     "output_type": "stream",
     "text": [
      "Progress saved: cleaned_chunk_0, row 2567\r"
     ]
    },
    {
     "name": "stderr",
     "output_type": "stream",
     "text": [
      "Processing cleaned_chunk_0:  26%|███████▍                     | 2568/10000 [08:46<50:03,  2.47row/s]"
     ]
    },
    {
     "name": "stdout",
     "output_type": "stream",
     "text": [
      "Progress saved: cleaned_chunk_0, row 2568\r"
     ]
    },
    {
     "name": "stderr",
     "output_type": "stream",
     "text": [
      "Processing cleaned_chunk_0:  26%|███████▍                     | 2569/10000 [08:47<49:54,  2.48row/s]"
     ]
    },
    {
     "name": "stdout",
     "output_type": "stream",
     "text": [
      "Progress saved: cleaned_chunk_0, row 2569\r"
     ]
    },
    {
     "name": "stderr",
     "output_type": "stream",
     "text": [
      "Processing cleaned_chunk_0:  26%|██████▉                    | 2570/10000 [08:47<1:04:07,  1.93row/s]"
     ]
    },
    {
     "name": "stdout",
     "output_type": "stream",
     "text": [
      "Progress saved: cleaned_chunk_0, row 2570\r"
     ]
    },
    {
     "name": "stderr",
     "output_type": "stream",
     "text": [
      "Processing cleaned_chunk_0:  26%|███████▍                     | 2571/10000 [08:48<55:57,  2.21row/s]"
     ]
    },
    {
     "name": "stdout",
     "output_type": "stream",
     "text": [
      "Progress saved: cleaned_chunk_0, row 2571\r"
     ]
    },
    {
     "name": "stderr",
     "output_type": "stream",
     "text": [
      "Processing cleaned_chunk_0:  26%|██████▉                    | 2572/10000 [08:48<1:03:52,  1.94row/s]"
     ]
    },
    {
     "name": "stdout",
     "output_type": "stream",
     "text": [
      "Progress saved: cleaned_chunk_0, row 2572\r"
     ]
    },
    {
     "name": "stderr",
     "output_type": "stream",
     "text": [
      "Processing cleaned_chunk_0:  26%|███████▍                     | 2573/10000 [08:49<56:44,  2.18row/s]"
     ]
    },
    {
     "name": "stdout",
     "output_type": "stream",
     "text": [
      "Progress saved: cleaned_chunk_0, row 2574\r"
     ]
    },
    {
     "name": "stderr",
     "output_type": "stream",
     "text": [
      "Processing cleaned_chunk_0:  26%|███████▍                     | 2575/10000 [08:49<38:47,  3.19row/s]"
     ]
    },
    {
     "name": "stdout",
     "output_type": "stream",
     "text": [
      "Progress saved: cleaned_chunk_0, row 2576\r"
     ]
    },
    {
     "name": "stderr",
     "output_type": "stream",
     "text": [
      "Processing cleaned_chunk_0:  26%|███████▍                     | 2578/10000 [08:50<26:55,  4.59row/s]"
     ]
    },
    {
     "name": "stdout",
     "output_type": "stream",
     "text": [
      "Progress saved: cleaned_chunk_0, row 2578\r"
     ]
    },
    {
     "name": "stderr",
     "output_type": "stream",
     "text": [
      "Processing cleaned_chunk_0:  26%|███████▍                     | 2579/10000 [08:50<24:00,  5.15row/s]"
     ]
    },
    {
     "name": "stdout",
     "output_type": "stream",
     "text": [
      "Progress saved: cleaned_chunk_0, row 2579\r"
     ]
    },
    {
     "name": "stderr",
     "output_type": "stream",
     "text": [
      "Processing cleaned_chunk_0:  26%|███████▍                     | 2580/10000 [08:50<25:34,  4.84row/s]"
     ]
    },
    {
     "name": "stdout",
     "output_type": "stream",
     "text": [
      "Progress saved: cleaned_chunk_0, row 2580\r"
     ]
    },
    {
     "name": "stderr",
     "output_type": "stream",
     "text": [
      "Processing cleaned_chunk_0:  26%|███████▍                     | 2581/10000 [08:50<36:54,  3.35row/s]"
     ]
    },
    {
     "name": "stdout",
     "output_type": "stream",
     "text": [
      "Progress saved: cleaned_chunk_0, row 2581\r"
     ]
    },
    {
     "name": "stderr",
     "output_type": "stream",
     "text": [
      "Processing cleaned_chunk_0:  26%|███████▍                     | 2582/10000 [08:51<38:06,  3.24row/s]"
     ]
    },
    {
     "name": "stdout",
     "output_type": "stream",
     "text": [
      "Progress saved: cleaned_chunk_0, row 2582\r"
     ]
    },
    {
     "name": "stderr",
     "output_type": "stream",
     "text": [
      "Processing cleaned_chunk_0:  26%|███████▍                     | 2583/10000 [08:51<34:50,  3.55row/s]"
     ]
    },
    {
     "name": "stdout",
     "output_type": "stream",
     "text": [
      "Progress saved: cleaned_chunk_0, row 2584\r"
     ]
    },
    {
     "name": "stderr",
     "output_type": "stream",
     "text": [
      "Processing cleaned_chunk_0:  26%|███████▍                     | 2586/10000 [08:52<25:43,  4.80row/s]"
     ]
    },
    {
     "name": "stdout",
     "output_type": "stream",
     "text": [
      "Progress saved: cleaned_chunk_0, row 2586\r"
     ]
    },
    {
     "name": "stderr",
     "output_type": "stream",
     "text": [
      "Processing cleaned_chunk_0:  26%|███████▌                     | 2587/10000 [08:52<23:02,  5.36row/s]"
     ]
    },
    {
     "name": "stdout",
     "output_type": "stream",
     "text": [
      "Progress saved: cleaned_chunk_0, row 2588\r"
     ]
    },
    {
     "name": "stderr",
     "output_type": "stream",
     "text": [
      "Processing cleaned_chunk_0:  26%|███████▌                     | 2589/10000 [08:52<23:15,  5.31row/s]"
     ]
    },
    {
     "name": "stdout",
     "output_type": "stream",
     "text": [
      "Progress saved: cleaned_chunk_0, row 2590\r"
     ]
    },
    {
     "name": "stderr",
     "output_type": "stream",
     "text": [
      "Processing cleaned_chunk_0:  26%|███████▌                     | 2592/10000 [08:53<20:25,  6.04row/s]"
     ]
    },
    {
     "name": "stdout",
     "output_type": "stream",
     "text": [
      "Progress saved: cleaned_chunk_0, row 2592\r"
     ]
    },
    {
     "name": "stderr",
     "output_type": "stream",
     "text": [
      "Processing cleaned_chunk_0:  26%|███████▌                     | 2593/10000 [08:53<19:08,  6.45row/s]"
     ]
    },
    {
     "name": "stdout",
     "output_type": "stream",
     "text": [
      "Progress saved: cleaned_chunk_0, row 2593\r"
     ]
    },
    {
     "name": "stderr",
     "output_type": "stream",
     "text": [
      "Processing cleaned_chunk_0:  26%|███████▌                     | 2594/10000 [08:53<35:24,  3.49row/s]"
     ]
    },
    {
     "name": "stdout",
     "output_type": "stream",
     "text": [
      "Progress saved: cleaned_chunk_0, row 2594\r"
     ]
    },
    {
     "name": "stderr",
     "output_type": "stream",
     "text": [
      "Processing cleaned_chunk_0:  26%|███████▌                     | 2595/10000 [08:54<39:30,  3.12row/s]"
     ]
    },
    {
     "name": "stdout",
     "output_type": "stream",
     "text": [
      "Progress saved: cleaned_chunk_0, row 2595\r"
     ]
    },
    {
     "name": "stderr",
     "output_type": "stream",
     "text": [
      "Processing cleaned_chunk_0:  26%|███████▌                     | 2596/10000 [08:54<39:36,  3.12row/s]"
     ]
    },
    {
     "name": "stdout",
     "output_type": "stream",
     "text": [
      "Progress saved: cleaned_chunk_0, row 2596\r"
     ]
    },
    {
     "name": "stderr",
     "output_type": "stream",
     "text": [
      "Processing cleaned_chunk_0:  26%|███████▌                     | 2597/10000 [08:54<45:36,  2.71row/s]"
     ]
    },
    {
     "name": "stdout",
     "output_type": "stream",
     "text": [
      "Progress saved: cleaned_chunk_0, row 2597\r"
     ]
    },
    {
     "name": "stderr",
     "output_type": "stream",
     "text": [
      "Processing cleaned_chunk_0:  26%|███████▌                     | 2598/10000 [08:55<44:36,  2.77row/s]"
     ]
    },
    {
     "name": "stdout",
     "output_type": "stream",
     "text": [
      "Progress saved: cleaned_chunk_0, row 2598\r"
     ]
    },
    {
     "name": "stderr",
     "output_type": "stream",
     "text": [
      "Processing cleaned_chunk_0:  26%|███████▌                     | 2599/10000 [08:55<53:47,  2.29row/s]"
     ]
    },
    {
     "name": "stdout",
     "output_type": "stream",
     "text": [
      "Progress saved: cleaned_chunk_0, row 2599\r"
     ]
    },
    {
     "name": "stderr",
     "output_type": "stream",
     "text": [
      "Processing cleaned_chunk_0:  26%|███████▌                     | 2600/10000 [08:56<50:24,  2.45row/s]"
     ]
    },
    {
     "name": "stdout",
     "output_type": "stream",
     "text": [
      "Progress saved: cleaned_chunk_0, row 2600\r"
     ]
    },
    {
     "name": "stderr",
     "output_type": "stream",
     "text": [
      "Processing cleaned_chunk_0:  26%|███████▌                     | 2601/10000 [08:56<43:27,  2.84row/s]"
     ]
    },
    {
     "name": "stdout",
     "output_type": "stream",
     "text": [
      "Progress saved: cleaned_chunk_0, row 2601\r"
     ]
    },
    {
     "name": "stderr",
     "output_type": "stream",
     "text": [
      "Processing cleaned_chunk_0:  26%|███████▌                     | 2602/10000 [08:56<39:53,  3.09row/s]"
     ]
    },
    {
     "name": "stdout",
     "output_type": "stream",
     "text": [
      "Progress saved: cleaned_chunk_0, row 2602\r"
     ]
    },
    {
     "name": "stderr",
     "output_type": "stream",
     "text": [
      "Processing cleaned_chunk_0:  26%|███████▌                     | 2603/10000 [08:57<48:04,  2.56row/s]"
     ]
    },
    {
     "name": "stdout",
     "output_type": "stream",
     "text": [
      "Progress saved: cleaned_chunk_0, row 2603\r"
     ]
    },
    {
     "name": "stderr",
     "output_type": "stream",
     "text": [
      "Processing cleaned_chunk_0:  26%|███████                    | 2604/10000 [08:58<1:07:01,  1.84row/s]"
     ]
    },
    {
     "name": "stdout",
     "output_type": "stream",
     "text": [
      "Progress saved: cleaned_chunk_0, row 2604\r"
     ]
    },
    {
     "name": "stderr",
     "output_type": "stream",
     "text": [
      "Processing cleaned_chunk_0:  26%|███████                    | 2605/10000 [08:59<1:16:54,  1.60row/s]"
     ]
    },
    {
     "name": "stdout",
     "output_type": "stream",
     "text": [
      "Progress saved: cleaned_chunk_0, row 2605\r"
     ]
    },
    {
     "name": "stderr",
     "output_type": "stream",
     "text": [
      "Processing cleaned_chunk_0:  26%|███████                    | 2606/10000 [08:59<1:08:30,  1.80row/s]"
     ]
    },
    {
     "name": "stdout",
     "output_type": "stream",
     "text": [
      "Progress saved: cleaned_chunk_0, row 2606\r"
     ]
    },
    {
     "name": "stderr",
     "output_type": "stream",
     "text": [
      "Processing cleaned_chunk_0:  26%|███████                    | 2607/10000 [08:59<1:09:31,  1.77row/s]"
     ]
    },
    {
     "name": "stdout",
     "output_type": "stream",
     "text": [
      "Progress saved: cleaned_chunk_0, row 2607\r"
     ]
    },
    {
     "name": "stderr",
     "output_type": "stream",
     "text": [
      "Processing cleaned_chunk_0:  26%|███████                    | 2608/10000 [09:00<1:00:38,  2.03row/s]"
     ]
    },
    {
     "name": "stdout",
     "output_type": "stream",
     "text": [
      "Progress saved: cleaned_chunk_0, row 2608\r"
     ]
    },
    {
     "name": "stderr",
     "output_type": "stream",
     "text": [
      "Processing cleaned_chunk_0:  26%|███████                    | 2609/10000 [09:00<1:01:25,  2.01row/s]"
     ]
    },
    {
     "name": "stdout",
     "output_type": "stream",
     "text": [
      "Progress saved: cleaned_chunk_0, row 2610\r"
     ]
    },
    {
     "name": "stderr",
     "output_type": "stream",
     "text": [
      "Processing cleaned_chunk_0:  26%|███████▌                     | 2612/10000 [09:01<36:01,  3.42row/s]"
     ]
    },
    {
     "name": "stdout",
     "output_type": "stream",
     "text": [
      "Progress saved: cleaned_chunk_0, row 2612\r"
     ]
    },
    {
     "name": "stderr",
     "output_type": "stream",
     "text": [
      "Processing cleaned_chunk_0:  26%|███████▌                     | 2613/10000 [09:01<33:27,  3.68row/s]"
     ]
    },
    {
     "name": "stdout",
     "output_type": "stream",
     "text": [
      "Progress saved: cleaned_chunk_0, row 2613\r"
     ]
    },
    {
     "name": "stderr",
     "output_type": "stream",
     "text": [
      "Processing cleaned_chunk_0:  26%|███████▌                     | 2614/10000 [09:02<45:28,  2.71row/s]"
     ]
    },
    {
     "name": "stdout",
     "output_type": "stream",
     "text": [
      "Progress saved: cleaned_chunk_0, row 2614\r"
     ]
    },
    {
     "name": "stderr",
     "output_type": "stream",
     "text": [
      "Processing cleaned_chunk_0:  26%|███████▌                     | 2615/10000 [09:02<53:34,  2.30row/s]"
     ]
    },
    {
     "name": "stdout",
     "output_type": "stream",
     "text": [
      "Progress saved: cleaned_chunk_0, row 2615\r"
     ]
    },
    {
     "name": "stderr",
     "output_type": "stream",
     "text": [
      "Processing cleaned_chunk_0:  26%|███████▌                     | 2616/10000 [09:03<47:19,  2.60row/s]"
     ]
    },
    {
     "name": "stdout",
     "output_type": "stream",
     "text": [
      "Progress saved: cleaned_chunk_0, row 2616\r"
     ]
    },
    {
     "name": "stderr",
     "output_type": "stream",
     "text": [
      "Processing cleaned_chunk_0:  26%|███████▌                     | 2617/10000 [09:03<47:58,  2.57row/s]"
     ]
    },
    {
     "name": "stdout",
     "output_type": "stream",
     "text": [
      "Progress saved: cleaned_chunk_0, row 2617\r"
     ]
    },
    {
     "name": "stderr",
     "output_type": "stream",
     "text": [
      "Processing cleaned_chunk_0:  26%|███████▌                     | 2618/10000 [09:03<41:41,  2.95row/s]"
     ]
    },
    {
     "name": "stdout",
     "output_type": "stream",
     "text": [
      "Progress saved: cleaned_chunk_0, row 2619\r"
     ]
    },
    {
     "name": "stderr",
     "output_type": "stream",
     "text": [
      "Processing cleaned_chunk_0:  26%|███████▌                     | 2621/10000 [09:04<31:57,  3.85row/s]"
     ]
    },
    {
     "name": "stdout",
     "output_type": "stream",
     "text": [
      "Progress saved: cleaned_chunk_0, row 2621\r"
     ]
    },
    {
     "name": "stderr",
     "output_type": "stream",
     "text": [
      "Processing cleaned_chunk_0:  26%|███████▌                     | 2622/10000 [09:04<32:32,  3.78row/s]"
     ]
    },
    {
     "name": "stdout",
     "output_type": "stream",
     "text": [
      "Progress saved: cleaned_chunk_0, row 2622\r"
     ]
    },
    {
     "name": "stderr",
     "output_type": "stream",
     "text": [
      "Processing cleaned_chunk_0:  26%|███████▌                     | 2623/10000 [09:05<44:38,  2.75row/s]"
     ]
    },
    {
     "name": "stdout",
     "output_type": "stream",
     "text": [
      "Progress saved: cleaned_chunk_0, row 2623\r"
     ]
    },
    {
     "name": "stderr",
     "output_type": "stream",
     "text": [
      "Processing cleaned_chunk_0:  26%|███████▌                     | 2624/10000 [09:05<39:32,  3.11row/s]"
     ]
    },
    {
     "name": "stdout",
     "output_type": "stream",
     "text": [
      "Progress saved: cleaned_chunk_0, row 2624\r"
     ]
    },
    {
     "name": "stderr",
     "output_type": "stream",
     "text": [
      "Processing cleaned_chunk_0:  26%|███████▌                     | 2625/10000 [09:05<43:27,  2.83row/s]"
     ]
    },
    {
     "name": "stdout",
     "output_type": "stream",
     "text": [
      "Progress saved: cleaned_chunk_0, row 2625\r"
     ]
    },
    {
     "name": "stderr",
     "output_type": "stream",
     "text": [
      "Processing cleaned_chunk_0:  26%|███████▌                     | 2627/10000 [09:06<36:33,  3.36row/s]"
     ]
    },
    {
     "name": "stdout",
     "output_type": "stream",
     "text": [
      "Progress saved: cleaned_chunk_0, row 2627\r"
     ]
    },
    {
     "name": "stderr",
     "output_type": "stream",
     "text": [
      "Processing cleaned_chunk_0:  26%|███████▌                     | 2628/10000 [09:06<31:20,  3.92row/s]"
     ]
    },
    {
     "name": "stdout",
     "output_type": "stream",
     "text": [
      "Progress saved: cleaned_chunk_0, row 2628\r"
     ]
    },
    {
     "name": "stderr",
     "output_type": "stream",
     "text": [
      "Processing cleaned_chunk_0:  26%|███████▌                     | 2629/10000 [09:06<29:47,  4.12row/s]"
     ]
    },
    {
     "name": "stdout",
     "output_type": "stream",
     "text": [
      "Progress saved: cleaned_chunk_0, row 2630\r"
     ]
    },
    {
     "name": "stderr",
     "output_type": "stream",
     "text": [
      "Processing cleaned_chunk_0:  26%|███████▋                     | 2632/10000 [09:07<26:45,  4.59row/s]"
     ]
    },
    {
     "name": "stdout",
     "output_type": "stream",
     "text": [
      "Progress saved: cleaned_chunk_0, row 2632\r"
     ]
    },
    {
     "name": "stderr",
     "output_type": "stream",
     "text": [
      "Processing cleaned_chunk_0:  26%|███████▋                     | 2633/10000 [09:07<23:40,  5.19row/s]"
     ]
    },
    {
     "name": "stdout",
     "output_type": "stream",
     "text": [
      "Progress saved: cleaned_chunk_0, row 2633\r"
     ]
    },
    {
     "name": "stderr",
     "output_type": "stream",
     "text": [
      "Processing cleaned_chunk_0:  26%|███████▋                     | 2634/10000 [09:07<29:49,  4.12row/s]"
     ]
    },
    {
     "name": "stdout",
     "output_type": "stream",
     "text": [
      "Progress saved: cleaned_chunk_0, row 2634\r"
     ]
    },
    {
     "name": "stderr",
     "output_type": "stream",
     "text": [
      "Processing cleaned_chunk_0:  26%|███████▋                     | 2635/10000 [09:08<48:08,  2.55row/s]"
     ]
    },
    {
     "name": "stdout",
     "output_type": "stream",
     "text": [
      "Progress saved: cleaned_chunk_0, row 2635\r"
     ]
    },
    {
     "name": "stderr",
     "output_type": "stream",
     "text": [
      "Processing cleaned_chunk_0:  26%|███████▋                     | 2636/10000 [09:08<46:49,  2.62row/s]"
     ]
    },
    {
     "name": "stdout",
     "output_type": "stream",
     "text": [
      "Progress saved: cleaned_chunk_0, row 2636\r"
     ]
    },
    {
     "name": "stderr",
     "output_type": "stream",
     "text": [
      "Processing cleaned_chunk_0:  26%|███████▋                     | 2637/10000 [09:09<46:07,  2.66row/s]"
     ]
    },
    {
     "name": "stdout",
     "output_type": "stream",
     "text": [
      "Progress saved: cleaned_chunk_0, row 2637\r"
     ]
    },
    {
     "name": "stderr",
     "output_type": "stream",
     "text": [
      "Processing cleaned_chunk_0:  26%|███████▋                     | 2638/10000 [09:09<40:49,  3.01row/s]"
     ]
    },
    {
     "name": "stdout",
     "output_type": "stream",
     "text": [
      "Progress saved: cleaned_chunk_0, row 2638\r"
     ]
    },
    {
     "name": "stderr",
     "output_type": "stream",
     "text": [
      "Processing cleaned_chunk_0:  26%|███████▋                     | 2639/10000 [09:10<59:57,  2.05row/s]"
     ]
    },
    {
     "name": "stdout",
     "output_type": "stream",
     "text": [
      "Progress saved: cleaned_chunk_0, row 2639\r"
     ]
    },
    {
     "name": "stderr",
     "output_type": "stream",
     "text": [
      "Processing cleaned_chunk_0:  26%|███████▏                   | 2640/10000 [09:11<1:08:56,  1.78row/s]"
     ]
    },
    {
     "name": "stdout",
     "output_type": "stream",
     "text": [
      "Progress saved: cleaned_chunk_0, row 2640\r"
     ]
    },
    {
     "name": "stderr",
     "output_type": "stream",
     "text": [
      "Processing cleaned_chunk_0:  26%|███████▏                   | 2641/10000 [09:11<1:08:51,  1.78row/s]"
     ]
    },
    {
     "name": "stdout",
     "output_type": "stream",
     "text": [
      "Progress saved: cleaned_chunk_0, row 2641\r"
     ]
    },
    {
     "name": "stderr",
     "output_type": "stream",
     "text": [
      "Processing cleaned_chunk_0:  26%|███████▋                     | 2643/10000 [09:12<47:15,  2.59row/s]"
     ]
    },
    {
     "name": "stdout",
     "output_type": "stream",
     "text": [
      "Progress saved: cleaned_chunk_0, row 2643\r"
     ]
    },
    {
     "name": "stderr",
     "output_type": "stream",
     "text": [
      "Processing cleaned_chunk_0:  26%|███████▋                     | 2644/10000 [09:12<45:16,  2.71row/s]"
     ]
    },
    {
     "name": "stdout",
     "output_type": "stream",
     "text": [
      "Progress saved: cleaned_chunk_0, row 2644\r"
     ]
    },
    {
     "name": "stderr",
     "output_type": "stream",
     "text": [
      "Processing cleaned_chunk_0:  26%|███████▋                     | 2646/10000 [09:12<34:57,  3.51row/s]"
     ]
    },
    {
     "name": "stdout",
     "output_type": "stream",
     "text": [
      "Progress saved: cleaned_chunk_0, row 2646\r"
     ]
    },
    {
     "name": "stderr",
     "output_type": "stream",
     "text": [
      "Processing cleaned_chunk_0:  26%|███████▋                     | 2647/10000 [09:13<34:40,  3.53row/s]"
     ]
    },
    {
     "name": "stdout",
     "output_type": "stream",
     "text": [
      "Progress saved: cleaned_chunk_0, row 2648\r"
     ]
    },
    {
     "name": "stderr",
     "output_type": "stream",
     "text": [
      "Processing cleaned_chunk_0:  26%|███████▋                     | 2649/10000 [09:13<36:07,  3.39row/s]"
     ]
    },
    {
     "name": "stdout",
     "output_type": "stream",
     "text": [
      "Progress saved: cleaned_chunk_0, row 2650\r"
     ]
    },
    {
     "name": "stderr",
     "output_type": "stream",
     "text": [
      "Processing cleaned_chunk_0:  27%|███████▋                     | 2651/10000 [09:14<29:48,  4.11row/s]"
     ]
    },
    {
     "name": "stdout",
     "output_type": "stream",
     "text": [
      "Progress saved: cleaned_chunk_0, row 2651\r"
     ]
    },
    {
     "name": "stderr",
     "output_type": "stream",
     "text": [
      "Processing cleaned_chunk_0:  27%|███████▋                     | 2652/10000 [09:14<29:13,  4.19row/s]"
     ]
    },
    {
     "name": "stdout",
     "output_type": "stream",
     "text": [
      "Progress saved: cleaned_chunk_0, row 2653\r"
     ]
    },
    {
     "name": "stderr",
     "output_type": "stream",
     "text": [
      "Processing cleaned_chunk_0:  27%|███████▋                     | 2655/10000 [09:14<24:43,  4.95row/s]"
     ]
    },
    {
     "name": "stdout",
     "output_type": "stream",
     "text": [
      "Progress saved: cleaned_chunk_0, row 2655\r"
     ]
    },
    {
     "name": "stderr",
     "output_type": "stream",
     "text": [
      "Processing cleaned_chunk_0:  27%|███████▋                     | 2656/10000 [09:15<23:16,  5.26row/s]"
     ]
    },
    {
     "name": "stdout",
     "output_type": "stream",
     "text": [
      "Progress saved: cleaned_chunk_0, row 2657\r"
     ]
    },
    {
     "name": "stderr",
     "output_type": "stream",
     "text": [
      "Processing cleaned_chunk_0:  27%|███████▋                     | 2659/10000 [09:15<21:04,  5.80row/s]"
     ]
    },
    {
     "name": "stdout",
     "output_type": "stream",
     "text": [
      "Progress saved: cleaned_chunk_0, row 2659\r"
     ]
    },
    {
     "name": "stderr",
     "output_type": "stream",
     "text": [
      "Processing cleaned_chunk_0:  27%|███████▋                     | 2660/10000 [09:16<31:01,  3.94row/s]"
     ]
    },
    {
     "name": "stdout",
     "output_type": "stream",
     "text": [
      "Progress saved: cleaned_chunk_0, row 2660\r"
     ]
    },
    {
     "name": "stderr",
     "output_type": "stream",
     "text": [
      "Processing cleaned_chunk_0:  27%|███████▋                     | 2661/10000 [09:16<39:49,  3.07row/s]"
     ]
    },
    {
     "name": "stdout",
     "output_type": "stream",
     "text": [
      "Progress saved: cleaned_chunk_0, row 2661\r"
     ]
    },
    {
     "name": "stderr",
     "output_type": "stream",
     "text": [
      "Processing cleaned_chunk_0:  27%|███████▋                     | 2662/10000 [09:16<40:06,  3.05row/s]"
     ]
    },
    {
     "name": "stdout",
     "output_type": "stream",
     "text": [
      "Progress saved: cleaned_chunk_0, row 2662\r"
     ]
    },
    {
     "name": "stderr",
     "output_type": "stream",
     "text": [
      "Processing cleaned_chunk_0:  27%|███████▋                     | 2663/10000 [09:17<37:20,  3.27row/s]"
     ]
    },
    {
     "name": "stdout",
     "output_type": "stream",
     "text": [
      "Progress saved: cleaned_chunk_0, row 2663\r"
     ]
    },
    {
     "name": "stderr",
     "output_type": "stream",
     "text": [
      "Processing cleaned_chunk_0:  27%|███████▋                     | 2664/10000 [09:17<38:43,  3.16row/s]"
     ]
    },
    {
     "name": "stdout",
     "output_type": "stream",
     "text": [
      "Progress saved: cleaned_chunk_0, row 2664\r"
     ]
    },
    {
     "name": "stderr",
     "output_type": "stream",
     "text": [
      "Processing cleaned_chunk_0:  27%|███████▋                     | 2665/10000 [09:17<38:10,  3.20row/s]"
     ]
    },
    {
     "name": "stdout",
     "output_type": "stream",
     "text": [
      "Progress saved: cleaned_chunk_0, row 2666\r"
     ]
    },
    {
     "name": "stderr",
     "output_type": "stream",
     "text": [
      "Processing cleaned_chunk_0:  27%|███████▋                     | 2668/10000 [09:18<26:40,  4.58row/s]"
     ]
    },
    {
     "name": "stdout",
     "output_type": "stream",
     "text": [
      "Progress saved: cleaned_chunk_0, row 2668\r"
     ]
    },
    {
     "name": "stderr",
     "output_type": "stream",
     "text": [
      "Processing cleaned_chunk_0:  27%|███████▋                     | 2669/10000 [09:18<27:34,  4.43row/s]"
     ]
    },
    {
     "name": "stdout",
     "output_type": "stream",
     "text": [
      "Progress saved: cleaned_chunk_0, row 2669\r"
     ]
    },
    {
     "name": "stderr",
     "output_type": "stream",
     "text": [
      "Processing cleaned_chunk_0:  27%|███████▋                     | 2670/10000 [09:18<28:55,  4.22row/s]"
     ]
    },
    {
     "name": "stdout",
     "output_type": "stream",
     "text": [
      "Progress saved: cleaned_chunk_0, row 2670\r"
     ]
    },
    {
     "name": "stderr",
     "output_type": "stream",
     "text": [
      "Processing cleaned_chunk_0:  27%|███████▋                     | 2671/10000 [09:19<40:36,  3.01row/s]"
     ]
    },
    {
     "name": "stdout",
     "output_type": "stream",
     "text": [
      "Progress saved: cleaned_chunk_0, row 2671\r"
     ]
    },
    {
     "name": "stderr",
     "output_type": "stream",
     "text": [
      "Processing cleaned_chunk_0:  27%|███████▋                     | 2672/10000 [09:19<41:02,  2.98row/s]"
     ]
    },
    {
     "name": "stdout",
     "output_type": "stream",
     "text": [
      "Progress saved: cleaned_chunk_0, row 2673\r"
     ]
    },
    {
     "name": "stderr",
     "output_type": "stream",
     "text": [
      "Processing cleaned_chunk_0:  27%|███████▊                     | 2675/10000 [09:20<27:53,  4.38row/s]"
     ]
    },
    {
     "name": "stdout",
     "output_type": "stream",
     "text": [
      "Progress saved: cleaned_chunk_0, row 2675\r"
     ]
    },
    {
     "name": "stderr",
     "output_type": "stream",
     "text": [
      "Processing cleaned_chunk_0:  27%|███████▊                     | 2677/10000 [09:20<23:50,  5.12row/s]"
     ]
    },
    {
     "name": "stdout",
     "output_type": "stream",
     "text": [
      "Progress saved: cleaned_chunk_0, row 2677\r"
     ]
    },
    {
     "name": "stderr",
     "output_type": "stream",
     "text": [
      "Processing cleaned_chunk_0:  27%|███████▊                     | 2679/10000 [09:20<22:05,  5.52row/s]"
     ]
    },
    {
     "name": "stdout",
     "output_type": "stream",
     "text": [
      "Progress saved: cleaned_chunk_0, row 2679\r"
     ]
    },
    {
     "name": "stderr",
     "output_type": "stream",
     "text": [
      "Processing cleaned_chunk_0:  27%|███████▊                     | 2680/10000 [09:21<33:22,  3.66row/s]"
     ]
    },
    {
     "name": "stdout",
     "output_type": "stream",
     "text": [
      "Progress saved: cleaned_chunk_0, row 2681\r"
     ]
    },
    {
     "name": "stderr",
     "output_type": "stream",
     "text": [
      "Processing cleaned_chunk_0:  27%|███████▊                     | 2683/10000 [09:21<22:55,  5.32row/s]"
     ]
    },
    {
     "name": "stdout",
     "output_type": "stream",
     "text": [
      "Progress saved: cleaned_chunk_0, row 2683\r"
     ]
    },
    {
     "name": "stderr",
     "output_type": "stream",
     "text": [
      "Processing cleaned_chunk_0:  27%|███████▊                     | 2684/10000 [09:21<20:34,  5.93row/s]"
     ]
    },
    {
     "name": "stdout",
     "output_type": "stream",
     "text": [
      "Progress saved: cleaned_chunk_0, row 2684\r"
     ]
    },
    {
     "name": "stderr",
     "output_type": "stream",
     "text": [
      "Processing cleaned_chunk_0:  27%|███████▊                     | 2685/10000 [09:22<23:52,  5.11row/s]"
     ]
    },
    {
     "name": "stdout",
     "output_type": "stream",
     "text": [
      "Progress saved: cleaned_chunk_0, row 2685\r"
     ]
    },
    {
     "name": "stderr",
     "output_type": "stream",
     "text": [
      "Processing cleaned_chunk_0:  27%|███████▊                     | 2686/10000 [09:22<37:09,  3.28row/s]"
     ]
    },
    {
     "name": "stdout",
     "output_type": "stream",
     "text": [
      "Progress saved: cleaned_chunk_0, row 2686\r"
     ]
    },
    {
     "name": "stderr",
     "output_type": "stream",
     "text": [
      "Processing cleaned_chunk_0:  27%|███████▊                     | 2688/10000 [09:23<29:44,  4.10row/s]"
     ]
    },
    {
     "name": "stdout",
     "output_type": "stream",
     "text": [
      "Progress saved: cleaned_chunk_0, row 2688\r"
     ]
    },
    {
     "name": "stderr",
     "output_type": "stream",
     "text": [
      "Processing cleaned_chunk_0:  27%|███████▊                     | 2689/10000 [09:23<33:14,  3.67row/s]"
     ]
    },
    {
     "name": "stdout",
     "output_type": "stream",
     "text": [
      "Progress saved: cleaned_chunk_0, row 2689\r"
     ]
    },
    {
     "name": "stderr",
     "output_type": "stream",
     "text": [
      "Processing cleaned_chunk_0:  27%|███████▊                     | 2691/10000 [09:23<26:51,  4.54row/s]"
     ]
    },
    {
     "name": "stdout",
     "output_type": "stream",
     "text": [
      "Progress saved: cleaned_chunk_0, row 2691\r"
     ]
    },
    {
     "name": "stderr",
     "output_type": "stream",
     "text": [
      "Processing cleaned_chunk_0:  27%|███████▊                     | 2692/10000 [09:24<23:50,  5.11row/s]"
     ]
    },
    {
     "name": "stdout",
     "output_type": "stream",
     "text": [
      "Progress saved: cleaned_chunk_0, row 2693\r"
     ]
    },
    {
     "name": "stderr",
     "output_type": "stream",
     "text": [
      "Processing cleaned_chunk_0:  27%|███████▊                     | 2695/10000 [09:24<19:46,  6.16row/s]"
     ]
    },
    {
     "name": "stdout",
     "output_type": "stream",
     "text": [
      "Progress saved: cleaned_chunk_0, row 2695\r"
     ]
    },
    {
     "name": "stderr",
     "output_type": "stream",
     "text": [
      "Processing cleaned_chunk_0:  27%|███████▊                     | 2697/10000 [09:24<17:55,  6.79row/s]"
     ]
    },
    {
     "name": "stdout",
     "output_type": "stream",
     "text": [
      "Progress saved: cleaned_chunk_0, row 2697\r"
     ]
    },
    {
     "name": "stderr",
     "output_type": "stream",
     "text": [
      "Processing cleaned_chunk_0:  27%|███████▊                     | 2698/10000 [09:24<19:28,  6.25row/s]"
     ]
    },
    {
     "name": "stdout",
     "output_type": "stream",
     "text": [
      "Progress saved: cleaned_chunk_0, row 2698\r"
     ]
    },
    {
     "name": "stderr",
     "output_type": "stream",
     "text": [
      "Processing cleaned_chunk_0:  27%|███████▊                     | 2699/10000 [09:25<23:14,  5.24row/s]"
     ]
    },
    {
     "name": "stdout",
     "output_type": "stream",
     "text": [
      "Progress saved: cleaned_chunk_0, row 2699\r"
     ]
    },
    {
     "name": "stderr",
     "output_type": "stream",
     "text": [
      "Processing cleaned_chunk_0:  27%|███████▊                     | 2700/10000 [09:25<35:49,  3.40row/s]"
     ]
    },
    {
     "name": "stdout",
     "output_type": "stream",
     "text": [
      "Progress saved: cleaned_chunk_0, row 2700\r"
     ]
    },
    {
     "name": "stderr",
     "output_type": "stream",
     "text": [
      "Processing cleaned_chunk_0:  27%|███████▊                     | 2701/10000 [09:25<33:18,  3.65row/s]"
     ]
    },
    {
     "name": "stdout",
     "output_type": "stream",
     "text": [
      "Progress saved: cleaned_chunk_0, row 2702\r"
     ]
    },
    {
     "name": "stderr",
     "output_type": "stream",
     "text": [
      "Processing cleaned_chunk_0:  27%|███████▊                     | 2703/10000 [09:26<31:12,  3.90row/s]"
     ]
    },
    {
     "name": "stdout",
     "output_type": "stream",
     "text": [
      "Progress saved: cleaned_chunk_0, row 2703\r"
     ]
    },
    {
     "name": "stderr",
     "output_type": "stream",
     "text": [
      "Processing cleaned_chunk_0:  27%|███████▊                     | 2704/10000 [09:26<30:01,  4.05row/s]"
     ]
    },
    {
     "name": "stdout",
     "output_type": "stream",
     "text": [
      "Progress saved: cleaned_chunk_0, row 2704\r"
     ]
    },
    {
     "name": "stderr",
     "output_type": "stream",
     "text": [
      "Processing cleaned_chunk_0:  27%|███████▊                     | 2705/10000 [09:26<30:33,  3.98row/s]"
     ]
    },
    {
     "name": "stdout",
     "output_type": "stream",
     "text": [
      "Progress saved: cleaned_chunk_0, row 2705\r"
     ]
    },
    {
     "name": "stderr",
     "output_type": "stream",
     "text": [
      "Processing cleaned_chunk_0:  27%|███████▊                     | 2706/10000 [09:27<30:03,  4.04row/s]"
     ]
    },
    {
     "name": "stdout",
     "output_type": "stream",
     "text": [
      "Progress saved: cleaned_chunk_0, row 2707\r"
     ]
    },
    {
     "name": "stderr",
     "output_type": "stream",
     "text": [
      "Processing cleaned_chunk_0:  27%|███████▊                     | 2708/10000 [09:27<37:11,  3.27row/s]"
     ]
    },
    {
     "name": "stdout",
     "output_type": "stream",
     "text": [
      "Progress saved: cleaned_chunk_0, row 2708\r"
     ]
    },
    {
     "name": "stderr",
     "output_type": "stream",
     "text": [
      "Processing cleaned_chunk_0:  27%|███████▊                     | 2709/10000 [09:28<35:46,  3.40row/s]"
     ]
    },
    {
     "name": "stdout",
     "output_type": "stream",
     "text": [
      "Progress saved: cleaned_chunk_0, row 2709\r"
     ]
    },
    {
     "name": "stderr",
     "output_type": "stream",
     "text": [
      "Processing cleaned_chunk_0:  27%|███████▊                     | 2710/10000 [09:28<49:43,  2.44row/s]"
     ]
    },
    {
     "name": "stdout",
     "output_type": "stream",
     "text": [
      "Progress saved: cleaned_chunk_0, row 2710\r"
     ]
    },
    {
     "name": "stderr",
     "output_type": "stream",
     "text": [
      "Processing cleaned_chunk_0:  27%|███████▊                     | 2711/10000 [09:29<46:27,  2.61row/s]"
     ]
    },
    {
     "name": "stdout",
     "output_type": "stream",
     "text": [
      "Progress saved: cleaned_chunk_0, row 2711\r"
     ]
    },
    {
     "name": "stderr",
     "output_type": "stream",
     "text": [
      "Processing cleaned_chunk_0:  27%|███████▊                     | 2712/10000 [09:29<42:38,  2.85row/s]"
     ]
    },
    {
     "name": "stdout",
     "output_type": "stream",
     "text": [
      "Progress saved: cleaned_chunk_0, row 2712\r"
     ]
    },
    {
     "name": "stderr",
     "output_type": "stream",
     "text": [
      "Processing cleaned_chunk_0:  27%|███████▊                     | 2713/10000 [09:29<37:43,  3.22row/s]"
     ]
    },
    {
     "name": "stdout",
     "output_type": "stream",
     "text": [
      "Progress saved: cleaned_chunk_0, row 2714\r"
     ]
    },
    {
     "name": "stderr",
     "output_type": "stream",
     "text": [
      "Processing cleaned_chunk_0:  27%|███████▊                     | 2715/10000 [09:30<32:35,  3.73row/s]"
     ]
    },
    {
     "name": "stdout",
     "output_type": "stream",
     "text": [
      "Progress saved: cleaned_chunk_0, row 2715\r"
     ]
    },
    {
     "name": "stderr",
     "output_type": "stream",
     "text": [
      "Processing cleaned_chunk_0:  27%|███████▉                     | 2716/10000 [09:30<37:37,  3.23row/s]"
     ]
    },
    {
     "name": "stdout",
     "output_type": "stream",
     "text": [
      "Progress saved: cleaned_chunk_0, row 2717\r"
     ]
    },
    {
     "name": "stderr",
     "output_type": "stream",
     "text": [
      "Processing cleaned_chunk_0:  27%|███████▉                     | 2718/10000 [09:31<42:02,  2.89row/s]"
     ]
    },
    {
     "name": "stdout",
     "output_type": "stream",
     "text": [
      "Progress saved: cleaned_chunk_0, row 2718\r"
     ]
    },
    {
     "name": "stderr",
     "output_type": "stream",
     "text": [
      "Processing cleaned_chunk_0:  27%|███████▉                     | 2719/10000 [09:31<38:03,  3.19row/s]"
     ]
    },
    {
     "name": "stdout",
     "output_type": "stream",
     "text": [
      "Progress saved: cleaned_chunk_0, row 2719\r"
     ]
    },
    {
     "name": "stderr",
     "output_type": "stream",
     "text": [
      "Processing cleaned_chunk_0:  27%|███████▉                     | 2720/10000 [09:31<35:32,  3.41row/s]"
     ]
    },
    {
     "name": "stdout",
     "output_type": "stream",
     "text": [
      "Progress saved: cleaned_chunk_0, row 2720\r"
     ]
    },
    {
     "name": "stderr",
     "output_type": "stream",
     "text": [
      "Processing cleaned_chunk_0:  27%|███████▉                     | 2721/10000 [09:31<32:24,  3.74row/s]"
     ]
    },
    {
     "name": "stdout",
     "output_type": "stream",
     "text": [
      "Progress saved: cleaned_chunk_0, row 2721\r"
     ]
    },
    {
     "name": "stderr",
     "output_type": "stream",
     "text": [
      "Processing cleaned_chunk_0:  27%|███████▉                     | 2722/10000 [09:32<30:45,  3.94row/s]"
     ]
    },
    {
     "name": "stdout",
     "output_type": "stream",
     "text": [
      "Progress saved: cleaned_chunk_0, row 2723\r"
     ]
    },
    {
     "name": "stderr",
     "output_type": "stream",
     "text": [
      "Processing cleaned_chunk_0:  27%|███████▉                     | 2724/10000 [09:32<31:44,  3.82row/s]"
     ]
    },
    {
     "name": "stdout",
     "output_type": "stream",
     "text": [
      "Progress saved: cleaned_chunk_0, row 2724\r"
     ]
    },
    {
     "name": "stderr",
     "output_type": "stream",
     "text": [
      "Processing cleaned_chunk_0:  27%|███████▉                     | 2725/10000 [09:33<38:13,  3.17row/s]"
     ]
    },
    {
     "name": "stdout",
     "output_type": "stream",
     "text": [
      "Progress saved: cleaned_chunk_0, row 2725\r"
     ]
    },
    {
     "name": "stderr",
     "output_type": "stream",
     "text": [
      "Processing cleaned_chunk_0:  27%|███████▉                     | 2726/10000 [09:33<47:24,  2.56row/s]"
     ]
    },
    {
     "name": "stdout",
     "output_type": "stream",
     "text": [
      "Progress saved: cleaned_chunk_0, row 2726\r"
     ]
    },
    {
     "name": "stderr",
     "output_type": "stream",
     "text": [
      "Processing cleaned_chunk_0:  27%|███████▉                     | 2727/10000 [09:33<41:31,  2.92row/s]"
     ]
    },
    {
     "name": "stdout",
     "output_type": "stream",
     "text": [
      "Progress saved: cleaned_chunk_0, row 2727\r"
     ]
    },
    {
     "name": "stderr",
     "output_type": "stream",
     "text": [
      "Processing cleaned_chunk_0:  27%|███████▉                     | 2728/10000 [09:34<40:11,  3.02row/s]"
     ]
    },
    {
     "name": "stdout",
     "output_type": "stream",
     "text": [
      "Progress saved: cleaned_chunk_0, row 2728\r"
     ]
    },
    {
     "name": "stderr",
     "output_type": "stream",
     "text": [
      "Processing cleaned_chunk_0:  27%|███████▉                     | 2730/10000 [09:34<32:24,  3.74row/s]"
     ]
    },
    {
     "name": "stdout",
     "output_type": "stream",
     "text": [
      "Progress saved: cleaned_chunk_0, row 2730\r"
     ]
    },
    {
     "name": "stderr",
     "output_type": "stream",
     "text": [
      "Processing cleaned_chunk_0:  27%|███████▉                     | 2731/10000 [09:34<38:03,  3.18row/s]"
     ]
    },
    {
     "name": "stdout",
     "output_type": "stream",
     "text": [
      "Progress saved: cleaned_chunk_0, row 2732\r"
     ]
    },
    {
     "name": "stderr",
     "output_type": "stream",
     "text": [
      "Processing cleaned_chunk_0:  27%|███████▉                     | 2734/10000 [09:35<26:23,  4.59row/s]"
     ]
    },
    {
     "name": "stdout",
     "output_type": "stream",
     "text": [
      "Progress saved: cleaned_chunk_0, row 2734\r"
     ]
    },
    {
     "name": "stderr",
     "output_type": "stream",
     "text": [
      "Processing cleaned_chunk_0:  27%|███████▉                     | 2735/10000 [09:35<23:51,  5.08row/s]"
     ]
    },
    {
     "name": "stdout",
     "output_type": "stream",
     "text": [
      "Progress saved: cleaned_chunk_0, row 2735\r"
     ]
    },
    {
     "name": "stderr",
     "output_type": "stream",
     "text": [
      "Processing cleaned_chunk_0:  27%|███████▉                     | 2737/10000 [09:36<24:38,  4.91row/s]"
     ]
    },
    {
     "name": "stdout",
     "output_type": "stream",
     "text": [
      "Progress saved: cleaned_chunk_0, row 2737\r"
     ]
    },
    {
     "name": "stderr",
     "output_type": "stream",
     "text": [
      "Processing cleaned_chunk_0:  27%|███████▉                     | 2738/10000 [09:36<23:23,  5.17row/s]"
     ]
    },
    {
     "name": "stdout",
     "output_type": "stream",
     "text": [
      "Progress saved: cleaned_chunk_0, row 2739\r"
     ]
    },
    {
     "name": "stderr",
     "output_type": "stream",
     "text": [
      "Processing cleaned_chunk_0:  27%|███████▉                     | 2740/10000 [09:36<23:07,  5.23row/s]"
     ]
    },
    {
     "name": "stdout",
     "output_type": "stream",
     "text": [
      "Progress saved: cleaned_chunk_0, row 2740\r"
     ]
    },
    {
     "name": "stderr",
     "output_type": "stream",
     "text": [
      "Processing cleaned_chunk_0:  27%|███████▉                     | 2741/10000 [09:37<35:08,  3.44row/s]"
     ]
    },
    {
     "name": "stdout",
     "output_type": "stream",
     "text": [
      "Progress saved: cleaned_chunk_0, row 2742\r"
     ]
    },
    {
     "name": "stderr",
     "output_type": "stream",
     "text": [
      "Processing cleaned_chunk_0:  27%|███████▉                     | 2744/10000 [09:37<24:02,  5.03row/s]"
     ]
    },
    {
     "name": "stdout",
     "output_type": "stream",
     "text": [
      "Progress saved: cleaned_chunk_0, row 2744\r"
     ]
    },
    {
     "name": "stderr",
     "output_type": "stream",
     "text": [
      "Processing cleaned_chunk_0:  27%|███████▉                     | 2746/10000 [09:37<21:36,  5.59row/s]"
     ]
    },
    {
     "name": "stdout",
     "output_type": "stream",
     "text": [
      "Progress saved: cleaned_chunk_0, row 2746\r"
     ]
    },
    {
     "name": "stderr",
     "output_type": "stream",
     "text": [
      "Processing cleaned_chunk_0:  27%|███████▉                     | 2747/10000 [09:38<21:59,  5.50row/s]"
     ]
    },
    {
     "name": "stdout",
     "output_type": "stream",
     "text": [
      "Progress saved: cleaned_chunk_0, row 2748\r"
     ]
    },
    {
     "name": "stderr",
     "output_type": "stream",
     "text": [
      "Processing cleaned_chunk_0:  27%|███████▉                     | 2749/10000 [09:38<24:00,  5.03row/s]"
     ]
    },
    {
     "name": "stdout",
     "output_type": "stream",
     "text": [
      "Progress saved: cleaned_chunk_0, row 2749\r"
     ]
    },
    {
     "name": "stderr",
     "output_type": "stream",
     "text": [
      "Processing cleaned_chunk_0:  28%|███████▉                     | 2750/10000 [09:38<28:26,  4.25row/s]"
     ]
    },
    {
     "name": "stdout",
     "output_type": "stream",
     "text": [
      "Progress saved: cleaned_chunk_0, row 2750\r"
     ]
    },
    {
     "name": "stderr",
     "output_type": "stream",
     "text": [
      "Processing cleaned_chunk_0:  28%|███████▉                     | 2751/10000 [09:39<43:38,  2.77row/s]"
     ]
    },
    {
     "name": "stdout",
     "output_type": "stream",
     "text": [
      "Progress saved: cleaned_chunk_0, row 2751\r"
     ]
    },
    {
     "name": "stderr",
     "output_type": "stream",
     "text": [
      "Processing cleaned_chunk_0:  28%|███████▉                     | 2752/10000 [09:39<48:05,  2.51row/s]"
     ]
    },
    {
     "name": "stdout",
     "output_type": "stream",
     "text": [
      "Progress saved: cleaned_chunk_0, row 2752\r"
     ]
    },
    {
     "name": "stderr",
     "output_type": "stream",
     "text": [
      "Processing cleaned_chunk_0:  28%|███████▉                     | 2753/10000 [09:40<45:34,  2.65row/s]"
     ]
    },
    {
     "name": "stdout",
     "output_type": "stream",
     "text": [
      "Progress saved: cleaned_chunk_0, row 2753\r"
     ]
    },
    {
     "name": "stderr",
     "output_type": "stream",
     "text": [
      "Processing cleaned_chunk_0:  28%|███████▉                     | 2754/10000 [09:40<44:13,  2.73row/s]"
     ]
    },
    {
     "name": "stdout",
     "output_type": "stream",
     "text": [
      "Progress saved: cleaned_chunk_0, row 2754\r"
     ]
    },
    {
     "name": "stderr",
     "output_type": "stream",
     "text": [
      "Processing cleaned_chunk_0:  28%|███████▉                     | 2755/10000 [09:41<46:10,  2.61row/s]"
     ]
    },
    {
     "name": "stdout",
     "output_type": "stream",
     "text": [
      "Progress saved: cleaned_chunk_0, row 2755\r"
     ]
    },
    {
     "name": "stderr",
     "output_type": "stream",
     "text": [
      "Processing cleaned_chunk_0:  28%|███████▉                     | 2756/10000 [09:41<48:27,  2.49row/s]"
     ]
    },
    {
     "name": "stdout",
     "output_type": "stream",
     "text": [
      "Progress saved: cleaned_chunk_0, row 2757\r"
     ]
    },
    {
     "name": "stderr",
     "output_type": "stream",
     "text": [
      "Processing cleaned_chunk_0:  28%|███████▉                     | 2758/10000 [09:41<36:43,  3.29row/s]"
     ]
    },
    {
     "name": "stdout",
     "output_type": "stream",
     "text": [
      "Progress saved: cleaned_chunk_0, row 2758\r"
     ]
    },
    {
     "name": "stderr",
     "output_type": "stream",
     "text": [
      "Processing cleaned_chunk_0:  28%|████████                     | 2759/10000 [09:42<35:05,  3.44row/s]"
     ]
    },
    {
     "name": "stdout",
     "output_type": "stream",
     "text": [
      "Progress saved: cleaned_chunk_0, row 2759\r"
     ]
    },
    {
     "name": "stderr",
     "output_type": "stream",
     "text": [
      "Processing cleaned_chunk_0:  28%|████████                     | 2760/10000 [09:42<39:56,  3.02row/s]"
     ]
    },
    {
     "name": "stdout",
     "output_type": "stream",
     "text": [
      "Progress saved: cleaned_chunk_0, row 2760\r"
     ]
    },
    {
     "name": "stderr",
     "output_type": "stream",
     "text": [
      "Processing cleaned_chunk_0:  28%|████████                     | 2761/10000 [09:42<37:39,  3.20row/s]"
     ]
    },
    {
     "name": "stdout",
     "output_type": "stream",
     "text": [
      "Progress saved: cleaned_chunk_0, row 2761\r"
     ]
    },
    {
     "name": "stderr",
     "output_type": "stream",
     "text": [
      "Processing cleaned_chunk_0:  28%|████████                     | 2762/10000 [09:43<36:18,  3.32row/s]"
     ]
    },
    {
     "name": "stdout",
     "output_type": "stream",
     "text": [
      "Progress saved: cleaned_chunk_0, row 2762\r"
     ]
    },
    {
     "name": "stderr",
     "output_type": "stream",
     "text": [
      "Processing cleaned_chunk_0:  28%|████████                     | 2763/10000 [09:43<34:12,  3.53row/s]"
     ]
    },
    {
     "name": "stdout",
     "output_type": "stream",
     "text": [
      "Progress saved: cleaned_chunk_0, row 2763\r"
     ]
    },
    {
     "name": "stderr",
     "output_type": "stream",
     "text": [
      "Processing cleaned_chunk_0:  28%|████████                     | 2764/10000 [09:44<47:38,  2.53row/s]"
     ]
    },
    {
     "name": "stdout",
     "output_type": "stream",
     "text": [
      "Progress saved: cleaned_chunk_0, row 2764\r"
     ]
    },
    {
     "name": "stderr",
     "output_type": "stream",
     "text": [
      "Processing cleaned_chunk_0:  28%|████████                     | 2765/10000 [09:44<45:08,  2.67row/s]"
     ]
    },
    {
     "name": "stdout",
     "output_type": "stream",
     "text": [
      "Progress saved: cleaned_chunk_0, row 2765\r"
     ]
    },
    {
     "name": "stderr",
     "output_type": "stream",
     "text": [
      "Processing cleaned_chunk_0:  28%|████████                     | 2766/10000 [09:44<40:29,  2.98row/s]"
     ]
    },
    {
     "name": "stdout",
     "output_type": "stream",
     "text": [
      "Progress saved: cleaned_chunk_0, row 2766\r"
     ]
    },
    {
     "name": "stderr",
     "output_type": "stream",
     "text": [
      "Processing cleaned_chunk_0:  28%|████████                     | 2767/10000 [09:45<44:15,  2.72row/s]"
     ]
    },
    {
     "name": "stdout",
     "output_type": "stream",
     "text": [
      "Progress saved: cleaned_chunk_0, row 2767\r"
     ]
    },
    {
     "name": "stderr",
     "output_type": "stream",
     "text": [
      "Processing cleaned_chunk_0:  28%|████████                     | 2768/10000 [09:45<47:47,  2.52row/s]"
     ]
    },
    {
     "name": "stdout",
     "output_type": "stream",
     "text": [
      "Progress saved: cleaned_chunk_0, row 2768\r"
     ]
    },
    {
     "name": "stderr",
     "output_type": "stream",
     "text": [
      "Processing cleaned_chunk_0:  28%|████████                     | 2769/10000 [09:45<45:50,  2.63row/s]"
     ]
    },
    {
     "name": "stdout",
     "output_type": "stream",
     "text": [
      "Progress saved: cleaned_chunk_0, row 2769\r"
     ]
    },
    {
     "name": "stderr",
     "output_type": "stream",
     "text": [
      "Processing cleaned_chunk_0:  28%|████████                     | 2770/10000 [09:46<42:50,  2.81row/s]"
     ]
    },
    {
     "name": "stdout",
     "output_type": "stream",
     "text": [
      "Progress saved: cleaned_chunk_0, row 2770\r"
     ]
    },
    {
     "name": "stderr",
     "output_type": "stream",
     "text": [
      "Processing cleaned_chunk_0:  28%|████████                     | 2771/10000 [09:46<39:01,  3.09row/s]"
     ]
    },
    {
     "name": "stdout",
     "output_type": "stream",
     "text": [
      "Progress saved: cleaned_chunk_0, row 2772\r"
     ]
    },
    {
     "name": "stderr",
     "output_type": "stream",
     "text": [
      "Processing cleaned_chunk_0:  28%|████████                     | 2774/10000 [09:46<27:01,  4.46row/s]"
     ]
    },
    {
     "name": "stdout",
     "output_type": "stream",
     "text": [
      "Progress saved: cleaned_chunk_0, row 2774\r"
     ]
    },
    {
     "name": "stderr",
     "output_type": "stream",
     "text": [
      "Processing cleaned_chunk_0:  28%|████████                     | 2775/10000 [09:47<26:51,  4.48row/s]"
     ]
    },
    {
     "name": "stdout",
     "output_type": "stream",
     "text": [
      "Progress saved: cleaned_chunk_0, row 2775\r"
     ]
    },
    {
     "name": "stderr",
     "output_type": "stream",
     "text": [
      "Processing cleaned_chunk_0:  28%|████████                     | 2776/10000 [09:47<30:58,  3.89row/s]"
     ]
    },
    {
     "name": "stdout",
     "output_type": "stream",
     "text": [
      "Progress saved: cleaned_chunk_0, row 2777\r"
     ]
    },
    {
     "name": "stderr",
     "output_type": "stream",
     "text": [
      "Processing cleaned_chunk_0:  28%|████████                     | 2779/10000 [09:48<30:29,  3.95row/s]"
     ]
    },
    {
     "name": "stdout",
     "output_type": "stream",
     "text": [
      "Progress saved: cleaned_chunk_0, row 2779\r"
     ]
    },
    {
     "name": "stderr",
     "output_type": "stream",
     "text": [
      "Processing cleaned_chunk_0:  28%|████████                     | 2780/10000 [09:48<29:16,  4.11row/s]"
     ]
    },
    {
     "name": "stdout",
     "output_type": "stream",
     "text": [
      "Progress saved: cleaned_chunk_0, row 2780\r"
     ]
    },
    {
     "name": "stderr",
     "output_type": "stream",
     "text": [
      "Processing cleaned_chunk_0:  28%|████████                     | 2781/10000 [09:48<28:36,  4.21row/s]"
     ]
    },
    {
     "name": "stdout",
     "output_type": "stream",
     "text": [
      "Progress saved: cleaned_chunk_0, row 2781\r"
     ]
    },
    {
     "name": "stderr",
     "output_type": "stream",
     "text": [
      "Processing cleaned_chunk_0:  28%|████████                     | 2782/10000 [09:48<28:34,  4.21row/s]"
     ]
    },
    {
     "name": "stdout",
     "output_type": "stream",
     "text": [
      "Progress saved: cleaned_chunk_0, row 2782\r"
     ]
    },
    {
     "name": "stderr",
     "output_type": "stream",
     "text": [
      "Processing cleaned_chunk_0:  28%|████████                     | 2783/10000 [09:49<28:13,  4.26row/s]"
     ]
    },
    {
     "name": "stdout",
     "output_type": "stream",
     "text": [
      "Progress saved: cleaned_chunk_0, row 2783\r"
     ]
    },
    {
     "name": "stderr",
     "output_type": "stream",
     "text": [
      "Processing cleaned_chunk_0:  28%|████████                     | 2785/10000 [09:49<26:02,  4.62row/s]"
     ]
    },
    {
     "name": "stdout",
     "output_type": "stream",
     "text": [
      "Progress saved: cleaned_chunk_0, row 2785\r"
     ]
    },
    {
     "name": "stderr",
     "output_type": "stream",
     "text": [
      "Processing cleaned_chunk_0:  28%|████████                     | 2787/10000 [09:50<27:36,  4.35row/s]"
     ]
    },
    {
     "name": "stdout",
     "output_type": "stream",
     "text": [
      "Progress saved: cleaned_chunk_0, row 2787\r"
     ]
    },
    {
     "name": "stderr",
     "output_type": "stream",
     "text": [
      "Processing cleaned_chunk_0:  28%|████████                     | 2788/10000 [09:50<24:07,  4.98row/s]"
     ]
    },
    {
     "name": "stdout",
     "output_type": "stream",
     "text": [
      "Progress saved: cleaned_chunk_0, row 2789\r"
     ]
    },
    {
     "name": "stderr",
     "output_type": "stream",
     "text": [
      "Processing cleaned_chunk_0:  28%|████████                     | 2791/10000 [09:50<20:14,  5.94row/s]"
     ]
    },
    {
     "name": "stdout",
     "output_type": "stream",
     "text": [
      "Progress saved: cleaned_chunk_0, row 2791\r"
     ]
    },
    {
     "name": "stderr",
     "output_type": "stream",
     "text": [
      "Processing cleaned_chunk_0:  28%|████████                     | 2793/10000 [09:51<19:02,  6.31row/s]"
     ]
    },
    {
     "name": "stdout",
     "output_type": "stream",
     "text": [
      "Progress saved: cleaned_chunk_0, row 2793\r"
     ]
    },
    {
     "name": "stderr",
     "output_type": "stream",
     "text": [
      "Processing cleaned_chunk_0:  28%|████████                     | 2794/10000 [09:51<22:24,  5.36row/s]"
     ]
    },
    {
     "name": "stdout",
     "output_type": "stream",
     "text": [
      "Progress saved: cleaned_chunk_0, row 2794\r"
     ]
    },
    {
     "name": "stderr",
     "output_type": "stream",
     "text": [
      "Processing cleaned_chunk_0:  28%|████████                     | 2795/10000 [09:51<27:38,  4.34row/s]"
     ]
    },
    {
     "name": "stdout",
     "output_type": "stream",
     "text": [
      "Progress saved: cleaned_chunk_0, row 2795\r"
     ]
    },
    {
     "name": "stderr",
     "output_type": "stream",
     "text": [
      "Processing cleaned_chunk_0:  28%|████████                     | 2796/10000 [09:51<29:10,  4.11row/s]"
     ]
    },
    {
     "name": "stdout",
     "output_type": "stream",
     "text": [
      "Progress saved: cleaned_chunk_0, row 2797\r"
     ]
    },
    {
     "name": "stderr",
     "output_type": "stream",
     "text": [
      "Processing cleaned_chunk_0:  28%|████████                     | 2799/10000 [09:52<22:38,  5.30row/s]"
     ]
    },
    {
     "name": "stdout",
     "output_type": "stream",
     "text": [
      "Progress saved: cleaned_chunk_0, row 2799\r"
     ]
    },
    {
     "name": "stderr",
     "output_type": "stream",
     "text": [
      "Processing cleaned_chunk_0:  28%|████████                     | 2801/10000 [09:52<20:20,  5.90row/s]"
     ]
    },
    {
     "name": "stdout",
     "output_type": "stream",
     "text": [
      "Progress saved: cleaned_chunk_0, row 2801\r"
     ]
    },
    {
     "name": "stderr",
     "output_type": "stream",
     "text": [
      "Processing cleaned_chunk_0:  28%|████████▏                    | 2802/10000 [09:52<21:45,  5.51row/s]"
     ]
    },
    {
     "name": "stdout",
     "output_type": "stream",
     "text": [
      "Progress saved: cleaned_chunk_0, row 2802\r"
     ]
    },
    {
     "name": "stderr",
     "output_type": "stream",
     "text": [
      "Processing cleaned_chunk_0:  28%|████████▏                    | 2803/10000 [09:53<25:20,  4.73row/s]"
     ]
    },
    {
     "name": "stdout",
     "output_type": "stream",
     "text": [
      "Progress saved: cleaned_chunk_0, row 2804\r"
     ]
    },
    {
     "name": "stderr",
     "output_type": "stream",
     "text": [
      "Processing cleaned_chunk_0:  28%|████████▏                    | 2806/10000 [09:53<21:57,  5.46row/s]"
     ]
    },
    {
     "name": "stdout",
     "output_type": "stream",
     "text": [
      "Progress saved: cleaned_chunk_0, row 2806\r"
     ]
    },
    {
     "name": "stderr",
     "output_type": "stream",
     "text": [
      "Processing cleaned_chunk_0:  28%|████████▏                    | 2808/10000 [09:53<19:19,  6.20row/s]"
     ]
    },
    {
     "name": "stdout",
     "output_type": "stream",
     "text": [
      "Progress saved: cleaned_chunk_0, row 2808\r"
     ]
    },
    {
     "name": "stderr",
     "output_type": "stream",
     "text": [
      "Processing cleaned_chunk_0:  28%|████████▏                    | 2809/10000 [09:54<19:19,  6.20row/s]"
     ]
    },
    {
     "name": "stdout",
     "output_type": "stream",
     "text": [
      "Progress saved: cleaned_chunk_0, row 2810\r"
     ]
    },
    {
     "name": "stderr",
     "output_type": "stream",
     "text": [
      "Processing cleaned_chunk_0:  28%|████████▏                    | 2811/10000 [09:54<21:36,  5.54row/s]"
     ]
    },
    {
     "name": "stdout",
     "output_type": "stream",
     "text": [
      "Progress saved: cleaned_chunk_0, row 2811\r"
     ]
    },
    {
     "name": "stderr",
     "output_type": "stream",
     "text": [
      "Processing cleaned_chunk_0:  28%|████████▏                    | 2812/10000 [09:54<26:07,  4.59row/s]"
     ]
    },
    {
     "name": "stdout",
     "output_type": "stream",
     "text": [
      "Progress saved: cleaned_chunk_0, row 2813\r"
     ]
    },
    {
     "name": "stderr",
     "output_type": "stream",
     "text": [
      "Processing cleaned_chunk_0:  28%|████████▏                    | 2815/10000 [09:55<21:15,  5.63row/s]"
     ]
    },
    {
     "name": "stdout",
     "output_type": "stream",
     "text": [
      "Progress saved: cleaned_chunk_0, row 2815\r"
     ]
    },
    {
     "name": "stderr",
     "output_type": "stream",
     "text": [
      "Processing cleaned_chunk_0:  28%|████████▏                    | 2816/10000 [09:55<20:47,  5.76row/s]"
     ]
    },
    {
     "name": "stdout",
     "output_type": "stream",
     "text": [
      "Progress saved: cleaned_chunk_0, row 2817\r"
     ]
    },
    {
     "name": "stderr",
     "output_type": "stream",
     "text": [
      "Processing cleaned_chunk_0:  28%|████████▏                    | 2819/10000 [09:56<20:59,  5.70row/s]"
     ]
    },
    {
     "name": "stdout",
     "output_type": "stream",
     "text": [
      "Progress saved: cleaned_chunk_0, row 2819\r"
     ]
    },
    {
     "name": "stderr",
     "output_type": "stream",
     "text": [
      "Processing cleaned_chunk_0:  28%|████████▏                    | 2821/10000 [09:56<20:11,  5.93row/s]"
     ]
    },
    {
     "name": "stdout",
     "output_type": "stream",
     "text": [
      "Progress saved: cleaned_chunk_0, row 2821\r"
     ]
    },
    {
     "name": "stderr",
     "output_type": "stream",
     "text": [
      "Processing cleaned_chunk_0:  28%|████████▏                    | 2822/10000 [09:56<24:53,  4.81row/s]"
     ]
    },
    {
     "name": "stdout",
     "output_type": "stream",
     "text": [
      "Progress saved: cleaned_chunk_0, row 2822\r"
     ]
    },
    {
     "name": "stderr",
     "output_type": "stream",
     "text": [
      "Processing cleaned_chunk_0:  28%|████████▏                    | 2823/10000 [09:56<26:04,  4.59row/s]"
     ]
    },
    {
     "name": "stdout",
     "output_type": "stream",
     "text": [
      "Progress saved: cleaned_chunk_0, row 2823\r"
     ]
    },
    {
     "name": "stderr",
     "output_type": "stream",
     "text": [
      "Processing cleaned_chunk_0:  28%|████████▏                    | 2824/10000 [09:57<33:44,  3.54row/s]"
     ]
    },
    {
     "name": "stdout",
     "output_type": "stream",
     "text": [
      "Progress saved: cleaned_chunk_0, row 2824\r"
     ]
    },
    {
     "name": "stderr",
     "output_type": "stream",
     "text": [
      "Processing cleaned_chunk_0:  28%|████████▏                    | 2825/10000 [09:57<30:26,  3.93row/s]"
     ]
    },
    {
     "name": "stdout",
     "output_type": "stream",
     "text": [
      "Progress saved: cleaned_chunk_0, row 2825\r"
     ]
    },
    {
     "name": "stderr",
     "output_type": "stream",
     "text": [
      "Processing cleaned_chunk_0:  28%|████████▏                    | 2827/10000 [09:57<25:56,  4.61row/s]"
     ]
    },
    {
     "name": "stdout",
     "output_type": "stream",
     "text": [
      "Progress saved: cleaned_chunk_0, row 2827\r"
     ]
    },
    {
     "name": "stderr",
     "output_type": "stream",
     "text": [
      "Processing cleaned_chunk_0:  28%|████████▏                    | 2828/10000 [09:58<23:30,  5.08row/s]"
     ]
    },
    {
     "name": "stdout",
     "output_type": "stream",
     "text": [
      "Progress saved: cleaned_chunk_0, row 2829\r"
     ]
    },
    {
     "name": "stderr",
     "output_type": "stream",
     "text": [
      "Processing cleaned_chunk_0:  28%|████████▏                    | 2830/10000 [09:58<21:45,  5.49row/s]"
     ]
    },
    {
     "name": "stdout",
     "output_type": "stream",
     "text": [
      "Progress saved: cleaned_chunk_0, row 2831\r"
     ]
    },
    {
     "name": "stderr",
     "output_type": "stream",
     "text": [
      "Processing cleaned_chunk_0:  28%|████████▏                    | 2833/10000 [09:59<21:45,  5.49row/s]"
     ]
    },
    {
     "name": "stdout",
     "output_type": "stream",
     "text": [
      "Progress saved: cleaned_chunk_0, row 2833\r"
     ]
    },
    {
     "name": "stderr",
     "output_type": "stream",
     "text": [
      "Processing cleaned_chunk_0:  28%|████████▏                    | 2835/10000 [09:59<19:55,  5.99row/s]"
     ]
    },
    {
     "name": "stdout",
     "output_type": "stream",
     "text": [
      "Progress saved: cleaned_chunk_0, row 2835\r"
     ]
    },
    {
     "name": "stderr",
     "output_type": "stream",
     "text": [
      "Processing cleaned_chunk_0:  28%|████████▏                    | 2837/10000 [09:59<20:13,  5.90row/s]"
     ]
    },
    {
     "name": "stdout",
     "output_type": "stream",
     "text": [
      "Progress saved: cleaned_chunk_0, row 2837\r"
     ]
    },
    {
     "name": "stderr",
     "output_type": "stream",
     "text": [
      "Processing cleaned_chunk_0:  28%|████████▏                    | 2838/10000 [09:59<18:53,  6.32row/s]"
     ]
    },
    {
     "name": "stdout",
     "output_type": "stream",
     "text": [
      "Progress saved: cleaned_chunk_0, row 2839\r"
     ]
    },
    {
     "name": "stderr",
     "output_type": "stream",
     "text": [
      "Processing cleaned_chunk_0:  28%|████████▏                    | 2840/10000 [10:00<25:45,  4.63row/s]"
     ]
    },
    {
     "name": "stdout",
     "output_type": "stream",
     "text": [
      "Progress saved: cleaned_chunk_0, row 2841\r"
     ]
    },
    {
     "name": "stderr",
     "output_type": "stream",
     "text": [
      "Processing cleaned_chunk_0:  28%|████████▏                    | 2843/10000 [10:00<21:11,  5.63row/s]"
     ]
    },
    {
     "name": "stdout",
     "output_type": "stream",
     "text": [
      "Progress saved: cleaned_chunk_0, row 2843\r"
     ]
    },
    {
     "name": "stderr",
     "output_type": "stream",
     "text": [
      "Processing cleaned_chunk_0:  28%|████████▏                    | 2844/10000 [10:00<20:59,  5.68row/s]"
     ]
    },
    {
     "name": "stdout",
     "output_type": "stream",
     "text": [
      "Progress saved: cleaned_chunk_0, row 2844\r"
     ]
    },
    {
     "name": "stderr",
     "output_type": "stream",
     "text": [
      "Processing cleaned_chunk_0:  28%|████████▎                    | 2846/10000 [10:01<21:57,  5.43row/s]"
     ]
    },
    {
     "name": "stdout",
     "output_type": "stream",
     "text": [
      "Progress saved: cleaned_chunk_0, row 2846\r"
     ]
    },
    {
     "name": "stderr",
     "output_type": "stream",
     "text": [
      "Processing cleaned_chunk_0:  28%|████████▎                    | 2848/10000 [10:01<19:33,  6.10row/s]"
     ]
    },
    {
     "name": "stdout",
     "output_type": "stream",
     "text": [
      "Progress saved: cleaned_chunk_0, row 2848\r"
     ]
    },
    {
     "name": "stderr",
     "output_type": "stream",
     "text": [
      "Processing cleaned_chunk_0:  28%|████████▎                    | 2849/10000 [10:01<19:40,  6.06row/s]"
     ]
    },
    {
     "name": "stdout",
     "output_type": "stream",
     "text": [
      "Progress saved: cleaned_chunk_0, row 2849\r"
     ]
    },
    {
     "name": "stderr",
     "output_type": "stream",
     "text": [
      "Processing cleaned_chunk_0:  29%|████████▎                    | 2851/10000 [10:02<25:16,  4.71row/s]"
     ]
    },
    {
     "name": "stdout",
     "output_type": "stream",
     "text": [
      "Progress saved: cleaned_chunk_0, row 2851\r"
     ]
    },
    {
     "name": "stderr",
     "output_type": "stream",
     "text": [
      "Processing cleaned_chunk_0:  29%|████████▎                    | 2852/10000 [10:02<23:52,  4.99row/s]"
     ]
    },
    {
     "name": "stdout",
     "output_type": "stream",
     "text": [
      "Progress saved: cleaned_chunk_0, row 2853\r"
     ]
    },
    {
     "name": "stderr",
     "output_type": "stream",
     "text": [
      "Processing cleaned_chunk_0:  29%|████████▎                    | 2855/10000 [10:03<20:54,  5.69row/s]"
     ]
    },
    {
     "name": "stdout",
     "output_type": "stream",
     "text": [
      "Progress saved: cleaned_chunk_0, row 2855\r"
     ]
    },
    {
     "name": "stderr",
     "output_type": "stream",
     "text": [
      "Processing cleaned_chunk_0:  29%|████████▎                    | 2856/10000 [10:03<19:22,  6.15row/s]"
     ]
    },
    {
     "name": "stdout",
     "output_type": "stream",
     "text": [
      "Progress saved: cleaned_chunk_0, row 2857\r"
     ]
    },
    {
     "name": "stderr",
     "output_type": "stream",
     "text": [
      "Processing cleaned_chunk_0:  29%|████████▎                    | 2858/10000 [10:03<23:39,  5.03row/s]"
     ]
    },
    {
     "name": "stdout",
     "output_type": "stream",
     "text": [
      "Progress saved: cleaned_chunk_0, row 2858\r"
     ]
    },
    {
     "name": "stderr",
     "output_type": "stream",
     "text": [
      "Processing cleaned_chunk_0:  29%|████████▎                    | 2860/10000 [10:04<21:57,  5.42row/s]"
     ]
    },
    {
     "name": "stdout",
     "output_type": "stream",
     "text": [
      "Progress saved: cleaned_chunk_0, row 2860\r"
     ]
    },
    {
     "name": "stderr",
     "output_type": "stream",
     "text": [
      "Processing cleaned_chunk_0:  29%|████████▎                    | 2861/10000 [10:04<19:51,  5.99row/s]"
     ]
    },
    {
     "name": "stdout",
     "output_type": "stream",
     "text": [
      "Progress saved: cleaned_chunk_0, row 2862\r"
     ]
    },
    {
     "name": "stderr",
     "output_type": "stream",
     "text": [
      "Processing cleaned_chunk_0:  29%|████████▎                    | 2864/10000 [10:04<20:04,  5.92row/s]"
     ]
    },
    {
     "name": "stdout",
     "output_type": "stream",
     "text": [
      "Progress saved: cleaned_chunk_0, row 2864\r"
     ]
    },
    {
     "name": "stderr",
     "output_type": "stream",
     "text": [
      "Processing cleaned_chunk_0:  29%|████████▎                    | 2865/10000 [10:04<19:03,  6.24row/s]"
     ]
    },
    {
     "name": "stdout",
     "output_type": "stream",
     "text": [
      "Progress saved: cleaned_chunk_0, row 2865\r"
     ]
    },
    {
     "name": "stderr",
     "output_type": "stream",
     "text": [
      "Processing cleaned_chunk_0:  29%|████████▎                    | 2866/10000 [10:05<22:16,  5.34row/s]"
     ]
    },
    {
     "name": "stdout",
     "output_type": "stream",
     "text": [
      "Progress saved: cleaned_chunk_0, row 2866\r"
     ]
    },
    {
     "name": "stderr",
     "output_type": "stream",
     "text": [
      "Processing cleaned_chunk_0:  29%|████████▎                    | 2867/10000 [10:05<24:21,  4.88row/s]"
     ]
    },
    {
     "name": "stdout",
     "output_type": "stream",
     "text": [
      "Progress saved: cleaned_chunk_0, row 2867\r"
     ]
    },
    {
     "name": "stderr",
     "output_type": "stream",
     "text": [
      "Processing cleaned_chunk_0:  29%|████████▎                    | 2868/10000 [10:05<32:43,  3.63row/s]"
     ]
    },
    {
     "name": "stdout",
     "output_type": "stream",
     "text": [
      "Progress saved: cleaned_chunk_0, row 2868\r"
     ]
    },
    {
     "name": "stderr",
     "output_type": "stream",
     "text": [
      "Processing cleaned_chunk_0:  29%|████████▎                    | 2869/10000 [10:05<30:38,  3.88row/s]"
     ]
    },
    {
     "name": "stdout",
     "output_type": "stream",
     "text": [
      "Progress saved: cleaned_chunk_0, row 2870\r"
     ]
    },
    {
     "name": "stderr",
     "output_type": "stream",
     "text": [
      "Processing cleaned_chunk_0:  29%|████████▎                    | 2871/10000 [10:06<26:33,  4.47row/s]"
     ]
    },
    {
     "name": "stdout",
     "output_type": "stream",
     "text": [
      "Progress saved: cleaned_chunk_0, row 2872\r"
     ]
    },
    {
     "name": "stderr",
     "output_type": "stream",
     "text": [
      "Processing cleaned_chunk_0:  29%|████████▎                    | 2874/10000 [10:06<21:40,  5.48row/s]"
     ]
    },
    {
     "name": "stdout",
     "output_type": "stream",
     "text": [
      "Progress saved: cleaned_chunk_0, row 2874\r"
     ]
    },
    {
     "name": "stderr",
     "output_type": "stream",
     "text": [
      "Processing cleaned_chunk_0:  29%|████████▎                    | 2875/10000 [10:06<19:53,  5.97row/s]"
     ]
    },
    {
     "name": "stdout",
     "output_type": "stream",
     "text": [
      "Progress saved: cleaned_chunk_0, row 2875\r"
     ]
    },
    {
     "name": "stderr",
     "output_type": "stream",
     "text": [
      "Processing cleaned_chunk_0:  29%|████████▎                    | 2876/10000 [10:07<31:05,  3.82row/s]"
     ]
    },
    {
     "name": "stdout",
     "output_type": "stream",
     "text": [
      "Progress saved: cleaned_chunk_0, row 2876\r"
     ]
    },
    {
     "name": "stderr",
     "output_type": "stream",
     "text": [
      "Processing cleaned_chunk_0:  29%|████████▎                    | 2877/10000 [10:07<37:31,  3.16row/s]"
     ]
    },
    {
     "name": "stdout",
     "output_type": "stream",
     "text": [
      "Progress saved: cleaned_chunk_0, row 2877\r"
     ]
    },
    {
     "name": "stderr",
     "output_type": "stream",
     "text": [
      "Processing cleaned_chunk_0:  29%|████████▎                    | 2878/10000 [10:08<35:45,  3.32row/s]"
     ]
    },
    {
     "name": "stdout",
     "output_type": "stream",
     "text": [
      "Progress saved: cleaned_chunk_0, row 2878\r"
     ]
    },
    {
     "name": "stderr",
     "output_type": "stream",
     "text": [
      "Processing cleaned_chunk_0:  29%|████████▎                    | 2879/10000 [10:08<35:35,  3.33row/s]"
     ]
    },
    {
     "name": "stdout",
     "output_type": "stream",
     "text": [
      "Progress saved: cleaned_chunk_0, row 2879\r"
     ]
    },
    {
     "name": "stderr",
     "output_type": "stream",
     "text": [
      "Processing cleaned_chunk_0:  29%|████████▎                    | 2880/10000 [10:08<37:42,  3.15row/s]"
     ]
    },
    {
     "name": "stdout",
     "output_type": "stream",
     "text": [
      "Progress saved: cleaned_chunk_0, row 2880\r"
     ]
    },
    {
     "name": "stderr",
     "output_type": "stream",
     "text": [
      "Processing cleaned_chunk_0:  29%|████████▎                    | 2881/10000 [10:09<34:03,  3.48row/s]"
     ]
    },
    {
     "name": "stdout",
     "output_type": "stream",
     "text": [
      "Progress saved: cleaned_chunk_0, row 2881\r"
     ]
    },
    {
     "name": "stderr",
     "output_type": "stream",
     "text": [
      "Processing cleaned_chunk_0:  29%|████████▎                    | 2882/10000 [10:09<37:05,  3.20row/s]"
     ]
    },
    {
     "name": "stdout",
     "output_type": "stream",
     "text": [
      "Progress saved: cleaned_chunk_0, row 2882\r"
     ]
    },
    {
     "name": "stderr",
     "output_type": "stream",
     "text": [
      "Processing cleaned_chunk_0:  29%|████████▎                    | 2883/10000 [10:09<38:03,  3.12row/s]"
     ]
    },
    {
     "name": "stdout",
     "output_type": "stream",
     "text": [
      "Progress saved: cleaned_chunk_0, row 2884\r"
     ]
    },
    {
     "name": "stderr",
     "output_type": "stream",
     "text": [
      "Processing cleaned_chunk_0:  29%|████████▎                    | 2885/10000 [10:10<31:10,  3.80row/s]"
     ]
    },
    {
     "name": "stdout",
     "output_type": "stream",
     "text": [
      "Progress saved: cleaned_chunk_0, row 2886\r"
     ]
    },
    {
     "name": "stderr",
     "output_type": "stream",
     "text": [
      "Processing cleaned_chunk_0:  29%|████████▎                    | 2887/10000 [10:10<29:35,  4.01row/s]"
     ]
    },
    {
     "name": "stdout",
     "output_type": "stream",
     "text": [
      "Progress saved: cleaned_chunk_0, row 2888\r"
     ]
    },
    {
     "name": "stderr",
     "output_type": "stream",
     "text": [
      "Processing cleaned_chunk_0:  29%|████████▍                    | 2890/10000 [10:11<24:03,  4.93row/s]"
     ]
    },
    {
     "name": "stdout",
     "output_type": "stream",
     "text": [
      "Progress saved: cleaned_chunk_0, row 2890\r"
     ]
    },
    {
     "name": "stderr",
     "output_type": "stream",
     "text": [
      "Processing cleaned_chunk_0:  29%|████████▍                    | 2891/10000 [10:11<24:50,  4.77row/s]"
     ]
    },
    {
     "name": "stdout",
     "output_type": "stream",
     "text": [
      "Progress saved: cleaned_chunk_0, row 2891\r"
     ]
    },
    {
     "name": "stderr",
     "output_type": "stream",
     "text": [
      "Processing cleaned_chunk_0:  29%|████████▍                    | 2892/10000 [10:11<28:47,  4.11row/s]"
     ]
    },
    {
     "name": "stdout",
     "output_type": "stream",
     "text": [
      "Progress saved: cleaned_chunk_0, row 2892\r"
     ]
    },
    {
     "name": "stderr",
     "output_type": "stream",
     "text": [
      "Processing cleaned_chunk_0:  29%|████████▍                    | 2893/10000 [10:12<30:21,  3.90row/s]"
     ]
    },
    {
     "name": "stdout",
     "output_type": "stream",
     "text": [
      "Progress saved: cleaned_chunk_0, row 2893\r"
     ]
    },
    {
     "name": "stderr",
     "output_type": "stream",
     "text": [
      "Processing cleaned_chunk_0:  29%|████████▍                    | 2894/10000 [10:12<49:26,  2.40row/s]"
     ]
    },
    {
     "name": "stdout",
     "output_type": "stream",
     "text": [
      "Progress saved: cleaned_chunk_0, row 2894\r"
     ]
    },
    {
     "name": "stderr",
     "output_type": "stream",
     "text": [
      "Processing cleaned_chunk_0:  29%|███████▊                   | 2895/10000 [10:13<1:02:31,  1.89row/s]"
     ]
    },
    {
     "name": "stdout",
     "output_type": "stream",
     "text": [
      "Progress saved: cleaned_chunk_0, row 2895\r"
     ]
    },
    {
     "name": "stderr",
     "output_type": "stream",
     "text": [
      "Processing cleaned_chunk_0:  29%|███████▊                   | 2896/10000 [10:14<1:14:39,  1.59row/s]"
     ]
    },
    {
     "name": "stdout",
     "output_type": "stream",
     "text": [
      "Progress saved: cleaned_chunk_0, row 2896\r"
     ]
    },
    {
     "name": "stderr",
     "output_type": "stream",
     "text": [
      "Processing cleaned_chunk_0:  29%|███████▊                   | 2897/10000 [10:15<1:17:54,  1.52row/s]"
     ]
    },
    {
     "name": "stdout",
     "output_type": "stream",
     "text": [
      "Progress saved: cleaned_chunk_0, row 2897\r"
     ]
    },
    {
     "name": "stderr",
     "output_type": "stream",
     "text": [
      "Processing cleaned_chunk_0:  29%|███████▊                   | 2898/10000 [10:15<1:08:43,  1.72row/s]"
     ]
    },
    {
     "name": "stdout",
     "output_type": "stream",
     "text": [
      "Progress saved: cleaned_chunk_0, row 2898\r"
     ]
    },
    {
     "name": "stderr",
     "output_type": "stream",
     "text": [
      "Processing cleaned_chunk_0:  29%|███████▊                   | 2899/10000 [10:15<1:02:32,  1.89row/s]"
     ]
    },
    {
     "name": "stdout",
     "output_type": "stream",
     "text": [
      "Progress saved: cleaned_chunk_0, row 2899\r"
     ]
    },
    {
     "name": "stderr",
     "output_type": "stream",
     "text": [
      "Processing cleaned_chunk_0:  29%|███████▊                   | 2900/10000 [10:16<1:11:48,  1.65row/s]"
     ]
    },
    {
     "name": "stdout",
     "output_type": "stream",
     "text": [
      "Progress saved: cleaned_chunk_0, row 2900\r"
     ]
    },
    {
     "name": "stderr",
     "output_type": "stream",
     "text": [
      "Processing cleaned_chunk_0:  29%|███████▊                   | 2901/10000 [10:17<1:02:53,  1.88row/s]"
     ]
    },
    {
     "name": "stdout",
     "output_type": "stream",
     "text": [
      "Progress saved: cleaned_chunk_0, row 2901\r"
     ]
    },
    {
     "name": "stderr",
     "output_type": "stream",
     "text": [
      "Processing cleaned_chunk_0:  29%|████████▍                    | 2902/10000 [10:17<55:22,  2.14row/s]"
     ]
    },
    {
     "name": "stdout",
     "output_type": "stream",
     "text": [
      "Progress saved: cleaned_chunk_0, row 2902\r"
     ]
    },
    {
     "name": "stderr",
     "output_type": "stream",
     "text": [
      "Processing cleaned_chunk_0:  29%|████████▍                    | 2903/10000 [10:17<46:28,  2.55row/s]"
     ]
    },
    {
     "name": "stdout",
     "output_type": "stream",
     "text": [
      "Progress saved: cleaned_chunk_0, row 2903\r"
     ]
    },
    {
     "name": "stderr",
     "output_type": "stream",
     "text": [
      "Processing cleaned_chunk_0:  29%|████████▍                    | 2904/10000 [10:18<44:02,  2.69row/s]"
     ]
    },
    {
     "name": "stdout",
     "output_type": "stream",
     "text": [
      "Progress saved: cleaned_chunk_0, row 2904\r"
     ]
    },
    {
     "name": "stderr",
     "output_type": "stream",
     "text": [
      "Processing cleaned_chunk_0:  29%|████████▍                    | 2905/10000 [10:18<38:45,  3.05row/s]"
     ]
    },
    {
     "name": "stdout",
     "output_type": "stream",
     "text": [
      "Progress saved: cleaned_chunk_0, row 2905\r"
     ]
    },
    {
     "name": "stderr",
     "output_type": "stream",
     "text": [
      "Processing cleaned_chunk_0:  29%|████████▍                    | 2906/10000 [10:18<38:18,  3.09row/s]"
     ]
    },
    {
     "name": "stdout",
     "output_type": "stream",
     "text": [
      "Progress saved: cleaned_chunk_0, row 2906\r"
     ]
    },
    {
     "name": "stderr",
     "output_type": "stream",
     "text": [
      "Processing cleaned_chunk_0:  29%|████████▍                    | 2907/10000 [10:18<34:48,  3.40row/s]"
     ]
    },
    {
     "name": "stdout",
     "output_type": "stream",
     "text": [
      "Progress saved: cleaned_chunk_0, row 2908\r"
     ]
    },
    {
     "name": "stderr",
     "output_type": "stream",
     "text": [
      "Processing cleaned_chunk_0:  29%|████████▍                    | 2909/10000 [10:19<35:50,  3.30row/s]"
     ]
    },
    {
     "name": "stdout",
     "output_type": "stream",
     "text": [
      "Progress saved: cleaned_chunk_0, row 2909\r"
     ]
    },
    {
     "name": "stderr",
     "output_type": "stream",
     "text": [
      "Processing cleaned_chunk_0:  29%|████████▍                    | 2910/10000 [10:19<45:32,  2.59row/s]"
     ]
    },
    {
     "name": "stdout",
     "output_type": "stream",
     "text": [
      "Progress saved: cleaned_chunk_0, row 2910\r"
     ]
    },
    {
     "name": "stderr",
     "output_type": "stream",
     "text": [
      "Processing cleaned_chunk_0:  29%|████████▍                    | 2911/10000 [10:20<41:49,  2.82row/s]"
     ]
    },
    {
     "name": "stdout",
     "output_type": "stream",
     "text": [
      "Progress saved: cleaned_chunk_0, row 2911\r"
     ]
    },
    {
     "name": "stderr",
     "output_type": "stream",
     "text": [
      "Processing cleaned_chunk_0:  29%|████████▍                    | 2912/10000 [10:20<37:04,  3.19row/s]"
     ]
    },
    {
     "name": "stdout",
     "output_type": "stream",
     "text": [
      "Progress saved: cleaned_chunk_0, row 2912\r"
     ]
    },
    {
     "name": "stderr",
     "output_type": "stream",
     "text": [
      "Processing cleaned_chunk_0:  29%|████████▍                    | 2913/10000 [10:20<39:47,  2.97row/s]"
     ]
    },
    {
     "name": "stdout",
     "output_type": "stream",
     "text": [
      "Progress saved: cleaned_chunk_0, row 2913\r"
     ]
    },
    {
     "name": "stderr",
     "output_type": "stream",
     "text": [
      "Processing cleaned_chunk_0:  29%|████████▍                    | 2914/10000 [10:21<36:45,  3.21row/s]"
     ]
    },
    {
     "name": "stdout",
     "output_type": "stream",
     "text": [
      "Progress saved: cleaned_chunk_0, row 2914\r"
     ]
    },
    {
     "name": "stderr",
     "output_type": "stream",
     "text": [
      "Processing cleaned_chunk_0:  29%|████████▍                    | 2915/10000 [10:21<39:15,  3.01row/s]"
     ]
    },
    {
     "name": "stdout",
     "output_type": "stream",
     "text": [
      "Progress saved: cleaned_chunk_0, row 2915\r"
     ]
    },
    {
     "name": "stderr",
     "output_type": "stream",
     "text": [
      "Processing cleaned_chunk_0:  29%|████████▍                    | 2916/10000 [10:21<39:55,  2.96row/s]"
     ]
    },
    {
     "name": "stdout",
     "output_type": "stream",
     "text": [
      "Progress saved: cleaned_chunk_0, row 2916\r"
     ]
    },
    {
     "name": "stderr",
     "output_type": "stream",
     "text": [
      "Processing cleaned_chunk_0:  29%|████████▍                    | 2917/10000 [10:22<56:25,  2.09row/s]"
     ]
    },
    {
     "name": "stdout",
     "output_type": "stream",
     "text": [
      "Progress saved: cleaned_chunk_0, row 2917\r"
     ]
    },
    {
     "name": "stderr",
     "output_type": "stream",
     "text": [
      "Processing cleaned_chunk_0:  29%|████████▍                    | 2918/10000 [10:23<57:11,  2.06row/s]"
     ]
    },
    {
     "name": "stdout",
     "output_type": "stream",
     "text": [
      "Progress saved: cleaned_chunk_0, row 2918\r"
     ]
    },
    {
     "name": "stderr",
     "output_type": "stream",
     "text": [
      "Processing cleaned_chunk_0:  29%|████████▍                    | 2919/10000 [10:23<51:28,  2.29row/s]"
     ]
    },
    {
     "name": "stdout",
     "output_type": "stream",
     "text": [
      "Progress saved: cleaned_chunk_0, row 2919\r"
     ]
    },
    {
     "name": "stderr",
     "output_type": "stream",
     "text": [
      "Processing cleaned_chunk_0:  29%|████████▍                    | 2920/10000 [10:23<49:00,  2.41row/s]"
     ]
    },
    {
     "name": "stdout",
     "output_type": "stream",
     "text": [
      "Progress saved: cleaned_chunk_0, row 2920\r"
     ]
    },
    {
     "name": "stderr",
     "output_type": "stream",
     "text": [
      "Processing cleaned_chunk_0:  29%|███████▉                   | 2921/10000 [10:24<1:05:51,  1.79row/s]"
     ]
    },
    {
     "name": "stdout",
     "output_type": "stream",
     "text": [
      "Progress saved: cleaned_chunk_0, row 2921\r"
     ]
    },
    {
     "name": "stderr",
     "output_type": "stream",
     "text": [
      "Processing cleaned_chunk_0:  29%|████████▍                    | 2922/10000 [10:25<58:04,  2.03row/s]"
     ]
    },
    {
     "name": "stdout",
     "output_type": "stream",
     "text": [
      "Progress saved: cleaned_chunk_0, row 2922\r"
     ]
    },
    {
     "name": "stderr",
     "output_type": "stream",
     "text": [
      "Processing cleaned_chunk_0:  29%|████████▍                    | 2923/10000 [10:25<53:08,  2.22row/s]"
     ]
    },
    {
     "name": "stdout",
     "output_type": "stream",
     "text": [
      "Progress saved: cleaned_chunk_0, row 2923\r"
     ]
    },
    {
     "name": "stderr",
     "output_type": "stream",
     "text": [
      "Processing cleaned_chunk_0:  29%|████████▍                    | 2924/10000 [10:25<54:26,  2.17row/s]"
     ]
    },
    {
     "name": "stdout",
     "output_type": "stream",
     "text": [
      "Progress saved: cleaned_chunk_0, row 2924\r"
     ]
    },
    {
     "name": "stderr",
     "output_type": "stream",
     "text": [
      "Processing cleaned_chunk_0:  29%|████████▍                    | 2925/10000 [10:26<50:32,  2.33row/s]"
     ]
    },
    {
     "name": "stdout",
     "output_type": "stream",
     "text": [
      "Progress saved: cleaned_chunk_0, row 2925\r"
     ]
    },
    {
     "name": "stderr",
     "output_type": "stream",
     "text": [
      "Processing cleaned_chunk_0:  29%|████████▍                    | 2926/10000 [10:26<51:06,  2.31row/s]"
     ]
    },
    {
     "name": "stdout",
     "output_type": "stream",
     "text": [
      "Progress saved: cleaned_chunk_0, row 2926\r"
     ]
    },
    {
     "name": "stderr",
     "output_type": "stream",
     "text": [
      "Processing cleaned_chunk_0:  29%|███████▉                   | 2927/10000 [10:27<1:03:33,  1.85row/s]"
     ]
    },
    {
     "name": "stdout",
     "output_type": "stream",
     "text": [
      "Progress saved: cleaned_chunk_0, row 2927\r"
     ]
    },
    {
     "name": "stderr",
     "output_type": "stream",
     "text": [
      "Processing cleaned_chunk_0:  29%|███████▉                   | 2928/10000 [10:28<1:05:22,  1.80row/s]"
     ]
    },
    {
     "name": "stdout",
     "output_type": "stream",
     "text": [
      "Progress saved: cleaned_chunk_0, row 2928\r"
     ]
    },
    {
     "name": "stderr",
     "output_type": "stream",
     "text": [
      "Processing cleaned_chunk_0:  29%|███████▉                   | 2929/10000 [10:28<1:01:07,  1.93row/s]"
     ]
    },
    {
     "name": "stdout",
     "output_type": "stream",
     "text": [
      "Progress saved: cleaned_chunk_0, row 2930\r"
     ]
    },
    {
     "name": "stderr",
     "output_type": "stream",
     "text": [
      "Processing cleaned_chunk_0:  29%|████████▍                    | 2931/10000 [10:29<46:40,  2.52row/s]"
     ]
    },
    {
     "name": "stdout",
     "output_type": "stream",
     "text": [
      "Progress saved: cleaned_chunk_0, row 2931\r"
     ]
    },
    {
     "name": "stderr",
     "output_type": "stream",
     "text": [
      "Processing cleaned_chunk_0:  29%|████████▌                    | 2932/10000 [10:29<44:23,  2.65row/s]"
     ]
    },
    {
     "name": "stdout",
     "output_type": "stream",
     "text": [
      "Progress saved: cleaned_chunk_0, row 2932\r"
     ]
    },
    {
     "name": "stderr",
     "output_type": "stream",
     "text": [
      "Processing cleaned_chunk_0:  29%|████████▌                    | 2933/10000 [10:29<52:14,  2.25row/s]"
     ]
    },
    {
     "name": "stdout",
     "output_type": "stream",
     "text": [
      "Progress saved: cleaned_chunk_0, row 2934\r"
     ]
    },
    {
     "name": "stderr",
     "output_type": "stream",
     "text": [
      "Processing cleaned_chunk_0:  29%|███████▉                   | 2935/10000 [10:31<1:00:42,  1.94row/s]"
     ]
    },
    {
     "name": "stdout",
     "output_type": "stream",
     "text": [
      "Progress saved: cleaned_chunk_0, row 2935\r"
     ]
    },
    {
     "name": "stderr",
     "output_type": "stream",
     "text": [
      "Processing cleaned_chunk_0:  29%|███████▉                   | 2936/10000 [10:31<1:00:12,  1.96row/s]"
     ]
    },
    {
     "name": "stdout",
     "output_type": "stream",
     "text": [
      "Progress saved: cleaned_chunk_0, row 2936\r"
     ]
    },
    {
     "name": "stderr",
     "output_type": "stream",
     "text": [
      "Processing cleaned_chunk_0:  29%|███████▉                   | 2937/10000 [10:32<1:00:31,  1.94row/s]"
     ]
    },
    {
     "name": "stdout",
     "output_type": "stream",
     "text": [
      "Progress saved: cleaned_chunk_0, row 2937\r"
     ]
    },
    {
     "name": "stderr",
     "output_type": "stream",
     "text": [
      "Processing cleaned_chunk_0:  29%|████████▌                    | 2938/10000 [10:32<57:16,  2.06row/s]"
     ]
    },
    {
     "name": "stdout",
     "output_type": "stream",
     "text": [
      "Progress saved: cleaned_chunk_0, row 2938\r"
     ]
    },
    {
     "name": "stderr",
     "output_type": "stream",
     "text": [
      "Processing cleaned_chunk_0:  29%|████████▌                    | 2939/10000 [10:32<51:38,  2.28row/s]"
     ]
    },
    {
     "name": "stdout",
     "output_type": "stream",
     "text": [
      "Progress saved: cleaned_chunk_0, row 2939\r"
     ]
    },
    {
     "name": "stderr",
     "output_type": "stream",
     "text": [
      "Processing cleaned_chunk_0:  29%|████████▌                    | 2940/10000 [10:33<52:17,  2.25row/s]"
     ]
    },
    {
     "name": "stdout",
     "output_type": "stream",
     "text": [
      "Progress saved: cleaned_chunk_0, row 2940\r"
     ]
    },
    {
     "name": "stderr",
     "output_type": "stream",
     "text": [
      "Processing cleaned_chunk_0:  29%|████████▌                    | 2941/10000 [10:33<50:07,  2.35row/s]"
     ]
    },
    {
     "name": "stdout",
     "output_type": "stream",
     "text": [
      "Progress saved: cleaned_chunk_0, row 2941\r"
     ]
    },
    {
     "name": "stderr",
     "output_type": "stream",
     "text": [
      "Processing cleaned_chunk_0:  29%|████████▌                    | 2942/10000 [10:34<49:45,  2.36row/s]"
     ]
    },
    {
     "name": "stdout",
     "output_type": "stream",
     "text": [
      "Progress saved: cleaned_chunk_0, row 2943\r"
     ]
    },
    {
     "name": "stderr",
     "output_type": "stream",
     "text": [
      "Processing cleaned_chunk_0:  29%|████████▌                    | 2945/10000 [10:34<30:00,  3.92row/s]"
     ]
    },
    {
     "name": "stdout",
     "output_type": "stream",
     "text": [
      "Progress saved: cleaned_chunk_0, row 2945\r"
     ]
    },
    {
     "name": "stderr",
     "output_type": "stream",
     "text": [
      "Processing cleaned_chunk_0:  29%|████████▌                    | 2946/10000 [10:34<26:34,  4.42row/s]"
     ]
    },
    {
     "name": "stdout",
     "output_type": "stream",
     "text": [
      "Progress saved: cleaned_chunk_0, row 2946\r"
     ]
    },
    {
     "name": "stderr",
     "output_type": "stream",
     "text": [
      "Processing cleaned_chunk_0:  29%|████████▌                    | 2947/10000 [10:34<28:02,  4.19row/s]"
     ]
    },
    {
     "name": "stdout",
     "output_type": "stream",
     "text": [
      "Progress saved: cleaned_chunk_0, row 2947\r"
     ]
    },
    {
     "name": "stderr",
     "output_type": "stream",
     "text": [
      "Processing cleaned_chunk_0:  29%|████████▌                    | 2948/10000 [10:35<27:57,  4.20row/s]"
     ]
    },
    {
     "name": "stdout",
     "output_type": "stream",
     "text": [
      "Progress saved: cleaned_chunk_0, row 2948\r"
     ]
    },
    {
     "name": "stderr",
     "output_type": "stream",
     "text": [
      "Processing cleaned_chunk_0:  29%|████████▌                    | 2949/10000 [10:35<30:40,  3.83row/s]"
     ]
    },
    {
     "name": "stdout",
     "output_type": "stream",
     "text": [
      "Progress saved: cleaned_chunk_0, row 2949\r"
     ]
    },
    {
     "name": "stderr",
     "output_type": "stream",
     "text": [
      "Processing cleaned_chunk_0:  30%|████████▌                    | 2950/10000 [10:35<29:22,  4.00row/s]"
     ]
    },
    {
     "name": "stdout",
     "output_type": "stream",
     "text": [
      "Progress saved: cleaned_chunk_0, row 2950\r"
     ]
    },
    {
     "name": "stderr",
     "output_type": "stream",
     "text": [
      "Processing cleaned_chunk_0:  30%|████████▌                    | 2951/10000 [10:36<36:54,  3.18row/s]"
     ]
    },
    {
     "name": "stdout",
     "output_type": "stream",
     "text": [
      "Progress saved: cleaned_chunk_0, row 2951\r"
     ]
    },
    {
     "name": "stderr",
     "output_type": "stream",
     "text": [
      "Processing cleaned_chunk_0:  30%|████████▌                    | 2952/10000 [10:36<33:48,  3.47row/s]"
     ]
    },
    {
     "name": "stdout",
     "output_type": "stream",
     "text": [
      "Progress saved: cleaned_chunk_0, row 2952\r"
     ]
    },
    {
     "name": "stderr",
     "output_type": "stream",
     "text": [
      "Processing cleaned_chunk_0:  30%|████████▌                    | 2954/10000 [10:36<27:33,  4.26row/s]"
     ]
    },
    {
     "name": "stdout",
     "output_type": "stream",
     "text": [
      "Progress saved: cleaned_chunk_0, row 2954\r"
     ]
    },
    {
     "name": "stderr",
     "output_type": "stream",
     "text": [
      "Processing cleaned_chunk_0:  30%|████████▌                    | 2956/10000 [10:37<28:03,  4.18row/s]"
     ]
    },
    {
     "name": "stdout",
     "output_type": "stream",
     "text": [
      "Progress saved: cleaned_chunk_0, row 2956\r"
     ]
    },
    {
     "name": "stderr",
     "output_type": "stream",
     "text": [
      "Processing cleaned_chunk_0:  30%|████████▌                    | 2957/10000 [10:37<28:22,  4.14row/s]"
     ]
    },
    {
     "name": "stdout",
     "output_type": "stream",
     "text": [
      "Progress saved: cleaned_chunk_0, row 2957\r"
     ]
    },
    {
     "name": "stderr",
     "output_type": "stream",
     "text": [
      "Processing cleaned_chunk_0:  30%|████████▌                    | 2958/10000 [10:37<27:35,  4.25row/s]"
     ]
    },
    {
     "name": "stdout",
     "output_type": "stream",
     "text": [
      "Progress saved: cleaned_chunk_0, row 2958\r"
     ]
    },
    {
     "name": "stderr",
     "output_type": "stream",
     "text": [
      "Processing cleaned_chunk_0:  30%|████████▌                    | 2959/10000 [10:38<27:26,  4.28row/s]"
     ]
    },
    {
     "name": "stdout",
     "output_type": "stream",
     "text": [
      "Progress saved: cleaned_chunk_0, row 2959\r"
     ]
    },
    {
     "name": "stderr",
     "output_type": "stream",
     "text": [
      "Processing cleaned_chunk_0:  30%|████████▌                    | 2960/10000 [10:38<27:29,  4.27row/s]"
     ]
    },
    {
     "name": "stdout",
     "output_type": "stream",
     "text": [
      "Progress saved: cleaned_chunk_0, row 2960\r"
     ]
    },
    {
     "name": "stderr",
     "output_type": "stream",
     "text": [
      "Processing cleaned_chunk_0:  30%|████████▌                    | 2961/10000 [10:38<27:46,  4.22row/s]"
     ]
    },
    {
     "name": "stdout",
     "output_type": "stream",
     "text": [
      "Progress saved: cleaned_chunk_0, row 2961\r"
     ]
    },
    {
     "name": "stderr",
     "output_type": "stream",
     "text": [
      "Processing cleaned_chunk_0:  30%|████████▌                    | 2962/10000 [10:38<29:20,  4.00row/s]"
     ]
    },
    {
     "name": "stdout",
     "output_type": "stream",
     "text": [
      "Progress saved: cleaned_chunk_0, row 2962\r"
     ]
    },
    {
     "name": "stderr",
     "output_type": "stream",
     "text": [
      "Processing cleaned_chunk_0:  30%|████████▌                    | 2963/10000 [10:39<34:28,  3.40row/s]"
     ]
    },
    {
     "name": "stdout",
     "output_type": "stream",
     "text": [
      "Progress saved: cleaned_chunk_0, row 2963\r"
     ]
    },
    {
     "name": "stderr",
     "output_type": "stream",
     "text": [
      "Processing cleaned_chunk_0:  30%|████████▌                    | 2964/10000 [10:39<33:34,  3.49row/s]"
     ]
    },
    {
     "name": "stdout",
     "output_type": "stream",
     "text": [
      "Progress saved: cleaned_chunk_0, row 2964\r"
     ]
    },
    {
     "name": "stderr",
     "output_type": "stream",
     "text": [
      "Processing cleaned_chunk_0:  30%|████████▌                    | 2965/10000 [10:39<31:23,  3.74row/s]"
     ]
    },
    {
     "name": "stdout",
     "output_type": "stream",
     "text": [
      "Progress saved: cleaned_chunk_0, row 2966\r"
     ]
    },
    {
     "name": "stderr",
     "output_type": "stream",
     "text": [
      "Processing cleaned_chunk_0:  30%|████████▌                    | 2968/10000 [10:40<22:43,  5.16row/s]"
     ]
    },
    {
     "name": "stdout",
     "output_type": "stream",
     "text": [
      "Progress saved: cleaned_chunk_0, row 2968\r"
     ]
    },
    {
     "name": "stderr",
     "output_type": "stream",
     "text": [
      "Processing cleaned_chunk_0:  30%|████████▌                    | 2969/10000 [10:40<22:19,  5.25row/s]"
     ]
    },
    {
     "name": "stdout",
     "output_type": "stream",
     "text": [
      "Progress saved: cleaned_chunk_0, row 2969\r"
     ]
    },
    {
     "name": "stderr",
     "output_type": "stream",
     "text": [
      "Processing cleaned_chunk_0:  30%|████████▌                    | 2970/10000 [10:40<23:31,  4.98row/s]"
     ]
    },
    {
     "name": "stdout",
     "output_type": "stream",
     "text": [
      "Progress saved: cleaned_chunk_0, row 2971\r"
     ]
    },
    {
     "name": "stderr",
     "output_type": "stream",
     "text": [
      "Processing cleaned_chunk_0:  30%|████████▌                    | 2972/10000 [10:40<21:44,  5.39row/s]"
     ]
    },
    {
     "name": "stdout",
     "output_type": "stream",
     "text": [
      "Progress saved: cleaned_chunk_0, row 2972\r"
     ]
    },
    {
     "name": "stderr",
     "output_type": "stream",
     "text": [
      "Processing cleaned_chunk_0:  30%|████████▌                    | 2973/10000 [10:41<31:25,  3.73row/s]"
     ]
    },
    {
     "name": "stdout",
     "output_type": "stream",
     "text": [
      "Progress saved: cleaned_chunk_0, row 2973\r"
     ]
    },
    {
     "name": "stderr",
     "output_type": "stream",
     "text": [
      "Processing cleaned_chunk_0:  30%|████████▌                    | 2974/10000 [10:41<34:27,  3.40row/s]"
     ]
    },
    {
     "name": "stdout",
     "output_type": "stream",
     "text": [
      "Progress saved: cleaned_chunk_0, row 2974\r"
     ]
    },
    {
     "name": "stderr",
     "output_type": "stream",
     "text": [
      "Processing cleaned_chunk_0:  30%|████████▋                    | 2975/10000 [10:42<38:04,  3.08row/s]"
     ]
    },
    {
     "name": "stdout",
     "output_type": "stream",
     "text": [
      "Progress saved: cleaned_chunk_0, row 2975\r"
     ]
    },
    {
     "name": "stderr",
     "output_type": "stream",
     "text": [
      "Processing cleaned_chunk_0:  30%|████████▋                    | 2976/10000 [10:42<46:39,  2.51row/s]"
     ]
    },
    {
     "name": "stdout",
     "output_type": "stream",
     "text": [
      "Progress saved: cleaned_chunk_0, row 2976\r"
     ]
    },
    {
     "name": "stderr",
     "output_type": "stream",
     "text": [
      "Processing cleaned_chunk_0:  30%|████████▋                    | 2977/10000 [10:43<42:38,  2.75row/s]"
     ]
    },
    {
     "name": "stdout",
     "output_type": "stream",
     "text": [
      "Progress saved: cleaned_chunk_0, row 2977\r"
     ]
    },
    {
     "name": "stderr",
     "output_type": "stream",
     "text": [
      "Processing cleaned_chunk_0:  30%|████████▋                    | 2978/10000 [10:43<37:54,  3.09row/s]"
     ]
    },
    {
     "name": "stdout",
     "output_type": "stream",
     "text": [
      "Progress saved: cleaned_chunk_0, row 2978\r"
     ]
    },
    {
     "name": "stderr",
     "output_type": "stream",
     "text": [
      "Processing cleaned_chunk_0:  30%|████████▋                    | 2979/10000 [10:43<33:46,  3.46row/s]"
     ]
    },
    {
     "name": "stdout",
     "output_type": "stream",
     "text": [
      "Progress saved: cleaned_chunk_0, row 2979\r"
     ]
    },
    {
     "name": "stderr",
     "output_type": "stream",
     "text": [
      "Processing cleaned_chunk_0:  30%|████████▋                    | 2980/10000 [10:43<31:51,  3.67row/s]"
     ]
    },
    {
     "name": "stdout",
     "output_type": "stream",
     "text": [
      "Progress saved: cleaned_chunk_0, row 2980\r"
     ]
    },
    {
     "name": "stderr",
     "output_type": "stream",
     "text": [
      "Processing cleaned_chunk_0:  30%|████████▋                    | 2981/10000 [10:43<31:17,  3.74row/s]"
     ]
    },
    {
     "name": "stdout",
     "output_type": "stream",
     "text": [
      "Progress saved: cleaned_chunk_0, row 2982\r"
     ]
    },
    {
     "name": "stderr",
     "output_type": "stream",
     "text": [
      "Processing cleaned_chunk_0:  30%|████████▋                    | 2983/10000 [10:44<30:48,  3.80row/s]"
     ]
    },
    {
     "name": "stdout",
     "output_type": "stream",
     "text": [
      "Progress saved: cleaned_chunk_0, row 2983\r"
     ]
    },
    {
     "name": "stderr",
     "output_type": "stream",
     "text": [
      "Processing cleaned_chunk_0:  30%|████████▋                    | 2984/10000 [10:44<31:00,  3.77row/s]"
     ]
    },
    {
     "name": "stdout",
     "output_type": "stream",
     "text": [
      "Progress saved: cleaned_chunk_0, row 2984\r"
     ]
    },
    {
     "name": "stderr",
     "output_type": "stream",
     "text": [
      "Processing cleaned_chunk_0:  30%|████████▋                    | 2985/10000 [10:45<35:54,  3.26row/s]"
     ]
    },
    {
     "name": "stdout",
     "output_type": "stream",
     "text": [
      "Progress saved: cleaned_chunk_0, row 2985\r"
     ]
    },
    {
     "name": "stderr",
     "output_type": "stream",
     "text": [
      "Processing cleaned_chunk_0:  30%|████████▋                    | 2986/10000 [10:45<33:15,  3.51row/s]"
     ]
    },
    {
     "name": "stdout",
     "output_type": "stream",
     "text": [
      "Progress saved: cleaned_chunk_0, row 2987\r"
     ]
    },
    {
     "name": "stderr",
     "output_type": "stream",
     "text": [
      "Processing cleaned_chunk_0:  30%|████████▋                    | 2989/10000 [10:45<23:43,  4.93row/s]"
     ]
    },
    {
     "name": "stdout",
     "output_type": "stream",
     "text": [
      "Progress saved: cleaned_chunk_0, row 2989\r"
     ]
    },
    {
     "name": "stderr",
     "output_type": "stream",
     "text": [
      "Processing cleaned_chunk_0:  30%|████████▋                    | 2990/10000 [10:45<21:33,  5.42row/s]"
     ]
    },
    {
     "name": "stdout",
     "output_type": "stream",
     "text": [
      "Progress saved: cleaned_chunk_0, row 2990\r"
     ]
    },
    {
     "name": "stderr",
     "output_type": "stream",
     "text": [
      "Processing cleaned_chunk_0:  30%|████████▋                    | 2991/10000 [10:46<22:31,  5.19row/s]"
     ]
    },
    {
     "name": "stdout",
     "output_type": "stream",
     "text": [
      "Progress saved: cleaned_chunk_0, row 2992\r"
     ]
    },
    {
     "name": "stderr",
     "output_type": "stream",
     "text": [
      "Processing cleaned_chunk_0:  30%|████████▋                    | 2994/10000 [10:46<20:05,  5.81row/s]"
     ]
    },
    {
     "name": "stdout",
     "output_type": "stream",
     "text": [
      "Progress saved: cleaned_chunk_0, row 2994\r"
     ]
    },
    {
     "name": "stderr",
     "output_type": "stream",
     "text": [
      "Processing cleaned_chunk_0:  30%|████████▋                    | 2995/10000 [10:46<20:03,  5.82row/s]"
     ]
    },
    {
     "name": "stdout",
     "output_type": "stream",
     "text": [
      "Progress saved: cleaned_chunk_0, row 2996\r"
     ]
    },
    {
     "name": "stderr",
     "output_type": "stream",
     "text": [
      "Processing cleaned_chunk_0:  30%|████████▋                    | 2997/10000 [10:47<24:43,  4.72row/s]"
     ]
    },
    {
     "name": "stdout",
     "output_type": "stream",
     "text": [
      "Progress saved: cleaned_chunk_0, row 2997\r"
     ]
    },
    {
     "name": "stderr",
     "output_type": "stream",
     "text": [
      "Processing cleaned_chunk_0:  30%|████████▋                    | 2999/10000 [10:47<22:08,  5.27row/s]"
     ]
    },
    {
     "name": "stdout",
     "output_type": "stream",
     "text": [
      "Progress saved: cleaned_chunk_0, row 2999\r"
     ]
    },
    {
     "name": "stderr",
     "output_type": "stream",
     "text": [
      "Processing cleaned_chunk_0:  30%|████████▋                    | 3000/10000 [10:47<20:08,  5.79row/s]"
     ]
    },
    {
     "name": "stdout",
     "output_type": "stream",
     "text": [
      "Progress saved: cleaned_chunk_0, row 3000\r"
     ]
    },
    {
     "name": "stderr",
     "output_type": "stream",
     "text": [
      "Processing cleaned_chunk_0:  30%|████████▋                    | 3001/10000 [10:48<23:39,  4.93row/s]"
     ]
    },
    {
     "name": "stdout",
     "output_type": "stream",
     "text": [
      "Progress saved: cleaned_chunk_0, row 3001\r"
     ]
    },
    {
     "name": "stderr",
     "output_type": "stream",
     "text": [
      "Processing cleaned_chunk_0:  30%|████████▋                    | 3002/10000 [10:48<25:08,  4.64row/s]"
     ]
    },
    {
     "name": "stdout",
     "output_type": "stream",
     "text": [
      "Progress saved: cleaned_chunk_0, row 3003\r"
     ]
    },
    {
     "name": "stderr",
     "output_type": "stream",
     "text": [
      "Processing cleaned_chunk_0:  30%|████████▋                    | 3004/10000 [10:48<23:11,  5.03row/s]"
     ]
    },
    {
     "name": "stdout",
     "output_type": "stream",
     "text": [
      "Progress saved: cleaned_chunk_0, row 3005\r"
     ]
    },
    {
     "name": "stderr",
     "output_type": "stream",
     "text": [
      "Processing cleaned_chunk_0:  30%|████████▋                    | 3007/10000 [10:49<21:04,  5.53row/s]"
     ]
    },
    {
     "name": "stdout",
     "output_type": "stream",
     "text": [
      "Progress saved: cleaned_chunk_0, row 3007\r"
     ]
    },
    {
     "name": "stderr",
     "output_type": "stream",
     "text": [
      "Processing cleaned_chunk_0:  30%|████████▋                    | 3008/10000 [10:49<19:26,  5.99row/s]"
     ]
    },
    {
     "name": "stdout",
     "output_type": "stream",
     "text": [
      "Progress saved: cleaned_chunk_0, row 3009\r"
     ]
    },
    {
     "name": "stderr",
     "output_type": "stream",
     "text": [
      "Processing cleaned_chunk_0:  30%|████████▋                    | 3011/10000 [10:49<18:41,  6.23row/s]"
     ]
    },
    {
     "name": "stdout",
     "output_type": "stream",
     "text": [
      "Progress saved: cleaned_chunk_0, row 3011\r"
     ]
    },
    {
     "name": "stderr",
     "output_type": "stream",
     "text": [
      "Processing cleaned_chunk_0:  30%|████████▋                    | 3012/10000 [10:49<18:19,  6.36row/s]"
     ]
    },
    {
     "name": "stdout",
     "output_type": "stream",
     "text": [
      "Progress saved: cleaned_chunk_0, row 3012\r"
     ]
    },
    {
     "name": "stderr",
     "output_type": "stream",
     "text": [
      "Processing cleaned_chunk_0:  30%|████████▋                    | 3013/10000 [10:50<27:20,  4.26row/s]"
     ]
    },
    {
     "name": "stdout",
     "output_type": "stream",
     "text": [
      "Progress saved: cleaned_chunk_0, row 3013\r"
     ]
    },
    {
     "name": "stderr",
     "output_type": "stream",
     "text": [
      "Processing cleaned_chunk_0:  30%|████████▋                    | 3014/10000 [10:50<28:58,  4.02row/s]"
     ]
    },
    {
     "name": "stdout",
     "output_type": "stream",
     "text": [
      "Progress saved: cleaned_chunk_0, row 3015\r"
     ]
    },
    {
     "name": "stderr",
     "output_type": "stream",
     "text": [
      "Processing cleaned_chunk_0:  30%|████████▋                    | 3017/10000 [10:51<24:10,  4.81row/s]"
     ]
    },
    {
     "name": "stdout",
     "output_type": "stream",
     "text": [
      "Progress saved: cleaned_chunk_0, row 3017\r"
     ]
    },
    {
     "name": "stderr",
     "output_type": "stream",
     "text": [
      "Processing cleaned_chunk_0:  30%|████████▊                    | 3018/10000 [10:51<22:23,  5.20row/s]"
     ]
    },
    {
     "name": "stdout",
     "output_type": "stream",
     "text": [
      "Progress saved: cleaned_chunk_0, row 3018\r"
     ]
    },
    {
     "name": "stderr",
     "output_type": "stream",
     "text": [
      "Processing cleaned_chunk_0:  30%|████████▊                    | 3019/10000 [10:51<30:09,  3.86row/s]"
     ]
    },
    {
     "name": "stdout",
     "output_type": "stream",
     "text": [
      "Progress saved: cleaned_chunk_0, row 3019\r"
     ]
    },
    {
     "name": "stderr",
     "output_type": "stream",
     "text": [
      "Processing cleaned_chunk_0:  30%|████████▊                    | 3020/10000 [10:52<30:13,  3.85row/s]"
     ]
    },
    {
     "name": "stdout",
     "output_type": "stream",
     "text": [
      "Progress saved: cleaned_chunk_0, row 3020\r"
     ]
    },
    {
     "name": "stderr",
     "output_type": "stream",
     "text": [
      "Processing cleaned_chunk_0:  30%|████████▊                    | 3021/10000 [10:52<36:00,  3.23row/s]"
     ]
    },
    {
     "name": "stdout",
     "output_type": "stream",
     "text": [
      "Progress saved: cleaned_chunk_0, row 3021\r"
     ]
    },
    {
     "name": "stderr",
     "output_type": "stream",
     "text": [
      "Processing cleaned_chunk_0:  30%|████████▊                    | 3023/10000 [10:53<31:36,  3.68row/s]"
     ]
    },
    {
     "name": "stdout",
     "output_type": "stream",
     "text": [
      "Progress saved: cleaned_chunk_0, row 3023\r"
     ]
    },
    {
     "name": "stderr",
     "output_type": "stream",
     "text": [
      "Processing cleaned_chunk_0:  30%|████████▊                    | 3024/10000 [10:53<30:00,  3.87row/s]"
     ]
    },
    {
     "name": "stdout",
     "output_type": "stream",
     "text": [
      "Progress saved: cleaned_chunk_0, row 3025\r"
     ]
    },
    {
     "name": "stderr",
     "output_type": "stream",
     "text": [
      "Processing cleaned_chunk_0:  30%|████████▊                    | 3027/10000 [10:53<23:38,  4.92row/s]"
     ]
    },
    {
     "name": "stdout",
     "output_type": "stream",
     "text": [
      "Progress saved: cleaned_chunk_0, row 3027\r"
     ]
    },
    {
     "name": "stderr",
     "output_type": "stream",
     "text": [
      "Processing cleaned_chunk_0:  30%|████████▊                    | 3028/10000 [10:53<21:41,  5.36row/s]"
     ]
    },
    {
     "name": "stdout",
     "output_type": "stream",
     "text": [
      "Progress saved: cleaned_chunk_0, row 3028\r"
     ]
    },
    {
     "name": "stderr",
     "output_type": "stream",
     "text": [
      "Processing cleaned_chunk_0:  30%|████████▊                    | 3029/10000 [10:54<24:14,  4.79row/s]"
     ]
    },
    {
     "name": "stdout",
     "output_type": "stream",
     "text": [
      "Progress saved: cleaned_chunk_0, row 3029\r"
     ]
    },
    {
     "name": "stderr",
     "output_type": "stream",
     "text": [
      "Processing cleaned_chunk_0:  30%|████████▊                    | 3030/10000 [10:54<26:09,  4.44row/s]"
     ]
    },
    {
     "name": "stdout",
     "output_type": "stream",
     "text": [
      "Progress saved: cleaned_chunk_0, row 3030\r"
     ]
    },
    {
     "name": "stderr",
     "output_type": "stream",
     "text": [
      "Processing cleaned_chunk_0:  30%|████████▊                    | 3032/10000 [10:54<26:08,  4.44row/s]"
     ]
    },
    {
     "name": "stdout",
     "output_type": "stream",
     "text": [
      "Progress saved: cleaned_chunk_0, row 3032\r"
     ]
    },
    {
     "name": "stderr",
     "output_type": "stream",
     "text": [
      "Processing cleaned_chunk_0:  30%|████████▊                    | 3034/10000 [10:55<22:41,  5.12row/s]"
     ]
    },
    {
     "name": "stdout",
     "output_type": "stream",
     "text": [
      "Progress saved: cleaned_chunk_0, row 3034\r"
     ]
    },
    {
     "name": "stderr",
     "output_type": "stream",
     "text": [
      "Processing cleaned_chunk_0:  30%|████████▊                    | 3036/10000 [10:55<20:26,  5.68row/s]"
     ]
    },
    {
     "name": "stdout",
     "output_type": "stream",
     "text": [
      "Progress saved: cleaned_chunk_0, row 3036\r"
     ]
    },
    {
     "name": "stderr",
     "output_type": "stream",
     "text": [
      "Processing cleaned_chunk_0:  30%|████████▊                    | 3037/10000 [10:55<20:35,  5.64row/s]"
     ]
    },
    {
     "name": "stdout",
     "output_type": "stream",
     "text": [
      "Progress saved: cleaned_chunk_0, row 3037\r"
     ]
    },
    {
     "name": "stderr",
     "output_type": "stream",
     "text": [
      "Processing cleaned_chunk_0:  30%|████████▊                    | 3039/10000 [10:56<25:31,  4.55row/s]"
     ]
    },
    {
     "name": "stdout",
     "output_type": "stream",
     "text": [
      "Progress saved: cleaned_chunk_0, row 3039\r"
     ]
    },
    {
     "name": "stderr",
     "output_type": "stream",
     "text": [
      "Processing cleaned_chunk_0:  30%|████████▊                    | 3041/10000 [10:56<23:06,  5.02row/s]"
     ]
    },
    {
     "name": "stdout",
     "output_type": "stream",
     "text": [
      "Progress saved: cleaned_chunk_0, row 3041\r"
     ]
    },
    {
     "name": "stderr",
     "output_type": "stream",
     "text": [
      "Processing cleaned_chunk_0:  30%|████████▊                    | 3043/10000 [10:57<20:44,  5.59row/s]"
     ]
    },
    {
     "name": "stdout",
     "output_type": "stream",
     "text": [
      "Progress saved: cleaned_chunk_0, row 3043\r"
     ]
    },
    {
     "name": "stderr",
     "output_type": "stream",
     "text": [
      "Processing cleaned_chunk_0:  30%|████████▊                    | 3045/10000 [10:57<18:32,  6.25row/s]"
     ]
    },
    {
     "name": "stdout",
     "output_type": "stream",
     "text": [
      "Progress saved: cleaned_chunk_0, row 3045\r"
     ]
    },
    {
     "name": "stderr",
     "output_type": "stream",
     "text": [
      "Processing cleaned_chunk_0:  30%|████████▊                    | 3047/10000 [10:57<18:34,  6.24row/s]"
     ]
    },
    {
     "name": "stdout",
     "output_type": "stream",
     "text": [
      "Progress saved: cleaned_chunk_0, row 3047\r"
     ]
    },
    {
     "name": "stderr",
     "output_type": "stream",
     "text": [
      "Processing cleaned_chunk_0:  30%|████████▊                    | 3049/10000 [10:57<18:07,  6.39row/s]"
     ]
    },
    {
     "name": "stdout",
     "output_type": "stream",
     "text": [
      "Progress saved: cleaned_chunk_0, row 3049\r"
     ]
    },
    {
     "name": "stderr",
     "output_type": "stream",
     "text": [
      "Processing cleaned_chunk_0:  31%|████████▊                    | 3051/10000 [10:58<18:31,  6.25row/s]"
     ]
    },
    {
     "name": "stdout",
     "output_type": "stream",
     "text": [
      "Progress saved: cleaned_chunk_0, row 3051\r"
     ]
    },
    {
     "name": "stderr",
     "output_type": "stream",
     "text": [
      "Processing cleaned_chunk_0:  31%|████████▊                    | 3053/10000 [10:58<21:51,  5.30row/s]"
     ]
    },
    {
     "name": "stdout",
     "output_type": "stream",
     "text": [
      "Progress saved: cleaned_chunk_0, row 3053\r"
     ]
    },
    {
     "name": "stderr",
     "output_type": "stream",
     "text": [
      "Processing cleaned_chunk_0:  31%|████████▊                    | 3055/10000 [10:59<20:03,  5.77row/s]"
     ]
    },
    {
     "name": "stdout",
     "output_type": "stream",
     "text": [
      "Progress saved: cleaned_chunk_0, row 3055\r"
     ]
    },
    {
     "name": "stderr",
     "output_type": "stream",
     "text": [
      "Processing cleaned_chunk_0:  31%|████████▊                    | 3057/10000 [10:59<19:29,  5.94row/s]"
     ]
    },
    {
     "name": "stdout",
     "output_type": "stream",
     "text": [
      "Progress saved: cleaned_chunk_0, row 3057\r"
     ]
    },
    {
     "name": "stderr",
     "output_type": "stream",
     "text": [
      "Processing cleaned_chunk_0:  31%|████████▊                    | 3059/10000 [10:59<20:04,  5.76row/s]"
     ]
    },
    {
     "name": "stdout",
     "output_type": "stream",
     "text": [
      "Progress saved: cleaned_chunk_0, row 3059\r"
     ]
    },
    {
     "name": "stderr",
     "output_type": "stream",
     "text": [
      "Processing cleaned_chunk_0:  31%|████████▊                    | 3060/10000 [11:00<25:01,  4.62row/s]"
     ]
    },
    {
     "name": "stdout",
     "output_type": "stream",
     "text": [
      "Progress saved: cleaned_chunk_0, row 3060\r"
     ]
    },
    {
     "name": "stderr",
     "output_type": "stream",
     "text": [
      "Processing cleaned_chunk_0:  31%|████████▉                    | 3062/10000 [11:00<26:27,  4.37row/s]"
     ]
    },
    {
     "name": "stdout",
     "output_type": "stream",
     "text": [
      "Progress saved: cleaned_chunk_0, row 3062\r"
     ]
    },
    {
     "name": "stderr",
     "output_type": "stream",
     "text": [
      "Processing cleaned_chunk_0:  31%|████████▉                    | 3064/10000 [11:00<22:27,  5.15row/s]"
     ]
    },
    {
     "name": "stdout",
     "output_type": "stream",
     "text": [
      "Progress saved: cleaned_chunk_0, row 3064\r"
     ]
    },
    {
     "name": "stderr",
     "output_type": "stream",
     "text": [
      "Processing cleaned_chunk_0:  31%|████████▉                    | 3065/10000 [11:01<21:23,  5.40row/s]"
     ]
    },
    {
     "name": "stdout",
     "output_type": "stream",
     "text": [
      "Progress saved: cleaned_chunk_0, row 3066\r"
     ]
    },
    {
     "name": "stderr",
     "output_type": "stream",
     "text": [
      "Processing cleaned_chunk_0:  31%|████████▉                    | 3067/10000 [11:01<23:14,  4.97row/s]"
     ]
    },
    {
     "name": "stdout",
     "output_type": "stream",
     "text": [
      "Progress saved: cleaned_chunk_0, row 3067\r"
     ]
    },
    {
     "name": "stderr",
     "output_type": "stream",
     "text": [
      "Processing cleaned_chunk_0:  31%|████████▉                    | 3069/10000 [11:02<28:39,  4.03row/s]"
     ]
    },
    {
     "name": "stdout",
     "output_type": "stream",
     "text": [
      "Progress saved: cleaned_chunk_0, row 3069\r"
     ]
    },
    {
     "name": "stderr",
     "output_type": "stream",
     "text": [
      "Processing cleaned_chunk_0:  31%|████████▉                    | 3071/10000 [11:02<24:07,  4.79row/s]"
     ]
    },
    {
     "name": "stdout",
     "output_type": "stream",
     "text": [
      "Progress saved: cleaned_chunk_0, row 3071\r"
     ]
    },
    {
     "name": "stderr",
     "output_type": "stream",
     "text": [
      "Processing cleaned_chunk_0:  31%|████████▉                    | 3073/10000 [11:02<22:16,  5.18row/s]"
     ]
    },
    {
     "name": "stdout",
     "output_type": "stream",
     "text": [
      "Progress saved: cleaned_chunk_0, row 3073\r"
     ]
    },
    {
     "name": "stderr",
     "output_type": "stream",
     "text": [
      "Processing cleaned_chunk_0:  31%|████████▉                    | 3074/10000 [11:03<21:06,  5.47row/s]"
     ]
    },
    {
     "name": "stdout",
     "output_type": "stream",
     "text": [
      "Progress saved: cleaned_chunk_0, row 3075\r"
     ]
    },
    {
     "name": "stderr",
     "output_type": "stream",
     "text": [
      "Processing cleaned_chunk_0:  31%|████████▉                    | 3076/10000 [11:03<20:57,  5.50row/s]"
     ]
    },
    {
     "name": "stdout",
     "output_type": "stream",
     "text": [
      "Progress saved: cleaned_chunk_0, row 3076\r"
     ]
    },
    {
     "name": "stderr",
     "output_type": "stream",
     "text": [
      "Processing cleaned_chunk_0:  31%|████████▉                    | 3077/10000 [11:03<25:10,  4.58row/s]"
     ]
    },
    {
     "name": "stdout",
     "output_type": "stream",
     "text": [
      "Progress saved: cleaned_chunk_0, row 3077\r"
     ]
    },
    {
     "name": "stderr",
     "output_type": "stream",
     "text": [
      "Processing cleaned_chunk_0:  31%|████████▉                    | 3078/10000 [11:03<25:57,  4.44row/s]"
     ]
    },
    {
     "name": "stdout",
     "output_type": "stream",
     "text": [
      "Progress saved: cleaned_chunk_0, row 3079\r"
     ]
    },
    {
     "name": "stderr",
     "output_type": "stream",
     "text": [
      "Processing cleaned_chunk_0:  31%|████████▉                    | 3081/10000 [11:04<21:58,  5.25row/s]"
     ]
    },
    {
     "name": "stdout",
     "output_type": "stream",
     "text": [
      "Progress saved: cleaned_chunk_0, row 3081\r"
     ]
    },
    {
     "name": "stderr",
     "output_type": "stream",
     "text": [
      "Processing cleaned_chunk_0:  31%|████████▉                    | 3082/10000 [11:04<20:03,  5.75row/s]"
     ]
    },
    {
     "name": "stdout",
     "output_type": "stream",
     "text": [
      "Progress saved: cleaned_chunk_0, row 3083\r"
     ]
    },
    {
     "name": "stderr",
     "output_type": "stream",
     "text": [
      "Processing cleaned_chunk_0:  31%|████████▉                    | 3085/10000 [11:05<19:44,  5.84row/s]"
     ]
    },
    {
     "name": "stdout",
     "output_type": "stream",
     "text": [
      "Progress saved: cleaned_chunk_0, row 3085\r"
     ]
    },
    {
     "name": "stderr",
     "output_type": "stream",
     "text": [
      "Processing cleaned_chunk_0:  31%|████████▉                    | 3086/10000 [11:05<23:45,  4.85row/s]"
     ]
    },
    {
     "name": "stdout",
     "output_type": "stream",
     "text": [
      "Progress saved: cleaned_chunk_0, row 3086\r"
     ]
    },
    {
     "name": "stderr",
     "output_type": "stream",
     "text": [
      "Processing cleaned_chunk_0:  31%|████████▉                    | 3088/10000 [11:05<23:38,  4.87row/s]"
     ]
    },
    {
     "name": "stdout",
     "output_type": "stream",
     "text": [
      "Progress saved: cleaned_chunk_0, row 3088\r"
     ]
    },
    {
     "name": "stderr",
     "output_type": "stream",
     "text": [
      "Processing cleaned_chunk_0:  31%|████████▉                    | 3090/10000 [11:06<21:18,  5.40row/s]"
     ]
    },
    {
     "name": "stdout",
     "output_type": "stream",
     "text": [
      "Progress saved: cleaned_chunk_0, row 3090\r"
     ]
    },
    {
     "name": "stderr",
     "output_type": "stream",
     "text": [
      "Processing cleaned_chunk_0:  31%|████████▉                    | 3092/10000 [11:06<20:15,  5.68row/s]"
     ]
    },
    {
     "name": "stdout",
     "output_type": "stream",
     "text": [
      "Progress saved: cleaned_chunk_0, row 3092\r"
     ]
    },
    {
     "name": "stderr",
     "output_type": "stream",
     "text": [
      "Processing cleaned_chunk_0:  31%|████████▉                    | 3093/10000 [11:06<19:37,  5.87row/s]"
     ]
    },
    {
     "name": "stdout",
     "output_type": "stream",
     "text": [
      "Progress saved: cleaned_chunk_0, row 3093\r"
     ]
    },
    {
     "name": "stderr",
     "output_type": "stream",
     "text": [
      "Processing cleaned_chunk_0:  31%|████████▉                    | 3094/10000 [11:06<21:29,  5.36row/s]"
     ]
    },
    {
     "name": "stdout",
     "output_type": "stream",
     "text": [
      "Progress saved: cleaned_chunk_0, row 3094\r"
     ]
    },
    {
     "name": "stderr",
     "output_type": "stream",
     "text": [
      "Processing cleaned_chunk_0:  31%|████████▉                    | 3095/10000 [11:07<26:17,  4.38row/s]"
     ]
    },
    {
     "name": "stdout",
     "output_type": "stream",
     "text": [
      "Progress saved: cleaned_chunk_0, row 3095\r"
     ]
    },
    {
     "name": "stderr",
     "output_type": "stream",
     "text": [
      "Processing cleaned_chunk_0:  31%|████████▉                    | 3097/10000 [11:07<24:26,  4.71row/s]"
     ]
    },
    {
     "name": "stdout",
     "output_type": "stream",
     "text": [
      "Progress saved: cleaned_chunk_0, row 3097\r"
     ]
    },
    {
     "name": "stderr",
     "output_type": "stream",
     "text": [
      "Processing cleaned_chunk_0:  31%|████████▉                    | 3098/10000 [11:07<23:46,  4.84row/s]"
     ]
    },
    {
     "name": "stdout",
     "output_type": "stream",
     "text": [
      "Progress saved: cleaned_chunk_0, row 3099\r"
     ]
    },
    {
     "name": "stderr",
     "output_type": "stream",
     "text": [
      "Processing cleaned_chunk_0:  31%|████████▉                    | 3101/10000 [11:08<21:36,  5.32row/s]"
     ]
    },
    {
     "name": "stdout",
     "output_type": "stream",
     "text": [
      "Progress saved: cleaned_chunk_0, row 3101\r"
     ]
    },
    {
     "name": "stderr",
     "output_type": "stream",
     "text": [
      "Processing cleaned_chunk_0:  31%|████████▉                    | 3103/10000 [11:08<19:49,  5.80row/s]"
     ]
    },
    {
     "name": "stdout",
     "output_type": "stream",
     "text": [
      "Progress saved: cleaned_chunk_0, row 3103\r"
     ]
    },
    {
     "name": "stderr",
     "output_type": "stream",
     "text": [
      "Processing cleaned_chunk_0:  31%|█████████                    | 3105/10000 [11:09<19:06,  6.02row/s]"
     ]
    },
    {
     "name": "stdout",
     "output_type": "stream",
     "text": [
      "Progress saved: cleaned_chunk_0, row 3105\r"
     ]
    },
    {
     "name": "stderr",
     "output_type": "stream",
     "text": [
      "Processing cleaned_chunk_0:  31%|█████████                    | 3107/10000 [11:09<19:47,  5.80row/s]"
     ]
    },
    {
     "name": "stdout",
     "output_type": "stream",
     "text": [
      "Progress saved: cleaned_chunk_0, row 3107\r"
     ]
    },
    {
     "name": "stderr",
     "output_type": "stream",
     "text": [
      "Processing cleaned_chunk_0:  31%|█████████                    | 3109/10000 [11:10<28:19,  4.05row/s]"
     ]
    },
    {
     "name": "stdout",
     "output_type": "stream",
     "text": [
      "Progress saved: cleaned_chunk_0, row 3109\r"
     ]
    },
    {
     "name": "stderr",
     "output_type": "stream",
     "text": [
      "Processing cleaned_chunk_0:  31%|█████████                    | 3110/10000 [11:10<24:53,  4.61row/s]"
     ]
    },
    {
     "name": "stdout",
     "output_type": "stream",
     "text": [
      "Progress saved: cleaned_chunk_0, row 3110\r"
     ]
    },
    {
     "name": "stderr",
     "output_type": "stream",
     "text": [
      "Processing cleaned_chunk_0:  31%|█████████                    | 3111/10000 [11:10<24:20,  4.72row/s]"
     ]
    },
    {
     "name": "stdout",
     "output_type": "stream",
     "text": [
      "Progress saved: cleaned_chunk_0, row 3111\r"
     ]
    },
    {
     "name": "stderr",
     "output_type": "stream",
     "text": [
      "Processing cleaned_chunk_0:  31%|█████████                    | 3112/10000 [11:10<27:01,  4.25row/s]"
     ]
    },
    {
     "name": "stdout",
     "output_type": "stream",
     "text": [
      "Progress saved: cleaned_chunk_0, row 3112\r"
     ]
    },
    {
     "name": "stderr",
     "output_type": "stream",
     "text": [
      "Processing cleaned_chunk_0:  31%|█████████                    | 3113/10000 [11:11<29:36,  3.88row/s]"
     ]
    },
    {
     "name": "stdout",
     "output_type": "stream",
     "text": [
      "Progress saved: cleaned_chunk_0, row 3113\r"
     ]
    },
    {
     "name": "stderr",
     "output_type": "stream",
     "text": [
      "Processing cleaned_chunk_0:  31%|█████████                    | 3114/10000 [11:11<28:49,  3.98row/s]"
     ]
    },
    {
     "name": "stdout",
     "output_type": "stream",
     "text": [
      "Progress saved: cleaned_chunk_0, row 3114\r"
     ]
    },
    {
     "name": "stderr",
     "output_type": "stream",
     "text": [
      "Processing cleaned_chunk_0:  31%|█████████                    | 3115/10000 [11:11<32:29,  3.53row/s]"
     ]
    },
    {
     "name": "stdout",
     "output_type": "stream",
     "text": [
      "Progress saved: cleaned_chunk_0, row 3115\r"
     ]
    },
    {
     "name": "stderr",
     "output_type": "stream",
     "text": [
      "Processing cleaned_chunk_0:  31%|█████████                    | 3116/10000 [11:11<33:19,  3.44row/s]"
     ]
    },
    {
     "name": "stdout",
     "output_type": "stream",
     "text": [
      "Progress saved: cleaned_chunk_0, row 3116\r"
     ]
    },
    {
     "name": "stderr",
     "output_type": "stream",
     "text": [
      "Processing cleaned_chunk_0:  31%|█████████                    | 3117/10000 [11:12<38:06,  3.01row/s]"
     ]
    },
    {
     "name": "stdout",
     "output_type": "stream",
     "text": [
      "Progress saved: cleaned_chunk_0, row 3117\r"
     ]
    },
    {
     "name": "stderr",
     "output_type": "stream",
     "text": [
      "Processing cleaned_chunk_0:  31%|█████████                    | 3118/10000 [11:12<42:42,  2.69row/s]"
     ]
    },
    {
     "name": "stdout",
     "output_type": "stream",
     "text": [
      "Progress saved: cleaned_chunk_0, row 3118\r"
     ]
    },
    {
     "name": "stderr",
     "output_type": "stream",
     "text": [
      "Processing cleaned_chunk_0:  31%|█████████                    | 3119/10000 [11:13<38:52,  2.95row/s]"
     ]
    },
    {
     "name": "stdout",
     "output_type": "stream",
     "text": [
      "Progress saved: cleaned_chunk_0, row 3119\r"
     ]
    },
    {
     "name": "stderr",
     "output_type": "stream",
     "text": [
      "Processing cleaned_chunk_0:  31%|█████████                    | 3120/10000 [11:13<44:00,  2.61row/s]"
     ]
    },
    {
     "name": "stdout",
     "output_type": "stream",
     "text": [
      "Progress saved: cleaned_chunk_0, row 3120\r"
     ]
    },
    {
     "name": "stderr",
     "output_type": "stream",
     "text": [
      "Processing cleaned_chunk_0:  31%|█████████                    | 3121/10000 [11:13<43:49,  2.62row/s]"
     ]
    },
    {
     "name": "stdout",
     "output_type": "stream",
     "text": [
      "Progress saved: cleaned_chunk_0, row 3121\r"
     ]
    },
    {
     "name": "stderr",
     "output_type": "stream",
     "text": [
      "Processing cleaned_chunk_0:  31%|█████████                    | 3122/10000 [11:14<42:16,  2.71row/s]"
     ]
    },
    {
     "name": "stdout",
     "output_type": "stream",
     "text": [
      "Progress saved: cleaned_chunk_0, row 3122\r"
     ]
    },
    {
     "name": "stderr",
     "output_type": "stream",
     "text": [
      "Processing cleaned_chunk_0:  31%|█████████                    | 3123/10000 [11:14<46:52,  2.45row/s]"
     ]
    },
    {
     "name": "stdout",
     "output_type": "stream",
     "text": [
      "Progress saved: cleaned_chunk_0, row 3123\r"
     ]
    },
    {
     "name": "stderr",
     "output_type": "stream",
     "text": [
      "Processing cleaned_chunk_0:  31%|█████████                    | 3124/10000 [11:15<44:26,  2.58row/s]"
     ]
    },
    {
     "name": "stdout",
     "output_type": "stream",
     "text": [
      "Progress saved: cleaned_chunk_0, row 3124\r"
     ]
    },
    {
     "name": "stderr",
     "output_type": "stream",
     "text": [
      "Processing cleaned_chunk_0:  31%|█████████                    | 3125/10000 [11:15<46:51,  2.45row/s]"
     ]
    },
    {
     "name": "stdout",
     "output_type": "stream",
     "text": [
      "Progress saved: cleaned_chunk_0, row 3125\r"
     ]
    },
    {
     "name": "stderr",
     "output_type": "stream",
     "text": [
      "Processing cleaned_chunk_0:  31%|█████████                    | 3126/10000 [11:16<53:30,  2.14row/s]"
     ]
    },
    {
     "name": "stdout",
     "output_type": "stream",
     "text": [
      "Progress saved: cleaned_chunk_0, row 3126\r"
     ]
    },
    {
     "name": "stderr",
     "output_type": "stream",
     "text": [
      "Processing cleaned_chunk_0:  31%|█████████                    | 3127/10000 [11:16<47:08,  2.43row/s]"
     ]
    },
    {
     "name": "stdout",
     "output_type": "stream",
     "text": [
      "Progress saved: cleaned_chunk_0, row 3127\r"
     ]
    },
    {
     "name": "stderr",
     "output_type": "stream",
     "text": [
      "Processing cleaned_chunk_0:  31%|█████████                    | 3128/10000 [11:16<42:11,  2.71row/s]"
     ]
    },
    {
     "name": "stdout",
     "output_type": "stream",
     "text": [
      "Progress saved: cleaned_chunk_0, row 3128\r"
     ]
    },
    {
     "name": "stderr",
     "output_type": "stream",
     "text": [
      "Processing cleaned_chunk_0:  31%|█████████                    | 3129/10000 [11:16<36:40,  3.12row/s]"
     ]
    },
    {
     "name": "stdout",
     "output_type": "stream",
     "text": [
      "Progress saved: cleaned_chunk_0, row 3129\r"
     ]
    },
    {
     "name": "stderr",
     "output_type": "stream",
     "text": [
      "Processing cleaned_chunk_0:  31%|█████████                    | 3130/10000 [11:17<33:21,  3.43row/s]"
     ]
    },
    {
     "name": "stdout",
     "output_type": "stream",
     "text": [
      "Progress saved: cleaned_chunk_0, row 3130\r"
     ]
    },
    {
     "name": "stderr",
     "output_type": "stream",
     "text": [
      "Processing cleaned_chunk_0:  31%|█████████                    | 3131/10000 [11:17<35:43,  3.20row/s]"
     ]
    },
    {
     "name": "stdout",
     "output_type": "stream",
     "text": [
      "Progress saved: cleaned_chunk_0, row 3131\r"
     ]
    },
    {
     "name": "stderr",
     "output_type": "stream",
     "text": [
      "Processing cleaned_chunk_0:  31%|█████████                    | 3132/10000 [11:17<33:51,  3.38row/s]"
     ]
    },
    {
     "name": "stdout",
     "output_type": "stream",
     "text": [
      "Progress saved: cleaned_chunk_0, row 3133\r"
     ]
    },
    {
     "name": "stderr",
     "output_type": "stream",
     "text": [
      "Processing cleaned_chunk_0:  31%|█████████                    | 3135/10000 [11:18<22:52,  5.00row/s]"
     ]
    },
    {
     "name": "stdout",
     "output_type": "stream",
     "text": [
      "Progress saved: cleaned_chunk_0, row 3135\r"
     ]
    },
    {
     "name": "stderr",
     "output_type": "stream",
     "text": [
      "Processing cleaned_chunk_0:  31%|█████████                    | 3136/10000 [11:18<20:54,  5.47row/s]"
     ]
    },
    {
     "name": "stdout",
     "output_type": "stream",
     "text": [
      "Progress saved: cleaned_chunk_0, row 3137\r"
     ]
    },
    {
     "name": "stderr",
     "output_type": "stream",
     "text": [
      "Processing cleaned_chunk_0:  31%|█████████                    | 3139/10000 [11:18<20:20,  5.62row/s]"
     ]
    },
    {
     "name": "stdout",
     "output_type": "stream",
     "text": [
      "Progress saved: cleaned_chunk_0, row 3139\r"
     ]
    },
    {
     "name": "stderr",
     "output_type": "stream",
     "text": [
      "Processing cleaned_chunk_0:  31%|█████████                    | 3140/10000 [11:19<22:08,  5.16row/s]"
     ]
    },
    {
     "name": "stdout",
     "output_type": "stream",
     "text": [
      "Progress saved: cleaned_chunk_0, row 3140\r"
     ]
    },
    {
     "name": "stderr",
     "output_type": "stream",
     "text": [
      "Processing cleaned_chunk_0:  31%|█████████                    | 3142/10000 [11:19<24:36,  4.64row/s]"
     ]
    },
    {
     "name": "stdout",
     "output_type": "stream",
     "text": [
      "Progress saved: cleaned_chunk_0, row 3142\r"
     ]
    },
    {
     "name": "stderr",
     "output_type": "stream",
     "text": [
      "Processing cleaned_chunk_0:  31%|█████████                    | 3143/10000 [11:19<23:08,  4.94row/s]"
     ]
    },
    {
     "name": "stdout",
     "output_type": "stream",
     "text": [
      "Progress saved: cleaned_chunk_0, row 3143\r"
     ]
    },
    {
     "name": "stderr",
     "output_type": "stream",
     "text": [
      "Processing cleaned_chunk_0:  31%|█████████                    | 3145/10000 [11:20<22:18,  5.12row/s]"
     ]
    },
    {
     "name": "stdout",
     "output_type": "stream",
     "text": [
      "Progress saved: cleaned_chunk_0, row 3145\r"
     ]
    },
    {
     "name": "stderr",
     "output_type": "stream",
     "text": [
      "Processing cleaned_chunk_0:  31%|█████████▏                   | 3147/10000 [11:20<21:21,  5.35row/s]"
     ]
    },
    {
     "name": "stdout",
     "output_type": "stream",
     "text": [
      "Progress saved: cleaned_chunk_0, row 3147\r"
     ]
    },
    {
     "name": "stderr",
     "output_type": "stream",
     "text": [
      "Processing cleaned_chunk_0:  31%|█████████▏                   | 3148/10000 [11:20<19:41,  5.80row/s]"
     ]
    },
    {
     "name": "stdout",
     "output_type": "stream",
     "text": [
      "Progress saved: cleaned_chunk_0, row 3148\r"
     ]
    },
    {
     "name": "stderr",
     "output_type": "stream",
     "text": [
      "Processing cleaned_chunk_0:  31%|█████████▏                   | 3149/10000 [11:21<24:18,  4.70row/s]"
     ]
    },
    {
     "name": "stdout",
     "output_type": "stream",
     "text": [
      "Progress saved: cleaned_chunk_0, row 3149\r"
     ]
    },
    {
     "name": "stderr",
     "output_type": "stream",
     "text": [
      "Processing cleaned_chunk_0:  32%|█████████▏                   | 3150/10000 [11:21<36:56,  3.09row/s]"
     ]
    },
    {
     "name": "stdout",
     "output_type": "stream",
     "text": [
      "Progress saved: cleaned_chunk_0, row 3150\r"
     ]
    },
    {
     "name": "stderr",
     "output_type": "stream",
     "text": [
      "Processing cleaned_chunk_0:  32%|█████████▏                   | 3151/10000 [11:22<45:05,  2.53row/s]"
     ]
    },
    {
     "name": "stdout",
     "output_type": "stream",
     "text": [
      "Progress saved: cleaned_chunk_0, row 3151\r"
     ]
    },
    {
     "name": "stderr",
     "output_type": "stream",
     "text": [
      "Processing cleaned_chunk_0:  32%|████████▌                  | 3152/10000 [11:23<1:00:05,  1.90row/s]"
     ]
    },
    {
     "name": "stdout",
     "output_type": "stream",
     "text": [
      "Progress saved: cleaned_chunk_0, row 3152\r"
     ]
    },
    {
     "name": "stderr",
     "output_type": "stream",
     "text": [
      "Processing cleaned_chunk_0:  32%|█████████▏                   | 3153/10000 [11:23<58:19,  1.96row/s]"
     ]
    },
    {
     "name": "stdout",
     "output_type": "stream",
     "text": [
      "Progress saved: cleaned_chunk_0, row 3153\r"
     ]
    },
    {
     "name": "stderr",
     "output_type": "stream",
     "text": [
      "Processing cleaned_chunk_0:  32%|█████████▏                   | 3154/10000 [11:24<58:52,  1.94row/s]"
     ]
    },
    {
     "name": "stdout",
     "output_type": "stream",
     "text": [
      "Progress saved: cleaned_chunk_0, row 3154\r"
     ]
    },
    {
     "name": "stderr",
     "output_type": "stream",
     "text": [
      "Processing cleaned_chunk_0:  32%|████████▌                  | 3155/10000 [11:24<1:00:11,  1.90row/s]"
     ]
    },
    {
     "name": "stdout",
     "output_type": "stream",
     "text": [
      "Progress saved: cleaned_chunk_0, row 3155\r"
     ]
    },
    {
     "name": "stderr",
     "output_type": "stream",
     "text": [
      "Processing cleaned_chunk_0:  32%|█████████▏                   | 3156/10000 [11:24<54:38,  2.09row/s]"
     ]
    },
    {
     "name": "stdout",
     "output_type": "stream",
     "text": [
      "Progress saved: cleaned_chunk_0, row 3156\r"
     ]
    },
    {
     "name": "stderr",
     "output_type": "stream",
     "text": [
      "Processing cleaned_chunk_0:  32%|█████████▏                   | 3157/10000 [11:25<51:03,  2.23row/s]"
     ]
    },
    {
     "name": "stdout",
     "output_type": "stream",
     "text": [
      "Progress saved: cleaned_chunk_0, row 3157\r"
     ]
    },
    {
     "name": "stderr",
     "output_type": "stream",
     "text": [
      "Processing cleaned_chunk_0:  32%|█████████▏                   | 3158/10000 [11:25<47:09,  2.42row/s]"
     ]
    },
    {
     "name": "stdout",
     "output_type": "stream",
     "text": [
      "Progress saved: cleaned_chunk_0, row 3158\r"
     ]
    },
    {
     "name": "stderr",
     "output_type": "stream",
     "text": [
      "Processing cleaned_chunk_0:  32%|█████████▏                   | 3159/10000 [11:26<46:09,  2.47row/s]"
     ]
    },
    {
     "name": "stdout",
     "output_type": "stream",
     "text": [
      "Progress saved: cleaned_chunk_0, row 3159\r"
     ]
    },
    {
     "name": "stderr",
     "output_type": "stream",
     "text": [
      "Processing cleaned_chunk_0:  32%|█████████▏                   | 3160/10000 [11:26<43:09,  2.64row/s]"
     ]
    },
    {
     "name": "stdout",
     "output_type": "stream",
     "text": [
      "Progress saved: cleaned_chunk_0, row 3160\r"
     ]
    },
    {
     "name": "stderr",
     "output_type": "stream",
     "text": [
      "Processing cleaned_chunk_0:  32%|█████████▏                   | 3161/10000 [11:26<47:41,  2.39row/s]"
     ]
    },
    {
     "name": "stdout",
     "output_type": "stream",
     "text": [
      "Progress saved: cleaned_chunk_0, row 3161\r"
     ]
    },
    {
     "name": "stderr",
     "output_type": "stream",
     "text": [
      "Processing cleaned_chunk_0:  32%|█████████▏                   | 3162/10000 [11:27<44:12,  2.58row/s]"
     ]
    },
    {
     "name": "stdout",
     "output_type": "stream",
     "text": [
      "Progress saved: cleaned_chunk_0, row 3162\r"
     ]
    },
    {
     "name": "stderr",
     "output_type": "stream",
     "text": [
      "Processing cleaned_chunk_0:  32%|█████████▏                   | 3163/10000 [11:27<48:36,  2.34row/s]"
     ]
    },
    {
     "name": "stdout",
     "output_type": "stream",
     "text": [
      "Progress saved: cleaned_chunk_0, row 3163\r"
     ]
    },
    {
     "name": "stderr",
     "output_type": "stream",
     "text": [
      "Processing cleaned_chunk_0:  32%|█████████▏                   | 3164/10000 [11:28<45:29,  2.50row/s]"
     ]
    },
    {
     "name": "stdout",
     "output_type": "stream",
     "text": [
      "Progress saved: cleaned_chunk_0, row 3164\r"
     ]
    },
    {
     "name": "stderr",
     "output_type": "stream",
     "text": [
      "Processing cleaned_chunk_0:  32%|█████████▏                   | 3165/10000 [11:28<47:33,  2.40row/s]"
     ]
    },
    {
     "name": "stdout",
     "output_type": "stream",
     "text": [
      "Progress saved: cleaned_chunk_0, row 3165\r"
     ]
    },
    {
     "name": "stderr",
     "output_type": "stream",
     "text": [
      "Processing cleaned_chunk_0:  32%|█████████▏                   | 3166/10000 [11:28<48:36,  2.34row/s]"
     ]
    },
    {
     "name": "stdout",
     "output_type": "stream",
     "text": [
      "Progress saved: cleaned_chunk_0, row 3166\r"
     ]
    },
    {
     "name": "stderr",
     "output_type": "stream",
     "text": [
      "Processing cleaned_chunk_0:  32%|█████████▏                   | 3167/10000 [11:29<57:00,  2.00row/s]"
     ]
    },
    {
     "name": "stdout",
     "output_type": "stream",
     "text": [
      "Progress saved: cleaned_chunk_0, row 3167\r"
     ]
    },
    {
     "name": "stderr",
     "output_type": "stream",
     "text": [
      "Processing cleaned_chunk_0:  32%|█████████▏                   | 3168/10000 [11:29<51:32,  2.21row/s]"
     ]
    },
    {
     "name": "stdout",
     "output_type": "stream",
     "text": [
      "Progress saved: cleaned_chunk_0, row 3168\r"
     ]
    },
    {
     "name": "stderr",
     "output_type": "stream",
     "text": [
      "Processing cleaned_chunk_0:  32%|█████████▏                   | 3169/10000 [11:30<51:52,  2.19row/s]"
     ]
    },
    {
     "name": "stdout",
     "output_type": "stream",
     "text": [
      "Progress saved: cleaned_chunk_0, row 3169\r"
     ]
    },
    {
     "name": "stderr",
     "output_type": "stream",
     "text": [
      "Processing cleaned_chunk_0:  32%|█████████▏                   | 3171/10000 [11:30<40:16,  2.83row/s]"
     ]
    },
    {
     "name": "stdout",
     "output_type": "stream",
     "text": [
      "Progress saved: cleaned_chunk_0, row 3171\r"
     ]
    },
    {
     "name": "stderr",
     "output_type": "stream",
     "text": [
      "Processing cleaned_chunk_0:  32%|█████████▏                   | 3172/10000 [11:31<34:11,  3.33row/s]"
     ]
    },
    {
     "name": "stdout",
     "output_type": "stream",
     "text": [
      "Progress saved: cleaned_chunk_0, row 3172\r"
     ]
    },
    {
     "name": "stderr",
     "output_type": "stream",
     "text": [
      "Processing cleaned_chunk_0:  32%|█████████▏                   | 3174/10000 [11:31<28:30,  3.99row/s]"
     ]
    },
    {
     "name": "stdout",
     "output_type": "stream",
     "text": [
      "Progress saved: cleaned_chunk_0, row 3174\r"
     ]
    },
    {
     "name": "stderr",
     "output_type": "stream",
     "text": [
      "Processing cleaned_chunk_0:  32%|█████████▏                   | 3175/10000 [11:31<27:43,  4.10row/s]"
     ]
    },
    {
     "name": "stdout",
     "output_type": "stream",
     "text": [
      "Progress saved: cleaned_chunk_0, row 3176\r"
     ]
    },
    {
     "name": "stderr",
     "output_type": "stream",
     "text": [
      "Processing cleaned_chunk_0:  32%|█████████▏                   | 3178/10000 [11:32<24:05,  4.72row/s]"
     ]
    },
    {
     "name": "stdout",
     "output_type": "stream",
     "text": [
      "Progress saved: cleaned_chunk_0, row 3178\r"
     ]
    },
    {
     "name": "stderr",
     "output_type": "stream",
     "text": [
      "Processing cleaned_chunk_0:  32%|█████████▏                   | 3179/10000 [11:32<22:49,  4.98row/s]"
     ]
    },
    {
     "name": "stdout",
     "output_type": "stream",
     "text": [
      "Progress saved: cleaned_chunk_0, row 3179\r"
     ]
    },
    {
     "name": "stderr",
     "output_type": "stream",
     "text": [
      "Processing cleaned_chunk_0:  32%|█████████▏                   | 3180/10000 [11:32<28:21,  4.01row/s]"
     ]
    },
    {
     "name": "stdout",
     "output_type": "stream",
     "text": [
      "Progress saved: cleaned_chunk_0, row 3180\r"
     ]
    },
    {
     "name": "stderr",
     "output_type": "stream",
     "text": [
      "Processing cleaned_chunk_0:  32%|█████████▏                   | 3181/10000 [11:33<33:07,  3.43row/s]"
     ]
    },
    {
     "name": "stdout",
     "output_type": "stream",
     "text": [
      "Progress saved: cleaned_chunk_0, row 3181\r"
     ]
    },
    {
     "name": "stderr",
     "output_type": "stream",
     "text": [
      "Processing cleaned_chunk_0:  32%|█████████▏                   | 3182/10000 [11:33<30:08,  3.77row/s]"
     ]
    },
    {
     "name": "stdout",
     "output_type": "stream",
     "text": [
      "Progress saved: cleaned_chunk_0, row 3182\r"
     ]
    },
    {
     "name": "stderr",
     "output_type": "stream",
     "text": [
      "Processing cleaned_chunk_0:  32%|█████████▏                   | 3183/10000 [11:33<29:43,  3.82row/s]"
     ]
    },
    {
     "name": "stdout",
     "output_type": "stream",
     "text": [
      "Progress saved: cleaned_chunk_0, row 3183\r"
     ]
    },
    {
     "name": "stderr",
     "output_type": "stream",
     "text": [
      "Processing cleaned_chunk_0:  32%|█████████▏                   | 3184/10000 [11:34<30:17,  3.75row/s]"
     ]
    },
    {
     "name": "stdout",
     "output_type": "stream",
     "text": [
      "Progress saved: cleaned_chunk_0, row 3184\r"
     ]
    },
    {
     "name": "stderr",
     "output_type": "stream",
     "text": [
      "Processing cleaned_chunk_0:  32%|█████████▏                   | 3185/10000 [11:34<30:30,  3.72row/s]"
     ]
    },
    {
     "name": "stdout",
     "output_type": "stream",
     "text": [
      "Progress saved: cleaned_chunk_0, row 3185\r"
     ]
    },
    {
     "name": "stderr",
     "output_type": "stream",
     "text": [
      "Processing cleaned_chunk_0:  32%|█████████▏                   | 3186/10000 [11:34<36:39,  3.10row/s]"
     ]
    },
    {
     "name": "stdout",
     "output_type": "stream",
     "text": [
      "Progress saved: cleaned_chunk_0, row 3186\r"
     ]
    },
    {
     "name": "stderr",
     "output_type": "stream",
     "text": [
      "Processing cleaned_chunk_0:  32%|█████████▏                   | 3187/10000 [11:35<36:35,  3.10row/s]"
     ]
    },
    {
     "name": "stdout",
     "output_type": "stream",
     "text": [
      "Progress saved: cleaned_chunk_0, row 3187\r"
     ]
    },
    {
     "name": "stderr",
     "output_type": "stream",
     "text": [
      "Processing cleaned_chunk_0:  32%|█████████▏                   | 3188/10000 [11:35<43:22,  2.62row/s]"
     ]
    },
    {
     "name": "stdout",
     "output_type": "stream",
     "text": [
      "Progress saved: cleaned_chunk_0, row 3188\r"
     ]
    },
    {
     "name": "stderr",
     "output_type": "stream",
     "text": [
      "Processing cleaned_chunk_0:  32%|█████████▏                   | 3189/10000 [11:36<45:15,  2.51row/s]"
     ]
    },
    {
     "name": "stdout",
     "output_type": "stream",
     "text": [
      "Progress saved: cleaned_chunk_0, row 3189\r"
     ]
    },
    {
     "name": "stderr",
     "output_type": "stream",
     "text": [
      "Processing cleaned_chunk_0:  32%|█████████▎                   | 3190/10000 [11:36<50:21,  2.25row/s]"
     ]
    },
    {
     "name": "stdout",
     "output_type": "stream",
     "text": [
      "Progress saved: cleaned_chunk_0, row 3190\r"
     ]
    },
    {
     "name": "stderr",
     "output_type": "stream",
     "text": [
      "Processing cleaned_chunk_0:  32%|█████████▎                   | 3191/10000 [11:36<46:23,  2.45row/s]"
     ]
    },
    {
     "name": "stdout",
     "output_type": "stream",
     "text": [
      "Progress saved: cleaned_chunk_0, row 3191\r"
     ]
    },
    {
     "name": "stderr",
     "output_type": "stream",
     "text": [
      "Processing cleaned_chunk_0:  32%|█████████▎                   | 3192/10000 [11:37<45:14,  2.51row/s]"
     ]
    },
    {
     "name": "stdout",
     "output_type": "stream",
     "text": [
      "Progress saved: cleaned_chunk_0, row 3192\r"
     ]
    },
    {
     "name": "stderr",
     "output_type": "stream",
     "text": [
      "Processing cleaned_chunk_0:  32%|█████████▎                   | 3193/10000 [11:37<40:39,  2.79row/s]"
     ]
    },
    {
     "name": "stdout",
     "output_type": "stream",
     "text": [
      "Progress saved: cleaned_chunk_0, row 3193\r"
     ]
    },
    {
     "name": "stderr",
     "output_type": "stream",
     "text": [
      "Processing cleaned_chunk_0:  32%|█████████▎                   | 3194/10000 [11:38<42:47,  2.65row/s]"
     ]
    },
    {
     "name": "stdout",
     "output_type": "stream",
     "text": [
      "Progress saved: cleaned_chunk_0, row 3194\r"
     ]
    },
    {
     "name": "stderr",
     "output_type": "stream",
     "text": [
      "Processing cleaned_chunk_0:  32%|█████████▎                   | 3195/10000 [11:38<41:58,  2.70row/s]"
     ]
    },
    {
     "name": "stdout",
     "output_type": "stream",
     "text": [
      "Progress saved: cleaned_chunk_0, row 3195\r"
     ]
    },
    {
     "name": "stderr",
     "output_type": "stream",
     "text": [
      "Processing cleaned_chunk_0:  32%|█████████▎                   | 3196/10000 [11:38<41:13,  2.75row/s]"
     ]
    },
    {
     "name": "stdout",
     "output_type": "stream",
     "text": [
      "Progress saved: cleaned_chunk_0, row 3196\r"
     ]
    },
    {
     "name": "stderr",
     "output_type": "stream",
     "text": [
      "Processing cleaned_chunk_0:  32%|█████████▎                   | 3197/10000 [11:39<48:04,  2.36row/s]"
     ]
    },
    {
     "name": "stdout",
     "output_type": "stream",
     "text": [
      "Progress saved: cleaned_chunk_0, row 3197\r"
     ]
    },
    {
     "name": "stderr",
     "output_type": "stream",
     "text": [
      "Processing cleaned_chunk_0:  32%|█████████▎                   | 3198/10000 [11:39<50:35,  2.24row/s]"
     ]
    },
    {
     "name": "stdout",
     "output_type": "stream",
     "text": [
      "Progress saved: cleaned_chunk_0, row 3198\r"
     ]
    },
    {
     "name": "stderr",
     "output_type": "stream",
     "text": [
      "Processing cleaned_chunk_0:  32%|█████████▎                   | 3199/10000 [11:40<43:38,  2.60row/s]"
     ]
    },
    {
     "name": "stdout",
     "output_type": "stream",
     "text": [
      "Progress saved: cleaned_chunk_0, row 3200\r"
     ]
    },
    {
     "name": "stderr",
     "output_type": "stream",
     "text": [
      "Processing cleaned_chunk_0:  32%|█████████▎                   | 3201/10000 [11:40<38:16,  2.96row/s]"
     ]
    },
    {
     "name": "stdout",
     "output_type": "stream",
     "text": [
      "Progress saved: cleaned_chunk_0, row 3201\r"
     ]
    },
    {
     "name": "stderr",
     "output_type": "stream",
     "text": [
      "Processing cleaned_chunk_0:  32%|█████████▎                   | 3202/10000 [11:41<42:16,  2.68row/s]"
     ]
    },
    {
     "name": "stdout",
     "output_type": "stream",
     "text": [
      "Progress saved: cleaned_chunk_0, row 3202\r"
     ]
    },
    {
     "name": "stderr",
     "output_type": "stream",
     "text": [
      "Processing cleaned_chunk_0:  32%|█████████▎                   | 3203/10000 [11:41<38:34,  2.94row/s]"
     ]
    },
    {
     "name": "stdout",
     "output_type": "stream",
     "text": [
      "Progress saved: cleaned_chunk_0, row 3204\r"
     ]
    },
    {
     "name": "stderr",
     "output_type": "stream",
     "text": [
      "Processing cleaned_chunk_0:  32%|█████████▎                   | 3205/10000 [11:41<33:33,  3.37row/s]"
     ]
    },
    {
     "name": "stdout",
     "output_type": "stream",
     "text": [
      "Progress saved: cleaned_chunk_0, row 3206\r"
     ]
    },
    {
     "name": "stderr",
     "output_type": "stream",
     "text": [
      "Processing cleaned_chunk_0:  32%|█████████▎                   | 3207/10000 [11:42<28:28,  3.98row/s]"
     ]
    },
    {
     "name": "stdout",
     "output_type": "stream",
     "text": [
      "Progress saved: cleaned_chunk_0, row 3207\r"
     ]
    },
    {
     "name": "stderr",
     "output_type": "stream",
     "text": [
      "Processing cleaned_chunk_0:  32%|█████████▎                   | 3208/10000 [11:42<28:50,  3.92row/s]"
     ]
    },
    {
     "name": "stdout",
     "output_type": "stream",
     "text": [
      "Progress saved: cleaned_chunk_0, row 3208\r"
     ]
    },
    {
     "name": "stderr",
     "output_type": "stream",
     "text": [
      "Processing cleaned_chunk_0:  32%|█████████▎                   | 3209/10000 [11:42<28:54,  3.91row/s]"
     ]
    },
    {
     "name": "stdout",
     "output_type": "stream",
     "text": [
      "Progress saved: cleaned_chunk_0, row 3209\r"
     ]
    },
    {
     "name": "stderr",
     "output_type": "stream",
     "text": [
      "Processing cleaned_chunk_0:  32%|█████████▎                   | 3210/10000 [11:43<33:31,  3.38row/s]"
     ]
    },
    {
     "name": "stdout",
     "output_type": "stream",
     "text": [
      "Progress saved: cleaned_chunk_0, row 3210\r"
     ]
    },
    {
     "name": "stderr",
     "output_type": "stream",
     "text": [
      "Processing cleaned_chunk_0:  32%|█████████▎                   | 3211/10000 [11:43<31:23,  3.60row/s]"
     ]
    },
    {
     "name": "stdout",
     "output_type": "stream",
     "text": [
      "Progress saved: cleaned_chunk_0, row 3212\r"
     ]
    },
    {
     "name": "stderr",
     "output_type": "stream",
     "text": [
      "Processing cleaned_chunk_0:  32%|█████████▎                   | 3214/10000 [11:43<25:10,  4.49row/s]"
     ]
    },
    {
     "name": "stdout",
     "output_type": "stream",
     "text": [
      "Progress saved: cleaned_chunk_0, row 3214\r"
     ]
    },
    {
     "name": "stderr",
     "output_type": "stream",
     "text": [
      "Processing cleaned_chunk_0:  32%|█████████▎                   | 3215/10000 [11:44<27:23,  4.13row/s]"
     ]
    },
    {
     "name": "stdout",
     "output_type": "stream",
     "text": [
      "Progress saved: cleaned_chunk_0, row 3216\r"
     ]
    },
    {
     "name": "stderr",
     "output_type": "stream",
     "text": [
      "Processing cleaned_chunk_0:  32%|█████████▎                   | 3218/10000 [11:44<23:10,  4.88row/s]"
     ]
    },
    {
     "name": "stdout",
     "output_type": "stream",
     "text": [
      "Progress saved: cleaned_chunk_0, row 3218\r"
     ]
    },
    {
     "name": "stderr",
     "output_type": "stream",
     "text": [
      "Processing cleaned_chunk_0:  32%|█████████▎                   | 3219/10000 [11:44<20:39,  5.47row/s]"
     ]
    },
    {
     "name": "stdout",
     "output_type": "stream",
     "text": [
      "Progress saved: cleaned_chunk_0, row 3219\r"
     ]
    },
    {
     "name": "stderr",
     "output_type": "stream",
     "text": [
      "Processing cleaned_chunk_0:  32%|█████████▎                   | 3220/10000 [11:45<21:26,  5.27row/s]"
     ]
    },
    {
     "name": "stdout",
     "output_type": "stream",
     "text": [
      "Progress saved: cleaned_chunk_0, row 3220\r"
     ]
    },
    {
     "name": "stderr",
     "output_type": "stream",
     "text": [
      "Processing cleaned_chunk_0:  32%|█████████▎                   | 3222/10000 [11:45<22:33,  5.01row/s]"
     ]
    },
    {
     "name": "stdout",
     "output_type": "stream",
     "text": [
      "Progress saved: cleaned_chunk_0, row 3222\r"
     ]
    },
    {
     "name": "stderr",
     "output_type": "stream",
     "text": [
      "Processing cleaned_chunk_0:  32%|█████████▎                   | 3223/10000 [11:45<22:27,  5.03row/s]"
     ]
    },
    {
     "name": "stdout",
     "output_type": "stream",
     "text": [
      "Progress saved: cleaned_chunk_0, row 3223\r"
     ]
    },
    {
     "name": "stderr",
     "output_type": "stream",
     "text": [
      "Processing cleaned_chunk_0:  32%|█████████▎                   | 3224/10000 [11:46<24:53,  4.54row/s]"
     ]
    },
    {
     "name": "stdout",
     "output_type": "stream",
     "text": [
      "Progress saved: cleaned_chunk_0, row 3224\r"
     ]
    },
    {
     "name": "stderr",
     "output_type": "stream",
     "text": [
      "Processing cleaned_chunk_0:  32%|█████████▎                   | 3225/10000 [11:46<25:35,  4.41row/s]"
     ]
    },
    {
     "name": "stdout",
     "output_type": "stream",
     "text": [
      "Progress saved: cleaned_chunk_0, row 3225\r"
     ]
    },
    {
     "name": "stderr",
     "output_type": "stream",
     "text": [
      "Processing cleaned_chunk_0:  32%|█████████▎                   | 3226/10000 [11:46<26:09,  4.32row/s]"
     ]
    },
    {
     "name": "stdout",
     "output_type": "stream",
     "text": [
      "Progress saved: cleaned_chunk_0, row 3226\r"
     ]
    },
    {
     "name": "stderr",
     "output_type": "stream",
     "text": [
      "Processing cleaned_chunk_0:  32%|█████████▎                   | 3227/10000 [11:47<37:25,  3.02row/s]"
     ]
    },
    {
     "name": "stdout",
     "output_type": "stream",
     "text": [
      "Progress saved: cleaned_chunk_0, row 3227\r"
     ]
    },
    {
     "name": "stderr",
     "output_type": "stream",
     "text": [
      "Processing cleaned_chunk_0:  32%|█████████▎                   | 3228/10000 [11:47<35:45,  3.16row/s]"
     ]
    },
    {
     "name": "stdout",
     "output_type": "stream",
     "text": [
      "Progress saved: cleaned_chunk_0, row 3228\r"
     ]
    },
    {
     "name": "stderr",
     "output_type": "stream",
     "text": [
      "Processing cleaned_chunk_0:  32%|█████████▎                   | 3229/10000 [11:47<35:36,  3.17row/s]"
     ]
    },
    {
     "name": "stdout",
     "output_type": "stream",
     "text": [
      "Progress saved: cleaned_chunk_0, row 3229\r"
     ]
    },
    {
     "name": "stderr",
     "output_type": "stream",
     "text": [
      "Processing cleaned_chunk_0:  32%|█████████▎                   | 3230/10000 [11:48<37:28,  3.01row/s]"
     ]
    },
    {
     "name": "stdout",
     "output_type": "stream",
     "text": [
      "Progress saved: cleaned_chunk_0, row 3230\r"
     ]
    },
    {
     "name": "stderr",
     "output_type": "stream",
     "text": [
      "Processing cleaned_chunk_0:  32%|█████████▎                   | 3231/10000 [11:48<34:41,  3.25row/s]"
     ]
    },
    {
     "name": "stdout",
     "output_type": "stream",
     "text": [
      "Progress saved: cleaned_chunk_0, row 3231\r"
     ]
    },
    {
     "name": "stderr",
     "output_type": "stream",
     "text": [
      "Processing cleaned_chunk_0:  32%|█████████▎                   | 3232/10000 [11:48<32:21,  3.49row/s]"
     ]
    },
    {
     "name": "stdout",
     "output_type": "stream",
     "text": [
      "Progress saved: cleaned_chunk_0, row 3232\r"
     ]
    },
    {
     "name": "stderr",
     "output_type": "stream",
     "text": [
      "Processing cleaned_chunk_0:  32%|█████████▍                   | 3233/10000 [11:48<30:29,  3.70row/s]"
     ]
    },
    {
     "name": "stdout",
     "output_type": "stream",
     "text": [
      "Progress saved: cleaned_chunk_0, row 3233\r"
     ]
    },
    {
     "name": "stderr",
     "output_type": "stream",
     "text": [
      "Processing cleaned_chunk_0:  32%|█████████▍                   | 3234/10000 [11:49<29:32,  3.82row/s]"
     ]
    },
    {
     "name": "stdout",
     "output_type": "stream",
     "text": [
      "Progress saved: cleaned_chunk_0, row 3234\r"
     ]
    },
    {
     "name": "stderr",
     "output_type": "stream",
     "text": [
      "Processing cleaned_chunk_0:  32%|█████████▍                   | 3235/10000 [11:49<28:43,  3.93row/s]"
     ]
    },
    {
     "name": "stdout",
     "output_type": "stream",
     "text": [
      "Progress saved: cleaned_chunk_0, row 3235\r"
     ]
    },
    {
     "name": "stderr",
     "output_type": "stream",
     "text": [
      "Processing cleaned_chunk_0:  32%|█████████▍                   | 3236/10000 [11:49<35:25,  3.18row/s]"
     ]
    },
    {
     "name": "stdout",
     "output_type": "stream",
     "text": [
      "Progress saved: cleaned_chunk_0, row 3236\r"
     ]
    },
    {
     "name": "stderr",
     "output_type": "stream",
     "text": [
      "Processing cleaned_chunk_0:  32%|█████████▍                   | 3237/10000 [11:50<39:43,  2.84row/s]"
     ]
    },
    {
     "name": "stdout",
     "output_type": "stream",
     "text": [
      "Progress saved: cleaned_chunk_0, row 3237\r"
     ]
    },
    {
     "name": "stderr",
     "output_type": "stream",
     "text": [
      "Processing cleaned_chunk_0:  32%|█████████▍                   | 3238/10000 [11:50<37:14,  3.03row/s]"
     ]
    },
    {
     "name": "stdout",
     "output_type": "stream",
     "text": [
      "Progress saved: cleaned_chunk_0, row 3238\r"
     ]
    },
    {
     "name": "stderr",
     "output_type": "stream",
     "text": [
      "Processing cleaned_chunk_0:  32%|█████████▍                   | 3239/10000 [11:50<35:11,  3.20row/s]"
     ]
    },
    {
     "name": "stdout",
     "output_type": "stream",
     "text": [
      "Progress saved: cleaned_chunk_0, row 3239\r"
     ]
    },
    {
     "name": "stderr",
     "output_type": "stream",
     "text": [
      "Processing cleaned_chunk_0:  32%|█████████▍                   | 3240/10000 [11:50<31:37,  3.56row/s]"
     ]
    },
    {
     "name": "stdout",
     "output_type": "stream",
     "text": [
      "Progress saved: cleaned_chunk_0, row 3240\r"
     ]
    },
    {
     "name": "stderr",
     "output_type": "stream",
     "text": [
      "Processing cleaned_chunk_0:  32%|█████████▍                   | 3241/10000 [11:51<30:17,  3.72row/s]"
     ]
    },
    {
     "name": "stdout",
     "output_type": "stream",
     "text": [
      "Progress saved: cleaned_chunk_0, row 3241\r"
     ]
    },
    {
     "name": "stderr",
     "output_type": "stream",
     "text": [
      "Processing cleaned_chunk_0:  32%|█████████▍                   | 3242/10000 [11:51<29:34,  3.81row/s]"
     ]
    },
    {
     "name": "stdout",
     "output_type": "stream",
     "text": [
      "Progress saved: cleaned_chunk_0, row 3242\r"
     ]
    },
    {
     "name": "stderr",
     "output_type": "stream",
     "text": [
      "Processing cleaned_chunk_0:  32%|█████████▍                   | 3243/10000 [11:51<31:14,  3.60row/s]"
     ]
    },
    {
     "name": "stdout",
     "output_type": "stream",
     "text": [
      "Progress saved: cleaned_chunk_0, row 3243\r"
     ]
    },
    {
     "name": "stderr",
     "output_type": "stream",
     "text": [
      "Processing cleaned_chunk_0:  32%|█████████▍                   | 3244/10000 [11:52<33:58,  3.31row/s]"
     ]
    },
    {
     "name": "stdout",
     "output_type": "stream",
     "text": [
      "Progress saved: cleaned_chunk_0, row 3245\r"
     ]
    },
    {
     "name": "stderr",
     "output_type": "stream",
     "text": [
      "Processing cleaned_chunk_0:  32%|█████████▍                   | 3247/10000 [11:52<25:41,  4.38row/s]"
     ]
    },
    {
     "name": "stdout",
     "output_type": "stream",
     "text": [
      "Progress saved: cleaned_chunk_0, row 3247\r"
     ]
    },
    {
     "name": "stderr",
     "output_type": "stream",
     "text": [
      "Processing cleaned_chunk_0:  32%|█████████▍                   | 3248/10000 [11:52<22:29,  5.00row/s]"
     ]
    },
    {
     "name": "stdout",
     "output_type": "stream",
     "text": [
      "Progress saved: cleaned_chunk_0, row 3249\r"
     ]
    },
    {
     "name": "stderr",
     "output_type": "stream",
     "text": [
      "Processing cleaned_chunk_0:  33%|█████████▍                   | 3251/10000 [11:53<21:36,  5.21row/s]"
     ]
    },
    {
     "name": "stdout",
     "output_type": "stream",
     "text": [
      "Progress saved: cleaned_chunk_0, row 3251\r"
     ]
    },
    {
     "name": "stderr",
     "output_type": "stream",
     "text": [
      "Processing cleaned_chunk_0:  33%|█████████▍                   | 3252/10000 [11:53<21:44,  5.17row/s]"
     ]
    },
    {
     "name": "stdout",
     "output_type": "stream",
     "text": [
      "Progress saved: cleaned_chunk_0, row 3252\r"
     ]
    },
    {
     "name": "stderr",
     "output_type": "stream",
     "text": [
      "Processing cleaned_chunk_0:  33%|█████████▍                   | 3253/10000 [11:54<34:17,  3.28row/s]"
     ]
    },
    {
     "name": "stdout",
     "output_type": "stream",
     "text": [
      "Progress saved: cleaned_chunk_0, row 3253\r"
     ]
    },
    {
     "name": "stderr",
     "output_type": "stream",
     "text": [
      "Processing cleaned_chunk_0:  33%|█████████▍                   | 3254/10000 [11:54<37:18,  3.01row/s]"
     ]
    },
    {
     "name": "stdout",
     "output_type": "stream",
     "text": [
      "Progress saved: cleaned_chunk_0, row 3254\r"
     ]
    },
    {
     "name": "stderr",
     "output_type": "stream",
     "text": [
      "Processing cleaned_chunk_0:  33%|█████████▍                   | 3255/10000 [11:54<40:26,  2.78row/s]"
     ]
    },
    {
     "name": "stdout",
     "output_type": "stream",
     "text": [
      "Progress saved: cleaned_chunk_0, row 3255\r"
     ]
    },
    {
     "name": "stderr",
     "output_type": "stream",
     "text": [
      "Processing cleaned_chunk_0:  33%|█████████▍                   | 3256/10000 [11:55<39:09,  2.87row/s]"
     ]
    },
    {
     "name": "stdout",
     "output_type": "stream",
     "text": [
      "Progress saved: cleaned_chunk_0, row 3256\r"
     ]
    },
    {
     "name": "stderr",
     "output_type": "stream",
     "text": [
      "Processing cleaned_chunk_0:  33%|█████████▍                   | 3257/10000 [11:55<38:43,  2.90row/s]"
     ]
    },
    {
     "name": "stdout",
     "output_type": "stream",
     "text": [
      "Progress saved: cleaned_chunk_0, row 3257\r"
     ]
    },
    {
     "name": "stderr",
     "output_type": "stream",
     "text": [
      "Processing cleaned_chunk_0:  33%|█████████▍                   | 3258/10000 [11:56<39:22,  2.85row/s]"
     ]
    },
    {
     "name": "stdout",
     "output_type": "stream",
     "text": [
      "Progress saved: cleaned_chunk_0, row 3258\r"
     ]
    },
    {
     "name": "stderr",
     "output_type": "stream",
     "text": [
      "Processing cleaned_chunk_0:  33%|█████████▍                   | 3259/10000 [11:56<44:26,  2.53row/s]"
     ]
    },
    {
     "name": "stdout",
     "output_type": "stream",
     "text": [
      "Progress saved: cleaned_chunk_0, row 3259\r"
     ]
    },
    {
     "name": "stderr",
     "output_type": "stream",
     "text": [
      "Processing cleaned_chunk_0:  33%|█████████▍                   | 3260/10000 [11:57<53:34,  2.10row/s]"
     ]
    },
    {
     "name": "stdout",
     "output_type": "stream",
     "text": [
      "Progress saved: cleaned_chunk_0, row 3260\r"
     ]
    },
    {
     "name": "stderr",
     "output_type": "stream",
     "text": [
      "Processing cleaned_chunk_0:  33%|█████████▍                   | 3261/10000 [11:57<55:37,  2.02row/s]"
     ]
    },
    {
     "name": "stdout",
     "output_type": "stream",
     "text": [
      "Progress saved: cleaned_chunk_0, row 3261\r"
     ]
    },
    {
     "name": "stderr",
     "output_type": "stream",
     "text": [
      "Processing cleaned_chunk_0:  33%|█████████▍                   | 3262/10000 [11:58<49:55,  2.25row/s]"
     ]
    },
    {
     "name": "stdout",
     "output_type": "stream",
     "text": [
      "Progress saved: cleaned_chunk_0, row 3262\r"
     ]
    },
    {
     "name": "stderr",
     "output_type": "stream",
     "text": [
      "Processing cleaned_chunk_0:  33%|█████████▍                   | 3263/10000 [11:58<46:59,  2.39row/s]"
     ]
    },
    {
     "name": "stdout",
     "output_type": "stream",
     "text": [
      "Progress saved: cleaned_chunk_0, row 3263\r"
     ]
    },
    {
     "name": "stderr",
     "output_type": "stream",
     "text": [
      "Processing cleaned_chunk_0:  33%|█████████▍                   | 3264/10000 [11:59<53:28,  2.10row/s]"
     ]
    },
    {
     "name": "stdout",
     "output_type": "stream",
     "text": [
      "Progress saved: cleaned_chunk_0, row 3264\r"
     ]
    },
    {
     "name": "stderr",
     "output_type": "stream",
     "text": [
      "Processing cleaned_chunk_0:  33%|████████▊                  | 3265/10000 [11:59<1:00:51,  1.84row/s]"
     ]
    },
    {
     "name": "stdout",
     "output_type": "stream",
     "text": [
      "Progress saved: cleaned_chunk_0, row 3265\r"
     ]
    },
    {
     "name": "stderr",
     "output_type": "stream",
     "text": [
      "Processing cleaned_chunk_0:  33%|█████████▍                   | 3266/10000 [12:00<57:39,  1.95row/s]"
     ]
    },
    {
     "name": "stdout",
     "output_type": "stream",
     "text": [
      "Progress saved: cleaned_chunk_0, row 3266\r"
     ]
    },
    {
     "name": "stderr",
     "output_type": "stream",
     "text": [
      "Processing cleaned_chunk_0:  33%|█████████▍                   | 3267/10000 [12:00<48:27,  2.32row/s]"
     ]
    },
    {
     "name": "stdout",
     "output_type": "stream",
     "text": [
      "Progress saved: cleaned_chunk_0, row 3267\r"
     ]
    },
    {
     "name": "stderr",
     "output_type": "stream",
     "text": [
      "Processing cleaned_chunk_0:  33%|█████████▍                   | 3268/10000 [12:00<46:41,  2.40row/s]"
     ]
    },
    {
     "name": "stdout",
     "output_type": "stream",
     "text": [
      "Progress saved: cleaned_chunk_0, row 3268\r"
     ]
    },
    {
     "name": "stderr",
     "output_type": "stream",
     "text": [
      "Processing cleaned_chunk_0:  33%|█████████▍                   | 3269/10000 [12:01<41:28,  2.71row/s]"
     ]
    },
    {
     "name": "stdout",
     "output_type": "stream",
     "text": [
      "Progress saved: cleaned_chunk_0, row 3269\r"
     ]
    },
    {
     "name": "stderr",
     "output_type": "stream",
     "text": [
      "Processing cleaned_chunk_0:  33%|█████████▍                   | 3270/10000 [12:01<48:48,  2.30row/s]"
     ]
    },
    {
     "name": "stdout",
     "output_type": "stream",
     "text": [
      "Progress saved: cleaned_chunk_0, row 3270\r"
     ]
    },
    {
     "name": "stderr",
     "output_type": "stream",
     "text": [
      "Processing cleaned_chunk_0:  33%|█████████▍                   | 3271/10000 [12:02<59:35,  1.88row/s]"
     ]
    },
    {
     "name": "stdout",
     "output_type": "stream",
     "text": [
      "Progress saved: cleaned_chunk_0, row 3271\r"
     ]
    },
    {
     "name": "stderr",
     "output_type": "stream",
     "text": [
      "Processing cleaned_chunk_0:  33%|█████████▍                   | 3272/10000 [12:02<59:49,  1.87row/s]"
     ]
    },
    {
     "name": "stdout",
     "output_type": "stream",
     "text": [
      "Progress saved: cleaned_chunk_0, row 3272\r"
     ]
    },
    {
     "name": "stderr",
     "output_type": "stream",
     "text": [
      "Processing cleaned_chunk_0:  33%|█████████▍                   | 3273/10000 [12:03<54:02,  2.07row/s]"
     ]
    },
    {
     "name": "stdout",
     "output_type": "stream",
     "text": [
      "Progress saved: cleaned_chunk_0, row 3273\r"
     ]
    },
    {
     "name": "stderr",
     "output_type": "stream",
     "text": [
      "Processing cleaned_chunk_0:  33%|█████████▍                   | 3275/10000 [12:03<38:20,  2.92row/s]"
     ]
    },
    {
     "name": "stdout",
     "output_type": "stream",
     "text": [
      "Progress saved: cleaned_chunk_0, row 3275\r"
     ]
    },
    {
     "name": "stderr",
     "output_type": "stream",
     "text": [
      "Processing cleaned_chunk_0:  33%|█████████▌                   | 3276/10000 [12:03<32:54,  3.41row/s]"
     ]
    },
    {
     "name": "stdout",
     "output_type": "stream",
     "text": [
      "Progress saved: cleaned_chunk_0, row 3276\r"
     ]
    },
    {
     "name": "stderr",
     "output_type": "stream",
     "text": [
      "Processing cleaned_chunk_0:  33%|█████████▌                   | 3277/10000 [12:04<39:04,  2.87row/s]"
     ]
    },
    {
     "name": "stdout",
     "output_type": "stream",
     "text": [
      "Progress saved: cleaned_chunk_0, row 3277\r"
     ]
    },
    {
     "name": "stderr",
     "output_type": "stream",
     "text": [
      "Processing cleaned_chunk_0:  33%|█████████▌                   | 3278/10000 [12:04<36:39,  3.06row/s]"
     ]
    },
    {
     "name": "stdout",
     "output_type": "stream",
     "text": [
      "Progress saved: cleaned_chunk_0, row 3278\r"
     ]
    },
    {
     "name": "stderr",
     "output_type": "stream",
     "text": [
      "Processing cleaned_chunk_0:  33%|█████████▌                   | 3279/10000 [12:05<50:22,  2.22row/s]"
     ]
    },
    {
     "name": "stdout",
     "output_type": "stream",
     "text": [
      "Progress saved: cleaned_chunk_0, row 3279\r"
     ]
    },
    {
     "name": "stderr",
     "output_type": "stream",
     "text": [
      "Processing cleaned_chunk_0:  33%|█████████▌                   | 3280/10000 [12:05<48:48,  2.29row/s]"
     ]
    },
    {
     "name": "stdout",
     "output_type": "stream",
     "text": [
      "Progress saved: cleaned_chunk_0, row 3280\r"
     ]
    },
    {
     "name": "stderr",
     "output_type": "stream",
     "text": [
      "Processing cleaned_chunk_0:  33%|█████████▌                   | 3281/10000 [12:06<52:17,  2.14row/s]"
     ]
    },
    {
     "name": "stdout",
     "output_type": "stream",
     "text": [
      "Progress saved: cleaned_chunk_0, row 3281\r"
     ]
    },
    {
     "name": "stderr",
     "output_type": "stream",
     "text": [
      "Processing cleaned_chunk_0:  33%|█████████▌                   | 3282/10000 [12:06<52:23,  2.14row/s]"
     ]
    },
    {
     "name": "stdout",
     "output_type": "stream",
     "text": [
      "Progress saved: cleaned_chunk_0, row 3282\r"
     ]
    },
    {
     "name": "stderr",
     "output_type": "stream",
     "text": [
      "Processing cleaned_chunk_0:  33%|█████████▌                   | 3283/10000 [12:07<46:47,  2.39row/s]"
     ]
    },
    {
     "name": "stdout",
     "output_type": "stream",
     "text": [
      "Progress saved: cleaned_chunk_0, row 3283\r"
     ]
    },
    {
     "name": "stderr",
     "output_type": "stream",
     "text": [
      "Processing cleaned_chunk_0:  33%|█████████▌                   | 3284/10000 [12:07<51:04,  2.19row/s]"
     ]
    },
    {
     "name": "stdout",
     "output_type": "stream",
     "text": [
      "Progress saved: cleaned_chunk_0, row 3284\r"
     ]
    },
    {
     "name": "stderr",
     "output_type": "stream",
     "text": [
      "Processing cleaned_chunk_0:  33%|█████████▌                   | 3285/10000 [12:07<46:25,  2.41row/s]"
     ]
    },
    {
     "name": "stdout",
     "output_type": "stream",
     "text": [
      "Progress saved: cleaned_chunk_0, row 3285\r"
     ]
    },
    {
     "name": "stderr",
     "output_type": "stream",
     "text": [
      "Processing cleaned_chunk_0:  33%|█████████▌                   | 3286/10000 [12:08<52:44,  2.12row/s]"
     ]
    },
    {
     "name": "stdout",
     "output_type": "stream",
     "text": [
      "Progress saved: cleaned_chunk_0, row 3286\r"
     ]
    },
    {
     "name": "stderr",
     "output_type": "stream",
     "text": [
      "Processing cleaned_chunk_0:  33%|█████████▌                   | 3287/10000 [12:09<51:29,  2.17row/s]"
     ]
    },
    {
     "name": "stdout",
     "output_type": "stream",
     "text": [
      "Progress saved: cleaned_chunk_0, row 3287\r"
     ]
    },
    {
     "name": "stderr",
     "output_type": "stream",
     "text": [
      "Processing cleaned_chunk_0:  33%|█████████▌                   | 3288/10000 [12:09<56:42,  1.97row/s]"
     ]
    },
    {
     "name": "stdout",
     "output_type": "stream",
     "text": [
      "Progress saved: cleaned_chunk_0, row 3288\r"
     ]
    },
    {
     "name": "stderr",
     "output_type": "stream",
     "text": [
      "Processing cleaned_chunk_0:  33%|████████▉                  | 3289/10000 [12:10<1:03:36,  1.76row/s]"
     ]
    },
    {
     "name": "stdout",
     "output_type": "stream",
     "text": [
      "Progress saved: cleaned_chunk_0, row 3289\r"
     ]
    },
    {
     "name": "stderr",
     "output_type": "stream",
     "text": [
      "Processing cleaned_chunk_0:  33%|█████████▌                   | 3290/10000 [12:10<54:05,  2.07row/s]"
     ]
    },
    {
     "name": "stdout",
     "output_type": "stream",
     "text": [
      "Progress saved: cleaned_chunk_0, row 3290\r"
     ]
    },
    {
     "name": "stderr",
     "output_type": "stream",
     "text": [
      "Processing cleaned_chunk_0:  33%|█████████▌                   | 3291/10000 [12:10<45:06,  2.48row/s]"
     ]
    },
    {
     "name": "stdout",
     "output_type": "stream",
     "text": [
      "Progress saved: cleaned_chunk_0, row 3292\r"
     ]
    },
    {
     "name": "stderr",
     "output_type": "stream",
     "text": [
      "Processing cleaned_chunk_0:  33%|█████████▌                   | 3293/10000 [12:11<33:20,  3.35row/s]"
     ]
    },
    {
     "name": "stdout",
     "output_type": "stream",
     "text": [
      "Progress saved: cleaned_chunk_0, row 3294\r"
     ]
    },
    {
     "name": "stderr",
     "output_type": "stream",
     "text": [
      "Processing cleaned_chunk_0:  33%|█████████▌                   | 3295/10000 [12:11<25:17,  4.42row/s]"
     ]
    },
    {
     "name": "stdout",
     "output_type": "stream",
     "text": [
      "Progress saved: cleaned_chunk_0, row 3296\r"
     ]
    },
    {
     "name": "stderr",
     "output_type": "stream",
     "text": [
      "Processing cleaned_chunk_0:  33%|█████████▌                   | 3297/10000 [12:12<25:42,  4.35row/s]"
     ]
    },
    {
     "name": "stdout",
     "output_type": "stream",
     "text": [
      "Progress saved: cleaned_chunk_0, row 3297\r"
     ]
    },
    {
     "name": "stderr",
     "output_type": "stream",
     "text": [
      "Processing cleaned_chunk_0:  33%|█████████▌                   | 3298/10000 [12:12<25:02,  4.46row/s]"
     ]
    },
    {
     "name": "stdout",
     "output_type": "stream",
     "text": [
      "Progress saved: cleaned_chunk_0, row 3298\r"
     ]
    },
    {
     "name": "stderr",
     "output_type": "stream",
     "text": [
      "Processing cleaned_chunk_0:  33%|█████████▌                   | 3299/10000 [12:12<38:23,  2.91row/s]"
     ]
    },
    {
     "name": "stdout",
     "output_type": "stream",
     "text": [
      "Progress saved: cleaned_chunk_0, row 3299\r"
     ]
    },
    {
     "name": "stderr",
     "output_type": "stream",
     "text": [
      "Processing cleaned_chunk_0:  33%|█████████▌                   | 3300/10000 [12:13<39:54,  2.80row/s]"
     ]
    },
    {
     "name": "stdout",
     "output_type": "stream",
     "text": [
      "Progress saved: cleaned_chunk_0, row 3300\r"
     ]
    },
    {
     "name": "stderr",
     "output_type": "stream",
     "text": [
      "Processing cleaned_chunk_0:  33%|█████████▌                   | 3301/10000 [12:13<39:45,  2.81row/s]"
     ]
    },
    {
     "name": "stdout",
     "output_type": "stream",
     "text": [
      "Progress saved: cleaned_chunk_0, row 3302\r"
     ]
    },
    {
     "name": "stderr",
     "output_type": "stream",
     "text": [
      "Processing cleaned_chunk_0:  33%|█████████▌                   | 3303/10000 [12:14<31:21,  3.56row/s]"
     ]
    },
    {
     "name": "stdout",
     "output_type": "stream",
     "text": [
      "Progress saved: cleaned_chunk_0, row 3303\r"
     ]
    },
    {
     "name": "stderr",
     "output_type": "stream",
     "text": [
      "Processing cleaned_chunk_0:  33%|█████████▌                   | 3304/10000 [12:14<29:32,  3.78row/s]"
     ]
    },
    {
     "name": "stdout",
     "output_type": "stream",
     "text": [
      "Progress saved: cleaned_chunk_0, row 3305\r"
     ]
    },
    {
     "name": "stderr",
     "output_type": "stream",
     "text": [
      "Processing cleaned_chunk_0:  33%|█████████▌                   | 3306/10000 [12:14<25:57,  4.30row/s]"
     ]
    },
    {
     "name": "stdout",
     "output_type": "stream",
     "text": [
      "Progress saved: cleaned_chunk_0, row 3306\r"
     ]
    },
    {
     "name": "stderr",
     "output_type": "stream",
     "text": [
      "Processing cleaned_chunk_0:  33%|█████████▌                   | 3308/10000 [12:15<23:19,  4.78row/s]"
     ]
    },
    {
     "name": "stdout",
     "output_type": "stream",
     "text": [
      "Progress saved: cleaned_chunk_0, row 3308\r"
     ]
    },
    {
     "name": "stderr",
     "output_type": "stream",
     "text": [
      "Processing cleaned_chunk_0:  33%|█████████▌                   | 3309/10000 [12:15<25:15,  4.42row/s]"
     ]
    },
    {
     "name": "stdout",
     "output_type": "stream",
     "text": [
      "Progress saved: cleaned_chunk_0, row 3309\r"
     ]
    },
    {
     "name": "stderr",
     "output_type": "stream",
     "text": [
      "Processing cleaned_chunk_0:  33%|█████████▌                   | 3310/10000 [12:15<24:50,  4.49row/s]"
     ]
    },
    {
     "name": "stdout",
     "output_type": "stream",
     "text": [
      "Progress saved: cleaned_chunk_0, row 3310\r"
     ]
    },
    {
     "name": "stderr",
     "output_type": "stream",
     "text": [
      "Processing cleaned_chunk_0:  33%|█████████▌                   | 3311/10000 [12:15<28:43,  3.88row/s]"
     ]
    },
    {
     "name": "stdout",
     "output_type": "stream",
     "text": [
      "Progress saved: cleaned_chunk_0, row 3311\r"
     ]
    },
    {
     "name": "stderr",
     "output_type": "stream",
     "text": [
      "Processing cleaned_chunk_0:  33%|█████████▌                   | 3312/10000 [12:16<28:28,  3.92row/s]"
     ]
    },
    {
     "name": "stdout",
     "output_type": "stream",
     "text": [
      "Progress saved: cleaned_chunk_0, row 3312\r"
     ]
    },
    {
     "name": "stderr",
     "output_type": "stream",
     "text": [
      "Processing cleaned_chunk_0:  33%|█████████▌                   | 3313/10000 [12:16<27:34,  4.04row/s]"
     ]
    },
    {
     "name": "stdout",
     "output_type": "stream",
     "text": [
      "Progress saved: cleaned_chunk_0, row 3313\r"
     ]
    },
    {
     "name": "stderr",
     "output_type": "stream",
     "text": [
      "Processing cleaned_chunk_0:  33%|█████████▌                   | 3314/10000 [12:16<36:02,  3.09row/s]"
     ]
    },
    {
     "name": "stdout",
     "output_type": "stream",
     "text": [
      "Progress saved: cleaned_chunk_0, row 3314\r"
     ]
    },
    {
     "name": "stderr",
     "output_type": "stream",
     "text": [
      "Processing cleaned_chunk_0:  33%|█████████▌                   | 3315/10000 [12:17<37:27,  2.97row/s]"
     ]
    },
    {
     "name": "stdout",
     "output_type": "stream",
     "text": [
      "Progress saved: cleaned_chunk_0, row 3315\r"
     ]
    },
    {
     "name": "stderr",
     "output_type": "stream",
     "text": [
      "Processing cleaned_chunk_0:  33%|█████████▌                   | 3316/10000 [12:17<34:13,  3.26row/s]"
     ]
    },
    {
     "name": "stdout",
     "output_type": "stream",
     "text": [
      "Progress saved: cleaned_chunk_0, row 3316\r"
     ]
    },
    {
     "name": "stderr",
     "output_type": "stream",
     "text": [
      "Processing cleaned_chunk_0:  33%|█████████▌                   | 3317/10000 [12:17<32:34,  3.42row/s]"
     ]
    },
    {
     "name": "stdout",
     "output_type": "stream",
     "text": [
      "Progress saved: cleaned_chunk_0, row 3317\r"
     ]
    },
    {
     "name": "stderr",
     "output_type": "stream",
     "text": [
      "Processing cleaned_chunk_0:  33%|█████████▌                   | 3318/10000 [12:18<34:07,  3.26row/s]"
     ]
    },
    {
     "name": "stdout",
     "output_type": "stream",
     "text": [
      "Progress saved: cleaned_chunk_0, row 3318\r"
     ]
    },
    {
     "name": "stderr",
     "output_type": "stream",
     "text": [
      "Processing cleaned_chunk_0:  33%|█████████▋                   | 3319/10000 [12:18<32:36,  3.41row/s]"
     ]
    },
    {
     "name": "stdout",
     "output_type": "stream",
     "text": [
      "Progress saved: cleaned_chunk_0, row 3319\r"
     ]
    },
    {
     "name": "stderr",
     "output_type": "stream",
     "text": [
      "Processing cleaned_chunk_0:  33%|█████████▋                   | 3320/10000 [12:18<31:28,  3.54row/s]"
     ]
    },
    {
     "name": "stdout",
     "output_type": "stream",
     "text": [
      "Progress saved: cleaned_chunk_0, row 3320\r"
     ]
    },
    {
     "name": "stderr",
     "output_type": "stream",
     "text": [
      "Processing cleaned_chunk_0:  33%|█████████▋                   | 3321/10000 [12:18<31:47,  3.50row/s]"
     ]
    },
    {
     "name": "stdout",
     "output_type": "stream",
     "text": [
      "Progress saved: cleaned_chunk_0, row 3321\r"
     ]
    },
    {
     "name": "stderr",
     "output_type": "stream",
     "text": [
      "Processing cleaned_chunk_0:  33%|█████████▋                   | 3322/10000 [12:19<33:01,  3.37row/s]"
     ]
    },
    {
     "name": "stdout",
     "output_type": "stream",
     "text": [
      "Progress saved: cleaned_chunk_0, row 3322\r"
     ]
    },
    {
     "name": "stderr",
     "output_type": "stream",
     "text": [
      "Processing cleaned_chunk_0:  33%|█████████▋                   | 3323/10000 [12:19<42:14,  2.63row/s]"
     ]
    },
    {
     "name": "stdout",
     "output_type": "stream",
     "text": [
      "Progress saved: cleaned_chunk_0, row 3323\r"
     ]
    },
    {
     "name": "stderr",
     "output_type": "stream",
     "text": [
      "Processing cleaned_chunk_0:  33%|█████████▋                   | 3324/10000 [12:20<48:45,  2.28row/s]"
     ]
    },
    {
     "name": "stdout",
     "output_type": "stream",
     "text": [
      "Progress saved: cleaned_chunk_0, row 3324\r"
     ]
    },
    {
     "name": "stderr",
     "output_type": "stream",
     "text": [
      "Processing cleaned_chunk_0:  33%|█████████▋                   | 3325/10000 [12:20<43:33,  2.55row/s]"
     ]
    },
    {
     "name": "stdout",
     "output_type": "stream",
     "text": [
      "Progress saved: cleaned_chunk_0, row 3325\r"
     ]
    },
    {
     "name": "stderr",
     "output_type": "stream",
     "text": [
      "Processing cleaned_chunk_0:  33%|█████████▋                   | 3326/10000 [12:21<44:53,  2.48row/s]"
     ]
    },
    {
     "name": "stdout",
     "output_type": "stream",
     "text": [
      "Progress saved: cleaned_chunk_0, row 3326\r"
     ]
    },
    {
     "name": "stderr",
     "output_type": "stream",
     "text": [
      "Processing cleaned_chunk_0:  33%|█████████▋                   | 3327/10000 [12:21<41:47,  2.66row/s]"
     ]
    },
    {
     "name": "stdout",
     "output_type": "stream",
     "text": [
      "Progress saved: cleaned_chunk_0, row 3327\r"
     ]
    },
    {
     "name": "stderr",
     "output_type": "stream",
     "text": [
      "Processing cleaned_chunk_0:  33%|█████████▋                   | 3329/10000 [12:21<35:58,  3.09row/s]"
     ]
    },
    {
     "name": "stdout",
     "output_type": "stream",
     "text": [
      "Progress saved: cleaned_chunk_0, row 3329\r"
     ]
    },
    {
     "name": "stderr",
     "output_type": "stream",
     "text": [
      "Processing cleaned_chunk_0:  33%|█████████▋                   | 3330/10000 [12:22<33:14,  3.34row/s]"
     ]
    },
    {
     "name": "stdout",
     "output_type": "stream",
     "text": [
      "Progress saved: cleaned_chunk_0, row 3330\r"
     ]
    },
    {
     "name": "stderr",
     "output_type": "stream",
     "text": [
      "Processing cleaned_chunk_0:  33%|█████████▋                   | 3331/10000 [12:22<31:45,  3.50row/s]"
     ]
    },
    {
     "name": "stdout",
     "output_type": "stream",
     "text": [
      "Progress saved: cleaned_chunk_0, row 3331\r"
     ]
    },
    {
     "name": "stderr",
     "output_type": "stream",
     "text": [
      "Processing cleaned_chunk_0:  33%|█████████▋                   | 3332/10000 [12:22<29:32,  3.76row/s]"
     ]
    },
    {
     "name": "stdout",
     "output_type": "stream",
     "text": [
      "Progress saved: cleaned_chunk_0, row 3332\r"
     ]
    },
    {
     "name": "stderr",
     "output_type": "stream",
     "text": [
      "Processing cleaned_chunk_0:  33%|█████████▋                   | 3333/10000 [12:23<37:13,  2.99row/s]"
     ]
    },
    {
     "name": "stdout",
     "output_type": "stream",
     "text": [
      "Progress saved: cleaned_chunk_0, row 3333\r"
     ]
    },
    {
     "name": "stderr",
     "output_type": "stream",
     "text": [
      "Processing cleaned_chunk_0:  33%|█████████▋                   | 3334/10000 [12:23<37:35,  2.96row/s]"
     ]
    },
    {
     "name": "stdout",
     "output_type": "stream",
     "text": [
      "Progress saved: cleaned_chunk_0, row 3334\r"
     ]
    },
    {
     "name": "stderr",
     "output_type": "stream",
     "text": [
      "Processing cleaned_chunk_0:  33%|█████████▋                   | 3335/10000 [12:23<34:37,  3.21row/s]"
     ]
    },
    {
     "name": "stdout",
     "output_type": "stream",
     "text": [
      "Progress saved: cleaned_chunk_0, row 3335\r"
     ]
    },
    {
     "name": "stderr",
     "output_type": "stream",
     "text": [
      "Processing cleaned_chunk_0:  33%|█████████▋                   | 3336/10000 [12:23<32:13,  3.45row/s]"
     ]
    },
    {
     "name": "stdout",
     "output_type": "stream",
     "text": [
      "Progress saved: cleaned_chunk_0, row 3337\r"
     ]
    },
    {
     "name": "stderr",
     "output_type": "stream",
     "text": [
      "Processing cleaned_chunk_0:  33%|█████████▋                   | 3338/10000 [12:24<28:51,  3.85row/s]"
     ]
    },
    {
     "name": "stdout",
     "output_type": "stream",
     "text": [
      "Progress saved: cleaned_chunk_0, row 3339\r"
     ]
    },
    {
     "name": "stderr",
     "output_type": "stream",
     "text": [
      "Processing cleaned_chunk_0:  33%|█████████▋                   | 3340/10000 [12:24<27:18,  4.06row/s]"
     ]
    },
    {
     "name": "stdout",
     "output_type": "stream",
     "text": [
      "Progress saved: cleaned_chunk_0, row 3340\r"
     ]
    },
    {
     "name": "stderr",
     "output_type": "stream",
     "text": [
      "Processing cleaned_chunk_0:  33%|█████████▋                   | 3341/10000 [12:25<29:16,  3.79row/s]"
     ]
    },
    {
     "name": "stdout",
     "output_type": "stream",
     "text": [
      "Progress saved: cleaned_chunk_0, row 3342\r"
     ]
    },
    {
     "name": "stderr",
     "output_type": "stream",
     "text": [
      "Processing cleaned_chunk_0:  33%|█████████▋                   | 3343/10000 [12:25<25:02,  4.43row/s]"
     ]
    },
    {
     "name": "stdout",
     "output_type": "stream",
     "text": [
      "Progress saved: cleaned_chunk_0, row 3343\r"
     ]
    },
    {
     "name": "stderr",
     "output_type": "stream",
     "text": [
      "Processing cleaned_chunk_0:  33%|█████████▋                   | 3344/10000 [12:25<27:31,  4.03row/s]"
     ]
    },
    {
     "name": "stdout",
     "output_type": "stream",
     "text": [
      "Progress saved: cleaned_chunk_0, row 3345\r"
     ]
    },
    {
     "name": "stderr",
     "output_type": "stream",
     "text": [
      "Processing cleaned_chunk_0:  33%|█████████▋                   | 3346/10000 [12:26<25:28,  4.35row/s]"
     ]
    },
    {
     "name": "stdout",
     "output_type": "stream",
     "text": [
      "Progress saved: cleaned_chunk_0, row 3346\r"
     ]
    },
    {
     "name": "stderr",
     "output_type": "stream",
     "text": [
      "Processing cleaned_chunk_0:  33%|█████████▋                   | 3347/10000 [12:26<29:34,  3.75row/s]"
     ]
    },
    {
     "name": "stdout",
     "output_type": "stream",
     "text": [
      "Progress saved: cleaned_chunk_0, row 3347\r"
     ]
    },
    {
     "name": "stderr",
     "output_type": "stream",
     "text": [
      "Processing cleaned_chunk_0:  33%|█████████▋                   | 3348/10000 [12:27<34:03,  3.26row/s]"
     ]
    },
    {
     "name": "stdout",
     "output_type": "stream",
     "text": [
      "Progress saved: cleaned_chunk_0, row 3348\r"
     ]
    },
    {
     "name": "stderr",
     "output_type": "stream",
     "text": [
      "Processing cleaned_chunk_0:  33%|█████████▋                   | 3349/10000 [12:27<32:04,  3.46row/s]"
     ]
    },
    {
     "name": "stdout",
     "output_type": "stream",
     "text": [
      "Progress saved: cleaned_chunk_0, row 3349\r"
     ]
    },
    {
     "name": "stderr",
     "output_type": "stream",
     "text": [
      "Processing cleaned_chunk_0:  34%|█████████▋                   | 3350/10000 [12:27<30:09,  3.68row/s]"
     ]
    },
    {
     "name": "stdout",
     "output_type": "stream",
     "text": [
      "Progress saved: cleaned_chunk_0, row 3351\r"
     ]
    },
    {
     "name": "stderr",
     "output_type": "stream",
     "text": [
      "Processing cleaned_chunk_0:  34%|█████████▋                   | 3352/10000 [12:27<26:00,  4.26row/s]"
     ]
    },
    {
     "name": "stdout",
     "output_type": "stream",
     "text": [
      "Progress saved: cleaned_chunk_0, row 3352\r"
     ]
    },
    {
     "name": "stderr",
     "output_type": "stream",
     "text": [
      "Processing cleaned_chunk_0:  34%|█████████▋                   | 3353/10000 [12:28<26:38,  4.16row/s]"
     ]
    },
    {
     "name": "stdout",
     "output_type": "stream",
     "text": [
      "Progress saved: cleaned_chunk_0, row 3353\r"
     ]
    },
    {
     "name": "stderr",
     "output_type": "stream",
     "text": [
      "Processing cleaned_chunk_0:  34%|█████████▋                   | 3354/10000 [12:28<27:48,  3.98row/s]"
     ]
    },
    {
     "name": "stdout",
     "output_type": "stream",
     "text": [
      "Progress saved: cleaned_chunk_0, row 3354\r"
     ]
    },
    {
     "name": "stderr",
     "output_type": "stream",
     "text": [
      "Processing cleaned_chunk_0:  34%|█████████▋                   | 3355/10000 [12:28<26:48,  4.13row/s]"
     ]
    },
    {
     "name": "stdout",
     "output_type": "stream",
     "text": [
      "Progress saved: cleaned_chunk_0, row 3356\r"
     ]
    },
    {
     "name": "stderr",
     "output_type": "stream",
     "text": [
      "Processing cleaned_chunk_0:  34%|█████████▋                   | 3357/10000 [12:29<24:22,  4.54row/s]"
     ]
    },
    {
     "name": "stdout",
     "output_type": "stream",
     "text": [
      "Progress saved: cleaned_chunk_0, row 3357\r"
     ]
    },
    {
     "name": "stderr",
     "output_type": "stream",
     "text": [
      "Processing cleaned_chunk_0:  34%|█████████▋                   | 3359/10000 [12:29<23:13,  4.76row/s]"
     ]
    },
    {
     "name": "stdout",
     "output_type": "stream",
     "text": [
      "Progress saved: cleaned_chunk_0, row 3359\r"
     ]
    },
    {
     "name": "stderr",
     "output_type": "stream",
     "text": [
      "Processing cleaned_chunk_0:  34%|█████████▋                   | 3360/10000 [12:29<26:56,  4.11row/s]"
     ]
    },
    {
     "name": "stdout",
     "output_type": "stream",
     "text": [
      "Progress saved: cleaned_chunk_0, row 3360\r"
     ]
    },
    {
     "name": "stderr",
     "output_type": "stream",
     "text": [
      "Processing cleaned_chunk_0:  34%|█████████▋                   | 3361/10000 [12:30<35:09,  3.15row/s]"
     ]
    },
    {
     "name": "stdout",
     "output_type": "stream",
     "text": [
      "Progress saved: cleaned_chunk_0, row 3361\r"
     ]
    },
    {
     "name": "stderr",
     "output_type": "stream",
     "text": [
      "Processing cleaned_chunk_0:  34%|█████████▋                   | 3362/10000 [12:30<31:35,  3.50row/s]"
     ]
    },
    {
     "name": "stdout",
     "output_type": "stream",
     "text": [
      "Progress saved: cleaned_chunk_0, row 3362\r"
     ]
    },
    {
     "name": "stderr",
     "output_type": "stream",
     "text": [
      "Processing cleaned_chunk_0:  34%|█████████▊                   | 3363/10000 [12:30<29:52,  3.70row/s]"
     ]
    },
    {
     "name": "stdout",
     "output_type": "stream",
     "text": [
      "Progress saved: cleaned_chunk_0, row 3364\r"
     ]
    },
    {
     "name": "stderr",
     "output_type": "stream",
     "text": [
      "Processing cleaned_chunk_0:  34%|█████████▊                   | 3365/10000 [12:31<28:19,  3.91row/s]"
     ]
    },
    {
     "name": "stdout",
     "output_type": "stream",
     "text": [
      "Progress saved: cleaned_chunk_0, row 3365\r"
     ]
    },
    {
     "name": "stderr",
     "output_type": "stream",
     "text": [
      "Processing cleaned_chunk_0:  34%|█████████▊                   | 3366/10000 [12:31<30:19,  3.65row/s]"
     ]
    },
    {
     "name": "stdout",
     "output_type": "stream",
     "text": [
      "Progress saved: cleaned_chunk_0, row 3366\r"
     ]
    },
    {
     "name": "stderr",
     "output_type": "stream",
     "text": [
      "Processing cleaned_chunk_0:  34%|█████████▊                   | 3367/10000 [12:31<28:49,  3.84row/s]"
     ]
    },
    {
     "name": "stdout",
     "output_type": "stream",
     "text": [
      "Progress saved: cleaned_chunk_0, row 3367\r"
     ]
    },
    {
     "name": "stderr",
     "output_type": "stream",
     "text": [
      "Processing cleaned_chunk_0:  34%|█████████▊                   | 3368/10000 [12:31<27:19,  4.04row/s]"
     ]
    },
    {
     "name": "stdout",
     "output_type": "stream",
     "text": [
      "Progress saved: cleaned_chunk_0, row 3368\r"
     ]
    },
    {
     "name": "stderr",
     "output_type": "stream",
     "text": [
      "Processing cleaned_chunk_0:  34%|█████████▊                   | 3369/10000 [12:32<28:51,  3.83row/s]"
     ]
    },
    {
     "name": "stdout",
     "output_type": "stream",
     "text": [
      "Progress saved: cleaned_chunk_0, row 3369\r"
     ]
    },
    {
     "name": "stderr",
     "output_type": "stream",
     "text": [
      "Processing cleaned_chunk_0:  34%|█████████▊                   | 3370/10000 [12:32<29:33,  3.74row/s]"
     ]
    },
    {
     "name": "stdout",
     "output_type": "stream",
     "text": [
      "Progress saved: cleaned_chunk_0, row 3370\r"
     ]
    },
    {
     "name": "stderr",
     "output_type": "stream",
     "text": [
      "Processing cleaned_chunk_0:  34%|█████████▊                   | 3371/10000 [12:32<28:02,  3.94row/s]"
     ]
    },
    {
     "name": "stdout",
     "output_type": "stream",
     "text": [
      "Progress saved: cleaned_chunk_0, row 3371\r"
     ]
    },
    {
     "name": "stderr",
     "output_type": "stream",
     "text": [
      "Processing cleaned_chunk_0:  34%|█████████▊                   | 3372/10000 [12:32<27:28,  4.02row/s]"
     ]
    },
    {
     "name": "stdout",
     "output_type": "stream",
     "text": [
      "Progress saved: cleaned_chunk_0, row 3372\r"
     ]
    },
    {
     "name": "stderr",
     "output_type": "stream",
     "text": [
      "Processing cleaned_chunk_0:  34%|█████████▊                   | 3373/10000 [12:33<27:17,  4.05row/s]"
     ]
    },
    {
     "name": "stdout",
     "output_type": "stream",
     "text": [
      "Progress saved: cleaned_chunk_0, row 3373\r"
     ]
    },
    {
     "name": "stderr",
     "output_type": "stream",
     "text": [
      "Processing cleaned_chunk_0:  34%|█████████▊                   | 3374/10000 [12:33<32:02,  3.45row/s]"
     ]
    },
    {
     "name": "stdout",
     "output_type": "stream",
     "text": [
      "Progress saved: cleaned_chunk_0, row 3374\r"
     ]
    },
    {
     "name": "stderr",
     "output_type": "stream",
     "text": [
      "Processing cleaned_chunk_0:  34%|█████████▊                   | 3375/10000 [12:33<30:58,  3.56row/s]"
     ]
    },
    {
     "name": "stdout",
     "output_type": "stream",
     "text": [
      "Progress saved: cleaned_chunk_0, row 3375\r"
     ]
    },
    {
     "name": "stderr",
     "output_type": "stream",
     "text": [
      "Processing cleaned_chunk_0:  34%|█████████▊                   | 3376/10000 [12:34<28:51,  3.83row/s]"
     ]
    },
    {
     "name": "stdout",
     "output_type": "stream",
     "text": [
      "Progress saved: cleaned_chunk_0, row 3377\r"
     ]
    },
    {
     "name": "stderr",
     "output_type": "stream",
     "text": [
      "Processing cleaned_chunk_0:  34%|█████████▊                   | 3378/10000 [12:34<26:27,  4.17row/s]"
     ]
    },
    {
     "name": "stdout",
     "output_type": "stream",
     "text": [
      "Progress saved: cleaned_chunk_0, row 3378\r"
     ]
    },
    {
     "name": "stderr",
     "output_type": "stream",
     "text": [
      "Processing cleaned_chunk_0:  34%|█████████▊                   | 3379/10000 [12:35<36:03,  3.06row/s]"
     ]
    },
    {
     "name": "stdout",
     "output_type": "stream",
     "text": [
      "Progress saved: cleaned_chunk_0, row 3380\r"
     ]
    },
    {
     "name": "stderr",
     "output_type": "stream",
     "text": [
      "Processing cleaned_chunk_0:  34%|█████████▊                   | 3381/10000 [12:35<31:47,  3.47row/s]"
     ]
    },
    {
     "name": "stdout",
     "output_type": "stream",
     "text": [
      "Progress saved: cleaned_chunk_0, row 3382\r"
     ]
    },
    {
     "name": "stderr",
     "output_type": "stream",
     "text": [
      "Processing cleaned_chunk_0:  34%|█████████▊                   | 3384/10000 [12:36<25:09,  4.38row/s]"
     ]
    },
    {
     "name": "stdout",
     "output_type": "stream",
     "text": [
      "Progress saved: cleaned_chunk_0, row 3384\r"
     ]
    },
    {
     "name": "stderr",
     "output_type": "stream",
     "text": [
      "Processing cleaned_chunk_0:  34%|█████████▊                   | 3385/10000 [12:36<26:43,  4.13row/s]"
     ]
    },
    {
     "name": "stdout",
     "output_type": "stream",
     "text": [
      "Progress saved: cleaned_chunk_0, row 3385\r"
     ]
    },
    {
     "name": "stderr",
     "output_type": "stream",
     "text": [
      "Processing cleaned_chunk_0:  34%|█████████▊                   | 3387/10000 [12:36<24:10,  4.56row/s]"
     ]
    },
    {
     "name": "stdout",
     "output_type": "stream",
     "text": [
      "Progress saved: cleaned_chunk_0, row 3387\r"
     ]
    },
    {
     "name": "stderr",
     "output_type": "stream",
     "text": [
      "Processing cleaned_chunk_0:  34%|█████████▊                   | 3388/10000 [12:37<25:41,  4.29row/s]"
     ]
    },
    {
     "name": "stdout",
     "output_type": "stream",
     "text": [
      "Progress saved: cleaned_chunk_0, row 3388\r"
     ]
    },
    {
     "name": "stderr",
     "output_type": "stream",
     "text": [
      "Processing cleaned_chunk_0:  34%|█████████▊                   | 3389/10000 [12:37<25:07,  4.38row/s]"
     ]
    },
    {
     "name": "stdout",
     "output_type": "stream",
     "text": [
      "Progress saved: cleaned_chunk_0, row 3389\r"
     ]
    },
    {
     "name": "stderr",
     "output_type": "stream",
     "text": [
      "Processing cleaned_chunk_0:  34%|█████████▊                   | 3390/10000 [12:37<35:27,  3.11row/s]"
     ]
    },
    {
     "name": "stdout",
     "output_type": "stream",
     "text": [
      "Progress saved: cleaned_chunk_0, row 3391\r"
     ]
    },
    {
     "name": "stderr",
     "output_type": "stream",
     "text": [
      "Processing cleaned_chunk_0:  34%|█████████▊                   | 3392/10000 [12:38<29:23,  3.75row/s]"
     ]
    },
    {
     "name": "stdout",
     "output_type": "stream",
     "text": [
      "Progress saved: cleaned_chunk_0, row 3392\r"
     ]
    },
    {
     "name": "stderr",
     "output_type": "stream",
     "text": [
      "Processing cleaned_chunk_0:  34%|█████████▊                   | 3393/10000 [12:38<29:18,  3.76row/s]"
     ]
    },
    {
     "name": "stdout",
     "output_type": "stream",
     "text": [
      "Progress saved: cleaned_chunk_0, row 3394\r"
     ]
    },
    {
     "name": "stderr",
     "output_type": "stream",
     "text": [
      "Processing cleaned_chunk_0:  34%|█████████▊                   | 3395/10000 [12:38<26:54,  4.09row/s]"
     ]
    },
    {
     "name": "stdout",
     "output_type": "stream",
     "text": [
      "Progress saved: cleaned_chunk_0, row 3396\r"
     ]
    },
    {
     "name": "stderr",
     "output_type": "stream",
     "text": [
      "Processing cleaned_chunk_0:  34%|█████████▊                   | 3397/10000 [12:39<23:06,  4.76row/s]"
     ]
    },
    {
     "name": "stdout",
     "output_type": "stream",
     "text": [
      "Progress saved: cleaned_chunk_0, row 3398\r"
     ]
    },
    {
     "name": "stderr",
     "output_type": "stream",
     "text": [
      "Processing cleaned_chunk_0:  34%|█████████▊                   | 3400/10000 [12:39<23:16,  4.73row/s]"
     ]
    },
    {
     "name": "stdout",
     "output_type": "stream",
     "text": [
      "Progress saved: cleaned_chunk_0, row 3400\r"
     ]
    },
    {
     "name": "stderr",
     "output_type": "stream",
     "text": [
      "Processing cleaned_chunk_0:  34%|█████████▊                   | 3401/10000 [12:40<21:20,  5.15row/s]"
     ]
    },
    {
     "name": "stdout",
     "output_type": "stream",
     "text": [
      "Progress saved: cleaned_chunk_0, row 3401\r"
     ]
    },
    {
     "name": "stderr",
     "output_type": "stream",
     "text": [
      "Processing cleaned_chunk_0:  34%|█████████▊                   | 3403/10000 [12:40<20:10,  5.45row/s]"
     ]
    },
    {
     "name": "stdout",
     "output_type": "stream",
     "text": [
      "Progress saved: cleaned_chunk_0, row 3403\r"
     ]
    },
    {
     "name": "stderr",
     "output_type": "stream",
     "text": [
      "Processing cleaned_chunk_0:  34%|█████████▊                   | 3404/10000 [12:40<20:46,  5.29row/s]"
     ]
    },
    {
     "name": "stdout",
     "output_type": "stream",
     "text": [
      "Progress saved: cleaned_chunk_0, row 3405\r"
     ]
    },
    {
     "name": "stderr",
     "output_type": "stream",
     "text": [
      "Processing cleaned_chunk_0:  34%|█████████▉                   | 3406/10000 [12:41<21:28,  5.12row/s]"
     ]
    },
    {
     "name": "stdout",
     "output_type": "stream",
     "text": [
      "Progress saved: cleaned_chunk_0, row 3406\r"
     ]
    },
    {
     "name": "stderr",
     "output_type": "stream",
     "text": [
      "Processing cleaned_chunk_0:  34%|█████████▉                   | 3407/10000 [12:41<31:21,  3.50row/s]"
     ]
    },
    {
     "name": "stdout",
     "output_type": "stream",
     "text": [
      "Progress saved: cleaned_chunk_0, row 3407\r"
     ]
    },
    {
     "name": "stderr",
     "output_type": "stream",
     "text": [
      "Processing cleaned_chunk_0:  34%|█████████▉                   | 3408/10000 [12:41<29:19,  3.75row/s]"
     ]
    },
    {
     "name": "stdout",
     "output_type": "stream",
     "text": [
      "Progress saved: cleaned_chunk_0, row 3408\r"
     ]
    },
    {
     "name": "stderr",
     "output_type": "stream",
     "text": [
      "Processing cleaned_chunk_0:  34%|█████████▉                   | 3409/10000 [12:42<28:07,  3.91row/s]"
     ]
    },
    {
     "name": "stdout",
     "output_type": "stream",
     "text": [
      "Progress saved: cleaned_chunk_0, row 3409\r"
     ]
    },
    {
     "name": "stderr",
     "output_type": "stream",
     "text": [
      "Processing cleaned_chunk_0:  34%|█████████▉                   | 3410/10000 [12:42<30:10,  3.64row/s]"
     ]
    },
    {
     "name": "stdout",
     "output_type": "stream",
     "text": [
      "Progress saved: cleaned_chunk_0, row 3411\r"
     ]
    },
    {
     "name": "stderr",
     "output_type": "stream",
     "text": [
      "Processing cleaned_chunk_0:  34%|█████████▉                   | 3412/10000 [12:42<26:48,  4.10row/s]"
     ]
    },
    {
     "name": "stdout",
     "output_type": "stream",
     "text": [
      "Progress saved: cleaned_chunk_0, row 3413\r"
     ]
    },
    {
     "name": "stderr",
     "output_type": "stream",
     "text": [
      "Processing cleaned_chunk_0:  34%|█████████▉                   | 3415/10000 [12:43<21:51,  5.02row/s]"
     ]
    },
    {
     "name": "stdout",
     "output_type": "stream",
     "text": [
      "Progress saved: cleaned_chunk_0, row 3415\r"
     ]
    },
    {
     "name": "stderr",
     "output_type": "stream",
     "text": [
      "Processing cleaned_chunk_0:  34%|█████████▉                   | 3416/10000 [12:43<19:54,  5.51row/s]"
     ]
    },
    {
     "name": "stdout",
     "output_type": "stream",
     "text": [
      "Progress saved: cleaned_chunk_0, row 3416\r"
     ]
    },
    {
     "name": "stderr",
     "output_type": "stream",
     "text": [
      "Processing cleaned_chunk_0:  34%|█████████▉                   | 3417/10000 [12:43<22:26,  4.89row/s]"
     ]
    },
    {
     "name": "stdout",
     "output_type": "stream",
     "text": [
      "Progress saved: cleaned_chunk_0, row 3417\r"
     ]
    },
    {
     "name": "stderr",
     "output_type": "stream",
     "text": [
      "Processing cleaned_chunk_0:  34%|█████████▉                   | 3419/10000 [12:44<24:42,  4.44row/s]"
     ]
    },
    {
     "name": "stdout",
     "output_type": "stream",
     "text": [
      "Progress saved: cleaned_chunk_0, row 3419\r"
     ]
    },
    {
     "name": "stderr",
     "output_type": "stream",
     "text": [
      "Processing cleaned_chunk_0:  34%|█████████▉                   | 3420/10000 [12:44<23:45,  4.62row/s]"
     ]
    },
    {
     "name": "stdout",
     "output_type": "stream",
     "text": [
      "Progress saved: cleaned_chunk_0, row 3420\r"
     ]
    },
    {
     "name": "stderr",
     "output_type": "stream",
     "text": [
      "Processing cleaned_chunk_0:  34%|█████████▉                   | 3421/10000 [12:44<23:53,  4.59row/s]"
     ]
    },
    {
     "name": "stdout",
     "output_type": "stream",
     "text": [
      "Progress saved: cleaned_chunk_0, row 3421\r"
     ]
    },
    {
     "name": "stderr",
     "output_type": "stream",
     "text": [
      "Processing cleaned_chunk_0:  34%|█████████▉                   | 3422/10000 [12:44<25:29,  4.30row/s]"
     ]
    },
    {
     "name": "stdout",
     "output_type": "stream",
     "text": [
      "Progress saved: cleaned_chunk_0, row 3422\r"
     ]
    },
    {
     "name": "stderr",
     "output_type": "stream",
     "text": [
      "Processing cleaned_chunk_0:  34%|█████████▉                   | 3423/10000 [12:45<31:02,  3.53row/s]"
     ]
    },
    {
     "name": "stdout",
     "output_type": "stream",
     "text": [
      "Progress saved: cleaned_chunk_0, row 3424\r"
     ]
    },
    {
     "name": "stderr",
     "output_type": "stream",
     "text": [
      "Processing cleaned_chunk_0:  34%|█████████▉                   | 3426/10000 [12:45<25:40,  4.27row/s]"
     ]
    },
    {
     "name": "stdout",
     "output_type": "stream",
     "text": [
      "Progress saved: cleaned_chunk_0, row 3426\r"
     ]
    },
    {
     "name": "stderr",
     "output_type": "stream",
     "text": [
      "Processing cleaned_chunk_0:  34%|█████████▉                   | 3427/10000 [12:46<22:49,  4.80row/s]"
     ]
    },
    {
     "name": "stdout",
     "output_type": "stream",
     "text": [
      "Progress saved: cleaned_chunk_0, row 3428\r"
     ]
    },
    {
     "name": "stderr",
     "output_type": "stream",
     "text": [
      "Processing cleaned_chunk_0:  34%|█████████▉                   | 3429/10000 [12:46<21:21,  5.13row/s]"
     ]
    },
    {
     "name": "stdout",
     "output_type": "stream",
     "text": [
      "Progress saved: cleaned_chunk_0, row 3429\r"
     ]
    },
    {
     "name": "stderr",
     "output_type": "stream",
     "text": [
      "Processing cleaned_chunk_0:  34%|█████████▉                   | 3430/10000 [12:46<26:14,  4.17row/s]"
     ]
    },
    {
     "name": "stdout",
     "output_type": "stream",
     "text": [
      "Progress saved: cleaned_chunk_0, row 3430\r"
     ]
    },
    {
     "name": "stderr",
     "output_type": "stream",
     "text": [
      "Processing cleaned_chunk_0:  34%|█████████▉                   | 3431/10000 [12:47<30:12,  3.62row/s]"
     ]
    },
    {
     "name": "stdout",
     "output_type": "stream",
     "text": [
      "Progress saved: cleaned_chunk_0, row 3431\r"
     ]
    },
    {
     "name": "stderr",
     "output_type": "stream",
     "text": [
      "Processing cleaned_chunk_0:  34%|█████████▉                   | 3432/10000 [12:47<35:09,  3.11row/s]"
     ]
    },
    {
     "name": "stdout",
     "output_type": "stream",
     "text": [
      "Progress saved: cleaned_chunk_0, row 3432\r"
     ]
    },
    {
     "name": "stderr",
     "output_type": "stream",
     "text": [
      "Processing cleaned_chunk_0:  34%|█████████▉                   | 3433/10000 [12:47<34:40,  3.16row/s]"
     ]
    },
    {
     "name": "stdout",
     "output_type": "stream",
     "text": [
      "Progress saved: cleaned_chunk_0, row 3433\r"
     ]
    },
    {
     "name": "stderr",
     "output_type": "stream",
     "text": [
      "Processing cleaned_chunk_0:  34%|█████████▉                   | 3434/10000 [12:48<42:25,  2.58row/s]"
     ]
    },
    {
     "name": "stdout",
     "output_type": "stream",
     "text": [
      "Progress saved: cleaned_chunk_0, row 3434\r"
     ]
    },
    {
     "name": "stderr",
     "output_type": "stream",
     "text": [
      "Processing cleaned_chunk_0:  34%|█████████▉                   | 3435/10000 [12:48<38:57,  2.81row/s]"
     ]
    },
    {
     "name": "stdout",
     "output_type": "stream",
     "text": [
      "Progress saved: cleaned_chunk_0, row 3435\r"
     ]
    },
    {
     "name": "stderr",
     "output_type": "stream",
     "text": [
      "Processing cleaned_chunk_0:  34%|█████████▉                   | 3436/10000 [12:49<39:43,  2.75row/s]"
     ]
    },
    {
     "name": "stdout",
     "output_type": "stream",
     "text": [
      "Progress saved: cleaned_chunk_0, row 3436\r"
     ]
    },
    {
     "name": "stderr",
     "output_type": "stream",
     "text": [
      "Processing cleaned_chunk_0:  34%|█████████▉                   | 3437/10000 [12:49<38:46,  2.82row/s]"
     ]
    },
    {
     "name": "stdout",
     "output_type": "stream",
     "text": [
      "Progress saved: cleaned_chunk_0, row 3438\r"
     ]
    },
    {
     "name": "stderr",
     "output_type": "stream",
     "text": [
      "Processing cleaned_chunk_0:  34%|█████████▉                   | 3439/10000 [12:50<36:40,  2.98row/s]"
     ]
    },
    {
     "name": "stdout",
     "output_type": "stream",
     "text": [
      "Progress saved: cleaned_chunk_0, row 3439\r"
     ]
    },
    {
     "name": "stderr",
     "output_type": "stream",
     "text": [
      "Processing cleaned_chunk_0:  34%|█████████▉                   | 3440/10000 [12:50<38:19,  2.85row/s]"
     ]
    },
    {
     "name": "stdout",
     "output_type": "stream",
     "text": [
      "Progress saved: cleaned_chunk_0, row 3440\r"
     ]
    },
    {
     "name": "stderr",
     "output_type": "stream",
     "text": [
      "Processing cleaned_chunk_0:  34%|█████████▉                   | 3441/10000 [12:50<37:28,  2.92row/s]"
     ]
    },
    {
     "name": "stdout",
     "output_type": "stream",
     "text": [
      "Progress saved: cleaned_chunk_0, row 3441\r"
     ]
    },
    {
     "name": "stderr",
     "output_type": "stream",
     "text": [
      "Processing cleaned_chunk_0:  34%|█████████▉                   | 3442/10000 [12:51<37:23,  2.92row/s]"
     ]
    },
    {
     "name": "stdout",
     "output_type": "stream",
     "text": [
      "Progress saved: cleaned_chunk_0, row 3443\r"
     ]
    },
    {
     "name": "stderr",
     "output_type": "stream",
     "text": [
      "Processing cleaned_chunk_0:  34%|█████████▉                   | 3445/10000 [12:51<29:18,  3.73row/s]"
     ]
    },
    {
     "name": "stdout",
     "output_type": "stream",
     "text": [
      "Progress saved: cleaned_chunk_0, row 3445\r"
     ]
    },
    {
     "name": "stderr",
     "output_type": "stream",
     "text": [
      "Processing cleaned_chunk_0:  34%|█████████▉                   | 3446/10000 [12:52<25:53,  4.22row/s]"
     ]
    },
    {
     "name": "stdout",
     "output_type": "stream",
     "text": [
      "Progress saved: cleaned_chunk_0, row 3446\r"
     ]
    },
    {
     "name": "stderr",
     "output_type": "stream",
     "text": [
      "Processing cleaned_chunk_0:  34%|█████████▉                   | 3447/10000 [12:52<37:10,  2.94row/s]"
     ]
    },
    {
     "name": "stdout",
     "output_type": "stream",
     "text": [
      "Progress saved: cleaned_chunk_0, row 3447\r"
     ]
    },
    {
     "name": "stderr",
     "output_type": "stream",
     "text": [
      "Processing cleaned_chunk_0:  34%|█████████▉                   | 3448/10000 [12:52<36:16,  3.01row/s]"
     ]
    },
    {
     "name": "stdout",
     "output_type": "stream",
     "text": [
      "Progress saved: cleaned_chunk_0, row 3448\r"
     ]
    },
    {
     "name": "stderr",
     "output_type": "stream",
     "text": [
      "Processing cleaned_chunk_0:  34%|██████████                   | 3449/10000 [12:53<32:50,  3.32row/s]"
     ]
    },
    {
     "name": "stdout",
     "output_type": "stream",
     "text": [
      "Progress saved: cleaned_chunk_0, row 3449\r"
     ]
    },
    {
     "name": "stderr",
     "output_type": "stream",
     "text": [
      "Processing cleaned_chunk_0:  34%|██████████                   | 3450/10000 [12:53<31:52,  3.43row/s]"
     ]
    },
    {
     "name": "stdout",
     "output_type": "stream",
     "text": [
      "Progress saved: cleaned_chunk_0, row 3450\r"
     ]
    },
    {
     "name": "stderr",
     "output_type": "stream",
     "text": [
      "Processing cleaned_chunk_0:  35%|██████████                   | 3451/10000 [12:53<30:40,  3.56row/s]"
     ]
    },
    {
     "name": "stdout",
     "output_type": "stream",
     "text": [
      "Progress saved: cleaned_chunk_0, row 3451\r"
     ]
    },
    {
     "name": "stderr",
     "output_type": "stream",
     "text": [
      "Processing cleaned_chunk_0:  35%|██████████                   | 3452/10000 [12:53<29:28,  3.70row/s]"
     ]
    },
    {
     "name": "stdout",
     "output_type": "stream",
     "text": [
      "Progress saved: cleaned_chunk_0, row 3452\r"
     ]
    },
    {
     "name": "stderr",
     "output_type": "stream",
     "text": [
      "Processing cleaned_chunk_0:  35%|██████████                   | 3453/10000 [12:54<27:30,  3.97row/s]"
     ]
    },
    {
     "name": "stdout",
     "output_type": "stream",
     "text": [
      "Progress saved: cleaned_chunk_0, row 3453\r"
     ]
    },
    {
     "name": "stderr",
     "output_type": "stream",
     "text": [
      "Processing cleaned_chunk_0:  35%|██████████                   | 3454/10000 [12:54<26:27,  4.12row/s]"
     ]
    },
    {
     "name": "stdout",
     "output_type": "stream",
     "text": [
      "Progress saved: cleaned_chunk_0, row 3454\r"
     ]
    },
    {
     "name": "stderr",
     "output_type": "stream",
     "text": [
      "Processing cleaned_chunk_0:  35%|██████████                   | 3455/10000 [12:54<26:32,  4.11row/s]"
     ]
    },
    {
     "name": "stdout",
     "output_type": "stream",
     "text": [
      "Progress saved: cleaned_chunk_0, row 3456\r"
     ]
    },
    {
     "name": "stderr",
     "output_type": "stream",
     "text": [
      "Processing cleaned_chunk_0:  35%|██████████                   | 3457/10000 [12:54<23:57,  4.55row/s]"
     ]
    },
    {
     "name": "stdout",
     "output_type": "stream",
     "text": [
      "Progress saved: cleaned_chunk_0, row 3458\r"
     ]
    },
    {
     "name": "stderr",
     "output_type": "stream",
     "text": [
      "Processing cleaned_chunk_0:  35%|██████████                   | 3459/10000 [12:55<25:53,  4.21row/s]"
     ]
    },
    {
     "name": "stdout",
     "output_type": "stream",
     "text": [
      "Progress saved: cleaned_chunk_0, row 3459\r"
     ]
    },
    {
     "name": "stderr",
     "output_type": "stream",
     "text": [
      "Processing cleaned_chunk_0:  35%|██████████                   | 3460/10000 [12:55<26:50,  4.06row/s]"
     ]
    },
    {
     "name": "stdout",
     "output_type": "stream",
     "text": [
      "Progress saved: cleaned_chunk_0, row 3461\r"
     ]
    },
    {
     "name": "stderr",
     "output_type": "stream",
     "text": [
      "Processing cleaned_chunk_0:  35%|██████████                   | 3462/10000 [12:56<28:37,  3.81row/s]"
     ]
    },
    {
     "name": "stdout",
     "output_type": "stream",
     "text": [
      "Progress saved: cleaned_chunk_0, row 3462\r"
     ]
    },
    {
     "name": "stderr",
     "output_type": "stream",
     "text": [
      "Processing cleaned_chunk_0:  35%|██████████                   | 3463/10000 [12:56<36:13,  3.01row/s]"
     ]
    },
    {
     "name": "stdout",
     "output_type": "stream",
     "text": [
      "Progress saved: cleaned_chunk_0, row 3463\r"
     ]
    },
    {
     "name": "stderr",
     "output_type": "stream",
     "text": [
      "Processing cleaned_chunk_0:  35%|██████████                   | 3464/10000 [12:57<33:37,  3.24row/s]"
     ]
    },
    {
     "name": "stdout",
     "output_type": "stream",
     "text": [
      "Progress saved: cleaned_chunk_0, row 3464\r"
     ]
    },
    {
     "name": "stderr",
     "output_type": "stream",
     "text": [
      "Processing cleaned_chunk_0:  35%|██████████                   | 3465/10000 [12:57<32:16,  3.37row/s]"
     ]
    },
    {
     "name": "stdout",
     "output_type": "stream",
     "text": [
      "Progress saved: cleaned_chunk_0, row 3465\r"
     ]
    },
    {
     "name": "stderr",
     "output_type": "stream",
     "text": [
      "Processing cleaned_chunk_0:  35%|██████████                   | 3466/10000 [12:57<31:43,  3.43row/s]"
     ]
    },
    {
     "name": "stdout",
     "output_type": "stream",
     "text": [
      "Progress saved: cleaned_chunk_0, row 3466\r"
     ]
    },
    {
     "name": "stderr",
     "output_type": "stream",
     "text": [
      "Processing cleaned_chunk_0:  35%|██████████                   | 3468/10000 [12:57<26:37,  4.09row/s]"
     ]
    },
    {
     "name": "stdout",
     "output_type": "stream",
     "text": [
      "Progress saved: cleaned_chunk_0, row 3468\r"
     ]
    },
    {
     "name": "stderr",
     "output_type": "stream",
     "text": [
      "Processing cleaned_chunk_0:  35%|██████████                   | 3469/10000 [12:58<26:19,  4.14row/s]"
     ]
    },
    {
     "name": "stdout",
     "output_type": "stream",
     "text": [
      "Progress saved: cleaned_chunk_0, row 3469\r"
     ]
    },
    {
     "name": "stderr",
     "output_type": "stream",
     "text": [
      "Processing cleaned_chunk_0:  35%|██████████                   | 3470/10000 [12:58<29:44,  3.66row/s]"
     ]
    },
    {
     "name": "stdout",
     "output_type": "stream",
     "text": [
      "Progress saved: cleaned_chunk_0, row 3470\r"
     ]
    },
    {
     "name": "stderr",
     "output_type": "stream",
     "text": [
      "Processing cleaned_chunk_0:  35%|██████████                   | 3471/10000 [12:58<31:29,  3.46row/s]"
     ]
    },
    {
     "name": "stdout",
     "output_type": "stream",
     "text": [
      "Progress saved: cleaned_chunk_0, row 3471\r"
     ]
    },
    {
     "name": "stderr",
     "output_type": "stream",
     "text": [
      "Processing cleaned_chunk_0:  35%|██████████                   | 3472/10000 [12:59<31:44,  3.43row/s]"
     ]
    },
    {
     "name": "stdout",
     "output_type": "stream",
     "text": [
      "Progress saved: cleaned_chunk_0, row 3472\r"
     ]
    },
    {
     "name": "stderr",
     "output_type": "stream",
     "text": [
      "Processing cleaned_chunk_0:  35%|██████████                   | 3473/10000 [12:59<41:46,  2.60row/s]"
     ]
    },
    {
     "name": "stdout",
     "output_type": "stream",
     "text": [
      "Progress saved: cleaned_chunk_0, row 3473\r"
     ]
    },
    {
     "name": "stderr",
     "output_type": "stream",
     "text": [
      "Processing cleaned_chunk_0:  35%|██████████                   | 3474/10000 [13:00<38:05,  2.85row/s]"
     ]
    },
    {
     "name": "stdout",
     "output_type": "stream",
     "text": [
      "Progress saved: cleaned_chunk_0, row 3474\r"
     ]
    },
    {
     "name": "stderr",
     "output_type": "stream",
     "text": [
      "Processing cleaned_chunk_0:  35%|██████████                   | 3475/10000 [13:00<35:34,  3.06row/s]"
     ]
    },
    {
     "name": "stdout",
     "output_type": "stream",
     "text": [
      "Progress saved: cleaned_chunk_0, row 3475\r"
     ]
    },
    {
     "name": "stderr",
     "output_type": "stream",
     "text": [
      "Processing cleaned_chunk_0:  35%|██████████                   | 3476/10000 [13:00<36:33,  2.97row/s]"
     ]
    },
    {
     "name": "stdout",
     "output_type": "stream",
     "text": [
      "Progress saved: cleaned_chunk_0, row 3476\r"
     ]
    },
    {
     "name": "stderr",
     "output_type": "stream",
     "text": [
      "Processing cleaned_chunk_0:  35%|██████████                   | 3477/10000 [13:00<33:54,  3.21row/s]"
     ]
    },
    {
     "name": "stdout",
     "output_type": "stream",
     "text": [
      "Progress saved: cleaned_chunk_0, row 3477\r"
     ]
    },
    {
     "name": "stderr",
     "output_type": "stream",
     "text": [
      "Processing cleaned_chunk_0:  35%|██████████                   | 3478/10000 [13:01<33:34,  3.24row/s]"
     ]
    },
    {
     "name": "stdout",
     "output_type": "stream",
     "text": [
      "Progress saved: cleaned_chunk_0, row 3478\r"
     ]
    },
    {
     "name": "stderr",
     "output_type": "stream",
     "text": [
      "Processing cleaned_chunk_0:  35%|██████████                   | 3479/10000 [13:01<31:00,  3.50row/s]"
     ]
    },
    {
     "name": "stdout",
     "output_type": "stream",
     "text": [
      "Progress saved: cleaned_chunk_0, row 3479\r"
     ]
    },
    {
     "name": "stderr",
     "output_type": "stream",
     "text": [
      "Processing cleaned_chunk_0:  35%|██████████                   | 3480/10000 [13:01<30:13,  3.60row/s]"
     ]
    },
    {
     "name": "stdout",
     "output_type": "stream",
     "text": [
      "Progress saved: cleaned_chunk_0, row 3480\r"
     ]
    },
    {
     "name": "stderr",
     "output_type": "stream",
     "text": [
      "Processing cleaned_chunk_0:  35%|██████████                   | 3481/10000 [13:02<41:53,  2.59row/s]"
     ]
    },
    {
     "name": "stdout",
     "output_type": "stream",
     "text": [
      "Progress saved: cleaned_chunk_0, row 3481\r"
     ]
    },
    {
     "name": "stderr",
     "output_type": "stream",
     "text": [
      "Processing cleaned_chunk_0:  35%|██████████                   | 3482/10000 [13:02<37:09,  2.92row/s]"
     ]
    },
    {
     "name": "stdout",
     "output_type": "stream",
     "text": [
      "Progress saved: cleaned_chunk_0, row 3483\r"
     ]
    },
    {
     "name": "stderr",
     "output_type": "stream",
     "text": [
      "Processing cleaned_chunk_0:  35%|██████████                   | 3485/10000 [13:03<28:29,  3.81row/s]"
     ]
    },
    {
     "name": "stdout",
     "output_type": "stream",
     "text": [
      "Progress saved: cleaned_chunk_0, row 3485\r"
     ]
    },
    {
     "name": "stderr",
     "output_type": "stream",
     "text": [
      "Processing cleaned_chunk_0:  35%|██████████                   | 3486/10000 [13:03<24:57,  4.35row/s]"
     ]
    },
    {
     "name": "stdout",
     "output_type": "stream",
     "text": [
      "Progress saved: cleaned_chunk_0, row 3486\r"
     ]
    },
    {
     "name": "stderr",
     "output_type": "stream",
     "text": [
      "Processing cleaned_chunk_0:  35%|██████████                   | 3487/10000 [13:03<25:58,  4.18row/s]"
     ]
    },
    {
     "name": "stdout",
     "output_type": "stream",
     "text": [
      "Progress saved: cleaned_chunk_0, row 3487\r"
     ]
    },
    {
     "name": "stderr",
     "output_type": "stream",
     "text": [
      "Processing cleaned_chunk_0:  35%|██████████                   | 3488/10000 [13:04<28:25,  3.82row/s]"
     ]
    },
    {
     "name": "stdout",
     "output_type": "stream",
     "text": [
      "Progress saved: cleaned_chunk_0, row 3488\r"
     ]
    },
    {
     "name": "stderr",
     "output_type": "stream",
     "text": [
      "Processing cleaned_chunk_0:  35%|██████████                   | 3489/10000 [13:04<29:17,  3.70row/s]"
     ]
    },
    {
     "name": "stdout",
     "output_type": "stream",
     "text": [
      "Progress saved: cleaned_chunk_0, row 3490\r"
     ]
    },
    {
     "name": "stderr",
     "output_type": "stream",
     "text": [
      "Processing cleaned_chunk_0:  35%|██████████                   | 3491/10000 [13:04<32:37,  3.33row/s]"
     ]
    },
    {
     "name": "stdout",
     "output_type": "stream",
     "text": [
      "Progress saved: cleaned_chunk_0, row 3491\r"
     ]
    },
    {
     "name": "stderr",
     "output_type": "stream",
     "text": [
      "Processing cleaned_chunk_0:  35%|██████████▏                  | 3493/10000 [13:05<26:20,  4.12row/s]"
     ]
    },
    {
     "name": "stdout",
     "output_type": "stream",
     "text": [
      "Progress saved: cleaned_chunk_0, row 3493\r"
     ]
    },
    {
     "name": "stderr",
     "output_type": "stream",
     "text": [
      "Processing cleaned_chunk_0:  35%|██████████▏                  | 3494/10000 [13:05<27:14,  3.98row/s]"
     ]
    },
    {
     "name": "stdout",
     "output_type": "stream",
     "text": [
      "Progress saved: cleaned_chunk_0, row 3494\r"
     ]
    },
    {
     "name": "stderr",
     "output_type": "stream",
     "text": [
      "Processing cleaned_chunk_0:  35%|██████████▏                  | 3495/10000 [13:05<26:35,  4.08row/s]"
     ]
    },
    {
     "name": "stdout",
     "output_type": "stream",
     "text": [
      "Progress saved: cleaned_chunk_0, row 3495\r"
     ]
    },
    {
     "name": "stderr",
     "output_type": "stream",
     "text": [
      "Processing cleaned_chunk_0:  35%|██████████▏                  | 3496/10000 [13:06<27:08,  3.99row/s]"
     ]
    },
    {
     "name": "stdout",
     "output_type": "stream",
     "text": [
      "Progress saved: cleaned_chunk_0, row 3496\r"
     ]
    },
    {
     "name": "stderr",
     "output_type": "stream",
     "text": [
      "Processing cleaned_chunk_0:  35%|██████████▏                  | 3497/10000 [13:06<29:57,  3.62row/s]"
     ]
    },
    {
     "name": "stdout",
     "output_type": "stream",
     "text": [
      "Progress saved: cleaned_chunk_0, row 3497\r"
     ]
    },
    {
     "name": "stderr",
     "output_type": "stream",
     "text": [
      "Processing cleaned_chunk_0:  35%|██████████▏                  | 3498/10000 [13:06<30:19,  3.57row/s]"
     ]
    },
    {
     "name": "stdout",
     "output_type": "stream",
     "text": [
      "Progress saved: cleaned_chunk_0, row 3499\r"
     ]
    },
    {
     "name": "stderr",
     "output_type": "stream",
     "text": [
      "Processing cleaned_chunk_0:  35%|██████████▏                  | 3500/10000 [13:07<36:03,  3.01row/s]"
     ]
    },
    {
     "name": "stdout",
     "output_type": "stream",
     "text": [
      "Progress saved: cleaned_chunk_0, row 3500\r"
     ]
    },
    {
     "name": "stderr",
     "output_type": "stream",
     "text": [
      "Processing cleaned_chunk_0:  35%|██████████▏                  | 3502/10000 [13:07<27:23,  3.95row/s]"
     ]
    },
    {
     "name": "stdout",
     "output_type": "stream",
     "text": [
      "Progress saved: cleaned_chunk_0, row 3502\r"
     ]
    },
    {
     "name": "stderr",
     "output_type": "stream",
     "text": [
      "Processing cleaned_chunk_0:  35%|██████████▏                  | 3503/10000 [13:08<27:44,  3.90row/s]"
     ]
    },
    {
     "name": "stdout",
     "output_type": "stream",
     "text": [
      "Progress saved: cleaned_chunk_0, row 3503\r"
     ]
    },
    {
     "name": "stderr",
     "output_type": "stream",
     "text": [
      "Processing cleaned_chunk_0:  35%|██████████▏                  | 3504/10000 [13:08<28:34,  3.79row/s]"
     ]
    },
    {
     "name": "stdout",
     "output_type": "stream",
     "text": [
      "Progress saved: cleaned_chunk_0, row 3504\r"
     ]
    },
    {
     "name": "stderr",
     "output_type": "stream",
     "text": [
      "Processing cleaned_chunk_0:  35%|██████████▏                  | 3505/10000 [13:08<28:04,  3.86row/s]"
     ]
    },
    {
     "name": "stdout",
     "output_type": "stream",
     "text": [
      "Progress saved: cleaned_chunk_0, row 3505\r"
     ]
    },
    {
     "name": "stderr",
     "output_type": "stream",
     "text": [
      "Processing cleaned_chunk_0:  35%|██████████▏                  | 3507/10000 [13:09<28:55,  3.74row/s]"
     ]
    },
    {
     "name": "stdout",
     "output_type": "stream",
     "text": [
      "Progress saved: cleaned_chunk_0, row 3507\r"
     ]
    },
    {
     "name": "stderr",
     "output_type": "stream",
     "text": [
      "Processing cleaned_chunk_0:  35%|██████████▏                  | 3508/10000 [13:09<29:59,  3.61row/s]"
     ]
    },
    {
     "name": "stdout",
     "output_type": "stream",
     "text": [
      "Progress saved: cleaned_chunk_0, row 3508\r"
     ]
    },
    {
     "name": "stderr",
     "output_type": "stream",
     "text": [
      "Processing cleaned_chunk_0:  35%|██████████▏                  | 3509/10000 [13:10<38:37,  2.80row/s]"
     ]
    },
    {
     "name": "stdout",
     "output_type": "stream",
     "text": [
      "Progress saved: cleaned_chunk_0, row 3509\r"
     ]
    },
    {
     "name": "stderr",
     "output_type": "stream",
     "text": [
      "Processing cleaned_chunk_0:  35%|██████████▏                  | 3510/10000 [13:10<34:30,  3.13row/s]"
     ]
    },
    {
     "name": "stdout",
     "output_type": "stream",
     "text": [
      "Progress saved: cleaned_chunk_0, row 3510\r"
     ]
    },
    {
     "name": "stderr",
     "output_type": "stream",
     "text": [
      "Processing cleaned_chunk_0:  35%|██████████▏                  | 3511/10000 [13:10<33:41,  3.21row/s]"
     ]
    },
    {
     "name": "stdout",
     "output_type": "stream",
     "text": [
      "Progress saved: cleaned_chunk_0, row 3511\r"
     ]
    },
    {
     "name": "stderr",
     "output_type": "stream",
     "text": [
      "Processing cleaned_chunk_0:  35%|██████████▏                  | 3512/10000 [13:10<32:52,  3.29row/s]"
     ]
    },
    {
     "name": "stdout",
     "output_type": "stream",
     "text": [
      "Progress saved: cleaned_chunk_0, row 3513\r"
     ]
    },
    {
     "name": "stderr",
     "output_type": "stream",
     "text": [
      "Processing cleaned_chunk_0:  35%|██████████▏                  | 3514/10000 [13:11<30:05,  3.59row/s]"
     ]
    },
    {
     "name": "stdout",
     "output_type": "stream",
     "text": [
      "Progress saved: cleaned_chunk_0, row 3514\r"
     ]
    },
    {
     "name": "stderr",
     "output_type": "stream",
     "text": [
      "Processing cleaned_chunk_0:  35%|██████████▏                  | 3515/10000 [13:11<29:38,  3.65row/s]"
     ]
    },
    {
     "name": "stdout",
     "output_type": "stream",
     "text": [
      "Progress saved: cleaned_chunk_0, row 3515\r"
     ]
    },
    {
     "name": "stderr",
     "output_type": "stream",
     "text": [
      "Processing cleaned_chunk_0:  35%|██████████▏                  | 3516/10000 [13:11<30:21,  3.56row/s]"
     ]
    },
    {
     "name": "stdout",
     "output_type": "stream",
     "text": [
      "Progress saved: cleaned_chunk_0, row 3516\r"
     ]
    },
    {
     "name": "stderr",
     "output_type": "stream",
     "text": [
      "Processing cleaned_chunk_0:  35%|██████████▏                  | 3517/10000 [13:12<35:20,  3.06row/s]"
     ]
    },
    {
     "name": "stdout",
     "output_type": "stream",
     "text": [
      "Progress saved: cleaned_chunk_0, row 3517\r"
     ]
    },
    {
     "name": "stderr",
     "output_type": "stream",
     "text": [
      "Processing cleaned_chunk_0:  35%|██████████▏                  | 3518/10000 [13:12<41:48,  2.58row/s]"
     ]
    },
    {
     "name": "stdout",
     "output_type": "stream",
     "text": [
      "Progress saved: cleaned_chunk_0, row 3518\r"
     ]
    },
    {
     "name": "stderr",
     "output_type": "stream",
     "text": [
      "Processing cleaned_chunk_0:  35%|██████████▏                  | 3519/10000 [13:13<40:38,  2.66row/s]"
     ]
    },
    {
     "name": "stdout",
     "output_type": "stream",
     "text": [
      "Progress saved: cleaned_chunk_0, row 3519\r"
     ]
    },
    {
     "name": "stderr",
     "output_type": "stream",
     "text": [
      "Processing cleaned_chunk_0:  35%|██████████▏                  | 3520/10000 [13:13<38:41,  2.79row/s]"
     ]
    },
    {
     "name": "stdout",
     "output_type": "stream",
     "text": [
      "Progress saved: cleaned_chunk_0, row 3520\r"
     ]
    },
    {
     "name": "stderr",
     "output_type": "stream",
     "text": [
      "Processing cleaned_chunk_0:  35%|██████████▏                  | 3521/10000 [13:13<39:33,  2.73row/s]"
     ]
    },
    {
     "name": "stdout",
     "output_type": "stream",
     "text": [
      "Progress saved: cleaned_chunk_0, row 3521\r"
     ]
    },
    {
     "name": "stderr",
     "output_type": "stream",
     "text": [
      "Processing cleaned_chunk_0:  35%|██████████▏                  | 3522/10000 [13:14<37:30,  2.88row/s]"
     ]
    },
    {
     "name": "stdout",
     "output_type": "stream",
     "text": [
      "Progress saved: cleaned_chunk_0, row 3522\r"
     ]
    },
    {
     "name": "stderr",
     "output_type": "stream",
     "text": [
      "Processing cleaned_chunk_0:  35%|██████████▏                  | 3523/10000 [13:14<35:31,  3.04row/s]"
     ]
    },
    {
     "name": "stdout",
     "output_type": "stream",
     "text": [
      "Progress saved: cleaned_chunk_0, row 3523\r"
     ]
    },
    {
     "name": "stderr",
     "output_type": "stream",
     "text": [
      "Processing cleaned_chunk_0:  35%|██████████▏                  | 3524/10000 [13:14<32:22,  3.33row/s]"
     ]
    },
    {
     "name": "stdout",
     "output_type": "stream",
     "text": [
      "Progress saved: cleaned_chunk_0, row 3524\r"
     ]
    },
    {
     "name": "stderr",
     "output_type": "stream",
     "text": [
      "Processing cleaned_chunk_0:  35%|██████████▏                  | 3525/10000 [13:15<33:19,  3.24row/s]"
     ]
    },
    {
     "name": "stdout",
     "output_type": "stream",
     "text": [
      "Progress saved: cleaned_chunk_0, row 3525\r"
     ]
    },
    {
     "name": "stderr",
     "output_type": "stream",
     "text": [
      "Processing cleaned_chunk_0:  35%|██████████▏                  | 3526/10000 [13:15<30:18,  3.56row/s]"
     ]
    },
    {
     "name": "stdout",
     "output_type": "stream",
     "text": [
      "Progress saved: cleaned_chunk_0, row 3526\r"
     ]
    },
    {
     "name": "stderr",
     "output_type": "stream",
     "text": [
      "Processing cleaned_chunk_0:  35%|██████████▏                  | 3527/10000 [13:15<32:30,  3.32row/s]"
     ]
    },
    {
     "name": "stdout",
     "output_type": "stream",
     "text": [
      "Progress saved: cleaned_chunk_0, row 3527\r"
     ]
    },
    {
     "name": "stderr",
     "output_type": "stream",
     "text": [
      "Processing cleaned_chunk_0:  35%|██████████▏                  | 3528/10000 [13:15<30:28,  3.54row/s]"
     ]
    },
    {
     "name": "stdout",
     "output_type": "stream",
     "text": [
      "Progress saved: cleaned_chunk_0, row 3528\r"
     ]
    },
    {
     "name": "stderr",
     "output_type": "stream",
     "text": [
      "Processing cleaned_chunk_0:  35%|██████████▏                  | 3529/10000 [13:16<36:08,  2.98row/s]"
     ]
    },
    {
     "name": "stdout",
     "output_type": "stream",
     "text": [
      "Progress saved: cleaned_chunk_0, row 3529\r"
     ]
    },
    {
     "name": "stderr",
     "output_type": "stream",
     "text": [
      "Processing cleaned_chunk_0:  35%|██████████▏                  | 3530/10000 [13:16<34:52,  3.09row/s]"
     ]
    },
    {
     "name": "stdout",
     "output_type": "stream",
     "text": [
      "Progress saved: cleaned_chunk_0, row 3530\r"
     ]
    },
    {
     "name": "stderr",
     "output_type": "stream",
     "text": [
      "Processing cleaned_chunk_0:  35%|██████████▏                  | 3531/10000 [13:16<32:18,  3.34row/s]"
     ]
    },
    {
     "name": "stdout",
     "output_type": "stream",
     "text": [
      "Progress saved: cleaned_chunk_0, row 3531\r"
     ]
    },
    {
     "name": "stderr",
     "output_type": "stream",
     "text": [
      "Processing cleaned_chunk_0:  35%|██████████▏                  | 3532/10000 [13:17<32:39,  3.30row/s]"
     ]
    },
    {
     "name": "stdout",
     "output_type": "stream",
     "text": [
      "Progress saved: cleaned_chunk_0, row 3532\r"
     ]
    },
    {
     "name": "stderr",
     "output_type": "stream",
     "text": [
      "Processing cleaned_chunk_0:  35%|██████████▏                  | 3533/10000 [13:17<31:29,  3.42row/s]"
     ]
    },
    {
     "name": "stdout",
     "output_type": "stream",
     "text": [
      "Progress saved: cleaned_chunk_0, row 3533\r"
     ]
    },
    {
     "name": "stderr",
     "output_type": "stream",
     "text": [
      "Processing cleaned_chunk_0:  35%|██████████▏                  | 3534/10000 [13:17<28:50,  3.74row/s]"
     ]
    },
    {
     "name": "stdout",
     "output_type": "stream",
     "text": [
      "Progress saved: cleaned_chunk_0, row 3534\r"
     ]
    },
    {
     "name": "stderr",
     "output_type": "stream",
     "text": [
      "Processing cleaned_chunk_0:  35%|██████████▎                  | 3535/10000 [13:17<27:43,  3.89row/s]"
     ]
    },
    {
     "name": "stdout",
     "output_type": "stream",
     "text": [
      "Progress saved: cleaned_chunk_0, row 3535\r"
     ]
    },
    {
     "name": "stderr",
     "output_type": "stream",
     "text": [
      "Processing cleaned_chunk_0:  35%|██████████▎                  | 3536/10000 [13:18<29:23,  3.67row/s]"
     ]
    },
    {
     "name": "stdout",
     "output_type": "stream",
     "text": [
      "Progress saved: cleaned_chunk_0, row 3536\r"
     ]
    },
    {
     "name": "stderr",
     "output_type": "stream",
     "text": [
      "Processing cleaned_chunk_0:  35%|██████████▎                  | 3537/10000 [13:18<27:31,  3.91row/s]"
     ]
    },
    {
     "name": "stdout",
     "output_type": "stream",
     "text": [
      "Progress saved: cleaned_chunk_0, row 3537\r"
     ]
    },
    {
     "name": "stderr",
     "output_type": "stream",
     "text": [
      "Processing cleaned_chunk_0:  35%|██████████▎                  | 3538/10000 [13:18<27:44,  3.88row/s]"
     ]
    },
    {
     "name": "stdout",
     "output_type": "stream",
     "text": [
      "Progress saved: cleaned_chunk_0, row 3538\r"
     ]
    },
    {
     "name": "stderr",
     "output_type": "stream",
     "text": [
      "Processing cleaned_chunk_0:  35%|██████████▎                  | 3539/10000 [13:19<31:09,  3.46row/s]"
     ]
    },
    {
     "name": "stdout",
     "output_type": "stream",
     "text": [
      "Progress saved: cleaned_chunk_0, row 3539\r"
     ]
    },
    {
     "name": "stderr",
     "output_type": "stream",
     "text": [
      "Processing cleaned_chunk_0:  35%|██████████▎                  | 3540/10000 [13:19<29:56,  3.60row/s]"
     ]
    },
    {
     "name": "stdout",
     "output_type": "stream",
     "text": [
      "Progress saved: cleaned_chunk_0, row 3540\r"
     ]
    },
    {
     "name": "stderr",
     "output_type": "stream",
     "text": [
      "Processing cleaned_chunk_0:  35%|██████████▎                  | 3541/10000 [13:19<28:59,  3.71row/s]"
     ]
    },
    {
     "name": "stdout",
     "output_type": "stream",
     "text": [
      "Progress saved: cleaned_chunk_0, row 3542\r"
     ]
    },
    {
     "name": "stderr",
     "output_type": "stream",
     "text": [
      "Processing cleaned_chunk_0:  35%|██████████▎                  | 3543/10000 [13:19<25:02,  4.30row/s]"
     ]
    },
    {
     "name": "stdout",
     "output_type": "stream",
     "text": [
      "Progress saved: cleaned_chunk_0, row 3543\r"
     ]
    },
    {
     "name": "stderr",
     "output_type": "stream",
     "text": [
      "Processing cleaned_chunk_0:  35%|██████████▎                  | 3544/10000 [13:20<27:01,  3.98row/s]"
     ]
    },
    {
     "name": "stdout",
     "output_type": "stream",
     "text": [
      "Progress saved: cleaned_chunk_0, row 3544\r"
     ]
    },
    {
     "name": "stderr",
     "output_type": "stream",
     "text": [
      "Processing cleaned_chunk_0:  35%|██████████▎                  | 3545/10000 [13:20<26:39,  4.04row/s]"
     ]
    },
    {
     "name": "stdout",
     "output_type": "stream",
     "text": [
      "Progress saved: cleaned_chunk_0, row 3545\r"
     ]
    },
    {
     "name": "stderr",
     "output_type": "stream",
     "text": [
      "Processing cleaned_chunk_0:  35%|██████████▎                  | 3546/10000 [13:20<26:24,  4.07row/s]"
     ]
    },
    {
     "name": "stdout",
     "output_type": "stream",
     "text": [
      "Progress saved: cleaned_chunk_0, row 3547\r"
     ]
    },
    {
     "name": "stderr",
     "output_type": "stream",
     "text": [
      "Processing cleaned_chunk_0:  35%|██████████▎                  | 3548/10000 [13:21<39:59,  2.69row/s]"
     ]
    },
    {
     "name": "stdout",
     "output_type": "stream",
     "text": [
      "Progress saved: cleaned_chunk_0, row 3548\r"
     ]
    },
    {
     "name": "stderr",
     "output_type": "stream",
     "text": [
      "Processing cleaned_chunk_0:  36%|██████████▎                  | 3550/10000 [13:21<28:31,  3.77row/s]"
     ]
    },
    {
     "name": "stdout",
     "output_type": "stream",
     "text": [
      "Progress saved: cleaned_chunk_0, row 3550\r"
     ]
    },
    {
     "name": "stderr",
     "output_type": "stream",
     "text": [
      "Processing cleaned_chunk_0:  36%|██████████▎                  | 3551/10000 [13:22<25:53,  4.15row/s]"
     ]
    },
    {
     "name": "stdout",
     "output_type": "stream",
     "text": [
      "Progress saved: cleaned_chunk_0, row 3551\r"
     ]
    },
    {
     "name": "stderr",
     "output_type": "stream",
     "text": [
      "Processing cleaned_chunk_0:  36%|██████████▎                  | 3552/10000 [13:22<26:39,  4.03row/s]"
     ]
    },
    {
     "name": "stdout",
     "output_type": "stream",
     "text": [
      "Progress saved: cleaned_chunk_0, row 3552\r"
     ]
    },
    {
     "name": "stderr",
     "output_type": "stream",
     "text": [
      "Processing cleaned_chunk_0:  36%|██████████▎                  | 3553/10000 [13:22<30:33,  3.52row/s]"
     ]
    },
    {
     "name": "stdout",
     "output_type": "stream",
     "text": [
      "Progress saved: cleaned_chunk_0, row 3553\r"
     ]
    },
    {
     "name": "stderr",
     "output_type": "stream",
     "text": [
      "Processing cleaned_chunk_0:  36%|██████████▎                  | 3554/10000 [13:23<32:47,  3.28row/s]"
     ]
    },
    {
     "name": "stdout",
     "output_type": "stream",
     "text": [
      "Progress saved: cleaned_chunk_0, row 3554\r"
     ]
    },
    {
     "name": "stderr",
     "output_type": "stream",
     "text": [
      "Processing cleaned_chunk_0:  36%|██████████▎                  | 3555/10000 [13:23<33:14,  3.23row/s]"
     ]
    },
    {
     "name": "stdout",
     "output_type": "stream",
     "text": [
      "Progress saved: cleaned_chunk_0, row 3555\r"
     ]
    },
    {
     "name": "stderr",
     "output_type": "stream",
     "text": [
      "Processing cleaned_chunk_0:  36%|██████████▎                  | 3556/10000 [13:23<34:20,  3.13row/s]"
     ]
    },
    {
     "name": "stdout",
     "output_type": "stream",
     "text": [
      "Progress saved: cleaned_chunk_0, row 3556\r"
     ]
    },
    {
     "name": "stderr",
     "output_type": "stream",
     "text": [
      "Processing cleaned_chunk_0:  36%|██████████▎                  | 3557/10000 [13:24<36:33,  2.94row/s]"
     ]
    },
    {
     "name": "stdout",
     "output_type": "stream",
     "text": [
      "Progress saved: cleaned_chunk_0, row 3557\r"
     ]
    },
    {
     "name": "stderr",
     "output_type": "stream",
     "text": [
      "Processing cleaned_chunk_0:  36%|██████████▎                  | 3558/10000 [13:24<40:29,  2.65row/s]"
     ]
    },
    {
     "name": "stdout",
     "output_type": "stream",
     "text": [
      "Progress saved: cleaned_chunk_0, row 3558\r"
     ]
    },
    {
     "name": "stderr",
     "output_type": "stream",
     "text": [
      "Processing cleaned_chunk_0:  36%|██████████▎                  | 3559/10000 [13:25<45:17,  2.37row/s]"
     ]
    },
    {
     "name": "stdout",
     "output_type": "stream",
     "text": [
      "Progress saved: cleaned_chunk_0, row 3559\r"
     ]
    },
    {
     "name": "stderr",
     "output_type": "stream",
     "text": [
      "Processing cleaned_chunk_0:  36%|██████████▎                  | 3560/10000 [13:25<48:16,  2.22row/s]"
     ]
    },
    {
     "name": "stdout",
     "output_type": "stream",
     "text": [
      "Progress saved: cleaned_chunk_0, row 3560\r"
     ]
    },
    {
     "name": "stderr",
     "output_type": "stream",
     "text": [
      "Processing cleaned_chunk_0:  36%|██████████▎                  | 3561/10000 [13:25<43:34,  2.46row/s]"
     ]
    },
    {
     "name": "stdout",
     "output_type": "stream",
     "text": [
      "Progress saved: cleaned_chunk_0, row 3561\r"
     ]
    },
    {
     "name": "stderr",
     "output_type": "stream",
     "text": [
      "Processing cleaned_chunk_0:  36%|██████████▎                  | 3562/10000 [13:26<39:22,  2.73row/s]"
     ]
    },
    {
     "name": "stdout",
     "output_type": "stream",
     "text": [
      "Progress saved: cleaned_chunk_0, row 3562\r"
     ]
    },
    {
     "name": "stderr",
     "output_type": "stream",
     "text": [
      "Processing cleaned_chunk_0:  36%|██████████▎                  | 3563/10000 [13:26<37:22,  2.87row/s]"
     ]
    },
    {
     "name": "stdout",
     "output_type": "stream",
     "text": [
      "Progress saved: cleaned_chunk_0, row 3563\r"
     ]
    },
    {
     "name": "stderr",
     "output_type": "stream",
     "text": [
      "Processing cleaned_chunk_0:  36%|██████████▎                  | 3564/10000 [13:26<36:00,  2.98row/s]"
     ]
    },
    {
     "name": "stdout",
     "output_type": "stream",
     "text": [
      "Progress saved: cleaned_chunk_0, row 3564\r"
     ]
    },
    {
     "name": "stderr",
     "output_type": "stream",
     "text": [
      "Processing cleaned_chunk_0:  36%|██████████▎                  | 3565/10000 [13:27<34:56,  3.07row/s]"
     ]
    },
    {
     "name": "stdout",
     "output_type": "stream",
     "text": [
      "Progress saved: cleaned_chunk_0, row 3565\r"
     ]
    },
    {
     "name": "stderr",
     "output_type": "stream",
     "text": [
      "Processing cleaned_chunk_0:  36%|██████████▎                  | 3566/10000 [13:28<54:09,  1.98row/s]"
     ]
    },
    {
     "name": "stdout",
     "output_type": "stream",
     "text": [
      "Progress saved: cleaned_chunk_0, row 3566\r"
     ]
    },
    {
     "name": "stderr",
     "output_type": "stream",
     "text": [
      "Processing cleaned_chunk_0:  36%|██████████▎                  | 3567/10000 [13:28<47:00,  2.28row/s]"
     ]
    },
    {
     "name": "stdout",
     "output_type": "stream",
     "text": [
      "Progress saved: cleaned_chunk_0, row 3567\r"
     ]
    },
    {
     "name": "stderr",
     "output_type": "stream",
     "text": [
      "Processing cleaned_chunk_0:  36%|██████████▎                  | 3568/10000 [13:28<44:18,  2.42row/s]"
     ]
    },
    {
     "name": "stdout",
     "output_type": "stream",
     "text": [
      "Progress saved: cleaned_chunk_0, row 3568\r"
     ]
    },
    {
     "name": "stderr",
     "output_type": "stream",
     "text": [
      "Processing cleaned_chunk_0:  36%|██████████▎                  | 3569/10000 [13:28<38:35,  2.78row/s]"
     ]
    },
    {
     "name": "stdout",
     "output_type": "stream",
     "text": [
      "Progress saved: cleaned_chunk_0, row 3569\r"
     ]
    },
    {
     "name": "stderr",
     "output_type": "stream",
     "text": [
      "Processing cleaned_chunk_0:  36%|██████████▎                  | 3570/10000 [13:29<34:34,  3.10row/s]"
     ]
    },
    {
     "name": "stdout",
     "output_type": "stream",
     "text": [
      "Progress saved: cleaned_chunk_0, row 3570\r"
     ]
    },
    {
     "name": "stderr",
     "output_type": "stream",
     "text": [
      "Processing cleaned_chunk_0:  36%|██████████▎                  | 3571/10000 [13:29<32:57,  3.25row/s]"
     ]
    },
    {
     "name": "stdout",
     "output_type": "stream",
     "text": [
      "Progress saved: cleaned_chunk_0, row 3571\r"
     ]
    },
    {
     "name": "stderr",
     "output_type": "stream",
     "text": [
      "Processing cleaned_chunk_0:  36%|██████████▎                  | 3572/10000 [13:29<31:16,  3.43row/s]"
     ]
    },
    {
     "name": "stdout",
     "output_type": "stream",
     "text": [
      "Progress saved: cleaned_chunk_0, row 3572\r"
     ]
    },
    {
     "name": "stderr",
     "output_type": "stream",
     "text": [
      "Processing cleaned_chunk_0:  36%|██████████▎                  | 3573/10000 [13:29<30:26,  3.52row/s]"
     ]
    },
    {
     "name": "stdout",
     "output_type": "stream",
     "text": [
      "Progress saved: cleaned_chunk_0, row 3573\r"
     ]
    },
    {
     "name": "stderr",
     "output_type": "stream",
     "text": [
      "Processing cleaned_chunk_0:  36%|██████████▎                  | 3574/10000 [13:30<31:49,  3.37row/s]"
     ]
    },
    {
     "name": "stdout",
     "output_type": "stream",
     "text": [
      "Progress saved: cleaned_chunk_0, row 3574\r"
     ]
    },
    {
     "name": "stderr",
     "output_type": "stream",
     "text": [
      "Processing cleaned_chunk_0:  36%|██████████▎                  | 3575/10000 [13:30<35:00,  3.06row/s]"
     ]
    },
    {
     "name": "stdout",
     "output_type": "stream",
     "text": [
      "Progress saved: cleaned_chunk_0, row 3575\r"
     ]
    },
    {
     "name": "stderr",
     "output_type": "stream",
     "text": [
      "Processing cleaned_chunk_0:  36%|██████████▎                  | 3576/10000 [13:31<34:36,  3.09row/s]"
     ]
    },
    {
     "name": "stdout",
     "output_type": "stream",
     "text": [
      "Progress saved: cleaned_chunk_0, row 3576\r"
     ]
    },
    {
     "name": "stderr",
     "output_type": "stream",
     "text": [
      "Processing cleaned_chunk_0:  36%|██████████▍                  | 3578/10000 [13:31<28:28,  3.76row/s]"
     ]
    },
    {
     "name": "stdout",
     "output_type": "stream",
     "text": [
      "Progress saved: cleaned_chunk_0, row 3578\r"
     ]
    },
    {
     "name": "stderr",
     "output_type": "stream",
     "text": [
      "Processing cleaned_chunk_0:  36%|██████████▍                  | 3579/10000 [13:31<26:53,  3.98row/s]"
     ]
    },
    {
     "name": "stdout",
     "output_type": "stream",
     "text": [
      "Progress saved: cleaned_chunk_0, row 3579\r"
     ]
    },
    {
     "name": "stderr",
     "output_type": "stream",
     "text": [
      "Processing cleaned_chunk_0:  36%|██████████▍                  | 3580/10000 [13:31<28:45,  3.72row/s]"
     ]
    },
    {
     "name": "stdout",
     "output_type": "stream",
     "text": [
      "Progress saved: cleaned_chunk_0, row 3580\r"
     ]
    },
    {
     "name": "stderr",
     "output_type": "stream",
     "text": [
      "Processing cleaned_chunk_0:  36%|██████████▍                  | 3581/10000 [13:32<29:02,  3.68row/s]"
     ]
    },
    {
     "name": "stdout",
     "output_type": "stream",
     "text": [
      "Progress saved: cleaned_chunk_0, row 3582\r"
     ]
    },
    {
     "name": "stderr",
     "output_type": "stream",
     "text": [
      "Processing cleaned_chunk_0:  36%|██████████▍                  | 3583/10000 [13:32<23:58,  4.46row/s]"
     ]
    },
    {
     "name": "stdout",
     "output_type": "stream",
     "text": [
      "Progress saved: cleaned_chunk_0, row 3583\r"
     ]
    },
    {
     "name": "stderr",
     "output_type": "stream",
     "text": [
      "Processing cleaned_chunk_0:  36%|██████████▍                  | 3584/10000 [13:32<26:46,  3.99row/s]"
     ]
    },
    {
     "name": "stdout",
     "output_type": "stream",
     "text": [
      "Progress saved: cleaned_chunk_0, row 3584\r"
     ]
    },
    {
     "name": "stderr",
     "output_type": "stream",
     "text": [
      "Processing cleaned_chunk_0:  36%|██████████▍                  | 3585/10000 [13:33<28:23,  3.77row/s]"
     ]
    },
    {
     "name": "stdout",
     "output_type": "stream",
     "text": [
      "Progress saved: cleaned_chunk_0, row 3585\r"
     ]
    },
    {
     "name": "stderr",
     "output_type": "stream",
     "text": [
      "Processing cleaned_chunk_0:  36%|██████████▍                  | 3586/10000 [13:33<29:15,  3.65row/s]"
     ]
    },
    {
     "name": "stdout",
     "output_type": "stream",
     "text": [
      "Progress saved: cleaned_chunk_0, row 3586\r"
     ]
    },
    {
     "name": "stderr",
     "output_type": "stream",
     "text": [
      "Processing cleaned_chunk_0:  36%|██████████▍                  | 3587/10000 [13:33<28:01,  3.81row/s]"
     ]
    },
    {
     "name": "stdout",
     "output_type": "stream",
     "text": [
      "Progress saved: cleaned_chunk_0, row 3588\r"
     ]
    },
    {
     "name": "stderr",
     "output_type": "stream",
     "text": [
      "Processing cleaned_chunk_0:  36%|██████████▍                  | 3589/10000 [13:34<27:38,  3.86row/s]"
     ]
    },
    {
     "name": "stdout",
     "output_type": "stream",
     "text": [
      "Progress saved: cleaned_chunk_0, row 3589\r"
     ]
    },
    {
     "name": "stderr",
     "output_type": "stream",
     "text": [
      "Processing cleaned_chunk_0:  36%|██████████▍                  | 3591/10000 [13:34<23:47,  4.49row/s]"
     ]
    },
    {
     "name": "stdout",
     "output_type": "stream",
     "text": [
      "Progress saved: cleaned_chunk_0, row 3591\r"
     ]
    },
    {
     "name": "stderr",
     "output_type": "stream",
     "text": [
      "Processing cleaned_chunk_0:  36%|██████████▍                  | 3593/10000 [13:35<22:20,  4.78row/s]"
     ]
    },
    {
     "name": "stdout",
     "output_type": "stream",
     "text": [
      "Progress saved: cleaned_chunk_0, row 3593\r"
     ]
    },
    {
     "name": "stderr",
     "output_type": "stream",
     "text": [
      "Processing cleaned_chunk_0:  36%|██████████▍                  | 3594/10000 [13:35<23:35,  4.53row/s]"
     ]
    },
    {
     "name": "stdout",
     "output_type": "stream",
     "text": [
      "Progress saved: cleaned_chunk_0, row 3594\r"
     ]
    },
    {
     "name": "stderr",
     "output_type": "stream",
     "text": [
      "Processing cleaned_chunk_0:  36%|██████████▍                  | 3595/10000 [13:35<31:30,  3.39row/s]"
     ]
    },
    {
     "name": "stdout",
     "output_type": "stream",
     "text": [
      "Progress saved: cleaned_chunk_0, row 3595\r"
     ]
    },
    {
     "name": "stderr",
     "output_type": "stream",
     "text": [
      "Processing cleaned_chunk_0:  36%|██████████▍                  | 3596/10000 [13:36<31:19,  3.41row/s]"
     ]
    },
    {
     "name": "stdout",
     "output_type": "stream",
     "text": [
      "Progress saved: cleaned_chunk_0, row 3596\r"
     ]
    },
    {
     "name": "stderr",
     "output_type": "stream",
     "text": [
      "Processing cleaned_chunk_0:  36%|██████████▍                  | 3597/10000 [13:36<29:10,  3.66row/s]"
     ]
    },
    {
     "name": "stdout",
     "output_type": "stream",
     "text": [
      "Progress saved: cleaned_chunk_0, row 3597\r"
     ]
    },
    {
     "name": "stderr",
     "output_type": "stream",
     "text": [
      "Processing cleaned_chunk_0:  36%|██████████▍                  | 3598/10000 [13:36<27:13,  3.92row/s]"
     ]
    },
    {
     "name": "stdout",
     "output_type": "stream",
     "text": [
      "Progress saved: cleaned_chunk_0, row 3598\r"
     ]
    },
    {
     "name": "stderr",
     "output_type": "stream",
     "text": [
      "Processing cleaned_chunk_0:  36%|██████████▍                  | 3599/10000 [13:36<26:58,  3.95row/s]"
     ]
    },
    {
     "name": "stdout",
     "output_type": "stream",
     "text": [
      "Progress saved: cleaned_chunk_0, row 3599\r"
     ]
    },
    {
     "name": "stderr",
     "output_type": "stream",
     "text": [
      "Processing cleaned_chunk_0:  36%|██████████▍                  | 3600/10000 [13:36<27:21,  3.90row/s]"
     ]
    },
    {
     "name": "stdout",
     "output_type": "stream",
     "text": [
      "Progress saved: cleaned_chunk_0, row 3600\r"
     ]
    },
    {
     "name": "stderr",
     "output_type": "stream",
     "text": [
      "Processing cleaned_chunk_0:  36%|██████████▍                  | 3601/10000 [13:37<27:22,  3.90row/s]"
     ]
    },
    {
     "name": "stdout",
     "output_type": "stream",
     "text": [
      "Progress saved: cleaned_chunk_0, row 3601\r"
     ]
    },
    {
     "name": "stderr",
     "output_type": "stream",
     "text": [
      "Processing cleaned_chunk_0:  36%|██████████▍                  | 3602/10000 [13:37<26:39,  4.00row/s]"
     ]
    },
    {
     "name": "stdout",
     "output_type": "stream",
     "text": [
      "Progress saved: cleaned_chunk_0, row 3603\r"
     ]
    },
    {
     "name": "stderr",
     "output_type": "stream",
     "text": [
      "Processing cleaned_chunk_0:  36%|██████████▍                  | 3604/10000 [13:37<23:42,  4.50row/s]"
     ]
    },
    {
     "name": "stdout",
     "output_type": "stream",
     "text": [
      "Progress saved: cleaned_chunk_0, row 3604\r"
     ]
    },
    {
     "name": "stderr",
     "output_type": "stream",
     "text": [
      "Processing cleaned_chunk_0:  36%|██████████▍                  | 3606/10000 [13:38<20:34,  5.18row/s]"
     ]
    },
    {
     "name": "stdout",
     "output_type": "stream",
     "text": [
      "Progress saved: cleaned_chunk_0, row 3606\r"
     ]
    },
    {
     "name": "stderr",
     "output_type": "stream",
     "text": [
      "Processing cleaned_chunk_0:  36%|██████████▍                  | 3607/10000 [13:38<25:34,  4.17row/s]"
     ]
    },
    {
     "name": "stdout",
     "output_type": "stream",
     "text": [
      "Progress saved: cleaned_chunk_0, row 3607\r"
     ]
    },
    {
     "name": "stderr",
     "output_type": "stream",
     "text": [
      "Processing cleaned_chunk_0:  36%|██████████▍                  | 3608/10000 [13:38<29:40,  3.59row/s]"
     ]
    },
    {
     "name": "stdout",
     "output_type": "stream",
     "text": [
      "Progress saved: cleaned_chunk_0, row 3608\r"
     ]
    },
    {
     "name": "stderr",
     "output_type": "stream",
     "text": [
      "Processing cleaned_chunk_0:  36%|██████████▍                  | 3609/10000 [13:39<28:12,  3.78row/s]"
     ]
    },
    {
     "name": "stdout",
     "output_type": "stream",
     "text": [
      "Progress saved: cleaned_chunk_0, row 3609\r"
     ]
    },
    {
     "name": "stderr",
     "output_type": "stream",
     "text": [
      "Processing cleaned_chunk_0:  36%|██████████▍                  | 3610/10000 [13:39<26:36,  4.00row/s]"
     ]
    },
    {
     "name": "stdout",
     "output_type": "stream",
     "text": [
      "Progress saved: cleaned_chunk_0, row 3610\r"
     ]
    },
    {
     "name": "stderr",
     "output_type": "stream",
     "text": [
      "Processing cleaned_chunk_0:  36%|██████████▍                  | 3611/10000 [13:39<28:20,  3.76row/s]"
     ]
    },
    {
     "name": "stdout",
     "output_type": "stream",
     "text": [
      "Progress saved: cleaned_chunk_0, row 3611\r"
     ]
    },
    {
     "name": "stderr",
     "output_type": "stream",
     "text": [
      "Processing cleaned_chunk_0:  36%|██████████▍                  | 3612/10000 [13:39<27:24,  3.89row/s]"
     ]
    },
    {
     "name": "stdout",
     "output_type": "stream",
     "text": [
      "Progress saved: cleaned_chunk_0, row 3612\r"
     ]
    },
    {
     "name": "stderr",
     "output_type": "stream",
     "text": [
      "Processing cleaned_chunk_0:  36%|██████████▍                  | 3613/10000 [13:40<25:21,  4.20row/s]"
     ]
    },
    {
     "name": "stdout",
     "output_type": "stream",
     "text": [
      "Progress saved: cleaned_chunk_0, row 3613\r"
     ]
    },
    {
     "name": "stderr",
     "output_type": "stream",
     "text": [
      "Processing cleaned_chunk_0:  36%|██████████▍                  | 3614/10000 [13:40<30:36,  3.48row/s]"
     ]
    },
    {
     "name": "stdout",
     "output_type": "stream",
     "text": [
      "Progress saved: cleaned_chunk_0, row 3614\r"
     ]
    },
    {
     "name": "stderr",
     "output_type": "stream",
     "text": [
      "Processing cleaned_chunk_0:  36%|██████████▍                  | 3615/10000 [13:40<36:18,  2.93row/s]"
     ]
    },
    {
     "name": "stdout",
     "output_type": "stream",
     "text": [
      "Progress saved: cleaned_chunk_0, row 3615\r"
     ]
    },
    {
     "name": "stderr",
     "output_type": "stream",
     "text": [
      "Processing cleaned_chunk_0:  36%|██████████▍                  | 3616/10000 [13:41<41:21,  2.57row/s]"
     ]
    },
    {
     "name": "stdout",
     "output_type": "stream",
     "text": [
      "Progress saved: cleaned_chunk_0, row 3616\r"
     ]
    },
    {
     "name": "stderr",
     "output_type": "stream",
     "text": [
      "Processing cleaned_chunk_0:  36%|██████████▍                  | 3617/10000 [13:41<42:17,  2.52row/s]"
     ]
    },
    {
     "name": "stdout",
     "output_type": "stream",
     "text": [
      "Progress saved: cleaned_chunk_0, row 3617\r"
     ]
    },
    {
     "name": "stderr",
     "output_type": "stream",
     "text": [
      "Processing cleaned_chunk_0:  36%|██████████▍                  | 3618/10000 [13:42<39:41,  2.68row/s]"
     ]
    },
    {
     "name": "stdout",
     "output_type": "stream",
     "text": [
      "Progress saved: cleaned_chunk_0, row 3618\r"
     ]
    },
    {
     "name": "stderr",
     "output_type": "stream",
     "text": [
      "Processing cleaned_chunk_0:  36%|██████████▍                  | 3619/10000 [13:42<39:29,  2.69row/s]"
     ]
    },
    {
     "name": "stdout",
     "output_type": "stream",
     "text": [
      "Progress saved: cleaned_chunk_0, row 3619\r"
     ]
    },
    {
     "name": "stderr",
     "output_type": "stream",
     "text": [
      "Processing cleaned_chunk_0:  36%|██████████▍                  | 3620/10000 [13:43<41:30,  2.56row/s]"
     ]
    },
    {
     "name": "stdout",
     "output_type": "stream",
     "text": [
      "Progress saved: cleaned_chunk_0, row 3620\r"
     ]
    },
    {
     "name": "stderr",
     "output_type": "stream",
     "text": [
      "Processing cleaned_chunk_0:  36%|██████████▌                  | 3621/10000 [13:43<37:20,  2.85row/s]"
     ]
    },
    {
     "name": "stdout",
     "output_type": "stream",
     "text": [
      "Progress saved: cleaned_chunk_0, row 3621\r"
     ]
    },
    {
     "name": "stderr",
     "output_type": "stream",
     "text": [
      "Processing cleaned_chunk_0:  36%|██████████▌                  | 3622/10000 [13:43<34:05,  3.12row/s]"
     ]
    },
    {
     "name": "stdout",
     "output_type": "stream",
     "text": [
      "Progress saved: cleaned_chunk_0, row 3622\r"
     ]
    },
    {
     "name": "stderr",
     "output_type": "stream",
     "text": [
      "Processing cleaned_chunk_0:  36%|██████████▌                  | 3623/10000 [13:43<32:05,  3.31row/s]"
     ]
    },
    {
     "name": "stdout",
     "output_type": "stream",
     "text": [
      "Progress saved: cleaned_chunk_0, row 3623\r"
     ]
    },
    {
     "name": "stderr",
     "output_type": "stream",
     "text": [
      "Processing cleaned_chunk_0:  36%|██████████▌                  | 3624/10000 [13:44<33:31,  3.17row/s]"
     ]
    },
    {
     "name": "stdout",
     "output_type": "stream",
     "text": [
      "Progress saved: cleaned_chunk_0, row 3624\r"
     ]
    },
    {
     "name": "stderr",
     "output_type": "stream",
     "text": [
      "Processing cleaned_chunk_0:  36%|██████████▌                  | 3625/10000 [13:44<31:17,  3.39row/s]"
     ]
    },
    {
     "name": "stdout",
     "output_type": "stream",
     "text": [
      "Progress saved: cleaned_chunk_0, row 3626\r"
     ]
    },
    {
     "name": "stderr",
     "output_type": "stream",
     "text": [
      "Processing cleaned_chunk_0:  36%|██████████▌                  | 3627/10000 [13:44<27:21,  3.88row/s]"
     ]
    },
    {
     "name": "stdout",
     "output_type": "stream",
     "text": [
      "Progress saved: cleaned_chunk_0, row 3627\r"
     ]
    },
    {
     "name": "stderr",
     "output_type": "stream",
     "text": [
      "Processing cleaned_chunk_0:  36%|██████████▌                  | 3628/10000 [13:45<26:10,  4.06row/s]"
     ]
    },
    {
     "name": "stdout",
     "output_type": "stream",
     "text": [
      "Progress saved: cleaned_chunk_0, row 3628\r"
     ]
    },
    {
     "name": "stderr",
     "output_type": "stream",
     "text": [
      "Processing cleaned_chunk_0:  36%|██████████▌                  | 3629/10000 [13:45<28:06,  3.78row/s]"
     ]
    },
    {
     "name": "stdout",
     "output_type": "stream",
     "text": [
      "Progress saved: cleaned_chunk_0, row 3629\r"
     ]
    },
    {
     "name": "stderr",
     "output_type": "stream",
     "text": [
      "Processing cleaned_chunk_0:  36%|██████████▌                  | 3630/10000 [13:45<31:09,  3.41row/s]"
     ]
    },
    {
     "name": "stdout",
     "output_type": "stream",
     "text": [
      "Progress saved: cleaned_chunk_0, row 3630\r"
     ]
    },
    {
     "name": "stderr",
     "output_type": "stream",
     "text": [
      "Processing cleaned_chunk_0:  36%|██████████▌                  | 3631/10000 [13:46<34:20,  3.09row/s]"
     ]
    },
    {
     "name": "stdout",
     "output_type": "stream",
     "text": [
      "Progress saved: cleaned_chunk_0, row 3631\r"
     ]
    },
    {
     "name": "stderr",
     "output_type": "stream",
     "text": [
      "Processing cleaned_chunk_0:  36%|██████████▌                  | 3632/10000 [13:46<32:59,  3.22row/s]"
     ]
    },
    {
     "name": "stdout",
     "output_type": "stream",
     "text": [
      "Progress saved: cleaned_chunk_0, row 3632\r"
     ]
    },
    {
     "name": "stderr",
     "output_type": "stream",
     "text": [
      "Processing cleaned_chunk_0:  36%|██████████▌                  | 3634/10000 [13:46<27:13,  3.90row/s]"
     ]
    },
    {
     "name": "stdout",
     "output_type": "stream",
     "text": [
      "Progress saved: cleaned_chunk_0, row 3634\r"
     ]
    },
    {
     "name": "stderr",
     "output_type": "stream",
     "text": [
      "Processing cleaned_chunk_0:  36%|██████████▌                  | 3635/10000 [13:47<29:02,  3.65row/s]"
     ]
    },
    {
     "name": "stdout",
     "output_type": "stream",
     "text": [
      "Progress saved: cleaned_chunk_0, row 3635\r"
     ]
    },
    {
     "name": "stderr",
     "output_type": "stream",
     "text": [
      "Processing cleaned_chunk_0:  36%|██████████▌                  | 3636/10000 [13:47<28:09,  3.77row/s]"
     ]
    },
    {
     "name": "stdout",
     "output_type": "stream",
     "text": [
      "Progress saved: cleaned_chunk_0, row 3636\r"
     ]
    },
    {
     "name": "stderr",
     "output_type": "stream",
     "text": [
      "Processing cleaned_chunk_0:  36%|██████████▌                  | 3637/10000 [13:47<32:01,  3.31row/s]"
     ]
    },
    {
     "name": "stdout",
     "output_type": "stream",
     "text": [
      "Progress saved: cleaned_chunk_0, row 3637\r"
     ]
    },
    {
     "name": "stderr",
     "output_type": "stream",
     "text": [
      "Processing cleaned_chunk_0:  36%|██████████▌                  | 3638/10000 [13:48<38:50,  2.73row/s]"
     ]
    },
    {
     "name": "stdout",
     "output_type": "stream",
     "text": [
      "Progress saved: cleaned_chunk_0, row 3638\r"
     ]
    },
    {
     "name": "stderr",
     "output_type": "stream",
     "text": [
      "Processing cleaned_chunk_0:  36%|██████████▌                  | 3639/10000 [13:48<45:56,  2.31row/s]"
     ]
    },
    {
     "name": "stdout",
     "output_type": "stream",
     "text": [
      "Progress saved: cleaned_chunk_0, row 3639\r"
     ]
    },
    {
     "name": "stderr",
     "output_type": "stream",
     "text": [
      "Processing cleaned_chunk_0:  36%|██████████▌                  | 3640/10000 [13:49<48:16,  2.20row/s]"
     ]
    },
    {
     "name": "stdout",
     "output_type": "stream",
     "text": [
      "Progress saved: cleaned_chunk_0, row 3640\r"
     ]
    },
    {
     "name": "stderr",
     "output_type": "stream",
     "text": [
      "Processing cleaned_chunk_0:  36%|██████████▌                  | 3641/10000 [13:49<49:13,  2.15row/s]"
     ]
    },
    {
     "name": "stdout",
     "output_type": "stream",
     "text": [
      "Progress saved: cleaned_chunk_0, row 3641\r"
     ]
    },
    {
     "name": "stderr",
     "output_type": "stream",
     "text": [
      "Processing cleaned_chunk_0:  36%|██████████▌                  | 3642/10000 [13:50<47:08,  2.25row/s]"
     ]
    },
    {
     "name": "stdout",
     "output_type": "stream",
     "text": [
      "Progress saved: cleaned_chunk_0, row 3642\r"
     ]
    },
    {
     "name": "stderr",
     "output_type": "stream",
     "text": [
      "Processing cleaned_chunk_0:  36%|██████████▌                  | 3643/10000 [13:50<43:06,  2.46row/s]"
     ]
    },
    {
     "name": "stdout",
     "output_type": "stream",
     "text": [
      "Progress saved: cleaned_chunk_0, row 3643\r"
     ]
    },
    {
     "name": "stderr",
     "output_type": "stream",
     "text": [
      "Processing cleaned_chunk_0:  36%|██████████▌                  | 3644/10000 [13:50<43:02,  2.46row/s]"
     ]
    },
    {
     "name": "stdout",
     "output_type": "stream",
     "text": [
      "Progress saved: cleaned_chunk_0, row 3644\r"
     ]
    },
    {
     "name": "stderr",
     "output_type": "stream",
     "text": [
      "Processing cleaned_chunk_0:  36%|██████████▌                  | 3645/10000 [13:51<43:57,  2.41row/s]"
     ]
    },
    {
     "name": "stdout",
     "output_type": "stream",
     "text": [
      "Progress saved: cleaned_chunk_0, row 3645\r"
     ]
    },
    {
     "name": "stderr",
     "output_type": "stream",
     "text": [
      "Processing cleaned_chunk_0:  36%|██████████▌                  | 3646/10000 [13:51<48:52,  2.17row/s]"
     ]
    },
    {
     "name": "stdout",
     "output_type": "stream",
     "text": [
      "Progress saved: cleaned_chunk_0, row 3646\r"
     ]
    },
    {
     "name": "stderr",
     "output_type": "stream",
     "text": [
      "Processing cleaned_chunk_0:  36%|██████████▌                  | 3647/10000 [13:52<44:17,  2.39row/s]"
     ]
    },
    {
     "name": "stdout",
     "output_type": "stream",
     "text": [
      "Progress saved: cleaned_chunk_0, row 3647\r"
     ]
    },
    {
     "name": "stderr",
     "output_type": "stream",
     "text": [
      "Processing cleaned_chunk_0:  36%|██████████▌                  | 3648/10000 [13:52<41:56,  2.52row/s]"
     ]
    },
    {
     "name": "stdout",
     "output_type": "stream",
     "text": [
      "Progress saved: cleaned_chunk_0, row 3648\r"
     ]
    },
    {
     "name": "stderr",
     "output_type": "stream",
     "text": [
      "Processing cleaned_chunk_0:  36%|██████████▌                  | 3649/10000 [13:52<38:06,  2.78row/s]"
     ]
    },
    {
     "name": "stdout",
     "output_type": "stream",
     "text": [
      "Progress saved: cleaned_chunk_0, row 3649\r"
     ]
    },
    {
     "name": "stderr",
     "output_type": "stream",
     "text": [
      "Processing cleaned_chunk_0:  36%|██████████▌                  | 3650/10000 [13:53<35:56,  2.94row/s]"
     ]
    },
    {
     "name": "stdout",
     "output_type": "stream",
     "text": [
      "Progress saved: cleaned_chunk_0, row 3650\r"
     ]
    },
    {
     "name": "stderr",
     "output_type": "stream",
     "text": [
      "Processing cleaned_chunk_0:  37%|██████████▌                  | 3651/10000 [13:53<39:01,  2.71row/s]"
     ]
    },
    {
     "name": "stdout",
     "output_type": "stream",
     "text": [
      "Progress saved: cleaned_chunk_0, row 3651\r"
     ]
    },
    {
     "name": "stderr",
     "output_type": "stream",
     "text": [
      "Processing cleaned_chunk_0:  37%|██████████▌                  | 3652/10000 [13:53<36:21,  2.91row/s]"
     ]
    },
    {
     "name": "stdout",
     "output_type": "stream",
     "text": [
      "Progress saved: cleaned_chunk_0, row 3652\r"
     ]
    },
    {
     "name": "stderr",
     "output_type": "stream",
     "text": [
      "Processing cleaned_chunk_0:  37%|██████████▌                  | 3653/10000 [13:54<40:15,  2.63row/s]"
     ]
    },
    {
     "name": "stdout",
     "output_type": "stream",
     "text": [
      "Progress saved: cleaned_chunk_0, row 3653\r"
     ]
    },
    {
     "name": "stderr",
     "output_type": "stream",
     "text": [
      "Processing cleaned_chunk_0:  37%|██████████▌                  | 3654/10000 [13:54<39:04,  2.71row/s]"
     ]
    },
    {
     "name": "stdout",
     "output_type": "stream",
     "text": [
      "Progress saved: cleaned_chunk_0, row 3654\r"
     ]
    },
    {
     "name": "stderr",
     "output_type": "stream",
     "text": [
      "Processing cleaned_chunk_0:  37%|██████████▌                  | 3655/10000 [13:55<38:57,  2.71row/s]"
     ]
    },
    {
     "name": "stdout",
     "output_type": "stream",
     "text": [
      "Progress saved: cleaned_chunk_0, row 3656\r"
     ]
    },
    {
     "name": "stderr",
     "output_type": "stream",
     "text": [
      "Processing cleaned_chunk_0:  37%|██████████▌                  | 3657/10000 [13:55<33:36,  3.15row/s]"
     ]
    },
    {
     "name": "stdout",
     "output_type": "stream",
     "text": [
      "Progress saved: cleaned_chunk_0, row 3657\r"
     ]
    },
    {
     "name": "stderr",
     "output_type": "stream",
     "text": [
      "Processing cleaned_chunk_0:  37%|██████████▌                  | 3658/10000 [13:55<32:28,  3.26row/s]"
     ]
    },
    {
     "name": "stdout",
     "output_type": "stream",
     "text": [
      "Progress saved: cleaned_chunk_0, row 3658\r"
     ]
    },
    {
     "name": "stderr",
     "output_type": "stream",
     "text": [
      "Processing cleaned_chunk_0:  37%|██████████▌                  | 3659/10000 [13:56<33:10,  3.19row/s]"
     ]
    },
    {
     "name": "stdout",
     "output_type": "stream",
     "text": [
      "Progress saved: cleaned_chunk_0, row 3659\r"
     ]
    },
    {
     "name": "stderr",
     "output_type": "stream",
     "text": [
      "Processing cleaned_chunk_0:  37%|██████████▌                  | 3660/10000 [13:56<33:46,  3.13row/s]"
     ]
    },
    {
     "name": "stdout",
     "output_type": "stream",
     "text": [
      "Progress saved: cleaned_chunk_0, row 3660\r"
     ]
    },
    {
     "name": "stderr",
     "output_type": "stream",
     "text": [
      "Processing cleaned_chunk_0:  37%|██████████▌                  | 3661/10000 [13:57<38:52,  2.72row/s]"
     ]
    },
    {
     "name": "stdout",
     "output_type": "stream",
     "text": [
      "Progress saved: cleaned_chunk_0, row 3661\r"
     ]
    },
    {
     "name": "stderr",
     "output_type": "stream",
     "text": [
      "Processing cleaned_chunk_0:  37%|██████████▌                  | 3662/10000 [13:57<36:12,  2.92row/s]"
     ]
    },
    {
     "name": "stdout",
     "output_type": "stream",
     "text": [
      "Progress saved: cleaned_chunk_0, row 3662\r"
     ]
    },
    {
     "name": "stderr",
     "output_type": "stream",
     "text": [
      "Processing cleaned_chunk_0:  37%|██████████▌                  | 3663/10000 [13:57<34:58,  3.02row/s]"
     ]
    },
    {
     "name": "stdout",
     "output_type": "stream",
     "text": [
      "Progress saved: cleaned_chunk_0, row 3664\r"
     ]
    },
    {
     "name": "stderr",
     "output_type": "stream",
     "text": [
      "Processing cleaned_chunk_0:  37%|██████████▋                  | 3665/10000 [13:58<27:38,  3.82row/s]"
     ]
    },
    {
     "name": "stdout",
     "output_type": "stream",
     "text": [
      "Progress saved: cleaned_chunk_0, row 3665\r"
     ]
    },
    {
     "name": "stderr",
     "output_type": "stream",
     "text": [
      "Processing cleaned_chunk_0:  37%|██████████▋                  | 3666/10000 [13:58<29:10,  3.62row/s]"
     ]
    },
    {
     "name": "stdout",
     "output_type": "stream",
     "text": [
      "Progress saved: cleaned_chunk_0, row 3666\r"
     ]
    },
    {
     "name": "stderr",
     "output_type": "stream",
     "text": [
      "Processing cleaned_chunk_0:  37%|██████████▋                  | 3667/10000 [13:58<29:48,  3.54row/s]"
     ]
    },
    {
     "name": "stdout",
     "output_type": "stream",
     "text": [
      "Progress saved: cleaned_chunk_0, row 3667\r"
     ]
    },
    {
     "name": "stderr",
     "output_type": "stream",
     "text": [
      "Processing cleaned_chunk_0:  37%|██████████▋                  | 3668/10000 [13:58<30:05,  3.51row/s]"
     ]
    },
    {
     "name": "stdout",
     "output_type": "stream",
     "text": [
      "Progress saved: cleaned_chunk_0, row 3668\r"
     ]
    },
    {
     "name": "stderr",
     "output_type": "stream",
     "text": [
      "Processing cleaned_chunk_0:  37%|██████████▋                  | 3669/10000 [13:59<30:39,  3.44row/s]"
     ]
    },
    {
     "name": "stdout",
     "output_type": "stream",
     "text": [
      "Progress saved: cleaned_chunk_0, row 3669\r"
     ]
    },
    {
     "name": "stderr",
     "output_type": "stream",
     "text": [
      "Processing cleaned_chunk_0:  37%|██████████▋                  | 3670/10000 [13:59<30:40,  3.44row/s]"
     ]
    },
    {
     "name": "stdout",
     "output_type": "stream",
     "text": [
      "Progress saved: cleaned_chunk_0, row 3670\r"
     ]
    },
    {
     "name": "stderr",
     "output_type": "stream",
     "text": [
      "Processing cleaned_chunk_0:  37%|██████████▋                  | 3671/10000 [13:59<30:16,  3.48row/s]"
     ]
    },
    {
     "name": "stdout",
     "output_type": "stream",
     "text": [
      "Progress saved: cleaned_chunk_0, row 3671\r"
     ]
    },
    {
     "name": "stderr",
     "output_type": "stream",
     "text": [
      "Processing cleaned_chunk_0:  37%|██████████▋                  | 3672/10000 [14:00<30:00,  3.52row/s]"
     ]
    },
    {
     "name": "stdout",
     "output_type": "stream",
     "text": [
      "Progress saved: cleaned_chunk_0, row 3672\r"
     ]
    },
    {
     "name": "stderr",
     "output_type": "stream",
     "text": [
      "Processing cleaned_chunk_0:  37%|██████████▋                  | 3673/10000 [14:00<36:39,  2.88row/s]"
     ]
    },
    {
     "name": "stdout",
     "output_type": "stream",
     "text": [
      "Progress saved: cleaned_chunk_0, row 3673\r"
     ]
    },
    {
     "name": "stderr",
     "output_type": "stream",
     "text": [
      "Processing cleaned_chunk_0:  37%|██████████▋                  | 3674/10000 [14:00<33:18,  3.17row/s]"
     ]
    },
    {
     "name": "stdout",
     "output_type": "stream",
     "text": [
      "Progress saved: cleaned_chunk_0, row 3674\r"
     ]
    },
    {
     "name": "stderr",
     "output_type": "stream",
     "text": [
      "Processing cleaned_chunk_0:  37%|██████████▋                  | 3675/10000 [14:01<41:42,  2.53row/s]"
     ]
    },
    {
     "name": "stdout",
     "output_type": "stream",
     "text": [
      "Progress saved: cleaned_chunk_0, row 3675\r"
     ]
    },
    {
     "name": "stderr",
     "output_type": "stream",
     "text": [
      "Processing cleaned_chunk_0:  37%|██████████▋                  | 3676/10000 [14:01<45:02,  2.34row/s]"
     ]
    },
    {
     "name": "stdout",
     "output_type": "stream",
     "text": [
      "Progress saved: cleaned_chunk_0, row 3676\r"
     ]
    },
    {
     "name": "stderr",
     "output_type": "stream",
     "text": [
      "Processing cleaned_chunk_0:  37%|██████████▋                  | 3677/10000 [14:02<47:34,  2.22row/s]"
     ]
    },
    {
     "name": "stdout",
     "output_type": "stream",
     "text": [
      "Progress saved: cleaned_chunk_0, row 3677\r"
     ]
    },
    {
     "name": "stderr",
     "output_type": "stream",
     "text": [
      "Processing cleaned_chunk_0:  37%|█████████▉                 | 3678/10000 [14:03<1:02:09,  1.69row/s]"
     ]
    },
    {
     "name": "stdout",
     "output_type": "stream",
     "text": [
      "Progress saved: cleaned_chunk_0, row 3678\r"
     ]
    },
    {
     "name": "stderr",
     "output_type": "stream",
     "text": [
      "Processing cleaned_chunk_0:  37%|█████████▉                 | 3679/10000 [14:04<1:09:27,  1.52row/s]"
     ]
    },
    {
     "name": "stdout",
     "output_type": "stream",
     "text": [
      "Progress saved: cleaned_chunk_0, row 3679\r"
     ]
    },
    {
     "name": "stderr",
     "output_type": "stream",
     "text": [
      "Processing cleaned_chunk_0:  37%|█████████▉                 | 3680/10000 [14:04<1:02:10,  1.69row/s]"
     ]
    },
    {
     "name": "stdout",
     "output_type": "stream",
     "text": [
      "Progress saved: cleaned_chunk_0, row 3680\r"
     ]
    },
    {
     "name": "stderr",
     "output_type": "stream",
     "text": [
      "Processing cleaned_chunk_0:  37%|█████████▉                 | 3681/10000 [14:05<1:00:16,  1.75row/s]"
     ]
    },
    {
     "name": "stdout",
     "output_type": "stream",
     "text": [
      "Progress saved: cleaned_chunk_0, row 3681\r"
     ]
    },
    {
     "name": "stderr",
     "output_type": "stream",
     "text": [
      "Processing cleaned_chunk_0:  37%|██████████▋                  | 3682/10000 [14:05<58:26,  1.80row/s]"
     ]
    },
    {
     "name": "stdout",
     "output_type": "stream",
     "text": [
      "Progress saved: cleaned_chunk_0, row 3682\r"
     ]
    },
    {
     "name": "stderr",
     "output_type": "stream",
     "text": [
      "Processing cleaned_chunk_0:  37%|██████████▋                  | 3683/10000 [14:05<50:59,  2.06row/s]"
     ]
    },
    {
     "name": "stdout",
     "output_type": "stream",
     "text": [
      "Progress saved: cleaned_chunk_0, row 3683\r"
     ]
    },
    {
     "name": "stderr",
     "output_type": "stream",
     "text": [
      "Processing cleaned_chunk_0:  37%|██████████▋                  | 3684/10000 [14:06<59:12,  1.78row/s]"
     ]
    },
    {
     "name": "stdout",
     "output_type": "stream",
     "text": [
      "Progress saved: cleaned_chunk_0, row 3684\r"
     ]
    },
    {
     "name": "stderr",
     "output_type": "stream",
     "text": [
      "Processing cleaned_chunk_0:  37%|██████████▋                  | 3685/10000 [14:07<59:20,  1.77row/s]"
     ]
    },
    {
     "name": "stdout",
     "output_type": "stream",
     "text": [
      "Progress saved: cleaned_chunk_0, row 3685\r"
     ]
    },
    {
     "name": "stderr",
     "output_type": "stream",
     "text": [
      "Processing cleaned_chunk_0:  37%|██████████▋                  | 3686/10000 [14:07<52:04,  2.02row/s]"
     ]
    },
    {
     "name": "stdout",
     "output_type": "stream",
     "text": [
      "Progress saved: cleaned_chunk_0, row 3686\r"
     ]
    },
    {
     "name": "stderr",
     "output_type": "stream",
     "text": [
      "Processing cleaned_chunk_0:  37%|██████████▋                  | 3687/10000 [14:07<46:41,  2.25row/s]"
     ]
    },
    {
     "name": "stdout",
     "output_type": "stream",
     "text": [
      "Progress saved: cleaned_chunk_0, row 3687\r"
     ]
    },
    {
     "name": "stderr",
     "output_type": "stream",
     "text": [
      "Processing cleaned_chunk_0:  37%|██████████▋                  | 3688/10000 [14:08<42:20,  2.48row/s]"
     ]
    },
    {
     "name": "stdout",
     "output_type": "stream",
     "text": [
      "Progress saved: cleaned_chunk_0, row 3688\r"
     ]
    },
    {
     "name": "stderr",
     "output_type": "stream",
     "text": [
      "Processing cleaned_chunk_0:  37%|██████████▋                  | 3689/10000 [14:08<37:56,  2.77row/s]"
     ]
    },
    {
     "name": "stdout",
     "output_type": "stream",
     "text": [
      "Progress saved: cleaned_chunk_0, row 3689\r"
     ]
    },
    {
     "name": "stderr",
     "output_type": "stream",
     "text": [
      "Processing cleaned_chunk_0:  37%|██████████▋                  | 3690/10000 [14:08<35:06,  3.00row/s]"
     ]
    },
    {
     "name": "stdout",
     "output_type": "stream",
     "text": [
      "Progress saved: cleaned_chunk_0, row 3690\r"
     ]
    },
    {
     "name": "stderr",
     "output_type": "stream",
     "text": [
      "Processing cleaned_chunk_0:  37%|██████████▋                  | 3691/10000 [14:09<45:17,  2.32row/s]"
     ]
    },
    {
     "name": "stdout",
     "output_type": "stream",
     "text": [
      "Progress saved: cleaned_chunk_0, row 3691\r"
     ]
    },
    {
     "name": "stderr",
     "output_type": "stream",
     "text": [
      "Processing cleaned_chunk_0:  37%|██████████▋                  | 3692/10000 [14:09<46:37,  2.25row/s]"
     ]
    },
    {
     "name": "stdout",
     "output_type": "stream",
     "text": [
      "Progress saved: cleaned_chunk_0, row 3692\r"
     ]
    },
    {
     "name": "stderr",
     "output_type": "stream",
     "text": [
      "Processing cleaned_chunk_0:  37%|██████████▋                  | 3693/10000 [14:10<52:05,  2.02row/s]"
     ]
    },
    {
     "name": "stdout",
     "output_type": "stream",
     "text": [
      "Progress saved: cleaned_chunk_0, row 3693\r"
     ]
    },
    {
     "name": "stderr",
     "output_type": "stream",
     "text": [
      "Processing cleaned_chunk_0:  37%|██████████▋                  | 3694/10000 [14:10<44:53,  2.34row/s]"
     ]
    },
    {
     "name": "stdout",
     "output_type": "stream",
     "text": [
      "Progress saved: cleaned_chunk_0, row 3694\r"
     ]
    },
    {
     "name": "stderr",
     "output_type": "stream",
     "text": [
      "Processing cleaned_chunk_0:  37%|██████████▋                  | 3695/10000 [14:11<47:11,  2.23row/s]"
     ]
    },
    {
     "name": "stdout",
     "output_type": "stream",
     "text": [
      "Progress saved: cleaned_chunk_0, row 3695\r"
     ]
    },
    {
     "name": "stderr",
     "output_type": "stream",
     "text": [
      "Processing cleaned_chunk_0:  37%|██████████▋                  | 3696/10000 [14:11<52:04,  2.02row/s]"
     ]
    },
    {
     "name": "stdout",
     "output_type": "stream",
     "text": [
      "Progress saved: cleaned_chunk_0, row 3696\r"
     ]
    },
    {
     "name": "stderr",
     "output_type": "stream",
     "text": [
      "Processing cleaned_chunk_0:  37%|██████████▋                  | 3696/10000 [14:12<24:13,  4.34row/s]\n"
     ]
    },
    {
     "ename": "KeyboardInterrupt",
     "evalue": "",
     "output_type": "error",
     "traceback": [
      "\u001b[1;31m---------------------------------------------------------------------------\u001b[0m",
      "\u001b[1;31mKeyboardInterrupt\u001b[0m                         Traceback (most recent call last)",
      "Cell \u001b[1;32mIn[11], line 48\u001b[0m\n\u001b[0;32m     41\u001b[0m metadatas \u001b[38;5;241m=\u001b[39m [{\n\u001b[0;32m     42\u001b[0m     \u001b[38;5;124m\"\u001b[39m\u001b[38;5;124mtype\u001b[39m\u001b[38;5;124m\"\u001b[39m: \u001b[38;5;124m\"\u001b[39m\u001b[38;5;124msnippet\u001b[39m\u001b[38;5;124m\"\u001b[39m,\n\u001b[0;32m     43\u001b[0m     \u001b[38;5;124m\"\u001b[39m\u001b[38;5;124mrepo\u001b[39m\u001b[38;5;124m\"\u001b[39m: first_row[\u001b[38;5;124m'\u001b[39m\u001b[38;5;124mrepo_file_name\u001b[39m\u001b[38;5;124m'\u001b[39m],\n\u001b[0;32m     44\u001b[0m     \u001b[38;5;124m\"\u001b[39m\u001b[38;5;124mlanguage\u001b[39m\u001b[38;5;124m\"\u001b[39m: first_row[\u001b[38;5;124m'\u001b[39m\u001b[38;5;124mlanguage\u001b[39m\u001b[38;5;124m'\u001b[39m]\n\u001b[0;32m     45\u001b[0m }]\n\u001b[0;32m     47\u001b[0m \u001b[38;5;66;03m# Add the data to the collection\u001b[39;00m\n\u001b[1;32m---> 48\u001b[0m \u001b[43mcollection\u001b[49m\u001b[38;5;241;43m.\u001b[39;49m\u001b[43madd\u001b[49m\u001b[43m(\u001b[49m\n\u001b[0;32m     49\u001b[0m \u001b[43m    \u001b[49m\u001b[43mids\u001b[49m\u001b[38;5;241;43m=\u001b[39;49m\u001b[43mids\u001b[49m\u001b[43m,\u001b[49m\n\u001b[0;32m     50\u001b[0m \u001b[43m    \u001b[49m\u001b[43mdocuments\u001b[49m\u001b[38;5;241;43m=\u001b[39;49m\u001b[43mdocuments\u001b[49m\u001b[43m,\u001b[49m\n\u001b[0;32m     51\u001b[0m \u001b[43m    \u001b[49m\u001b[43mmetadatas\u001b[49m\u001b[38;5;241;43m=\u001b[39;49m\u001b[43mmetadatas\u001b[49m\n\u001b[0;32m     52\u001b[0m \u001b[43m\u001b[49m\u001b[43m)\u001b[49m\n\u001b[0;32m     54\u001b[0m \u001b[38;5;66;03m# Save progress after each row\u001b[39;00m\n\u001b[0;32m     55\u001b[0m save_progress(chunk_dir, row_idx \u001b[38;5;241m+\u001b[39m \u001b[38;5;241m1\u001b[39m)\n",
      "File \u001b[1;32me:\\Desktop\\Schoole\\ENSET\\BDCC-2\\Semester 3\\POO Java\\@@Project JAVA LLM\\TEST\\File PDF MD TEST\\Ollama-Set-RAG\\.venv\\Lib\\site-packages\\chromadb\\api\\models\\Collection.py:81\u001b[0m, in \u001b[0;36mCollection.add\u001b[1;34m(self, ids, embeddings, metadatas, documents, images, uris)\u001b[0m\n\u001b[0;32m     46\u001b[0m \u001b[38;5;28;01mdef\u001b[39;00m \u001b[38;5;21madd\u001b[39m(\n\u001b[0;32m     47\u001b[0m     \u001b[38;5;28mself\u001b[39m,\n\u001b[0;32m     48\u001b[0m     ids: OneOrMany[ID],\n\u001b[1;32m   (...)\u001b[0m\n\u001b[0;32m     58\u001b[0m     uris: Optional[OneOrMany[URI]] \u001b[38;5;241m=\u001b[39m \u001b[38;5;28;01mNone\u001b[39;00m,\n\u001b[0;32m     59\u001b[0m ) \u001b[38;5;241m-\u001b[39m\u001b[38;5;241m>\u001b[39m \u001b[38;5;28;01mNone\u001b[39;00m:\n\u001b[0;32m     60\u001b[0m \u001b[38;5;250m    \u001b[39m\u001b[38;5;124;03m\"\"\"Add embeddings to the data store.\u001b[39;00m\n\u001b[0;32m     61\u001b[0m \u001b[38;5;124;03m    Args:\u001b[39;00m\n\u001b[0;32m     62\u001b[0m \u001b[38;5;124;03m        ids: The ids of the embeddings you wish to add\u001b[39;00m\n\u001b[1;32m   (...)\u001b[0m\n\u001b[0;32m     78\u001b[0m \n\u001b[0;32m     79\u001b[0m \u001b[38;5;124;03m    \"\"\"\u001b[39;00m\n\u001b[1;32m---> 81\u001b[0m     add_request \u001b[38;5;241m=\u001b[39m \u001b[38;5;28;43mself\u001b[39;49m\u001b[38;5;241;43m.\u001b[39;49m\u001b[43m_validate_and_prepare_add_request\u001b[49m\u001b[43m(\u001b[49m\n\u001b[0;32m     82\u001b[0m \u001b[43m        \u001b[49m\u001b[43mids\u001b[49m\u001b[38;5;241;43m=\u001b[39;49m\u001b[43mids\u001b[49m\u001b[43m,\u001b[49m\n\u001b[0;32m     83\u001b[0m \u001b[43m        \u001b[49m\u001b[43membeddings\u001b[49m\u001b[38;5;241;43m=\u001b[39;49m\u001b[43membeddings\u001b[49m\u001b[43m,\u001b[49m\n\u001b[0;32m     84\u001b[0m \u001b[43m        \u001b[49m\u001b[43mmetadatas\u001b[49m\u001b[38;5;241;43m=\u001b[39;49m\u001b[43mmetadatas\u001b[49m\u001b[43m,\u001b[49m\n\u001b[0;32m     85\u001b[0m \u001b[43m        \u001b[49m\u001b[43mdocuments\u001b[49m\u001b[38;5;241;43m=\u001b[39;49m\u001b[43mdocuments\u001b[49m\u001b[43m,\u001b[49m\n\u001b[0;32m     86\u001b[0m \u001b[43m        \u001b[49m\u001b[43mimages\u001b[49m\u001b[38;5;241;43m=\u001b[39;49m\u001b[43mimages\u001b[49m\u001b[43m,\u001b[49m\n\u001b[0;32m     87\u001b[0m \u001b[43m        \u001b[49m\u001b[43muris\u001b[49m\u001b[38;5;241;43m=\u001b[39;49m\u001b[43muris\u001b[49m\u001b[43m,\u001b[49m\n\u001b[0;32m     88\u001b[0m \u001b[43m    \u001b[49m\u001b[43m)\u001b[49m\n\u001b[0;32m     90\u001b[0m     \u001b[38;5;28mself\u001b[39m\u001b[38;5;241m.\u001b[39m_client\u001b[38;5;241m.\u001b[39m_add(\n\u001b[0;32m     91\u001b[0m         collection_id\u001b[38;5;241m=\u001b[39m\u001b[38;5;28mself\u001b[39m\u001b[38;5;241m.\u001b[39mid,\n\u001b[0;32m     92\u001b[0m         ids\u001b[38;5;241m=\u001b[39madd_request[\u001b[38;5;124m\"\u001b[39m\u001b[38;5;124mids\u001b[39m\u001b[38;5;124m\"\u001b[39m],\n\u001b[1;32m   (...)\u001b[0m\n\u001b[0;32m     98\u001b[0m         database\u001b[38;5;241m=\u001b[39m\u001b[38;5;28mself\u001b[39m\u001b[38;5;241m.\u001b[39mdatabase,\n\u001b[0;32m     99\u001b[0m     )\n",
      "File \u001b[1;32me:\\Desktop\\Schoole\\ENSET\\BDCC-2\\Semester 3\\POO Java\\@@Project JAVA LLM\\TEST\\File PDF MD TEST\\Ollama-Set-RAG\\.venv\\Lib\\site-packages\\chromadb\\api\\models\\CollectionCommon.py:90\u001b[0m, in \u001b[0;36mvalidation_context.<locals>.decorator.<locals>.wrapper\u001b[1;34m(self, *args, **kwargs)\u001b[0m\n\u001b[0;32m     87\u001b[0m \u001b[38;5;129m@functools\u001b[39m\u001b[38;5;241m.\u001b[39mwraps(func)\n\u001b[0;32m     88\u001b[0m \u001b[38;5;28;01mdef\u001b[39;00m \u001b[38;5;21mwrapper\u001b[39m(\u001b[38;5;28mself\u001b[39m: Any, \u001b[38;5;241m*\u001b[39margs: Any, \u001b[38;5;241m*\u001b[39m\u001b[38;5;241m*\u001b[39mkwargs: Any) \u001b[38;5;241m-\u001b[39m\u001b[38;5;241m>\u001b[39m T:\n\u001b[0;32m     89\u001b[0m     \u001b[38;5;28;01mtry\u001b[39;00m:\n\u001b[1;32m---> 90\u001b[0m         \u001b[38;5;28;01mreturn\u001b[39;00m \u001b[43mfunc\u001b[49m\u001b[43m(\u001b[49m\u001b[38;5;28;43mself\u001b[39;49m\u001b[43m,\u001b[49m\u001b[43m \u001b[49m\u001b[38;5;241;43m*\u001b[39;49m\u001b[43margs\u001b[49m\u001b[43m,\u001b[49m\u001b[43m \u001b[49m\u001b[38;5;241;43m*\u001b[39;49m\u001b[38;5;241;43m*\u001b[39;49m\u001b[43mkwargs\u001b[49m\u001b[43m)\u001b[49m\n\u001b[0;32m     91\u001b[0m     \u001b[38;5;28;01mexcept\u001b[39;00m \u001b[38;5;167;01mException\u001b[39;00m \u001b[38;5;28;01mas\u001b[39;00m e:\n\u001b[0;32m     92\u001b[0m         msg \u001b[38;5;241m=\u001b[39m \u001b[38;5;124mf\u001b[39m\u001b[38;5;124m\"\u001b[39m\u001b[38;5;132;01m{\u001b[39;00m\u001b[38;5;28mstr\u001b[39m(e)\u001b[38;5;132;01m}\u001b[39;00m\u001b[38;5;124m in \u001b[39m\u001b[38;5;132;01m{\u001b[39;00mname\u001b[38;5;132;01m}\u001b[39;00m\u001b[38;5;124m.\u001b[39m\u001b[38;5;124m\"\u001b[39m\n",
      "File \u001b[1;32me:\\Desktop\\Schoole\\ENSET\\BDCC-2\\Semester 3\\POO Java\\@@Project JAVA LLM\\TEST\\File PDF MD TEST\\Ollama-Set-RAG\\.venv\\Lib\\site-packages\\chromadb\\api\\models\\CollectionCommon.py:213\u001b[0m, in \u001b[0;36mCollectionCommon._validate_and_prepare_add_request\u001b[1;34m(self, ids, embeddings, metadatas, documents, images, uris)\u001b[0m\n\u001b[0;32m    211\u001b[0m \u001b[38;5;28;01mif\u001b[39;00m add_records[\u001b[38;5;124m\"\u001b[39m\u001b[38;5;124membeddings\u001b[39m\u001b[38;5;124m\"\u001b[39m] \u001b[38;5;129;01mis\u001b[39;00m \u001b[38;5;28;01mNone\u001b[39;00m:\n\u001b[0;32m    212\u001b[0m     validate_record_set_for_embedding(record_set\u001b[38;5;241m=\u001b[39madd_records)\n\u001b[1;32m--> 213\u001b[0m     add_embeddings \u001b[38;5;241m=\u001b[39m \u001b[38;5;28;43mself\u001b[39;49m\u001b[38;5;241;43m.\u001b[39;49m\u001b[43m_embed_record_set\u001b[49m\u001b[43m(\u001b[49m\u001b[43mrecord_set\u001b[49m\u001b[38;5;241;43m=\u001b[39;49m\u001b[43madd_records\u001b[49m\u001b[43m)\u001b[49m\n\u001b[0;32m    214\u001b[0m \u001b[38;5;28;01melse\u001b[39;00m:\n\u001b[0;32m    215\u001b[0m     add_embeddings \u001b[38;5;241m=\u001b[39m add_records[\u001b[38;5;124m\"\u001b[39m\u001b[38;5;124membeddings\u001b[39m\u001b[38;5;124m\"\u001b[39m]\n",
      "File \u001b[1;32me:\\Desktop\\Schoole\\ENSET\\BDCC-2\\Semester 3\\POO Java\\@@Project JAVA LLM\\TEST\\File PDF MD TEST\\Ollama-Set-RAG\\.venv\\Lib\\site-packages\\chromadb\\api\\models\\CollectionCommon.py:526\u001b[0m, in \u001b[0;36mCollectionCommon._embed_record_set\u001b[1;34m(self, record_set, embeddable_fields)\u001b[0m\n\u001b[0;32m    522\u001b[0m             \u001b[38;5;28;01mreturn\u001b[39;00m \u001b[38;5;28mself\u001b[39m\u001b[38;5;241m.\u001b[39m_embed(\n\u001b[0;32m    523\u001b[0m                 \u001b[38;5;28minput\u001b[39m\u001b[38;5;241m=\u001b[39m\u001b[38;5;28mself\u001b[39m\u001b[38;5;241m.\u001b[39m_data_loader(uris\u001b[38;5;241m=\u001b[39mcast(URIs, record_set[field]))  \u001b[38;5;66;03m# type: ignore[literal-required]\u001b[39;00m\n\u001b[0;32m    524\u001b[0m             )\n\u001b[0;32m    525\u001b[0m         \u001b[38;5;28;01melse\u001b[39;00m:\n\u001b[1;32m--> 526\u001b[0m             \u001b[38;5;28;01mreturn\u001b[39;00m \u001b[38;5;28;43mself\u001b[39;49m\u001b[38;5;241;43m.\u001b[39;49m\u001b[43m_embed\u001b[49m\u001b[43m(\u001b[49m\u001b[38;5;28;43minput\u001b[39;49m\u001b[38;5;241;43m=\u001b[39;49m\u001b[43mrecord_set\u001b[49m\u001b[43m[\u001b[49m\u001b[43mfield\u001b[49m\u001b[43m]\u001b[49m\u001b[43m)\u001b[49m  \u001b[38;5;66;03m# type: ignore[literal-required]\u001b[39;00m\n\u001b[0;32m    527\u001b[0m \u001b[38;5;28;01mraise\u001b[39;00m \u001b[38;5;167;01mValueError\u001b[39;00m(\n\u001b[0;32m    528\u001b[0m     \u001b[38;5;124m\"\u001b[39m\u001b[38;5;124mRecord does not contain any non-None fields that can be embedded.\u001b[39m\u001b[38;5;124m\"\u001b[39m\n\u001b[0;32m    529\u001b[0m     \u001b[38;5;124mf\u001b[39m\u001b[38;5;124m\"\u001b[39m\u001b[38;5;124mEmbeddable Fields: \u001b[39m\u001b[38;5;132;01m{\u001b[39;00membeddable_fields\u001b[38;5;132;01m}\u001b[39;00m\u001b[38;5;124m\"\u001b[39m\n\u001b[0;32m    530\u001b[0m     \u001b[38;5;124mf\u001b[39m\u001b[38;5;124m\"\u001b[39m\u001b[38;5;124mRecord Fields: \u001b[39m\u001b[38;5;132;01m{\u001b[39;00mrecord_set\u001b[38;5;132;01m}\u001b[39;00m\u001b[38;5;124m\"\u001b[39m\n\u001b[0;32m    531\u001b[0m )\n",
      "File \u001b[1;32me:\\Desktop\\Schoole\\ENSET\\BDCC-2\\Semester 3\\POO Java\\@@Project JAVA LLM\\TEST\\File PDF MD TEST\\Ollama-Set-RAG\\.venv\\Lib\\site-packages\\chromadb\\api\\models\\CollectionCommon.py:539\u001b[0m, in \u001b[0;36mCollectionCommon._embed\u001b[1;34m(self, input)\u001b[0m\n\u001b[0;32m    534\u001b[0m \u001b[38;5;28;01mif\u001b[39;00m \u001b[38;5;28mself\u001b[39m\u001b[38;5;241m.\u001b[39m_embedding_function \u001b[38;5;129;01mis\u001b[39;00m \u001b[38;5;28;01mNone\u001b[39;00m:\n\u001b[0;32m    535\u001b[0m     \u001b[38;5;28;01mraise\u001b[39;00m \u001b[38;5;167;01mValueError\u001b[39;00m(\n\u001b[0;32m    536\u001b[0m         \u001b[38;5;124m\"\u001b[39m\u001b[38;5;124mYou must provide an embedding function to compute embeddings.\u001b[39m\u001b[38;5;124m\"\u001b[39m\n\u001b[0;32m    537\u001b[0m         \u001b[38;5;124m\"\u001b[39m\u001b[38;5;124mhttps://docs.trychroma.com/guides/embeddings\u001b[39m\u001b[38;5;124m\"\u001b[39m\n\u001b[0;32m    538\u001b[0m     )\n\u001b[1;32m--> 539\u001b[0m \u001b[38;5;28;01mreturn\u001b[39;00m \u001b[38;5;28;43mself\u001b[39;49m\u001b[38;5;241;43m.\u001b[39;49m\u001b[43m_embedding_function\u001b[49m\u001b[43m(\u001b[49m\u001b[38;5;28;43minput\u001b[39;49m\u001b[38;5;241;43m=\u001b[39;49m\u001b[38;5;28;43minput\u001b[39;49m\u001b[43m)\u001b[49m\n",
      "File \u001b[1;32me:\\Desktop\\Schoole\\ENSET\\BDCC-2\\Semester 3\\POO Java\\@@Project JAVA LLM\\TEST\\File PDF MD TEST\\Ollama-Set-RAG\\.venv\\Lib\\site-packages\\chromadb\\api\\types.py:466\u001b[0m, in \u001b[0;36mEmbeddingFunction.__init_subclass__.<locals>.__call__\u001b[1;34m(self, input)\u001b[0m\n\u001b[0;32m    465\u001b[0m \u001b[38;5;28;01mdef\u001b[39;00m \u001b[38;5;21m__call__\u001b[39m(\u001b[38;5;28mself\u001b[39m: EmbeddingFunction[D], \u001b[38;5;28minput\u001b[39m: D) \u001b[38;5;241m-\u001b[39m\u001b[38;5;241m>\u001b[39m Embeddings:\n\u001b[1;32m--> 466\u001b[0m     result \u001b[38;5;241m=\u001b[39m \u001b[43mcall\u001b[49m\u001b[43m(\u001b[49m\u001b[38;5;28;43mself\u001b[39;49m\u001b[43m,\u001b[49m\u001b[43m \u001b[49m\u001b[38;5;28;43minput\u001b[39;49m\u001b[43m)\u001b[49m\n\u001b[0;32m    467\u001b[0m     \u001b[38;5;28;01massert\u001b[39;00m result \u001b[38;5;129;01mis\u001b[39;00m \u001b[38;5;129;01mnot\u001b[39;00m \u001b[38;5;28;01mNone\u001b[39;00m\n\u001b[0;32m    468\u001b[0m     \u001b[38;5;28;01mreturn\u001b[39;00m validate_embeddings(cast(Embeddings, normalize_embeddings(result)))\n",
      "File \u001b[1;32me:\\Desktop\\Schoole\\ENSET\\BDCC-2\\Semester 3\\POO Java\\@@Project JAVA LLM\\TEST\\File PDF MD TEST\\Ollama-Set-RAG\\.venv\\Lib\\site-packages\\chromadb\\utils\\embedding_functions\\onnx_mini_lm_l6_v2.py:200\u001b[0m, in \u001b[0;36mONNXMiniLM_L6_V2.__call__\u001b[1;34m(self, input)\u001b[0m\n\u001b[0;32m    197\u001b[0m \u001b[38;5;28;01mdef\u001b[39;00m \u001b[38;5;21m__call__\u001b[39m(\u001b[38;5;28mself\u001b[39m, \u001b[38;5;28minput\u001b[39m: Documents) \u001b[38;5;241m-\u001b[39m\u001b[38;5;241m>\u001b[39m Embeddings:\n\u001b[0;32m    198\u001b[0m     \u001b[38;5;66;03m# Only download the model when it is actually used\u001b[39;00m\n\u001b[0;32m    199\u001b[0m     \u001b[38;5;28mself\u001b[39m\u001b[38;5;241m.\u001b[39m_download_model_if_not_exists()\n\u001b[1;32m--> 200\u001b[0m     \u001b[38;5;28;01mreturn\u001b[39;00m cast(Embeddings, \u001b[38;5;28;43mself\u001b[39;49m\u001b[38;5;241;43m.\u001b[39;49m\u001b[43m_forward\u001b[49m\u001b[43m(\u001b[49m\u001b[38;5;28;43minput\u001b[39;49m\u001b[43m)\u001b[49m)\n",
      "File \u001b[1;32me:\\Desktop\\Schoole\\ENSET\\BDCC-2\\Semester 3\\POO Java\\@@Project JAVA LLM\\TEST\\File PDF MD TEST\\Ollama-Set-RAG\\.venv\\Lib\\site-packages\\chromadb\\utils\\embedding_functions\\onnx_mini_lm_l6_v2.py:143\u001b[0m, in \u001b[0;36mONNXMiniLM_L6_V2._forward\u001b[1;34m(self, documents, batch_size)\u001b[0m\n\u001b[0;32m    134\u001b[0m attention_mask \u001b[38;5;241m=\u001b[39m np\u001b[38;5;241m.\u001b[39marray([e\u001b[38;5;241m.\u001b[39mattention_mask \u001b[38;5;28;01mfor\u001b[39;00m e \u001b[38;5;129;01min\u001b[39;00m encoded])\n\u001b[0;32m    135\u001b[0m onnx_input \u001b[38;5;241m=\u001b[39m {\n\u001b[0;32m    136\u001b[0m     \u001b[38;5;124m\"\u001b[39m\u001b[38;5;124minput_ids\u001b[39m\u001b[38;5;124m\"\u001b[39m: np\u001b[38;5;241m.\u001b[39marray(input_ids, dtype\u001b[38;5;241m=\u001b[39mnp\u001b[38;5;241m.\u001b[39mint64),\n\u001b[0;32m    137\u001b[0m     \u001b[38;5;124m\"\u001b[39m\u001b[38;5;124mattention_mask\u001b[39m\u001b[38;5;124m\"\u001b[39m: np\u001b[38;5;241m.\u001b[39marray(attention_mask, dtype\u001b[38;5;241m=\u001b[39mnp\u001b[38;5;241m.\u001b[39mint64),\n\u001b[1;32m   (...)\u001b[0m\n\u001b[0;32m    141\u001b[0m     ),\n\u001b[0;32m    142\u001b[0m }\n\u001b[1;32m--> 143\u001b[0m model_output \u001b[38;5;241m=\u001b[39m \u001b[38;5;28;43mself\u001b[39;49m\u001b[38;5;241;43m.\u001b[39;49m\u001b[43mmodel\u001b[49m\u001b[38;5;241;43m.\u001b[39;49m\u001b[43mrun\u001b[49m\u001b[43m(\u001b[49m\u001b[38;5;28;43;01mNone\u001b[39;49;00m\u001b[43m,\u001b[49m\u001b[43m \u001b[49m\u001b[43monnx_input\u001b[49m\u001b[43m)\u001b[49m\n\u001b[0;32m    144\u001b[0m last_hidden_state \u001b[38;5;241m=\u001b[39m model_output[\u001b[38;5;241m0\u001b[39m]\n\u001b[0;32m    145\u001b[0m \u001b[38;5;66;03m# Perform mean pooling with attention weighting\u001b[39;00m\n",
      "File \u001b[1;32me:\\Desktop\\Schoole\\ENSET\\BDCC-2\\Semester 3\\POO Java\\@@Project JAVA LLM\\TEST\\File PDF MD TEST\\Ollama-Set-RAG\\.venv\\Lib\\site-packages\\onnxruntime\\capi\\onnxruntime_inference_collection.py:266\u001b[0m, in \u001b[0;36mSession.run\u001b[1;34m(self, output_names, input_feed, run_options)\u001b[0m\n\u001b[0;32m    264\u001b[0m     output_names \u001b[38;5;241m=\u001b[39m [output\u001b[38;5;241m.\u001b[39mname \u001b[38;5;28;01mfor\u001b[39;00m output \u001b[38;5;129;01min\u001b[39;00m \u001b[38;5;28mself\u001b[39m\u001b[38;5;241m.\u001b[39m_outputs_meta]\n\u001b[0;32m    265\u001b[0m \u001b[38;5;28;01mtry\u001b[39;00m:\n\u001b[1;32m--> 266\u001b[0m     \u001b[38;5;28;01mreturn\u001b[39;00m \u001b[38;5;28;43mself\u001b[39;49m\u001b[38;5;241;43m.\u001b[39;49m\u001b[43m_sess\u001b[49m\u001b[38;5;241;43m.\u001b[39;49m\u001b[43mrun\u001b[49m\u001b[43m(\u001b[49m\u001b[43moutput_names\u001b[49m\u001b[43m,\u001b[49m\u001b[43m \u001b[49m\u001b[43minput_feed\u001b[49m\u001b[43m,\u001b[49m\u001b[43m \u001b[49m\u001b[43mrun_options\u001b[49m\u001b[43m)\u001b[49m\n\u001b[0;32m    267\u001b[0m \u001b[38;5;28;01mexcept\u001b[39;00m C\u001b[38;5;241m.\u001b[39mEPFail \u001b[38;5;28;01mas\u001b[39;00m err:\n\u001b[0;32m    268\u001b[0m     \u001b[38;5;28;01mif\u001b[39;00m \u001b[38;5;28mself\u001b[39m\u001b[38;5;241m.\u001b[39m_enable_fallback:\n",
      "\u001b[1;31mKeyboardInterrupt\u001b[0m: "
     ]
    }
   ],
   "source": [
    "# Loop through each directory and add it to the collection\n",
    "for idx, chunk_dir in enumerate(chunk_dirs, 1):\n",
    "    # If the chunk is the one we need to resume, start from the last row index\n",
    "    if start_chunk and chunk_dir == start_chunk:\n",
    "        dataset_chunk = Dataset.load_from_disk(os.path.join(dataset_dir, chunk_dir))\n",
    "        total_rows = len(dataset_chunk)\n",
    "        # Process rows from the saved row index onwards\n",
    "        for row_idx, first_row in enumerate(tqdm(dataset_chunk, desc=f\"Processing {chunk_dir}\", total=total_rows-start_row_idx, ncols=100, unit=\"row\"), start=start_row_idx):\n",
    "            # Prepare the data for adding to the collection\n",
    "            ids = [str(first_row['id'])]  # Assuming 'id' is the unique identifier\n",
    "            documents = [first_row['snippet']]  # Assuming 'snippet' contains the code/text to store\n",
    "            metadatas = [{\n",
    "                \"type\": \"snippet\",\n",
    "                \"repo\": first_row['repo_file_name'],\n",
    "                \"language\": first_row['language']\n",
    "            }]\n",
    "            \n",
    "            # Add the data to the collection\n",
    "            collection.add(\n",
    "                ids=ids,\n",
    "                documents=documents,\n",
    "                metadatas=metadatas\n",
    "            )\n",
    "            \n",
    "            # Save progress after each row\n",
    "            save_progress(chunk_dir, row_idx + 1)\n",
    "        \n",
    "        # After completing this chunk, reset to None\n",
    "        start_chunk = None  # Reset after the starting chunk is processed\n",
    "        print(f\"Completed {chunk_dir} chunk.\\n\")\n",
    "    else:\n",
    "        # Load the dataset chunk from the directory\n",
    "        dataset_chunk = Dataset.load_from_disk(os.path.join(dataset_dir, chunk_dir))\n",
    "        total_rows = len(dataset_chunk)\n",
    "        \n",
    "        # Iterate over each row in the dataset chunk\n",
    "        for row_idx, first_row in enumerate(tqdm(dataset_chunk, desc=f\"Processing {chunk_dir}\", total=total_rows, ncols=100, unit=\"row\")):\n",
    "            # Prepare the data for adding to the collection\n",
    "            ids = [str(first_row['id'])]  # Assuming 'id' is the unique identifier\n",
    "            documents = [first_row['snippet']]  # Assuming 'snippet' contains the code/text to store\n",
    "            metadatas = [{\n",
    "                \"type\": \"snippet\",\n",
    "                \"repo\": first_row['repo_file_name'],\n",
    "                \"language\": first_row['language']\n",
    "            }]\n",
    "            \n",
    "            # Add the data to the collection\n",
    "            collection.add(\n",
    "                ids=ids,\n",
    "                documents=documents,\n",
    "                metadatas=metadatas\n",
    "            )\n",
    "            \n",
    "            # Save progress after each row\n",
    "            save_progress(chunk_dir, row_idx + 1)\n",
    "        \n",
    "        # After completing this chunk, print that it's done and move to next\n",
    "        print(f\"Completed {chunk_dir} chunk.\\n\")\n",
    "\n",
    "    # Calculate percentage of chunks processed\n",
    "    chunk_progress = (idx / total_chunks) * 100\n",
    "    print(f\"Processed {idx}/{total_chunks} chunks ({chunk_progress:.2f}%)\", end=\"\\r\")\n",
    "\n",
    "print(\"\\nAll chunks have been added to the collection!\")"
   ]
  },
  {
   "cell_type": "code",
   "execution_count": 4,
   "metadata": {},
   "outputs": [
    {
     "data": {
      "text/plain": [
       "{'ids': [],\n",
       " 'embeddings': array([], dtype=float64),\n",
       " 'documents': [],\n",
       " 'uris': None,\n",
       " 'data': None,\n",
       " 'metadatas': [],\n",
       " 'included': [<IncludeEnum.embeddings: 'embeddings'>,\n",
       "  <IncludeEnum.documents: 'documents'>,\n",
       "  <IncludeEnum.metadatas: 'metadatas'>]}"
      ]
     },
     "execution_count": 4,
     "metadata": {},
     "output_type": "execute_result"
    }
   ],
   "source": [
    "collection.peek()"
   ]
  },
  {
   "cell_type": "markdown",
   "metadata": {},
   "source": [
    "---\n",
    "### **Step 5: After the collection is ready, we can query it using the query() method of the collection and print the results returned by the query().**"
   ]
  },
  {
   "cell_type": "code",
   "execution_count": 23,
   "metadata": {},
   "outputs": [
    {
     "name": "stdout",
     "output_type": "stream",
     "text": [
      "{'ids': [['88884', '91245', '91029']], 'embeddings': None, 'documents': [['                    @Override\\r\\n                    public int compare(InetSocketAddress o1, InetSocketAddress o2) {\\r\\n                        if (o1.equals(o2)) {\\r\\n                            return 0;\\r\\n                        }\\r\\n', '\\r\\n    @Override\\r\\n    public int compare(InetAddress o1, InetAddress o2) {\\r\\n        if (o1.getClass() == o2.getClass()) {\\r\\n            return 0;\\r\\n', '            return Long.MIN_VALUE;\\r\\n        }\\r\\n\\r\\n        @Override\\r\\n        public int compareTo(Delayed o) {\\r\\n']], 'uris': None, 'data': None, 'metadatas': [[{'language': 'Java', 'repo': 'netty/netty/resolver-dns/src/test/java/io/netty/resolver/dns/DefaultAuthoritativeDnsServerCacheTest.java', 'type': 'snippet'}, {'language': 'Java', 'repo': 'netty/netty/resolver-dns/src/main/java/io/netty/resolver/dns/PreferredAddressTypeComparator.java', 'type': 'snippet'}, {'language': 'Java', 'repo': 'netty/netty/resolver-dns/src/main/java/io/netty/resolver/dns/Cache.java', 'type': 'snippet'}]], 'distances': [[1.0026335716247559, 1.0093507766723633, 1.019273042678833]], 'included': [<IncludeEnum.distances: 'distances'>, <IncludeEnum.documents: 'documents'>, <IncludeEnum.metadatas: 'metadatas'>]}\n"
     ]
    }
   ],
   "source": [
    "results = collection.query(query_texts=\"compareTo function\", n_results=3)\n",
    "\n",
    "print(results)"
   ]
  },
  {
   "cell_type": "code",
   "execution_count": 26,
   "metadata": {},
   "outputs": [
    {
     "name": "stderr",
     "output_type": "stream",
     "text": [
      "Number of requested results 10000 is greater than number of elements in index 3696, updating n_results = 3696\n"
     ]
    },
    {
     "name": "stdout",
     "output_type": "stream",
     "text": [
      "Entire collection data saved to ./JavaCodeSnippetsDB\\full_collection_data.json\n"
     ]
    }
   ],
   "source": [
    "# # Use a query without any filters to fetch all items\n",
    "# results = collection.query(query_texts=\"*\", n_results=10000)  # Adjust the n_results as needed (limit)\n",
    "\n",
    "# # Ensure the directory exists\n",
    "# directory_path = './JavaCodeSnippetsDB'\n",
    "# if not os.path.exists(directory_path):\n",
    "#     os.makedirs(directory_path)\n",
    "\n",
    "# # Define the path for the file to save the results\n",
    "# file_path = os.path.join(directory_path, 'full_collection_data.json')\n",
    "\n",
    "# # Save the entire collection data to a JSON file\n",
    "# with open(file_path, 'w') as f:\n",
    "#     json.dump(results, f)\n",
    "\n",
    "# print(f\"Entire collection data saved to {file_path}\")"
   ]
  }
 ],
 "metadata": {
  "kernelspec": {
   "display_name": ".venv",
   "language": "python",
   "name": "python3"
  },
  "language_info": {
   "codemirror_mode": {
    "name": "ipython",
    "version": 3
   },
   "file_extension": ".py",
   "mimetype": "text/x-python",
   "name": "python",
   "nbconvert_exporter": "python",
   "pygments_lexer": "ipython3",
   "version": "3.12.6"
  }
 },
 "nbformat": 4,
 "nbformat_minor": 4
}
